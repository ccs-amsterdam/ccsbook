{
 "cells": [
  {
   "cell_type": "code",
   "execution_count": 2,
   "metadata": {},
   "outputs": [
    {
     "name": "stderr",
     "output_type": "stream",
     "text": [
      "── \u001b[1mAttaching packages\u001b[22m ─────────────────────────────────────────────────────────────────────────────────────────────────────────────────────────────────────────────────────────────────────────── tidyverse 1.3.1 ──\n",
      "\n",
      "\u001b[32m✔\u001b[39m \u001b[34mggplot2\u001b[39m 3.3.3     \u001b[32m✔\u001b[39m \u001b[34mpurrr  \u001b[39m 0.3.4\n",
      "\u001b[32m✔\u001b[39m \u001b[34mtibble \u001b[39m 3.1.3     \u001b[32m✔\u001b[39m \u001b[34mdplyr  \u001b[39m 1.0.7\n",
      "\u001b[32m✔\u001b[39m \u001b[34mtidyr  \u001b[39m 1.1.3     \u001b[32m✔\u001b[39m \u001b[34mstringr\u001b[39m 1.4.0\n",
      "\u001b[32m✔\u001b[39m \u001b[34mreadr  \u001b[39m 1.4.0     \u001b[32m✔\u001b[39m \u001b[34mforcats\u001b[39m 0.5.1\n",
      "\n",
      "── \u001b[1mConflicts\u001b[22m ────────────────────────────────────────────────────────────────────────────────────────────────────────────────────────────────────────────────────────────────────────────── tidyverse_conflicts() ──\n",
      "\u001b[31m✖\u001b[39m \u001b[34mdplyr\u001b[39m::\u001b[32mfilter()\u001b[39m masks \u001b[34mstats\u001b[39m::filter()\n",
      "\u001b[31m✖\u001b[39m \u001b[34mdplyr\u001b[39m::\u001b[32mlag()\u001b[39m    masks \u001b[34mstats\u001b[39m::lag()\n",
      "\n"
     ]
    }
   ],
   "source": [
    "library(tidyverse)\n"
   ]
  },
  {
   "cell_type": "code",
   "execution_count": 2,
   "metadata": {
    "scrolled": true,
    "tags": [
     "output:table",
     "snippet:piketty_1"
    ]
   },
   "outputs": [
    {
     "name": "stderr",
     "output_type": "stream",
     "text": [
      "\n",
      "\u001b[36m──\u001b[39m \u001b[1m\u001b[1mColumn specification\u001b[1m\u001b[22m \u001b[36m────────────────────────────────────────────────────────────────────────────────────────────────────────────────────────────────────────────────────────────────────────────────────────────\u001b[39m\n",
      "cols(\n",
      "  Year = \u001b[32mcol_double()\u001b[39m,\n",
      "  U.S. = \u001b[32mcol_double()\u001b[39m,\n",
      "  Japan = \u001b[32mcol_double()\u001b[39m,\n",
      "  Germany = \u001b[32mcol_double()\u001b[39m,\n",
      "  France = \u001b[32mcol_double()\u001b[39m,\n",
      "  U.K. = \u001b[32mcol_double()\u001b[39m,\n",
      "  Italy = \u001b[32mcol_double()\u001b[39m,\n",
      "  Canada = \u001b[32mcol_double()\u001b[39m,\n",
      "  Australia = \u001b[32mcol_double()\u001b[39m,\n",
      "  Spain = \u001b[32mcol_double()\u001b[39m\n",
      ")\n",
      "\n",
      "\n"
     ]
    },
    {
     "data": {
      "text/html": [
       "<table class=\"dataframe\">\n",
       "<caption>A tibble: 6 × 10</caption>\n",
       "<thead>\n",
       "\t<tr><th scope=col>Year</th><th scope=col>U.S.</th><th scope=col>Japan</th><th scope=col>Germany</th><th scope=col>France</th><th scope=col>U.K.</th><th scope=col>Italy</th><th scope=col>Canada</th><th scope=col>Australia</th><th scope=col>Spain</th></tr>\n",
       "\t<tr><th scope=col>&lt;dbl&gt;</th><th scope=col>&lt;dbl&gt;</th><th scope=col>&lt;dbl&gt;</th><th scope=col>&lt;dbl&gt;</th><th scope=col>&lt;dbl&gt;</th><th scope=col>&lt;dbl&gt;</th><th scope=col>&lt;dbl&gt;</th><th scope=col>&lt;dbl&gt;</th><th scope=col>&lt;dbl&gt;</th><th scope=col>&lt;dbl&gt;</th></tr>\n",
       "</thead>\n",
       "<tbody>\n",
       "\t<tr><td>2005</td><td>4.70</td><td>5.74</td><td>3.84</td><td>5.00</td><td>4.99</td><td>6.24</td><td>3.73</td><td>5.22</td><td>7.24</td></tr>\n",
       "\t<tr><td>2006</td><td>4.88</td><td>5.83</td><td>3.78</td><td>5.34</td><td>5.19</td><td>6.37</td><td>3.88</td><td>5.32</td><td>7.69</td></tr>\n",
       "\t<tr><td>2007</td><td>4.94</td><td>5.79</td><td>3.79</td><td>5.53</td><td>5.23</td><td>6.42</td><td>4.02</td><td>5.55</td><td>7.92</td></tr>\n",
       "\t<tr><td>2008</td><td>4.36</td><td>5.87</td><td>3.90</td><td>5.53</td><td>4.91</td><td>6.61</td><td>3.83</td><td>5.44</td><td>7.86</td></tr>\n",
       "\t<tr><td>2009</td><td>4.06</td><td>6.19</td><td>4.15</td><td>5.63</td><td>5.04</td><td>6.91</td><td>4.13</td><td>5.04</td><td>7.89</td></tr>\n",
       "\t<tr><td>2010</td><td>4.10</td><td>6.01</td><td>4.12</td><td>5.75</td><td>5.22</td><td>6.76</td><td>4.16</td><td>5.18</td><td>7.55</td></tr>\n",
       "</tbody>\n",
       "</table>\n"
      ],
      "text/latex": [
       "A tibble: 6 × 10\n",
       "\\begin{tabular}{llllllllll}\n",
       " Year & U.S. & Japan & Germany & France & U.K. & Italy & Canada & Australia & Spain\\\\\n",
       " <dbl> & <dbl> & <dbl> & <dbl> & <dbl> & <dbl> & <dbl> & <dbl> & <dbl> & <dbl>\\\\\n",
       "\\hline\n",
       "\t 2005 & 4.70 & 5.74 & 3.84 & 5.00 & 4.99 & 6.24 & 3.73 & 5.22 & 7.24\\\\\n",
       "\t 2006 & 4.88 & 5.83 & 3.78 & 5.34 & 5.19 & 6.37 & 3.88 & 5.32 & 7.69\\\\\n",
       "\t 2007 & 4.94 & 5.79 & 3.79 & 5.53 & 5.23 & 6.42 & 4.02 & 5.55 & 7.92\\\\\n",
       "\t 2008 & 4.36 & 5.87 & 3.90 & 5.53 & 4.91 & 6.61 & 3.83 & 5.44 & 7.86\\\\\n",
       "\t 2009 & 4.06 & 6.19 & 4.15 & 5.63 & 5.04 & 6.91 & 4.13 & 5.04 & 7.89\\\\\n",
       "\t 2010 & 4.10 & 6.01 & 4.12 & 5.75 & 5.22 & 6.76 & 4.16 & 5.18 & 7.55\\\\\n",
       "\\end{tabular}\n"
      ],
      "text/markdown": [
       "\n",
       "A tibble: 6 × 10\n",
       "\n",
       "| Year &lt;dbl&gt; | U.S. &lt;dbl&gt; | Japan &lt;dbl&gt; | Germany &lt;dbl&gt; | France &lt;dbl&gt; | U.K. &lt;dbl&gt; | Italy &lt;dbl&gt; | Canada &lt;dbl&gt; | Australia &lt;dbl&gt; | Spain &lt;dbl&gt; |\n",
       "|---|---|---|---|---|---|---|---|---|---|\n",
       "| 2005 | 4.70 | 5.74 | 3.84 | 5.00 | 4.99 | 6.24 | 3.73 | 5.22 | 7.24 |\n",
       "| 2006 | 4.88 | 5.83 | 3.78 | 5.34 | 5.19 | 6.37 | 3.88 | 5.32 | 7.69 |\n",
       "| 2007 | 4.94 | 5.79 | 3.79 | 5.53 | 5.23 | 6.42 | 4.02 | 5.55 | 7.92 |\n",
       "| 2008 | 4.36 | 5.87 | 3.90 | 5.53 | 4.91 | 6.61 | 3.83 | 5.44 | 7.86 |\n",
       "| 2009 | 4.06 | 6.19 | 4.15 | 5.63 | 5.04 | 6.91 | 4.13 | 5.04 | 7.89 |\n",
       "| 2010 | 4.10 | 6.01 | 4.12 | 5.75 | 5.22 | 6.76 | 4.16 | 5.18 | 7.55 |\n",
       "\n"
      ],
      "text/plain": [
       "  Year U.S. Japan Germany France U.K. Italy Canada Australia Spain\n",
       "1 2005 4.70 5.74  3.84    5.00   4.99 6.24  3.73   5.22      7.24 \n",
       "2 2006 4.88 5.83  3.78    5.34   5.19 6.37  3.88   5.32      7.69 \n",
       "3 2007 4.94 5.79  3.79    5.53   5.23 6.42  4.02   5.55      7.92 \n",
       "4 2008 4.36 5.87  3.90    5.53   4.91 6.61  3.83   5.44      7.86 \n",
       "5 2009 4.06 6.19  4.15    5.63   5.04 6.91  4.13   5.04      7.89 \n",
       "6 2010 4.10 6.01  4.12    5.75   5.22 6.76  4.16   5.18      7.55 "
      ]
     },
     "metadata": {},
     "output_type": "display_data"
    }
   ],
   "source": [
    "url=\"https://cssbook.net/d/private_capital.csv\"\n",
    "private = read_csv(url)\n",
    "tail(private)"
   ]
  },
  {
   "cell_type": "code",
   "execution_count": 3,
   "metadata": {
    "tags": [
     "snippet:piketty_2",
     "output:table"
    ]
   },
   "outputs": [
    {
     "name": "stderr",
     "output_type": "stream",
     "text": [
      "\n",
      "\u001b[36m──\u001b[39m \u001b[1m\u001b[1mColumn specification\u001b[1m\u001b[22m \u001b[36m────────────────────────────────────────────────────────────────────────────────────────────────────────────────────────────────────────────────────────────────────────────────────────────\u001b[39m\n",
      "cols(\n",
      "  Year = \u001b[32mcol_double()\u001b[39m,\n",
      "  U.S. = \u001b[32mcol_double()\u001b[39m,\n",
      "  Japan = \u001b[32mcol_double()\u001b[39m,\n",
      "  Germany = \u001b[32mcol_double()\u001b[39m,\n",
      "  France = \u001b[32mcol_double()\u001b[39m,\n",
      "  U.K. = \u001b[32mcol_double()\u001b[39m,\n",
      "  Italy = \u001b[32mcol_double()\u001b[39m,\n",
      "  Canada = \u001b[32mcol_double()\u001b[39m,\n",
      "  Australia = \u001b[32mcol_double()\u001b[39m,\n",
      "  Spain = \u001b[32mcol_double()\u001b[39m\n",
      ")\n",
      "\n",
      "\n"
     ]
    },
    {
     "data": {
      "text/html": [
       "<table class=\"dataframe\">\n",
       "<caption>A tibble: 6 × 10</caption>\n",
       "<thead>\n",
       "\t<tr><th scope=col>Year</th><th scope=col>U.S.</th><th scope=col>Japan</th><th scope=col>Germany</th><th scope=col>France</th><th scope=col>U.K.</th><th scope=col>Italy</th><th scope=col>Canada</th><th scope=col>Australia</th><th scope=col>Spain</th></tr>\n",
       "\t<tr><th scope=col>&lt;dbl&gt;</th><th scope=col>&lt;dbl&gt;</th><th scope=col>&lt;dbl&gt;</th><th scope=col>&lt;dbl&gt;</th><th scope=col>&lt;dbl&gt;</th><th scope=col>&lt;dbl&gt;</th><th scope=col>&lt;dbl&gt;</th><th scope=col>&lt;dbl&gt;</th><th scope=col>&lt;dbl&gt;</th><th scope=col>&lt;dbl&gt;</th></tr>\n",
       "</thead>\n",
       "<tbody>\n",
       "\t<tr><td>2005</td><td>0.48</td><td>0.34</td><td>0.04</td><td>0.28</td><td>0.32</td><td>-0.56</td><td>-0.16</td><td>0.67</td><td>0.13</td></tr>\n",
       "\t<tr><td>2006</td><td>0.51</td><td>0.36</td><td>0.02</td><td>0.37</td><td>0.32</td><td>-0.54</td><td>-0.10</td><td>0.69</td><td>0.20</td></tr>\n",
       "\t<tr><td>2007</td><td>0.54</td><td>0.38</td><td>0.06</td><td>0.46</td><td>0.32</td><td>-0.52</td><td>-0.03</td><td>0.69</td><td>0.26</td></tr>\n",
       "\t<tr><td>2008</td><td>0.49</td><td>0.34</td><td>0.08</td><td>0.43</td><td>0.28</td><td>-0.52</td><td> 0.00</td><td>0.71</td><td>0.25</td></tr>\n",
       "\t<tr><td>2009</td><td>0.36</td><td>0.24</td><td>0.07</td><td>0.35</td><td>0.19</td><td>-0.65</td><td>-0.02</td><td>0.71</td><td>0.14</td></tr>\n",
       "\t<tr><td>2010</td><td>0.21</td><td>0.14</td><td>0.04</td><td>0.31</td><td>0.06</td><td>-0.68</td><td>-0.04</td><td>0.67</td><td>0.05</td></tr>\n",
       "</tbody>\n",
       "</table>\n"
      ],
      "text/latex": [
       "A tibble: 6 × 10\n",
       "\\begin{tabular}{llllllllll}\n",
       " Year & U.S. & Japan & Germany & France & U.K. & Italy & Canada & Australia & Spain\\\\\n",
       " <dbl> & <dbl> & <dbl> & <dbl> & <dbl> & <dbl> & <dbl> & <dbl> & <dbl> & <dbl>\\\\\n",
       "\\hline\n",
       "\t 2005 & 0.48 & 0.34 & 0.04 & 0.28 & 0.32 & -0.56 & -0.16 & 0.67 & 0.13\\\\\n",
       "\t 2006 & 0.51 & 0.36 & 0.02 & 0.37 & 0.32 & -0.54 & -0.10 & 0.69 & 0.20\\\\\n",
       "\t 2007 & 0.54 & 0.38 & 0.06 & 0.46 & 0.32 & -0.52 & -0.03 & 0.69 & 0.26\\\\\n",
       "\t 2008 & 0.49 & 0.34 & 0.08 & 0.43 & 0.28 & -0.52 &  0.00 & 0.71 & 0.25\\\\\n",
       "\t 2009 & 0.36 & 0.24 & 0.07 & 0.35 & 0.19 & -0.65 & -0.02 & 0.71 & 0.14\\\\\n",
       "\t 2010 & 0.21 & 0.14 & 0.04 & 0.31 & 0.06 & -0.68 & -0.04 & 0.67 & 0.05\\\\\n",
       "\\end{tabular}\n"
      ],
      "text/markdown": [
       "\n",
       "A tibble: 6 × 10\n",
       "\n",
       "| Year &lt;dbl&gt; | U.S. &lt;dbl&gt; | Japan &lt;dbl&gt; | Germany &lt;dbl&gt; | France &lt;dbl&gt; | U.K. &lt;dbl&gt; | Italy &lt;dbl&gt; | Canada &lt;dbl&gt; | Australia &lt;dbl&gt; | Spain &lt;dbl&gt; |\n",
       "|---|---|---|---|---|---|---|---|---|---|\n",
       "| 2005 | 0.48 | 0.34 | 0.04 | 0.28 | 0.32 | -0.56 | -0.16 | 0.67 | 0.13 |\n",
       "| 2006 | 0.51 | 0.36 | 0.02 | 0.37 | 0.32 | -0.54 | -0.10 | 0.69 | 0.20 |\n",
       "| 2007 | 0.54 | 0.38 | 0.06 | 0.46 | 0.32 | -0.52 | -0.03 | 0.69 | 0.26 |\n",
       "| 2008 | 0.49 | 0.34 | 0.08 | 0.43 | 0.28 | -0.52 |  0.00 | 0.71 | 0.25 |\n",
       "| 2009 | 0.36 | 0.24 | 0.07 | 0.35 | 0.19 | -0.65 | -0.02 | 0.71 | 0.14 |\n",
       "| 2010 | 0.21 | 0.14 | 0.04 | 0.31 | 0.06 | -0.68 | -0.04 | 0.67 | 0.05 |\n",
       "\n"
      ],
      "text/plain": [
       "  Year U.S. Japan Germany France U.K. Italy Canada Australia Spain\n",
       "1 2005 0.48 0.34  0.04    0.28   0.32 -0.56 -0.16  0.67      0.13 \n",
       "2 2006 0.51 0.36  0.02    0.37   0.32 -0.54 -0.10  0.69      0.20 \n",
       "3 2007 0.54 0.38  0.06    0.46   0.32 -0.52 -0.03  0.69      0.26 \n",
       "4 2008 0.49 0.34  0.08    0.43   0.28 -0.52  0.00  0.71      0.25 \n",
       "5 2009 0.36 0.24  0.07    0.35   0.19 -0.65 -0.02  0.71      0.14 \n",
       "6 2010 0.21 0.14  0.04    0.31   0.06 -0.68 -0.04  0.67      0.05 "
      ]
     },
     "metadata": {},
     "output_type": "display_data"
    }
   ],
   "source": [
    "url = \"https://cssbook.net/d/public_capital.csv\"\n",
    "public = read_csv(url)\n",
    "tail(public)"
   ]
  },
  {
   "cell_type": "code",
   "execution_count": 4,
   "metadata": {
    "tags": [
     "snippet:capital_1",
     "output:table"
    ]
   },
   "outputs": [
    {
     "name": "stderr",
     "output_type": "stream",
     "text": [
      "Joining, by = \"Year\"\n",
      "\n"
     ]
    },
    {
     "data": {
      "text/html": [
       "<table class=\"dataframe\">\n",
       "<caption>A tibble: 6 × 3</caption>\n",
       "<thead>\n",
       "\t<tr><th scope=col>Year</th><th scope=col>fr_private</th><th scope=col>fr_public</th></tr>\n",
       "\t<tr><th scope=col>&lt;dbl&gt;</th><th scope=col>&lt;dbl&gt;</th><th scope=col>&lt;dbl&gt;</th></tr>\n",
       "</thead>\n",
       "<tbody>\n",
       "\t<tr><td>1970</td><td>3.10</td><td>0.41</td></tr>\n",
       "\t<tr><td>1971</td><td>3.04</td><td>0.43</td></tr>\n",
       "\t<tr><td>1972</td><td>3.07</td><td>0.45</td></tr>\n",
       "\t<tr><td>1973</td><td>3.05</td><td>0.46</td></tr>\n",
       "\t<tr><td>1974</td><td>3.03</td><td>0.48</td></tr>\n",
       "\t<tr><td>1975</td><td>3.17</td><td>0.53</td></tr>\n",
       "</tbody>\n",
       "</table>\n"
      ],
      "text/latex": [
       "A tibble: 6 × 3\n",
       "\\begin{tabular}{lll}\n",
       " Year & fr\\_private & fr\\_public\\\\\n",
       " <dbl> & <dbl> & <dbl>\\\\\n",
       "\\hline\n",
       "\t 1970 & 3.10 & 0.41\\\\\n",
       "\t 1971 & 3.04 & 0.43\\\\\n",
       "\t 1972 & 3.07 & 0.45\\\\\n",
       "\t 1973 & 3.05 & 0.46\\\\\n",
       "\t 1974 & 3.03 & 0.48\\\\\n",
       "\t 1975 & 3.17 & 0.53\\\\\n",
       "\\end{tabular}\n"
      ],
      "text/markdown": [
       "\n",
       "A tibble: 6 × 3\n",
       "\n",
       "| Year &lt;dbl&gt; | fr_private &lt;dbl&gt; | fr_public &lt;dbl&gt; |\n",
       "|---|---|---|\n",
       "| 1970 | 3.10 | 0.41 |\n",
       "| 1971 | 3.04 | 0.43 |\n",
       "| 1972 | 3.07 | 0.45 |\n",
       "| 1973 | 3.05 | 0.46 |\n",
       "| 1974 | 3.03 | 0.48 |\n",
       "| 1975 | 3.17 | 0.53 |\n",
       "\n"
      ],
      "text/plain": [
       "  Year fr_private fr_public\n",
       "1 1970 3.10       0.41     \n",
       "2 1971 3.04       0.43     \n",
       "3 1972 3.07       0.45     \n",
       "4 1973 3.05       0.46     \n",
       "5 1974 3.03       0.48     \n",
       "6 1975 3.17       0.53     "
      ]
     },
     "metadata": {},
     "output_type": "display_data"
    }
   ],
   "source": [
    "private_fr = private %>% \n",
    "    select(Year, fr_private=France)\n",
    "public_fr = public %>% \n",
    "    select(Year, fr_public=France)\n",
    "capital_fr = full_join(private_fr, public_fr)\n",
    "# Data for Figure 3.6 (Piketty, 2014, p 128)\n",
    "head(capital_fr)"
   ]
  },
  {
   "cell_type": "code",
   "execution_count": 5,
   "metadata": {
    "tags": [
     "snippet:capital_2"
    ]
   },
   "outputs": [
    {
     "data": {
      "text/plain": [
       "\n",
       "\tPearson's product-moment correlation\n",
       "\n",
       "data:  capital_fr$fr_private and capital_fr$fr_public\n",
       "t = -2.1204, df = 39, p-value = 0.04039\n",
       "alternative hypothesis: true correlation is not equal to 0\n",
       "95 percent confidence interval:\n",
       " -0.57252488 -0.01537337\n",
       "sample estimates:\n",
       "       cor \n",
       "-0.3215032 \n"
      ]
     },
     "metadata": {},
     "output_type": "display_data"
    }
   ],
   "source": [
    "# Are private and public capital correlated?\n",
    "cor.test(capital_fr$fr_private, \n",
    "         capital_fr$fr_public)"
   ]
  },
  {
   "cell_type": "code",
   "execution_count": 17,
   "metadata": {
    "tags": [
     "snippet:primary",
     "output:table"
    ]
   },
   "outputs": [
    {
     "name": "stderr",
     "output_type": "stream",
     "text": [
      "\n",
      "\u001b[36m──\u001b[39m \u001b[1m\u001b[1mColumn specification\u001b[1m\u001b[22m \u001b[36m────────────────────────────────────────────────────────────────────────────────────────────────────────────────────────────────────────────────────────────────────────────────────────────\u001b[39m\n",
      "cols(\n",
      "  state = \u001b[31mcol_character()\u001b[39m,\n",
      "  state_abbrev = \u001b[31mcol_character()\u001b[39m,\n",
      "  county = \u001b[31mcol_character()\u001b[39m,\n",
      "  fips = \u001b[32mcol_double()\u001b[39m,\n",
      "  party = \u001b[31mcol_character()\u001b[39m,\n",
      "  candidate = \u001b[31mcol_character()\u001b[39m,\n",
      "  votes = \u001b[32mcol_double()\u001b[39m,\n",
      "  fraction_votes = \u001b[32mcol_double()\u001b[39m\n",
      ")\n",
      "\n",
      "\n"
     ]
    },
    {
     "data": {
      "text/html": [
       "<table class=\"dataframe\">\n",
       "<caption>A tibble: 6 × 8</caption>\n",
       "<thead>\n",
       "\t<tr><th scope=col>state</th><th scope=col>state_abbrev</th><th scope=col>county</th><th scope=col>fips</th><th scope=col>party</th><th scope=col>candidate</th><th scope=col>votes</th><th scope=col>fraction_votes</th></tr>\n",
       "\t<tr><th scope=col>&lt;chr&gt;</th><th scope=col>&lt;chr&gt;</th><th scope=col>&lt;chr&gt;</th><th scope=col>&lt;dbl&gt;</th><th scope=col>&lt;chr&gt;</th><th scope=col>&lt;chr&gt;</th><th scope=col>&lt;dbl&gt;</th><th scope=col>&lt;dbl&gt;</th></tr>\n",
       "</thead>\n",
       "<tbody>\n",
       "\t<tr><td>Alabama</td><td>AL</td><td>Autauga</td><td>1001</td><td>Democrat</td><td>Bernie Sanders </td><td> 544</td><td>0.182</td></tr>\n",
       "\t<tr><td>Alabama</td><td>AL</td><td>Autauga</td><td>1001</td><td>Democrat</td><td>Hillary Clinton</td><td>2387</td><td>0.800</td></tr>\n",
       "\t<tr><td>Alabama</td><td>AL</td><td>Baldwin</td><td>1003</td><td>Democrat</td><td>Bernie Sanders </td><td>2694</td><td>0.329</td></tr>\n",
       "\t<tr><td>Alabama</td><td>AL</td><td>Baldwin</td><td>1003</td><td>Democrat</td><td>Hillary Clinton</td><td>5290</td><td>0.647</td></tr>\n",
       "\t<tr><td>Alabama</td><td>AL</td><td>Barbour</td><td>1005</td><td>Democrat</td><td>Bernie Sanders </td><td> 222</td><td>0.078</td></tr>\n",
       "\t<tr><td>Alabama</td><td>AL</td><td>Barbour</td><td>1005</td><td>Democrat</td><td>Hillary Clinton</td><td>2567</td><td>0.906</td></tr>\n",
       "</tbody>\n",
       "</table>\n"
      ],
      "text/latex": [
       "A tibble: 6 × 8\n",
       "\\begin{tabular}{llllllll}\n",
       " state & state\\_abbrev & county & fips & party & candidate & votes & fraction\\_votes\\\\\n",
       " <chr> & <chr> & <chr> & <dbl> & <chr> & <chr> & <dbl> & <dbl>\\\\\n",
       "\\hline\n",
       "\t Alabama & AL & Autauga & 1001 & Democrat & Bernie Sanders  &  544 & 0.182\\\\\n",
       "\t Alabama & AL & Autauga & 1001 & Democrat & Hillary Clinton & 2387 & 0.800\\\\\n",
       "\t Alabama & AL & Baldwin & 1003 & Democrat & Bernie Sanders  & 2694 & 0.329\\\\\n",
       "\t Alabama & AL & Baldwin & 1003 & Democrat & Hillary Clinton & 5290 & 0.647\\\\\n",
       "\t Alabama & AL & Barbour & 1005 & Democrat & Bernie Sanders  &  222 & 0.078\\\\\n",
       "\t Alabama & AL & Barbour & 1005 & Democrat & Hillary Clinton & 2567 & 0.906\\\\\n",
       "\\end{tabular}\n"
      ],
      "text/markdown": [
       "\n",
       "A tibble: 6 × 8\n",
       "\n",
       "| state &lt;chr&gt; | state_abbrev &lt;chr&gt; | county &lt;chr&gt; | fips &lt;dbl&gt; | party &lt;chr&gt; | candidate &lt;chr&gt; | votes &lt;dbl&gt; | fraction_votes &lt;dbl&gt; |\n",
       "|---|---|---|---|---|---|---|---|\n",
       "| Alabama | AL | Autauga | 1001 | Democrat | Bernie Sanders  |  544 | 0.182 |\n",
       "| Alabama | AL | Autauga | 1001 | Democrat | Hillary Clinton | 2387 | 0.800 |\n",
       "| Alabama | AL | Baldwin | 1003 | Democrat | Bernie Sanders  | 2694 | 0.329 |\n",
       "| Alabama | AL | Baldwin | 1003 | Democrat | Hillary Clinton | 5290 | 0.647 |\n",
       "| Alabama | AL | Barbour | 1005 | Democrat | Bernie Sanders  |  222 | 0.078 |\n",
       "| Alabama | AL | Barbour | 1005 | Democrat | Hillary Clinton | 2567 | 0.906 |\n",
       "\n"
      ],
      "text/plain": [
       "  state   state_abbrev county  fips party    candidate       votes\n",
       "1 Alabama AL           Autauga 1001 Democrat Bernie Sanders   544 \n",
       "2 Alabama AL           Autauga 1001 Democrat Hillary Clinton 2387 \n",
       "3 Alabama AL           Baldwin 1003 Democrat Bernie Sanders  2694 \n",
       "4 Alabama AL           Baldwin 1003 Democrat Hillary Clinton 5290 \n",
       "5 Alabama AL           Barbour 1005 Democrat Bernie Sanders   222 \n",
       "6 Alabama AL           Barbour 1005 Democrat Hillary Clinton 2567 \n",
       "  fraction_votes\n",
       "1 0.182         \n",
       "2 0.800         \n",
       "3 0.329         \n",
       "4 0.647         \n",
       "5 0.078         \n",
       "6 0.906         "
      ]
     },
     "metadata": {},
     "output_type": "display_data"
    }
   ],
   "source": [
    "r=\"https://cssbook.net/d/2016_primary_results.csv\"\n",
    "results = read_csv(r) \n",
    "head(results)"
   ]
  },
  {
   "cell_type": "code",
   "execution_count": 24,
   "metadata": {
    "tags": [
     "snippet:primarya",
     "output:table",
     "colspec:llllXrr"
    ]
   },
   "outputs": [
    {
     "data": {
      "text/html": [
       "<table class=\"dataframe\">\n",
       "<caption>A tibble: 6 × 7</caption>\n",
       "<thead>\n",
       "\t<tr><th scope=col>state</th><th scope=col>county</th><th scope=col>fips</th><th scope=col>party</th><th scope=col>candidate</th><th scope=col>votes</th><th scope=col>fraction_votes</th></tr>\n",
       "\t<tr><th scope=col>&lt;chr&gt;</th><th scope=col>&lt;chr&gt;</th><th scope=col>&lt;dbl&gt;</th><th scope=col>&lt;chr&gt;</th><th scope=col>&lt;chr&gt;</th><th scope=col>&lt;dbl&gt;</th><th scope=col>&lt;dbl&gt;</th></tr>\n",
       "</thead>\n",
       "<tbody>\n",
       "\t<tr><td>Alabama</td><td>Autauga</td><td>1001</td><td>Democrat</td><td>Bernie~Sanders </td><td> 544</td><td>0.182</td></tr>\n",
       "\t<tr><td>Alabama</td><td>Autauga</td><td>1001</td><td>Democrat</td><td>Hillary~Clinton</td><td>2387</td><td>0.800</td></tr>\n",
       "\t<tr><td>Alabama</td><td>Baldwin</td><td>1003</td><td>Democrat</td><td>Bernie~Sanders </td><td>2694</td><td>0.329</td></tr>\n",
       "\t<tr><td>Alabama</td><td>Baldwin</td><td>1003</td><td>Democrat</td><td>Hillary~Clinton</td><td>5290</td><td>0.647</td></tr>\n",
       "\t<tr><td>Alabama</td><td>Barbour</td><td>1005</td><td>Democrat</td><td>Bernie~Sanders </td><td> 222</td><td>0.078</td></tr>\n",
       "\t<tr><td>Alabama</td><td>Barbour</td><td>1005</td><td>Democrat</td><td>Hillary~Clinton</td><td>2567</td><td>0.906</td></tr>\n",
       "</tbody>\n",
       "</table>\n"
      ],
      "text/latex": [
       "A tibble: 6 × 7\n",
       "\\begin{tabular}{lllllll}\n",
       " state & county & fips & party & candidate & votes & fraction\\_votes\\\\\n",
       " <chr> & <chr> & <dbl> & <chr> & <chr> & <dbl> & <dbl>\\\\\n",
       "\\hline\n",
       "\t Alabama & Autauga & 1001 & Democrat & Bernie\\textasciitilde{}Sanders  &  544 & 0.182\\\\\n",
       "\t Alabama & Autauga & 1001 & Democrat & Hillary\\textasciitilde{}Clinton & 2387 & 0.800\\\\\n",
       "\t Alabama & Baldwin & 1003 & Democrat & Bernie\\textasciitilde{}Sanders  & 2694 & 0.329\\\\\n",
       "\t Alabama & Baldwin & 1003 & Democrat & Hillary\\textasciitilde{}Clinton & 5290 & 0.647\\\\\n",
       "\t Alabama & Barbour & 1005 & Democrat & Bernie\\textasciitilde{}Sanders  &  222 & 0.078\\\\\n",
       "\t Alabama & Barbour & 1005 & Democrat & Hillary\\textasciitilde{}Clinton & 2567 & 0.906\\\\\n",
       "\\end{tabular}\n"
      ],
      "text/markdown": [
       "\n",
       "A tibble: 6 × 7\n",
       "\n",
       "| state &lt;chr&gt; | county &lt;chr&gt; | fips &lt;dbl&gt; | party &lt;chr&gt; | candidate &lt;chr&gt; | votes &lt;dbl&gt; | fraction_votes &lt;dbl&gt; |\n",
       "|---|---|---|---|---|---|---|\n",
       "| Alabama | Autauga | 1001 | Democrat | Bernie~Sanders  |  544 | 0.182 |\n",
       "| Alabama | Autauga | 1001 | Democrat | Hillary~Clinton | 2387 | 0.800 |\n",
       "| Alabama | Baldwin | 1003 | Democrat | Bernie~Sanders  | 2694 | 0.329 |\n",
       "| Alabama | Baldwin | 1003 | Democrat | Hillary~Clinton | 5290 | 0.647 |\n",
       "| Alabama | Barbour | 1005 | Democrat | Bernie~Sanders  |  222 | 0.078 |\n",
       "| Alabama | Barbour | 1005 | Democrat | Hillary~Clinton | 2567 | 0.906 |\n",
       "\n"
      ],
      "text/plain": [
       "  state   county  fips party    candidate       votes fraction_votes\n",
       "1 Alabama Autauga 1001 Democrat Bernie~Sanders   544  0.182         \n",
       "2 Alabama Autauga 1001 Democrat Hillary~Clinton 2387  0.800         \n",
       "3 Alabama Baldwin 1003 Democrat Bernie~Sanders  2694  0.329         \n",
       "4 Alabama Baldwin 1003 Democrat Hillary~Clinton 5290  0.647         \n",
       "5 Alabama Barbour 1005 Democrat Bernie~Sanders   222  0.078         \n",
       "6 Alabama Barbour 1005 Democrat Hillary~Clinton 2567  0.906         "
      ]
     },
     "metadata": {},
     "output_type": "display_data"
    }
   ],
   "source": [
    "results %>% mutate(candidate=str_replace_all(candidate, \" \", \"~\")) %>% select(-state_abbrev) %>% head()"
   ]
  },
  {
   "cell_type": "code",
   "execution_count": 4,
   "metadata": {
    "tags": [
     "snippet:primaryb",
     "output:table"
    ]
   },
   "outputs": [
    {
     "name": "stderr",
     "output_type": "stream",
     "text": [
      "\n",
      "\u001b[36m──\u001b[39m \u001b[1m\u001b[1mColumn specification\u001b[1m\u001b[22m \u001b[36m────────────────────────────────────────────────────────────────────────────────────────────────────────────────────────────────────────────────────────────────────────────────────────────\u001b[39m\n",
      "cols(\n",
      "  .default = col_double(),\n",
      "  area_name = \u001b[31mcol_character()\u001b[39m,\n",
      "  state_abbreviation = \u001b[31mcol_character()\u001b[39m\n",
      ")\n",
      "\u001b[36mℹ\u001b[39m Use \u001b[30m\u001b[47m\u001b[30m\u001b[47m`spec()`\u001b[47m\u001b[30m\u001b[49m\u001b[39m for the full column specifications.\n",
      "\n",
      "\n"
     ]
    },
    {
     "data": {
      "text/html": [
       "<table class=\"dataframe\">\n",
       "<caption>A tibble: 6 × 54</caption>\n",
       "<thead>\n",
       "\t<tr><th scope=col>fips</th><th scope=col>area_name</th><th scope=col>state_abbreviation</th><th scope=col>Pop_2014_count</th><th scope=col>Pop_2010_base_count</th><th scope=col>Pop_change_pct</th><th scope=col>Pop_2010_count</th><th scope=col>Age_under_5_pct</th><th scope=col>Age_under_18_pct</th><th scope=col>Age_over_65_pct</th><th scope=col>⋯</th><th scope=col>Business_hispanic_owned_pct</th><th scope=col>Business_female_owned_pct</th><th scope=col>Revenue_manufacture</th><th scope=col>Revenue_wholesaler</th><th scope=col>Revenue_retail</th><th scope=col>Revenue_retail_per_capita</th><th scope=col>Revenue_food_and_hospitality</th><th scope=col>Building_permits</th><th scope=col>Land_area</th><th scope=col>Pop_density</th></tr>\n",
       "\t<tr><th scope=col>&lt;dbl&gt;</th><th scope=col>&lt;chr&gt;</th><th scope=col>&lt;chr&gt;</th><th scope=col>&lt;dbl&gt;</th><th scope=col>&lt;dbl&gt;</th><th scope=col>&lt;dbl&gt;</th><th scope=col>&lt;dbl&gt;</th><th scope=col>&lt;dbl&gt;</th><th scope=col>&lt;dbl&gt;</th><th scope=col>&lt;dbl&gt;</th><th scope=col>⋯</th><th scope=col>&lt;dbl&gt;</th><th scope=col>&lt;dbl&gt;</th><th scope=col>&lt;dbl&gt;</th><th scope=col>&lt;dbl&gt;</th><th scope=col>&lt;dbl&gt;</th><th scope=col>&lt;dbl&gt;</th><th scope=col>&lt;dbl&gt;</th><th scope=col>&lt;dbl&gt;</th><th scope=col>&lt;dbl&gt;</th><th scope=col>&lt;dbl&gt;</th></tr>\n",
       "</thead>\n",
       "<tbody>\n",
       "\t<tr><td>   0</td><td>United States </td><td>NA</td><td>318857056</td><td>308758105</td><td> 3.3</td><td>308745538</td><td>6.2</td><td>23.1</td><td>14.5</td><td>⋯</td><td>8.3</td><td>28.8</td><td>5319456312</td><td>4174286516</td><td>3917663456</td><td>12990</td><td>613795732</td><td>1046363</td><td>3531905.43</td><td> 87.4</td></tr>\n",
       "\t<tr><td>1000</td><td>Alabama       </td><td>NA</td><td>  4849377</td><td>  4780127</td><td> 1.4</td><td>  4779736</td><td>6.1</td><td>22.8</td><td>15.3</td><td>⋯</td><td>1.2</td><td>28.1</td><td> 112858843</td><td>  52252752</td><td>  57344851</td><td>12364</td><td>  6426342</td><td>  13369</td><td>  50645.33</td><td> 94.4</td></tr>\n",
       "\t<tr><td>1001</td><td>Autauga County</td><td>AL</td><td>    55395</td><td>    54571</td><td> 1.5</td><td>    54571</td><td>6.0</td><td>25.2</td><td>13.8</td><td>⋯</td><td>0.7</td><td>31.7</td><td>         0</td><td>         0</td><td>    598175</td><td>12003</td><td>    88157</td><td>    131</td><td>    594.44</td><td> 91.8</td></tr>\n",
       "\t<tr><td>1003</td><td>Baldwin County</td><td>AL</td><td>   200111</td><td>   182265</td><td> 9.8</td><td>   182265</td><td>5.6</td><td>22.2</td><td>18.7</td><td>⋯</td><td>1.3</td><td>27.3</td><td>   1410273</td><td>         0</td><td>   2966489</td><td>17166</td><td>   436955</td><td>   1384</td><td>   1589.78</td><td>114.6</td></tr>\n",
       "\t<tr><td>1005</td><td>Barbour County</td><td>AL</td><td>    26887</td><td>    27457</td><td>-2.1</td><td>    27457</td><td>5.7</td><td>21.2</td><td>16.5</td><td>⋯</td><td>0.0</td><td>27.0</td><td>         0</td><td>         0</td><td>    188337</td><td> 6334</td><td>        0</td><td>      8</td><td>    884.88</td><td> 31.0</td></tr>\n",
       "\t<tr><td>1007</td><td>Bibb County   </td><td>AL</td><td>    22506</td><td>    22919</td><td>-1.8</td><td>    22915</td><td>5.3</td><td>21.0</td><td>14.8</td><td>⋯</td><td>0.0</td><td> 0.0</td><td>         0</td><td>         0</td><td>    124707</td><td> 5804</td><td>    10757</td><td>     19</td><td>    622.58</td><td> 36.8</td></tr>\n",
       "</tbody>\n",
       "</table>\n"
      ],
      "text/latex": [
       "A tibble: 6 × 54\n",
       "\\begin{tabular}{lllllllllllllllllllll}\n",
       " fips & area\\_name & state\\_abbreviation & Pop\\_2014\\_count & Pop\\_2010\\_base\\_count & Pop\\_change\\_pct & Pop\\_2010\\_count & Age\\_under\\_5\\_pct & Age\\_under\\_18\\_pct & Age\\_over\\_65\\_pct & ⋯ & Business\\_hispanic\\_owned\\_pct & Business\\_female\\_owned\\_pct & Revenue\\_manufacture & Revenue\\_wholesaler & Revenue\\_retail & Revenue\\_retail\\_per\\_capita & Revenue\\_food\\_and\\_hospitality & Building\\_permits & Land\\_area & Pop\\_density\\\\\n",
       " <dbl> & <chr> & <chr> & <dbl> & <dbl> & <dbl> & <dbl> & <dbl> & <dbl> & <dbl> & ⋯ & <dbl> & <dbl> & <dbl> & <dbl> & <dbl> & <dbl> & <dbl> & <dbl> & <dbl> & <dbl>\\\\\n",
       "\\hline\n",
       "\t    0 & United States  & NA & 318857056 & 308758105 &  3.3 & 308745538 & 6.2 & 23.1 & 14.5 & ⋯ & 8.3 & 28.8 & 5319456312 & 4174286516 & 3917663456 & 12990 & 613795732 & 1046363 & 3531905.43 &  87.4\\\\\n",
       "\t 1000 & Alabama        & NA &   4849377 &   4780127 &  1.4 &   4779736 & 6.1 & 22.8 & 15.3 & ⋯ & 1.2 & 28.1 &  112858843 &   52252752 &   57344851 & 12364 &   6426342 &   13369 &   50645.33 &  94.4\\\\\n",
       "\t 1001 & Autauga County & AL &     55395 &     54571 &  1.5 &     54571 & 6.0 & 25.2 & 13.8 & ⋯ & 0.7 & 31.7 &          0 &          0 &     598175 & 12003 &     88157 &     131 &     594.44 &  91.8\\\\\n",
       "\t 1003 & Baldwin County & AL &    200111 &    182265 &  9.8 &    182265 & 5.6 & 22.2 & 18.7 & ⋯ & 1.3 & 27.3 &    1410273 &          0 &    2966489 & 17166 &    436955 &    1384 &    1589.78 & 114.6\\\\\n",
       "\t 1005 & Barbour County & AL &     26887 &     27457 & -2.1 &     27457 & 5.7 & 21.2 & 16.5 & ⋯ & 0.0 & 27.0 &          0 &          0 &     188337 &  6334 &         0 &       8 &     884.88 &  31.0\\\\\n",
       "\t 1007 & Bibb County    & AL &     22506 &     22919 & -1.8 &     22915 & 5.3 & 21.0 & 14.8 & ⋯ & 0.0 &  0.0 &          0 &          0 &     124707 &  5804 &     10757 &      19 &     622.58 &  36.8\\\\\n",
       "\\end{tabular}\n"
      ],
      "text/markdown": [
       "\n",
       "A tibble: 6 × 54\n",
       "\n",
       "| fips &lt;dbl&gt; | area_name &lt;chr&gt; | state_abbreviation &lt;chr&gt; | Pop_2014_count &lt;dbl&gt; | Pop_2010_base_count &lt;dbl&gt; | Pop_change_pct &lt;dbl&gt; | Pop_2010_count &lt;dbl&gt; | Age_under_5_pct &lt;dbl&gt; | Age_under_18_pct &lt;dbl&gt; | Age_over_65_pct &lt;dbl&gt; | ⋯ ⋯ | Business_hispanic_owned_pct &lt;dbl&gt; | Business_female_owned_pct &lt;dbl&gt; | Revenue_manufacture &lt;dbl&gt; | Revenue_wholesaler &lt;dbl&gt; | Revenue_retail &lt;dbl&gt; | Revenue_retail_per_capita &lt;dbl&gt; | Revenue_food_and_hospitality &lt;dbl&gt; | Building_permits &lt;dbl&gt; | Land_area &lt;dbl&gt; | Pop_density &lt;dbl&gt; |\n",
       "|---|---|---|---|---|---|---|---|---|---|---|---|---|---|---|---|---|---|---|---|---|\n",
       "|    0 | United States  | NA | 318857056 | 308758105 |  3.3 | 308745538 | 6.2 | 23.1 | 14.5 | ⋯ | 8.3 | 28.8 | 5319456312 | 4174286516 | 3917663456 | 12990 | 613795732 | 1046363 | 3531905.43 |  87.4 |\n",
       "| 1000 | Alabama        | NA |   4849377 |   4780127 |  1.4 |   4779736 | 6.1 | 22.8 | 15.3 | ⋯ | 1.2 | 28.1 |  112858843 |   52252752 |   57344851 | 12364 |   6426342 |   13369 |   50645.33 |  94.4 |\n",
       "| 1001 | Autauga County | AL |     55395 |     54571 |  1.5 |     54571 | 6.0 | 25.2 | 13.8 | ⋯ | 0.7 | 31.7 |          0 |          0 |     598175 | 12003 |     88157 |     131 |     594.44 |  91.8 |\n",
       "| 1003 | Baldwin County | AL |    200111 |    182265 |  9.8 |    182265 | 5.6 | 22.2 | 18.7 | ⋯ | 1.3 | 27.3 |    1410273 |          0 |    2966489 | 17166 |    436955 |    1384 |    1589.78 | 114.6 |\n",
       "| 1005 | Barbour County | AL |     26887 |     27457 | -2.1 |     27457 | 5.7 | 21.2 | 16.5 | ⋯ | 0.0 | 27.0 |          0 |          0 |     188337 |  6334 |         0 |       8 |     884.88 |  31.0 |\n",
       "| 1007 | Bibb County    | AL |     22506 |     22919 | -1.8 |     22915 | 5.3 | 21.0 | 14.8 | ⋯ | 0.0 |  0.0 |          0 |          0 |     124707 |  5804 |     10757 |      19 |     622.58 |  36.8 |\n",
       "\n"
      ],
      "text/plain": [
       "  fips area_name      state_abbreviation Pop_2014_count Pop_2010_base_count\n",
       "1    0 United States  NA                 318857056      308758105          \n",
       "2 1000 Alabama        NA                   4849377        4780127          \n",
       "3 1001 Autauga County AL                     55395          54571          \n",
       "4 1003 Baldwin County AL                    200111         182265          \n",
       "5 1005 Barbour County AL                     26887          27457          \n",
       "6 1007 Bibb County    AL                     22506          22919          \n",
       "  Pop_change_pct Pop_2010_count Age_under_5_pct Age_under_18_pct\n",
       "1  3.3           308745538      6.2             23.1            \n",
       "2  1.4             4779736      6.1             22.8            \n",
       "3  1.5               54571      6.0             25.2            \n",
       "4  9.8              182265      5.6             22.2            \n",
       "5 -2.1               27457      5.7             21.2            \n",
       "6 -1.8               22915      5.3             21.0            \n",
       "  Age_over_65_pct ⋯ Business_hispanic_owned_pct Business_female_owned_pct\n",
       "1 14.5            ⋯ 8.3                         28.8                     \n",
       "2 15.3            ⋯ 1.2                         28.1                     \n",
       "3 13.8            ⋯ 0.7                         31.7                     \n",
       "4 18.7            ⋯ 1.3                         27.3                     \n",
       "5 16.5            ⋯ 0.0                         27.0                     \n",
       "6 14.8            ⋯ 0.0                          0.0                     \n",
       "  Revenue_manufacture Revenue_wholesaler Revenue_retail\n",
       "1 5319456312          4174286516         3917663456    \n",
       "2  112858843            52252752           57344851    \n",
       "3          0                   0             598175    \n",
       "4    1410273                   0            2966489    \n",
       "5          0                   0             188337    \n",
       "6          0                   0             124707    \n",
       "  Revenue_retail_per_capita Revenue_food_and_hospitality Building_permits\n",
       "1 12990                     613795732                    1046363         \n",
       "2 12364                       6426342                      13369         \n",
       "3 12003                         88157                        131         \n",
       "4 17166                        436955                       1384         \n",
       "5  6334                             0                          8         \n",
       "6  5804                         10757                         19         \n",
       "  Land_area  Pop_density\n",
       "1 3531905.43  87.4      \n",
       "2   50645.33  94.4      \n",
       "3     594.44  91.8      \n",
       "4    1589.78 114.6      \n",
       "5     884.88  31.0      \n",
       "6     622.58  36.8      "
      ]
     },
     "metadata": {},
     "output_type": "display_data"
    }
   ],
   "source": [
    "c=\"https://cssbook.net/d/2016_primary_county.csv\"\n",
    "counties = read_csv(c)\n",
    "head(counties)"
   ]
  },
  {
   "cell_type": "code",
   "execution_count": 21,
   "metadata": {
    "tags": [
     "output:table",
     "snippet:primaryc"
    ]
   },
   "outputs": [
    {
     "data": {
      "text/html": [
       "<table class=\"dataframe\">\n",
       "<caption>A tibble: 6 × 5</caption>\n",
       "<thead>\n",
       "\t<tr><th scope=col>fips</th><th scope=col>area_name</th><th scope=col>Pop_2014_count</th><th scope=col>Age_over_65_pct</th><th scope=col>Race_black_pct</th></tr>\n",
       "\t<tr><th scope=col>&lt;dbl&gt;</th><th scope=col>&lt;chr&gt;</th><th scope=col>&lt;dbl&gt;</th><th scope=col>&lt;dbl&gt;</th><th scope=col>&lt;dbl&gt;</th></tr>\n",
       "</thead>\n",
       "<tbody>\n",
       "\t<tr><td>   0</td><td>United States </td><td>318857056</td><td>14.5</td><td>13.2</td></tr>\n",
       "\t<tr><td>1000</td><td>Alabama       </td><td>  4849377</td><td>15.3</td><td>26.7</td></tr>\n",
       "\t<tr><td>1001</td><td>Autauga County</td><td>    55395</td><td>13.8</td><td>18.7</td></tr>\n",
       "\t<tr><td>1003</td><td>Baldwin County</td><td>   200111</td><td>18.7</td><td> 9.6</td></tr>\n",
       "\t<tr><td>1005</td><td>Barbour County</td><td>    26887</td><td>16.5</td><td>47.6</td></tr>\n",
       "\t<tr><td>1007</td><td>Bibb County   </td><td>    22506</td><td>14.8</td><td>22.1</td></tr>\n",
       "</tbody>\n",
       "</table>\n"
      ],
      "text/latex": [
       "A tibble: 6 × 5\n",
       "\\begin{tabular}{lllll}\n",
       " fips & area\\_name & Pop\\_2014\\_count & Age\\_over\\_65\\_pct & Race\\_black\\_pct\\\\\n",
       " <dbl> & <chr> & <dbl> & <dbl> & <dbl>\\\\\n",
       "\\hline\n",
       "\t    0 & United States  & 318857056 & 14.5 & 13.2\\\\\n",
       "\t 1000 & Alabama        &   4849377 & 15.3 & 26.7\\\\\n",
       "\t 1001 & Autauga County &     55395 & 13.8 & 18.7\\\\\n",
       "\t 1003 & Baldwin County &    200111 & 18.7 &  9.6\\\\\n",
       "\t 1005 & Barbour County &     26887 & 16.5 & 47.6\\\\\n",
       "\t 1007 & Bibb County    &     22506 & 14.8 & 22.1\\\\\n",
       "\\end{tabular}\n"
      ],
      "text/markdown": [
       "\n",
       "A tibble: 6 × 5\n",
       "\n",
       "| fips &lt;dbl&gt; | area_name &lt;chr&gt; | Pop_2014_count &lt;dbl&gt; | Age_over_65_pct &lt;dbl&gt; | Race_black_pct &lt;dbl&gt; |\n",
       "|---|---|---|---|---|\n",
       "|    0 | United States  | 318857056 | 14.5 | 13.2 |\n",
       "| 1000 | Alabama        |   4849377 | 15.3 | 26.7 |\n",
       "| 1001 | Autauga County |     55395 | 13.8 | 18.7 |\n",
       "| 1003 | Baldwin County |    200111 | 18.7 |  9.6 |\n",
       "| 1005 | Barbour County |     26887 | 16.5 | 47.6 |\n",
       "| 1007 | Bibb County    |     22506 | 14.8 | 22.1 |\n",
       "\n"
      ],
      "text/plain": [
       "  fips area_name      Pop_2014_count Age_over_65_pct Race_black_pct\n",
       "1    0 United States  318857056      14.5            13.2          \n",
       "2 1000 Alabama          4849377      15.3            26.7          \n",
       "3 1001 Autauga County     55395      13.8            18.7          \n",
       "4 1003 Baldwin County    200111      18.7             9.6          \n",
       "5 1005 Barbour County     26887      16.5            47.6          \n",
       "6 1007 Bibb County        22506      14.8            22.1          "
      ]
     },
     "metadata": {},
     "output_type": "display_data"
    }
   ],
   "source": [
    "counties %>% select(fips, area_name, Poselect(-state_abbrev) %>%p_2014_count, Age_over_65_pct, Race_black_pct) %>% head()"
   ]
  },
  {
   "cell_type": "code",
   "execution_count": 7,
   "metadata": {
    "tags": [
     "snippet:nested"
    ]
   },
   "outputs": [
    {
     "name": "stderr",
     "output_type": "stream",
     "text": [
      "Joining, by = \"fips\"\n",
      "\n"
     ]
    },
    {
     "data": {
      "text/plain": [
       "\n",
       "\tPearson's product-moment correlation\n",
       "\n",
       "data:  r$Race_black_pct and r$fraction_votes\n",
       "t = 50.944, df = 2806, p-value < 2.2e-16\n",
       "alternative hypothesis: true correlation is not equal to 0\n",
       "95 percent confidence interval:\n",
       " 0.6734586 0.7119165\n",
       "sample estimates:\n",
       "      cor \n",
       "0.6931806 \n"
      ]
     },
     "metadata": {},
     "output_type": "display_data"
    }
   ],
   "source": [
    "c = counties %>% \n",
    "  select(\"fips\", \"area_name\", \"Race_black_pct\")\n",
    "r = results %>% \n",
    "  filter(candidate == \"Hillary Clinton\") %>% \n",
    "  select(fips, votes, fraction_votes)\n",
    "r = inner_join(r, c)\n",
    "cor.test(r$Race_black_pct, r$fraction_votes)"
   ]
  }
 ],
 "metadata": {
  "celltoolbar": "Tags",
  "kernelspec": {
   "display_name": "R",
   "language": "R",
   "name": "ir"
  },
  "language_info": {
   "codemirror_mode": "r",
   "file_extension": ".r",
   "mimetype": "text/x-r-source",
   "name": "R",
   "pygments_lexer": "r",
   "version": "4.0.5"
  }
 },
 "nbformat": 4,
 "nbformat_minor": 4
}
