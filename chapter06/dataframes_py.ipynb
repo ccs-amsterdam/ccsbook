{
 "cells": [
  {
   "cell_type": "code",
   "execution_count": 4,
   "metadata": {
    "collapsed": true,
    "tags": [
     "snippet:listvsdict"
    ]
   },
   "outputs": [
    {
     "name": "stdout",
     "output_type": "stream",
     "text": [
      "True\n"
     ]
    }
   ],
   "source": [
    "# A list with multiple values\n",
    "mylist = [4, 6, 3, 9]\n",
    "\n",
    "# A dict with one value per key\n",
    "mydict = {'Anna': 40, 'Peter': 33, 'Sarah': 40, 'Kees': 70}\n",
    "\n",
    "# A nested dict\n",
    "mydict = {'Anna': {'street': 'Herengracht', 'city': 'Amsterdam'}, 'Peter': {'street': 'Unter den Linden', 'city': 'Berlin'} }\n",
    "\n",
    "\n",
    "print(True)"
   ]
  },
  {
   "cell_type": "code",
   "execution_count": 10,
   "metadata": {
    "tags": [
     "snippet:createdataframe"
    ]
   },
   "outputs": [
    {
     "name": "stdout",
     "output_type": "stream",
     "text": [
      "True\n",
      "      0     1\n",
      "0  True  True\n",
      "1  True  True\n",
      "2  True  True\n",
      "3  True  True\n",
      "My data frame has 4 rows and 2 columns. In other words, it's shape is (4, 2)\n"
     ]
    }
   ],
   "source": [
    "import pandas as pd\n",
    "\n",
    "# Create two lists that will be columns\n",
    "list1 = ['Anna', 'Peter', 'Sarah', 'Kees']\n",
    "list2 = [40, 33, 40, 77]\n",
    "\n",
    "# or we could have a list of lists instead\n",
    "mytable = [['Anna', 40],\n",
    "           ['Peter', 33],\n",
    "           ['Sarah', 40],\n",
    "           ['Kees', 77]]\n",
    "\n",
    "# In fact, we could also create it automatically\n",
    "mytable2 = [[u,v] for u, v in zip(list1, list2)]\n",
    "\n",
    "# If you don't believe us, check whether they are the same:\n",
    "print(mytable2 == mytable)\n",
    "\n",
    "\n",
    "# We can convert this array to a dataframe...\n",
    "df1=pd.DataFrame(mytable)\n",
    "\n",
    "# ... or create the data frame directly from the vectors\n",
    "df2=pd.DataFrame.from_records(zip(list1,list2))\n",
    "\n",
    "print(df1 == df2)\n",
    "\n",
    "print(\"My data frame has {} rows and {} columns. In other words, it's shape is {}\".format(len(df1), len(df1.columns), df1.shape))"
   ]
  },
  {
   "cell_type": "code",
   "execution_count": 18,
   "metadata": {
    "tags": [
     "snippet:readfiles"
    ]
   },
   "outputs": [],
   "source": [
    "# If the csv file looks like pandas expects it, this simple command works:\n",
    "df = pd.read_csv('http://cssbook.net/d/mediause.csv')\n",
    "\n",
    "# But we can also explicitly specify the encoding, delimiters, and so on:\n",
    "df = pd.read_csv('http://cssbook.net/d/mediause.csv', encoding = 'utf-8', delimiter = ',')\n",
    "# There are many other options you could specifiy (for instance, whether your data have a header row. Just enter pd.read_csv? to get an overview.\n",
    "\n",
    "# Save dataframe to a csv:\n",
    "df.to_csv('mynewcsvfile.csv')"
   ]
  },
  {
   "cell_type": "code",
   "execution_count": 1,
   "metadata": {
    "tags": [
     "snippet:readingstopwords"
    ]
   },
   "outputs": [],
   "source": [
    "# bad: define stopword list in the code itself\n",
    "stopwords_in_code = ['and', 'or', 'a', 'an', 'the']\n",
    "\n",
    "# good: read stopword list from external text file\n",
    "stopwords_from_file =  [f.strip() for f in open('stopwords.txt').readlines()]"
   ]
  },
  {
   "cell_type": "code",
   "execution_count": 8,
   "metadata": {
    "tags": [
     "snippet:extendedfilehandling"
    ]
   },
   "outputs": [],
   "source": [
    "import json\n",
    "\n",
    "stopwords = []\n",
    "with open('stopwords.txt', mode = 'r', encoding = 'utf-8') as f:\n",
    "    for line in f:\n",
    "        stopwords.append(line.strip())\n",
    "\n",
    "# Let's modify the stopword list and save it to a new file:\n",
    "stopwords.extend([\"somenewstopword\", \"andanotherone\"])\n",
    "with open('newstopwords.txt', mode = 'w', encoding = 'utf-8') as f:\n",
    "    f.writelines(stopwords)\n",
    "\n",
    "# Instead of .writelines(which writes multiple lines at once), we can also .write() a single string to a file.\n",
    "\n",
    "# We can use the same to read json files into a python dict or to store a python dict into a json file:\n",
    "\n",
    "somedict = {'a':'somevalue', \n",
    "            'b': {'level2a':'anothervalue', 'level2b':{1:'x', 2: 'y'}},\n",
    "            'c':[1,2,3,4]}\n",
    "\n",
    "with open('test.json', mode = 'w', encoding = 'utf-8') as f:\n",
    "    json.dump(somedict, f)\n",
    "\n",
    "with open('test.json', mode = 'r', encoding = 'utf-8') as f:\n",
    "    mydict = json.load(f)"
   ]
  }
 ],
 "metadata": {
  "celltoolbar": "Tags",
  "kernelspec": {
   "display_name": "Python 3",
   "language": "python",
   "name": "python3"
  },
  "language_info": {
   "codemirror_mode": {
    "name": "ipython",
    "version": 3
   },
   "file_extension": ".py",
   "mimetype": "text/x-python",
   "name": "python",
   "nbconvert_exporter": "python",
   "pygments_lexer": "ipython3",
   "version": "3.8.5"
  }
 },
 "nbformat": 4,
 "nbformat_minor": 2
}
