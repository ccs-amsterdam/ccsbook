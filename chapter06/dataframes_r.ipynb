{
 "cells": [
  {
   "cell_type": "code",
   "execution_count": 1,
   "metadata": {
    "tags": [
     "snippet:listvsdict"
    ]
   },
   "outputs": [
    {
     "name": "stdout",
     "output_type": "stream",
     "text": [
      "[1] 4 6 3 9\n"
     ]
    }
   ],
   "source": [
    "# A vector with multiple values\n",
    "myvector = c (4, 6, 3, 9)\n",
    "print(myvector)"
   ]
  },
  {
   "cell_type": "code",
   "execution_count": 17,
   "metadata": {
    "tags": [
     "snippet:createdataframe"
    ]
   },
   "outputs": [
    {
     "name": "stdout",
     "output_type": "stream",
     "text": [
      "     [,1]    [,2]\n",
      "[1,] \"Anna\"  \"40\"\n",
      "[2,] \"Peter\" \"33\"\n",
      "[3,] \"Sarah\" \"40\"\n",
      "[4,] \"Kees\"  \"77\"\n",
      "       X1   X2\n",
      "[1,] TRUE TRUE\n",
      "[2,] TRUE TRUE\n",
      "[3,] TRUE TRUE\n",
      "[4,] TRUE TRUE\n",
      "[1] \"Coulmns:\" \"2\"        \"Rows:\"    \"4\"       \n",
      "[1] \"The dimensions of my dataframe are:\"\n",
      "[1] 4 2\n"
     ]
    }
   ],
   "source": [
    "# Create two vectors that will be columns\n",
    "vector1 <- c('Anna','Peter','Sarah','Kees')\n",
    "vector2 <- c(40,33,40,77)\n",
    "\n",
    "# Let's create an array of four rows and two columns\n",
    "myarray <- array(c(vector1,vector2), dim=c(4,2))\n",
    "print(myarray)\n",
    "\n",
    "# We can convert this array to a dataframe...\n",
    "df1=data.frame(myarray)\n",
    "\n",
    "# ... or create the data frame directly from the vectors\n",
    "df2=data.frame(vector1, vector2)\n",
    "\n",
    "print(df1 == df2)\n",
    "print(c('Coulmns:',ncol(df1), 'Rows:',nrow(df1)))\n",
    "print('The dimensions of my dataframe are:')\n",
    "print(dim(df1))"
   ]
  },
  {
   "cell_type": "code",
   "execution_count": 19,
   "metadata": {
    "tags": [
     "snippet:readfiles"
    ]
   },
   "outputs": [
    {
     "name": "stderr",
     "output_type": "stream",
     "text": [
      "Parsed with column specification:\n",
      "cols(\n",
      "  gender = \u001b[32mcol_double()\u001b[39m,\n",
      "  age = \u001b[32mcol_double()\u001b[39m,\n",
      "  education = \u001b[32mcol_double()\u001b[39m,\n",
      "  radio = \u001b[32mcol_double()\u001b[39m,\n",
      "  newspaper = \u001b[32mcol_double()\u001b[39m,\n",
      "  tv = \u001b[32mcol_double()\u001b[39m,\n",
      "  internet = \u001b[32mcol_double()\u001b[39m\n",
      ")\n",
      "\n",
      "Parsed with column specification:\n",
      "cols(\n",
      "  gender = \u001b[32mcol_double()\u001b[39m,\n",
      "  age = \u001b[32mcol_double()\u001b[39m,\n",
      "  education = \u001b[32mcol_double()\u001b[39m,\n",
      "  radio = \u001b[32mcol_double()\u001b[39m,\n",
      "  newspaper = \u001b[32mcol_double()\u001b[39m,\n",
      "  tv = \u001b[32mcol_double()\u001b[39m,\n",
      "  internet = \u001b[32mcol_double()\u001b[39m\n",
      ")\n",
      "\n"
     ]
    }
   ],
   "source": [
    "library(tidyverse) #for csv files\n",
    "library(haven) # for other file types\n",
    "\n",
    "# If the csv file looks like R expects it, this simple command works:\n",
    "df = read_csv('http://cssbook.net/d/mediause.csv')\n",
    "\n",
    "# But we can also explicitly specify delimiters, etc.\n",
    "df = read_delim('http://cssbook.net/d/mediause.csv', delim = ',')\n",
    "# There are many other options you could specifiy. Just enter ?read_csv to get an overview.\n",
    "\n",
    "# Save dataframe to a csv:\n",
    "write_csv(df,'mynewcsvfile.csv')"
   ]
  },
  {
   "cell_type": "code",
   "execution_count": 3,
   "metadata": {
    "tags": [
     "snippet:readingstopwords"
    ]
   },
   "outputs": [],
   "source": [
    "# bad: define stopword list in the code itself\n",
    "stopwords_in_code = c('and', 'or', 'a', 'an', 'the')\n",
    "\n",
    "# good: read stopword list from external text file\n",
    "stopwords_from_file =  scan('stopwords.txt', what='string')"
   ]
  },
  {
   "cell_type": "code",
   "execution_count": 18,
   "metadata": {},
   "outputs": [
    {
     "name": "stderr",
     "output_type": "stream",
     "text": [
      "Installing package into ‘/home/damian/R/x86_64-pc-linux-gnu-library/3.6’\n",
      "(as ‘lib’ is unspecified)\n",
      "\n"
     ]
    }
   ],
   "source": [
    "haven::read_spss()"
   ]
  },
  {
   "cell_type": "code",
   "execution_count": 6,
   "metadata": {
    "tags": [
     "snippet:extendedfilehandling"
    ]
   },
   "outputs": [],
   "source": [
    "stopwords =  scan('stopwords.txt', what='string')\n",
    "\n",
    "# Let's modify the stopword list and save it to a new file:\n",
    "stopwords = c(stopwords_from_file, \"somenewstopword\", \"andanotherone\")\n",
    "fileConn<-file(\"newstopwords.txt\")\n",
    "writeLines(stopwords, fileConn)\n",
    "close(fileConn)"
   ]
  }
 ],
 "metadata": {
  "celltoolbar": "Tags",
  "kernelspec": {
   "display_name": "R",
   "language": "R",
   "name": "ir"
  },
  "language_info": {
   "codemirror_mode": "r",
   "file_extension": ".r",
   "mimetype": "text/x-r-source",
   "name": "R",
   "pygments_lexer": "r",
   "version": "4.0.3"
  }
 },
 "nbformat": 4,
 "nbformat_minor": 2
}
