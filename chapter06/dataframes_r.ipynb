{
 "cells": [
  {
   "cell_type": "code",
   "execution_count": 1,
   "metadata": {
    "tags": [
     "snippet:listvsdict"
    ]
   },
   "outputs": [
    {
     "name": "stdout",
     "output_type": "stream",
     "text": [
      "[1] 4 6 3 9\n"
     ]
    }
   ],
   "source": [
    "# A vector with multiple values\n",
    "myvector = c (4, 6, 3, 9)\n",
    "print(myvector)"
   ]
  },
  {
   "cell_type": "code",
   "execution_count": 3,
   "metadata": {
    "tags": [
     "snippet:createdataframe"
    ]
   },
   "outputs": [
    {
     "name": "stdout",
     "output_type": "stream",
     "text": [
      "     [,1]    [,2]\n",
      "[1,] \"Anna\"  \"40\"\n",
      "[2,] \"Peter\" \"33\"\n",
      "[3,] \"Sarah\" \"40\"\n",
      "[4,] \"Kees\"  \"77\"\n",
      "       X1   X2\n",
      "[1,] TRUE TRUE\n",
      "[2,] TRUE TRUE\n",
      "[3,] TRUE TRUE\n",
      "[4,] TRUE TRUE\n"
     ]
    }
   ],
   "source": [
    "# Create two vectors that will be columns\n",
    "vector1 <- c('Anna','Peter','Sarah','Kees')\n",
    "vector2 <- c(40,33,40,77)\n",
    "\n",
    "# Let's create an array of four rows and two columns\n",
    "myarray <- array(c(vector1,vector2), dim=c(4,2))\n",
    "print(myarray)\n",
    "\n",
    "# We can convert this array to a dataframe...\n",
    "df1=data.frame(myarray)\n",
    "\n",
    "# ... or create the data frame directly from the vectors\n",
    "df2=data.frame(vector1, vector2)\n",
    "\n",
    "print(df1 == df2)\n"
   ]
  },
  {
   "cell_type": "code",
   "execution_count": 4,
   "metadata": {
    "tags": [
     "snippet:readfiles"
    ]
   },
   "outputs": [
    {
     "name": "stdout",
     "output_type": "stream",
     "text": [
      "[1] \"NEEDS TO BE DONE\"\n"
     ]
    }
   ],
   "source": [
    "print('NEEDS TO BE DONE')"
   ]
  },
  {
   "cell_type": "code",
   "execution_count": 5,
   "metadata": {
    "tags": [
     "snippet:stopwords"
    ]
   },
   "outputs": [
    {
     "name": "stdout",
     "output_type": "stream",
     "text": [
      "[1] \"NEEDS TO BE DONE\"\n"
     ]
    }
   ],
   "source": [
    "print('NEEDS TO BE DONE')"
   ]
  },
  {
   "cell_type": "code",
   "execution_count": 6,
   "metadata": {
    "tags": [
     "snippet:stopwordsextensive"
    ]
   },
   "outputs": [
    {
     "name": "stdout",
     "output_type": "stream",
     "text": [
      "[1] \"NEEDS TO BE DONE\"\n"
     ]
    }
   ],
   "source": [
    "print('NEEDS TO BE DONE')"
   ]
  }
 ],
 "metadata": {
  "celltoolbar": "Tags",
  "kernelspec": {
   "display_name": "R",
   "language": "R",
   "name": "ir"
  },
  "language_info": {
   "codemirror_mode": "r",
   "file_extension": ".r",
   "mimetype": "text/x-r-source",
   "name": "R",
   "pygments_lexer": "r",
   "version": "3.4.4"
  }
 },
 "nbformat": 4,
 "nbformat_minor": 2
}
