{
 "cells": [
  {
   "cell_type": "code",
   "execution_count": 1,
   "metadata": {
    "tags": [
     "snippet:listvsdict"
    ]
   },
   "outputs": [
    {
     "name": "stdout",
     "output_type": "stream",
     "text": [
      "[1] 4 6 3 9\n"
     ]
    }
   ],
   "source": [
    "# A vector with multiple values\n",
    "myvector = c (4, 6, 3, 9)\n",
    "print(myvector)"
   ]
  },
  {
   "cell_type": "code",
   "execution_count": 17,
   "metadata": {
    "tags": [
     "snippet:createdataframe"
    ]
   },
   "outputs": [
    {
     "name": "stdout",
     "output_type": "stream",
     "text": [
      "     [,1]    [,2]\n",
      "[1,] \"Anna\"  \"40\"\n",
      "[2,] \"Peter\" \"33\"\n",
      "[3,] \"Sarah\" \"40\"\n",
      "[4,] \"Kees\"  \"77\"\n",
      "       X1   X2\n",
      "[1,] TRUE TRUE\n",
      "[2,] TRUE TRUE\n",
      "[3,] TRUE TRUE\n",
      "[4,] TRUE TRUE\n",
      "[1] \"Coulmns:\" \"2\"        \"Rows:\"    \"4\"       \n",
      "[1] \"The dimensions of my dataframe are:\"\n",
      "[1] 4 2\n"
     ]
    }
   ],
   "source": [
    "# Create two vectors that will be columns\n",
    "vector1 <- c('Anna','Peter','Sarah','Kees')\n",
    "vector2 <- c(40,33,40,77)\n",
    "\n",
    "# Let's create an array of four rows and two columns\n",
    "myarray <- array(c(vector1,vector2), dim=c(4,2))\n",
    "print(myarray)\n",
    "\n",
    "# We can convert this array to a dataframe...\n",
    "df1=data.frame(myarray)\n",
    "\n",
    "# ... or create the data frame directly from the vectors\n",
    "df2=data.frame(vector1, vector2)\n",
    "\n",
    "print(df1 == df2)\n",
    "print(c('Coulmns:',ncol(df1), 'Rows:',nrow(df1)))\n",
    "print('The dimensions of my dataframe are:')\n",
    "print(dim(df1))"
   ]
  },
  {
   "cell_type": "code",
   "execution_count": 14,
   "metadata": {},
   "outputs": [
    {
     "data": {
      "text/html": [
       "4"
      ],
      "text/latex": [
       "4"
      ],
      "text/markdown": [
       "4"
      ],
      "text/plain": [
       "[1] 4"
      ]
     },
     "metadata": {},
     "output_type": "display_data"
    }
   ],
   "source": []
  },
  {
   "cell_type": "code",
   "execution_count": 4,
   "metadata": {
    "tags": [
     "snippet:readfiles"
    ]
   },
   "outputs": [
    {
     "name": "stdout",
     "output_type": "stream",
     "text": [
      "[1] \"NEEDS TO BE DONE\"\n"
     ]
    }
   ],
   "source": [
    "print('NEEDS TO BE DONE')"
   ]
  },
  {
   "cell_type": "code",
   "execution_count": 28,
   "metadata": {
    "tags": [
     "snippet:stopwords"
    ]
   },
   "outputs": [
    {
     "name": "stdout",
     "output_type": "stream",
     "text": [
      "[1] \"and\" \"or\"  \"a\"   \"an\"  \"the\"\n",
      "[1] TRUE TRUE TRUE TRUE TRUE\n"
     ]
    }
   ],
   "source": [
    "# bad: define stopword list in the code itself\n",
    "stopwords_in_code = c('and', 'or', 'a', 'an', 'the')\n",
    "print(stopwords_in_code)\n",
    "\n",
    "# good: read stopword list from external text file\n",
    "stopwords_from_file =  scan('../datasets/stopwords.txt', what='string')\n",
    "\n",
    "print(stopwords_in_code == stopwords_from_file)\n"
   ]
  },
  {
   "cell_type": "code",
   "execution_count": 27,
   "metadata": {},
   "outputs": [
    {
     "data": {
      "text/html": [
       "<ol class=list-inline>\n",
       "\t<li>'and'</li>\n",
       "\t<li>'or'</li>\n",
       "\t<li>'a'</li>\n",
       "\t<li>'an'</li>\n",
       "\t<li>'the'</li>\n",
       "</ol>\n"
      ],
      "text/latex": [
       "\\begin{enumerate*}\n",
       "\\item 'and'\n",
       "\\item 'or'\n",
       "\\item 'a'\n",
       "\\item 'an'\n",
       "\\item 'the'\n",
       "\\end{enumerate*}\n"
      ],
      "text/markdown": [
       "1. 'and'\n",
       "2. 'or'\n",
       "3. 'a'\n",
       "4. 'an'\n",
       "5. 'the'\n",
       "\n",
       "\n"
      ],
      "text/plain": [
       "[1] \"and\" \"or\"  \"a\"   \"an\"  \"the\""
      ]
     },
     "metadata": {},
     "output_type": "display_data"
    }
   ],
   "source": [
    "scan('../datasets/stopwords.txt', what='string')"
   ]
  },
  {
   "cell_type": "code",
   "execution_count": 6,
   "metadata": {
    "tags": [
     "snippet:extendedfilehandling"
    ]
   },
   "outputs": [
    {
     "name": "stdout",
     "output_type": "stream",
     "text": [
      "[1] \"NEEDS TO BE DONE\"\n"
     ]
    }
   ],
   "source": [
    "print('NEEDS TO BE DONE')"
   ]
  }
 ],
 "metadata": {
  "celltoolbar": "Tags",
  "kernelspec": {
   "display_name": "R",
   "language": "R",
   "name": "ir"
  },
  "language_info": {
   "codemirror_mode": "r",
   "file_extension": ".r",
   "mimetype": "text/x-r-source",
   "name": "R",
   "pygments_lexer": "r",
   "version": "3.4.4"
  }
 },
 "nbformat": 4,
 "nbformat_minor": 2
}
