{
 "cells": [
  {
   "cell_type": "code",
   "execution_count": 1,
   "metadata": {
    "tags": [
     "dontrun",
     "snippet:chapter06install"
    ]
   },
   "outputs": [],
   "source": [
    "#install.packages(\"tidyverse\")"
   ]
  },
  {
   "cell_type": "code",
   "execution_count": 2,
   "metadata": {
    "scrolled": true,
    "tags": [
     "snippet:chapter06library"
    ]
   },
   "outputs": [
    {
     "name": "stderr",
     "output_type": "stream",
     "text": [
      "── \u001b[1mAttaching packages\u001b[22m ─────────────────────────────────────────────────────────────────────────────────────────────────────────────────────────────────────────────────────────────────────────── tidyverse 1.3.0 ──\n",
      "\n",
      "\u001b[32m✔\u001b[39m \u001b[34mggplot2\u001b[39m 3.3.3     \u001b[32m✔\u001b[39m \u001b[34mpurrr  \u001b[39m 0.3.4\n",
      "\u001b[32m✔\u001b[39m \u001b[34mtibble \u001b[39m 3.1.1     \u001b[32m✔\u001b[39m \u001b[34mdplyr  \u001b[39m 1.0.5\n",
      "\u001b[32m✔\u001b[39m \u001b[34mtidyr  \u001b[39m 1.1.3     \u001b[32m✔\u001b[39m \u001b[34mstringr\u001b[39m 1.4.0\n",
      "\u001b[32m✔\u001b[39m \u001b[34mreadr  \u001b[39m 1.4.0     \u001b[32m✔\u001b[39m \u001b[34mforcats\u001b[39m 0.5.1\n",
      "\n",
      "── \u001b[1mConflicts\u001b[22m ────────────────────────────────────────────────────────────────────────────────────────────────────────────────────────────────────────────────────────────────────────────── tidyverse_conflicts() ──\n",
      "\u001b[31m✖\u001b[39m \u001b[34mdplyr\u001b[39m::\u001b[32mfilter()\u001b[39m masks \u001b[34mstats\u001b[39m::filter()\n",
      "\u001b[31m✖\u001b[39m \u001b[34mdplyr\u001b[39m::\u001b[32mlag()\u001b[39m    masks \u001b[34mstats\u001b[39m::lag()\n",
      "\n"
     ]
    }
   ],
   "source": [
    "library(tidyverse)\n",
    "library(readxl)"
   ]
  },
  {
   "cell_type": "code",
   "execution_count": 3,
   "metadata": {
    "tags": [
     "snippet:data-filter",
     "output:html",
     "output:table",
     "table:resize"
    ]
   },
   "outputs": [
    {
     "name": "stderr",
     "output_type": "stream",
     "text": [
      "\n",
      "\u001b[36m──\u001b[39m \u001b[1m\u001b[1mColumn specification\u001b[1m\u001b[22m \u001b[36m────────────────────────────────────────────────────────────────────────────────────────────────────────────────────────────────────────────────────────────────────────────────────────────\u001b[39m\n",
      "cols(\n",
      "  Question = \u001b[31mcol_character()\u001b[39m,\n",
      "  Start = \u001b[31mcol_character()\u001b[39m,\n",
      "  End = \u001b[31mcol_character()\u001b[39m,\n",
      "  Pollster = \u001b[31mcol_character()\u001b[39m,\n",
      "  Population = \u001b[31mcol_character()\u001b[39m,\n",
      "  Support = \u001b[32mcol_double()\u001b[39m,\n",
      "  `Republican Support` = \u001b[32mcol_double()\u001b[39m,\n",
      "  `Democratic Support` = \u001b[32mcol_double()\u001b[39m,\n",
      "  URL = \u001b[31mcol_character()\u001b[39m\n",
      ")\n",
      "\n",
      "\n"
     ]
    },
    {
     "data": {
      "text/html": [
       "<table class=\"dataframe\">\n",
       "<caption>A tibble: 6 × 8</caption>\n",
       "<thead>\n",
       "\t<tr><th scope=col>Question</th><th scope=col>Start</th><th scope=col>End</th><th scope=col>Pollster</th><th scope=col>Population</th><th scope=col>Support</th><th scope=col>rep</th><th scope=col>dem</th></tr>\n",
       "\t<tr><th scope=col>&lt;chr&gt;</th><th scope=col>&lt;chr&gt;</th><th scope=col>&lt;chr&gt;</th><th scope=col>&lt;chr&gt;</th><th scope=col>&lt;chr&gt;</th><th scope=col>&lt;dbl&gt;</th><th scope=col>&lt;dbl&gt;</th><th scope=col>&lt;dbl&gt;</th></tr>\n",
       "</thead>\n",
       "<tbody>\n",
       "\t<tr><td>arm-teachers</td><td>2/23/18</td><td>2/25/18</td><td>YouGov/Huffpost</td><td>Registered Voters</td><td>41</td><td>69</td><td>20</td></tr>\n",
       "\t<tr><td>arm-teachers</td><td>2/20/18</td><td>2/23/18</td><td>CBS News       </td><td>Adults           </td><td>44</td><td>68</td><td>20</td></tr>\n",
       "\t<tr><td>arm-teachers</td><td>2/27/18</td><td>2/28/18</td><td>Rasmussen      </td><td>Adults           </td><td>43</td><td>71</td><td>24</td></tr>\n",
       "\t<tr><td>arm-teachers</td><td>2/27/18</td><td>2/28/18</td><td>NPR/Ipsos      </td><td>Adults           </td><td>41</td><td>68</td><td>18</td></tr>\n",
       "\t<tr><td>arm-teachers</td><td>3/3/18 </td><td>3/5/18 </td><td>Quinnipiac     </td><td>Registered Voters</td><td>40</td><td>77</td><td>10</td></tr>\n",
       "\t<tr><td>arm-teachers</td><td>2/26/18</td><td>2/28/18</td><td>SurveyMonkey   </td><td>Registered Voters</td><td>43</td><td>80</td><td>11</td></tr>\n",
       "</tbody>\n",
       "</table>\n"
      ],
      "text/latex": [
       "A tibble: 6 × 8\n",
       "\\begin{tabular}{llllllll}\n",
       " Question & Start & End & Pollster & Population & Support & rep & dem\\\\\n",
       " <chr> & <chr> & <chr> & <chr> & <chr> & <dbl> & <dbl> & <dbl>\\\\\n",
       "\\hline\n",
       "\t arm-teachers & 2/23/18 & 2/25/18 & YouGov/Huffpost & Registered Voters & 41 & 69 & 20\\\\\n",
       "\t arm-teachers & 2/20/18 & 2/23/18 & CBS News        & Adults            & 44 & 68 & 20\\\\\n",
       "\t arm-teachers & 2/27/18 & 2/28/18 & Rasmussen       & Adults            & 43 & 71 & 24\\\\\n",
       "\t arm-teachers & 2/27/18 & 2/28/18 & NPR/Ipsos       & Adults            & 41 & 68 & 18\\\\\n",
       "\t arm-teachers & 3/3/18  & 3/5/18  & Quinnipiac      & Registered Voters & 40 & 77 & 10\\\\\n",
       "\t arm-teachers & 2/26/18 & 2/28/18 & SurveyMonkey    & Registered Voters & 43 & 80 & 11\\\\\n",
       "\\end{tabular}\n"
      ],
      "text/markdown": [
       "\n",
       "A tibble: 6 × 8\n",
       "\n",
       "| Question &lt;chr&gt; | Start &lt;chr&gt; | End &lt;chr&gt; | Pollster &lt;chr&gt; | Population &lt;chr&gt; | Support &lt;dbl&gt; | rep &lt;dbl&gt; | dem &lt;dbl&gt; |\n",
       "|---|---|---|---|---|---|---|---|\n",
       "| arm-teachers | 2/23/18 | 2/25/18 | YouGov/Huffpost | Registered Voters | 41 | 69 | 20 |\n",
       "| arm-teachers | 2/20/18 | 2/23/18 | CBS News        | Adults            | 44 | 68 | 20 |\n",
       "| arm-teachers | 2/27/18 | 2/28/18 | Rasmussen       | Adults            | 43 | 71 | 24 |\n",
       "| arm-teachers | 2/27/18 | 2/28/18 | NPR/Ipsos       | Adults            | 41 | 68 | 18 |\n",
       "| arm-teachers | 3/3/18  | 3/5/18  | Quinnipiac      | Registered Voters | 40 | 77 | 10 |\n",
       "| arm-teachers | 2/26/18 | 2/28/18 | SurveyMonkey    | Registered Voters | 43 | 80 | 11 |\n",
       "\n"
      ],
      "text/plain": [
       "  Question     Start   End     Pollster        Population        Support rep\n",
       "1 arm-teachers 2/23/18 2/25/18 YouGov/Huffpost Registered Voters 41      69 \n",
       "2 arm-teachers 2/20/18 2/23/18 CBS News        Adults            44      68 \n",
       "3 arm-teachers 2/27/18 2/28/18 Rasmussen       Adults            43      71 \n",
       "4 arm-teachers 2/27/18 2/28/18 NPR/Ipsos       Adults            41      68 \n",
       "5 arm-teachers 3/3/18  3/5/18  Quinnipiac      Registered Voters 40      77 \n",
       "6 arm-teachers 2/26/18 2/28/18 SurveyMonkey    Registered Voters 43      80 \n",
       "  dem\n",
       "1 20 \n",
       "2 20 \n",
       "3 24 \n",
       "4 18 \n",
       "5 10 \n",
       "6 11 "
      ]
     },
     "metadata": {},
     "output_type": "display_data"
    }
   ],
   "source": [
    "url=\"https://cssbook.net/d/guns-polls.csv\"\n",
    "d = read_csv(url)\n",
    "d = rename(d, rep=`Republican Support`, \n",
    "           dem=`Democratic Support`)\n",
    "d = select(d, -URL)\n",
    "\n",
    "\n",
    "d2 = filter(d, Question == \"arm-teachers\")\n",
    "d2"
   ]
  },
  {
   "cell_type": "code",
   "execution_count": 4,
   "metadata": {
    "tags": [
     "snippet:mutate",
     "output:table",
     "table:resize"
    ]
   },
   "outputs": [
    {
     "name": "stderr",
     "output_type": "stream",
     "text": [
      "\n",
      "\u001b[36m──\u001b[39m \u001b[1m\u001b[1mColumn specification\u001b[1m\u001b[22m \u001b[36m────────────────────────────────────────────────────────────────────────────────────────────────────────────────────────────────────────────────────────────────────────────────────────────\u001b[39m\n",
      "cols(\n",
      "  Question = \u001b[31mcol_character()\u001b[39m,\n",
      "  Start = \u001b[31mcol_character()\u001b[39m,\n",
      "  End = \u001b[31mcol_character()\u001b[39m,\n",
      "  Pollster = \u001b[31mcol_character()\u001b[39m,\n",
      "  Population = \u001b[31mcol_character()\u001b[39m,\n",
      "  Support = \u001b[32mcol_double()\u001b[39m,\n",
      "  rep = \u001b[31mcol_character()\u001b[39m,\n",
      "  dem = \u001b[32mcol_double()\u001b[39m\n",
      ")\n",
      "\n",
      "\n"
     ]
    },
    {
     "data": {
      "text/html": [
       "<table class=\"dataframe\">\n",
       "<caption>A tibble: 6 × 11</caption>\n",
       "<thead>\n",
       "\t<tr><th scope=col>Question</th><th scope=col>Start</th><th scope=col>End</th><th scope=col>Pollster</th><th scope=col>Population</th><th scope=col>Support</th><th scope=col>rep</th><th scope=col>dem</th><th scope=col>rep2</th><th scope=col>Support2</th><th scope=col>rep3</th></tr>\n",
       "\t<tr><th scope=col>&lt;chr&gt;</th><th scope=col>&lt;chr&gt;</th><th scope=col>&lt;chr&gt;</th><th scope=col>&lt;chr&gt;</th><th scope=col>&lt;chr&gt;</th><th scope=col>&lt;dbl&gt;</th><th scope=col>&lt;chr&gt;</th><th scope=col>&lt;dbl&gt;</th><th scope=col>&lt;dbl&gt;</th><th scope=col>&lt;dbl&gt;</th><th scope=col>&lt;dbl&gt;</th></tr>\n",
       "</thead>\n",
       "<tbody>\n",
       "\t<tr><td>arm-teachers</td><td>2/23/18</td><td>2/25/18</td><td>YouGov/Huffpost</td><td>Registered Voters</td><td>41</td><td>69 </td><td>20</td><td>69</td><td>41.0</td><td>69</td></tr>\n",
       "\t<tr><td>arm-teachers</td><td>2/20/18</td><td>2/23/18</td><td>CBS News       </td><td>Adults           </td><td>NA</td><td>68 </td><td>20</td><td>68</td><td>41.6</td><td>68</td></tr>\n",
       "\t<tr><td>arm-teachers</td><td>2/27/18</td><td>2/28/18</td><td>Rasmussen      </td><td>Adults           </td><td>43</td><td>71d</td><td>24</td><td>71</td><td>43.0</td><td>71</td></tr>\n",
       "\t<tr><td>arm-teachers</td><td>2/27/18</td><td>2/28/18</td><td>NPR/Ipsos      </td><td>Adults           </td><td>41</td><td>68 </td><td>18</td><td>68</td><td>41.0</td><td>68</td></tr>\n",
       "\t<tr><td>arm-teachers</td><td>3/3/18 </td><td>3/5/18 </td><td>Quinnipiac     </td><td>Registered Voters</td><td>40</td><td>77 </td><td>10</td><td>77</td><td>40.0</td><td>77</td></tr>\n",
       "\t<tr><td>arm-teachers</td><td>2/26/18</td><td>2/28/18</td><td>SurveyMonkey   </td><td>Registered Voters</td><td>43</td><td>80 </td><td>11</td><td>80</td><td>43.0</td><td>80</td></tr>\n",
       "</tbody>\n",
       "</table>\n"
      ],
      "text/latex": [
       "A tibble: 6 × 11\n",
       "\\begin{tabular}{lllllllllll}\n",
       " Question & Start & End & Pollster & Population & Support & rep & dem & rep2 & Support2 & rep3\\\\\n",
       " <chr> & <chr> & <chr> & <chr> & <chr> & <dbl> & <chr> & <dbl> & <dbl> & <dbl> & <dbl>\\\\\n",
       "\\hline\n",
       "\t arm-teachers & 2/23/18 & 2/25/18 & YouGov/Huffpost & Registered Voters & 41 & 69  & 20 & 69 & 41.0 & 69\\\\\n",
       "\t arm-teachers & 2/20/18 & 2/23/18 & CBS News        & Adults            & NA & 68  & 20 & 68 & 41.6 & 68\\\\\n",
       "\t arm-teachers & 2/27/18 & 2/28/18 & Rasmussen       & Adults            & 43 & 71d & 24 & 71 & 43.0 & 71\\\\\n",
       "\t arm-teachers & 2/27/18 & 2/28/18 & NPR/Ipsos       & Adults            & 41 & 68  & 18 & 68 & 41.0 & 68\\\\\n",
       "\t arm-teachers & 3/3/18  & 3/5/18  & Quinnipiac      & Registered Voters & 40 & 77  & 10 & 77 & 40.0 & 77\\\\\n",
       "\t arm-teachers & 2/26/18 & 2/28/18 & SurveyMonkey    & Registered Voters & 43 & 80  & 11 & 80 & 43.0 & 80\\\\\n",
       "\\end{tabular}\n"
      ],
      "text/markdown": [
       "\n",
       "A tibble: 6 × 11\n",
       "\n",
       "| Question &lt;chr&gt; | Start &lt;chr&gt; | End &lt;chr&gt; | Pollster &lt;chr&gt; | Population &lt;chr&gt; | Support &lt;dbl&gt; | rep &lt;chr&gt; | dem &lt;dbl&gt; | rep2 &lt;dbl&gt; | Support2 &lt;dbl&gt; | rep3 &lt;dbl&gt; |\n",
       "|---|---|---|---|---|---|---|---|---|---|---|\n",
       "| arm-teachers | 2/23/18 | 2/25/18 | YouGov/Huffpost | Registered Voters | 41 | 69  | 20 | 69 | 41.0 | 69 |\n",
       "| arm-teachers | 2/20/18 | 2/23/18 | CBS News        | Adults            | NA | 68  | 20 | 68 | 41.6 | 68 |\n",
       "| arm-teachers | 2/27/18 | 2/28/18 | Rasmussen       | Adults            | 43 | 71d | 24 | 71 | 43.0 | 71 |\n",
       "| arm-teachers | 2/27/18 | 2/28/18 | NPR/Ipsos       | Adults            | 41 | 68  | 18 | 68 | 41.0 | 68 |\n",
       "| arm-teachers | 3/3/18  | 3/5/18  | Quinnipiac      | Registered Voters | 40 | 77  | 10 | 77 | 40.0 | 77 |\n",
       "| arm-teachers | 2/26/18 | 2/28/18 | SurveyMonkey    | Registered Voters | 43 | 80  | 11 | 80 | 43.0 | 80 |\n",
       "\n"
      ],
      "text/plain": [
       "  Question     Start   End     Pollster        Population        Support rep\n",
       "1 arm-teachers 2/23/18 2/25/18 YouGov/Huffpost Registered Voters 41      69 \n",
       "2 arm-teachers 2/20/18 2/23/18 CBS News        Adults            NA      68 \n",
       "3 arm-teachers 2/27/18 2/28/18 Rasmussen       Adults            43      71d\n",
       "4 arm-teachers 2/27/18 2/28/18 NPR/Ipsos       Adults            41      68 \n",
       "5 arm-teachers 3/3/18  3/5/18  Quinnipiac      Registered Voters 40      77 \n",
       "6 arm-teachers 2/26/18 2/28/18 SurveyMonkey    Registered Voters 43      80 \n",
       "  dem rep2 Support2 rep3\n",
       "1 20  69   41.0     69  \n",
       "2 20  68   41.6     68  \n",
       "3 24  71   43.0     71  \n",
       "4 18  68   41.0     68  \n",
       "5 10  77   40.0     77  \n",
       "6 11  80   43.0     80  "
      ]
     },
     "metadata": {},
     "output_type": "display_data"
    }
   ],
   "source": [
    "# version of the guns polls with some errors\n",
    "url=\"https://cssbook.net/d/guns-polls-dirty.csv\"\n",
    "d2 = read_csv(url) \n",
    "\n",
    "# Option 1: clean with direct assignment. \n",
    "# Note the need to specify d2$ everywhere\n",
    "\n",
    "d2$rep2=str_replace_all(d2$rep, \"[^0-9\\\\.]\", \"\")\n",
    "d2$rep2 = as.numeric(d2$rep2)\n",
    "d2$Support2 = replace_na(d2$Support, \n",
    "                        mean(d2$Support, na.rm=T))\n",
    "\n",
    "# Alternative, clean with mutate\n",
    "# No need to specify d2$, \n",
    "# and we can assign to a new or existing object\n",
    "cleaned = mutate(d2, \n",
    "    rep2 = str_replace_all(rep, \"[^0-9\\\\.]\", \"\"),\n",
    "    rep2 = as.numeric(rep2),\n",
    "    Support2 = replace_na(Support, \n",
    "        mean(Support, na.rm=TRUE)))\n",
    "\n",
    "# Finally, you can create your own function\n",
    "\n",
    "clean_num = function(x) {\n",
    "    x = str_replace_all(x, \"[^0-9\\\\.]\", \"\")\n",
    "    as.numeric(x)\n",
    "}\n",
    "cleaned = mutate(cleaned, rep3 = clean_num(rep))\n",
    "head(cleaned)"
   ]
  },
  {
   "cell_type": "code",
   "execution_count": 5,
   "metadata": {
    "tags": [
     "snippet:aggregate",
     "output:table"
    ]
   },
   "outputs": [
    {
     "data": {
      "text/html": [
       "<table class=\"dataframe\">\n",
       "<caption>A tibble: 8 × 3</caption>\n",
       "<thead>\n",
       "\t<tr><th scope=col>Question</th><th scope=col>m</th><th scope=col>sd</th></tr>\n",
       "\t<tr><th scope=col>&lt;chr&gt;</th><th scope=col>&lt;dbl&gt;</th><th scope=col>&lt;dbl&gt;</th></tr>\n",
       "</thead>\n",
       "<tbody>\n",
       "\t<tr><td>age-21                     </td><td>75.85714</td><td>6.011893</td></tr>\n",
       "\t<tr><td>arm-teachers               </td><td>42.00000</td><td>1.549193</td></tr>\n",
       "\t<tr><td>background-checks          </td><td>87.42857</td><td>7.322503</td></tr>\n",
       "\t<tr><td>ban-assault-weapons        </td><td>61.75000</td><td>6.440285</td></tr>\n",
       "\t<tr><td>ban-high-capacity-magazines</td><td>67.28571</td><td>3.860669</td></tr>\n",
       "\t<tr><td>mental-health-own-gun      </td><td>85.83333</td><td>5.455884</td></tr>\n",
       "\t<tr><td>repeal-2nd-amendment       </td><td>10.00000</td><td>      NA</td></tr>\n",
       "\t<tr><td>stricter-gun-laws          </td><td>66.45455</td><td>5.145165</td></tr>\n",
       "</tbody>\n",
       "</table>\n"
      ],
      "text/latex": [
       "A tibble: 8 × 3\n",
       "\\begin{tabular}{lll}\n",
       " Question & m & sd\\\\\n",
       " <chr> & <dbl> & <dbl>\\\\\n",
       "\\hline\n",
       "\t age-21                      & 75.85714 & 6.011893\\\\\n",
       "\t arm-teachers                & 42.00000 & 1.549193\\\\\n",
       "\t background-checks           & 87.42857 & 7.322503\\\\\n",
       "\t ban-assault-weapons         & 61.75000 & 6.440285\\\\\n",
       "\t ban-high-capacity-magazines & 67.28571 & 3.860669\\\\\n",
       "\t mental-health-own-gun       & 85.83333 & 5.455884\\\\\n",
       "\t repeal-2nd-amendment        & 10.00000 &       NA\\\\\n",
       "\t stricter-gun-laws           & 66.45455 & 5.145165\\\\\n",
       "\\end{tabular}\n"
      ],
      "text/markdown": [
       "\n",
       "A tibble: 8 × 3\n",
       "\n",
       "| Question &lt;chr&gt; | m &lt;dbl&gt; | sd &lt;dbl&gt; |\n",
       "|---|---|---|\n",
       "| age-21                      | 75.85714 | 6.011893 |\n",
       "| arm-teachers                | 42.00000 | 1.549193 |\n",
       "| background-checks           | 87.42857 | 7.322503 |\n",
       "| ban-assault-weapons         | 61.75000 | 6.440285 |\n",
       "| ban-high-capacity-magazines | 67.28571 | 3.860669 |\n",
       "| mental-health-own-gun       | 85.83333 | 5.455884 |\n",
       "| repeal-2nd-amendment        | 10.00000 |       NA |\n",
       "| stricter-gun-laws           | 66.45455 | 5.145165 |\n",
       "\n"
      ],
      "text/plain": [
       "  Question                    m        sd      \n",
       "1 age-21                      75.85714 6.011893\n",
       "2 arm-teachers                42.00000 1.549193\n",
       "3 background-checks           87.42857 7.322503\n",
       "4 ban-assault-weapons         61.75000 6.440285\n",
       "5 ban-high-capacity-magazines 67.28571 3.860669\n",
       "6 mental-health-own-gun       85.83333 5.455884\n",
       "7 repeal-2nd-amendment        10.00000       NA\n",
       "8 stricter-gun-laws           66.45455 5.145165"
      ]
     },
     "metadata": {},
     "output_type": "display_data"
    }
   ],
   "source": [
    "groups = group_by(d, Question)\n",
    "summarize(groups, m=mean(Support), sd=sd(Support))"
   ]
  },
  {
   "cell_type": "code",
   "execution_count": 6,
   "metadata": {
    "tags": [
     "snippet:aggregate2",
     "output:table"
    ]
   },
   "outputs": [
    {
     "data": {
      "text/html": [
       "<table class=\"dataframe\">\n",
       "<caption>A tibble: 8 × 3</caption>\n",
       "<thead>\n",
       "\t<tr><th scope=col>Question</th><th scope=col>m</th><th scope=col>sd</th></tr>\n",
       "\t<tr><th scope=col>&lt;chr&gt;</th><th scope=col>&lt;dbl&gt;</th><th scope=col>&lt;dbl&gt;</th></tr>\n",
       "</thead>\n",
       "<tbody>\n",
       "\t<tr><td>age-21                     </td><td>75.85714</td><td>6.011893</td></tr>\n",
       "\t<tr><td>arm-teachers               </td><td>42.00000</td><td>1.549193</td></tr>\n",
       "\t<tr><td>background-checks          </td><td>87.42857</td><td>7.322503</td></tr>\n",
       "\t<tr><td>ban-assault-weapons        </td><td>61.75000</td><td>6.440285</td></tr>\n",
       "\t<tr><td>ban-high-capacity-magazines</td><td>67.28571</td><td>3.860669</td></tr>\n",
       "\t<tr><td>mental-health-own-gun      </td><td>85.83333</td><td>5.455884</td></tr>\n",
       "\t<tr><td>repeal-2nd-amendment       </td><td>10.00000</td><td>      NA</td></tr>\n",
       "\t<tr><td>stricter-gun-laws          </td><td>66.45455</td><td>5.145165</td></tr>\n",
       "</tbody>\n",
       "</table>\n"
      ],
      "text/latex": [
       "A tibble: 8 × 3\n",
       "\\begin{tabular}{lll}\n",
       " Question & m & sd\\\\\n",
       " <chr> & <dbl> & <dbl>\\\\\n",
       "\\hline\n",
       "\t age-21                      & 75.85714 & 6.011893\\\\\n",
       "\t arm-teachers                & 42.00000 & 1.549193\\\\\n",
       "\t background-checks           & 87.42857 & 7.322503\\\\\n",
       "\t ban-assault-weapons         & 61.75000 & 6.440285\\\\\n",
       "\t ban-high-capacity-magazines & 67.28571 & 3.860669\\\\\n",
       "\t mental-health-own-gun       & 85.83333 & 5.455884\\\\\n",
       "\t repeal-2nd-amendment        & 10.00000 &       NA\\\\\n",
       "\t stricter-gun-laws           & 66.45455 & 5.145165\\\\\n",
       "\\end{tabular}\n"
      ],
      "text/markdown": [
       "\n",
       "A tibble: 8 × 3\n",
       "\n",
       "| Question &lt;chr&gt; | m &lt;dbl&gt; | sd &lt;dbl&gt; |\n",
       "|---|---|---|\n",
       "| age-21                      | 75.85714 | 6.011893 |\n",
       "| arm-teachers                | 42.00000 | 1.549193 |\n",
       "| background-checks           | 87.42857 | 7.322503 |\n",
       "| ban-assault-weapons         | 61.75000 | 6.440285 |\n",
       "| ban-high-capacity-magazines | 67.28571 | 3.860669 |\n",
       "| mental-health-own-gun       | 85.83333 | 5.455884 |\n",
       "| repeal-2nd-amendment        | 10.00000 |       NA |\n",
       "| stricter-gun-laws           | 66.45455 | 5.145165 |\n",
       "\n"
      ],
      "text/plain": [
       "  Question                    m        sd      \n",
       "1 age-21                      75.85714 6.011893\n",
       "2 arm-teachers                42.00000 1.549193\n",
       "3 background-checks           87.42857 7.322503\n",
       "4 ban-assault-weapons         61.75000 6.440285\n",
       "5 ban-high-capacity-magazines 67.28571 3.860669\n",
       "6 mental-health-own-gun       85.83333 5.455884\n",
       "7 repeal-2nd-amendment        10.00000       NA\n",
       "8 stricter-gun-laws           66.45455 5.145165"
      ]
     },
     "metadata": {},
     "output_type": "display_data"
    }
   ],
   "source": [
    "d %>% group_by(Question) %>% \n",
    "  summarize(m=mean(Support), sd=sd(Support))"
   ]
  },
  {
   "cell_type": "code",
   "execution_count": 7,
   "metadata": {
    "tags": [
     "table:resize",
     "output:table",
     "snippet:transform"
    ]
   },
   "outputs": [
    {
     "data": {
      "text/html": [
       "<table class=\"dataframe\">\n",
       "<caption>A grouped_df: 6 × 10</caption>\n",
       "<thead>\n",
       "\t<tr><th scope=col>Question</th><th scope=col>Start</th><th scope=col>End</th><th scope=col>Pollster</th><th scope=col>Population</th><th scope=col>Support</th><th scope=col>rep</th><th scope=col>dem</th><th scope=col>mean</th><th scope=col>deviation</th></tr>\n",
       "\t<tr><th scope=col>&lt;chr&gt;</th><th scope=col>&lt;chr&gt;</th><th scope=col>&lt;chr&gt;</th><th scope=col>&lt;chr&gt;</th><th scope=col>&lt;chr&gt;</th><th scope=col>&lt;dbl&gt;</th><th scope=col>&lt;dbl&gt;</th><th scope=col>&lt;dbl&gt;</th><th scope=col>&lt;dbl&gt;</th><th scope=col>&lt;dbl&gt;</th></tr>\n",
       "</thead>\n",
       "<tbody>\n",
       "\t<tr><td>age-21</td><td>2/20/18</td><td>2/23/18</td><td>CNN/SSRS          </td><td>Registered Voters</td><td>72</td><td>61</td><td>86</td><td>75.85714</td><td>-3.857143</td></tr>\n",
       "\t<tr><td>age-21</td><td>2/27/18</td><td>2/28/18</td><td>NPR/Ipsos         </td><td>Adults           </td><td>82</td><td>72</td><td>92</td><td>75.85714</td><td> 6.142857</td></tr>\n",
       "\t<tr><td>age-21</td><td>3/1/18 </td><td>3/4/18 </td><td>Rasmussen         </td><td>Adults           </td><td>67</td><td>59</td><td>76</td><td>75.85714</td><td>-8.857143</td></tr>\n",
       "\t<tr><td>age-21</td><td>2/22/18</td><td>2/26/18</td><td>Harris Interactive</td><td>Registered Voters</td><td>84</td><td>77</td><td>92</td><td>75.85714</td><td> 8.142857</td></tr>\n",
       "\t<tr><td>age-21</td><td>3/3/18 </td><td>3/5/18 </td><td>Quinnipiac        </td><td>Registered Voters</td><td>78</td><td>63</td><td>93</td><td>75.85714</td><td> 2.142857</td></tr>\n",
       "\t<tr><td>age-21</td><td>3/4/18 </td><td>3/6/18 </td><td>YouGov            </td><td>Registered Voters</td><td>72</td><td>65</td><td>80</td><td>75.85714</td><td>-3.857143</td></tr>\n",
       "</tbody>\n",
       "</table>\n"
      ],
      "text/latex": [
       "A grouped\\_df: 6 × 10\n",
       "\\begin{tabular}{llllllllll}\n",
       " Question & Start & End & Pollster & Population & Support & rep & dem & mean & deviation\\\\\n",
       " <chr> & <chr> & <chr> & <chr> & <chr> & <dbl> & <dbl> & <dbl> & <dbl> & <dbl>\\\\\n",
       "\\hline\n",
       "\t age-21 & 2/20/18 & 2/23/18 & CNN/SSRS           & Registered Voters & 72 & 61 & 86 & 75.85714 & -3.857143\\\\\n",
       "\t age-21 & 2/27/18 & 2/28/18 & NPR/Ipsos          & Adults            & 82 & 72 & 92 & 75.85714 &  6.142857\\\\\n",
       "\t age-21 & 3/1/18  & 3/4/18  & Rasmussen          & Adults            & 67 & 59 & 76 & 75.85714 & -8.857143\\\\\n",
       "\t age-21 & 2/22/18 & 2/26/18 & Harris Interactive & Registered Voters & 84 & 77 & 92 & 75.85714 &  8.142857\\\\\n",
       "\t age-21 & 3/3/18  & 3/5/18  & Quinnipiac         & Registered Voters & 78 & 63 & 93 & 75.85714 &  2.142857\\\\\n",
       "\t age-21 & 3/4/18  & 3/6/18  & YouGov             & Registered Voters & 72 & 65 & 80 & 75.85714 & -3.857143\\\\\n",
       "\\end{tabular}\n"
      ],
      "text/markdown": [
       "\n",
       "A grouped_df: 6 × 10\n",
       "\n",
       "| Question &lt;chr&gt; | Start &lt;chr&gt; | End &lt;chr&gt; | Pollster &lt;chr&gt; | Population &lt;chr&gt; | Support &lt;dbl&gt; | rep &lt;dbl&gt; | dem &lt;dbl&gt; | mean &lt;dbl&gt; | deviation &lt;dbl&gt; |\n",
       "|---|---|---|---|---|---|---|---|---|---|\n",
       "| age-21 | 2/20/18 | 2/23/18 | CNN/SSRS           | Registered Voters | 72 | 61 | 86 | 75.85714 | -3.857143 |\n",
       "| age-21 | 2/27/18 | 2/28/18 | NPR/Ipsos          | Adults            | 82 | 72 | 92 | 75.85714 |  6.142857 |\n",
       "| age-21 | 3/1/18  | 3/4/18  | Rasmussen          | Adults            | 67 | 59 | 76 | 75.85714 | -8.857143 |\n",
       "| age-21 | 2/22/18 | 2/26/18 | Harris Interactive | Registered Voters | 84 | 77 | 92 | 75.85714 |  8.142857 |\n",
       "| age-21 | 3/3/18  | 3/5/18  | Quinnipiac         | Registered Voters | 78 | 63 | 93 | 75.85714 |  2.142857 |\n",
       "| age-21 | 3/4/18  | 3/6/18  | YouGov             | Registered Voters | 72 | 65 | 80 | 75.85714 | -3.857143 |\n",
       "\n"
      ],
      "text/plain": [
       "  Question Start   End     Pollster           Population        Support rep dem\n",
       "1 age-21   2/20/18 2/23/18 CNN/SSRS           Registered Voters 72      61  86 \n",
       "2 age-21   2/27/18 2/28/18 NPR/Ipsos          Adults            82      72  92 \n",
       "3 age-21   3/1/18  3/4/18  Rasmussen          Adults            67      59  76 \n",
       "4 age-21   2/22/18 2/26/18 Harris Interactive Registered Voters 84      77  92 \n",
       "5 age-21   3/3/18  3/5/18  Quinnipiac         Registered Voters 78      63  93 \n",
       "6 age-21   3/4/18  3/6/18  YouGov             Registered Voters 72      65  80 \n",
       "  mean     deviation\n",
       "1 75.85714 -3.857143\n",
       "2 75.85714  6.142857\n",
       "3 75.85714 -8.857143\n",
       "4 75.85714  8.142857\n",
       "5 75.85714  2.142857\n",
       "6 75.85714 -3.857143"
      ]
     },
     "metadata": {},
     "output_type": "display_data"
    }
   ],
   "source": [
    "d = d %>% group_by(Question) %>% \n",
    "  mutate(mean = mean(Support), \n",
    "         deviation=Support - mean)\n",
    "head(d)"
   ]
  }
 ],
 "metadata": {
  "celltoolbar": "Tags",
  "kernelspec": {
   "display_name": "R",
   "language": "R",
   "name": "ir"
  },
  "language_info": {
   "codemirror_mode": "r",
   "file_extension": ".r",
   "mimetype": "text/x-r-source",
   "name": "R",
   "pygments_lexer": "r",
   "version": "4.0.5"
  }
 },
 "nbformat": 4,
 "nbformat_minor": 4
}
