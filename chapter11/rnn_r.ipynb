{
 "cells": [
  {
   "cell_type": "code",
   "execution_count": 16,
   "metadata": {},
   "outputs": [
    {
     "name": "stderr",
     "output_type": "stream",
     "text": [
      "\n",
      "Attaching package: ‘glue’\n",
      "\n",
      "\n",
      "The following object is masked from ‘package:dplyr’:\n",
      "\n",
      "    collapse\n",
      "\n",
      "\n"
     ]
    }
   ],
   "source": [
    "library(keras)\n",
    "library(tidyverse)\n",
    "library(glue)"
   ]
  },
  {
   "cell_type": "code",
   "execution_count": 4,
   "metadata": {
    "tags": [
     "snippet:rnndata",
     "output:table"
    ]
   },
   "outputs": [
    {
     "name": "stderr",
     "output_type": "stream",
     "text": [
      "\n",
      "\u001b[36m──\u001b[39m \u001b[1m\u001b[1mColumn specification\u001b[1m\u001b[22m \u001b[36m────────────────────────────────────────────────────────────────────────────────────────────────────────────────────────────────────────────────────────────────────────────────────────────\u001b[39m\n",
      "cols(\n",
      "  id = \u001b[32mcol_double()\u001b[39m,\n",
      "  value = \u001b[32mcol_double()\u001b[39m,\n",
      "  lemmata = \u001b[31mcol_character()\u001b[39m\n",
      ")\n",
      "\n",
      "\n"
     ]
    },
    {
     "data": {
      "text/html": [
       "<table class=\"dataframe\">\n",
       "<caption>A tibble: 6 × 3</caption>\n",
       "<thead>\n",
       "\t<tr><th scope=col>id</th><th scope=col>value</th><th scope=col>lemmata</th></tr>\n",
       "\t<tr><th scope=col>&lt;dbl&gt;</th><th scope=col>&lt;dbl&gt;</th><th scope=col>&lt;chr&gt;</th></tr>\n",
       "</thead>\n",
       "<tbody>\n",
       "\t<tr><td>10007</td><td>0</td><td>Rabobank voorspellen flink stijging hypotheekrente  </td></tr>\n",
       "\t<tr><td>10027</td><td>0</td><td>D66 willen reserve provincie aanspreken voor groei  </td></tr>\n",
       "\t<tr><td>10037</td><td>1</td><td>UWV dit jaar veel baan                              </td></tr>\n",
       "\t<tr><td>10059</td><td>1</td><td>proost op geslaagd beursgang bols                   </td></tr>\n",
       "\t<tr><td>10099</td><td>0</td><td>helft werknemer gaan na 65ste met pensioen          </td></tr>\n",
       "\t<tr><td>10101</td><td>1</td><td>Europa groeien voorzichtig dankzij laag energieprijs</td></tr>\n",
       "</tbody>\n",
       "</table>\n"
      ],
      "text/latex": [
       "A tibble: 6 × 3\n",
       "\\begin{tabular}{lll}\n",
       " id & value & lemmata\\\\\n",
       " <dbl> & <dbl> & <chr>\\\\\n",
       "\\hline\n",
       "\t 10007 & 0 & Rabobank voorspellen flink stijging hypotheekrente  \\\\\n",
       "\t 10027 & 0 & D66 willen reserve provincie aanspreken voor groei  \\\\\n",
       "\t 10037 & 1 & UWV dit jaar veel baan                              \\\\\n",
       "\t 10059 & 1 & proost op geslaagd beursgang bols                   \\\\\n",
       "\t 10099 & 0 & helft werknemer gaan na 65ste met pensioen          \\\\\n",
       "\t 10101 & 1 & Europa groeien voorzichtig dankzij laag energieprijs\\\\\n",
       "\\end{tabular}\n"
      ],
      "text/markdown": [
       "\n",
       "A tibble: 6 × 3\n",
       "\n",
       "| id &lt;dbl&gt; | value &lt;dbl&gt; | lemmata &lt;chr&gt; |\n",
       "|---|---|---|\n",
       "| 10007 | 0 | Rabobank voorspellen flink stijging hypotheekrente   |\n",
       "| 10027 | 0 | D66 willen reserve provincie aanspreken voor groei   |\n",
       "| 10037 | 1 | UWV dit jaar veel baan                               |\n",
       "| 10059 | 1 | proost op geslaagd beursgang bols                    |\n",
       "| 10099 | 0 | helft werknemer gaan na 65ste met pensioen           |\n",
       "| 10101 | 1 | Europa groeien voorzichtig dankzij laag energieprijs |\n",
       "\n"
      ],
      "text/plain": [
       "  id    value lemmata                                             \n",
       "1 10007 0     Rabobank voorspellen flink stijging hypotheekrente  \n",
       "2 10027 0     D66 willen reserve provincie aanspreken voor groei  \n",
       "3 10037 1     UWV dit jaar veel baan                              \n",
       "4 10059 1     proost op geslaagd beursgang bols                   \n",
       "5 10099 0     helft werknemer gaan na 65ste met pensioen          \n",
       "6 10101 1     Europa groeien voorzichtig dankzij laag energieprijs"
      ]
     },
     "metadata": {},
     "output_type": "display_data"
    }
   ],
   "source": [
    "url=\"https://cssbook.net/d/dutch_sentiment.csv\"\n",
    "d = read_csv(url)\n",
    "head(d)"
   ]
  },
  {
   "cell_type": "code",
   "execution_count": 6,
   "metadata": {
    "scrolled": true,
    "tags": [
     "snippet:rnnmodel"
    ]
   },
   "outputs": [
    {
     "data": {
      "text/plain": [
       "Model\n",
       "Model: \"functional_3\"\n",
       "________________________________________________________________________________\n",
       "Layer (type)                        Output Shape                    Param #     \n",
       "================================================================================\n",
       "input_2 (InputLayer)                [(None, 1)]                     0           \n",
       "________________________________________________________________________________\n",
       "text_vectorization_1 (TextVectoriza (None, 50)                      0           \n",
       "________________________________________________________________________________\n",
       "embedding_1 (Embedding)             (None, 50, 16)                  160016      \n",
       "________________________________________________________________________________\n",
       "conv1d_1 (Conv1D)                   (None, 48, 128)                 6272        \n",
       "________________________________________________________________________________\n",
       "global_max_pooling1d_1 (GlobalMaxPo (None, 128)                     0           \n",
       "________________________________________________________________________________\n",
       "dense_3 (Dense)                     (None, 64)                      8256        \n",
       "________________________________________________________________________________\n",
       "dense_2 (Dense)                     (None, 1)                       65          \n",
       "================================================================================\n",
       "Total params: 174,609\n",
       "Trainable params: 174,609\n",
       "Non-trainable params: 0\n",
       "________________________________________________________________________________\n",
       "\n"
      ]
     },
     "metadata": {},
     "output_type": "display_data"
    }
   ],
   "source": [
    "text_vectorization = layer_text_vectorization(\n",
    "    max_tokens=10000, output_sequence_length=50)\n",
    "adapt(text_vectorization, d$lemmata)\n",
    "\n",
    "input = layer_input(shape=1, dtype = \"string\")\n",
    "output = input %>% \n",
    "  text_vectorization() %>% \n",
    "  layer_embedding(input_dim = 10000 + 1, \n",
    "                  output_dim = 16) %>%\n",
    "  layer_conv_1d(filters=128, kernel_size=3, \n",
    "                activation=\"relu\") %>%\n",
    "  layer_global_max_pooling_1d() %>%\n",
    "  layer_dense(units = 64, activation = \"relu\") %>%\n",
    "  layer_dense(units = 1, activation = \"tanh\")\n",
    "\n",
    "model = keras_model(input, output)\n",
    "model"
   ]
  },
  {
   "cell_type": "code",
   "execution_count": 24,
   "metadata": {
    "tags": [
     "snippet:rnn"
    ]
   },
   "outputs": [
    {
     "name": "stderr",
     "output_type": "stream",
     "text": [
      "Joining, by = c(\"id\", \"value\", \"lemmata\")\n",
      "\n"
     ]
    },
    {
     "name": "stdout",
     "output_type": "stream",
     "text": [
      "Accuracy: 0.431955218315125\n"
     ]
    }
   ],
   "source": [
    "# Split data into train and test\n",
    "d_train = d %>% slice_sample(n=4000)\n",
    "d_test = d %>% anti_join(d_train)\n",
    "\n",
    "\n",
    "\n",
    "# Train model\n",
    "compile(model, loss = \"binary_crossentropy\",\n",
    "        optimizer = \"adam\", metrics = \"accuracy\")\n",
    "fit(model, d_train$lemmata, d_train$value,\n",
    "  epochs = 10, batch_size = 512, \n",
    "  validation_split = 0.2)\n",
    "# Validate against test data\n",
    "eval=evaluate(model, d_test$lemmata, d_test$value)\n",
    "print(glue(\"Accuracy: {eval['accuracy']}\"))"
   ]
  }
 ],
 "metadata": {
  "celltoolbar": "Tags",
  "kernelspec": {
   "display_name": "R",
   "language": "R",
   "name": "ir"
  },
  "language_info": {
   "codemirror_mode": "r",
   "file_extension": ".r",
   "mimetype": "text/x-r-source",
   "name": "R",
   "pygments_lexer": "r",
   "version": "4.1.0"
  }
 },
 "nbformat": 4,
 "nbformat_minor": 4
}
