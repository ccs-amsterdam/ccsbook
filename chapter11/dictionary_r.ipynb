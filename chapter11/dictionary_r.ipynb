{
 "cells": [
  {
   "cell_type": "code",
   "execution_count": 1,
   "metadata": {
    "tags": [
     "snippet:chapter11install",
     "dontrun"
    ]
   },
   "outputs": [],
   "source": [
    "install.packages(c(\"tidyverse\", \"readtext\", \n",
    "    \"quanteda\", \"quanteda.textmodels\", \n",
    "    \"topicmodels\", \"keras\", \"topicdoc\"))"
   ]
  },
  {
   "cell_type": "code",
   "execution_count": 8,
   "metadata": {
    "scrolled": true,
    "tags": [
     "snippet:chapter11library"
    ]
   },
   "outputs": [],
   "source": [
    "# General packages and dictionary analysis\n",
    "library(glue)\n",
    "library(tidyverse)\n",
    "library(readtext)\n",
    "library(quanteda)\n",
    "\n",
    "# Supervised text classification\n",
    "library(quanteda.textmodels)\n",
    "library(MLmetrics)\n",
    "\n",
    "# Topic Modeling\n",
    "library(topicmodels)\n",
    "library(topicdoc)"
   ]
  },
  {
   "cell_type": "code",
   "execution_count": 3,
   "metadata": {
    "tags": [
     "snippet:reviewdata",
     "output:table"
    ]
   },
   "outputs": [
    {
     "name": "stdout",
     "output_type": "stream",
     "text": [
      "[1] \"Using cached data\"\n"
     ]
    },
    {
     "data": {
      "text/html": [
       "<table class=\"dataframe\">\n",
       "<caption>A data.frame: 6 × 3</caption>\n",
       "<thead>\n",
       "\t<tr><th></th><th scope=col>dataset</th><th scope=col>label</th><th scope=col>fn</th></tr>\n",
       "\t<tr><th></th><th scope=col>&lt;chr&gt;</th><th scope=col>&lt;chr&gt;</th><th scope=col>&lt;chr&gt;</th></tr>\n",
       "</thead>\n",
       "<tbody>\n",
       "\t<tr><th scope=row>1</th><td>test</td><td>neg</td><td>0_2.txt    </td></tr>\n",
       "\t<tr><th scope=row>2</th><td>test</td><td>neg</td><td>1_3.txt    </td></tr>\n",
       "\t<tr><th scope=row>3</th><td>test</td><td>neg</td><td>10_3.txt   </td></tr>\n",
       "\t<tr><th scope=row>4</th><td>test</td><td>neg</td><td>100_4.txt  </td></tr>\n",
       "\t<tr><th scope=row>5</th><td>test</td><td>neg</td><td>1000_3.txt </td></tr>\n",
       "\t<tr><th scope=row>6</th><td>test</td><td>neg</td><td>10000_4.txt</td></tr>\n",
       "</tbody>\n",
       "</table>\n"
      ],
      "text/latex": [
       "A data.frame: 6 × 3\n",
       "\\begin{tabular}{r|lll}\n",
       "  & dataset & label & fn\\\\\n",
       "  & <chr> & <chr> & <chr>\\\\\n",
       "\\hline\n",
       "\t1 & test & neg & 0\\_2.txt    \\\\\n",
       "\t2 & test & neg & 1\\_3.txt    \\\\\n",
       "\t3 & test & neg & 10\\_3.txt   \\\\\n",
       "\t4 & test & neg & 100\\_4.txt  \\\\\n",
       "\t5 & test & neg & 1000\\_3.txt \\\\\n",
       "\t6 & test & neg & 10000\\_4.txt\\\\\n",
       "\\end{tabular}\n"
      ],
      "text/markdown": [
       "\n",
       "A data.frame: 6 × 3\n",
       "\n",
       "| <!--/--> | dataset &lt;chr&gt; | label &lt;chr&gt; | fn &lt;chr&gt; |\n",
       "|---|---|---|---|\n",
       "| 1 | test | neg | 0_2.txt     |\n",
       "| 2 | test | neg | 1_3.txt     |\n",
       "| 3 | test | neg | 10_3.txt    |\n",
       "| 4 | test | neg | 100_4.txt   |\n",
       "| 5 | test | neg | 1000_3.txt  |\n",
       "| 6 | test | neg | 10000_4.txt |\n",
       "\n"
      ],
      "text/plain": [
       "  dataset label fn         \n",
       "1 test    neg   0_2.txt    \n",
       "2 test    neg   1_3.txt    \n",
       "3 test    neg   10_3.txt   \n",
       "4 test    neg   100_4.txt  \n",
       "5 test    neg   1000_3.txt \n",
       "6 test    neg   10000_4.txt"
      ]
     },
     "metadata": {},
     "output_type": "display_data"
    }
   ],
   "source": [
    "filename = \"reviewdata.rds\"\n",
    "if (file.exists(filename)) {\n",
    "    print(\"Using cached data\")\n",
    "    reviewdata= readRDS(filename)\n",
    "} else {\n",
    "    print(\"Downloading data\")\n",
    "    fn = \"aclImdb_v1.tar.gz\"\n",
    "    url = glue(\"https://cssbook.net/d/{fn}\")\n",
    "    download.file(url, fn)\n",
    "    untar(fn)\n",
    "    reviewdata = readtext(\n",
    "      file.path(\"aclImdb\", \"*\", \"*\", \"*.txt\"), \n",
    "      docvarsfrom = \"filepaths\", dvsep=\"[/\\\\]\",\n",
    "      docvarnames=c(\"i\",\"dataset\",\"label\",\"fn\"))\n",
    "    unlink(c(\"aclImdb\", fn), recursive=TRUE)\n",
    "    reviewdata = reviewdata %>% \n",
    "      filter(label %in% c(\"pos\", \"neg\")) %>% \n",
    "      select(-i) %>% \n",
    "      corpus()\n",
    "    saveRDS(reviewdata, filename)\n",
    "}\n",
    "head(docvars(reviewdata))"
   ]
  },
  {
   "cell_type": "code",
   "execution_count": 6,
   "metadata": {
    "scrolled": true,
    "tags": [
     "snippet:sentsimple",
     "output:table"
    ]
   },
   "outputs": [
    {
     "data": {
      "text/html": [
       "<table class=\"dataframe\">\n",
       "<caption>A data.frame: 6 × 4</caption>\n",
       "<thead>\n",
       "\t<tr><th></th><th scope=col>doc_id</th><th scope=col>pos</th><th scope=col>neg</th><th scope=col>sent</th></tr>\n",
       "\t<tr><th></th><th scope=col>&lt;chr&gt;</th><th scope=col>&lt;dbl&gt;</th><th scope=col>&lt;dbl&gt;</th><th scope=col>&lt;dbl&gt;</th></tr>\n",
       "</thead>\n",
       "<tbody>\n",
       "\t<tr><th scope=row>1</th><td>test/neg/11772_2.txt/11772_2.txt</td><td>12</td><td> 4</td><td> 8</td></tr>\n",
       "\t<tr><th scope=row>2</th><td>test/neg/4821_2.txt/4821_2.txt  </td><td> 7</td><td> 5</td><td> 2</td></tr>\n",
       "\t<tr><th scope=row>3</th><td>test/pos/8473_9.txt/8473_9.txt  </td><td>14</td><td> 9</td><td> 5</td></tr>\n",
       "\t<tr><th scope=row>4</th><td>test/pos/159_10.txt/159_10.txt  </td><td>20</td><td>12</td><td> 8</td></tr>\n",
       "\t<tr><th scope=row>5</th><td>test/neg/125_3.txt/125_3.txt    </td><td> 3</td><td> 7</td><td>-4</td></tr>\n",
       "\t<tr><th scope=row>6</th><td>test/neg/8146_4.txt/8146_4.txt  </td><td> 8</td><td> 5</td><td> 3</td></tr>\n",
       "</tbody>\n",
       "</table>\n"
      ],
      "text/latex": [
       "A data.frame: 6 × 4\n",
       "\\begin{tabular}{r|llll}\n",
       "  & doc\\_id & pos & neg & sent\\\\\n",
       "  & <chr> & <dbl> & <dbl> & <dbl>\\\\\n",
       "\\hline\n",
       "\t1 & test/neg/11772\\_2.txt/11772\\_2.txt & 12 &  4 &  8\\\\\n",
       "\t2 & test/neg/4821\\_2.txt/4821\\_2.txt   &  7 &  5 &  2\\\\\n",
       "\t3 & test/pos/8473\\_9.txt/8473\\_9.txt   & 14 &  9 &  5\\\\\n",
       "\t4 & test/pos/159\\_10.txt/159\\_10.txt   & 20 & 12 &  8\\\\\n",
       "\t5 & test/neg/125\\_3.txt/125\\_3.txt     &  3 &  7 & -4\\\\\n",
       "\t6 & test/neg/8146\\_4.txt/8146\\_4.txt   &  8 &  5 &  3\\\\\n",
       "\\end{tabular}\n"
      ],
      "text/markdown": [
       "\n",
       "A data.frame: 6 × 4\n",
       "\n",
       "| <!--/--> | doc_id &lt;chr&gt; | pos &lt;dbl&gt; | neg &lt;dbl&gt; | sent &lt;dbl&gt; |\n",
       "|---|---|---|---|---|\n",
       "| 1 | test/neg/11772_2.txt/11772_2.txt | 12 |  4 |  8 |\n",
       "| 2 | test/neg/4821_2.txt/4821_2.txt   |  7 |  5 |  2 |\n",
       "| 3 | test/pos/8473_9.txt/8473_9.txt   | 14 |  9 |  5 |\n",
       "| 4 | test/pos/159_10.txt/159_10.txt   | 20 | 12 |  8 |\n",
       "| 5 | test/neg/125_3.txt/125_3.txt     |  3 |  7 | -4 |\n",
       "| 6 | test/neg/8146_4.txt/8146_4.txt   |  8 |  5 |  3 |\n",
       "\n"
      ],
      "text/plain": [
       "  doc_id                           pos neg sent\n",
       "1 test/neg/11772_2.txt/11772_2.txt 12   4   8  \n",
       "2 test/neg/4821_2.txt/4821_2.txt    7   5   2  \n",
       "3 test/pos/8473_9.txt/8473_9.txt   14   9   5  \n",
       "4 test/pos/159_10.txt/159_10.txt   20  12   8  \n",
       "5 test/neg/125_3.txt/125_3.txt      3   7  -4  \n",
       "6 test/neg/8146_4.txt/8146_4.txt    8   5   3  "
      ]
     },
     "metadata": {},
     "output_type": "display_data"
    }
   ],
   "source": [
    "poswords = \"https://cssbook.net/d/positive.txt\"\n",
    "negwords = \"https://cssbook.net/d/negative.txt\"\n",
    "pos = scan(poswords, what=\"list\")\n",
    "neg = scan(negwords, what=\"list\")\n",
    "sentimentdict = dictionary(list(pos=pos, neg=neg))\n",
    "\n",
    "\n",
    "# For speed, we only take the first 100 reviews\n",
    "scores = corpus_sample(reviewdata, 100)  %>% \n",
    "  tokens() %>%\n",
    "  dfm() %>% \n",
    "  dfm_lookup(sentimentdict) %>% \n",
    "  convert(to=\"data.frame\")  %>% \n",
    "  mutate(sent = pos - neg)\n",
    "head(scores)"
   ]
  }
 ],
 "metadata": {
  "celltoolbar": "Tags",
  "kernelspec": {
   "display_name": "R",
   "language": "R",
   "name": "ir"
  },
  "language_info": {
   "codemirror_mode": "r",
   "file_extension": ".r",
   "mimetype": "text/x-r-source",
   "name": "R",
   "pygments_lexer": "r",
   "version": "4.1.0"
  }
 },
 "nbformat": 4,
 "nbformat_minor": 4
}
