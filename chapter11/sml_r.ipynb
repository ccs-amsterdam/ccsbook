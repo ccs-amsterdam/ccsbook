{
 "cells": [
  {
   "cell_type": "code",
   "execution_count": 1,
   "metadata": {
    "scrolled": true
   },
   "outputs": [
    {
     "name": "stderr",
     "output_type": "stream",
     "text": [
      "\n",
      "Attaching package: ‘MLmetrics’\n",
      "\n",
      "\n",
      "The following object is masked from ‘package:base’:\n",
      "\n",
      "    Recall\n",
      "\n",
      "\n",
      "── \u001b[1mAttaching packages\u001b[22m ─────────────────────────────────────────────────────────────────────────────────────────────────────────────────────────────────────────────────────────────────────────── tidyverse 1.3.1 ──\n",
      "\n",
      "\u001b[32m✔\u001b[39m \u001b[34mggplot2\u001b[39m 3.3.3     \u001b[32m✔\u001b[39m \u001b[34mpurrr  \u001b[39m 0.3.4\n",
      "\u001b[32m✔\u001b[39m \u001b[34mtibble \u001b[39m 3.1.2     \u001b[32m✔\u001b[39m \u001b[34mdplyr  \u001b[39m 1.0.6\n",
      "\u001b[32m✔\u001b[39m \u001b[34mtidyr  \u001b[39m 1.1.3     \u001b[32m✔\u001b[39m \u001b[34mstringr\u001b[39m 1.4.0\n",
      "\u001b[32m✔\u001b[39m \u001b[34mreadr  \u001b[39m 1.4.0     \u001b[32m✔\u001b[39m \u001b[34mforcats\u001b[39m 0.5.1\n",
      "\n",
      "── \u001b[1mConflicts\u001b[22m ────────────────────────────────────────────────────────────────────────────────────────────────────────────────────────────────────────────────────────────────────────────── tidyverse_conflicts() ──\n",
      "\u001b[31m✖\u001b[39m \u001b[34mdplyr\u001b[39m::\u001b[32mfilter()\u001b[39m masks \u001b[34mstats\u001b[39m::filter()\n",
      "\u001b[31m✖\u001b[39m \u001b[34mdplyr\u001b[39m::\u001b[32mlag()\u001b[39m    masks \u001b[34mstats\u001b[39m::lag()\n",
      "\n",
      "Package version: 3.0.0\n",
      "Unicode version: 13.0\n",
      "ICU version: 66.1\n",
      "\n",
      "Parallel computing: 8 of 8 threads used.\n",
      "\n",
      "See https://quanteda.io for tutorials and examples.\n",
      "\n"
     ]
    }
   ],
   "source": [
    "library(MLmetrics)\n",
    "library(tidyverse)\n",
    "library(quanteda)\n",
    "library(quanteda.textmodels)\n",
    "reviewdata= readRDS(\"reviewdata.rds\")"
   ]
  },
  {
   "cell_type": "code",
   "execution_count": 21,
   "metadata": {
    "scrolled": true,
    "tags": [
     "snippet:imdbbaseline"
    ]
   },
   "outputs": [
    {
     "data": {
      "text/html": [
       "<table class=\"dataframe\">\n",
       "<caption>A tibble: 2 × 4</caption>\n",
       "<thead>\n",
       "\t<tr><th scope=col>label</th><th scope=col>Precision</th><th scope=col>Recall</th><th scope=col>F1</th></tr>\n",
       "\t<tr><th scope=col>&lt;chr&gt;</th><th scope=col>&lt;dbl&gt;</th><th scope=col>&lt;dbl&gt;</th><th scope=col>&lt;dbl&gt;</th></tr>\n",
       "</thead>\n",
       "<tbody>\n",
       "\t<tr><td>pos</td><td>0.8250998</td><td>0.79368</td><td>0.8090850</td></tr>\n",
       "\t<tr><td>neg</td><td>0.8012485</td><td>0.83176</td><td>0.8162192</td></tr>\n",
       "</tbody>\n",
       "</table>\n"
      ],
      "text/latex": [
       "A tibble: 2 × 4\n",
       "\\begin{tabular}{llll}\n",
       " label & Precision & Recall & F1\\\\\n",
       " <chr> & <dbl> & <dbl> & <dbl>\\\\\n",
       "\\hline\n",
       "\t pos & 0.8250998 & 0.79368 & 0.8090850\\\\\n",
       "\t neg & 0.8012485 & 0.83176 & 0.8162192\\\\\n",
       "\\end{tabular}\n"
      ],
      "text/markdown": [
       "\n",
       "A tibble: 2 × 4\n",
       "\n",
       "| label &lt;chr&gt; | Precision &lt;dbl&gt; | Recall &lt;dbl&gt; | F1 &lt;dbl&gt; |\n",
       "|---|---|---|---|\n",
       "| pos | 0.8250998 | 0.79368 | 0.8090850 |\n",
       "| neg | 0.8012485 | 0.83176 | 0.8162192 |\n",
       "\n"
      ],
      "text/plain": [
       "  label Precision Recall  F1       \n",
       "1 pos   0.8250998 0.79368 0.8090850\n",
       "2 neg   0.8012485 0.83176 0.8162192"
      ]
     },
     "metadata": {},
     "output_type": "display_data"
    }
   ],
   "source": [
    "dfm_train = reviewdata %>% \n",
    "  corpus_subset(dataset == \"train\") %>% \n",
    "  tokens() %>%\n",
    "  dfm() %>% \n",
    "  dfm_trim(min_docfreq=0.01, docfreq_type=\"prop\")\n",
    "\n",
    "dfm_test = reviewdata %>% \n",
    "  corpus_subset(dataset == \"test\") %>% \n",
    "  tokens() %>%\n",
    "  dfm() %>% \n",
    "  dfm_match(featnames(dfm_train))\n",
    "\n",
    "myclassifier = textmodel_nb(dfm_train, \n",
    "                  docvars(dfm_train, \"label\"))\n",
    "\n",
    "predicted = predict(myclassifier,newdata=dfm_test)\n",
    "actual = docvars(dfm_test, \"label\")\n",
    "\n",
    "results = list()\n",
    "for (label in c(\"pos\", \"neg\")) {\n",
    "  results[[label]] = tibble(\n",
    "    Precision=Precision(actual, predicted, label),\n",
    "    Recall=Recall(actual, predicted, label),\n",
    "    F1=F1_Score(actual, predicted, label))\n",
    "}\n",
    "bind_rows(results, .id=\"label\")"
   ]
  }
 ],
 "metadata": {
  "celltoolbar": "Tags",
  "kernelspec": {
   "display_name": "R",
   "language": "R",
   "name": "ir"
  },
  "language_info": {
   "codemirror_mode": "r",
   "file_extension": ".r",
   "mimetype": "text/x-r-source",
   "name": "R",
   "pygments_lexer": "r",
   "version": "4.1.0"
  }
 },
 "nbformat": 4,
 "nbformat_minor": 4
}
