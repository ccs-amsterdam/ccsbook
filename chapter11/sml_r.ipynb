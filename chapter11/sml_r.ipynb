{
 "cells": [
  {
   "cell_type": "code",
   "execution_count": 2,
   "metadata": {
    "scrolled": true
   },
   "outputs": [
    {
     "name": "stderr",
     "output_type": "stream",
     "text": [
      "\n",
      "Attaching package: ‘MLmetrics’\n",
      "\n",
      "\n",
      "The following object is masked from ‘package:base’:\n",
      "\n",
      "    Recall\n",
      "\n",
      "\n",
      "── \u001b[1mAttaching packages\u001b[22m ─────────────────────────────────────────────────────────────────────────────────────────────────────────────────────────────────────────────────────────────────────────── tidyverse 1.3.1 ──\n",
      "\n",
      "\u001b[32m✔\u001b[39m \u001b[34mggplot2\u001b[39m 3.3.3     \u001b[32m✔\u001b[39m \u001b[34mpurrr  \u001b[39m 0.3.4\n",
      "\u001b[32m✔\u001b[39m \u001b[34mtibble \u001b[39m 3.1.1     \u001b[32m✔\u001b[39m \u001b[34mdplyr  \u001b[39m 1.0.5\n",
      "\u001b[32m✔\u001b[39m \u001b[34mtidyr  \u001b[39m 1.1.3     \u001b[32m✔\u001b[39m \u001b[34mstringr\u001b[39m 1.4.0\n",
      "\u001b[32m✔\u001b[39m \u001b[34mreadr  \u001b[39m 1.4.0     \u001b[32m✔\u001b[39m \u001b[34mforcats\u001b[39m 0.5.1\n",
      "\n",
      "── \u001b[1mConflicts\u001b[22m ────────────────────────────────────────────────────────────────────────────────────────────────────────────────────────────────────────────────────────────────────────────── tidyverse_conflicts() ──\n",
      "\u001b[31m✖\u001b[39m \u001b[34mdplyr\u001b[39m::\u001b[32mfilter()\u001b[39m masks \u001b[34mstats\u001b[39m::filter()\n",
      "\u001b[31m✖\u001b[39m \u001b[34mdplyr\u001b[39m::\u001b[32mlag()\u001b[39m    masks \u001b[34mstats\u001b[39m::lag()\n",
      "\n",
      "Package version: 3.0.0\n",
      "Unicode version: 10.0\n",
      "ICU version: 60.2\n",
      "\n",
      "Parallel computing: 8 of 8 threads used.\n",
      "\n",
      "See https://quanteda.io for tutorials and examples.\n",
      "\n",
      "Warning message in gzfile(file, \"rb\"):\n",
      "“cannot open compressed file 'reviewdata.rds', probable reason 'No such file or directory'”\n"
     ]
    },
    {
     "ename": "ERROR",
     "evalue": "Error in gzfile(file, \"rb\"): cannot open the connection\n",
     "output_type": "error",
     "traceback": [
      "Error in gzfile(file, \"rb\"): cannot open the connection\nTraceback:\n",
      "1. readRDS(\"reviewdata.rds\")",
      "2. gzfile(file, \"rb\")"
     ]
    }
   ],
   "source": [
    "library(MLmetrics)\n",
    "library(tidyverse)\n",
    "library(quanteda)\n",
    "library(quanteda.textmodels)\n",
    "reviewdata= readRDS(\"reviewdata.rds\")"
   ]
  },
  {
   "cell_type": "code",
   "execution_count": 1,
   "metadata": {
    "scrolled": true,
    "tags": [
     "snippet:imdbbaseline"
    ]
   },
   "outputs": [
    {
     "ename": "ERROR",
     "evalue": "Error in reviewdata %>% corpus_subset(dataset == \"train\") %>% dfm() %>% : could not find function \"%>%\"\n",
     "output_type": "error",
     "traceback": [
      "Error in reviewdata %>% corpus_subset(dataset == \"train\") %>% dfm() %>% : could not find function \"%>%\"\nTraceback:\n"
     ]
    }
   ],
   "source": [
    "dfm_train = reviewdata %>% \n",
    "  corpus_subset(dataset == \"train\") %>% \n",
    "  dfm() %>% \n",
    "  dfm_trim(min_docfreq=0.01, docfreq_type=\"prop\")\n",
    "\n",
    "dfm_test = reviewdata %>% corpus_subset(dataset == \"test\") %>% \n",
    "  dfm() %>% dfm_match(featnames(dfm_train))\n",
    "\n",
    "myclassifier = textmodel_nb(dfm_train, docvars(dfm_train, \"label\"))\n",
    "\n",
    "predicted = predict(myclassifier, newdata = dfm_test)\n",
    "\n",
    "actual = docvars(dfm_test, \"label\")\n",
    "metrics = c(Precision=Precision, Recall=Recall, F1=F1_Score)\n",
    "labels = c(\"pos\", \"neg\")\n",
    "map_dfc(metrics, ~ sapply(labels, ., y_true=actual, y_pred=predicted)) %>% \n",
    "  add_column(label=labels, .before=1)"
   ]
  }
 ],
 "metadata": {
  "celltoolbar": "Tags",
  "kernelspec": {
   "display_name": "R",
   "language": "R",
   "name": "ir"
  },
  "language_info": {
   "codemirror_mode": "r",
   "file_extension": ".r",
   "mimetype": "text/x-r-source",
   "name": "R",
   "pygments_lexer": "r",
   "version": "4.0.5"
  }
 },
 "nbformat": 4,
 "nbformat_minor": 4
}
