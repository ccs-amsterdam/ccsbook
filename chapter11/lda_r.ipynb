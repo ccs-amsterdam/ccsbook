{
 "cells": [
  {
   "cell_type": "code",
   "execution_count": 1,
   "metadata": {},
   "outputs": [
    {
     "name": "stderr",
     "output_type": "stream",
     "text": [
      "── \u001b[1mAttaching packages\u001b[22m ─────────────────────────────────────────────────────────────────────────────────────────────────────────────────────────────────────────────────────────────────────────── tidyverse 1.3.1 ──\n",
      "\n",
      "\u001b[32m✔\u001b[39m \u001b[34mggplot2\u001b[39m 3.3.3     \u001b[32m✔\u001b[39m \u001b[34mpurrr  \u001b[39m 0.3.4\n",
      "\u001b[32m✔\u001b[39m \u001b[34mtibble \u001b[39m 3.1.2     \u001b[32m✔\u001b[39m \u001b[34mdplyr  \u001b[39m 1.0.6\n",
      "\u001b[32m✔\u001b[39m \u001b[34mtidyr  \u001b[39m 1.1.3     \u001b[32m✔\u001b[39m \u001b[34mstringr\u001b[39m 1.4.0\n",
      "\u001b[32m✔\u001b[39m \u001b[34mreadr  \u001b[39m 1.4.0     \u001b[32m✔\u001b[39m \u001b[34mforcats\u001b[39m 0.5.1\n",
      "\n",
      "── \u001b[1mConflicts\u001b[22m ────────────────────────────────────────────────────────────────────────────────────────────────────────────────────────────────────────────────────────────────────────────── tidyverse_conflicts() ──\n",
      "\u001b[31m✖\u001b[39m \u001b[34mdplyr\u001b[39m::\u001b[32mfilter()\u001b[39m masks \u001b[34mstats\u001b[39m::filter()\n",
      "\u001b[31m✖\u001b[39m \u001b[34mdplyr\u001b[39m::\u001b[32mlag()\u001b[39m    masks \u001b[34mstats\u001b[39m::lag()\n",
      "\n",
      "Package version: 3.0.0\n",
      "Unicode version: 13.0\n",
      "ICU version: 66.1\n",
      "\n",
      "Parallel computing: 8 of 8 threads used.\n",
      "\n",
      "See https://quanteda.io for tutorials and examples.\n",
      "\n",
      "\n",
      "Attaching package: ‘glue’\n",
      "\n",
      "\n",
      "The following object is masked from ‘package:dplyr’:\n",
      "\n",
      "    collapse\n",
      "\n",
      "\n"
     ]
    }
   ],
   "source": [
    "library(tidyverse)\n",
    "library(quanteda)\n",
    "library(topicmodels)\n",
    "library(glue)\n",
    "library(topicdoc)"
   ]
  },
  {
   "cell_type": "code",
   "execution_count": 2,
   "metadata": {
    "tags": [
     "snippet:lda1"
    ]
   },
   "outputs": [
    {
     "name": "stderr",
     "output_type": "stream",
     "text": [
      "\n",
      "\u001b[36m──\u001b[39m \u001b[1m\u001b[1mColumn specification\u001b[1m\u001b[22m \u001b[36m────────────────────────────────────────────────────────────────────────────────────────────────────────────────────────────────────────────────────────────────────────────────────────────\u001b[39m\n",
      "cols(\n",
      "  FirstName = \u001b[31mcol_character()\u001b[39m,\n",
      "  President = \u001b[31mcol_character()\u001b[39m,\n",
      "  Date = \u001b[34mcol_date(format = \"\")\u001b[39m,\n",
      "  delivery = \u001b[31mcol_character()\u001b[39m,\n",
      "  type = \u001b[31mcol_character()\u001b[39m,\n",
      "  party = \u001b[31mcol_character()\u001b[39m,\n",
      "  text = \u001b[31mcol_character()\u001b[39m\n",
      ")\n",
      "\n",
      "\n"
     ]
    },
    {
     "data": {
      "text/plain": [
       "Document-feature matrix of: 738 documents, 746 features (97.02% sparse) and 6 docvars.\n",
       "         features\n",
       "docs      speaker mr vice president members congress first united around come\n",
       "  text1.1       1  1    1         1       1        1     1      1      1    0\n",
       "  text1.2       0  0    0         0       0        0     0      0      0    1\n",
       "  text1.3       0  0    0         0       0        0     0      0      0    0\n",
       "  text1.4       0  0    0         0       0        0     0      1      0    0\n",
       "  text1.5       0  0    0         0       0        0     0      0      0    0\n",
       "  text1.6       0  0    0         0       0        0     0      0      0    0\n",
       "[ reached max_ndoc ... 732 more documents, reached max_nfeat ... 736 more features ]"
      ]
     },
     "metadata": {},
     "output_type": "display_data"
    }
   ],
   "source": [
    "url = \"https://cssbook.net/d/sotu.csv\"\n",
    "sotu = read_csv(url) \n",
    "p_obama = sotu %>% \n",
    "  filter(President == \"Obama\") %>% \n",
    "  corpus() %>% \n",
    "  corpus_reshape(\"paragraphs\")\n",
    "dfm = p_obama %>% \n",
    "  tokens(remove_punct=T) %>%\n",
    "  dfm() %>% \n",
    "  dfm_remove(stopwords(\"english\")) %>%\n",
    "  dfm_trim(min_docfreq=.01,docfreq_type = \"prop\")\n",
    "dfm"
   ]
  },
  {
   "cell_type": "code",
   "execution_count": 3,
   "metadata": {
    "scrolled": true,
    "tags": [
     "snippet:lda2",
     "output:table"
    ]
   },
   "outputs": [
    {
     "data": {
      "text/html": [
       "<table class=\"dataframe\">\n",
       "<caption>A matrix: 10 × 10 of type chr</caption>\n",
       "<thead>\n",
       "\t<tr><th scope=col>Topic 1</th><th scope=col>Topic 2</th><th scope=col>Topic 3</th><th scope=col>Topic 4</th><th scope=col>Topic 5</th><th scope=col>Topic 6</th><th scope=col>Topic 7</th><th scope=col>Topic 8</th><th scope=col>Topic 9</th><th scope=col>Topic 10</th></tr>\n",
       "</thead>\n",
       "<tbody>\n",
       "\t<tr><td>college  </td><td>care     </td><td>us       </td><td>can        </td><td>years    </td><td>energy  </td><td>people    </td><td>country </td><td>world   </td><td>jobs      </td></tr>\n",
       "\t<tr><td>new      </td><td>health   </td><td>nation   </td><td>make       </td><td>first    </td><td>change  </td><td>get       </td><td>time    </td><td>american</td><td>year      </td></tr>\n",
       "\t<tr><td>workers  </td><td>still    </td><td>people   </td><td>congress   </td><td>economy  </td><td>new     </td><td>day       </td><td>future  </td><td>war     </td><td>years     </td></tr>\n",
       "\t<tr><td>education</td><td>families </td><td>can      </td><td>republicans</td><td>back     </td><td>clean   </td><td>now       </td><td>american</td><td>security</td><td>new       </td></tr>\n",
       "\t<tr><td>help     </td><td>americans</td><td>states   </td><td>democrats  </td><td>time     </td><td>world   </td><td>know      </td><td>america </td><td>people  </td><td>last      </td></tr>\n",
       "\t<tr><td>job      </td><td>like     </td><td>one      </td><td>work       </td><td>home     </td><td>power   </td><td>see       </td><td>people  </td><td>troops  </td><td>tax       </td></tr>\n",
       "\t<tr><td>every    </td><td>new      </td><td>america  </td><td>take       </td><td>crisis   </td><td>america </td><td>tax       </td><td>done    </td><td>us      </td><td>million   </td></tr>\n",
       "\t<tr><td>kids     </td><td>need     </td><td>together </td><td>pay        </td><td>financial</td><td>can     </td><td>americans </td><td>work    </td><td>america </td><td>$         </td></tr>\n",
       "\t<tr><td>small    </td><td>must     </td><td>united   </td><td>cuts       </td><td>two      </td><td>economy </td><td>government</td><td>get     </td><td>new     </td><td>businesses</td></tr>\n",
       "\t<tr><td>schools  </td><td>job      </td><td>president</td><td>banks      </td><td>plan     </td><td>research</td><td>american  </td><td>now     </td><td>nations </td><td>america   </td></tr>\n",
       "</tbody>\n",
       "</table>\n"
      ],
      "text/latex": [
       "A matrix: 10 × 10 of type chr\n",
       "\\begin{tabular}{llllllllll}\n",
       " Topic 1 & Topic 2 & Topic 3 & Topic 4 & Topic 5 & Topic 6 & Topic 7 & Topic 8 & Topic 9 & Topic 10\\\\\n",
       "\\hline\n",
       "\t college   & care      & us        & can         & years     & energy   & people     & country  & world    & jobs      \\\\\n",
       "\t new       & health    & nation    & make        & first     & change   & get        & time     & american & year      \\\\\n",
       "\t workers   & still     & people    & congress    & economy   & new      & day        & future   & war      & years     \\\\\n",
       "\t education & families  & can       & republicans & back      & clean    & now        & american & security & new       \\\\\n",
       "\t help      & americans & states    & democrats   & time      & world    & know       & america  & people   & last      \\\\\n",
       "\t job       & like      & one       & work        & home      & power    & see        & people   & troops   & tax       \\\\\n",
       "\t every     & new       & america   & take        & crisis    & america  & tax        & done     & us       & million   \\\\\n",
       "\t kids      & need      & together  & pay         & financial & can      & americans  & work     & america  & \\$         \\\\\n",
       "\t small     & must      & united    & cuts        & two       & economy  & government & get      & new      & businesses\\\\\n",
       "\t schools   & job       & president & banks       & plan      & research & american   & now      & nations  & america   \\\\\n",
       "\\end{tabular}\n"
      ],
      "text/markdown": [
       "\n",
       "A matrix: 10 × 10 of type chr\n",
       "\n",
       "| Topic 1 | Topic 2 | Topic 3 | Topic 4 | Topic 5 | Topic 6 | Topic 7 | Topic 8 | Topic 9 | Topic 10 |\n",
       "|---|---|---|---|---|---|---|---|---|---|\n",
       "| college   | care      | us        | can         | years     | energy   | people     | country  | world    | jobs       |\n",
       "| new       | health    | nation    | make        | first     | change   | get        | time     | american | year       |\n",
       "| workers   | still     | people    | congress    | economy   | new      | day        | future   | war      | years      |\n",
       "| education | families  | can       | republicans | back      | clean    | now        | american | security | new        |\n",
       "| help      | americans | states    | democrats   | time      | world    | know       | america  | people   | last       |\n",
       "| job       | like      | one       | work        | home      | power    | see        | people   | troops   | tax        |\n",
       "| every     | new       | america   | take        | crisis    | america  | tax        | done     | us       | million    |\n",
       "| kids      | need      | together  | pay         | financial | can      | americans  | work     | america  | $          |\n",
       "| small     | must      | united    | cuts        | two       | economy  | government | get      | new      | businesses |\n",
       "| schools   | job       | president | banks       | plan      | research | american   | now      | nations  | america    |\n",
       "\n"
      ],
      "text/plain": [
       "      Topic 1   Topic 2   Topic 3   Topic 4     Topic 5   Topic 6  Topic 7   \n",
       " [1,] college   care      us        can         years     energy   people    \n",
       " [2,] new       health    nation    make        first     change   get       \n",
       " [3,] workers   still     people    congress    economy   new      day       \n",
       " [4,] education families  can       republicans back      clean    now       \n",
       " [5,] help      americans states    democrats   time      world    know      \n",
       " [6,] job       like      one       work        home      power    see       \n",
       " [7,] every     new       america   take        crisis    america  tax       \n",
       " [8,] kids      need      together  pay         financial can      americans \n",
       " [9,] small     must      united    cuts        two       economy  government\n",
       "[10,] schools   job       president banks       plan      research american  \n",
       "      Topic 8  Topic 9  Topic 10  \n",
       " [1,] country  world    jobs      \n",
       " [2,] time     american year      \n",
       " [3,] future   war      years     \n",
       " [4,] american security new       \n",
       " [5,] america  people   last      \n",
       " [6,] people   troops   tax       \n",
       " [7,] done     us       million   \n",
       " [8,] work     america  $         \n",
       " [9,] get      new      businesses\n",
       "[10,] now      nations  america   "
      ]
     },
     "metadata": {},
     "output_type": "display_data"
    }
   ],
   "source": [
    "lda = dfm %>% \n",
    "  convert(to = \"topicmodels\") %>%\n",
    "  LDA(k=10,control=list(seed=123, alpha = 1/1:10))\n",
    "\n",
    "\n",
    "\n",
    "terms(lda, 10)"
   ]
  },
  {
   "cell_type": "code",
   "execution_count": 4,
   "metadata": {
    "scrolled": true,
    "tags": [
     "snippet:ldaresults1",
     "output:table"
    ]
   },
   "outputs": [
    {
     "data": {
      "text/html": [
       "<table class=\"dataframe\">\n",
       "<caption>A data.frame: 6 × 13</caption>\n",
       "<thead>\n",
       "\t<tr><th></th><th scope=col>doc_id</th><th scope=col>President</th><th scope=col>Date</th><th scope=col>Topic_1</th><th scope=col>Topic_2</th><th scope=col>Topic_3</th><th scope=col>Topic_4</th><th scope=col>Topic_5</th><th scope=col>Topic_6</th><th scope=col>Topic_7</th><th scope=col>Topic_8</th><th scope=col>Topic_9</th><th scope=col>Topic_10</th></tr>\n",
       "\t<tr><th></th><th scope=col>&lt;chr&gt;</th><th scope=col>&lt;chr&gt;</th><th scope=col>&lt;date&gt;</th><th scope=col>&lt;dbl&gt;</th><th scope=col>&lt;dbl&gt;</th><th scope=col>&lt;dbl&gt;</th><th scope=col>&lt;dbl&gt;</th><th scope=col>&lt;dbl&gt;</th><th scope=col>&lt;dbl&gt;</th><th scope=col>&lt;dbl&gt;</th><th scope=col>&lt;dbl&gt;</th><th scope=col>&lt;dbl&gt;</th><th scope=col>&lt;dbl&gt;</th></tr>\n",
       "</thead>\n",
       "<tbody>\n",
       "\t<tr><th scope=row>1</th><td>text1.1</td><td>Obama</td><td>2009-02-24</td><td>0.013920249</td><td>0.013920249</td><td>0.681016299</td><td>0.013958435</td><td>0.109552840</td><td>0.013940244</td><td>0.013928915</td><td>0.013938857</td><td>0.111895624</td><td>0.013928289</td></tr>\n",
       "\t<tr><th scope=row>2</th><td>text1.2</td><td>Obama</td><td>2009-02-24</td><td>0.010817618</td><td>0.529660710</td><td>0.383715945</td><td>0.010826304</td><td>0.010817139</td><td>0.010816612</td><td>0.010825601</td><td>0.010849458</td><td>0.010849549</td><td>0.010821065</td></tr>\n",
       "\t<tr><th scope=row>3</th><td>text1.3</td><td>Obama</td><td>2009-02-24</td><td>0.225158932</td><td>0.004360997</td><td>0.004365404</td><td>0.004358067</td><td>0.387834833</td><td>0.004366069</td><td>0.356468915</td><td>0.004375268</td><td>0.004354753</td><td>0.004356762</td></tr>\n",
       "\t<tr><th scope=row>4</th><td>text1.4</td><td>Obama</td><td>2009-02-24</td><td>0.008349675</td><td>0.008345439</td><td>0.439462311</td><td>0.008356367</td><td>0.008367663</td><td>0.008355544</td><td>0.008349396</td><td>0.493717715</td><td>0.008349213</td><td>0.008346677</td></tr>\n",
       "\t<tr><th scope=row>5</th><td>text1.5</td><td>Obama</td><td>2009-02-24</td><td>0.089106811</td><td>0.098659225</td><td>0.330131825</td><td>0.004954681</td><td>0.060645762</td><td>0.004977742</td><td>0.060033550</td><td>0.185271671</td><td>0.112512468</td><td>0.053706265</td></tr>\n",
       "\t<tr><th scope=row>6</th><td>text1.6</td><td>Obama</td><td>2009-02-24</td><td>0.012717996</td><td>0.012718835</td><td>0.506051395</td><td>0.012766016</td><td>0.392025793</td><td>0.012724883</td><td>0.012792718</td><td>0.012739463</td><td>0.012741326</td><td>0.012721575</td></tr>\n",
       "</tbody>\n",
       "</table>\n"
      ],
      "text/latex": [
       "A data.frame: 6 × 13\n",
       "\\begin{tabular}{r|lllllllllllll}\n",
       "  & doc\\_id & President & Date & Topic\\_1 & Topic\\_2 & Topic\\_3 & Topic\\_4 & Topic\\_5 & Topic\\_6 & Topic\\_7 & Topic\\_8 & Topic\\_9 & Topic\\_10\\\\\n",
       "  & <chr> & <chr> & <date> & <dbl> & <dbl> & <dbl> & <dbl> & <dbl> & <dbl> & <dbl> & <dbl> & <dbl> & <dbl>\\\\\n",
       "\\hline\n",
       "\t1 & text1.1 & Obama & 2009-02-24 & 0.013920249 & 0.013920249 & 0.681016299 & 0.013958435 & 0.109552840 & 0.013940244 & 0.013928915 & 0.013938857 & 0.111895624 & 0.013928289\\\\\n",
       "\t2 & text1.2 & Obama & 2009-02-24 & 0.010817618 & 0.529660710 & 0.383715945 & 0.010826304 & 0.010817139 & 0.010816612 & 0.010825601 & 0.010849458 & 0.010849549 & 0.010821065\\\\\n",
       "\t3 & text1.3 & Obama & 2009-02-24 & 0.225158932 & 0.004360997 & 0.004365404 & 0.004358067 & 0.387834833 & 0.004366069 & 0.356468915 & 0.004375268 & 0.004354753 & 0.004356762\\\\\n",
       "\t4 & text1.4 & Obama & 2009-02-24 & 0.008349675 & 0.008345439 & 0.439462311 & 0.008356367 & 0.008367663 & 0.008355544 & 0.008349396 & 0.493717715 & 0.008349213 & 0.008346677\\\\\n",
       "\t5 & text1.5 & Obama & 2009-02-24 & 0.089106811 & 0.098659225 & 0.330131825 & 0.004954681 & 0.060645762 & 0.004977742 & 0.060033550 & 0.185271671 & 0.112512468 & 0.053706265\\\\\n",
       "\t6 & text1.6 & Obama & 2009-02-24 & 0.012717996 & 0.012718835 & 0.506051395 & 0.012766016 & 0.392025793 & 0.012724883 & 0.012792718 & 0.012739463 & 0.012741326 & 0.012721575\\\\\n",
       "\\end{tabular}\n"
      ],
      "text/markdown": [
       "\n",
       "A data.frame: 6 × 13\n",
       "\n",
       "| <!--/--> | doc_id &lt;chr&gt; | President &lt;chr&gt; | Date &lt;date&gt; | Topic_1 &lt;dbl&gt; | Topic_2 &lt;dbl&gt; | Topic_3 &lt;dbl&gt; | Topic_4 &lt;dbl&gt; | Topic_5 &lt;dbl&gt; | Topic_6 &lt;dbl&gt; | Topic_7 &lt;dbl&gt; | Topic_8 &lt;dbl&gt; | Topic_9 &lt;dbl&gt; | Topic_10 &lt;dbl&gt; |\n",
       "|---|---|---|---|---|---|---|---|---|---|---|---|---|---|\n",
       "| 1 | text1.1 | Obama | 2009-02-24 | 0.013920249 | 0.013920249 | 0.681016299 | 0.013958435 | 0.109552840 | 0.013940244 | 0.013928915 | 0.013938857 | 0.111895624 | 0.013928289 |\n",
       "| 2 | text1.2 | Obama | 2009-02-24 | 0.010817618 | 0.529660710 | 0.383715945 | 0.010826304 | 0.010817139 | 0.010816612 | 0.010825601 | 0.010849458 | 0.010849549 | 0.010821065 |\n",
       "| 3 | text1.3 | Obama | 2009-02-24 | 0.225158932 | 0.004360997 | 0.004365404 | 0.004358067 | 0.387834833 | 0.004366069 | 0.356468915 | 0.004375268 | 0.004354753 | 0.004356762 |\n",
       "| 4 | text1.4 | Obama | 2009-02-24 | 0.008349675 | 0.008345439 | 0.439462311 | 0.008356367 | 0.008367663 | 0.008355544 | 0.008349396 | 0.493717715 | 0.008349213 | 0.008346677 |\n",
       "| 5 | text1.5 | Obama | 2009-02-24 | 0.089106811 | 0.098659225 | 0.330131825 | 0.004954681 | 0.060645762 | 0.004977742 | 0.060033550 | 0.185271671 | 0.112512468 | 0.053706265 |\n",
       "| 6 | text1.6 | Obama | 2009-02-24 | 0.012717996 | 0.012718835 | 0.506051395 | 0.012766016 | 0.392025793 | 0.012724883 | 0.012792718 | 0.012739463 | 0.012741326 | 0.012721575 |\n",
       "\n"
      ],
      "text/plain": [
       "  doc_id  President Date       Topic_1     Topic_2     Topic_3     Topic_4    \n",
       "1 text1.1 Obama     2009-02-24 0.013920249 0.013920249 0.681016299 0.013958435\n",
       "2 text1.2 Obama     2009-02-24 0.010817618 0.529660710 0.383715945 0.010826304\n",
       "3 text1.3 Obama     2009-02-24 0.225158932 0.004360997 0.004365404 0.004358067\n",
       "4 text1.4 Obama     2009-02-24 0.008349675 0.008345439 0.439462311 0.008356367\n",
       "5 text1.5 Obama     2009-02-24 0.089106811 0.098659225 0.330131825 0.004954681\n",
       "6 text1.6 Obama     2009-02-24 0.012717996 0.012718835 0.506051395 0.012766016\n",
       "  Topic_5     Topic_6     Topic_7     Topic_8     Topic_9     Topic_10   \n",
       "1 0.109552840 0.013940244 0.013928915 0.013938857 0.111895624 0.013928289\n",
       "2 0.010817139 0.010816612 0.010825601 0.010849458 0.010849549 0.010821065\n",
       "3 0.387834833 0.004366069 0.356468915 0.004375268 0.004354753 0.004356762\n",
       "4 0.008367663 0.008355544 0.008349396 0.493717715 0.008349213 0.008346677\n",
       "5 0.060645762 0.004977742 0.060033550 0.185271671 0.112512468 0.053706265\n",
       "6 0.392025793 0.012724883 0.012792718 0.012739463 0.012741326 0.012721575"
      ]
     },
     "metadata": {},
     "output_type": "display_data"
    }
   ],
   "source": [
    "topics = posterior(lda)$topics %>% \n",
    "  as_tibble() %>% \n",
    "  rename_all(~paste0(\"Topic_\", .))\n",
    "meta = docvars(p_obama) %>% \n",
    "  select(President:Date) %>%\n",
    "  add_column(doc_id=docnames(p_obama),.before=1)\n",
    "tpd = bind_cols(meta, topics) \n",
    "head(tpd)"
   ]
  },
  {
   "cell_type": "code",
   "execution_count": 5,
   "metadata": {
    "tags": [
     "snippet:ldaresults2"
    ]
   },
   "outputs": [
    {
     "name": "stdout",
     "output_type": "stream",
     "text": [
      "text7.73: So the question for those of us here tonight is how we, all of us, can better reflect America's hopes. I've served in Congress with many of you. I know many of you well. There are a lot of good people here on both sides of the aisle. And many of you have told me that this isn't what you signed up for: arguing past each other on cable shows, the constant fundraising, always looking over your shoulder at how the base will react to every decision.\n",
      "text5.1: Mr. Speaker, Mr. Vice President, members of Congress, fellow citizens:\n",
      "text2.12: And tonight, I'd like to talk about how together, we can deliver on that promise.\n"
     ]
    }
   ],
   "source": [
    "for (id in c(\"text7.73\", \"text5.1\", \"text2.12\")) {\n",
    "  text = as.character(p_obama)[id]\n",
    "  print(glue(\"{id}: {text}\"))\n",
    "}"
   ]
  },
  {
   "cell_type": "code",
   "execution_count": 7,
   "metadata": {
    "scrolled": true,
    "tags": [
     "snippet:ldacoherence",
     "output:png"
    ]
   },
   "outputs": [
    {
     "data": {
      "image/png": "[encoded data removed]",
      "text/plain": [
       "plot without title"
      ]
     },
     "metadata": {
      "image/png": {
       "height": 420,
       "width": 420
      }
     },
     "output_type": "display_data"
    }
   ],
   "source": [
    "results = list()\n",
    "for (k in c(5, 10, 15, 20, 25, 30)) {\n",
    "    alpha = 1/((1:k)+sqrt(k))\n",
    "    dtm = convert(dfm, to=\"topicmodels\")\n",
    "    LDA(dtm,k=k,control=list(seed=99,alpha=alpha))\n",
    "    results[[as.character(k)]] = data.frame(\n",
    "      perplexity=perplexity(lda),\n",
    "      coherence=mean(topic_coherence(lda,dtm)))\n",
    "}\n",
    "bind_rows(results, .id=\"k\") %>% \n",
    "  mutate(k=as.numeric(k)) %>%\n",
    "  pivot_longer(-k) %>% \n",
    "  ggplot() + \n",
    "  geom_line(aes(x=k, y=value)) + \n",
    "  xlab(\"Number of topics\") + \n",
    "  facet_grid(name ~ ., scales=\"free\")"
   ]
  }
 ],
 "metadata": {
  "celltoolbar": "Tags",
  "kernelspec": {
   "display_name": "R",
   "language": "R",
   "name": "ir"
  },
  "language_info": {
   "codemirror_mode": "r",
   "file_extension": ".r",
   "mimetype": "text/x-r-source",
   "name": "R",
   "pygments_lexer": "r",
   "version": "4.1.0"
  }
 },
 "nbformat": 4,
 "nbformat_minor": 4
}
