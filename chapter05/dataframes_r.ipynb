{
 "cells": [
  {
   "cell_type": "code",
   "execution_count": 1,
   "metadata": {
    "scrolled": true,
    "tags": [
     "dontrun",
     "snippet:chapter05install"
    ]
   },
   "outputs": [],
   "source": [
    "#install.packages(c(\"sotu\", \"haven\", \"tidyverse\", \n",
    "#                   \"glue\", \"jsonlite\"))"
   ]
  },
  {
   "cell_type": "code",
   "execution_count": 2,
   "metadata": {
    "tags": [
     "snippet:chapter05library"
    ]
   },
   "outputs": [
    {
     "name": "stderr",
     "output_type": "stream",
     "text": [
      "── \u001b[1mAttaching packages\u001b[22m ─────────────────────────────────────────────────────────────────────────────────────────────────────────────────────────────────────────────────────────────────────────── tidyverse 1.3.1 ──\n",
      "\n",
      "\u001b[32m✔\u001b[39m \u001b[34mggplot2\u001b[39m 3.3.3     \u001b[32m✔\u001b[39m \u001b[34mpurrr  \u001b[39m 0.3.4\n",
      "\u001b[32m✔\u001b[39m \u001b[34mtibble \u001b[39m 3.1.2     \u001b[32m✔\u001b[39m \u001b[34mdplyr  \u001b[39m 1.0.6\n",
      "\u001b[32m✔\u001b[39m \u001b[34mtidyr  \u001b[39m 1.1.3     \u001b[32m✔\u001b[39m \u001b[34mstringr\u001b[39m 1.4.0\n",
      "\u001b[32m✔\u001b[39m \u001b[34mreadr  \u001b[39m 1.4.0     \u001b[32m✔\u001b[39m \u001b[34mforcats\u001b[39m 0.5.1\n",
      "\n",
      "── \u001b[1mConflicts\u001b[22m ────────────────────────────────────────────────────────────────────────────────────────────────────────────────────────────────────────────────────────────────────────────── tidyverse_conflicts() ──\n",
      "\u001b[31m✖\u001b[39m \u001b[34mdplyr\u001b[39m::\u001b[32mfilter()\u001b[39m masks \u001b[34mstats\u001b[39m::filter()\n",
      "\u001b[31m✖\u001b[39m \u001b[34mdplyr\u001b[39m::\u001b[32mlag()\u001b[39m    masks \u001b[34mstats\u001b[39m::lag()\n",
      "\n",
      "\n",
      "Attaching package: ‘glue’\n",
      "\n",
      "\n",
      "The following object is masked from ‘package:dplyr’:\n",
      "\n",
      "    collapse\n",
      "\n",
      "\n",
      "\n",
      "Attaching package: ‘jsonlite’\n",
      "\n",
      "\n",
      "The following object is masked from ‘package:purrr’:\n",
      "\n",
      "    flatten\n",
      "\n",
      "\n"
     ]
    }
   ],
   "source": [
    "library(tidyverse)\n",
    "library(haven)\n",
    "library(sotu)\n",
    "library(glue)\n",
    "library(jsonlite)"
   ]
  },
  {
   "cell_type": "code",
   "execution_count": 3,
   "metadata": {
    "tags": [
     "snippet:createdataframe"
    ]
   },
   "outputs": [
    {
     "name": "stdout",
     "output_type": "stream",
     "text": [
      "2 rows x 4 cols\n",
      "[1] 4 2\n",
      "[1] \"Element-wise equality of df1 and df2:\"\n",
      "       X1   X2\n",
      "[1,] TRUE TRUE\n",
      "[2,] TRUE TRUE\n",
      "[3,] TRUE TRUE\n",
      "[4,] TRUE TRUE\n"
     ]
    }
   ],
   "source": [
    "# Create two vectors that will be columns\n",
    "vector1 <- c(\"Anna\",\"Peter\",\"Sarah\",\"Kees\")\n",
    "vector2 <- c(40,33,40,77)\n",
    "\n",
    "# Create an array of four rows and two columns\n",
    "myarray <- array(c(vector1,vector2), dim=c(4,2))\n",
    "\n",
    "\n",
    "\n",
    "\n",
    "\n",
    "# Convert an array to a dataframe\n",
    "df1=data.frame(myarray)\n",
    "\n",
    "# Or create the data frame directly from vectors\n",
    "df2=data.frame(vector1, vector2)\n",
    "\n",
    "# No. of rows, no. of columns, and dimension\n",
    "print(glue(\"{ncol(df1)} rows x {nrow(df1)} cols\"))\n",
    "print(dim(df1))\n",
    "\n",
    "print(\"Element-wise equality of df1 and df2:\")\n",
    "print(df1 == df2)"
   ]
  },
  {
   "cell_type": "code",
   "execution_count": 4,
   "metadata": {
    "tags": [
     "snippet:readfiles"
    ]
   },
   "outputs": [
    {
     "name": "stderr",
     "output_type": "stream",
     "text": [
      "\n",
      "\u001b[36m──\u001b[39m \u001b[1m\u001b[1mColumn specification\u001b[1m\u001b[22m \u001b[36m────────────────────────────────────────────────────────────────────────────────────────────────────────────────────────────────────────────────────────────────────────────────────────────\u001b[39m\n",
      "cols(\n",
      "  gender = \u001b[32mcol_double()\u001b[39m,\n",
      "  age = \u001b[32mcol_double()\u001b[39m,\n",
      "  education = \u001b[32mcol_double()\u001b[39m,\n",
      "  radio = \u001b[32mcol_double()\u001b[39m,\n",
      "  newspaper = \u001b[32mcol_double()\u001b[39m,\n",
      "  tv = \u001b[32mcol_double()\u001b[39m,\n",
      "  internet = \u001b[32mcol_double()\u001b[39m\n",
      ")\n",
      "\n",
      "\n",
      "\n",
      "\u001b[36m──\u001b[39m \u001b[1m\u001b[1mColumn specification\u001b[1m\u001b[22m \u001b[36m────────────────────────────────────────────────────────────────────────────────────────────────────────────────────────────────────────────────────────────────────────────────────────────\u001b[39m\n",
      "cols(\n",
      "  gender = \u001b[32mcol_double()\u001b[39m,\n",
      "  age = \u001b[32mcol_double()\u001b[39m,\n",
      "  education = \u001b[32mcol_double()\u001b[39m,\n",
      "  radio = \u001b[32mcol_double()\u001b[39m,\n",
      "  newspaper = \u001b[32mcol_double()\u001b[39m,\n",
      "  tv = \u001b[32mcol_double()\u001b[39m,\n",
      "  internet = \u001b[32mcol_double()\u001b[39m\n",
      ")\n",
      "\n",
      "\n"
     ]
    }
   ],
   "source": [
    "url = \"https://cssbook.net/d/media.csv\"\n",
    "# Directly read a csv file from internet\n",
    "df = read_csv(url)\n",
    "\n",
    "# We can also explicitly specify delimiter etc.\n",
    "df = read_delim(url, delim = \",\")\n",
    "# Note: use ?read_csv to see all options\n",
    "\n",
    "# Save dataframe to a csv:\n",
    "write_csv(df,\"mynewcsvfile.csv\")"
   ]
  },
  {
   "cell_type": "code",
   "execution_count": 5,
   "metadata": {
    "tags": [
     "snippet:readingstopwords"
    ]
   },
   "outputs": [
    {
     "data": {
      "text/html": [
       "<style>\n",
       ".list-inline {list-style: none; margin:0; padding: 0}\n",
       ".list-inline>li {display: inline-block}\n",
       ".list-inline>li:not(:last-child)::after {content: \"\\00b7\"; padding: 0 .5ex}\n",
       "</style>\n",
       "<ol class=list-inline><li>'and'</li><li>'or'</li><li>'a'</li><li>'an'</li><li>'the'</li></ol>\n"
      ],
      "text/latex": [
       "\\begin{enumerate*}\n",
       "\\item 'and'\n",
       "\\item 'or'\n",
       "\\item 'a'\n",
       "\\item 'an'\n",
       "\\item 'the'\n",
       "\\end{enumerate*}\n"
      ],
      "text/markdown": [
       "1. 'and'\n",
       "2. 'or'\n",
       "3. 'a'\n",
       "4. 'an'\n",
       "5. 'the'\n",
       "\n",
       "\n"
      ],
      "text/plain": [
       "[1] \"and\" \"or\"  \"a\"   \"an\"  \"the\""
      ]
     },
     "metadata": {},
     "output_type": "display_data"
    }
   ],
   "source": [
    "# Define stopword list in the code itself \n",
    "stopwords = c(\"and\", \"or\", \"a\", \"an\", \"the\")\n",
    "\n",
    "# Better idea: Download stopwords file and read it\n",
    "url = \"https://cssbook.net/d/stopwords.txt\"\n",
    "download.file(url, \"stopwords.txt\")\n",
    "stopwords =  scan(\"stopwords.txt\", what=\"string\")\n",
    "stopwords"
   ]
  },
  {
   "cell_type": "code",
   "execution_count": 6,
   "metadata": {
    "tags": [
     "snippet:extendedfilehandling"
    ]
   },
   "outputs": [
    {
     "name": "stdout",
     "output_type": "stream",
     "text": [
      "$label\n",
      "[1] \"Report\"\n",
      "\n",
      "$entries\n",
      "[1] 1 2 3 4\n",
      "\n"
     ]
    }
   ],
   "source": [
    "# Modify the stopword list and save it:\n",
    "stopwords = c(stopwords, \n",
    "              \"somenewstopword\", \"andanotherone\")\n",
    "fileConn<-file(\"newstopwords.txt\")\n",
    "writeLines(stopwords, fileConn)\n",
    "close(fileConn)\n",
    "\n",
    "# Use json to read/write named lists\n",
    "somedict = list(label=\"Report\",\n",
    "               entries=c(1,2,3,4))\n",
    "\n",
    "write_json(somedict, \"/tmp/x.json\", auto_unbox=T)\n",
    "\n",
    "\n",
    "d=read_json(\"/tmp/x.json\", simplifyVector = T)\n",
    "print(d)"
   ]
  }
 ],
 "metadata": {
  "celltoolbar": "Tags",
  "kernelspec": {
   "display_name": "R",
   "language": "R",
   "name": "ir"
  },
  "language_info": {
   "codemirror_mode": "r",
   "file_extension": ".r",
   "mimetype": "text/x-r-source",
   "name": "R",
   "pygments_lexer": "r",
   "version": "4.0.5"
  }
 },
 "nbformat": 4,
 "nbformat_minor": 4
}
