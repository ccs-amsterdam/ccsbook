{
 "cells": [
  {
   "cell_type": "code",
   "execution_count": 1,
   "metadata": {
    "tags": [
     "dontrun",
     "snippet:chapter05install"
    ]
   },
   "outputs": [
    {
     "name": "stdout",
     "output_type": "stream",
     "text": [
      "Requirement already satisfied: pandas in /home/wva/.local/lib/python3.8/site-packages (1.1.4)\n",
      "Requirement already satisfied: nltk in /home/wva/.local/lib/python3.8/site-packages (3.5)\n",
      "Requirement already satisfied: scikit-learn in /home/wva/.local/lib/python3.8/site-packages (0.23.2)\n",
      "Requirement already satisfied: python-dateutil>=2.7.3 in /usr/lib/python3/dist-packages (from pandas) (2.7.3)\n",
      "Requirement already satisfied: numpy>=1.15.4 in /home/wva/.local/lib/python3.8/site-packages (from pandas) (1.19.4)\n",
      "Requirement already satisfied: pytz>=2017.2 in /usr/lib/python3/dist-packages (from pandas) (2019.3)\n",
      "Requirement already satisfied: regex in /home/wva/.local/lib/python3.8/site-packages (from nltk) (2020.11.13)\n",
      "Requirement already satisfied: click in /usr/lib/python3/dist-packages (from nltk) (7.0)\n",
      "Requirement already satisfied: joblib in /home/wva/.local/lib/python3.8/site-packages (from nltk) (0.17.0)\n",
      "Requirement already satisfied: tqdm in /usr/lib/python3/dist-packages (from nltk) (4.30.0)\n",
      "Requirement already satisfied: scipy>=0.19.1 in /home/wva/.local/lib/python3.8/site-packages (from scikit-learn) (1.5.4)\n",
      "Requirement already satisfied: threadpoolctl>=2.0.0 in /home/wva/.local/lib/python3.8/site-packages (from scikit-learn) (2.1.0)\n"
     ]
    }
   ],
   "source": [
    "!pip3 install pandas nltk scikit-learn"
   ]
  },
  {
   "cell_type": "code",
   "execution_count": 2,
   "metadata": {
    "tags": [
     "snippet:chapter05library"
    ]
   },
   "outputs": [],
   "source": [
    "import json\n",
    "import urllib\n",
    "import pandas as pd\n",
    "import nltk\n",
    "from nltk.corpus import state_union\n",
    "from sklearn.datasets import fetch_20newsgroups"
   ]
  },
  {
   "cell_type": "code",
   "execution_count": 3,
   "metadata": {
    "tags": [
     "snippet:createdataframe"
    ]
   },
   "outputs": [
    {
     "name": "stdout",
     "output_type": "stream",
     "text": [
      "4 rows x 2 cols\n",
      "Its shape is (4, 2)\n",
      "Element-wise equality of df and df2:\n",
      "      0     1\n",
      "0  True  True\n",
      "1  True  True\n",
      "2  True  True\n",
      "3  True  True\n"
     ]
    }
   ],
   "source": [
    "\n",
    "# Create two lists that will be columns\n",
    "list1 = [\"Anna\", \"Peter\", \"Sarah\", \"Kees\"]\n",
    "list2 = [40, 33, 40, 77]\n",
    "\n",
    "# or we could have a list of lists instead\n",
    "mytable = [[\"Anna\", 40],\n",
    "           [\"Peter\", 33],\n",
    "           [\"Sarah\", 40],\n",
    "           [\"Kees\", 77]]\n",
    "\n",
    "# Convert an array to a dataframe\n",
    "df=pd.DataFrame(mytable)\n",
    "\n",
    "# Or create the data frame directly from vectors\n",
    "df2=pd.DataFrame.from_records(zip(list1,list2))\n",
    "\n",
    "# No. of rows, no. of columns, and shape\n",
    "print(f\"{len(df)} rows x {len(df.columns)} cols\")\n",
    "print(f\"Its shape is {df.shape}\")\n",
    "\n",
    "print(\"Element-wise equality of df and df2:\")\n",
    "print(df == df2)"
   ]
  },
  {
   "cell_type": "code",
   "execution_count": 4,
   "metadata": {
    "tags": [
     "snippet:readfiles"
    ]
   },
   "outputs": [],
   "source": [
    "url = \"https://cssbook.net/d/media.csv\"\n",
    "# Directly read a csv file from internet\n",
    "df = pd.read_csv(url)\n",
    "\n",
    "# We can also explicitly specify delimiter etc.\n",
    "df = pd.read_csv(url, delimiter = \",\")\n",
    "# Note: use help(pd.read_csv) to see all options\n",
    "\n",
    "# Save dataframe to a csv:\n",
    "df.to_csv(\"mynewcsvfile.csv\")"
   ]
  },
  {
   "cell_type": "code",
   "execution_count": 5,
   "metadata": {
    "tags": [
     "snippet:readingstopwords"
    ]
   },
   "outputs": [
    {
     "data": {
      "text/plain": [
       "['and', 'or', 'a', 'an', 'the']"
      ]
     },
     "execution_count": 5,
     "metadata": {},
     "output_type": "execute_result"
    }
   ],
   "source": [
    "# Define stopword list in the code itself \n",
    "stopwords = [\"and\",\"or\",\"a\",\"an\",\"the\"]\n",
    "\n",
    "\n",
    "# Better idea: Download stopwords file and read it\n",
    "url = \"https://cssbook.net/d/stopwords.txt\"\n",
    "urllib.request.urlretrieve(url, \"stopwords.txt\")\n",
    "with open(\"stopwords.txt\") as f:\n",
    "    stopwords = [w.strip() for w in f] \n",
    "stopwords"
   ]
  },
  {
   "cell_type": "code",
   "execution_count": 6,
   "metadata": {
    "tags": [
     "snippet:extendedfilehandling"
    ]
   },
   "outputs": [
    {
     "name": "stdout",
     "output_type": "stream",
     "text": [
      "{'label': 'Report', 'entries': [1, 2, 3, 4]}\n"
     ]
    }
   ],
   "source": [
    "# Modify the stopword list and save it:\n",
    "stopwords += [\"somenewstopword\", \"andanotherone\"]\n",
    "with open(\"newstopwords.txt\",mode = \"w\") as f:\n",
    "    f.writelines(stopwords)\n",
    "\n",
    "\n",
    "    \n",
    "# Use json to read/write dictionaries\n",
    "somedict = {\"label\":\"Report\", \n",
    "            \"entries\":[1,2,3,4]}\n",
    "\n",
    "with open(\"test.json\",mode = \"w\") as f:\n",
    "    json.dump(somedict, f)\n",
    "\n",
    "with open(\"test.json\",mode = \"r\") as f:\n",
    "    d = json.load(f)\n",
    "print(d)"
   ]
  }
 ],
 "metadata": {
  "celltoolbar": "Tags",
  "kernelspec": {
   "display_name": "Python 3 (ipykernel)",
   "language": "python",
   "name": "python3"
  },
  "language_info": {
   "codemirror_mode": {
    "name": "ipython",
    "version": 3
   },
   "file_extension": ".py",
   "mimetype": "text/x-python",
   "name": "python",
   "nbconvert_exporter": "python",
   "pygments_lexer": "ipython3",
   "version": "3.8.10"
  }
 },
 "nbformat": 4,
 "nbformat_minor": 4
}
