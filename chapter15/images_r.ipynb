{
 "cells": [
  {
   "cell_type": "markdown",
   "metadata": {},
   "source": [
    "# Chapter 15. Introduction to Multimedia Data\n",
    "## Notebook for R"
   ]
  },
  {
   "cell_type": "markdown",
   "metadata": {},
   "source": [
    "### 15.1 Storing, representing, and converting multimedia data"
   ]
  },
  {
   "cell_type": "code",
   "execution_count": 1,
   "metadata": {
    "tags": [
     "snippet:load"
    ]
   },
   "outputs": [
    {
     "name": "stderr",
     "output_type": "stream",
     "text": [
      "Linking to ImageMagick 6.9.9.39\n",
      "Enabled features: cairo, fontconfig, freetype, lcms, pango, rsvg, webp\n",
      "Disabled features: fftw, ghostscript, x11\n",
      "\n"
     ]
    },
    {
     "name": "stdout",
     "output_type": "stream",
     "text": [
      "  format width height colorspace matte filesize density\n",
      "1   JPEG   805    453       sRGB FALSE    75275   72x72\n",
      "  format width height colorspace matte filesize density\n",
      "1    PNG  1540    978       sRGB  TRUE  2752059   57x57\n"
     ]
    }
   ],
   "source": [
    "library(magick)\n",
    "my_image1 = image_read('259_3_32_15.jpg')\n",
    "my_image2 = image_read('298_5_52_15.png')\n",
    "print(image_info(my_image1))\n",
    "print(image_info(my_image2))"
   ]
  },
  {
   "cell_type": "code",
   "execution_count": 12,
   "metadata": {
    "tags": [
     "snippet:imagel"
    ]
   },
   "outputs": [
    {
     "name": "stdout",
     "output_type": "stream",
     "text": [
      "[1] \"magick-image\"\n",
      "[1] \"array\"\n",
      "[1] 453 805   1\n"
     ]
    }
   ],
   "source": [
    "my_image1_L = image_convert(my_image1, colorspace = 'gray')\n",
    "print(class(my_image1_L))\n",
    "my_image1_L_array = as.integer(my_image1_L[[1]])\n",
    "print(class(my_image1_L_array))\n",
    "print(dim(my_image1_L_array))\n"
   ]
  },
  {
   "cell_type": "code",
   "execution_count": 13,
   "metadata": {
    "tags": [
     "snippet:imagergb"
    ]
   },
   "outputs": [
    {
     "name": "stdout",
     "output_type": "stream",
     "text": [
      "[1] \"magick-image\"\n",
      "[1] \"array\"\n",
      "[1] 453 805   3\n"
     ]
    }
   ],
   "source": [
    "my_image1_RGB = image_convert(my_image1, colorspace = 'RGB')\n",
    "print(class(my_image1_RGB))\n",
    "my_image1_RGB_array = as.integer(my_image1_RGB[[1]])\n",
    "print(class(my_image1_RGB_array))\n",
    "print(dim(my_image1_RGB_array))\n",
    "\n"
   ]
  }
 ],
 "metadata": {
  "celltoolbar": "Tags",
  "kernelspec": {
   "display_name": "R",
   "language": "R",
   "name": "ir"
  },
  "language_info": {
   "codemirror_mode": "r",
   "file_extension": ".r",
   "mimetype": "text/x-r-source",
   "name": "R",
   "pygments_lexer": "r",
   "version": "3.6.1"
  }
 },
 "nbformat": 4,
 "nbformat_minor": 2
}
