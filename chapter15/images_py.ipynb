{
 "cells": [
  {
   "cell_type": "markdown",
   "metadata": {},
   "source": [
    "# Chapter 15. Introduction to Multimedia Data\n",
    "## Notebook for Python"
   ]
  },
  {
   "cell_type": "markdown",
   "metadata": {},
   "source": [
    "### 15.1 Storing, representing, and converting multimedia data"
   ]
  },
  {
   "cell_type": "code",
   "execution_count": 1,
   "metadata": {
    "tags": [
     "snippet:load"
    ]
   },
   "outputs": [
    {
     "name": "stdout",
     "output_type": "stream",
     "text": [
      "<PIL.JpegImagePlugin.JpegImageFile image mode=RGB size=805x453 at 0x107D76B90>\n",
      "<PIL.PngImagePlugin.PngImageFile image mode=RGBA size=1540x978 at 0x10C415350>\n"
     ]
    }
   ],
   "source": [
    "from PIL import Image\n",
    "import numpy as np\n",
    "my_image1 = Image.open(\"259_3_32_15.jpg\")\n",
    "my_image2 = Image.open(\"298_5_52_15.png\")\n",
    "print(my_image1)\n",
    "print(my_image2)"
   ]
  },
  {
   "cell_type": "code",
   "execution_count": 4,
   "metadata": {
    "tags": [
     "snippet:imagel"
    ]
   },
   "outputs": [
    {
     "name": "stdout",
     "output_type": "stream",
     "text": [
      "<class 'PIL.Image.Image'>\n",
      "<class 'numpy.ndarray'>\n",
      "(453, 805)\n"
     ]
    }
   ],
   "source": [
    "my_image1_L = my_image1.convert('L')\n",
    "print(type(my_image1_L))\n",
    "my_image1_L_array = np.array(my_image1_L)\n",
    "print(type(my_image1_L_array))\n",
    "print(my_image1_L_array.shape)"
   ]
  },
  {
   "cell_type": "code",
   "execution_count": 6,
   "metadata": {
    "tags": [
     "snippet:imagergb"
    ]
   },
   "outputs": [
    {
     "name": "stdout",
     "output_type": "stream",
     "text": [
      "<class 'PIL.Image.Image'>\n",
      "<class 'numpy.ndarray'>\n",
      "(453, 805, 3)\n"
     ]
    }
   ],
   "source": [
    "my_image1_RGB = my_image1.convert('RGB')\n",
    "print(type(my_image1_RGB))\n",
    "my_image1_RGB_array = np.array(my_image1_RGB)\n",
    "print(type(my_image1_RGB_array))\n",
    "print(my_image1_RGB_array.shape)"
   ]
  },
  {
   "cell_type": "code",
   "execution_count": 29,
   "metadata": {},
   "outputs": [
    {
     "name": "stdout",
     "output_type": "stream",
     "text": [
      "<class 'PIL.Image.Image'>\n",
      "(978, 1540)\n"
     ]
    }
   ],
   "source": [
    "my_image1_L = my_image2.convert('L')\n",
    "print(type(my_image1_L))\n",
    "my_image1_L_array = np.array(my_image1_L)\n",
    "print(my_image1_L_array.shape)"
   ]
  },
  {
   "cell_type": "code",
   "execution_count": 30,
   "metadata": {},
   "outputs": [
    {
     "name": "stdout",
     "output_type": "stream",
     "text": [
      "<class 'PIL.Image.Image'>\n",
      "(978, 1540, 3)\n"
     ]
    }
   ],
   "source": [
    "my_image1_RGB = my_image2.convert('RGB')\n",
    "print(type(my_image1_RGB))\n",
    "my_image1_RGB_array = np.array(my_image1_RGB)\n",
    "print(my_image1_RGB_array.shape)"
   ]
  },
  {
   "cell_type": "code",
   "execution_count": 32,
   "metadata": {},
   "outputs": [
    {
     "data": {
      "text/plain": [
       "array([[228, 228, 228, ..., 174, 173, 172],\n",
       "       [227, 227, 227, ..., 174, 173, 172],\n",
       "       [227, 227, 227, ..., 172, 171, 170],\n",
       "       ...,\n",
       "       [ 84,  84,  84, ...,  73,  72,  71],\n",
       "       [ 84,  84,  84, ...,  63,  62,  61],\n",
       "       [ 84,  84,  84, ...,  56,  57,  57]], dtype=uint8)"
      ]
     },
     "execution_count": 32,
     "metadata": {},
     "output_type": "execute_result"
    }
   ],
   "source": [
    "my_image1_L_array"
   ]
  },
  {
   "cell_type": "code",
   "execution_count": null,
   "metadata": {},
   "outputs": [],
   "source": []
  }
 ],
 "metadata": {
  "celltoolbar": "Tags",
  "kernelspec": {
   "display_name": "Python 3",
   "language": "python",
   "name": "python3"
  },
  "language_info": {
   "codemirror_mode": {
    "name": "ipython",
    "version": 3
   },
   "file_extension": ".py",
   "mimetype": "text/x-python",
   "name": "python",
   "nbconvert_exporter": "python",
   "pygments_lexer": "ipython3",
   "version": "3.7.4"
  }
 },
 "nbformat": 4,
 "nbformat_minor": 2
}
