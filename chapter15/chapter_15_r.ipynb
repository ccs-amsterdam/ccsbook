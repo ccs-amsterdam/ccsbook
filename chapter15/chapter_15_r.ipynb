{
 "cells": [
  {
   "cell_type": "markdown",
   "metadata": {},
   "source": [
    "## Chapter 15. Scaling up and distributing\n",
    "#### Notebook for R\n",
    "\n",
    "Van Atteveldt, W., Trilling, D. & Arcila, C. (2022). <a href=\"https://cssbook.net\" target=\"_blank\">Computational Analysis of Communication</a>. Wiley.\n",
    "\n",
    "<table align=\"left\">\n",
    "  <td>\n",
    "    <a href=\"https://colab.research.google.com/github/ccs-amsterdam/ccsbook/blob/master/chapter15/chapter_15_r.ipynb\" target=\"_parent\"><img src=\"https://colab.research.google.com/assets/colab-badge.svg\" alt=\"Open In Colab\"/></a>\n",
    "  </td>\n",
    "  <td>\n",
    "</table>"
   ]
  },
  {
   "cell_type": "code",
   "execution_count": 3,
   "metadata": {},
   "outputs": [
    {
     "name": "stderr",
     "output_type": "stream",
     "text": [
      "also installing the dependency ‘plogr’\n",
      "\n",
      "\n"
     ]
    },
    {
     "name": "stdout",
     "output_type": "stream",
     "text": [
      "\n",
      "The downloaded binary packages are in\n",
      "\t/var/folders/p2/lqdpfmcj23lc082b9kvv9sj80000gn/T//RtmpJerFwt/downloaded_packages\n"
     ]
    }
   ],
   "source": [
    "install.packages(c(\"tidyverse\",\"RSQLite\"))"
   ]
  },
  {
   "cell_type": "code",
   "execution_count": 18,
   "metadata": {
    "tags": [
     "snippet:sqlite",
     "output:table"
    ]
   },
   "outputs": [
    {
     "name": "stderr",
     "output_type": "stream",
     "text": [
      "\u001b[1m\u001b[1mRows: \u001b[1m\u001b[22m\u001b[34m\u001b[34m57\u001b[34m\u001b[39m \u001b[1m\u001b[1mColumns: \u001b[1m\u001b[22m\u001b[34m\u001b[34m9\u001b[34m\u001b[39m\n",
      "\n",
      "\u001b[36m──\u001b[39m \u001b[1m\u001b[1mColumn specification\u001b[1m\u001b[22m \u001b[36m────────────────────────────────────────────────────────\u001b[39m\n",
      "\u001b[1mDelimiter:\u001b[22m \",\"\n",
      "\u001b[31mchr\u001b[39m (6): Question, Start, End, Pollster, Population, URL\n",
      "\u001b[32mdbl\u001b[39m (3): Support, Republican Support, Democratic Support\n",
      "\n",
      "\n",
      "\u001b[36mℹ\u001b[39m Use \u001b[30m\u001b[47m\u001b[30m\u001b[47m`spec()`\u001b[47m\u001b[30m\u001b[49m\u001b[39m to retrieve the full column specification for this data.\n",
      "\u001b[36mℹ\u001b[39m Specify the column types or set \u001b[30m\u001b[47m\u001b[30m\u001b[47m`show_col_types = FALSE`\u001b[47m\u001b[30m\u001b[49m\u001b[39m to quiet this message.\n",
      "\n"
     ]
    },
    {
     "data": {
      "text/html": [
       "<table class=\"dataframe\">\n",
       "<caption>A data.frame: 5 × 2</caption>\n",
       "<thead>\n",
       "\t<tr><th scope=col>Support</th><th scope=col>Pollster</th></tr>\n",
       "\t<tr><th scope=col>&lt;dbl&gt;</th><th scope=col>&lt;chr&gt;</th></tr>\n",
       "</thead>\n",
       "<tbody>\n",
       "\t<tr><td>72</td><td>CNN/SSRS          </td></tr>\n",
       "\t<tr><td>82</td><td>NPR/Ipsos         </td></tr>\n",
       "\t<tr><td>67</td><td>Rasmussen         </td></tr>\n",
       "\t<tr><td>84</td><td>Harris Interactive</td></tr>\n",
       "\t<tr><td>78</td><td>Quinnipiac        </td></tr>\n",
       "</tbody>\n",
       "</table>\n"
      ],
      "text/latex": [
       "A data.frame: 5 × 2\n",
       "\\begin{tabular}{ll}\n",
       " Support & Pollster\\\\\n",
       " <dbl> & <chr>\\\\\n",
       "\\hline\n",
       "\t 72 & CNN/SSRS          \\\\\n",
       "\t 82 & NPR/Ipsos         \\\\\n",
       "\t 67 & Rasmussen         \\\\\n",
       "\t 84 & Harris Interactive\\\\\n",
       "\t 78 & Quinnipiac        \\\\\n",
       "\\end{tabular}\n"
      ],
      "text/markdown": [
       "\n",
       "A data.frame: 5 × 2\n",
       "\n",
       "| Support &lt;dbl&gt; | Pollster &lt;chr&gt; |\n",
       "|---|---|\n",
       "| 72 | CNN/SSRS           |\n",
       "| 82 | NPR/Ipsos          |\n",
       "| 67 | Rasmussen          |\n",
       "| 84 | Harris Interactive |\n",
       "| 78 | Quinnipiac         |\n",
       "\n"
      ],
      "text/plain": [
       "  Support Pollster          \n",
       "1 72      CNN/SSRS          \n",
       "2 82      NPR/Ipsos         \n",
       "3 67      Rasmussen         \n",
       "4 84      Harris Interactive\n",
       "5 78      Quinnipiac        "
      ]
     },
     "metadata": {},
     "output_type": "display_data"
    }
   ],
   "source": [
    "library(tidyverse)\n",
    "library(RSQLite)\n",
    "\n",
    "# Load a dataframe\n",
    "url = \"https://cssbook.net/d/gun-polls.csv\"\n",
    "d = read_csv(url)\n",
    "\n",
    "# connecting  to a SQLite database\n",
    "mydb = dbConnect(RSQLite::SQLite(), \"mydb.sqlite\")\n",
    "# store the df as table \"gunpolls\" in the database\n",
    "dbWriteTable(mydb, \"gunpolls\", d)\n",
    "\n",
    "# run a query on the SQLite database\n",
    "sql = \"SELECT support, pollster \n",
    "       FROM gunpolls LIMIT 5;\"\n",
    "d2 = dbGetQuery(mydb, sql)\n",
    "d2\n",
    "# close connection\n",
    "dbDisconnect(mydb)\n"
   ]
  },
  {
   "cell_type": "code",
   "execution_count": null,
   "metadata": {},
   "outputs": [],
   "source": []
  }
 ],
 "metadata": {
  "celltoolbar": "Tags",
  "kernelspec": {
   "display_name": "R",
   "language": "R",
   "name": "ir"
  },
  "language_info": {
   "codemirror_mode": "r",
   "file_extension": ".r",
   "mimetype": "text/x-r-source",
   "name": "R",
   "pygments_lexer": "r",
   "version": "4.0.3"
  }
 },
 "nbformat": 4,
 "nbformat_minor": 4
}
