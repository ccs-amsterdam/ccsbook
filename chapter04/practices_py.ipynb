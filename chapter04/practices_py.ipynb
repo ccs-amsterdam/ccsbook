{
 "cells": [
  {
   "cell_type": "code",
   "execution_count": 1,
   "metadata": {
    "tags": [
     "snippet:tryexcept"
    ]
   },
   "outputs": [
    {
     "name": "stdout",
     "output_type": "stream",
     "text": [
      "None is not a valid headline\n",
      "Venezuelan president is dismissed\n",
      "There were 1 errors.\n"
     ]
    }
   ],
   "source": [
    "headlines = ('US condemns South new terrorist  attacks', None, 'New elections forces UK to go back to the UE', 'Venezuelan president is dismissed')\n",
    "\n",
    "errors = 0\n",
    "for x in headlines:\n",
    "    try:\n",
    "        if len(x)<40:                                                                                                           \n",
    "            print(x)\n",
    "    except:\n",
    "        print(f\"{x} is not a valid headline\")\n",
    "        errors+=1\n",
    "print(f\"There were {errors} errors.\")"
   ]
  }
 ],
 "metadata": {
  "celltoolbar": "Tags",
  "kernelspec": {
   "display_name": "Python 3",
   "language": "python",
   "name": "python3"
  },
  "language_info": {
   "codemirror_mode": {
    "name": "ipython",
    "version": 3
   },
   "file_extension": ".py",
   "mimetype": "text/x-python",
   "name": "python",
   "nbconvert_exporter": "python",
   "pygments_lexer": "ipython3",
   "version": "3.6.9"
  }
 },
 "nbformat": 4,
 "nbformat_minor": 2
}
