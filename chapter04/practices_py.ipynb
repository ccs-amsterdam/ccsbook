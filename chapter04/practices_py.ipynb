{
 "cells": [
  {
   "cell_type": "code",
   "execution_count": 1,
   "metadata": {
    "tags": [
     "snippet:tryexcept"
    ]
   },
   "outputs": [
    {
     "name": "stdout",
     "output_type": "stream",
     "text": [
      "US condemns terrorist  attacks\n",
      "None is not a valid headline\n",
      "Venezuelan president is dismissed\n"
     ]
    }
   ],
   "source": [
    "headlines = (\"US condemns terrorist  attacks\", \n",
    "    None, \"Venezuelan president is dismissed\")\n",
    "\n",
    "for x in headlines:\n",
    "    try:\n",
    "        # Getting len of None will raise an error\n",
    "        if len(x)<40:\n",
    "            print(x)\n",
    "    except:\n",
    "        print(f\"{x} is not a valid headline\")\n"
   ]
  }
 ],
 "metadata": {
  "celltoolbar": "Tags",
  "kernelspec": {
   "display_name": "Python 3",
   "language": "python",
   "name": "python3"
  },
  "language_info": {
   "codemirror_mode": {
    "name": "ipython",
    "version": 3
   },
   "file_extension": ".py",
   "mimetype": "text/x-python",
   "name": "python",
   "nbconvert_exporter": "python",
   "pygments_lexer": "ipython3",
   "version": "3.8.10"
  }
 },
 "nbformat": 4,
 "nbformat_minor": 4
}
