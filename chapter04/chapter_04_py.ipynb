{
 "cells": [
  {
   "cell_type": "markdown",
   "metadata": {},
   "source": [
    "## Chapter 4. How to write code\n",
    "#### Notebook for Python\n",
    "\n",
    "Van Atteveldt, W., Trilling, D. & Arcila, C. (2022). <a href=\"https://cssbook.net\" target=\"_blank\">Computational Analysis of Communication</a>. Wiley.\n",
    "\n",
    "<table align=\"left\">\n",
    "  <td>\n",
    "    <a href=\"https://colab.research.google.com/github/ccs-amsterdam/ccsbook/blob/master/chapter04/chapter_04_py.ipynb\" target=\"_parent\"><img src=\"https://colab.research.google.com/assets/colab-badge.svg\" alt=\"Open In Colab\"/></a>\n",
    "  </td>\n",
    "  <td>\n",
    "</table>"
   ]
  },
  {
   "cell_type": "code",
   "execution_count": 2,
   "metadata": {
    "tags": [
     "snippet:tryexcept"
    ]
   },
   "outputs": [
    {
     "name": "stdout",
     "output_type": "stream",
     "text": [
      "US condemns terrorist  attacks\n",
      "None is not a valid headline\n",
      "Venezuelan president is dismissed\n"
     ]
    }
   ],
   "source": [
    "headlines = (\"US condemns terrorist  attacks\", \n",
    "    None, \"Venezuelan president is dismissed\")\n",
    "\n",
    "for x in headlines:\n",
    "    try:\n",
    "        # Getting len of None will raise an error\n",
    "        if len(x)<40:\n",
    "            print(x)\n",
    "    except:\n",
    "        print(f\"{x} is not a valid headline\")\n"
   ]
  }
 ],
 "metadata": {
  "celltoolbar": "Tags",
  "kernelspec": {
   "display_name": "Python 3",
   "language": "python",
   "name": "python3"
  },
  "language_info": {
   "codemirror_mode": {
    "name": "ipython",
    "version": 3
   },
   "file_extension": ".py",
   "mimetype": "text/x-python",
   "name": "python",
   "nbconvert_exporter": "python",
   "pygments_lexer": "ipython3",
   "version": "3.8.5"
  }
 },
 "nbformat": 4,
 "nbformat_minor": 4
}
