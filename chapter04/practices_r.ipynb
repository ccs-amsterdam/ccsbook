{
 "cells": [
  {
   "cell_type": "code",
   "execution_count": 1,
   "metadata": {
    "tags": [
     "snippet:tryexcept"
    ]
   },
   "outputs": [
    {
     "name": "stdout",
     "output_type": "stream",
     "text": [
      "[1] \"US condemns terrorist attacks\"\n",
      "[1] \"NA is not a valid headline\"\n",
      "[1] \"Venezuelan president is dismissed\"\n"
     ]
    }
   ],
   "source": [
    "headlines = list(\"US condemns terrorist attacks\", \n",
    "  NA, \"Venezuelan president is dismissed\")\n",
    "\n",
    "for (x in headlines){\n",
    "  tryCatch(\n",
    "      # Getting nchar of NA will raise an error\n",
    "      if (nchar(x)<40) print(x),\n",
    "      error=function(error_condition) {\n",
    "        print(paste(x, \"is not a valid headline\"))\n",
    "    }\n",
    "  )\n",
    "}"
   ]
  }
 ],
 "metadata": {
  "celltoolbar": "Tags",
  "kernelspec": {
   "display_name": "R",
   "language": "R",
   "name": "ir"
  },
  "language_info": {
   "codemirror_mode": "r",
   "file_extension": ".r",
   "mimetype": "text/x-r-source",
   "name": "R",
   "pygments_lexer": "r",
   "version": "4.1.0"
  }
 },
 "nbformat": 4,
 "nbformat_minor": 4
}
