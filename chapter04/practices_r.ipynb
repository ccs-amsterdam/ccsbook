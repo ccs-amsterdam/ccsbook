{
 "cells": [
  {
   "cell_type": "code",
   "execution_count": 2,
   "metadata": {
    "tags": [
     "snippet:tryexcept"
    ]
   },
   "outputs": [
    {
     "name": "stdout",
     "output_type": "stream",
     "text": [
      "[1] \"1 is not a valid headline\"\n",
      "[1] \"Venezuelan president is dismissed\"\n"
     ]
    }
   ],
   "source": [
    "headlines <- list ('US condemns South new terrorist  attacks', factor('1'), 'New elections forces UK to go back to the UE',\n",
    "'Venezuelan president is dismissed')\n",
    "for (x in headlines){\n",
    "    tryCatch({\n",
    "        if (nchar(x)<40) {\n",
    "            print(x)}\n",
    "          },\n",
    "            error=function(error_condition) {\n",
    "                print(paste(x, \"is not a valid headline\"))\n",
    "            }\n",
    "    )\n",
    "    }"
   ]
  }
 ],
 "metadata": {
  "celltoolbar": "Tags",
  "kernelspec": {
   "display_name": "R",
   "language": "R",
   "name": "ir"
  },
  "language_info": {
   "codemirror_mode": "r",
   "file_extension": ".r",
   "mimetype": "text/x-r-source",
   "name": "R",
   "pygments_lexer": "r",
   "version": "4.0.3"
  }
 },
 "nbformat": 4,
 "nbformat_minor": 2
}
