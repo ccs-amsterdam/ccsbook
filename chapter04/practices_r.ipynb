{
 "cells": [
  {
   "cell_type": "markdown",
   "metadata": {},
   "source": [
    "## Chapter 4. How to write code\n",
    "#### Notebook for R\n",
    "\n",
    "Van Atteveldt, W., Trilling, D. & Arcila, C. (2022). <a href=\"https://cssbook.net\" target=\"_blank\">Computational Analysis of Communication</a>. Wiley.\n",
    "\n",
    "<table align=\"left\">\n",
    "  <td>\n",
    "    <a href=\"https://colab.research.google.com/github/ccs-amsterdam/ccsbook/blob/master/chapter04/practices_r.ipynb\" target=\"_parent\"><img src=\"https://colab.research.google.com/assets/colab-badge.svg\" alt=\"Open In Colab\"/></a>\n",
    "  </td>\n",
    "  <td>\n",
    "</table>"
   ]
  },
  {
   "cell_type": "code",
   "execution_count": 1,
   "metadata": {
    "tags": [
     "snippet:tryexcept"
    ]
   },
   "outputs": [
    {
     "name": "stdout",
     "output_type": "stream",
     "text": [
      "[1] \"US condemns terrorist attacks\"\n",
      "[1] \"NA is not a valid headline\"\n",
      "[1] \"Venezuelan president is dismissed\"\n"
     ]
    }
   ],
   "source": [
    "headlines = list(\"US condemns terrorist attacks\", \n",
    "  NA, \"Venezuelan president is dismissed\")\n",
    "\n",
    "for (x in headlines){\n",
    "  tryCatch(\n",
    "      # Getting nchar of NA will raise an error\n",
    "      if (nchar(x)<40) print(x),\n",
    "      error=function(error_condition) {\n",
    "        print(paste(x, \"is not a valid headline\"))\n",
    "    }\n",
    "  )\n",
    "}"
   ]
  }
 ],
 "metadata": {
  "celltoolbar": "Tags",
  "kernelspec": {
   "display_name": "R",
   "language": "R",
   "name": "ir"
  },
  "language_info": {
   "codemirror_mode": "r",
   "file_extension": ".r",
   "mimetype": "text/x-r-source",
   "name": "R",
   "pygments_lexer": "r",
   "version": "4.0.3"
  }
 },
 "nbformat": 4,
 "nbformat_minor": 4
}
