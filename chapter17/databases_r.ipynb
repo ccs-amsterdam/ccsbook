{
 "cells": [
  {
   "cell_type": "code",
   "execution_count": 15,
   "metadata": {
    "tags": [
     "snippet:sqlite",
     "output:table"
    ]
   },
   "outputs": [
    {
     "name": "stderr",
     "output_type": "stream",
     "text": [
      "Parsed with column specification:\n",
      "cols(\n",
      "  Question = \u001b[31mcol_character()\u001b[39m,\n",
      "  Start = \u001b[31mcol_character()\u001b[39m,\n",
      "  End = \u001b[31mcol_character()\u001b[39m,\n",
      "  Pollster = \u001b[31mcol_character()\u001b[39m,\n",
      "  Population = \u001b[31mcol_character()\u001b[39m,\n",
      "  Support = \u001b[32mcol_double()\u001b[39m,\n",
      "  `Republican Support` = \u001b[31mcol_character()\u001b[39m,\n",
      "  `Democratic Support` = \u001b[32mcol_double()\u001b[39m,\n",
      "  URL = \u001b[31mcol_character()\u001b[39m\n",
      ")\n",
      "\n"
     ]
    },
    {
     "data": {
      "text/html": [
       "<table>\n",
       "<caption>A data.frame: 5 × 2</caption>\n",
       "<thead>\n",
       "\t<tr><th scope=col>Support</th><th scope=col>Pollster</th></tr>\n",
       "\t<tr><th scope=col>&lt;dbl&gt;</th><th scope=col>&lt;chr&gt;</th></tr>\n",
       "</thead>\n",
       "<tbody>\n",
       "\t<tr><td>72</td><td>CNN/SSRS          </td></tr>\n",
       "\t<tr><td>82</td><td>NPR/Ipsos         </td></tr>\n",
       "\t<tr><td>67</td><td>Rasmussen         </td></tr>\n",
       "\t<tr><td>84</td><td>Harris Interactive</td></tr>\n",
       "\t<tr><td>78</td><td>Quinnipiac        </td></tr>\n",
       "</tbody>\n",
       "</table>\n"
      ],
      "text/latex": [
       "A data.frame: 5 × 2\n",
       "\\begin{tabular}{ll}\n",
       " Support & Pollster\\\\\n",
       " <dbl> & <chr>\\\\\n",
       "\\hline\n",
       "\t 72 & CNN/SSRS          \\\\\n",
       "\t 82 & NPR/Ipsos         \\\\\n",
       "\t 67 & Rasmussen         \\\\\n",
       "\t 84 & Harris Interactive\\\\\n",
       "\t 78 & Quinnipiac        \\\\\n",
       "\\end{tabular}\n"
      ],
      "text/markdown": [
       "\n",
       "A data.frame: 5 × 2\n",
       "\n",
       "| Support &lt;dbl&gt; | Pollster &lt;chr&gt; |\n",
       "|---|---|\n",
       "| 72 | CNN/SSRS           |\n",
       "| 82 | NPR/Ipsos          |\n",
       "| 67 | Rasmussen          |\n",
       "| 84 | Harris Interactive |\n",
       "| 78 | Quinnipiac         |\n",
       "\n"
      ],
      "text/plain": [
       "  Support Pollster          \n",
       "1 72      CNN/SSRS          \n",
       "2 82      NPR/Ipsos         \n",
       "3 67      Rasmussen         \n",
       "4 84      Harris Interactive\n",
       "5 78      Quinnipiac        "
      ]
     },
     "metadata": {},
     "output_type": "display_data"
    }
   ],
   "source": [
    "library(tidyverse)\n",
    "library(RSQLite)\n",
    "\n",
    "# let's start with a dataftame\n",
    "d = read_csv(\"http://cssbook.net/d/gun-polls.csv\")\n",
    "\n",
    "# connecting  to a SQLite database\n",
    "mydb <- dbConnect(RSQLite::SQLite(), \"mydb.sqlite\")\n",
    "# store the df as table \"gunpolls\" in the SQLite database\n",
    "dbWriteTable(mydb, \"gunpolls\", d)\n",
    "\n",
    "# run a query on the SQLite database\n",
    "d2 = dbGetQuery(mydb, 'SELECT support, pollster FROM gunpolls LIMIT 5;')\n",
    "d2\n",
    "# close connection\n",
    "dbDisconnect(mydb)\n"
   ]
  }
 ],
 "metadata": {
  "celltoolbar": "Tags",
  "kernelspec": {
   "display_name": "R",
   "language": "R",
   "name": "ir"
  },
  "language_info": {
   "codemirror_mode": "r",
   "file_extension": ".r",
   "mimetype": "text/x-r-source",
   "name": "R",
   "pygments_lexer": "r",
   "version": "3.6.3"
  }
 },
 "nbformat": 4,
 "nbformat_minor": 2
}
