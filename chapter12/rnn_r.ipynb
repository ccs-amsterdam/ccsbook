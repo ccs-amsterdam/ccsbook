{
 "cells": [
  {
   "cell_type": "code",
   "execution_count": 1,
   "metadata": {},
   "outputs": [
    {
     "name": "stderr",
     "output_type": "stream",
     "text": [
      "── \u001b[1mAttaching packages\u001b[22m ─────────────────────────────────────────────────────────────────────────────────────────────────────────────────────────────────────────────────────────────────────────── tidyverse 1.3.0 ──\n",
      "\n",
      "\u001b[32m✔\u001b[39m \u001b[34mggplot2\u001b[39m 3.3.2     \u001b[32m✔\u001b[39m \u001b[34mpurrr  \u001b[39m 0.3.4\n",
      "\u001b[32m✔\u001b[39m \u001b[34mtibble \u001b[39m 3.0.4     \u001b[32m✔\u001b[39m \u001b[34mdplyr  \u001b[39m 1.0.2\n",
      "\u001b[32m✔\u001b[39m \u001b[34mtidyr  \u001b[39m 1.1.2     \u001b[32m✔\u001b[39m \u001b[34mstringr\u001b[39m 1.4.0\n",
      "\u001b[32m✔\u001b[39m \u001b[34mreadr  \u001b[39m 1.4.0     \u001b[32m✔\u001b[39m \u001b[34mforcats\u001b[39m 0.5.0\n",
      "\n",
      "── \u001b[1mConflicts\u001b[22m ────────────────────────────────────────────────────────────────────────────────────────────────────────────────────────────────────────────────────────────────────────────── tidyverse_conflicts() ──\n",
      "\u001b[31m✖\u001b[39m \u001b[34mdplyr\u001b[39m::\u001b[32mfilter()\u001b[39m masks \u001b[34mstats\u001b[39m::filter()\n",
      "\u001b[31m✖\u001b[39m \u001b[34mdplyr\u001b[39m::\u001b[32mlag()\u001b[39m    masks \u001b[34mstats\u001b[39m::lag()\n",
      "\n"
     ]
    }
   ],
   "source": [
    "library(keras)\n",
    "library(tidyverse)"
   ]
  },
  {
   "cell_type": "code",
   "execution_count": 2,
   "metadata": {
    "tags": [
     "snippet:rnndata",
     "output:table"
    ]
   },
   "outputs": [
    {
     "name": "stderr",
     "output_type": "stream",
     "text": [
      "\n",
      "\u001b[36m──\u001b[39m \u001b[1m\u001b[1mColumn specification\u001b[1m\u001b[22m \u001b[36m────────────────────────────────────────────────────────────────────────────────────────────────────────────────────────────────────────────────────────────────────────────────────────────\u001b[39m\n",
      "cols(\n",
      "  id = \u001b[32mcol_double()\u001b[39m,\n",
      "  value = \u001b[32mcol_double()\u001b[39m,\n",
      "  lemmata = \u001b[31mcol_character()\u001b[39m\n",
      ")\n",
      "\n",
      "\n"
     ]
    },
    {
     "data": {
      "text/html": [
       "<table>\n",
       "<caption>A tibble: 6 × 3</caption>\n",
       "<thead>\n",
       "\t<tr><th scope=col>id</th><th scope=col>value</th><th scope=col>lemmata</th></tr>\n",
       "\t<tr><th scope=col>&lt;dbl&gt;</th><th scope=col>&lt;dbl&gt;</th><th scope=col>&lt;chr&gt;</th></tr>\n",
       "</thead>\n",
       "<tbody>\n",
       "\t<tr><td>10007</td><td>0</td><td>Rabobank voorspellen flink stijging hypotheekrente  </td></tr>\n",
       "\t<tr><td>10027</td><td>0</td><td>D66 willen reserve provincie aanspreken voor groei  </td></tr>\n",
       "\t<tr><td>10037</td><td>1</td><td>UWV dit jaar veel baan                              </td></tr>\n",
       "\t<tr><td>10059</td><td>1</td><td>proost op geslaagd beursgang bols                   </td></tr>\n",
       "\t<tr><td>10099</td><td>0</td><td>helft werknemer gaan na 65ste met pensioen          </td></tr>\n",
       "\t<tr><td>10101</td><td>1</td><td>Europa groeien voorzichtig dankzij laag energieprijs</td></tr>\n",
       "</tbody>\n",
       "</table>\n"
      ],
      "text/latex": [
       "A tibble: 6 × 3\n",
       "\\begin{tabular}{lll}\n",
       " id & value & lemmata\\\\\n",
       " <dbl> & <dbl> & <chr>\\\\\n",
       "\\hline\n",
       "\t 10007 & 0 & Rabobank voorspellen flink stijging hypotheekrente  \\\\\n",
       "\t 10027 & 0 & D66 willen reserve provincie aanspreken voor groei  \\\\\n",
       "\t 10037 & 1 & UWV dit jaar veel baan                              \\\\\n",
       "\t 10059 & 1 & proost op geslaagd beursgang bols                   \\\\\n",
       "\t 10099 & 0 & helft werknemer gaan na 65ste met pensioen          \\\\\n",
       "\t 10101 & 1 & Europa groeien voorzichtig dankzij laag energieprijs\\\\\n",
       "\\end{tabular}\n"
      ],
      "text/markdown": [
       "\n",
       "A tibble: 6 × 3\n",
       "\n",
       "| id &lt;dbl&gt; | value &lt;dbl&gt; | lemmata &lt;chr&gt; |\n",
       "|---|---|---|\n",
       "| 10007 | 0 | Rabobank voorspellen flink stijging hypotheekrente   |\n",
       "| 10027 | 0 | D66 willen reserve provincie aanspreken voor groei   |\n",
       "| 10037 | 1 | UWV dit jaar veel baan                               |\n",
       "| 10059 | 1 | proost op geslaagd beursgang bols                    |\n",
       "| 10099 | 0 | helft werknemer gaan na 65ste met pensioen           |\n",
       "| 10101 | 1 | Europa groeien voorzichtig dankzij laag energieprijs |\n",
       "\n"
      ],
      "text/plain": [
       "  id    value lemmata                                             \n",
       "1 10007 0     Rabobank voorspellen flink stijging hypotheekrente  \n",
       "2 10027 0     D66 willen reserve provincie aanspreken voor groei  \n",
       "3 10037 1     UWV dit jaar veel baan                              \n",
       "4 10059 1     proost op geslaagd beursgang bols                   \n",
       "5 10099 0     helft werknemer gaan na 65ste met pensioen          \n",
       "6 10101 1     Europa groeien voorzichtig dankzij laag energieprijs"
      ]
     },
     "metadata": {},
     "output_type": "display_data"
    }
   ],
   "source": [
    "d = read_csv(\"http://cssbook.net/d/sentiment_headlines.csv\")\n",
    "head(d)"
   ]
  },
  {
   "cell_type": "code",
   "execution_count": 3,
   "metadata": {
    "scrolled": true,
    "tags": [
     "snippet:rnnmodel"
    ]
   },
   "outputs": [
    {
     "data": {
      "text/plain": [
       "Model\n",
       "Model: \"functional_1\"\n",
       "________________________________________________________________________________\n",
       "Layer (type)                        Output Shape                    Param #     \n",
       "================================================================================\n",
       "input_1 (InputLayer)                [(None, 1)]                     0           \n",
       "________________________________________________________________________________\n",
       "text_vectorization (TextVectorizati (None, 50)                      0           \n",
       "________________________________________________________________________________\n",
       "embedding (Embedding)               (None, 50, 16)                  160016      \n",
       "________________________________________________________________________________\n",
       "conv1d (Conv1D)                     (None, 48, 128)                 6272        \n",
       "________________________________________________________________________________\n",
       "global_max_pooling1d (GlobalMaxPool (None, 128)                     0           \n",
       "________________________________________________________________________________\n",
       "dense (Dense)                       (None, 64)                      8256        \n",
       "________________________________________________________________________________\n",
       "dense_1 (Dense)                     (None, 1)                       65          \n",
       "================================================================================\n",
       "Total params: 174,609\n",
       "Trainable params: 174,609\n",
       "Non-trainable params: 0\n",
       "________________________________________________________________________________\n",
       "\n"
      ]
     },
     "metadata": {},
     "output_type": "display_data"
    }
   ],
   "source": [
    "text_vectorization <- layer_text_vectorization(max_tokens = 10000, output_sequence_length = 50)\n",
    "text_vectorization %>% adapt(d$lemmata)\n",
    "\n",
    "input <- layer_input(shape = c(1), dtype = \"string\")\n",
    "output <- input %>% \n",
    "  text_vectorization() %>% \n",
    "  layer_embedding(input_dim = 10000 + 1, output_dim = 16) %>%\n",
    "  layer_conv_1d(filters=128, kernel_size=3, activation='relu') %>%\n",
    "  layer_global_max_pooling_1d() %>%\n",
    "  layer_dense(units = 64, activation = \"relu\") %>%\n",
    "  layer_dense(units = 1, activation = \"tanh\")\n",
    "\n",
    "model <- keras_model(input, output)\n",
    "model"
   ]
  },
  {
   "cell_type": "code",
   "execution_count": 6,
   "metadata": {
    "tags": [
     "snippet:rnn"
    ]
   },
   "outputs": [
    {
     "name": "stderr",
     "output_type": "stream",
     "text": [
      "Joining, by = c(\"id\", \"value\", \"lemmata\")\n",
      "\n"
     ]
    },
    {
     "data": {
      "text/html": [
       "<style>\n",
       ".dl-inline {width: auto; margin:0; padding: 0}\n",
       ".dl-inline>dt, .dl-inline>dd {float: none; width: auto; display: inline-block}\n",
       ".dl-inline>dt::after {content: \":\\0020\"; padding-right: .5ex}\n",
       ".dl-inline>dt:not(:first-of-type) {padding-left: .5ex}\n",
       "</style><dl class=dl-inline><dt>loss</dt><dd>-3.19387269020081</dd><dt>accuracy</dt><dd>0.442291140556335</dd></dl>\n"
      ],
      "text/latex": [
       "\\begin{description*}\n",
       "\\item[loss] -3.19387269020081\n",
       "\\item[accuracy] 0.442291140556335\n",
       "\\end{description*}\n"
      ],
      "text/markdown": [
       "loss\n",
       ":   -3.19387269020081accuracy\n",
       ":   0.442291140556335\n",
       "\n"
      ],
      "text/plain": [
       "      loss   accuracy \n",
       "-3.1938727  0.4422911 "
      ]
     },
     "metadata": {},
     "output_type": "display_data"
    }
   ],
   "source": [
    "d_train = d %>% slice_sample(n=4000)\n",
    "d_test = d %>% anti_join(d_train)\n",
    "\n",
    "model %>% compile(\n",
    "  optimizer = 'adam',\n",
    "  loss = 'binary_crossentropy',\n",
    "  metrics = list('accuracy')\n",
    ")\n",
    "\n",
    "history <- model %>% fit(\n",
    "  d_train$lemmata,\n",
    "  d_train$value,\n",
    "  epochs = 10,\n",
    "  batch_size = 512,\n",
    "  validation_split = 0.2,\n",
    "  verbose=2\n",
    ")\n",
    "\n",
    "results <- model %>% evaluate(d_test$lemmata, d_test$value)\n",
    "results"
   ]
  }
 ],
 "metadata": {
  "celltoolbar": "Tags",
  "kernelspec": {
   "display_name": "R",
   "language": "R",
   "name": "ir"
  },
  "language_info": {
   "codemirror_mode": "r",
   "file_extension": ".r",
   "mimetype": "text/x-r-source",
   "name": "R",
   "pygments_lexer": "r",
   "version": "4.0.3"
  }
 },
 "nbformat": 4,
 "nbformat_minor": 4
}
