{
 "cells": [
  {
   "cell_type": "code",
   "execution_count": 1,
   "metadata": {
    "tags": [
     "snippet:textrazor"
    ]
   },
   "outputs": [
    {
     "data": {
      "text/plain": [
       "{'ok': False, 'time': 0, 'error': 'Your TextRazor API Key was invalid.'}"
      ]
     },
     "execution_count": 1,
     "metadata": {},
     "output_type": "execute_result"
    }
   ],
   "source": [
    "import requests\n",
    "\n",
    "requests.get(\"https://api.textrazor.com/account/\",\n",
    "             headers={\"x-textrazor-key\": \n",
    "                      \"MYSECRETKEY\"}).json()"
   ]
  },
  {
   "cell_type": "code",
   "execution_count": null,
   "metadata": {
    "tags": [
     "snippet:oauth"
    ]
   },
   "outputs": [],
   "source": [
    "from requests_oauthlib import OAuth2Session\n",
    "\n",
    "client_id = 'XXXX'\n",
    "client_secret = 'XXX'\n",
    "\n",
    "authorization_base_url=\"https://github.com/\"\n",
    "\"login/oauth/authorize\"\n",
    "token_url=\"https://github.com/login/oauth/\"\n",
    "\"access_token\"\n",
    "\n",
    "github = OAuth2Session(client_id)\n",
    "\n",
    "authorization_url, state = \\\n",
    "  github.authorization_url(authorization_base_url)\n",
    "print(\"Please go here and authorize\"\n",
    "      f\"{authorization_url}\")\n",
    "\n",
    "# Get auth. verifier code from callback url\n",
    "redirect_response=input(\"Paste the full\"\n",
    "                        \"redirect URL here:\")\n",
    "\n",
    "# Fetch the access token\n",
    "github.fetch_token(token_url, \n",
    "        client_secret=client_secret,\n",
    "        authorization_response=redirect_response)\n",
    "\n",
    "r = github.get(\"https://api.github.com/user\")\n",
    "print(r.content)"
   ]
  },
  {
   "cell_type": "code",
   "execution_count": null,
   "metadata": {},
   "outputs": [],
   "source": []
  }
 ],
 "metadata": {
  "celltoolbar": "Tags",
  "kernelspec": {
   "display_name": "Python 3",
   "language": "python",
   "name": "python3"
  },
  "language_info": {
   "codemirror_mode": {
    "name": "ipython",
    "version": 3
   },
   "file_extension": ".py",
   "mimetype": "text/x-python",
   "name": "python",
   "nbconvert_exporter": "python",
   "pygments_lexer": "ipython3",
   "version": "3.8.10"
  }
 },
 "nbformat": 4,
 "nbformat_minor": 4
}
