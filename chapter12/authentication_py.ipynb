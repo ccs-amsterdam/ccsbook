{
 "cells": [
  {
   "cell_type": "markdown",
   "metadata": {},
   "source": [
    "## Chapter 12. Scraping online data\n",
    "#### Notebook for Python 3. Authentication\n",
    "\n",
    "Van Atteveldt, W., Trilling, D. & Arcila, C. (2022). <a href=\"https://cssbook.net\" target=\"_blank\">Computational Analysis of Communication</a>. Wiley.\n",
    "\n",
    "<table align=\"left\">\n",
    "  <td>\n",
    "    <a href=\"https://colab.research.google.com/github/ccs-amsterdam/ccsbook/blob/master/chapter12/authentication_py.ipynb\" target=\"_parent\"><img src=\"https://colab.research.google.com/assets/colab-badge.svg\" alt=\"Open In Colab\"/></a>\n",
    "  </td>\n",
    "  <td>\n",
    "</table>"
   ]
  },
  {
   "cell_type": "code",
   "execution_count": 10,
   "metadata": {
    "tags": [
     "snippet:textrazor"
    ]
   },
   "outputs": [
    {
     "data": {
      "text/plain": [
       "{'ok': False, 'time': 0, 'error': 'Your TextRazor API Key was invalid.'}"
      ]
     },
     "execution_count": 10,
     "metadata": {},
     "output_type": "execute_result"
    }
   ],
   "source": [
    "import requests\n",
    "\n",
    "requests.get(\"https://api.textrazor.com/account/\",\n",
    "  headers={\"x-textrazor-key\": \"SECRET\"}).json()"
   ]
  },
  {
   "cell_type": "code",
   "execution_count": 9,
   "metadata": {
    "tags": [
     "snippet:oauth"
    ]
   },
   "outputs": [
    {
     "name": "stdout",
     "output_type": "stream",
     "text": [
      "Please go here and authorize https://github.com/login/oauth//authorize?response_type=code&client_id=1d416a908fd48c411fae&state=awW61RpLrgLiuj6CAvq0rDqFi9fYEl\n"
     ]
    },
    {
     "name": "stdin",
     "output_type": "stream",
     "text": [
      "Paste the full redirect URL here: https://example.com/?code=8a63e07489f3285669a5&state=awW61RpLrgLiuj6CAvq0rDqFi9fYEl\n"
     ]
    },
    {
     "name": "stdout",
     "output_type": "stream",
     "text": [
      "b'{\"login\":\"vanatteveldt\",\"id\":1736240,\"node_id\":\"MDQ6VXNlcjE3MzYyNDA=\",\"avatar_url\":\"https://avatars.githubusercontent.com/u/1736240?v=4\",\"gravatar_id\":\"\",\"url\":\"https://api.github.com/users/vanatteveldt\",\"html_url\":\"https://github.com/vanatteveldt\",\"followers_url\":\"https://api.github.com/users/vanatteveldt/followers\",\"following_url\":\"https://api.github.com/users/vanatteveldt/following{/other_user}\",\"gists_url\":\"https://api.github.com/users/vanatteveldt/gists{/gist_id}\",\"starred_url\":\"https://api.github.com/users/vanatteveldt/starred{/owner}{/repo}\",\"subscriptions_url\":\"https://api.github.com/users/vanatteveldt/subscriptions\",\"organizations_url\":\"https://api.github.com/users/vanatteveldt/orgs\",\"repos_url\":\"https://api.github.com/users/vanatteveldt/repos\",\"events_url\":\"https://api.github.com/users/vanatteveldt/events{/privacy}\",\"received_events_url\":\"https://api.github.com/users/vanatteveldt/received_events\",\"type\":\"User\",\"site_admin\":false,\"name\":\"Wouter van Atteveldt\",\"company\":\"VU University\",\"blog\":\"\",\"location\":\"Amsterdam\",\"email\":\"wouter@vanatteveldt.com\",\"hireable\":null,\"bio\":null,\"twitter_username\":null,\"public_repos\":98,\"public_gists\":259,\"followers\":80,\"following\":8,\"created_at\":\"2012-05-14T06:10:53Z\",\"updated_at\":\"2021-08-30T20:07:22Z\"}'\n"
     ]
    }
   ],
   "source": [
    "from requests_oauthlib import OAuth2Session\n",
    "\n",
    "client_id = 'xxxx'\n",
    "client_secret = 'xxxx'\n",
    "base_url=\"https://github.com/login/oauth/\"\n",
    "auth_url=f\"{base_url}/authorize\"\n",
    "token_url=f\"{base_url}/access_token\"\n",
    "\n",
    "github = OAuth2Session(client_id)\n",
    "\n",
    "url, state = github.authorization_url(auth_url)\n",
    "print(f\"Please go here and authorize {url}\")\n",
    "\n",
    "# Get auth. verifier code from callback url\n",
    "resp = input(\"Paste the full redirect URL here:\")\n",
    "\n",
    "# Fetch the access token\n",
    "github.fetch_token(token_url, \n",
    "        client_secret=client_secret,\n",
    "        authorization_response=resp)\n",
    "\n",
    "r = github.get(\"https://api.github.com/user\")\n",
    "print(r.content)"
   ]
  },
  {
   "cell_type": "code",
   "execution_count": null,
   "metadata": {},
   "outputs": [],
   "source": []
  }
 ],
 "metadata": {
  "celltoolbar": "Tags",
  "kernelspec": {
   "display_name": "Python 3",
   "language": "python",
   "name": "python3"
  },
  "language_info": {
   "codemirror_mode": {
    "name": "ipython",
    "version": 3
   },
   "file_extension": ".py",
   "mimetype": "text/x-python",
   "name": "python",
   "nbconvert_exporter": "python",
   "pygments_lexer": "ipython3",
   "version": "3.8.5"
  }
 },
 "nbformat": 4,
 "nbformat_minor": 4
}
