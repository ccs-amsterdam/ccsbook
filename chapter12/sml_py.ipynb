{
 "cells": [
  {
   "cell_type": "code",
   "execution_count": 68,
   "metadata": {
    "tags": [
     "snippet:readimdb"
    ]
   },
   "outputs": [],
   "source": [
    "import os\n",
    "from glob import glob\n",
    "\n",
    "# unpack the dataset from https://ai.stanford.edu/~amaas/data/sentiment/aclImdb_v1.tar.gz\n",
    "# and store the folder 'aclImdb' in the same folder as this script\n",
    "\n",
    "def read_data(dataset):\n",
    "    texts = []\n",
    "    labels = []\n",
    "    for label in ['pos', 'neg']:\n",
    "        for file in glob(os.path.join('aclImdb',dataset,label,'*.txt')):\n",
    "            with open(file) as f:\n",
    "                texts.append(f.read())\n",
    "                labels.append(label)\n",
    "    return texts, labels\n",
    "\n",
    "X_train_fulltext, y_train = read_data('train')\n",
    "X_test_fulltext, y_test= read_data('test')"
   ]
  },
  {
   "cell_type": "code",
   "execution_count": 67,
   "metadata": {
    "tags": [
     "snippet:imdbbaseline"
    ]
   },
   "outputs": [
    {
     "name": "stdout",
     "output_type": "stream",
     "text": [
      "[[10995  1505]\n",
      " [ 3003  9497]]\n",
      "              precision    recall  f1-score   support\n",
      "\n",
      "         neg       0.79      0.88      0.83     12500\n",
      "         pos       0.86      0.76      0.81     12500\n",
      "\n",
      "   micro avg       0.82      0.82      0.82     25000\n",
      "   macro avg       0.82      0.82      0.82     25000\n",
      "weighted avg       0.82      0.82      0.82     25000\n",
      "\n"
     ]
    }
   ],
   "source": [
    "from sklearn.naive_bayes import MultinomialNB\n",
    "from sklearn.feature_extraction.text import CountVectorizer\n",
    "from sklearn.metrics import confusion_matrix, classification_report\n",
    "\n",
    "vectorizer = CountVectorizer(stop_words='english')\n",
    "X_train = vectorizer.fit_transform(X_train_fulltext)\n",
    "X_test = vectorizer.transform(X_test_fulltext)\n",
    "\n",
    "nb = MultinomialNB()\n",
    "nb.fit(X_train, y_train)\n",
    "\n",
    "y_pred = nb.predict(X_test)\n",
    "\n",
    "print(confusion_matrix(y_test, y_pred))\n",
    "print(classification_report(y_test, y_pred))"
   ]
  },
  {
   "cell_type": "code",
   "execution_count": 104,
   "metadata": {
    "tags": [
     "snippet:basiccomparisons"
    ]
   },
   "outputs": [
    {
     "name": "stdout",
     "output_type": "stream",
     "text": [
      "NB with Count\n",
      "                \t precision \t recall\n",
      "positive reviews:\t 0.87 \t\t 0.77\n",
      "negative reviews:\t 0.79 \t\t 0.88\n",
      "\n",
      "\n",
      "NB with TfIdf\n",
      "                \t precision \t recall\n",
      "positive reviews:\t 0.87 \t\t 0.78\n",
      "negative reviews:\t 0.80 \t\t 0.88\n",
      "\n",
      "\n",
      "LogReg with Count\n",
      "                \t precision \t recall\n",
      "positive reviews:\t 0.87 \t\t 0.85\n",
      "negative reviews:\t 0.85 \t\t 0.87\n",
      "\n",
      "\n",
      "LogReg with TfIdf\n",
      "                \t precision \t recall\n",
      "positive reviews:\t 0.89 \t\t 0.88\n",
      "negative reviews:\t 0.88 \t\t 0.89\n",
      "\n",
      "\n"
     ]
    }
   ],
   "source": [
    "from sklearn import metrics\n",
    "from sklearn.feature_extraction.text import CountVectorizer, TfidfVectorizer\n",
    "from sklearn.naive_bayes import MultinomialNB\n",
    "from sklearn.linear_model import LogisticRegression\n",
    "\n",
    "def short_classification_report (y_test, y_pred):\n",
    "    print(\"                \\t precision \\t recall\")\n",
    "    print(f\"positive reviews:\\t {metrics.precision_score(y_test,y_pred, pos_label='pos'):0.2f} \\t\\t {metrics.recall_score(y_test,y_pred, pos_label='pos'):0.2f}\")\n",
    "    print(f\"negative reviews:\\t {metrics.precision_score(y_test,y_pred, pos_label='neg'):0.2f} \\t\\t {metrics.recall_score(y_test,y_pred, pos_label='neg'):0.2f}\")\n",
    "\n",
    "configurations = [('NB with Count', CountVectorizer(min_df=5, max_df=.5), MultinomialNB()),\n",
    "                 ('NB with TfIdf', TfidfVectorizer(min_df=5, max_df=.5), MultinomialNB()),\n",
    "                 ('LogReg with Count', CountVectorizer(min_df=5, max_df=.5), LogisticRegression(solver='liblinear')),\n",
    "                 ('LogReg with TfIdf', TfidfVectorizer(min_df=5, max_df=.5), LogisticRegression(solver='liblinear'))]\n",
    "\n",
    "for description, vectorizer, classifier in configurations:\n",
    "    print(description)\n",
    "    X_train = vectorizer.fit_transform(X_train_fulltext)\n",
    "    X_test = vectorizer.transform(X_test_fulltext)\n",
    "    classifier.fit(X_train, y_train)\n",
    "    y_pred = classifier.predict(X_test)\n",
    "    short_classification_report(y_test, y_pred)\n",
    "    print('\\n')"
   ]
  },
  {
   "cell_type": "code",
   "execution_count": 110,
   "metadata": {
    "tags": [
     "snippet:basicpipe"
    ]
   },
   "outputs": [
    {
     "name": "stdout",
     "output_type": "stream",
     "text": [
      "NB with Count\n",
      "                \t precision \t recall\n",
      "positive reviews:\t 0.87 \t\t 0.77\n",
      "negative reviews:\t 0.79 \t\t 0.88\n",
      "\n",
      "\n",
      "NB with TfIdf\n",
      "                \t precision \t recall\n",
      "positive reviews:\t 0.87 \t\t 0.78\n",
      "negative reviews:\t 0.80 \t\t 0.88\n",
      "\n",
      "\n",
      "LogReg with Count\n",
      "                \t precision \t recall\n",
      "positive reviews:\t 0.87 \t\t 0.85\n",
      "negative reviews:\t 0.85 \t\t 0.87\n",
      "\n",
      "\n",
      "LogReg with TfIdf\n",
      "                \t precision \t recall\n",
      "positive reviews:\t 0.89 \t\t 0.88\n",
      "negative reviews:\t 0.88 \t\t 0.89\n",
      "\n",
      "\n"
     ]
    }
   ],
   "source": [
    "from sklearn.pipeline import make_pipeline\n",
    "\n",
    "for description, vectorizer, classifier in configurations:\n",
    "    print(description)\n",
    "    pipe = make_pipeline(vectorizer, classifier)\n",
    "    pipe.fit(X_train_fulltext, y_train)\n",
    "    y_pred = pipe.predict(X_test_fulltext)\n",
    "    short_classification_report(y_test, y_pred)\n",
    "    print('\\n')"
   ]
  },
  {
   "cell_type": "code",
   "execution_count": 129,
   "metadata": {
    "tags": [
     "snippet:gridsearchlogreg"
    ]
   },
   "outputs": [
    {
     "name": "stdout",
     "output_type": "stream",
     "text": [
      "Fitting 5 folds for each of 24 candidates, totalling 120 fits\n"
     ]
    },
    {
     "name": "stderr",
     "output_type": "stream",
     "text": [
      "[Parallel(n_jobs=-1)]: Using backend LokyBackend with 4 concurrent workers.\n",
      "[Parallel(n_jobs=-1)]: Done   5 tasks      | elapsed:   26.6s\n",
      "/home/damian/.local/lib/python3.6/site-packages/sklearn/externals/joblib/externals/loky/process_executor.py:706: UserWarning: A worker stopped while some jobs were given to the executor. This can be caused by a too short worker timeout or by a memory leak.\n",
      "  \"timeout or by a memory leak.\", UserWarning\n",
      "[Parallel(n_jobs=-1)]: Done  10 tasks      | elapsed:  1.2min\n",
      "[Parallel(n_jobs=-1)]: Done  17 tasks      | elapsed:  2.1min\n",
      "[Parallel(n_jobs=-1)]: Done  24 tasks      | elapsed:  2.6min\n",
      "[Parallel(n_jobs=-1)]: Done  33 tasks      | elapsed:  3.8min\n",
      "[Parallel(n_jobs=-1)]: Done  42 tasks      | elapsed:  5.0min\n",
      "[Parallel(n_jobs=-1)]: Done  53 tasks      | elapsed:  6.3min\n",
      "[Parallel(n_jobs=-1)]: Done  64 tasks      | elapsed:  7.5min\n",
      "[Parallel(n_jobs=-1)]: Done  77 tasks      | elapsed:  9.5min\n",
      "[Parallel(n_jobs=-1)]: Done  90 tasks      | elapsed: 11.5min\n",
      "[Parallel(n_jobs=-1)]: Done 105 tasks      | elapsed: 13.1min\n",
      "[Parallel(n_jobs=-1)]: Done 120 out of 120 | elapsed: 15.9min finished\n"
     ]
    },
    {
     "name": "stdout",
     "output_type": "stream",
     "text": [
      "Using these hyperparameters {'classifier__C': 100, 'vectorizer__max_df': 0.5, 'vectorizer__min_df': 5, 'vectorizer__ngram_range': (1, 2)}, we get the best performance:\n",
      "                \t precision \t recall\n",
      "positive reviews:\t 0.90 \t\t 0.90\n",
      "negative reviews:\t 0.90 \t\t 0.90\n",
      "None\n"
     ]
    }
   ],
   "source": [
    "from sklearn.model_selection import GridSearchCV\n",
    "from sklearn.pipeline import Pipeline\n",
    "\n",
    "pipe = Pipeline(steps = [('vectorizer', TfidfVectorizer()), ('classifier', LogisticRegression(solver='liblinear'))])\n",
    "grid = {\n",
    "    'vectorizer__ngram_range' : [(1,1), (1,2)],\n",
    "    'vectorizer__max_df': [0.5, 1.0],\n",
    "    'vectorizer__min_df': [0, 5],\n",
    "    'classifier__C': [0.01, 1, 100]\n",
    "}\n",
    "\n",
    "search = GridSearchCV(estimator=pipe,\n",
    "                      param_grid=grid,\n",
    "                      scoring='accuracy',   # all classes are balanced, let's just score on accuracy\n",
    "                      cv=5,\n",
    "                      n_jobs=-1,  # use all cpus\n",
    "                      verbose=10)\n",
    "search.fit(X_train_fulltext, y_train)\n",
    "print(f'Using these hyperparameters {search.best_params_}, we get the best performance:')\n",
    "print(short_classification_report(y_test, search.predict(X_test_fulltext)))"
   ]
  },
  {
   "cell_type": "code",
   "execution_count": null,
   "metadata": {},
   "outputs": [],
   "source": []
  }
 ],
 "metadata": {
  "celltoolbar": "Tags",
  "kernelspec": {
   "display_name": "Python 3",
   "language": "python",
   "name": "python3"
  },
  "language_info": {
   "codemirror_mode": {
    "name": "ipython",
    "version": 3
   },
   "file_extension": ".py",
   "mimetype": "text/x-python",
   "name": "python",
   "nbconvert_exporter": "python",
   "pygments_lexer": "ipython3",
   "version": "3.6.9"
  }
 },
 "nbformat": 4,
 "nbformat_minor": 2
}
