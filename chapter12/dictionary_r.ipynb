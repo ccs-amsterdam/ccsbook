{
 "cells": [
  {
   "cell_type": "code",
   "execution_count": 1,
   "metadata": {
    "tags": [
     "snippet:chapter12install",
     "dontrun"
    ]
   },
   "outputs": [],
   "source": [
    "install.packages(c(\"tidyverse\", \"readtext\", \"quanteda\", \"quanteda.textmodels\", \"topicmodels\"))"
   ]
  },
  {
   "cell_type": "code",
   "execution_count": 2,
   "metadata": {
    "scrolled": true,
    "tags": [
     "snippet:chapter12library"
    ]
   },
   "outputs": [
    {
     "name": "stderr",
     "output_type": "stream",
     "text": [
      "── \u001b[1mAttaching packages\u001b[22m ─────────────────────────────────────────────────────────────────────────────────────────────────────────────────────────────────────────────────────────────────────────── tidyverse 1.3.0 ──\n",
      "\n",
      "\u001b[32m✔\u001b[39m \u001b[34mggplot2\u001b[39m 3.3.2     \u001b[32m✔\u001b[39m \u001b[34mpurrr  \u001b[39m 0.3.4\n",
      "\u001b[32m✔\u001b[39m \u001b[34mtibble \u001b[39m 3.0.4     \u001b[32m✔\u001b[39m \u001b[34mdplyr  \u001b[39m 1.0.2\n",
      "\u001b[32m✔\u001b[39m \u001b[34mtidyr  \u001b[39m 1.1.2     \u001b[32m✔\u001b[39m \u001b[34mstringr\u001b[39m 1.4.0\n",
      "\u001b[32m✔\u001b[39m \u001b[34mreadr  \u001b[39m 1.4.0     \u001b[32m✔\u001b[39m \u001b[34mforcats\u001b[39m 0.5.0\n",
      "\n",
      "── \u001b[1mConflicts\u001b[22m ────────────────────────────────────────────────────────────────────────────────────────────────────────────────────────────────────────────────────────────────────────────── tidyverse_conflicts() ──\n",
      "\u001b[31m✖\u001b[39m \u001b[34mdplyr\u001b[39m::\u001b[32mfilter()\u001b[39m masks \u001b[34mstats\u001b[39m::filter()\n",
      "\u001b[31m✖\u001b[39m \u001b[34mdplyr\u001b[39m::\u001b[32mlag()\u001b[39m    masks \u001b[34mstats\u001b[39m::lag()\n",
      "\n",
      "Package version: 2.1.2\n",
      "\n",
      "Parallel computing: 2 of 8 threads used.\n",
      "\n",
      "See https://quanteda.io for tutorials and examples.\n",
      "\n",
      "\n",
      "Attaching package: ‘quanteda’\n",
      "\n",
      "\n",
      "The following object is masked from ‘jupyter:irkernel’:\n",
      "\n",
      "    View\n",
      "\n",
      "\n",
      "The following object is masked from ‘package:utils’:\n",
      "\n",
      "    View\n",
      "\n",
      "\n",
      "\n",
      "Attaching package: ‘quanteda.textmodels’\n",
      "\n",
      "\n",
      "The following object is masked from ‘package:quanteda’:\n",
      "\n",
      "    data_dfm_lbgexample\n",
      "\n",
      "\n"
     ]
    }
   ],
   "source": [
    "# General packages and dictionary analysis\n",
    "library(glue)\n",
    "library(tidyverse)\n",
    "library(readtext)\n",
    "library(quanteda)\n",
    "\n",
    "\n",
    "\n",
    "\n",
    "\n",
    "\n",
    "# Supervised text classification\n",
    "library(quanteda.textmodels)\n",
    "library(MLmetrics)\n",
    "\n",
    "\n",
    "\n",
    "\n",
    "\n",
    "\n",
    "\n",
    "\n",
    "# Topic Modeling\n",
    "library(topicmodels)"
   ]
  },
  {
   "cell_type": "code",
   "execution_count": 6,
   "metadata": {
    "tags": [
     "snippet:reviewdata",
     "output:table"
    ]
   },
   "outputs": [
    {
     "name": "stdout",
     "output_type": "stream",
     "text": [
      "[1] \"Downloading data\"\n"
     ]
    },
    {
     "data": {
      "text/html": [
       "<table>\n",
       "<caption>A data.frame: 6 × 3</caption>\n",
       "<thead>\n",
       "\t<tr><th></th><th scope=col>dataset</th><th scope=col>label</th><th scope=col>filename</th></tr>\n",
       "\t<tr><th></th><th scope=col>&lt;chr&gt;</th><th scope=col>&lt;chr&gt;</th><th scope=col>&lt;chr&gt;</th></tr>\n",
       "</thead>\n",
       "<tbody>\n",
       "\t<tr><th scope=row>1</th><td>test</td><td>neg</td><td>0_2.txt    </td></tr>\n",
       "\t<tr><th scope=row>2</th><td>test</td><td>neg</td><td>1_3.txt    </td></tr>\n",
       "\t<tr><th scope=row>3</th><td>test</td><td>neg</td><td>10_3.txt   </td></tr>\n",
       "\t<tr><th scope=row>4</th><td>test</td><td>neg</td><td>100_4.txt  </td></tr>\n",
       "\t<tr><th scope=row>5</th><td>test</td><td>neg</td><td>1000_3.txt </td></tr>\n",
       "\t<tr><th scope=row>6</th><td>test</td><td>neg</td><td>10000_4.txt</td></tr>\n",
       "</tbody>\n",
       "</table>\n"
      ],
      "text/latex": [
       "A data.frame: 6 × 3\n",
       "\\begin{tabular}{r|lll}\n",
       "  & dataset & label & filename\\\\\n",
       "  & <chr> & <chr> & <chr>\\\\\n",
       "\\hline\n",
       "\t1 & test & neg & 0\\_2.txt    \\\\\n",
       "\t2 & test & neg & 1\\_3.txt    \\\\\n",
       "\t3 & test & neg & 10\\_3.txt   \\\\\n",
       "\t4 & test & neg & 100\\_4.txt  \\\\\n",
       "\t5 & test & neg & 1000\\_3.txt \\\\\n",
       "\t6 & test & neg & 10000\\_4.txt\\\\\n",
       "\\end{tabular}\n"
      ],
      "text/markdown": [
       "\n",
       "A data.frame: 6 × 3\n",
       "\n",
       "| <!--/--> | dataset &lt;chr&gt; | label &lt;chr&gt; | filename &lt;chr&gt; |\n",
       "|---|---|---|---|\n",
       "| 1 | test | neg | 0_2.txt     |\n",
       "| 2 | test | neg | 1_3.txt     |\n",
       "| 3 | test | neg | 10_3.txt    |\n",
       "| 4 | test | neg | 100_4.txt   |\n",
       "| 5 | test | neg | 1000_3.txt  |\n",
       "| 6 | test | neg | 10000_4.txt |\n",
       "\n"
      ],
      "text/plain": [
       "  dataset label filename   \n",
       "1 test    neg   0_2.txt    \n",
       "2 test    neg   1_3.txt    \n",
       "3 test    neg   10_3.txt   \n",
       "4 test    neg   100_4.txt  \n",
       "5 test    neg   1000_3.txt \n",
       "6 test    neg   10000_4.txt"
      ]
     },
     "metadata": {},
     "output_type": "display_data"
    }
   ],
   "source": [
    "filename = \"reviewdata.rds\"\n",
    "if (file.exists(filename)) {\n",
    "    print(\"Using cached data\")\n",
    "    reviewdata= readRDS(filename)\n",
    "} else {\n",
    "    print(\"Downloading data\")\n",
    "    download.file(\"http://cssbook.net/d/aclImdb_v1.tar.gz\", \"aclImdb_v1.tar.gz\")\n",
    "    untar(\"aclImdb_v1.tar.gz\")\n",
    "    reviewdata = readtext(file.path(\"aclImdb\", \"*\", \"*\", \"*.txt\"), \n",
    "                          docvarsfrom = \"filepaths\", dvsep=\"[/\\\\]\",\n",
    "                          docvarnames=c(\"imdb\", \"dataset\", \"label\", \"filename\"))\n",
    "    unlink(c(\"aclImdb\", \"aclImdb_v1.tar.gz\"), recursive=TRUE)\n",
    "    reviewdata = reviewdata  %>% filter(label %in% c(\"pos\", \"neg\")) %>% select(-imdb)  %>% corpus()\n",
    "    saveRDS(reviewdata, filename)\n",
    "}\n",
    "head(docvars(reviewdata))"
   ]
  },
  {
   "cell_type": "code",
   "execution_count": 7,
   "metadata": {
    "scrolled": true,
    "tags": [
     "snippet:sentsimple",
     "output:table"
    ]
   },
   "outputs": [
    {
     "data": {
      "text/html": [
       "<table>\n",
       "<caption>A data.frame: 6 × 4</caption>\n",
       "<thead>\n",
       "\t<tr><th></th><th scope=col>doc_id</th><th scope=col>pos</th><th scope=col>neg</th><th scope=col>sent</th></tr>\n",
       "\t<tr><th></th><th scope=col>&lt;chr&gt;</th><th scope=col>&lt;dbl&gt;</th><th scope=col>&lt;dbl&gt;</th><th scope=col>&lt;dbl&gt;</th></tr>\n",
       "</thead>\n",
       "<tbody>\n",
       "\t<tr><th scope=row>1</th><td>test/pos/5960_8.txt/5960_8.txt  </td><td> 8</td><td> 3</td><td> 5</td></tr>\n",
       "\t<tr><th scope=row>2</th><td>train/neg/2622_4.txt/2622_4.txt </td><td> 4</td><td> 2</td><td> 2</td></tr>\n",
       "\t<tr><th scope=row>3</th><td>train/neg/4605_2.txt/4605_2.txt </td><td>20</td><td>12</td><td> 8</td></tr>\n",
       "\t<tr><th scope=row>4</th><td>test/pos/4487_9.txt/4487_9.txt  </td><td> 3</td><td> 2</td><td> 1</td></tr>\n",
       "\t<tr><th scope=row>5</th><td>test/neg/7566_1.txt/7566_1.txt  </td><td> 3</td><td> 4</td><td>-1</td></tr>\n",
       "\t<tr><th scope=row>6</th><td>test/neg/11817_2.txt/11817_2.txt</td><td> 8</td><td> 8</td><td> 0</td></tr>\n",
       "</tbody>\n",
       "</table>\n"
      ],
      "text/latex": [
       "A data.frame: 6 × 4\n",
       "\\begin{tabular}{r|llll}\n",
       "  & doc\\_id & pos & neg & sent\\\\\n",
       "  & <chr> & <dbl> & <dbl> & <dbl>\\\\\n",
       "\\hline\n",
       "\t1 & test/pos/5960\\_8.txt/5960\\_8.txt   &  8 &  3 &  5\\\\\n",
       "\t2 & train/neg/2622\\_4.txt/2622\\_4.txt  &  4 &  2 &  2\\\\\n",
       "\t3 & train/neg/4605\\_2.txt/4605\\_2.txt  & 20 & 12 &  8\\\\\n",
       "\t4 & test/pos/4487\\_9.txt/4487\\_9.txt   &  3 &  2 &  1\\\\\n",
       "\t5 & test/neg/7566\\_1.txt/7566\\_1.txt   &  3 &  4 & -1\\\\\n",
       "\t6 & test/neg/11817\\_2.txt/11817\\_2.txt &  8 &  8 &  0\\\\\n",
       "\\end{tabular}\n"
      ],
      "text/markdown": [
       "\n",
       "A data.frame: 6 × 4\n",
       "\n",
       "| <!--/--> | doc_id &lt;chr&gt; | pos &lt;dbl&gt; | neg &lt;dbl&gt; | sent &lt;dbl&gt; |\n",
       "|---|---|---|---|---|\n",
       "| 1 | test/pos/5960_8.txt/5960_8.txt   |  8 |  3 |  5 |\n",
       "| 2 | train/neg/2622_4.txt/2622_4.txt  |  4 |  2 |  2 |\n",
       "| 3 | train/neg/4605_2.txt/4605_2.txt  | 20 | 12 |  8 |\n",
       "| 4 | test/pos/4487_9.txt/4487_9.txt   |  3 |  2 |  1 |\n",
       "| 5 | test/neg/7566_1.txt/7566_1.txt   |  3 |  4 | -1 |\n",
       "| 6 | test/neg/11817_2.txt/11817_2.txt |  8 |  8 |  0 |\n",
       "\n"
      ],
      "text/plain": [
       "  doc_id                           pos neg sent\n",
       "1 test/pos/5960_8.txt/5960_8.txt    8   3   5  \n",
       "2 train/neg/2622_4.txt/2622_4.txt   4   2   2  \n",
       "3 train/neg/4605_2.txt/4605_2.txt  20  12   8  \n",
       "4 test/pos/4487_9.txt/4487_9.txt    3   2   1  \n",
       "5 test/neg/7566_1.txt/7566_1.txt    3   4  -1  \n",
       "6 test/neg/11817_2.txt/11817_2.txt  8   8   0  "
      ]
     },
     "metadata": {},
     "output_type": "display_data"
    }
   ],
   "source": [
    "positive = scan('http://cssbook.net/d/positive.txt', what='list')\n",
    "negative = scan('http://cssbook.net/d/negative.txt', what='list')\n",
    "mydict = dictionary(list(pos=positive, neg=negative))\n",
    "\n",
    "\n",
    "# let's select only the first 100 reviews for now to speed things up\n",
    "\n",
    "scores = corpus_sample(reviewdata, 100)  %>% \n",
    "  dfm(dictionary=mydict) %>% \n",
    "  convert(to=\"data.frame\")  %>% \n",
    "  mutate(sent = pos - neg)\n",
    "head(scores)"
   ]
  }
 ],
 "metadata": {
  "celltoolbar": "Tags",
  "kernelspec": {
   "display_name": "R",
   "language": "R",
   "name": "ir"
  },
  "language_info": {
   "codemirror_mode": "r",
   "file_extension": ".r",
   "mimetype": "text/x-r-source",
   "name": "R",
   "pygments_lexer": "r",
   "version": "4.0.3"
  }
 },
 "nbformat": 4,
 "nbformat_minor": 2
}
