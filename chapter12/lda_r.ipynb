{
 "cells": [
  {
   "cell_type": "code",
   "execution_count": 1,
   "metadata": {},
   "outputs": [
    {
     "name": "stderr",
     "output_type": "stream",
     "text": [
      "── \u001b[1mAttaching packages\u001b[22m ─────────────────────────────────────────────────────────────────────────────────────────────────────────────────────────────────────────────────────────────────────────── tidyverse 1.3.0 ──\n",
      "\n",
      "\u001b[32m✔\u001b[39m \u001b[34mggplot2\u001b[39m 3.3.2     \u001b[32m✔\u001b[39m \u001b[34mpurrr  \u001b[39m 0.3.4\n",
      "\u001b[32m✔\u001b[39m \u001b[34mtibble \u001b[39m 3.0.4     \u001b[32m✔\u001b[39m \u001b[34mdplyr  \u001b[39m 1.0.2\n",
      "\u001b[32m✔\u001b[39m \u001b[34mtidyr  \u001b[39m 1.1.2     \u001b[32m✔\u001b[39m \u001b[34mstringr\u001b[39m 1.4.0\n",
      "\u001b[32m✔\u001b[39m \u001b[34mreadr  \u001b[39m 1.4.0     \u001b[32m✔\u001b[39m \u001b[34mforcats\u001b[39m 0.5.0\n",
      "\n",
      "── \u001b[1mConflicts\u001b[22m ────────────────────────────────────────────────────────────────────────────────────────────────────────────────────────────────────────────────────────────────────────────── tidyverse_conflicts() ──\n",
      "\u001b[31m✖\u001b[39m \u001b[34mdplyr\u001b[39m::\u001b[32mfilter()\u001b[39m masks \u001b[34mstats\u001b[39m::filter()\n",
      "\u001b[31m✖\u001b[39m \u001b[34mdplyr\u001b[39m::\u001b[32mlag()\u001b[39m    masks \u001b[34mstats\u001b[39m::lag()\n",
      "\n",
      "Package version: 2.1.2\n",
      "\n",
      "Parallel computing: 2 of 8 threads used.\n",
      "\n",
      "See https://quanteda.io for tutorials and examples.\n",
      "\n",
      "\n",
      "Attaching package: ‘quanteda’\n",
      "\n",
      "\n",
      "The following object is masked from ‘jupyter:irkernel’:\n",
      "\n",
      "    View\n",
      "\n",
      "\n",
      "The following object is masked from ‘package:utils’:\n",
      "\n",
      "    View\n",
      "\n",
      "\n",
      "\n",
      "Attaching package: ‘glue’\n",
      "\n",
      "\n",
      "The following object is masked from ‘package:dplyr’:\n",
      "\n",
      "    collapse\n",
      "\n",
      "\n"
     ]
    }
   ],
   "source": [
    "library(tidyverse)\n",
    "library(quanteda)\n",
    "library(topicmodels)\n",
    "library(glue)"
   ]
  },
  {
   "cell_type": "code",
   "execution_count": 5,
   "metadata": {
    "tags": [
     "snippet:lda1"
    ]
   },
   "outputs": [
    {
     "name": "stderr",
     "output_type": "stream",
     "text": [
      "\n",
      "\u001b[36m──\u001b[39m \u001b[1m\u001b[1mColumn specification\u001b[1m\u001b[22m \u001b[36m────────────────────────────────────────────────────────────────────────────────────────────────────────────────────────────────────────────────────────────────────────────────────────────\u001b[39m\n",
      "cols(\n",
      "  FirstName = \u001b[31mcol_character()\u001b[39m,\n",
      "  President = \u001b[31mcol_character()\u001b[39m,\n",
      "  Date = \u001b[34mcol_date(format = \"\")\u001b[39m,\n",
      "  delivery = \u001b[31mcol_character()\u001b[39m,\n",
      "  type = \u001b[31mcol_character()\u001b[39m,\n",
      "  party = \u001b[31mcol_character()\u001b[39m,\n",
      "  text = \u001b[31mcol_character()\u001b[39m\n",
      ")\n",
      "\n",
      "\n"
     ]
    },
    {
     "data": {
      "text/plain": [
       "Document-feature matrix of: 738 documents, 746 features (97.0% sparse) and 6 docvars.\n",
       "         features\n",
       "docs      speaker mr vice president members congress first united around come\n",
       "  text1.1       1  1    1         1       1        1     1      1      1    0\n",
       "  text1.2       0  0    0         0       0        0     0      0      0    1\n",
       "  text1.3       0  0    0         0       0        0     0      0      0    0\n",
       "  text1.4       0  0    0         0       0        0     0      1      0    0\n",
       "  text1.5       0  0    0         0       0        0     0      0      0    0\n",
       "  text1.6       0  0    0         0       0        0     0      0      0    0\n",
       "[ reached max_ndoc ... 732 more documents, reached max_nfeat ... 736 more features ]"
      ]
     },
     "metadata": {},
     "output_type": "display_data"
    }
   ],
   "source": [
    "sotu = read_csv(\"http://cssbook.net/d/sotu.csv\") \n",
    "p_obama = sotu %>% filter(President == 'Obama') %>% \n",
    "  corpus()  %>% corpus_reshape('paragraphs')\n",
    "dfm = p_obama %>% dfm(remove=stopwords('english'), remove_punct=T) %>% \n",
    "  dfm_trim(min_docfreq = .01, docfreq_type = \"prop\")\n",
    "dfm"
   ]
  },
  {
   "cell_type": "code",
   "execution_count": 6,
   "metadata": {
    "scrolled": true,
    "tags": [
     "snippet:lda2",
     "output:table"
    ]
   },
   "outputs": [
    {
     "data": {
      "text/html": [
       "<table>\n",
       "<caption>A matrix: 10 × 10 of type chr</caption>\n",
       "<thead>\n",
       "\t<tr><th scope=col>Topic 1</th><th scope=col>Topic 2</th><th scope=col>Topic 3</th><th scope=col>Topic 4</th><th scope=col>Topic 5</th><th scope=col>Topic 6</th><th scope=col>Topic 7</th><th scope=col>Topic 8</th><th scope=col>Topic 9</th><th scope=col>Topic 10</th></tr>\n",
       "</thead>\n",
       "<tbody>\n",
       "\t<tr><td>college  </td><td>care     </td><td>us       </td><td>can        </td><td>years    </td><td>energy  </td><td>people    </td><td>country </td><td>world   </td><td>jobs      </td></tr>\n",
       "\t<tr><td>new      </td><td>health   </td><td>nation   </td><td>make       </td><td>first    </td><td>change  </td><td>get       </td><td>time    </td><td>american</td><td>year      </td></tr>\n",
       "\t<tr><td>workers  </td><td>still    </td><td>people   </td><td>congress   </td><td>economy  </td><td>new     </td><td>day       </td><td>future  </td><td>war     </td><td>years     </td></tr>\n",
       "\t<tr><td>education</td><td>families </td><td>can      </td><td>republicans</td><td>back     </td><td>clean   </td><td>now       </td><td>american</td><td>security</td><td>new       </td></tr>\n",
       "\t<tr><td>help     </td><td>americans</td><td>states   </td><td>democrats  </td><td>time     </td><td>world   </td><td>know      </td><td>america </td><td>people  </td><td>last      </td></tr>\n",
       "\t<tr><td>job      </td><td>like     </td><td>one      </td><td>work       </td><td>home     </td><td>power   </td><td>see       </td><td>people  </td><td>troops  </td><td>tax       </td></tr>\n",
       "\t<tr><td>every    </td><td>new      </td><td>america  </td><td>take       </td><td>crisis   </td><td>america </td><td>tax       </td><td>done    </td><td>us      </td><td>million   </td></tr>\n",
       "\t<tr><td>kids     </td><td>need     </td><td>together </td><td>pay        </td><td>financial</td><td>can     </td><td>americans </td><td>work    </td><td>america </td><td>$         </td></tr>\n",
       "\t<tr><td>small    </td><td>must     </td><td>united   </td><td>cuts       </td><td>two      </td><td>economy </td><td>government</td><td>get     </td><td>new     </td><td>businesses</td></tr>\n",
       "\t<tr><td>schools  </td><td>job      </td><td>president</td><td>banks      </td><td>plan     </td><td>research</td><td>american  </td><td>now     </td><td>nations </td><td>america   </td></tr>\n",
       "</tbody>\n",
       "</table>\n"
      ],
      "text/latex": [
       "A matrix: 10 × 10 of type chr\n",
       "\\begin{tabular}{llllllllll}\n",
       " Topic 1 & Topic 2 & Topic 3 & Topic 4 & Topic 5 & Topic 6 & Topic 7 & Topic 8 & Topic 9 & Topic 10\\\\\n",
       "\\hline\n",
       "\t college   & care      & us        & can         & years     & energy   & people     & country  & world    & jobs      \\\\\n",
       "\t new       & health    & nation    & make        & first     & change   & get        & time     & american & year      \\\\\n",
       "\t workers   & still     & people    & congress    & economy   & new      & day        & future   & war      & years     \\\\\n",
       "\t education & families  & can       & republicans & back      & clean    & now        & american & security & new       \\\\\n",
       "\t help      & americans & states    & democrats   & time      & world    & know       & america  & people   & last      \\\\\n",
       "\t job       & like      & one       & work        & home      & power    & see        & people   & troops   & tax       \\\\\n",
       "\t every     & new       & america   & take        & crisis    & america  & tax        & done     & us       & million   \\\\\n",
       "\t kids      & need      & together  & pay         & financial & can      & americans  & work     & america  & \\$         \\\\\n",
       "\t small     & must      & united    & cuts        & two       & economy  & government & get      & new      & businesses\\\\\n",
       "\t schools   & job       & president & banks       & plan      & research & american   & now      & nations  & america   \\\\\n",
       "\\end{tabular}\n"
      ],
      "text/markdown": [
       "\n",
       "A matrix: 10 × 10 of type chr\n",
       "\n",
       "| Topic 1 | Topic 2 | Topic 3 | Topic 4 | Topic 5 | Topic 6 | Topic 7 | Topic 8 | Topic 9 | Topic 10 |\n",
       "|---|---|---|---|---|---|---|---|---|---|\n",
       "| college   | care      | us        | can         | years     | energy   | people     | country  | world    | jobs       |\n",
       "| new       | health    | nation    | make        | first     | change   | get        | time     | american | year       |\n",
       "| workers   | still     | people    | congress    | economy   | new      | day        | future   | war      | years      |\n",
       "| education | families  | can       | republicans | back      | clean    | now        | american | security | new        |\n",
       "| help      | americans | states    | democrats   | time      | world    | know       | america  | people   | last       |\n",
       "| job       | like      | one       | work        | home      | power    | see        | people   | troops   | tax        |\n",
       "| every     | new       | america   | take        | crisis    | america  | tax        | done     | us       | million    |\n",
       "| kids      | need      | together  | pay         | financial | can      | americans  | work     | america  | $          |\n",
       "| small     | must      | united    | cuts        | two       | economy  | government | get      | new      | businesses |\n",
       "| schools   | job       | president | banks       | plan      | research | american   | now      | nations  | america    |\n",
       "\n"
      ],
      "text/plain": [
       "      Topic 1   Topic 2   Topic 3   Topic 4     Topic 5   Topic 6  Topic 7   \n",
       " [1,] college   care      us        can         years     energy   people    \n",
       " [2,] new       health    nation    make        first     change   get       \n",
       " [3,] workers   still     people    congress    economy   new      day       \n",
       " [4,] education families  can       republicans back      clean    now       \n",
       " [5,] help      americans states    democrats   time      world    know      \n",
       " [6,] job       like      one       work        home      power    see       \n",
       " [7,] every     new       america   take        crisis    america  tax       \n",
       " [8,] kids      need      together  pay         financial can      americans \n",
       " [9,] small     must      united    cuts        two       economy  government\n",
       "[10,] schools   job       president banks       plan      research american  \n",
       "      Topic 8  Topic 9  Topic 10  \n",
       " [1,] country  world    jobs      \n",
       " [2,] time     american year      \n",
       " [3,] future   war      years     \n",
       " [4,] american security new       \n",
       " [5,] america  people   last      \n",
       " [6,] people   troops   tax       \n",
       " [7,] done     us       million   \n",
       " [8,] work     america  $         \n",
       " [9,] get      new      businesses\n",
       "[10,] now      nations  america   "
      ]
     },
     "metadata": {},
     "output_type": "display_data"
    }
   ],
   "source": [
    "dfm_tm = dfm %>% convert(to = \"topicmodels\")\n",
    "\n",
    "lda = LDA(dfm_tm, k = 10, control = list(seed=123, alpha = 1/1:10))\n",
    "terms(lda, 10)"
   ]
  },
  {
   "cell_type": "code",
   "execution_count": 4,
   "metadata": {
    "scrolled": true,
    "tags": [
     "snippet:ldaresults1",
     "output:table"
    ]
   },
   "outputs": [
    {
     "data": {
      "text/html": [
       "<table>\n",
       "<caption>A tibble: 6 × 13</caption>\n",
       "<thead>\n",
       "\t<tr><th scope=col>doc_id</th><th scope=col>President</th><th scope=col>Date</th><th scope=col>Topic_1</th><th scope=col>Topic_2</th><th scope=col>Topic_3</th><th scope=col>Topic_4</th><th scope=col>Topic_5</th><th scope=col>Topic_6</th><th scope=col>Topic_7</th><th scope=col>Topic_8</th><th scope=col>Topic_9</th><th scope=col>Topic_10</th></tr>\n",
       "\t<tr><th scope=col>&lt;chr&gt;</th><th scope=col>&lt;chr&gt;</th><th scope=col>&lt;date&gt;</th><th scope=col>&lt;dbl&gt;</th><th scope=col>&lt;dbl&gt;</th><th scope=col>&lt;dbl&gt;</th><th scope=col>&lt;dbl&gt;</th><th scope=col>&lt;dbl&gt;</th><th scope=col>&lt;dbl&gt;</th><th scope=col>&lt;dbl&gt;</th><th scope=col>&lt;dbl&gt;</th><th scope=col>&lt;dbl&gt;</th><th scope=col>&lt;dbl&gt;</th></tr>\n",
       "</thead>\n",
       "<tbody>\n",
       "\t<tr><td>text7.73</td><td>Obama</td><td>2015-01-20</td><td>0.006225760</td><td>0.006215916</td><td>0.9440579</td><td>0.006217933</td><td>0.006207157</td><td>0.006213044</td><td>0.006217223</td><td>0.006219250</td><td>0.006209715</td><td>0.00621610</td></tr>\n",
       "\t<tr><td>text5.1 </td><td>Obama</td><td>2013-02-12</td><td>0.013922992</td><td>0.013920250</td><td>0.8746604</td><td>0.013945993</td><td>0.013920249</td><td>0.013922095</td><td>0.013926882</td><td>0.013934476</td><td>0.013920254</td><td>0.01392637</td></tr>\n",
       "\t<tr><td>text4.1 </td><td>Obama</td><td>2012-01-24</td><td>0.013928049</td><td>0.013941141</td><td>0.8745912</td><td>0.013940446</td><td>0.013929597</td><td>0.013926836</td><td>0.013949266</td><td>0.013934515</td><td>0.013923389</td><td>0.01393553</td></tr>\n",
       "\t<tr><td>text6.1 </td><td>Obama</td><td>2014-01-28</td><td>0.013928049</td><td>0.013941141</td><td>0.8745912</td><td>0.013940446</td><td>0.013929597</td><td>0.013926836</td><td>0.013949266</td><td>0.013934515</td><td>0.013923389</td><td>0.01393553</td></tr>\n",
       "\t<tr><td>text2.12</td><td>Obama</td><td>2010-01-27</td><td>0.019553782</td><td>0.019579572</td><td>0.8239496</td><td>0.019602906</td><td>0.019529878</td><td>0.019576050</td><td>0.019597005</td><td>0.019541034</td><td>0.019533973</td><td>0.01953618</td></tr>\n",
       "\t<tr><td>text2.95</td><td>Obama</td><td>2010-01-27</td><td>0.007127905</td><td>0.007119074</td><td>0.8126765</td><td>0.007138889</td><td>0.007124680</td><td>0.062978268</td><td>0.007120398</td><td>0.007120516</td><td>0.007128431</td><td>0.07446531</td></tr>\n",
       "</tbody>\n",
       "</table>\n"
      ],
      "text/latex": [
       "A tibble: 6 × 13\n",
       "\\begin{tabular}{lllllllllllll}\n",
       " doc\\_id & President & Date & Topic\\_1 & Topic\\_2 & Topic\\_3 & Topic\\_4 & Topic\\_5 & Topic\\_6 & Topic\\_7 & Topic\\_8 & Topic\\_9 & Topic\\_10\\\\\n",
       " <chr> & <chr> & <date> & <dbl> & <dbl> & <dbl> & <dbl> & <dbl> & <dbl> & <dbl> & <dbl> & <dbl> & <dbl>\\\\\n",
       "\\hline\n",
       "\t text7.73 & Obama & 2015-01-20 & 0.006225760 & 0.006215916 & 0.9440579 & 0.006217933 & 0.006207157 & 0.006213044 & 0.006217223 & 0.006219250 & 0.006209715 & 0.00621610\\\\\n",
       "\t text5.1  & Obama & 2013-02-12 & 0.013922992 & 0.013920250 & 0.8746604 & 0.013945993 & 0.013920249 & 0.013922095 & 0.013926882 & 0.013934476 & 0.013920254 & 0.01392637\\\\\n",
       "\t text4.1  & Obama & 2012-01-24 & 0.013928049 & 0.013941141 & 0.8745912 & 0.013940446 & 0.013929597 & 0.013926836 & 0.013949266 & 0.013934515 & 0.013923389 & 0.01393553\\\\\n",
       "\t text6.1  & Obama & 2014-01-28 & 0.013928049 & 0.013941141 & 0.8745912 & 0.013940446 & 0.013929597 & 0.013926836 & 0.013949266 & 0.013934515 & 0.013923389 & 0.01393553\\\\\n",
       "\t text2.12 & Obama & 2010-01-27 & 0.019553782 & 0.019579572 & 0.8239496 & 0.019602906 & 0.019529878 & 0.019576050 & 0.019597005 & 0.019541034 & 0.019533973 & 0.01953618\\\\\n",
       "\t text2.95 & Obama & 2010-01-27 & 0.007127905 & 0.007119074 & 0.8126765 & 0.007138889 & 0.007124680 & 0.062978268 & 0.007120398 & 0.007120516 & 0.007128431 & 0.07446531\\\\\n",
       "\\end{tabular}\n"
      ],
      "text/markdown": [
       "\n",
       "A tibble: 6 × 13\n",
       "\n",
       "| doc_id &lt;chr&gt; | President &lt;chr&gt; | Date &lt;date&gt; | Topic_1 &lt;dbl&gt; | Topic_2 &lt;dbl&gt; | Topic_3 &lt;dbl&gt; | Topic_4 &lt;dbl&gt; | Topic_5 &lt;dbl&gt; | Topic_6 &lt;dbl&gt; | Topic_7 &lt;dbl&gt; | Topic_8 &lt;dbl&gt; | Topic_9 &lt;dbl&gt; | Topic_10 &lt;dbl&gt; |\n",
       "|---|---|---|---|---|---|---|---|---|---|---|---|---|\n",
       "| text7.73 | Obama | 2015-01-20 | 0.006225760 | 0.006215916 | 0.9440579 | 0.006217933 | 0.006207157 | 0.006213044 | 0.006217223 | 0.006219250 | 0.006209715 | 0.00621610 |\n",
       "| text5.1  | Obama | 2013-02-12 | 0.013922992 | 0.013920250 | 0.8746604 | 0.013945993 | 0.013920249 | 0.013922095 | 0.013926882 | 0.013934476 | 0.013920254 | 0.01392637 |\n",
       "| text4.1  | Obama | 2012-01-24 | 0.013928049 | 0.013941141 | 0.8745912 | 0.013940446 | 0.013929597 | 0.013926836 | 0.013949266 | 0.013934515 | 0.013923389 | 0.01393553 |\n",
       "| text6.1  | Obama | 2014-01-28 | 0.013928049 | 0.013941141 | 0.8745912 | 0.013940446 | 0.013929597 | 0.013926836 | 0.013949266 | 0.013934515 | 0.013923389 | 0.01393553 |\n",
       "| text2.12 | Obama | 2010-01-27 | 0.019553782 | 0.019579572 | 0.8239496 | 0.019602906 | 0.019529878 | 0.019576050 | 0.019597005 | 0.019541034 | 0.019533973 | 0.01953618 |\n",
       "| text2.95 | Obama | 2010-01-27 | 0.007127905 | 0.007119074 | 0.8126765 | 0.007138889 | 0.007124680 | 0.062978268 | 0.007120398 | 0.007120516 | 0.007128431 | 0.07446531 |\n",
       "\n"
      ],
      "text/plain": [
       "  doc_id   President Date       Topic_1     Topic_2     Topic_3   Topic_4    \n",
       "1 text7.73 Obama     2015-01-20 0.006225760 0.006215916 0.9440579 0.006217933\n",
       "2 text5.1  Obama     2013-02-12 0.013922992 0.013920250 0.8746604 0.013945993\n",
       "3 text4.1  Obama     2012-01-24 0.013928049 0.013941141 0.8745912 0.013940446\n",
       "4 text6.1  Obama     2014-01-28 0.013928049 0.013941141 0.8745912 0.013940446\n",
       "5 text2.12 Obama     2010-01-27 0.019553782 0.019579572 0.8239496 0.019602906\n",
       "6 text2.95 Obama     2010-01-27 0.007127905 0.007119074 0.8126765 0.007138889\n",
       "  Topic_5     Topic_6     Topic_7     Topic_8     Topic_9     Topic_10  \n",
       "1 0.006207157 0.006213044 0.006217223 0.006219250 0.006209715 0.00621610\n",
       "2 0.013920249 0.013922095 0.013926882 0.013934476 0.013920254 0.01392637\n",
       "3 0.013929597 0.013926836 0.013949266 0.013934515 0.013923389 0.01393553\n",
       "4 0.013929597 0.013926836 0.013949266 0.013934515 0.013923389 0.01393553\n",
       "5 0.019529878 0.019576050 0.019597005 0.019541034 0.019533973 0.01953618\n",
       "6 0.007124680 0.062978268 0.007120398 0.007120516 0.007128431 0.07446531"
      ]
     },
     "metadata": {},
     "output_type": "display_data"
    }
   ],
   "source": [
    "topics = posterior(lda)$topics %>% as_tibble() %>% rename_all(~paste0(\"Topic_\", .))\n",
    "tpd = bind_cols(doc_id=docnames(p_obama), \n",
    "                docvars(p_obama) %>% select(President:Date), \n",
    "                topics)\n",
    "tpd %>% arrange(desc(Topic_3)) %>% head()\n"
   ]
  },
  {
   "cell_type": "code",
   "execution_count": 5,
   "metadata": {
    "tags": [
     "snippet:ldaresults2"
    ]
   },
   "outputs": [
    {
     "name": "stdout",
     "output_type": "stream",
     "text": [
      "text7.73: So the question for those of us here tonight is how we, all of us, can better reflect America's hopes. I've served in Congress with many of you. I know many of you well. There are a lot of good people here on both sides of the aisle. And many of you have told me that this isn't what you signed up for: arguing past each other on cable shows, the constant fundraising, always looking over your shoulder at how the base will react to every decision.\n",
      "text5.1: Mr. Speaker, Mr. Vice President, members of Congress, fellow citizens:\n",
      "text2.12: And tonight, I'd like to talk about how together, we can deliver on that promise.\n"
     ]
    }
   ],
   "source": [
    "for (id in c(\"text7.73\", \"text5.1\", \"text2.12\")) \n",
    "  cat(glue(\"{id}: {texts(p_obama)[id]}\"), sep = \"\\n\")\n"
   ]
  },
  {
   "cell_type": "code",
   "execution_count": 7,
   "metadata": {
    "scrolled": true
   },
   "outputs": [
    {
     "data": {
      "text/html": [
       "<table>\n",
       "<caption>A matrix: 10 × 10 of type chr</caption>\n",
       "<thead>\n",
       "\t<tr><th scope=col>Topic 1</th><th scope=col>Topic 2</th><th scope=col>Topic 3</th><th scope=col>Topic 4</th><th scope=col>Topic 5</th><th scope=col>Topic 6</th><th scope=col>Topic 7</th><th scope=col>Topic 8</th><th scope=col>Topic 9</th><th scope=col>Topic 10</th></tr>\n",
       "</thead>\n",
       "<tbody>\n",
       "\t<tr><td>college  </td><td>care     </td><td>us       </td><td>can        </td><td>years    </td><td>energy  </td><td>people    </td><td>country </td><td>world   </td><td>jobs      </td></tr>\n",
       "\t<tr><td>new      </td><td>health   </td><td>nation   </td><td>make       </td><td>first    </td><td>change  </td><td>get       </td><td>time    </td><td>american</td><td>year      </td></tr>\n",
       "\t<tr><td>workers  </td><td>still    </td><td>people   </td><td>congress   </td><td>economy  </td><td>new     </td><td>day       </td><td>future  </td><td>war     </td><td>years     </td></tr>\n",
       "\t<tr><td>education</td><td>families </td><td>can      </td><td>republicans</td><td>back     </td><td>clean   </td><td>now       </td><td>american</td><td>security</td><td>new       </td></tr>\n",
       "\t<tr><td>help     </td><td>americans</td><td>states   </td><td>democrats  </td><td>time     </td><td>world   </td><td>know      </td><td>america </td><td>people  </td><td>last      </td></tr>\n",
       "\t<tr><td>job      </td><td>like     </td><td>one      </td><td>work       </td><td>home     </td><td>power   </td><td>see       </td><td>people  </td><td>troops  </td><td>tax       </td></tr>\n",
       "\t<tr><td>every    </td><td>new      </td><td>america  </td><td>take       </td><td>crisis   </td><td>america </td><td>tax       </td><td>done    </td><td>us      </td><td>million   </td></tr>\n",
       "\t<tr><td>kids     </td><td>need     </td><td>together </td><td>pay        </td><td>financial</td><td>can     </td><td>americans </td><td>work    </td><td>america </td><td>$         </td></tr>\n",
       "\t<tr><td>small    </td><td>must     </td><td>united   </td><td>cuts       </td><td>two      </td><td>economy </td><td>government</td><td>get     </td><td>new     </td><td>businesses</td></tr>\n",
       "\t<tr><td>schools  </td><td>job      </td><td>president</td><td>banks      </td><td>plan     </td><td>research</td><td>american  </td><td>now     </td><td>nations </td><td>america   </td></tr>\n",
       "</tbody>\n",
       "</table>\n"
      ],
      "text/latex": [
       "A matrix: 10 × 10 of type chr\n",
       "\\begin{tabular}{llllllllll}\n",
       " Topic 1 & Topic 2 & Topic 3 & Topic 4 & Topic 5 & Topic 6 & Topic 7 & Topic 8 & Topic 9 & Topic 10\\\\\n",
       "\\hline\n",
       "\t college   & care      & us        & can         & years     & energy   & people     & country  & world    & jobs      \\\\\n",
       "\t new       & health    & nation    & make        & first     & change   & get        & time     & american & year      \\\\\n",
       "\t workers   & still     & people    & congress    & economy   & new      & day        & future   & war      & years     \\\\\n",
       "\t education & families  & can       & republicans & back      & clean    & now        & american & security & new       \\\\\n",
       "\t help      & americans & states    & democrats   & time      & world    & know       & america  & people   & last      \\\\\n",
       "\t job       & like      & one       & work        & home      & power    & see        & people   & troops   & tax       \\\\\n",
       "\t every     & new       & america   & take        & crisis    & america  & tax        & done     & us       & million   \\\\\n",
       "\t kids      & need      & together  & pay         & financial & can      & americans  & work     & america  & \\$         \\\\\n",
       "\t small     & must      & united    & cuts        & two       & economy  & government & get      & new      & businesses\\\\\n",
       "\t schools   & job       & president & banks       & plan      & research & american   & now      & nations  & america   \\\\\n",
       "\\end{tabular}\n"
      ],
      "text/markdown": [
       "\n",
       "A matrix: 10 × 10 of type chr\n",
       "\n",
       "| Topic 1 | Topic 2 | Topic 3 | Topic 4 | Topic 5 | Topic 6 | Topic 7 | Topic 8 | Topic 9 | Topic 10 |\n",
       "|---|---|---|---|---|---|---|---|---|---|\n",
       "| college   | care      | us        | can         | years     | energy   | people     | country  | world    | jobs       |\n",
       "| new       | health    | nation    | make        | first     | change   | get        | time     | american | year       |\n",
       "| workers   | still     | people    | congress    | economy   | new      | day        | future   | war      | years      |\n",
       "| education | families  | can       | republicans | back      | clean    | now        | american | security | new        |\n",
       "| help      | americans | states    | democrats   | time      | world    | know       | america  | people   | last       |\n",
       "| job       | like      | one       | work        | home      | power    | see        | people   | troops   | tax        |\n",
       "| every     | new       | america   | take        | crisis    | america  | tax        | done     | us       | million    |\n",
       "| kids      | need      | together  | pay         | financial | can      | americans  | work     | america  | $          |\n",
       "| small     | must      | united    | cuts        | two       | economy  | government | get      | new      | businesses |\n",
       "| schools   | job       | president | banks       | plan      | research | american   | now      | nations  | america    |\n",
       "\n"
      ],
      "text/plain": [
       "      Topic 1   Topic 2   Topic 3   Topic 4     Topic 5   Topic 6  Topic 7   \n",
       " [1,] college   care      us        can         years     energy   people    \n",
       " [2,] new       health    nation    make        first     change   get       \n",
       " [3,] workers   still     people    congress    economy   new      day       \n",
       " [4,] education families  can       republicans back      clean    now       \n",
       " [5,] help      americans states    democrats   time      world    know      \n",
       " [6,] job       like      one       work        home      power    see       \n",
       " [7,] every     new       america   take        crisis    america  tax       \n",
       " [8,] kids      need      together  pay         financial can      americans \n",
       " [9,] small     must      united    cuts        two       economy  government\n",
       "[10,] schools   job       president banks       plan      research american  \n",
       "      Topic 8  Topic 9  Topic 10  \n",
       " [1,] country  world    jobs      \n",
       " [2,] time     american year      \n",
       " [3,] future   war      years     \n",
       " [4,] american security new       \n",
       " [5,] america  people   last      \n",
       " [6,] people   troops   tax       \n",
       " [7,] done     us       million   \n",
       " [8,] work     america  $         \n",
       " [9,] get      new      businesses\n",
       "[10,] now      nations  america   "
      ]
     },
     "metadata": {},
     "output_type": "display_data"
    }
   ],
   "source": [
    "lda = LDA(dfm_tm, k = 10, control = list(seed=123, alpha = 1/1:10))\n",
    "terms(lda, 10)"
   ]
  },
  {
   "cell_type": "code",
   "execution_count": 28,
   "metadata": {
    "collapsed": true
   },
   "outputs": [
    {
     "data": {
      "text/html": [
       "<table>\n",
       "<caption>A data.frame: 5 × 3</caption>\n",
       "<thead>\n",
       "\t<tr><th scope=col>k</th><th scope=col>coherence</th><th scope=col>perplexity</th></tr>\n",
       "\t<tr><th scope=col>&lt;dbl&gt;</th><th scope=col>&lt;dbl&gt;</th><th scope=col>&lt;dbl&gt;</th></tr>\n",
       "</thead>\n",
       "<tbody>\n",
       "\t<tr><td> 5</td><td>-128.6764</td><td>425.3500</td></tr>\n",
       "\t<tr><td>10</td><td>-135.7173</td><td>396.7148</td></tr>\n",
       "\t<tr><td>15</td><td>-137.9114</td><td>511.0947</td></tr>\n",
       "\t<tr><td>20</td><td>-139.2921</td><td>513.4349</td></tr>\n",
       "\t<tr><td>25</td><td>-134.3796</td><td>514.6719</td></tr>\n",
       "</tbody>\n",
       "</table>\n"
      ],
      "text/latex": [
       "A data.frame: 5 × 3\n",
       "\\begin{tabular}{lll}\n",
       " k & coherence & perplexity\\\\\n",
       " <dbl> & <dbl> & <dbl>\\\\\n",
       "\\hline\n",
       "\t  5 & -128.6764 & 425.3500\\\\\n",
       "\t 10 & -135.7173 & 396.7148\\\\\n",
       "\t 15 & -137.9114 & 511.0947\\\\\n",
       "\t 20 & -139.2921 & 513.4349\\\\\n",
       "\t 25 & -134.3796 & 514.6719\\\\\n",
       "\\end{tabular}\n"
      ],
      "text/markdown": [
       "\n",
       "A data.frame: 5 × 3\n",
       "\n",
       "| k &lt;dbl&gt; | coherence &lt;dbl&gt; | perplexity &lt;dbl&gt; |\n",
       "|---|---|---|\n",
       "|  5 | -128.6764 | 425.3500 |\n",
       "| 10 | -135.7173 | 396.7148 |\n",
       "| 15 | -137.9114 | 511.0947 |\n",
       "| 20 | -139.2921 | 513.4349 |\n",
       "| 25 | -134.3796 | 514.6719 |\n",
       "\n"
      ],
      "text/plain": [
       "  k  coherence perplexity\n",
       "1  5 -128.6764 425.3500  \n",
       "2 10 -135.7173 396.7148  \n",
       "3 15 -137.9114 511.0947  \n",
       "4 20 -139.2921 513.4349  \n",
       "5 25 -134.3796 514.6719  "
      ]
     },
     "metadata": {},
     "output_type": "display_data"
    }
   ],
   "source": [
    "# install.packages(\"topicdoc\")\n",
    "library(topicdoc)\n",
    "results = list()\n",
    "for (k in c(5, 10, 15, 20, 25)) {\n",
    "    lda = LDA(dfm_tm, k = k, control = list(seed=123, alpha = 1/1:10))\n",
    "    results[[as.character(k)]] = data.frame(k=k, \n",
    "                                            coherence=mean(topic_coherence(lda, dfm_tm)), \n",
    "                                            perplexity = perplexity(lda))\n",
    "}"
   ]
  },
  {
   "cell_type": "code",
   "execution_count": 35,
   "metadata": {
    "scrolled": true
   },
   "outputs": [
    {
     "data": {
      "image/png": "[encoded data removed]",
      "text/plain": [
       "plot without title"
      ]
     },
     "metadata": {
      "image/png": {
       "height": 420,
       "width": 420
      }
     },
     "output_type": "display_data"
    }
   ],
   "source": [
    "bind_rows(results)  %>% pivot_longer(-k)  %>% \n",
    "  ggplot() + \n",
    "  geom_line(aes(x=k, y=value)) + \n",
    "  xlab(\"Number of topics\") + \n",
    "  facet_grid(name ~ ., scales=\"free\")"
   ]
  },
  {
   "cell_type": "code",
   "execution_count": 25,
   "metadata": {},
   "outputs": [
    {
     "ename": "ERROR",
     "evalue": "Error in inherits(.data, \"grouped_df\"): argument \".data\" is missing, with no default\n",
     "output_type": "error",
     "traceback": [
      "Error in inherits(.data, \"grouped_df\"): argument \".data\" is missing, with no default\nTraceback:\n",
      "1. add_row(x = 3, y = 4)"
     ]
    }
   ],
   "source": [
    "t = tibble()\n",
    "t = add_row(x=3, y=4)\n",
    "t"
   ]
  }
 ],
 "metadata": {
  "celltoolbar": "Tags",
  "kernelspec": {
   "display_name": "R",
   "language": "R",
   "name": "ir"
  },
  "language_info": {
   "codemirror_mode": "r",
   "file_extension": ".r",
   "mimetype": "text/x-r-source",
   "name": "R",
   "pygments_lexer": "r",
   "version": "4.0.3"
  }
 },
 "nbformat": 4,
 "nbformat_minor": 2
}
