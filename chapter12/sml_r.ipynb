{
 "cells": [
  {
   "cell_type": "code",
   "execution_count": 6,
   "metadata": {
    "scrolled": true
   },
   "outputs": [
    {
     "name": "stderr",
     "output_type": "stream",
     "text": [
      "\n",
      "Attaching package: ‘MLmetrics’\n",
      "\n",
      "\n",
      "The following object is masked from ‘package:base’:\n",
      "\n",
      "    Recall\n",
      "\n",
      "\n"
     ]
    }
   ],
   "source": [
    "library(MLmetrics)\n",
    "library(tidyverse)\n",
    "library(quanteda)\n",
    "library(quanteda.textmodels)\n",
    "reviewdata= readRDS(\"reviewdata.rds\")"
   ]
  },
  {
   "cell_type": "code",
   "execution_count": 7,
   "metadata": {
    "scrolled": true,
    "tags": [
     "snippet:imdbbaseline"
    ]
   },
   "outputs": [
    {
     "data": {
      "text/html": [
       "<table>\n",
       "<caption>A tibble: 2 × 4</caption>\n",
       "<thead>\n",
       "\t<tr><th scope=col>label</th><th scope=col>Precision</th><th scope=col>Recall</th><th scope=col>F1</th></tr>\n",
       "\t<tr><th scope=col>&lt;chr&gt;</th><th scope=col>&lt;dbl&gt;</th><th scope=col>&lt;dbl&gt;</th><th scope=col>&lt;dbl&gt;</th></tr>\n",
       "</thead>\n",
       "<tbody>\n",
       "\t<tr><td>pos</td><td>0.8250998</td><td>0.79368</td><td>0.8090850</td></tr>\n",
       "\t<tr><td>neg</td><td>0.8012485</td><td>0.83176</td><td>0.8162192</td></tr>\n",
       "</tbody>\n",
       "</table>\n"
      ],
      "text/latex": [
       "A tibble: 2 × 4\n",
       "\\begin{tabular}{llll}\n",
       " label & Precision & Recall & F1\\\\\n",
       " <chr> & <dbl> & <dbl> & <dbl>\\\\\n",
       "\\hline\n",
       "\t pos & 0.8250998 & 0.79368 & 0.8090850\\\\\n",
       "\t neg & 0.8012485 & 0.83176 & 0.8162192\\\\\n",
       "\\end{tabular}\n"
      ],
      "text/markdown": [
       "\n",
       "A tibble: 2 × 4\n",
       "\n",
       "| label &lt;chr&gt; | Precision &lt;dbl&gt; | Recall &lt;dbl&gt; | F1 &lt;dbl&gt; |\n",
       "|---|---|---|---|\n",
       "| pos | 0.8250998 | 0.79368 | 0.8090850 |\n",
       "| neg | 0.8012485 | 0.83176 | 0.8162192 |\n",
       "\n"
      ],
      "text/plain": [
       "  label Precision Recall  F1       \n",
       "1 pos   0.8250998 0.79368 0.8090850\n",
       "2 neg   0.8012485 0.83176 0.8162192"
      ]
     },
     "metadata": {},
     "output_type": "display_data"
    }
   ],
   "source": [
    "dfm_train = reviewdata %>% corpus_subset(dataset == \"train\") %>% \n",
    "  dfm() %>% dfm_trim(min_docfreq=0.01, docfreq_type=\"prop\")\n",
    "\n",
    "dfm_test = reviewdata %>% corpus_subset(dataset == \"test\") %>% \n",
    "  dfm() %>% dfm_match(featnames(dfm_train))\n",
    "\n",
    "myclassifier = textmodel_nb(dfm_train, docvars(dfm_train, \"label\"))\n",
    "\n",
    "predicted = predict(myclassifier, newdata = dfm_test)\n",
    "\n",
    "actual = docvars(dfm_test, \"label\")\n",
    "metrics = c(Precision=Precision, Recall=Recall, F1=F1_Score)\n",
    "labels = c(\"pos\", \"neg\")\n",
    "map_dfc(metrics, ~ sapply(labels, ., y_true=actual, y_pred=predicted)) %>% \n",
    "  add_column(label=labels, .before=1)"
   ]
  }
 ],
 "metadata": {
  "celltoolbar": "Tags",
  "kernelspec": {
   "display_name": "R",
   "language": "R",
   "name": "ir"
  },
  "language_info": {
   "codemirror_mode": "r",
   "file_extension": ".r",
   "mimetype": "text/x-r-source",
   "name": "R",
   "pygments_lexer": "r",
   "version": "4.0.3"
  }
 },
 "nbformat": 4,
 "nbformat_minor": 2
}
