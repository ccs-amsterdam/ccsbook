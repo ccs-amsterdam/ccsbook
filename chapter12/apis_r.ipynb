{
 "cells": [
  {
   "cell_type": "code",
   "execution_count": 2,
   "metadata": {
    "tags": [
     "snippet:chapter12install",
     "dontrun"
    ]
   },
   "outputs": [
    {
     "name": "stderr",
     "output_type": "stream",
     "text": [
      "Installing packages into ‘/usr/local/lib/R/site-library’\n",
      "(as ‘lib’ is unspecified)\n",
      "\n",
      "also installing the dependencies ‘wk’, ‘classInt’, ‘s2’, ‘sf’, ‘lwgeom’, ‘stars’, ‘units’, ‘dichromat’, ‘XML’\n",
      "\n",
      "\n",
      "Warning message in install.packages(c(\"tidyverse\", \"httr\", \"jsonlite\", \"glue\", \"data.table\", :\n",
      "“installation of package ‘sf’ had non-zero exit status”\n",
      "Warning message in install.packages(c(\"tidyverse\", \"httr\", \"jsonlite\", \"glue\", \"data.table\", :\n",
      "“installation of package ‘lwgeom’ had non-zero exit status”\n",
      "Warning message in install.packages(c(\"tidyverse\", \"httr\", \"jsonlite\", \"glue\", \"data.table\", :\n",
      "“installation of package ‘stars’ had non-zero exit status”\n",
      "Warning message in install.packages(c(\"tidyverse\", \"httr\", \"jsonlite\", \"glue\", \"data.table\", :\n",
      "“installation of package ‘tmaptools’ had non-zero exit status”\n"
     ]
    }
   ],
   "source": [
    "install.packages(c(\"tidyverse\", \n",
    "                   \"httr\", \"jsonlite\", \"glue\", \n",
    "                   \"data.table\"))"
   ]
  },
  {
   "cell_type": "code",
   "execution_count": 23,
   "metadata": {
    "tags": [
     "snippet:chapter12library"
    ]
   },
   "outputs": [],
   "source": [
    "library(\"tidyverse\")\n",
    "library(\"httr\")\n",
    "library(\"jsonlite\")\n",
    "library(\"rvest\")\n",
    "library(\"xml2\")\n",
    "library(\"glue\")\n",
    "library(\"data.table\")"
   ]
  },
  {
   "cell_type": "code",
   "execution_count": 6,
   "metadata": {},
   "outputs": [],
   "source": [
    "# check also https://www.programmableweb.com/news/how-to-access-any-restful-api-using-r-language/how-to/2017/07/21?page=2"
   ]
  },
  {
   "cell_type": "code",
   "execution_count": 19,
   "metadata": {
    "scrolled": true,
    "tags": [
     "snippet:googleapi1"
    ]
   },
   "outputs": [
    {
     "name": "stdout",
     "output_type": "stream",
     "text": [
      "[1] \"kind\"       \"totalItems\" \"items\"     \n",
      "$kind\n",
      "[1] \"books#volume\"\n",
      "\n",
      "$id\n",
      "[1] \"yijjwAEACAAJ\"\n",
      "\n",
      "$etag\n",
      "[1] \"ip4sahVNB8s\"\n",
      "\n",
      "$selfLink\n",
      "[1] \"https://www.googleapis.com/books/v1/volumes/yijjwAEACAAJ\"\n",
      "\n",
      "$volumeInfo\n",
      "$volumeInfo$title\n",
      "[1] \"Python Data Science Handbook\"\n",
      "\n",
      "$volumeInfo$subtitle\n",
      "[1] \"Essential Tools for Working with Data\"\n",
      "\n",
      "$volumeInfo$authors\n",
      "$volumeInfo$authors[[1]]\n",
      "[1] \"Jacob T. Vanderplas\"\n",
      "\n",
      "$volumeInfo$authors[[2]]\n",
      "[1] \"Jake VanderPlas\"\n",
      "\n",
      "\n",
      "$volumeInfo$publisher\n",
      "[1] \"O'Reilly Media\"\n",
      "\n",
      "$volumeInfo$publishedDate\n",
      "[1] \"2016\"\n",
      "\n",
      "$volumeInfo$description\n",
      "[1] \"For many researchers, Python is a first-class tool mainly because of its libraries for storing, manipulating, and gaining insight from data. Several resources exist for individual pieces of this data science stack, but only with the Python Data Science Handbook do you get them all--IPython, NumPy, Pandas, Matplotlib, Scikit-Learn, and other related tools. Working scientists and data crunchers familiar with reading and writing Python code will find this comprehensive desk reference ideal for tackling day-to-day issues: manipulating, transforming, and cleaning data; visualizing different types of data; and using data to build statistical or machine learning models. Quite simply, this is the must-have reference for scientific computing in Python. With this handbook, you'll learn how to use: IPython and Jupyter: provide computational environments for data scientists using Python NumPy: includes the ndarray for efficient storage and manipulation of dense data arrays in Python Pandas: features the DataFrame for efficient storage and manipulation of labeled/columnar data in Python Matplotlib: includes capabilities for a flexible range of data visualizations in Python Scikit-Learn: for efficient and clean Python implementations of the most important and established machine learning algorithms\"\n",
      "\n",
      "$volumeInfo$industryIdentifiers\n",
      "$volumeInfo$industryIdentifiers[[1]]\n",
      "$volumeInfo$industryIdentifiers[[1]]$type\n",
      "[1] \"ISBN_10\"\n",
      "\n",
      "$volumeInfo$industryIdentifiers[[1]]$identifier\n",
      "[1] \"1491912057\"\n",
      "\n",
      "\n",
      "$volumeInfo$industryIdentifiers[[2]]\n",
      "$volumeInfo$industryIdentifiers[[2]]$type\n",
      "[1] \"ISBN_13\"\n",
      "\n",
      "$volumeInfo$industryIdentifiers[[2]]$identifier\n",
      "[1] \"9781491912058\"\n",
      "\n",
      "\n",
      "\n",
      "$volumeInfo$readingModes\n",
      "$volumeInfo$readingModes$text\n",
      "[1] FALSE\n",
      "\n",
      "$volumeInfo$readingModes$image\n",
      "[1] FALSE\n",
      "\n",
      "\n",
      "$volumeInfo$pageCount\n",
      "[1] 529\n",
      "\n",
      "$volumeInfo$printType\n",
      "[1] \"BOOK\"\n",
      "\n",
      "$volumeInfo$categories\n",
      "$volumeInfo$categories[[1]]\n",
      "[1] \"Computers\"\n",
      "\n",
      "\n",
      "$volumeInfo$averageRating\n",
      "[1] 5\n",
      "\n",
      "$volumeInfo$ratingsCount\n",
      "[1] 1\n",
      "\n",
      "$volumeInfo$maturityRating\n",
      "[1] \"NOT_MATURE\"\n",
      "\n",
      "$volumeInfo$allowAnonLogging\n",
      "[1] FALSE\n",
      "\n",
      "$volumeInfo$contentVersion\n",
      "[1] \"preview-1.0.0\"\n",
      "\n",
      "$volumeInfo$panelizationSummary\n",
      "$volumeInfo$panelizationSummary$containsEpubBubbles\n",
      "[1] FALSE\n",
      "\n",
      "$volumeInfo$panelizationSummary$containsImageBubbles\n",
      "[1] FALSE\n",
      "\n",
      "\n",
      "$volumeInfo$imageLinks\n",
      "$volumeInfo$imageLinks$smallThumbnail\n",
      "[1] \"http://books.google.com/books/content?id=yijjwAEACAAJ&printsec=frontcover&img=1&zoom=5&source=gbs_api\"\n",
      "\n",
      "$volumeInfo$imageLinks$thumbnail\n",
      "[1] \"http://books.google.com/books/content?id=yijjwAEACAAJ&printsec=frontcover&img=1&zoom=1&source=gbs_api\"\n",
      "\n",
      "\n",
      "$volumeInfo$language\n",
      "[1] \"un\"\n",
      "\n",
      "$volumeInfo$previewLink\n",
      "[1] \"http://books.google.nl/books?id=yijjwAEACAAJ&dq=python&hl=&cd=1&source=gbs_api\"\n",
      "\n",
      "$volumeInfo$infoLink\n",
      "[1] \"http://books.google.nl/books?id=yijjwAEACAAJ&dq=python&hl=&source=gbs_api\"\n",
      "\n",
      "$volumeInfo$canonicalVolumeLink\n",
      "[1] \"https://books.google.com/books/about/Python_Data_Science_Handbook.html?hl=&id=yijjwAEACAAJ\"\n",
      "\n",
      "\n",
      "$saleInfo\n",
      "$saleInfo$country\n",
      "[1] \"NL\"\n",
      "\n",
      "$saleInfo$saleability\n",
      "[1] \"NOT_FOR_SALE\"\n",
      "\n",
      "$saleInfo$isEbook\n",
      "[1] FALSE\n",
      "\n",
      "\n",
      "$accessInfo\n",
      "$accessInfo$country\n",
      "[1] \"NL\"\n",
      "\n",
      "$accessInfo$viewability\n",
      "[1] \"NO_PAGES\"\n",
      "\n",
      "$accessInfo$embeddable\n",
      "[1] FALSE\n",
      "\n",
      "$accessInfo$publicDomain\n",
      "[1] FALSE\n",
      "\n",
      "$accessInfo$textToSpeechPermission\n",
      "[1] \"ALLOWED\"\n",
      "\n",
      "$accessInfo$epub\n",
      "$accessInfo$epub$isAvailable\n",
      "[1] FALSE\n",
      "\n",
      "\n",
      "$accessInfo$pdf\n",
      "$accessInfo$pdf$isAvailable\n",
      "[1] FALSE\n",
      "\n",
      "\n",
      "$accessInfo$webReaderLink\n",
      "[1] \"http://play.google.com/books/reader?id=yijjwAEACAAJ&hl=&printsec=frontcover&source=gbs_api\"\n",
      "\n",
      "$accessInfo$accessViewStatus\n",
      "[1] \"NONE\"\n",
      "\n",
      "$accessInfo$quoteSharingAllowed\n",
      "[1] FALSE\n",
      "\n",
      "\n",
      "$searchInfo\n",
      "$searchInfo$textSnippet\n",
      "[1] \"With this handbook, you&#39;ll learn how to use: IPython and Jupyter: provide computational environments for data scientists using Python NumPy: includes the ndarray for efficient storage and manipulation of dense data arrays in Python Pandas: ...\"\n",
      "\n",
      "\n"
     ]
    }
   ],
   "source": [
    "url = str_c(\"https://www.googleapis.com/books/\",\n",
    "          \"v1/volumes?q=python\")\n",
    "r = GET(url)\n",
    "data = content(r, as=\"parsed\")\n",
    "print(names(data))\n",
    "print(data$items[[1]])"
   ]
  },
  {
   "cell_type": "code",
   "execution_count": 11,
   "metadata": {
    "tags": [
     "snippet:googleapi2",
     "output:table"
    ]
   },
   "outputs": [
    {
     "data": {
      "text/html": [
       "<table>\n",
       "<caption>A data.frame: 6 × 52</caption>\n",
       "<thead>\n",
       "\t<tr><th></th><th scope=col>kind</th><th scope=col>totalItems</th><th scope=col>items.kind</th><th scope=col>items.id</th><th scope=col>items.etag</th><th scope=col>items.selfLink</th><th scope=col>items.volumeInfo.title</th><th scope=col>items.volumeInfo.subtitle</th><th scope=col>items.volumeInfo.authors</th><th scope=col>items.volumeInfo.publisher</th><th scope=col>⋯</th><th scope=col>items.accessInfo.embeddable</th><th scope=col>items.accessInfo.publicDomain</th><th scope=col>items.accessInfo.textToSpeechPermission</th><th scope=col>items.accessInfo.webReaderLink</th><th scope=col>items.accessInfo.accessViewStatus</th><th scope=col>items.accessInfo.quoteSharingAllowed</th><th scope=col>items.accessInfo.epub.isAvailable</th><th scope=col>items.accessInfo.pdf.isAvailable</th><th scope=col>items.accessInfo.pdf.acsTokenLink</th><th scope=col>items.searchInfo.textSnippet</th></tr>\n",
       "\t<tr><th></th><th scope=col>&lt;chr&gt;</th><th scope=col>&lt;int&gt;</th><th scope=col>&lt;chr&gt;</th><th scope=col>&lt;chr&gt;</th><th scope=col>&lt;chr&gt;</th><th scope=col>&lt;chr&gt;</th><th scope=col>&lt;chr&gt;</th><th scope=col>&lt;chr&gt;</th><th scope=col>&lt;list&gt;</th><th scope=col>&lt;chr&gt;</th><th scope=col>⋯</th><th scope=col>&lt;lgl&gt;</th><th scope=col>&lt;lgl&gt;</th><th scope=col>&lt;chr&gt;</th><th scope=col>&lt;chr&gt;</th><th scope=col>&lt;chr&gt;</th><th scope=col>&lt;lgl&gt;</th><th scope=col>&lt;lgl&gt;</th><th scope=col>&lt;lgl&gt;</th><th scope=col>&lt;chr&gt;</th><th scope=col>&lt;chr&gt;</th></tr>\n",
       "</thead>\n",
       "<tbody>\n",
       "\t<tr><th scope=row>1</th><td>books#volumes</td><td>445</td><td>books#volume</td><td>yijjwAEACAAJ</td><td>OQN7qmI6kNw</td><td>https://www.googleapis.com/books/v1/volumes/yijjwAEACAAJ</td><td><span style=white-space:pre-wrap>Python Data Science Handbook         </span></td><td><span style=white-space:pre-wrap>Essential Tools for Working with Data        </span></td><td><span style=white-space:pre-wrap>Jacob T. Vanderplas, Jake VanderPlas    </span></td><td><span style=white-space:pre-wrap>O'Reilly Media        </span></td><td>⋯</td><td>FALSE</td><td>FALSE</td><td>ALLOWED</td><td>http://play.google.com/books/reader?id=yijjwAEACAAJ&amp;hl=&amp;printsec=frontcover&amp;source=gbs_api</td><td><span style=white-space:pre-wrap>NONE  </span></td><td>FALSE</td><td>FALSE</td><td>FALSE</td><td>NA</td><td>With this handbook, you&amp;#39;ll learn how to use: IPython and Jupyter: provide computational environments for data scientists using Python NumPy: includes the ndarray for efficient storage and manipulation of dense data arrays in Python Pandas: ...</td></tr>\n",
       "\t<tr><th scope=row>2</th><td>books#volumes</td><td>445</td><td>books#volume</td><td>ENIVBdZIJ6cC</td><td>2CgCK3bbTkw</td><td>https://www.googleapis.com/books/v1/volumes/ENIVBdZIJ6cC</td><td><span style=white-space:pre-wrap>Head First Python                    </span></td><td><span style=white-space:pre-wrap>NA                                           </span></td><td>Paul Barry</td><td>\"O'Reilly Media, Inc.\"</td><td>⋯</td><td> TRUE</td><td>FALSE</td><td>ALLOWED</td><td>http://play.google.com/books/reader?id=ENIVBdZIJ6cC&amp;hl=&amp;printsec=frontcover&amp;source=gbs_api</td><td>SAMPLE</td><td>FALSE</td><td>FALSE</td><td> TRUE</td><td>NA</td><td><span style=white-space:pre-wrap>A guide to the programming language describes how to build Python-enabled Web servers and applications, write mobile apps on the Android platform, develop sophisticated games, build GUI-based programs, and write Python scripts to automate ...     </span></td></tr>\n",
       "\t<tr><th scope=row>3</th><td>books#volumes</td><td>445</td><td>books#volume</td><td>9MS9BQAAQBAJ</td><td>KrRcCGofKC4</td><td>https://www.googleapis.com/books/v1/volumes/9MS9BQAAQBAJ</td><td><span style=white-space:pre-wrap>Black Hat Python                     </span></td><td>Python Programming for Hackers and Pentesters</td><td>Justin Seitz</td><td><span style=white-space:pre-wrap>No Starch Press       </span></td><td>⋯</td><td> TRUE</td><td>FALSE</td><td>ALLOWED</td><td>http://play.google.com/books/reader?id=9MS9BQAAQBAJ&amp;hl=&amp;printsec=frontcover&amp;source=gbs_api</td><td>SAMPLE</td><td>FALSE</td><td> TRUE</td><td> TRUE</td><td>NA</td><td><span style=white-space:pre-wrap>In Black Hat Python, the latest from Justin Seitz (author of the best-selling Gray Hat Python), you’ll explore the darker side of Python’s capabilities—writing network sniffers, manipulating packets, infecting virtual machines, ...                </span></td></tr>\n",
       "\t<tr><th scope=row>4</th><td>books#volumes</td><td>445</td><td>books#volume</td><td>2ZggjwEACAAJ</td><td>Mi91lkNOJXE</td><td>https://www.googleapis.com/books/v1/volumes/2ZggjwEACAAJ</td><td><span style=white-space:pre-wrap>The Hitchhiker's Guide to Python     </span></td><td><span style=white-space:pre-wrap>Best Practices for Development               </span></td><td><span style=white-space:pre-wrap>Kenneth Reitz  , Tanya Schlusser</span></td><td><span style=white-space:pre-wrap>NA                    </span></td><td>⋯</td><td>FALSE</td><td>FALSE</td><td>ALLOWED</td><td>http://play.google.com/books/reader?id=2ZggjwEACAAJ&amp;hl=&amp;printsec=frontcover&amp;source=gbs_api</td><td><span style=white-space:pre-wrap>NONE  </span></td><td>FALSE</td><td>FALSE</td><td>FALSE</td><td>NA</td><td><span style=white-space:pre-wrap>Ready to complete your trek from journeyman to true Pythonista? This practical book provides an insider&amp;#39;s guide to the Python community&amp;#39;s best practices and favorite tools.                                                                   </span></td></tr>\n",
       "\t<tr><th scope=row>5</th><td>books#volumes</td><td>445</td><td>books#volume</td><td>BP_WAgAAQBAJ</td><td>qi6j7SCfub8</td><td>https://www.googleapis.com/books/v1/volumes/BP_WAgAAQBAJ</td><td><span style=white-space:pre-wrap>Learning Python with Raspberry Pi    </span></td><td><span style=white-space:pre-wrap>NA                                           </span></td><td><span style=white-space:pre-wrap>Alex Bradbury, Russel Winder, Ben Everard  </span></td><td><span style=white-space:pre-wrap>John Wiley &amp; Sons     </span></td><td>⋯</td><td> TRUE</td><td>FALSE</td><td>ALLOWED</td><td>http://play.google.com/books/reader?id=BP_WAgAAQBAJ&amp;hl=&amp;printsec=frontcover&amp;source=gbs_api</td><td>SAMPLE</td><td>FALSE</td><td>FALSE</td><td>FALSE</td><td>NA</td><td><span style=white-space:pre-wrap>This approachable book serves as an ideal resource for anyone wanting to use Raspberry Pi to learn to program and helps you get started with the Python programming language.                                                                          </span></td></tr>\n",
       "\t<tr><th scope=row>6</th><td>books#volumes</td><td>445</td><td>books#volume</td><td>UEu0CAAAQBAJ</td><td>FVdLk8l7tfs</td><td>https://www.googleapis.com/books/v1/volumes/UEu0CAAAQBAJ</td><td>Automate the Boring Stuff with Python</td><td><span style=white-space:pre-wrap>Practical Programming for Total Beginners    </span></td><td>Al Sweigart</td><td><span style=white-space:pre-wrap>No Starch Press       </span></td><td>⋯</td><td> TRUE</td><td>FALSE</td><td>ALLOWED</td><td>http://play.google.com/books/reader?id=UEu0CAAAQBAJ&amp;hl=&amp;printsec=frontcover&amp;source=gbs_api</td><td>SAMPLE</td><td>FALSE</td><td> TRUE</td><td> TRUE</td><td>NA</td><td><span style=white-space:pre-wrap>Even if you’ve never written a line of code, you can make your computer do the grunt work. Learn how in Automate the Boring Stuff with Python. Note: The programs in this book are written to run on Python 3.                                         </span></td></tr>\n",
       "</tbody>\n",
       "</table>\n"
      ],
      "text/latex": [
       "A data.frame: 6 × 52\n",
       "\\begin{tabular}{r|lllllllllllllllllllll}\n",
       "  & kind & totalItems & items.kind & items.id & items.etag & items.selfLink & items.volumeInfo.title & items.volumeInfo.subtitle & items.volumeInfo.authors & items.volumeInfo.publisher & ⋯ & items.accessInfo.embeddable & items.accessInfo.publicDomain & items.accessInfo.textToSpeechPermission & items.accessInfo.webReaderLink & items.accessInfo.accessViewStatus & items.accessInfo.quoteSharingAllowed & items.accessInfo.epub.isAvailable & items.accessInfo.pdf.isAvailable & items.accessInfo.pdf.acsTokenLink & items.searchInfo.textSnippet\\\\\n",
       "  & <chr> & <int> & <chr> & <chr> & <chr> & <chr> & <chr> & <chr> & <list> & <chr> & ⋯ & <lgl> & <lgl> & <chr> & <chr> & <chr> & <lgl> & <lgl> & <lgl> & <chr> & <chr>\\\\\n",
       "\\hline\n",
       "\t1 & books\\#volumes & 445 & books\\#volume & yijjwAEACAAJ & OQN7qmI6kNw & https://www.googleapis.com/books/v1/volumes/yijjwAEACAAJ & Python Data Science Handbook          & Essential Tools for Working with Data         & Jacob T. Vanderplas, Jake VanderPlas     & O'Reilly Media         & ⋯ & FALSE & FALSE & ALLOWED & http://play.google.com/books/reader?id=yijjwAEACAAJ\\&hl=\\&printsec=frontcover\\&source=gbs\\_api & NONE   & FALSE & FALSE & FALSE & NA & With this handbook, you\\&\\#39;ll learn how to use: IPython and Jupyter: provide computational environments for data scientists using Python NumPy: includes the ndarray for efficient storage and manipulation of dense data arrays in Python Pandas: ...\\\\\n",
       "\t2 & books\\#volumes & 445 & books\\#volume & ENIVBdZIJ6cC & 2CgCK3bbTkw & https://www.googleapis.com/books/v1/volumes/ENIVBdZIJ6cC & Head First Python                     & NA                                            & Paul Barry & \"O'Reilly Media, Inc.\" & ⋯ &  TRUE & FALSE & ALLOWED & http://play.google.com/books/reader?id=ENIVBdZIJ6cC\\&hl=\\&printsec=frontcover\\&source=gbs\\_api & SAMPLE & FALSE & FALSE &  TRUE & NA & A guide to the programming language describes how to build Python-enabled Web servers and applications, write mobile apps on the Android platform, develop sophisticated games, build GUI-based programs, and write Python scripts to automate ...     \\\\\n",
       "\t3 & books\\#volumes & 445 & books\\#volume & 9MS9BQAAQBAJ & KrRcCGofKC4 & https://www.googleapis.com/books/v1/volumes/9MS9BQAAQBAJ & Black Hat Python                      & Python Programming for Hackers and Pentesters & Justin Seitz & No Starch Press        & ⋯ &  TRUE & FALSE & ALLOWED & http://play.google.com/books/reader?id=9MS9BQAAQBAJ\\&hl=\\&printsec=frontcover\\&source=gbs\\_api & SAMPLE & FALSE &  TRUE &  TRUE & NA & In Black Hat Python, the latest from Justin Seitz (author of the best-selling Gray Hat Python), you’ll explore the darker side of Python’s capabilities—writing network sniffers, manipulating packets, infecting virtual machines, ...                \\\\\n",
       "\t4 & books\\#volumes & 445 & books\\#volume & 2ZggjwEACAAJ & Mi91lkNOJXE & https://www.googleapis.com/books/v1/volumes/2ZggjwEACAAJ & The Hitchhiker's Guide to Python      & Best Practices for Development                & Kenneth Reitz  , Tanya Schlusser & NA                     & ⋯ & FALSE & FALSE & ALLOWED & http://play.google.com/books/reader?id=2ZggjwEACAAJ\\&hl=\\&printsec=frontcover\\&source=gbs\\_api & NONE   & FALSE & FALSE & FALSE & NA & Ready to complete your trek from journeyman to true Pythonista? This practical book provides an insider\\&\\#39;s guide to the Python community\\&\\#39;s best practices and favorite tools.                                                                   \\\\\n",
       "\t5 & books\\#volumes & 445 & books\\#volume & BP\\_WAgAAQBAJ & qi6j7SCfub8 & https://www.googleapis.com/books/v1/volumes/BP\\_WAgAAQBAJ & Learning Python with Raspberry Pi     & NA                                            & Alex Bradbury, Russel Winder, Ben Everard   & John Wiley \\& Sons      & ⋯ &  TRUE & FALSE & ALLOWED & http://play.google.com/books/reader?id=BP\\_WAgAAQBAJ\\&hl=\\&printsec=frontcover\\&source=gbs\\_api & SAMPLE & FALSE & FALSE & FALSE & NA & This approachable book serves as an ideal resource for anyone wanting to use Raspberry Pi to learn to program and helps you get started with the Python programming language.                                                                          \\\\\n",
       "\t6 & books\\#volumes & 445 & books\\#volume & UEu0CAAAQBAJ & FVdLk8l7tfs & https://www.googleapis.com/books/v1/volumes/UEu0CAAAQBAJ & Automate the Boring Stuff with Python & Practical Programming for Total Beginners     & Al Sweigart & No Starch Press        & ⋯ &  TRUE & FALSE & ALLOWED & http://play.google.com/books/reader?id=UEu0CAAAQBAJ\\&hl=\\&printsec=frontcover\\&source=gbs\\_api & SAMPLE & FALSE &  TRUE &  TRUE & NA & Even if you’ve never written a line of code, you can make your computer do the grunt work. Learn how in Automate the Boring Stuff with Python. Note: The programs in this book are written to run on Python 3.                                         \\\\\n",
       "\\end{tabular}\n"
      ],
      "text/markdown": [
       "\n",
       "A data.frame: 6 × 52\n",
       "\n",
       "| <!--/--> | kind &lt;chr&gt; | totalItems &lt;int&gt; | items.kind &lt;chr&gt; | items.id &lt;chr&gt; | items.etag &lt;chr&gt; | items.selfLink &lt;chr&gt; | items.volumeInfo.title &lt;chr&gt; | items.volumeInfo.subtitle &lt;chr&gt; | items.volumeInfo.authors &lt;list&gt; | items.volumeInfo.publisher &lt;chr&gt; | ⋯ ⋯ | items.accessInfo.embeddable &lt;lgl&gt; | items.accessInfo.publicDomain &lt;lgl&gt; | items.accessInfo.textToSpeechPermission &lt;chr&gt; | items.accessInfo.webReaderLink &lt;chr&gt; | items.accessInfo.accessViewStatus &lt;chr&gt; | items.accessInfo.quoteSharingAllowed &lt;lgl&gt; | items.accessInfo.epub.isAvailable &lt;lgl&gt; | items.accessInfo.pdf.isAvailable &lt;lgl&gt; | items.accessInfo.pdf.acsTokenLink &lt;chr&gt; | items.searchInfo.textSnippet &lt;chr&gt; |\n",
       "|---|---|---|---|---|---|---|---|---|---|---|---|---|---|---|---|---|---|---|---|---|---|\n",
       "| 1 | books#volumes | 445 | books#volume | yijjwAEACAAJ | OQN7qmI6kNw | https://www.googleapis.com/books/v1/volumes/yijjwAEACAAJ | Python Data Science Handbook          | Essential Tools for Working with Data         | Jacob T. Vanderplas, Jake VanderPlas     | O'Reilly Media         | ⋯ | FALSE | FALSE | ALLOWED | http://play.google.com/books/reader?id=yijjwAEACAAJ&amp;hl=&amp;printsec=frontcover&amp;source=gbs_api | NONE   | FALSE | FALSE | FALSE | NA | With this handbook, you&amp;#39;ll learn how to use: IPython and Jupyter: provide computational environments for data scientists using Python NumPy: includes the ndarray for efficient storage and manipulation of dense data arrays in Python Pandas: ... |\n",
       "| 2 | books#volumes | 445 | books#volume | ENIVBdZIJ6cC | 2CgCK3bbTkw | https://www.googleapis.com/books/v1/volumes/ENIVBdZIJ6cC | Head First Python                     | NA                                            | Paul Barry | \"O'Reilly Media, Inc.\" | ⋯ |  TRUE | FALSE | ALLOWED | http://play.google.com/books/reader?id=ENIVBdZIJ6cC&amp;hl=&amp;printsec=frontcover&amp;source=gbs_api | SAMPLE | FALSE | FALSE |  TRUE | NA | A guide to the programming language describes how to build Python-enabled Web servers and applications, write mobile apps on the Android platform, develop sophisticated games, build GUI-based programs, and write Python scripts to automate ...      |\n",
       "| 3 | books#volumes | 445 | books#volume | 9MS9BQAAQBAJ | KrRcCGofKC4 | https://www.googleapis.com/books/v1/volumes/9MS9BQAAQBAJ | Black Hat Python                      | Python Programming for Hackers and Pentesters | Justin Seitz | No Starch Press        | ⋯ |  TRUE | FALSE | ALLOWED | http://play.google.com/books/reader?id=9MS9BQAAQBAJ&amp;hl=&amp;printsec=frontcover&amp;source=gbs_api | SAMPLE | FALSE |  TRUE |  TRUE | NA | In Black Hat Python, the latest from Justin Seitz (author of the best-selling Gray Hat Python), you’ll explore the darker side of Python’s capabilities—writing network sniffers, manipulating packets, infecting virtual machines, ...                 |\n",
       "| 4 | books#volumes | 445 | books#volume | 2ZggjwEACAAJ | Mi91lkNOJXE | https://www.googleapis.com/books/v1/volumes/2ZggjwEACAAJ | The Hitchhiker's Guide to Python      | Best Practices for Development                | Kenneth Reitz  , Tanya Schlusser | NA                     | ⋯ | FALSE | FALSE | ALLOWED | http://play.google.com/books/reader?id=2ZggjwEACAAJ&amp;hl=&amp;printsec=frontcover&amp;source=gbs_api | NONE   | FALSE | FALSE | FALSE | NA | Ready to complete your trek from journeyman to true Pythonista? This practical book provides an insider&amp;#39;s guide to the Python community&amp;#39;s best practices and favorite tools.                                                                    |\n",
       "| 5 | books#volumes | 445 | books#volume | BP_WAgAAQBAJ | qi6j7SCfub8 | https://www.googleapis.com/books/v1/volumes/BP_WAgAAQBAJ | Learning Python with Raspberry Pi     | NA                                            | Alex Bradbury, Russel Winder, Ben Everard   | John Wiley &amp; Sons      | ⋯ |  TRUE | FALSE | ALLOWED | http://play.google.com/books/reader?id=BP_WAgAAQBAJ&amp;hl=&amp;printsec=frontcover&amp;source=gbs_api | SAMPLE | FALSE | FALSE | FALSE | NA | This approachable book serves as an ideal resource for anyone wanting to use Raspberry Pi to learn to program and helps you get started with the Python programming language.                                                                           |\n",
       "| 6 | books#volumes | 445 | books#volume | UEu0CAAAQBAJ | FVdLk8l7tfs | https://www.googleapis.com/books/v1/volumes/UEu0CAAAQBAJ | Automate the Boring Stuff with Python | Practical Programming for Total Beginners     | Al Sweigart | No Starch Press        | ⋯ |  TRUE | FALSE | ALLOWED | http://play.google.com/books/reader?id=UEu0CAAAQBAJ&amp;hl=&amp;printsec=frontcover&amp;source=gbs_api | SAMPLE | FALSE |  TRUE |  TRUE | NA | Even if you’ve never written a line of code, you can make your computer do the grunt work. Learn how in Automate the Boring Stuff with Python. Note: The programs in this book are written to run on Python 3.                                          |\n",
       "\n"
      ],
      "text/plain": [
       "  kind          totalItems items.kind   items.id     items.etag \n",
       "1 books#volumes 445        books#volume yijjwAEACAAJ OQN7qmI6kNw\n",
       "2 books#volumes 445        books#volume ENIVBdZIJ6cC 2CgCK3bbTkw\n",
       "3 books#volumes 445        books#volume 9MS9BQAAQBAJ KrRcCGofKC4\n",
       "4 books#volumes 445        books#volume 2ZggjwEACAAJ Mi91lkNOJXE\n",
       "5 books#volumes 445        books#volume BP_WAgAAQBAJ qi6j7SCfub8\n",
       "6 books#volumes 445        books#volume UEu0CAAAQBAJ FVdLk8l7tfs\n",
       "  items.selfLink                                          \n",
       "1 https://www.googleapis.com/books/v1/volumes/yijjwAEACAAJ\n",
       "2 https://www.googleapis.com/books/v1/volumes/ENIVBdZIJ6cC\n",
       "3 https://www.googleapis.com/books/v1/volumes/9MS9BQAAQBAJ\n",
       "4 https://www.googleapis.com/books/v1/volumes/2ZggjwEACAAJ\n",
       "5 https://www.googleapis.com/books/v1/volumes/BP_WAgAAQBAJ\n",
       "6 https://www.googleapis.com/books/v1/volumes/UEu0CAAAQBAJ\n",
       "  items.volumeInfo.title               \n",
       "1 Python Data Science Handbook         \n",
       "2 Head First Python                    \n",
       "3 Black Hat Python                     \n",
       "4 The Hitchhiker's Guide to Python     \n",
       "5 Learning Python with Raspberry Pi    \n",
       "6 Automate the Boring Stuff with Python\n",
       "  items.volumeInfo.subtitle                    \n",
       "1 Essential Tools for Working with Data        \n",
       "2 NA                                           \n",
       "3 Python Programming for Hackers and Pentesters\n",
       "4 Best Practices for Development               \n",
       "5 NA                                           \n",
       "6 Practical Programming for Total Beginners    \n",
       "  items.volumeInfo.authors                    items.volumeInfo.publisher ⋯\n",
       "1 Jacob T. Vanderplas, Jake VanderPlas        O'Reilly Media             ⋯\n",
       "2 Paul Barry                                  \"O'Reilly Media, Inc.\"     ⋯\n",
       "3 Justin Seitz                                No Starch Press            ⋯\n",
       "4 Kenneth Reitz  , Tanya Schlusser            NA                         ⋯\n",
       "5 Alex Bradbury, Russel Winder, Ben Everard   John Wiley & Sons          ⋯\n",
       "6 Al Sweigart                                 No Starch Press            ⋯\n",
       "  items.accessInfo.embeddable items.accessInfo.publicDomain\n",
       "1 FALSE                       FALSE                        \n",
       "2  TRUE                       FALSE                        \n",
       "3  TRUE                       FALSE                        \n",
       "4 FALSE                       FALSE                        \n",
       "5  TRUE                       FALSE                        \n",
       "6  TRUE                       FALSE                        \n",
       "  items.accessInfo.textToSpeechPermission\n",
       "1 ALLOWED                                \n",
       "2 ALLOWED                                \n",
       "3 ALLOWED                                \n",
       "4 ALLOWED                                \n",
       "5 ALLOWED                                \n",
       "6 ALLOWED                                \n",
       "  items.accessInfo.webReaderLink                                                            \n",
       "1 http://play.google.com/books/reader?id=yijjwAEACAAJ&hl=&printsec=frontcover&source=gbs_api\n",
       "2 http://play.google.com/books/reader?id=ENIVBdZIJ6cC&hl=&printsec=frontcover&source=gbs_api\n",
       "3 http://play.google.com/books/reader?id=9MS9BQAAQBAJ&hl=&printsec=frontcover&source=gbs_api\n",
       "4 http://play.google.com/books/reader?id=2ZggjwEACAAJ&hl=&printsec=frontcover&source=gbs_api\n",
       "5 http://play.google.com/books/reader?id=BP_WAgAAQBAJ&hl=&printsec=frontcover&source=gbs_api\n",
       "6 http://play.google.com/books/reader?id=UEu0CAAAQBAJ&hl=&printsec=frontcover&source=gbs_api\n",
       "  items.accessInfo.accessViewStatus items.accessInfo.quoteSharingAllowed\n",
       "1 NONE                              FALSE                               \n",
       "2 SAMPLE                            FALSE                               \n",
       "3 SAMPLE                            FALSE                               \n",
       "4 NONE                              FALSE                               \n",
       "5 SAMPLE                            FALSE                               \n",
       "6 SAMPLE                            FALSE                               \n",
       "  items.accessInfo.epub.isAvailable items.accessInfo.pdf.isAvailable\n",
       "1 FALSE                             FALSE                           \n",
       "2 FALSE                              TRUE                           \n",
       "3  TRUE                              TRUE                           \n",
       "4 FALSE                             FALSE                           \n",
       "5 FALSE                             FALSE                           \n",
       "6  TRUE                              TRUE                           \n",
       "  items.accessInfo.pdf.acsTokenLink\n",
       "1 NA                               \n",
       "2 NA                               \n",
       "3 NA                               \n",
       "4 NA                               \n",
       "5 NA                               \n",
       "6 NA                               \n",
       "  items.searchInfo.textSnippet                                                                                                                                                                                                                           \n",
       "1 With this handbook, you&#39;ll learn how to use: IPython and Jupyter: provide computational environments for data scientists using Python NumPy: includes the ndarray for efficient storage and manipulation of dense data arrays in Python Pandas: ...\n",
       "2 A guide to the programming language describes how to build Python-enabled Web servers and applications, write mobile apps on the Android platform, develop sophisticated games, build GUI-based programs, and write Python scripts to automate ...     \n",
       "3 In Black Hat Python, the latest from Justin Seitz (author of the best-selling Gray Hat Python), you’ll explore the darker side of Python’s capabilities—writing network sniffers, manipulating packets, infecting virtual machines, ...                \n",
       "4 Ready to complete your trek from journeyman to true Pythonista? This practical book provides an insider&#39;s guide to the Python community&#39;s best practices and favorite tools.                                                                   \n",
       "5 This approachable book serves as an ideal resource for anyone wanting to use Raspberry Pi to learn to program and helps you get started with the Python programming language.                                                                          \n",
       "6 Even if you’ve never written a line of code, you can make your computer do the grunt work. Learn how in Automate the Boring Stuff with Python. Note: The programs in this book are written to run on Python 3.                                         "
      ]
     },
     "metadata": {},
     "output_type": "display_data"
    }
   ],
   "source": [
    "r_text = content(r, \"text\")\n",
    "data_json = jsonlite::fromJSON(r_text, flatten=T)\n",
    "d = as.data.frame(data_json)\n",
    "head(d)"
   ]
  },
  {
   "cell_type": "code",
   "execution_count": 12,
   "metadata": {
    "tags": [
     "output:table",
     "snippet:googleapi2table"
    ]
   },
   "outputs": [
    {
     "data": {
      "text/html": [
       "<table>\n",
       "<caption>A data.frame: 6 × 5</caption>\n",
       "<thead>\n",
       "\t<tr><th></th><th scope=col>kind</th><th scope=col>totalItems</th><th scope=col>items.kind</th><th scope=col>items.id</th><th scope=col>items.etag</th></tr>\n",
       "\t<tr><th></th><th scope=col>&lt;chr&gt;</th><th scope=col>&lt;int&gt;</th><th scope=col>&lt;chr&gt;</th><th scope=col>&lt;chr&gt;</th><th scope=col>&lt;chr&gt;</th></tr>\n",
       "</thead>\n",
       "<tbody>\n",
       "\t<tr><th scope=row>1</th><td>books#volumes</td><td>445</td><td>books#volume</td><td>yijjwAEACAAJ</td><td>OQN7qmI6kNw</td></tr>\n",
       "\t<tr><th scope=row>2</th><td>books#volumes</td><td>445</td><td>books#volume</td><td>ENIVBdZIJ6cC</td><td>2CgCK3bbTkw</td></tr>\n",
       "\t<tr><th scope=row>3</th><td>books#volumes</td><td>445</td><td>books#volume</td><td>9MS9BQAAQBAJ</td><td>KrRcCGofKC4</td></tr>\n",
       "\t<tr><th scope=row>4</th><td>books#volumes</td><td>445</td><td>books#volume</td><td>2ZggjwEACAAJ</td><td>Mi91lkNOJXE</td></tr>\n",
       "\t<tr><th scope=row>5</th><td>books#volumes</td><td>445</td><td>books#volume</td><td>BP_WAgAAQBAJ</td><td>qi6j7SCfub8</td></tr>\n",
       "\t<tr><th scope=row>6</th><td>books#volumes</td><td>445</td><td>books#volume</td><td>UEu0CAAAQBAJ</td><td>FVdLk8l7tfs</td></tr>\n",
       "</tbody>\n",
       "</table>\n"
      ],
      "text/latex": [
       "A data.frame: 6 × 5\n",
       "\\begin{tabular}{r|lllll}\n",
       "  & kind & totalItems & items.kind & items.id & items.etag\\\\\n",
       "  & <chr> & <int> & <chr> & <chr> & <chr>\\\\\n",
       "\\hline\n",
       "\t1 & books\\#volumes & 445 & books\\#volume & yijjwAEACAAJ & OQN7qmI6kNw\\\\\n",
       "\t2 & books\\#volumes & 445 & books\\#volume & ENIVBdZIJ6cC & 2CgCK3bbTkw\\\\\n",
       "\t3 & books\\#volumes & 445 & books\\#volume & 9MS9BQAAQBAJ & KrRcCGofKC4\\\\\n",
       "\t4 & books\\#volumes & 445 & books\\#volume & 2ZggjwEACAAJ & Mi91lkNOJXE\\\\\n",
       "\t5 & books\\#volumes & 445 & books\\#volume & BP\\_WAgAAQBAJ & qi6j7SCfub8\\\\\n",
       "\t6 & books\\#volumes & 445 & books\\#volume & UEu0CAAAQBAJ & FVdLk8l7tfs\\\\\n",
       "\\end{tabular}\n"
      ],
      "text/markdown": [
       "\n",
       "A data.frame: 6 × 5\n",
       "\n",
       "| <!--/--> | kind &lt;chr&gt; | totalItems &lt;int&gt; | items.kind &lt;chr&gt; | items.id &lt;chr&gt; | items.etag &lt;chr&gt; |\n",
       "|---|---|---|---|---|---|\n",
       "| 1 | books#volumes | 445 | books#volume | yijjwAEACAAJ | OQN7qmI6kNw |\n",
       "| 2 | books#volumes | 445 | books#volume | ENIVBdZIJ6cC | 2CgCK3bbTkw |\n",
       "| 3 | books#volumes | 445 | books#volume | 9MS9BQAAQBAJ | KrRcCGofKC4 |\n",
       "| 4 | books#volumes | 445 | books#volume | 2ZggjwEACAAJ | Mi91lkNOJXE |\n",
       "| 5 | books#volumes | 445 | books#volume | BP_WAgAAQBAJ | qi6j7SCfub8 |\n",
       "| 6 | books#volumes | 445 | books#volume | UEu0CAAAQBAJ | FVdLk8l7tfs |\n",
       "\n"
      ],
      "text/plain": [
       "  kind          totalItems items.kind   items.id     items.etag \n",
       "1 books#volumes 445        books#volume yijjwAEACAAJ OQN7qmI6kNw\n",
       "2 books#volumes 445        books#volume ENIVBdZIJ6cC 2CgCK3bbTkw\n",
       "3 books#volumes 445        books#volume 9MS9BQAAQBAJ KrRcCGofKC4\n",
       "4 books#volumes 445        books#volume 2ZggjwEACAAJ Mi91lkNOJXE\n",
       "5 books#volumes 445        books#volume BP_WAgAAQBAJ qi6j7SCfub8\n",
       "6 books#volumes 445        books#volume UEu0CAAAQBAJ FVdLk8l7tfs"
      ]
     },
     "metadata": {},
     "output_type": "display_data"
    }
   ],
   "source": [
    "# smaller table to use as output for in book\n",
    "d  %>% select(kind:items.etag)  %>% head()"
   ]
  },
  {
   "cell_type": "code",
   "execution_count": 20,
   "metadata": {
    "tags": [
     "snippet:googleapi3"
    ]
   },
   "outputs": [],
   "source": [
    "i = 0\n",
    "j = 1\n",
    "url = str_c(\"https://www.googleapis.com/books/\",\n",
    "            \"v1/volumes?q=python&maxResults=40\",\n",
    "            \"&startIndex={i}\")\n",
    "alldata = list()\n",
    "while (TRUE) {\n",
    "    r = GET(glue(url))\n",
    "    r_text = content(r, \"text\")\n",
    "    data_json = fromJSON(r_text, flatten=T)\n",
    "    if (length(data_json$items)==0) {break}\n",
    "    alldata[[j]] = as.data.frame(data_json)\n",
    "    i = i + 40\n",
    "    j = j + 1} \n",
    "\n",
    "d = rbindlist(alldata, fill=TRUE)"
   ]
  },
  {
   "cell_type": "code",
   "execution_count": 21,
   "metadata": {
    "tags": [
     "snippet:googleapi3table",
     "output:table"
    ]
   },
   "outputs": [
    {
     "data": {
      "text/html": [
       "<table>\n",
       "<caption>A data.table: 6 × 5</caption>\n",
       "<thead>\n",
       "\t<tr><th scope=col>kind</th><th scope=col>totalItems</th><th scope=col>items.kind</th><th scope=col>items.id</th><th scope=col>items.etag</th></tr>\n",
       "\t<tr><th scope=col>&lt;chr&gt;</th><th scope=col>&lt;int&gt;</th><th scope=col>&lt;chr&gt;</th><th scope=col>&lt;chr&gt;</th><th scope=col>&lt;chr&gt;</th></tr>\n",
       "</thead>\n",
       "<tbody>\n",
       "\t<tr><td>books#volumes</td><td>435</td><td>books#volume</td><td>yijjwAEACAAJ</td><td>1cuPQXg3ys4</td></tr>\n",
       "\t<tr><td>books#volumes</td><td>435</td><td>books#volume</td><td>ENIVBdZIJ6cC</td><td>7cAqyMs9BG4</td></tr>\n",
       "\t<tr><td>books#volumes</td><td>435</td><td>books#volume</td><td>9MS9BQAAQBAJ</td><td>Q6QEOWlh6Fk</td></tr>\n",
       "\t<tr><td>books#volumes</td><td>435</td><td>books#volume</td><td>4pgQfXQvekcC</td><td>08NK/pxgxsk</td></tr>\n",
       "\t<tr><td>books#volumes</td><td>435</td><td>books#volume</td><td>2ZggjwEACAAJ</td><td>Cl76kXv07aI</td></tr>\n",
       "\t<tr><td>books#volumes</td><td>435</td><td>books#volume</td><td>pjqbAgAAQBAJ</td><td>U2ce+ef6eu8</td></tr>\n",
       "</tbody>\n",
       "</table>\n"
      ],
      "text/latex": [
       "A data.table: 6 × 5\n",
       "\\begin{tabular}{lllll}\n",
       " kind & totalItems & items.kind & items.id & items.etag\\\\\n",
       " <chr> & <int> & <chr> & <chr> & <chr>\\\\\n",
       "\\hline\n",
       "\t books\\#volumes & 435 & books\\#volume & yijjwAEACAAJ & 1cuPQXg3ys4\\\\\n",
       "\t books\\#volumes & 435 & books\\#volume & ENIVBdZIJ6cC & 7cAqyMs9BG4\\\\\n",
       "\t books\\#volumes & 435 & books\\#volume & 9MS9BQAAQBAJ & Q6QEOWlh6Fk\\\\\n",
       "\t books\\#volumes & 435 & books\\#volume & 4pgQfXQvekcC & 08NK/pxgxsk\\\\\n",
       "\t books\\#volumes & 435 & books\\#volume & 2ZggjwEACAAJ & Cl76kXv07aI\\\\\n",
       "\t books\\#volumes & 435 & books\\#volume & pjqbAgAAQBAJ & U2ce+ef6eu8\\\\\n",
       "\\end{tabular}\n"
      ],
      "text/markdown": [
       "\n",
       "A data.table: 6 × 5\n",
       "\n",
       "| kind &lt;chr&gt; | totalItems &lt;int&gt; | items.kind &lt;chr&gt; | items.id &lt;chr&gt; | items.etag &lt;chr&gt; |\n",
       "|---|---|---|---|---|\n",
       "| books#volumes | 435 | books#volume | yijjwAEACAAJ | 1cuPQXg3ys4 |\n",
       "| books#volumes | 435 | books#volume | ENIVBdZIJ6cC | 7cAqyMs9BG4 |\n",
       "| books#volumes | 435 | books#volume | 9MS9BQAAQBAJ | Q6QEOWlh6Fk |\n",
       "| books#volumes | 435 | books#volume | 4pgQfXQvekcC | 08NK/pxgxsk |\n",
       "| books#volumes | 435 | books#volume | 2ZggjwEACAAJ | Cl76kXv07aI |\n",
       "| books#volumes | 435 | books#volume | pjqbAgAAQBAJ | U2ce+ef6eu8 |\n",
       "\n"
      ],
      "text/plain": [
       "  kind          totalItems items.kind   items.id     items.etag \n",
       "1 books#volumes 435        books#volume yijjwAEACAAJ 1cuPQXg3ys4\n",
       "2 books#volumes 435        books#volume ENIVBdZIJ6cC 7cAqyMs9BG4\n",
       "3 books#volumes 435        books#volume 9MS9BQAAQBAJ Q6QEOWlh6Fk\n",
       "4 books#volumes 435        books#volume 4pgQfXQvekcC 08NK/pxgxsk\n",
       "5 books#volumes 435        books#volume 2ZggjwEACAAJ Cl76kXv07aI\n",
       "6 books#volumes 435        books#volume pjqbAgAAQBAJ U2ce+ef6eu8"
      ]
     },
     "metadata": {},
     "output_type": "display_data"
    }
   ],
   "source": [
    "# smaller table to use as output for in book\n",
    "d  %>% select(kind:items.etag)  %>% head()"
   ]
  },
  {
   "cell_type": "code",
   "execution_count": null,
   "metadata": {},
   "outputs": [],
   "source": []
  }
 ],
 "metadata": {
  "celltoolbar": "Tags",
  "kernelspec": {
   "display_name": "R",
   "language": "R",
   "name": "ir"
  },
  "language_info": {
   "codemirror_mode": "r",
   "file_extension": ".r",
   "mimetype": "text/x-r-source",
   "name": "R",
   "pygments_lexer": "r",
   "version": "4.1.0"
  }
 },
 "nbformat": 4,
 "nbformat_minor": 4
}
