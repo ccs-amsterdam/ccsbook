{
 "cells": [
  {
   "cell_type": "code",
   "execution_count": null,
   "metadata": {
    "tags": [
     "snippet:chapter12install",
     "dontrun"
    ]
   },
   "outputs": [],
   "source": [
    "install.packages(c(\"tidyverse\", \"httr\", \"jsonlite\", \"glue\", \"data.table\", \"tmaptools\"))"
   ]
  },
  {
   "cell_type": "code",
   "execution_count": 1,
   "metadata": {
    "tags": [
     "snippet:chapter12library"
    ]
   },
   "outputs": [
    {
     "name": "stderr",
     "output_type": "stream",
     "text": [
      "── \u001b[1mAttaching packages\u001b[22m ────────────────────────────────────────────────────────────────────────────────────────── tidyverse 1.3.0 ──\n",
      "\n",
      "\u001b[32m✔\u001b[39m \u001b[34mggplot2\u001b[39m 3.3.2     \u001b[32m✔\u001b[39m \u001b[34mpurrr  \u001b[39m 0.3.4\n",
      "\u001b[32m✔\u001b[39m \u001b[34mtibble \u001b[39m 3.0.4     \u001b[32m✔\u001b[39m \u001b[34mdplyr  \u001b[39m 1.0.2\n",
      "\u001b[32m✔\u001b[39m \u001b[34mtidyr  \u001b[39m 1.1.2     \u001b[32m✔\u001b[39m \u001b[34mstringr\u001b[39m 1.4.0\n",
      "\u001b[32m✔\u001b[39m \u001b[34mreadr  \u001b[39m 1.4.0     \u001b[32m✔\u001b[39m \u001b[34mforcats\u001b[39m 0.5.0\n",
      "\n",
      "── \u001b[1mConflicts\u001b[22m ───────────────────────────────────────────────────────────────────────────────────────────── tidyverse_conflicts() ──\n",
      "\u001b[31m✖\u001b[39m \u001b[34mdplyr\u001b[39m::\u001b[32mfilter()\u001b[39m masks \u001b[34mstats\u001b[39m::filter()\n",
      "\u001b[31m✖\u001b[39m \u001b[34mdplyr\u001b[39m::\u001b[32mlag()\u001b[39m    masks \u001b[34mstats\u001b[39m::lag()\n",
      "\n",
      "\n",
      "Attaching package: ‘jsonlite’\n",
      "\n",
      "\n",
      "The following object is masked from ‘package:purrr’:\n",
      "\n",
      "    flatten\n",
      "\n",
      "\n",
      "\n",
      "Attaching package: ‘glue’\n",
      "\n",
      "\n",
      "The following object is masked from ‘package:dplyr’:\n",
      "\n",
      "    collapse\n",
      "\n",
      "\n",
      "\n",
      "Attaching package: ‘data.table’\n",
      "\n",
      "\n",
      "The following objects are masked from ‘package:dplyr’:\n",
      "\n",
      "    between, first, last\n",
      "\n",
      "\n",
      "The following object is masked from ‘package:purrr’:\n",
      "\n",
      "    transpose\n",
      "\n",
      "\n"
     ]
    },
    {
     "ename": "ERROR",
     "evalue": "Error in library(\"tmaptools\"): there is no package called ‘tmaptools’\n",
     "output_type": "error",
     "traceback": [
      "Error in library(\"tmaptools\"): there is no package called ‘tmaptools’\nTraceback:\n",
      "1. library(\"tmaptools\")"
     ]
    }
   ],
   "source": [
    "library('tidyverse')\n",
    "library('httr')\n",
    "library('jsonlite')\n",
    "library('glue')\n",
    "library('data.table')\n",
    "library('tmaptools')\n"
   ]
  },
  {
   "cell_type": "code",
   "execution_count": 1,
   "metadata": {},
   "outputs": [],
   "source": [
    "# check also https://www.programmableweb.com/news/how-to-access-any-restful-api-using-r-language/how-to/2017/07/21?page=2"
   ]
  },
  {
   "cell_type": "code",
   "execution_count": 6,
   "metadata": {
    "scrolled": true,
    "tags": [
     "snippet:googleapi1"
    ]
   },
   "outputs": [
    {
     "name": "stdout",
     "output_type": "stream",
     "text": [
      "[1] \"kind\"       \"totalItems\" \"items\"     \n",
      "$kind\n",
      "[1] \"books#volume\"\n",
      "\n",
      "$id\n",
      "[1] \"9MS9BQAAQBAJ\"\n",
      "\n",
      "$etag\n",
      "[1] \"YCP+lb5XSgw\"\n",
      "\n",
      "$selfLink\n",
      "[1] \"https://www.googleapis.com/books/v1/volumes/9MS9BQAAQBAJ\"\n",
      "\n",
      "$volumeInfo\n",
      "$volumeInfo$title\n",
      "[1] \"Black Hat Python\"\n",
      "\n",
      "$volumeInfo$subtitle\n",
      "[1] \"Python Programming for Hackers and Pentesters\"\n",
      "\n",
      "$volumeInfo$authors\n",
      "$volumeInfo$authors[[1]]\n",
      "[1] \"Justin Seitz\"\n",
      "\n",
      "\n",
      "$volumeInfo$publisher\n",
      "[1] \"No Starch Press\"\n",
      "\n",
      "$volumeInfo$publishedDate\n",
      "[1] \"2014-12-14\"\n",
      "\n",
      "$volumeInfo$description\n",
      "[1] \"In Black Hat Python, the latest from Justin Seitz (author of the best-selling Gray Hat Python), you’ll explore the darker side of Python’s capabilities—writing network sniffers, manipulating packets, infecting virtual machines, creating stealthy trojans, and more. You’ll learn how to: Create a trojan command-and-control using GitHubDetect sandboxing and automate com­mon malware tasks, like keylogging and screenshottingEscalate Windows privileges with creative process controlUse offensive memory forensics tricks to retrieve password hashes and inject shellcode into a virtual machineExtend the popular Burp Suite web-hacking toolAbuse Windows COM automation to perform a man-in-the-browser attackExfiltrate data from a network most sneakily Insider techniques and creative challenges throughout show you how to extend the hacks and how to write your own exploits. When it comes to offensive security, your ability to create powerful tools on the fly is indispensable. Learn how in Black Hat Python.\"\n",
      "\n",
      "$volumeInfo$industryIdentifiers\n",
      "$volumeInfo$industryIdentifiers[[1]]\n",
      "$volumeInfo$industryIdentifiers[[1]]$type\n",
      "[1] \"ISBN_13\"\n",
      "\n",
      "$volumeInfo$industryIdentifiers[[1]]$identifier\n",
      "[1] \"9781593275907\"\n",
      "\n",
      "\n",
      "$volumeInfo$industryIdentifiers[[2]]\n",
      "$volumeInfo$industryIdentifiers[[2]]$type\n",
      "[1] \"ISBN_10\"\n",
      "\n",
      "$volumeInfo$industryIdentifiers[[2]]$identifier\n",
      "[1] \"1593275900\"\n",
      "\n",
      "\n",
      "\n",
      "$volumeInfo$readingModes\n",
      "$volumeInfo$readingModes$text\n",
      "[1] TRUE\n",
      "\n",
      "$volumeInfo$readingModes$image\n",
      "[1] TRUE\n",
      "\n",
      "\n",
      "$volumeInfo$pageCount\n",
      "[1] 192\n",
      "\n",
      "$volumeInfo$printType\n",
      "[1] \"BOOK\"\n",
      "\n",
      "$volumeInfo$categories\n",
      "$volumeInfo$categories[[1]]\n",
      "[1] \"Computers\"\n",
      "\n",
      "\n",
      "$volumeInfo$maturityRating\n",
      "[1] \"NOT_MATURE\"\n",
      "\n",
      "$volumeInfo$allowAnonLogging\n",
      "[1] TRUE\n",
      "\n",
      "$volumeInfo$contentVersion\n",
      "[1] \"1.1.1.0.preview.3\"\n",
      "\n",
      "$volumeInfo$panelizationSummary\n",
      "$volumeInfo$panelizationSummary$containsEpubBubbles\n",
      "[1] FALSE\n",
      "\n",
      "$volumeInfo$panelizationSummary$containsImageBubbles\n",
      "[1] FALSE\n",
      "\n",
      "\n",
      "$volumeInfo$imageLinks\n",
      "$volumeInfo$imageLinks$smallThumbnail\n",
      "[1] \"http://books.google.com/books/content?id=9MS9BQAAQBAJ&printsec=frontcover&img=1&zoom=5&edge=curl&source=gbs_api\"\n",
      "\n",
      "$volumeInfo$imageLinks$thumbnail\n",
      "[1] \"http://books.google.com/books/content?id=9MS9BQAAQBAJ&printsec=frontcover&img=1&zoom=1&edge=curl&source=gbs_api\"\n",
      "\n",
      "\n",
      "$volumeInfo$language\n",
      "[1] \"un\"\n",
      "\n",
      "$volumeInfo$previewLink\n",
      "[1] \"http://books.google.nl/books?id=9MS9BQAAQBAJ&printsec=frontcover&dq=python&hl=&cd=1&source=gbs_api\"\n",
      "\n",
      "$volumeInfo$infoLink\n",
      "[1] \"http://books.google.nl/books?id=9MS9BQAAQBAJ&dq=python&hl=&source=gbs_api\"\n",
      "\n",
      "$volumeInfo$canonicalVolumeLink\n",
      "[1] \"https://books.google.com/books/about/Black_Hat_Python.html?hl=&id=9MS9BQAAQBAJ\"\n",
      "\n",
      "\n",
      "$saleInfo\n",
      "$saleInfo$country\n",
      "[1] \"NL\"\n",
      "\n",
      "$saleInfo$saleability\n",
      "[1] \"NOT_FOR_SALE\"\n",
      "\n",
      "$saleInfo$isEbook\n",
      "[1] FALSE\n",
      "\n",
      "\n",
      "$accessInfo\n",
      "$accessInfo$country\n",
      "[1] \"NL\"\n",
      "\n",
      "$accessInfo$viewability\n",
      "[1] \"PARTIAL\"\n",
      "\n",
      "$accessInfo$embeddable\n",
      "[1] TRUE\n",
      "\n",
      "$accessInfo$publicDomain\n",
      "[1] FALSE\n",
      "\n",
      "$accessInfo$textToSpeechPermission\n",
      "[1] \"ALLOWED\"\n",
      "\n",
      "$accessInfo$epub\n",
      "$accessInfo$epub$isAvailable\n",
      "[1] TRUE\n",
      "\n",
      "\n",
      "$accessInfo$pdf\n",
      "$accessInfo$pdf$isAvailable\n",
      "[1] TRUE\n",
      "\n",
      "\n",
      "$accessInfo$webReaderLink\n",
      "[1] \"http://play.google.com/books/reader?id=9MS9BQAAQBAJ&hl=&printsec=frontcover&source=gbs_api\"\n",
      "\n",
      "$accessInfo$accessViewStatus\n",
      "[1] \"SAMPLE\"\n",
      "\n",
      "$accessInfo$quoteSharingAllowed\n",
      "[1] FALSE\n",
      "\n",
      "\n",
      "$searchInfo\n",
      "$searchInfo$textSnippet\n",
      "[1] \"In Black Hat Python, the latest from Justin Seitz (author of the best-selling Gray Hat Python), you’ll explore the darker side of Python’s capabilities—writing network sniffers, manipulating packets, infecting virtual machines, ...\"\n",
      "\n",
      "\n"
     ]
    }
   ],
   "source": [
    "u=\"https://www.googleapis.com/books/v1/volumes?q=\"\n",
    "q=\"python\"\n",
    "r = GET(paste(u,q,sep=\"\"))\n",
    "data = content(r, as=\"parsed\")\n",
    "print(names(data))\n",
    "print(data$items[[1]])"
   ]
  },
  {
   "cell_type": "code",
   "execution_count": 5,
   "metadata": {
    "tags": [
     "snippet:googleapi2",
     "output:table"
    ]
   },
   "outputs": [
    {
     "data": {
      "text/html": [
       "<table>\n",
       "<caption>A data.frame: 6 × 52</caption>\n",
       "<thead>\n",
       "\t<tr><th></th><th scope=col>kind</th><th scope=col>totalItems</th><th scope=col>items.kind</th><th scope=col>items.id</th><th scope=col>items.etag</th><th scope=col>items.selfLink</th><th scope=col>items.volumeInfo.title</th><th scope=col>items.volumeInfo.subtitle</th><th scope=col>items.volumeInfo.authors</th><th scope=col>items.volumeInfo.publisher</th><th scope=col>⋯</th><th scope=col>items.accessInfo.embeddable</th><th scope=col>items.accessInfo.publicDomain</th><th scope=col>items.accessInfo.textToSpeechPermission</th><th scope=col>items.accessInfo.webReaderLink</th><th scope=col>items.accessInfo.accessViewStatus</th><th scope=col>items.accessInfo.quoteSharingAllowed</th><th scope=col>items.accessInfo.epub.isAvailable</th><th scope=col>items.accessInfo.pdf.isAvailable</th><th scope=col>items.accessInfo.pdf.acsTokenLink</th><th scope=col>items.searchInfo.textSnippet</th></tr>\n",
       "\t<tr><th></th><th scope=col>&lt;chr&gt;</th><th scope=col>&lt;int&gt;</th><th scope=col>&lt;chr&gt;</th><th scope=col>&lt;chr&gt;</th><th scope=col>&lt;chr&gt;</th><th scope=col>&lt;chr&gt;</th><th scope=col>&lt;chr&gt;</th><th scope=col>&lt;chr&gt;</th><th scope=col>&lt;list&gt;</th><th scope=col>&lt;chr&gt;</th><th scope=col>⋯</th><th scope=col>&lt;lgl&gt;</th><th scope=col>&lt;lgl&gt;</th><th scope=col>&lt;chr&gt;</th><th scope=col>&lt;chr&gt;</th><th scope=col>&lt;chr&gt;</th><th scope=col>&lt;lgl&gt;</th><th scope=col>&lt;lgl&gt;</th><th scope=col>&lt;lgl&gt;</th><th scope=col>&lt;chr&gt;</th><th scope=col>&lt;chr&gt;</th></tr>\n",
       "</thead>\n",
       "<tbody>\n",
       "\t<tr><th scope=row>1</th><td>books#volumes</td><td>417</td><td>books#volume</td><td>9MS9BQAAQBAJ</td><td>DTLy0W7y2VM</td><td>https://www.googleapis.com/books/v1/volumes/9MS9BQAAQBAJ</td><td><span style=white-space:pre-wrap>Black Hat Python                     </span></td><td>Python Programming for Hackers and Pentesters </td><td>Justin Seitz</td><td><span style=white-space:pre-wrap>No Starch Press            </span></td><td>⋯</td><td> TRUE</td><td>FALSE</td><td><span style=white-space:pre-wrap>ALLOWED                  </span></td><td>http://play.google.com/books/reader?id=9MS9BQAAQBAJ&amp;hl=&amp;printsec=frontcover&amp;source=gbs_api</td><td>SAMPLE</td><td>FALSE</td><td> TRUE</td><td> TRUE</td><td>NA</td><td>In Black Hat Python, the latest from Justin Seitz (author of the best-selling Gray Hat Python), you’ll explore the darker side of Python’s capabilities—writing network sniffers, manipulating packets, infecting virtual machines, ...</td></tr>\n",
       "\t<tr><th scope=row>2</th><td>books#volumes</td><td>417</td><td>books#volume</td><td>4pgQfXQvekcC</td><td>D98lHvWWqzw</td><td>https://www.googleapis.com/books/v1/volumes/4pgQfXQvekcC</td><td><span style=white-space:pre-wrap>Learning Python                      </span></td><td><span style=white-space:pre-wrap>Powerful Object-Oriented Programming          </span></td><td>Mark Lutz</td><td><span style=white-space:pre-wrap>\"O'Reilly Media, Inc.\"     </span></td><td>⋯</td><td> TRUE</td><td>FALSE</td><td><span style=white-space:pre-wrap>ALLOWED                  </span></td><td>http://play.google.com/books/reader?id=4pgQfXQvekcC&amp;hl=&amp;printsec=frontcover&amp;source=gbs_api</td><td>SAMPLE</td><td>FALSE</td><td> TRUE</td><td> TRUE</td><td>NA</td><td><span style=white-space:pre-wrap>Get a comprehensive, in-depth introduction to the core Python language with this hands-on book.                                                                                                                                        </span></td></tr>\n",
       "\t<tr><th scope=row>3</th><td>books#volumes</td><td>417</td><td>books#volume</td><td>2ZggjwEACAAJ</td><td>jSZVOlkf7JY</td><td>https://www.googleapis.com/books/v1/volumes/2ZggjwEACAAJ</td><td><span style=white-space:pre-wrap>The Hitchhiker's Guide to Python     </span></td><td><span style=white-space:pre-wrap>Best Practices for Development                </span></td><td><span style=white-space:pre-wrap>Kenneth Reitz  , Tanya Schlusser</span></td><td><span style=white-space:pre-wrap>NA                         </span></td><td>⋯</td><td>FALSE</td><td>FALSE</td><td><span style=white-space:pre-wrap>ALLOWED                  </span></td><td>http://play.google.com/books/reader?id=2ZggjwEACAAJ&amp;hl=&amp;printsec=frontcover&amp;source=gbs_api</td><td><span style=white-space:pre-wrap>NONE  </span></td><td>FALSE</td><td>FALSE</td><td>FALSE</td><td>NA</td><td><span style=white-space:pre-wrap>Ready to complete your trek from journeyman to true Pythonista? This practical book provides an insider&amp;#39;s guide to the Python community&amp;#39;s best practices and favorite tools.                                                   </span></td></tr>\n",
       "\t<tr><th scope=row>4</th><td>books#volumes</td><td>417</td><td>books#volume</td><td>UEu0CAAAQBAJ</td><td>eTpQCdSKrrU</td><td>https://www.googleapis.com/books/v1/volumes/UEu0CAAAQBAJ</td><td>Automate the Boring Stuff with Python</td><td><span style=white-space:pre-wrap>Practical Programming for Total Beginners     </span></td><td>Al Sweigart</td><td><span style=white-space:pre-wrap>No Starch Press            </span></td><td>⋯</td><td> TRUE</td><td>FALSE</td><td><span style=white-space:pre-wrap>ALLOWED                  </span></td><td>http://play.google.com/books/reader?id=UEu0CAAAQBAJ&amp;hl=&amp;printsec=frontcover&amp;source=gbs_api</td><td>SAMPLE</td><td>FALSE</td><td> TRUE</td><td> TRUE</td><td>NA</td><td><span style=white-space:pre-wrap>Even if you’ve never written a line of code, you can make your computer do the grunt work. Learn how in Automate the Boring Stuff with Python. Note: The programs in this book are written to run on Python 3.                         </span></td></tr>\n",
       "\t<tr><th scope=row>5</th><td>books#volumes</td><td>417</td><td>books#volume</td><td>BP_WAgAAQBAJ</td><td>y43gPqRzqyQ</td><td>https://www.googleapis.com/books/v1/volumes/BP_WAgAAQBAJ</td><td><span style=white-space:pre-wrap>Learning Python with Raspberry Pi    </span></td><td><span style=white-space:pre-wrap>NA                                            </span></td><td><span style=white-space:pre-wrap>Alex Bradbury, Russel Winder, Ben Everard  </span></td><td><span style=white-space:pre-wrap>John Wiley &amp; Sons          </span></td><td>⋯</td><td> TRUE</td><td>FALSE</td><td><span style=white-space:pre-wrap>ALLOWED                  </span></td><td>http://play.google.com/books/reader?id=BP_WAgAAQBAJ&amp;hl=&amp;printsec=frontcover&amp;source=gbs_api</td><td>SAMPLE</td><td>FALSE</td><td>FALSE</td><td>FALSE</td><td>NA</td><td><span style=white-space:pre-wrap>This approachable book serves as an ideal resource for anyone wanting to use Raspberry Pi to learn to program and helps you get started with the Python programming language.                                                          </span></td></tr>\n",
       "\t<tr><th scope=row>6</th><td>books#volumes</td><td>417</td><td>books#volume</td><td>H9emM_LGFDEC</td><td>m3BHcN7xBkg</td><td>https://www.googleapis.com/books/v1/volumes/H9emM_LGFDEC</td><td><span style=white-space:pre-wrap>Programming in Python 3              </span></td><td>A Complete Introduction to the Python Language</td><td>Mark Summerfield</td><td>Addison-Wesley Professional</td><td>⋯</td><td> TRUE</td><td>FALSE</td><td>ALLOWED_FOR_ACCESSIBILITY</td><td>http://play.google.com/books/reader?id=H9emM_LGFDEC&amp;hl=&amp;printsec=frontcover&amp;source=gbs_api</td><td>SAMPLE</td><td>FALSE</td><td>FALSE</td><td>FALSE</td><td>NA</td><td><span style=white-space:pre-wrap>Now fully updated, this edition brings together all the knowledge needed to write programs, use any library, and even create new library modules.                                                                                      </span></td></tr>\n",
       "</tbody>\n",
       "</table>\n"
      ],
      "text/latex": [
       "A data.frame: 6 × 52\n",
       "\\begin{tabular}{r|lllllllllllllllllllll}\n",
       "  & kind & totalItems & items.kind & items.id & items.etag & items.selfLink & items.volumeInfo.title & items.volumeInfo.subtitle & items.volumeInfo.authors & items.volumeInfo.publisher & ⋯ & items.accessInfo.embeddable & items.accessInfo.publicDomain & items.accessInfo.textToSpeechPermission & items.accessInfo.webReaderLink & items.accessInfo.accessViewStatus & items.accessInfo.quoteSharingAllowed & items.accessInfo.epub.isAvailable & items.accessInfo.pdf.isAvailable & items.accessInfo.pdf.acsTokenLink & items.searchInfo.textSnippet\\\\\n",
       "  & <chr> & <int> & <chr> & <chr> & <chr> & <chr> & <chr> & <chr> & <list> & <chr> & ⋯ & <lgl> & <lgl> & <chr> & <chr> & <chr> & <lgl> & <lgl> & <lgl> & <chr> & <chr>\\\\\n",
       "\\hline\n",
       "\t1 & books\\#volumes & 417 & books\\#volume & 9MS9BQAAQBAJ & DTLy0W7y2VM & https://www.googleapis.com/books/v1/volumes/9MS9BQAAQBAJ & Black Hat Python                      & Python Programming for Hackers and Pentesters  & Justin Seitz & No Starch Press             & ⋯ &  TRUE & FALSE & ALLOWED                   & http://play.google.com/books/reader?id=9MS9BQAAQBAJ\\&hl=\\&printsec=frontcover\\&source=gbs\\_api & SAMPLE & FALSE &  TRUE &  TRUE & NA & In Black Hat Python, the latest from Justin Seitz (author of the best-selling Gray Hat Python), you’ll explore the darker side of Python’s capabilities—writing network sniffers, manipulating packets, infecting virtual machines, ...\\\\\n",
       "\t2 & books\\#volumes & 417 & books\\#volume & 4pgQfXQvekcC & D98lHvWWqzw & https://www.googleapis.com/books/v1/volumes/4pgQfXQvekcC & Learning Python                       & Powerful Object-Oriented Programming           & Mark Lutz & \"O'Reilly Media, Inc.\"      & ⋯ &  TRUE & FALSE & ALLOWED                   & http://play.google.com/books/reader?id=4pgQfXQvekcC\\&hl=\\&printsec=frontcover\\&source=gbs\\_api & SAMPLE & FALSE &  TRUE &  TRUE & NA & Get a comprehensive, in-depth introduction to the core Python language with this hands-on book.                                                                                                                                        \\\\\n",
       "\t3 & books\\#volumes & 417 & books\\#volume & 2ZggjwEACAAJ & jSZVOlkf7JY & https://www.googleapis.com/books/v1/volumes/2ZggjwEACAAJ & The Hitchhiker's Guide to Python      & Best Practices for Development                 & Kenneth Reitz  , Tanya Schlusser & NA                          & ⋯ & FALSE & FALSE & ALLOWED                   & http://play.google.com/books/reader?id=2ZggjwEACAAJ\\&hl=\\&printsec=frontcover\\&source=gbs\\_api & NONE   & FALSE & FALSE & FALSE & NA & Ready to complete your trek from journeyman to true Pythonista? This practical book provides an insider\\&\\#39;s guide to the Python community\\&\\#39;s best practices and favorite tools.                                                   \\\\\n",
       "\t4 & books\\#volumes & 417 & books\\#volume & UEu0CAAAQBAJ & eTpQCdSKrrU & https://www.googleapis.com/books/v1/volumes/UEu0CAAAQBAJ & Automate the Boring Stuff with Python & Practical Programming for Total Beginners      & Al Sweigart & No Starch Press             & ⋯ &  TRUE & FALSE & ALLOWED                   & http://play.google.com/books/reader?id=UEu0CAAAQBAJ\\&hl=\\&printsec=frontcover\\&source=gbs\\_api & SAMPLE & FALSE &  TRUE &  TRUE & NA & Even if you’ve never written a line of code, you can make your computer do the grunt work. Learn how in Automate the Boring Stuff with Python. Note: The programs in this book are written to run on Python 3.                         \\\\\n",
       "\t5 & books\\#volumes & 417 & books\\#volume & BP\\_WAgAAQBAJ & y43gPqRzqyQ & https://www.googleapis.com/books/v1/volumes/BP\\_WAgAAQBAJ & Learning Python with Raspberry Pi     & NA                                             & Alex Bradbury, Russel Winder, Ben Everard   & John Wiley \\& Sons           & ⋯ &  TRUE & FALSE & ALLOWED                   & http://play.google.com/books/reader?id=BP\\_WAgAAQBAJ\\&hl=\\&printsec=frontcover\\&source=gbs\\_api & SAMPLE & FALSE & FALSE & FALSE & NA & This approachable book serves as an ideal resource for anyone wanting to use Raspberry Pi to learn to program and helps you get started with the Python programming language.                                                          \\\\\n",
       "\t6 & books\\#volumes & 417 & books\\#volume & H9emM\\_LGFDEC & m3BHcN7xBkg & https://www.googleapis.com/books/v1/volumes/H9emM\\_LGFDEC & Programming in Python 3               & A Complete Introduction to the Python Language & Mark Summerfield & Addison-Wesley Professional & ⋯ &  TRUE & FALSE & ALLOWED\\_FOR\\_ACCESSIBILITY & http://play.google.com/books/reader?id=H9emM\\_LGFDEC\\&hl=\\&printsec=frontcover\\&source=gbs\\_api & SAMPLE & FALSE & FALSE & FALSE & NA & Now fully updated, this edition brings together all the knowledge needed to write programs, use any library, and even create new library modules.                                                                                      \\\\\n",
       "\\end{tabular}\n"
      ],
      "text/markdown": [
       "\n",
       "A data.frame: 6 × 52\n",
       "\n",
       "| <!--/--> | kind &lt;chr&gt; | totalItems &lt;int&gt; | items.kind &lt;chr&gt; | items.id &lt;chr&gt; | items.etag &lt;chr&gt; | items.selfLink &lt;chr&gt; | items.volumeInfo.title &lt;chr&gt; | items.volumeInfo.subtitle &lt;chr&gt; | items.volumeInfo.authors &lt;list&gt; | items.volumeInfo.publisher &lt;chr&gt; | ⋯ ⋯ | items.accessInfo.embeddable &lt;lgl&gt; | items.accessInfo.publicDomain &lt;lgl&gt; | items.accessInfo.textToSpeechPermission &lt;chr&gt; | items.accessInfo.webReaderLink &lt;chr&gt; | items.accessInfo.accessViewStatus &lt;chr&gt; | items.accessInfo.quoteSharingAllowed &lt;lgl&gt; | items.accessInfo.epub.isAvailable &lt;lgl&gt; | items.accessInfo.pdf.isAvailable &lt;lgl&gt; | items.accessInfo.pdf.acsTokenLink &lt;chr&gt; | items.searchInfo.textSnippet &lt;chr&gt; |\n",
       "|---|---|---|---|---|---|---|---|---|---|---|---|---|---|---|---|---|---|---|---|---|---|\n",
       "| 1 | books#volumes | 417 | books#volume | 9MS9BQAAQBAJ | DTLy0W7y2VM | https://www.googleapis.com/books/v1/volumes/9MS9BQAAQBAJ | Black Hat Python                      | Python Programming for Hackers and Pentesters  | Justin Seitz | No Starch Press             | ⋯ |  TRUE | FALSE | ALLOWED                   | http://play.google.com/books/reader?id=9MS9BQAAQBAJ&amp;hl=&amp;printsec=frontcover&amp;source=gbs_api | SAMPLE | FALSE |  TRUE |  TRUE | NA | In Black Hat Python, the latest from Justin Seitz (author of the best-selling Gray Hat Python), you’ll explore the darker side of Python’s capabilities—writing network sniffers, manipulating packets, infecting virtual machines, ... |\n",
       "| 2 | books#volumes | 417 | books#volume | 4pgQfXQvekcC | D98lHvWWqzw | https://www.googleapis.com/books/v1/volumes/4pgQfXQvekcC | Learning Python                       | Powerful Object-Oriented Programming           | Mark Lutz | \"O'Reilly Media, Inc.\"      | ⋯ |  TRUE | FALSE | ALLOWED                   | http://play.google.com/books/reader?id=4pgQfXQvekcC&amp;hl=&amp;printsec=frontcover&amp;source=gbs_api | SAMPLE | FALSE |  TRUE |  TRUE | NA | Get a comprehensive, in-depth introduction to the core Python language with this hands-on book.                                                                                                                                         |\n",
       "| 3 | books#volumes | 417 | books#volume | 2ZggjwEACAAJ | jSZVOlkf7JY | https://www.googleapis.com/books/v1/volumes/2ZggjwEACAAJ | The Hitchhiker's Guide to Python      | Best Practices for Development                 | Kenneth Reitz  , Tanya Schlusser | NA                          | ⋯ | FALSE | FALSE | ALLOWED                   | http://play.google.com/books/reader?id=2ZggjwEACAAJ&amp;hl=&amp;printsec=frontcover&amp;source=gbs_api | NONE   | FALSE | FALSE | FALSE | NA | Ready to complete your trek from journeyman to true Pythonista? This practical book provides an insider&amp;#39;s guide to the Python community&amp;#39;s best practices and favorite tools.                                                    |\n",
       "| 4 | books#volumes | 417 | books#volume | UEu0CAAAQBAJ | eTpQCdSKrrU | https://www.googleapis.com/books/v1/volumes/UEu0CAAAQBAJ | Automate the Boring Stuff with Python | Practical Programming for Total Beginners      | Al Sweigart | No Starch Press             | ⋯ |  TRUE | FALSE | ALLOWED                   | http://play.google.com/books/reader?id=UEu0CAAAQBAJ&amp;hl=&amp;printsec=frontcover&amp;source=gbs_api | SAMPLE | FALSE |  TRUE |  TRUE | NA | Even if you’ve never written a line of code, you can make your computer do the grunt work. Learn how in Automate the Boring Stuff with Python. Note: The programs in this book are written to run on Python 3.                          |\n",
       "| 5 | books#volumes | 417 | books#volume | BP_WAgAAQBAJ | y43gPqRzqyQ | https://www.googleapis.com/books/v1/volumes/BP_WAgAAQBAJ | Learning Python with Raspberry Pi     | NA                                             | Alex Bradbury, Russel Winder, Ben Everard   | John Wiley &amp; Sons           | ⋯ |  TRUE | FALSE | ALLOWED                   | http://play.google.com/books/reader?id=BP_WAgAAQBAJ&amp;hl=&amp;printsec=frontcover&amp;source=gbs_api | SAMPLE | FALSE | FALSE | FALSE | NA | This approachable book serves as an ideal resource for anyone wanting to use Raspberry Pi to learn to program and helps you get started with the Python programming language.                                                           |\n",
       "| 6 | books#volumes | 417 | books#volume | H9emM_LGFDEC | m3BHcN7xBkg | https://www.googleapis.com/books/v1/volumes/H9emM_LGFDEC | Programming in Python 3               | A Complete Introduction to the Python Language | Mark Summerfield | Addison-Wesley Professional | ⋯ |  TRUE | FALSE | ALLOWED_FOR_ACCESSIBILITY | http://play.google.com/books/reader?id=H9emM_LGFDEC&amp;hl=&amp;printsec=frontcover&amp;source=gbs_api | SAMPLE | FALSE | FALSE | FALSE | NA | Now fully updated, this edition brings together all the knowledge needed to write programs, use any library, and even create new library modules.                                                                                       |\n",
       "\n"
      ],
      "text/plain": [
       "  kind          totalItems items.kind   items.id     items.etag \n",
       "1 books#volumes 417        books#volume 9MS9BQAAQBAJ DTLy0W7y2VM\n",
       "2 books#volumes 417        books#volume 4pgQfXQvekcC D98lHvWWqzw\n",
       "3 books#volumes 417        books#volume 2ZggjwEACAAJ jSZVOlkf7JY\n",
       "4 books#volumes 417        books#volume UEu0CAAAQBAJ eTpQCdSKrrU\n",
       "5 books#volumes 417        books#volume BP_WAgAAQBAJ y43gPqRzqyQ\n",
       "6 books#volumes 417        books#volume H9emM_LGFDEC m3BHcN7xBkg\n",
       "  items.selfLink                                          \n",
       "1 https://www.googleapis.com/books/v1/volumes/9MS9BQAAQBAJ\n",
       "2 https://www.googleapis.com/books/v1/volumes/4pgQfXQvekcC\n",
       "3 https://www.googleapis.com/books/v1/volumes/2ZggjwEACAAJ\n",
       "4 https://www.googleapis.com/books/v1/volumes/UEu0CAAAQBAJ\n",
       "5 https://www.googleapis.com/books/v1/volumes/BP_WAgAAQBAJ\n",
       "6 https://www.googleapis.com/books/v1/volumes/H9emM_LGFDEC\n",
       "  items.volumeInfo.title               \n",
       "1 Black Hat Python                     \n",
       "2 Learning Python                      \n",
       "3 The Hitchhiker's Guide to Python     \n",
       "4 Automate the Boring Stuff with Python\n",
       "5 Learning Python with Raspberry Pi    \n",
       "6 Programming in Python 3              \n",
       "  items.volumeInfo.subtitle                     \n",
       "1 Python Programming for Hackers and Pentesters \n",
       "2 Powerful Object-Oriented Programming          \n",
       "3 Best Practices for Development                \n",
       "4 Practical Programming for Total Beginners     \n",
       "5 NA                                            \n",
       "6 A Complete Introduction to the Python Language\n",
       "  items.volumeInfo.authors                    items.volumeInfo.publisher  ⋯\n",
       "1 Justin Seitz                                No Starch Press             ⋯\n",
       "2 Mark Lutz                                   \"O'Reilly Media, Inc.\"      ⋯\n",
       "3 Kenneth Reitz  , Tanya Schlusser            NA                          ⋯\n",
       "4 Al Sweigart                                 No Starch Press             ⋯\n",
       "5 Alex Bradbury, Russel Winder, Ben Everard   John Wiley & Sons           ⋯\n",
       "6 Mark Summerfield                            Addison-Wesley Professional ⋯\n",
       "  items.accessInfo.embeddable items.accessInfo.publicDomain\n",
       "1  TRUE                       FALSE                        \n",
       "2  TRUE                       FALSE                        \n",
       "3 FALSE                       FALSE                        \n",
       "4  TRUE                       FALSE                        \n",
       "5  TRUE                       FALSE                        \n",
       "6  TRUE                       FALSE                        \n",
       "  items.accessInfo.textToSpeechPermission\n",
       "1 ALLOWED                                \n",
       "2 ALLOWED                                \n",
       "3 ALLOWED                                \n",
       "4 ALLOWED                                \n",
       "5 ALLOWED                                \n",
       "6 ALLOWED_FOR_ACCESSIBILITY              \n",
       "  items.accessInfo.webReaderLink                                                            \n",
       "1 http://play.google.com/books/reader?id=9MS9BQAAQBAJ&hl=&printsec=frontcover&source=gbs_api\n",
       "2 http://play.google.com/books/reader?id=4pgQfXQvekcC&hl=&printsec=frontcover&source=gbs_api\n",
       "3 http://play.google.com/books/reader?id=2ZggjwEACAAJ&hl=&printsec=frontcover&source=gbs_api\n",
       "4 http://play.google.com/books/reader?id=UEu0CAAAQBAJ&hl=&printsec=frontcover&source=gbs_api\n",
       "5 http://play.google.com/books/reader?id=BP_WAgAAQBAJ&hl=&printsec=frontcover&source=gbs_api\n",
       "6 http://play.google.com/books/reader?id=H9emM_LGFDEC&hl=&printsec=frontcover&source=gbs_api\n",
       "  items.accessInfo.accessViewStatus items.accessInfo.quoteSharingAllowed\n",
       "1 SAMPLE                            FALSE                               \n",
       "2 SAMPLE                            FALSE                               \n",
       "3 NONE                              FALSE                               \n",
       "4 SAMPLE                            FALSE                               \n",
       "5 SAMPLE                            FALSE                               \n",
       "6 SAMPLE                            FALSE                               \n",
       "  items.accessInfo.epub.isAvailable items.accessInfo.pdf.isAvailable\n",
       "1  TRUE                              TRUE                           \n",
       "2  TRUE                              TRUE                           \n",
       "3 FALSE                             FALSE                           \n",
       "4  TRUE                              TRUE                           \n",
       "5 FALSE                             FALSE                           \n",
       "6 FALSE                             FALSE                           \n",
       "  items.accessInfo.pdf.acsTokenLink\n",
       "1 NA                               \n",
       "2 NA                               \n",
       "3 NA                               \n",
       "4 NA                               \n",
       "5 NA                               \n",
       "6 NA                               \n",
       "  items.searchInfo.textSnippet                                                                                                                                                                                                           \n",
       "1 In Black Hat Python, the latest from Justin Seitz (author of the best-selling Gray Hat Python), you’ll explore the darker side of Python’s capabilities—writing network sniffers, manipulating packets, infecting virtual machines, ...\n",
       "2 Get a comprehensive, in-depth introduction to the core Python language with this hands-on book.                                                                                                                                        \n",
       "3 Ready to complete your trek from journeyman to true Pythonista? This practical book provides an insider&#39;s guide to the Python community&#39;s best practices and favorite tools.                                                   \n",
       "4 Even if you’ve never written a line of code, you can make your computer do the grunt work. Learn how in Automate the Boring Stuff with Python. Note: The programs in this book are written to run on Python 3.                         \n",
       "5 This approachable book serves as an ideal resource for anyone wanting to use Raspberry Pi to learn to program and helps you get started with the Python programming language.                                                          \n",
       "6 Now fully updated, this edition brings together all the knowledge needed to write programs, use any library, and even create new library modules.                                                                                      "
      ]
     },
     "metadata": {},
     "output_type": "display_data"
    }
   ],
   "source": [
    "r_text = content(r, \"text\")\n",
    "data_json = jsonlite::fromJSON(r_text, flatten=T)\n",
    "d = as.data.frame(data_json)\n",
    "head(d)"
   ]
  },
  {
   "cell_type": "code",
   "execution_count": 15,
   "metadata": {
    "tags": [
     "output:table",
     "snippet:googleapi2table"
    ]
   },
   "outputs": [
    {
     "data": {
      "text/html": [
       "<table>\n",
       "<caption>A data.frame: 6 × 5</caption>\n",
       "<thead>\n",
       "\t<tr><th></th><th scope=col>kind</th><th scope=col>totalItems</th><th scope=col>items.kind</th><th scope=col>items.id</th><th scope=col>items.etag</th></tr>\n",
       "\t<tr><th></th><th scope=col>&lt;chr&gt;</th><th scope=col>&lt;int&gt;</th><th scope=col>&lt;chr&gt;</th><th scope=col>&lt;chr&gt;</th><th scope=col>&lt;chr&gt;</th></tr>\n",
       "</thead>\n",
       "<tbody>\n",
       "\t<tr><th scope=row>1</th><td>books#volumes</td><td>441</td><td>books#volume</td><td>wqeVv09Y6hIC</td><td>X93TTSzbXvk</td></tr>\n",
       "\t<tr><th scope=row>2</th><td>books#volumes</td><td>441</td><td>books#volume</td><td>aJQILlLxRmAC</td><td>1x9G8zJhzJU</td></tr>\n",
       "\t<tr><th scope=row>3</th><td>books#volumes</td><td>441</td><td>books#volume</td><td>6GzuBgAAQBAJ</td><td>2b3xQ+Fqzjc</td></tr>\n",
       "\t<tr><th scope=row>4</th><td>books#volumes</td><td>441</td><td>books#volume</td><td>mCrrCAAAQBAJ</td><td>qJsyOcskT38</td></tr>\n",
       "\t<tr><th scope=row>5</th><td>books#volumes</td><td>441</td><td>books#volume</td><td>carqdIdfVlYC</td><td>0vcIQokQKzc</td></tr>\n",
       "\t<tr><th scope=row>6</th><td>books#volumes</td><td>441</td><td>books#volume</td><td>fzUCGtyg0MMC</td><td>RUkIPx/b4Wg</td></tr>\n",
       "</tbody>\n",
       "</table>\n"
      ],
      "text/latex": [
       "A data.frame: 6 × 5\n",
       "\\begin{tabular}{r|lllll}\n",
       "  & kind & totalItems & items.kind & items.id & items.etag\\\\\n",
       "  & <chr> & <int> & <chr> & <chr> & <chr>\\\\\n",
       "\\hline\n",
       "\t1 & books\\#volumes & 441 & books\\#volume & wqeVv09Y6hIC & X93TTSzbXvk\\\\\n",
       "\t2 & books\\#volumes & 441 & books\\#volume & aJQILlLxRmAC & 1x9G8zJhzJU\\\\\n",
       "\t3 & books\\#volumes & 441 & books\\#volume & 6GzuBgAAQBAJ & 2b3xQ+Fqzjc\\\\\n",
       "\t4 & books\\#volumes & 441 & books\\#volume & mCrrCAAAQBAJ & qJsyOcskT38\\\\\n",
       "\t5 & books\\#volumes & 441 & books\\#volume & carqdIdfVlYC & 0vcIQokQKzc\\\\\n",
       "\t6 & books\\#volumes & 441 & books\\#volume & fzUCGtyg0MMC & RUkIPx/b4Wg\\\\\n",
       "\\end{tabular}\n"
      ],
      "text/markdown": [
       "\n",
       "A data.frame: 6 × 5\n",
       "\n",
       "| <!--/--> | kind &lt;chr&gt; | totalItems &lt;int&gt; | items.kind &lt;chr&gt; | items.id &lt;chr&gt; | items.etag &lt;chr&gt; |\n",
       "|---|---|---|---|---|---|\n",
       "| 1 | books#volumes | 441 | books#volume | wqeVv09Y6hIC | X93TTSzbXvk |\n",
       "| 2 | books#volumes | 441 | books#volume | aJQILlLxRmAC | 1x9G8zJhzJU |\n",
       "| 3 | books#volumes | 441 | books#volume | 6GzuBgAAQBAJ | 2b3xQ+Fqzjc |\n",
       "| 4 | books#volumes | 441 | books#volume | mCrrCAAAQBAJ | qJsyOcskT38 |\n",
       "| 5 | books#volumes | 441 | books#volume | carqdIdfVlYC | 0vcIQokQKzc |\n",
       "| 6 | books#volumes | 441 | books#volume | fzUCGtyg0MMC | RUkIPx/b4Wg |\n",
       "\n"
      ],
      "text/plain": [
       "  kind          totalItems items.kind   items.id     items.etag \n",
       "1 books#volumes 441        books#volume wqeVv09Y6hIC X93TTSzbXvk\n",
       "2 books#volumes 441        books#volume aJQILlLxRmAC 1x9G8zJhzJU\n",
       "3 books#volumes 441        books#volume 6GzuBgAAQBAJ 2b3xQ+Fqzjc\n",
       "4 books#volumes 441        books#volume mCrrCAAAQBAJ qJsyOcskT38\n",
       "5 books#volumes 441        books#volume carqdIdfVlYC 0vcIQokQKzc\n",
       "6 books#volumes 441        books#volume fzUCGtyg0MMC RUkIPx/b4Wg"
      ]
     },
     "metadata": {},
     "output_type": "display_data"
    }
   ],
   "source": [
    "# smaller table to use as output for in book\n",
    "d  %>% select(kind:items.etag)  %>% head()"
   ]
  },
  {
   "cell_type": "code",
   "execution_count": 9,
   "metadata": {
    "tags": [
     "snippet:googleapi3"
    ]
   },
   "outputs": [],
   "source": [
    "i = 0\n",
    "j = 1\n",
    "u=\"https://www.googleapis.com/books/v1/volumes?q=\"\n",
    "q=\"python&maxResults=40&startIndex={i}\"\n",
    "\n",
    "alldata = list()\n",
    "while (TRUE) {\n",
    "    r = GET(glue(paste(u,q,sep=\"\")))\n",
    "    r_text = content(r, \"text\")\n",
    "    data_json = fromJSON(r_text, flatten=T)\n",
    "    if (length(data_json$items)==0) {break}\n",
    "    alldata[[j]] = as.data.frame(data_json)\n",
    "    i = i + 40\n",
    "    j = j + 1} \n",
    "\n",
    "d = rbindlist(alldata, fill=TRUE)"
   ]
  },
  {
   "cell_type": "code",
   "execution_count": 10,
   "metadata": {
    "tags": [
     "snippet:googleapi3table",
     "output:table"
    ]
   },
   "outputs": [
    {
     "data": {
      "text/html": [
       "<table>\n",
       "<caption>A data.table: 6 × 5</caption>\n",
       "<thead>\n",
       "\t<tr><th scope=col>kind</th><th scope=col>totalItems</th><th scope=col>items.kind</th><th scope=col>items.id</th><th scope=col>items.etag</th></tr>\n",
       "\t<tr><th scope=col>&lt;chr&gt;</th><th scope=col>&lt;int&gt;</th><th scope=col>&lt;chr&gt;</th><th scope=col>&lt;chr&gt;</th><th scope=col>&lt;chr&gt;</th></tr>\n",
       "</thead>\n",
       "<tbody>\n",
       "\t<tr><td>books#volumes</td><td>407</td><td>books#volume</td><td>9MS9BQAAQBAJ</td><td>l8nQFGmbICs</td></tr>\n",
       "\t<tr><td>books#volumes</td><td>407</td><td>books#volume</td><td>4pgQfXQvekcC</td><td>7zBhFfs5enU</td></tr>\n",
       "\t<tr><td>books#volumes</td><td>407</td><td>books#volume</td><td>2ZggjwEACAAJ</td><td>BbL2JTmtlsM</td></tr>\n",
       "\t<tr><td>books#volumes</td><td>407</td><td>books#volume</td><td>pjqbAgAAQBAJ</td><td>vWObgnVZvkw</td></tr>\n",
       "\t<tr><td>books#volumes</td><td>407</td><td>books#volume</td><td>X-cbBgAAQBAJ</td><td>zg9ksMbgm7s</td></tr>\n",
       "\t<tr><td>books#volumes</td><td>407</td><td>books#volume</td><td>UEu0CAAAQBAJ</td><td>l3GGx/YJpmA</td></tr>\n",
       "</tbody>\n",
       "</table>\n"
      ],
      "text/latex": [
       "A data.table: 6 × 5\n",
       "\\begin{tabular}{lllll}\n",
       " kind & totalItems & items.kind & items.id & items.etag\\\\\n",
       " <chr> & <int> & <chr> & <chr> & <chr>\\\\\n",
       "\\hline\n",
       "\t books\\#volumes & 407 & books\\#volume & 9MS9BQAAQBAJ & l8nQFGmbICs\\\\\n",
       "\t books\\#volumes & 407 & books\\#volume & 4pgQfXQvekcC & 7zBhFfs5enU\\\\\n",
       "\t books\\#volumes & 407 & books\\#volume & 2ZggjwEACAAJ & BbL2JTmtlsM\\\\\n",
       "\t books\\#volumes & 407 & books\\#volume & pjqbAgAAQBAJ & vWObgnVZvkw\\\\\n",
       "\t books\\#volumes & 407 & books\\#volume & X-cbBgAAQBAJ & zg9ksMbgm7s\\\\\n",
       "\t books\\#volumes & 407 & books\\#volume & UEu0CAAAQBAJ & l3GGx/YJpmA\\\\\n",
       "\\end{tabular}\n"
      ],
      "text/markdown": [
       "\n",
       "A data.table: 6 × 5\n",
       "\n",
       "| kind &lt;chr&gt; | totalItems &lt;int&gt; | items.kind &lt;chr&gt; | items.id &lt;chr&gt; | items.etag &lt;chr&gt; |\n",
       "|---|---|---|---|---|\n",
       "| books#volumes | 407 | books#volume | 9MS9BQAAQBAJ | l8nQFGmbICs |\n",
       "| books#volumes | 407 | books#volume | 4pgQfXQvekcC | 7zBhFfs5enU |\n",
       "| books#volumes | 407 | books#volume | 2ZggjwEACAAJ | BbL2JTmtlsM |\n",
       "| books#volumes | 407 | books#volume | pjqbAgAAQBAJ | vWObgnVZvkw |\n",
       "| books#volumes | 407 | books#volume | X-cbBgAAQBAJ | zg9ksMbgm7s |\n",
       "| books#volumes | 407 | books#volume | UEu0CAAAQBAJ | l3GGx/YJpmA |\n",
       "\n"
      ],
      "text/plain": [
       "  kind          totalItems items.kind   items.id     items.etag \n",
       "1 books#volumes 407        books#volume 9MS9BQAAQBAJ l8nQFGmbICs\n",
       "2 books#volumes 407        books#volume 4pgQfXQvekcC 7zBhFfs5enU\n",
       "3 books#volumes 407        books#volume 2ZggjwEACAAJ BbL2JTmtlsM\n",
       "4 books#volumes 407        books#volume pjqbAgAAQBAJ vWObgnVZvkw\n",
       "5 books#volumes 407        books#volume X-cbBgAAQBAJ zg9ksMbgm7s\n",
       "6 books#volumes 407        books#volume UEu0CAAAQBAJ l3GGx/YJpmA"
      ]
     },
     "metadata": {},
     "output_type": "display_data"
    }
   ],
   "source": [
    "# smaller table to use as output for in book\n",
    "d  %>% select(kind:items.etag)  %>% head()"
   ]
  },
  {
   "cell_type": "code",
   "execution_count": null,
   "metadata": {
    "tags": [
     "dontrun",
     "snippet:gettweets"
    ]
   },
   "outputs": [],
   "source": [
    "# Using twitter to get tweets and user info\n",
    "lookup_users(\"vanatteveldt\")  %>% select(\"user_id\", \"screen_name\", \"location\")\n",
    "tweets = search_tweets(\"#covid\", n = 100, include_rts = FALSE) \n",
    "head(tweets)"
   ]
  },
  {
   "cell_type": "code",
   "execution_count": null,
   "metadata": {
    "tags": [
     "snippet:geocode"
    ]
   },
   "outputs": [],
   "source": [
    "# Getting location data\n",
    "geocode_OSM(c(\"Amsterdam\", \"New York\"))"
   ]
  },
  {
   "cell_type": "code",
   "execution_count": null,
   "metadata": {
    "tags": [
     "snippet:getgeo",
     "dontrun"
    ]
   },
   "outputs": [],
   "source": [
    "reply_users = setdiff(tweets$reply_to_screen_name, tweets$screen_name) %>% na.omit()\n",
    "reply_users = lookup_users(reply_users) %>% select(screen_name, location) \n",
    "# Combine with existing users, filter blank locations and duplicate names, and clean location names\n",
    "users = tweets %>% select(screen_name, location) %>%\n",
    "  bind_rows(reply_users) %>% \n",
    "  unique() %>%\n",
    "  filter(location != \"\") %>% \n",
    "  mutate(location = str_replace_all(location, \"[^\\\\p{L} ,/-]+\", \" \"))\n",
    "\n",
    "# Use Open Street Map API to \"geocode\" the locations and merge back with users\n",
    "locations = geocode_OSM(unique(users$location)) %>% \n",
    "  select(location=query, lat, long=lon)\n",
    "users = users %>% left_join(locations)\n",
    "head(users)"
   ]
  }
 ],
 "metadata": {
  "celltoolbar": "Tags",
  "kernelspec": {
   "display_name": "R",
   "language": "R",
   "name": "ir"
  },
  "language_info": {
   "codemirror_mode": "r",
   "file_extension": ".r",
   "mimetype": "text/x-r-source",
   "name": "R",
   "pygments_lexer": "r",
   "version": "4.1.0"
  }
 },
 "nbformat": 4,
 "nbformat_minor": 4
}
