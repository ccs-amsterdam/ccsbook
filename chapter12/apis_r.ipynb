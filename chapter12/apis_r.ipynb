{
 "cells": [
  {
   "cell_type": "code",
   "execution_count": 1,
   "metadata": {
    "tags": [
     "snippet:chapter12install",
     "dontrun"
    ]
   },
   "outputs": [
    {
     "name": "stderr",
     "output_type": "stream",
     "text": [
      "Installing packages into ‘/usr/local/lib/R/site-library’\n",
      "(as ‘lib’ is unspecified)\n",
      "\n"
     ]
    }
   ],
   "source": [
    "install.packages(c(\"tidyverse\", \n",
    "                   \"httr\", \"jsonlite\", \"glue\", \n",
    "                   \"data.table\"))"
   ]
  },
  {
   "cell_type": "code",
   "execution_count": 2,
   "metadata": {
    "tags": [
     "snippet:chapter12library"
    ]
   },
   "outputs": [
    {
     "name": "stderr",
     "output_type": "stream",
     "text": [
      "── \u001b[1mAttaching packages\u001b[22m ────────────────────────────────────────────────────────────────────────────────────────── tidyverse 1.3.1 ──\n",
      "\n",
      "\u001b[32m✔\u001b[39m \u001b[34mggplot2\u001b[39m 3.3.5     \u001b[32m✔\u001b[39m \u001b[34mpurrr  \u001b[39m 0.3.4\n",
      "\u001b[32m✔\u001b[39m \u001b[34mtibble \u001b[39m 3.1.2     \u001b[32m✔\u001b[39m \u001b[34mdplyr  \u001b[39m 1.0.7\n",
      "\u001b[32m✔\u001b[39m \u001b[34mtidyr  \u001b[39m 1.1.3     \u001b[32m✔\u001b[39m \u001b[34mstringr\u001b[39m 1.4.0\n",
      "\u001b[32m✔\u001b[39m \u001b[34mreadr  \u001b[39m 1.4.0     \u001b[32m✔\u001b[39m \u001b[34mforcats\u001b[39m 0.5.1\n",
      "\n",
      "── \u001b[1mConflicts\u001b[22m ───────────────────────────────────────────────────────────────────────────────────────────── tidyverse_conflicts() ──\n",
      "\u001b[31m✖\u001b[39m \u001b[34mdplyr\u001b[39m::\u001b[32mfilter()\u001b[39m masks \u001b[34mstats\u001b[39m::filter()\n",
      "\u001b[31m✖\u001b[39m \u001b[34mdplyr\u001b[39m::\u001b[32mlag()\u001b[39m    masks \u001b[34mstats\u001b[39m::lag()\n",
      "\n",
      "\n",
      "Attaching package: ‘jsonlite’\n",
      "\n",
      "\n",
      "The following object is masked from ‘package:purrr’:\n",
      "\n",
      "    flatten\n",
      "\n",
      "\n",
      "\n",
      "Attaching package: ‘rvest’\n",
      "\n",
      "\n",
      "The following object is masked from ‘package:readr’:\n",
      "\n",
      "    guess_encoding\n",
      "\n",
      "\n",
      "\n",
      "Attaching package: ‘glue’\n",
      "\n",
      "\n",
      "The following object is masked from ‘package:dplyr’:\n",
      "\n",
      "    collapse\n",
      "\n",
      "\n",
      "\n",
      "Attaching package: ‘data.table’\n",
      "\n",
      "\n",
      "The following objects are masked from ‘package:dplyr’:\n",
      "\n",
      "    between, first, last\n",
      "\n",
      "\n",
      "The following object is masked from ‘package:purrr’:\n",
      "\n",
      "    transpose\n",
      "\n",
      "\n"
     ]
    }
   ],
   "source": [
    "library(\"tidyverse\")\n",
    "library(\"httr\")\n",
    "library(\"jsonlite\")\n",
    "library(\"rvest\")\n",
    "library(\"xml2\")\n",
    "library(\"glue\")\n",
    "library(\"data.table\")"
   ]
  },
  {
   "cell_type": "code",
   "execution_count": 3,
   "metadata": {},
   "outputs": [],
   "source": [
    "# check also https://www.programmableweb.com/news/how-to-access-any-restful-api-using-r-language/how-to/2017/07/21?page=2"
   ]
  },
  {
   "cell_type": "code",
   "execution_count": 4,
   "metadata": {
    "scrolled": true,
    "tags": [
     "snippet:googleapi1"
    ]
   },
   "outputs": [
    {
     "name": "stdout",
     "output_type": "stream",
     "text": [
      "[1] \"kind\"       \"totalItems\" \"items\"     \n",
      "$kind\n",
      "[1] \"books#volume\"\n",
      "\n",
      "$id\n",
      "[1] \"2ZggjwEACAAJ\"\n",
      "\n",
      "$etag\n",
      "[1] \"SL/fqJ1dIHQ\"\n",
      "\n",
      "$selfLink\n",
      "[1] \"https://www.googleapis.com/books/v1/volumes/2ZggjwEACAAJ\"\n",
      "\n",
      "$volumeInfo\n",
      "$volumeInfo$title\n",
      "[1] \"The Hitchhiker's Guide to Python\"\n",
      "\n",
      "$volumeInfo$subtitle\n",
      "[1] \"Best Practices for Development\"\n",
      "\n",
      "$volumeInfo$authors\n",
      "$volumeInfo$authors[[1]]\n",
      "[1] \"Kenneth Reitz\"\n",
      "\n",
      "$volumeInfo$authors[[2]]\n",
      "[1] \"Tanya Schlusser\"\n",
      "\n",
      "\n",
      "$volumeInfo$publishedDate\n",
      "[1] \"2016-07-25\"\n",
      "\n",
      "$volumeInfo$description\n",
      "[1] \"The Hitchhiker's Guide to Python takes the journeyman Pythonista to true expertise. More than any other language, Python was created with the philosophy of simplicity and parsimony. Now 25 years old, Python has become the primary or secondary language (after SQL) for many business users. With popularity comes diversity—and possibly dilution. This guide, collaboratively written by over a hundred members of the Python community, describes best practices currently used by package and application developers. Unlike other books for this audience, The Hitchhiker’s Guide is light on reusable code and heavier on design philosophy, directing the reader to excellent sources that already exist.\"\n",
      "\n",
      "$volumeInfo$industryIdentifiers\n",
      "$volumeInfo$industryIdentifiers[[1]]\n",
      "$volumeInfo$industryIdentifiers[[1]]$type\n",
      "[1] \"ISBN_10\"\n",
      "\n",
      "$volumeInfo$industryIdentifiers[[1]]$identifier\n",
      "[1] \"1491933178\"\n",
      "\n",
      "\n",
      "$volumeInfo$industryIdentifiers[[2]]\n",
      "$volumeInfo$industryIdentifiers[[2]]$type\n",
      "[1] \"ISBN_13\"\n",
      "\n",
      "$volumeInfo$industryIdentifiers[[2]]$identifier\n",
      "[1] \"9781491933176\"\n",
      "\n",
      "\n",
      "\n",
      "$volumeInfo$readingModes\n",
      "$volumeInfo$readingModes$text\n",
      "[1] FALSE\n",
      "\n",
      "$volumeInfo$readingModes$image\n",
      "[1] FALSE\n",
      "\n",
      "\n",
      "$volumeInfo$pageCount\n",
      "[1] 80\n",
      "\n",
      "$volumeInfo$printType\n",
      "[1] \"BOOK\"\n",
      "\n",
      "$volumeInfo$maturityRating\n",
      "[1] \"NOT_MATURE\"\n",
      "\n",
      "$volumeInfo$allowAnonLogging\n",
      "[1] FALSE\n",
      "\n",
      "$volumeInfo$contentVersion\n",
      "[1] \"preview-1.0.0\"\n",
      "\n",
      "$volumeInfo$imageLinks\n",
      "$volumeInfo$imageLinks$smallThumbnail\n",
      "[1] \"http://books.google.com/books/content?id=2ZggjwEACAAJ&printsec=frontcover&img=1&zoom=5&source=gbs_api\"\n",
      "\n",
      "$volumeInfo$imageLinks$thumbnail\n",
      "[1] \"http://books.google.com/books/content?id=2ZggjwEACAAJ&printsec=frontcover&img=1&zoom=1&source=gbs_api\"\n",
      "\n",
      "\n",
      "$volumeInfo$language\n",
      "[1] \"un\"\n",
      "\n",
      "$volumeInfo$previewLink\n",
      "[1] \"http://books.google.nl/books?id=2ZggjwEACAAJ&dq=python&hl=&cd=1&source=gbs_api\"\n",
      "\n",
      "$volumeInfo$infoLink\n",
      "[1] \"http://books.google.nl/books?id=2ZggjwEACAAJ&dq=python&hl=&source=gbs_api\"\n",
      "\n",
      "$volumeInfo$canonicalVolumeLink\n",
      "[1] \"https://books.google.com/books/about/The_Hitchhiker_s_Guide_to_Python.html?hl=&id=2ZggjwEACAAJ\"\n",
      "\n",
      "\n",
      "$saleInfo\n",
      "$saleInfo$country\n",
      "[1] \"NL\"\n",
      "\n",
      "$saleInfo$saleability\n",
      "[1] \"NOT_FOR_SALE\"\n",
      "\n",
      "$saleInfo$isEbook\n",
      "[1] FALSE\n",
      "\n",
      "\n",
      "$accessInfo\n",
      "$accessInfo$country\n",
      "[1] \"NL\"\n",
      "\n",
      "$accessInfo$viewability\n",
      "[1] \"NO_PAGES\"\n",
      "\n",
      "$accessInfo$embeddable\n",
      "[1] FALSE\n",
      "\n",
      "$accessInfo$publicDomain\n",
      "[1] FALSE\n",
      "\n",
      "$accessInfo$textToSpeechPermission\n",
      "[1] \"ALLOWED\"\n",
      "\n",
      "$accessInfo$epub\n",
      "$accessInfo$epub$isAvailable\n",
      "[1] FALSE\n",
      "\n",
      "\n",
      "$accessInfo$pdf\n",
      "$accessInfo$pdf$isAvailable\n",
      "[1] FALSE\n",
      "\n",
      "\n",
      "$accessInfo$webReaderLink\n",
      "[1] \"http://play.google.com/books/reader?id=2ZggjwEACAAJ&hl=&printsec=frontcover&source=gbs_api\"\n",
      "\n",
      "$accessInfo$accessViewStatus\n",
      "[1] \"NONE\"\n",
      "\n",
      "$accessInfo$quoteSharingAllowed\n",
      "[1] FALSE\n",
      "\n",
      "\n",
      "$searchInfo\n",
      "$searchInfo$textSnippet\n",
      "[1] \"Ready to complete your trek from journeyman to true Pythonista? This practical book provides an insider&#39;s guide to the Python community&#39;s best practices and favorite tools.\"\n",
      "\n",
      "\n"
     ]
    }
   ],
   "source": [
    "url = str_c(\"https://www.googleapis.com/books/\",\n",
    "          \"v1/volumes?q=python\")\n",
    "r = GET(url)\n",
    "data = content(r, as=\"parsed\")\n",
    "print(names(data))\n",
    "print(data$items[[1]])"
   ]
  },
  {
   "cell_type": "code",
   "execution_count": 5,
   "metadata": {
    "tags": [
     "snippet:googleapi2",
     "output:table"
    ]
   },
   "outputs": [
    {
     "data": {
      "text/html": [
       "<table>\n",
       "<caption>A data.frame: 6 × 52</caption>\n",
       "<thead>\n",
       "\t<tr><th></th><th scope=col>kind</th><th scope=col>totalItems</th><th scope=col>items.kind</th><th scope=col>items.id</th><th scope=col>items.etag</th><th scope=col>items.selfLink</th><th scope=col>items.volumeInfo.title</th><th scope=col>items.volumeInfo.subtitle</th><th scope=col>items.volumeInfo.authors</th><th scope=col>items.volumeInfo.publishedDate</th><th scope=col>⋯</th><th scope=col>items.accessInfo.embeddable</th><th scope=col>items.accessInfo.publicDomain</th><th scope=col>items.accessInfo.textToSpeechPermission</th><th scope=col>items.accessInfo.webReaderLink</th><th scope=col>items.accessInfo.accessViewStatus</th><th scope=col>items.accessInfo.quoteSharingAllowed</th><th scope=col>items.accessInfo.epub.isAvailable</th><th scope=col>items.accessInfo.pdf.isAvailable</th><th scope=col>items.accessInfo.pdf.acsTokenLink</th><th scope=col>items.searchInfo.textSnippet</th></tr>\n",
       "\t<tr><th></th><th scope=col>&lt;chr&gt;</th><th scope=col>&lt;int&gt;</th><th scope=col>&lt;chr&gt;</th><th scope=col>&lt;chr&gt;</th><th scope=col>&lt;chr&gt;</th><th scope=col>&lt;chr&gt;</th><th scope=col>&lt;chr&gt;</th><th scope=col>&lt;chr&gt;</th><th scope=col>&lt;list&gt;</th><th scope=col>&lt;chr&gt;</th><th scope=col>⋯</th><th scope=col>&lt;lgl&gt;</th><th scope=col>&lt;lgl&gt;</th><th scope=col>&lt;chr&gt;</th><th scope=col>&lt;chr&gt;</th><th scope=col>&lt;chr&gt;</th><th scope=col>&lt;lgl&gt;</th><th scope=col>&lt;lgl&gt;</th><th scope=col>&lt;lgl&gt;</th><th scope=col>&lt;chr&gt;</th><th scope=col>&lt;chr&gt;</th></tr>\n",
       "</thead>\n",
       "<tbody>\n",
       "\t<tr><th scope=row>1</th><td>books#volumes</td><td>443</td><td>books#volume</td><td>2ZggjwEACAAJ</td><td>SL/fqJ1dIHQ</td><td>https://www.googleapis.com/books/v1/volumes/2ZggjwEACAAJ</td><td>The Hitchhiker's Guide to Python </td><td><span style=white-space:pre-wrap>Best Practices for Development               </span></td><td><span style=white-space:pre-wrap>Kenneth Reitz  , Tanya Schlusser</span></td><td>2016-07-25</td><td>⋯</td><td>FALSE</td><td>FALSE</td><td>ALLOWED</td><td>http://play.google.com/books/reader?id=2ZggjwEACAAJ&amp;hl=&amp;printsec=frontcover&amp;source=gbs_api</td><td><span style=white-space:pre-wrap>NONE  </span></td><td>FALSE</td><td>FALSE</td><td>FALSE</td><td>NA</td><td><span style=white-space:pre-wrap>Ready to complete your trek from journeyman to true Pythonista? This practical book provides an insider&amp;#39;s guide to the Python community&amp;#39;s best practices and favorite tools.                                                                   </span></td></tr>\n",
       "\t<tr><th scope=row>2</th><td>books#volumes</td><td>443</td><td>books#volume</td><td>1mZtP9H6OMQC</td><td>9Xwidh/MUg4</td><td>https://www.googleapis.com/books/v1/volumes/1mZtP9H6OMQC</td><td><span style=white-space:pre-wrap>Think Python                     </span></td><td><span style=white-space:pre-wrap>NA                                           </span></td><td>Allen Downey</td><td>2012-08-13</td><td>⋯</td><td> TRUE</td><td>FALSE</td><td>ALLOWED</td><td>http://play.google.com/books/reader?id=1mZtP9H6OMQC&amp;hl=&amp;printsec=frontcover&amp;source=gbs_api</td><td>SAMPLE</td><td>FALSE</td><td>FALSE</td><td>FALSE</td><td>NA</td><td><span style=white-space:pre-wrap>&amp;quot;How to think like a computer scientist&amp;quot;--Cover.                                                                                                                                                                                             </span></td></tr>\n",
       "\t<tr><th scope=row>3</th><td>books#volumes</td><td>443</td><td>books#volume</td><td>ENIVBdZIJ6cC</td><td>54DFGUmBbfQ</td><td>https://www.googleapis.com/books/v1/volumes/ENIVBdZIJ6cC</td><td><span style=white-space:pre-wrap>Head First Python                </span></td><td><span style=white-space:pre-wrap>NA                                           </span></td><td>Paul Barry</td><td>2010-11-22</td><td>⋯</td><td> TRUE</td><td>FALSE</td><td>ALLOWED</td><td>http://play.google.com/books/reader?id=ENIVBdZIJ6cC&amp;hl=&amp;printsec=frontcover&amp;source=gbs_api</td><td>SAMPLE</td><td>FALSE</td><td>FALSE</td><td> TRUE</td><td>NA</td><td><span style=white-space:pre-wrap>A guide to the programming language describes how to build Python-enabled Web servers and applications, write mobile apps on the Android platform, develop sophisticated games, build GUI-based programs, and write Python scripts to automate ...     </span></td></tr>\n",
       "\t<tr><th scope=row>4</th><td>books#volumes</td><td>443</td><td>books#volume</td><td>yijjwAEACAAJ</td><td>PBNxIPu/Dk8</td><td>https://www.googleapis.com/books/v1/volumes/yijjwAEACAAJ</td><td><span style=white-space:pre-wrap>Python Data Science Handbook     </span></td><td><span style=white-space:pre-wrap>Essential Tools for Working with Data        </span></td><td><span style=white-space:pre-wrap>Jacob T. Vanderplas, Jake VanderPlas    </span></td><td><span style=white-space:pre-wrap>2016      </span></td><td>⋯</td><td>FALSE</td><td>FALSE</td><td>ALLOWED</td><td>http://play.google.com/books/reader?id=yijjwAEACAAJ&amp;hl=&amp;printsec=frontcover&amp;source=gbs_api</td><td><span style=white-space:pre-wrap>NONE  </span></td><td>FALSE</td><td>FALSE</td><td>FALSE</td><td>NA</td><td>With this handbook, you&amp;#39;ll learn how to use: IPython and Jupyter: provide computational environments for data scientists using Python NumPy: includes the ndarray for efficient storage and manipulation of dense data arrays in Python Pandas: ...</td></tr>\n",
       "\t<tr><th scope=row>5</th><td>books#volumes</td><td>443</td><td>books#volume</td><td>9MS9BQAAQBAJ</td><td>83CRBc7BfXw</td><td>https://www.googleapis.com/books/v1/volumes/9MS9BQAAQBAJ</td><td><span style=white-space:pre-wrap>Black Hat Python                 </span></td><td>Python Programming for Hackers and Pentesters</td><td>Justin Seitz</td><td>2014-12-14</td><td>⋯</td><td> TRUE</td><td>FALSE</td><td>ALLOWED</td><td>http://play.google.com/books/reader?id=9MS9BQAAQBAJ&amp;hl=&amp;printsec=frontcover&amp;source=gbs_api</td><td>SAMPLE</td><td>FALSE</td><td> TRUE</td><td> TRUE</td><td>NA</td><td><span style=white-space:pre-wrap>In Black Hat Python, the latest from Justin Seitz (author of the best-selling Gray Hat Python), you’ll explore the darker side of Python’s capabilities—writing network sniffers, manipulating packets, infecting virtual machines, ...                </span></td></tr>\n",
       "\t<tr><th scope=row>6</th><td>books#volumes</td><td>443</td><td>books#volume</td><td>BP_WAgAAQBAJ</td><td>gOkbxCI0oFI</td><td>https://www.googleapis.com/books/v1/volumes/BP_WAgAAQBAJ</td><td>Learning Python with Raspberry Pi</td><td><span style=white-space:pre-wrap>NA                                           </span></td><td><span style=white-space:pre-wrap>Alex Bradbury, Russel Winder, Ben Everard  </span></td><td>2014-03-10</td><td>⋯</td><td> TRUE</td><td>FALSE</td><td>ALLOWED</td><td>http://play.google.com/books/reader?id=BP_WAgAAQBAJ&amp;hl=&amp;printsec=frontcover&amp;source=gbs_api</td><td>SAMPLE</td><td>FALSE</td><td>FALSE</td><td>FALSE</td><td>NA</td><td><span style=white-space:pre-wrap>This approachable book serves as an ideal resource for anyone wanting to use Raspberry Pi to learn to program and helps you get started with the Python programming language.                                                                          </span></td></tr>\n",
       "</tbody>\n",
       "</table>\n"
      ],
      "text/latex": [
       "A data.frame: 6 × 52\n",
       "\\begin{tabular}{r|lllllllllllllllllllll}\n",
       "  & kind & totalItems & items.kind & items.id & items.etag & items.selfLink & items.volumeInfo.title & items.volumeInfo.subtitle & items.volumeInfo.authors & items.volumeInfo.publishedDate & ⋯ & items.accessInfo.embeddable & items.accessInfo.publicDomain & items.accessInfo.textToSpeechPermission & items.accessInfo.webReaderLink & items.accessInfo.accessViewStatus & items.accessInfo.quoteSharingAllowed & items.accessInfo.epub.isAvailable & items.accessInfo.pdf.isAvailable & items.accessInfo.pdf.acsTokenLink & items.searchInfo.textSnippet\\\\\n",
       "  & <chr> & <int> & <chr> & <chr> & <chr> & <chr> & <chr> & <chr> & <list> & <chr> & ⋯ & <lgl> & <lgl> & <chr> & <chr> & <chr> & <lgl> & <lgl> & <lgl> & <chr> & <chr>\\\\\n",
       "\\hline\n",
       "\t1 & books\\#volumes & 443 & books\\#volume & 2ZggjwEACAAJ & SL/fqJ1dIHQ & https://www.googleapis.com/books/v1/volumes/2ZggjwEACAAJ & The Hitchhiker's Guide to Python  & Best Practices for Development                & Kenneth Reitz  , Tanya Schlusser & 2016-07-25 & ⋯ & FALSE & FALSE & ALLOWED & http://play.google.com/books/reader?id=2ZggjwEACAAJ\\&hl=\\&printsec=frontcover\\&source=gbs\\_api & NONE   & FALSE & FALSE & FALSE & NA & Ready to complete your trek from journeyman to true Pythonista? This practical book provides an insider\\&\\#39;s guide to the Python community\\&\\#39;s best practices and favorite tools.                                                                   \\\\\n",
       "\t2 & books\\#volumes & 443 & books\\#volume & 1mZtP9H6OMQC & 9Xwidh/MUg4 & https://www.googleapis.com/books/v1/volumes/1mZtP9H6OMQC & Think Python                      & NA                                            & Allen Downey & 2012-08-13 & ⋯ &  TRUE & FALSE & ALLOWED & http://play.google.com/books/reader?id=1mZtP9H6OMQC\\&hl=\\&printsec=frontcover\\&source=gbs\\_api & SAMPLE & FALSE & FALSE & FALSE & NA & \\&quot;How to think like a computer scientist\\&quot;--Cover.                                                                                                                                                                                             \\\\\n",
       "\t3 & books\\#volumes & 443 & books\\#volume & ENIVBdZIJ6cC & 54DFGUmBbfQ & https://www.googleapis.com/books/v1/volumes/ENIVBdZIJ6cC & Head First Python                 & NA                                            & Paul Barry & 2010-11-22 & ⋯ &  TRUE & FALSE & ALLOWED & http://play.google.com/books/reader?id=ENIVBdZIJ6cC\\&hl=\\&printsec=frontcover\\&source=gbs\\_api & SAMPLE & FALSE & FALSE &  TRUE & NA & A guide to the programming language describes how to build Python-enabled Web servers and applications, write mobile apps on the Android platform, develop sophisticated games, build GUI-based programs, and write Python scripts to automate ...     \\\\\n",
       "\t4 & books\\#volumes & 443 & books\\#volume & yijjwAEACAAJ & PBNxIPu/Dk8 & https://www.googleapis.com/books/v1/volumes/yijjwAEACAAJ & Python Data Science Handbook      & Essential Tools for Working with Data         & Jacob T. Vanderplas, Jake VanderPlas     & 2016       & ⋯ & FALSE & FALSE & ALLOWED & http://play.google.com/books/reader?id=yijjwAEACAAJ\\&hl=\\&printsec=frontcover\\&source=gbs\\_api & NONE   & FALSE & FALSE & FALSE & NA & With this handbook, you\\&\\#39;ll learn how to use: IPython and Jupyter: provide computational environments for data scientists using Python NumPy: includes the ndarray for efficient storage and manipulation of dense data arrays in Python Pandas: ...\\\\\n",
       "\t5 & books\\#volumes & 443 & books\\#volume & 9MS9BQAAQBAJ & 83CRBc7BfXw & https://www.googleapis.com/books/v1/volumes/9MS9BQAAQBAJ & Black Hat Python                  & Python Programming for Hackers and Pentesters & Justin Seitz & 2014-12-14 & ⋯ &  TRUE & FALSE & ALLOWED & http://play.google.com/books/reader?id=9MS9BQAAQBAJ\\&hl=\\&printsec=frontcover\\&source=gbs\\_api & SAMPLE & FALSE &  TRUE &  TRUE & NA & In Black Hat Python, the latest from Justin Seitz (author of the best-selling Gray Hat Python), you’ll explore the darker side of Python’s capabilities—writing network sniffers, manipulating packets, infecting virtual machines, ...                \\\\\n",
       "\t6 & books\\#volumes & 443 & books\\#volume & BP\\_WAgAAQBAJ & gOkbxCI0oFI & https://www.googleapis.com/books/v1/volumes/BP\\_WAgAAQBAJ & Learning Python with Raspberry Pi & NA                                            & Alex Bradbury, Russel Winder, Ben Everard   & 2014-03-10 & ⋯ &  TRUE & FALSE & ALLOWED & http://play.google.com/books/reader?id=BP\\_WAgAAQBAJ\\&hl=\\&printsec=frontcover\\&source=gbs\\_api & SAMPLE & FALSE & FALSE & FALSE & NA & This approachable book serves as an ideal resource for anyone wanting to use Raspberry Pi to learn to program and helps you get started with the Python programming language.                                                                          \\\\\n",
       "\\end{tabular}\n"
      ],
      "text/markdown": [
       "\n",
       "A data.frame: 6 × 52\n",
       "\n",
       "| <!--/--> | kind &lt;chr&gt; | totalItems &lt;int&gt; | items.kind &lt;chr&gt; | items.id &lt;chr&gt; | items.etag &lt;chr&gt; | items.selfLink &lt;chr&gt; | items.volumeInfo.title &lt;chr&gt; | items.volumeInfo.subtitle &lt;chr&gt; | items.volumeInfo.authors &lt;list&gt; | items.volumeInfo.publishedDate &lt;chr&gt; | ⋯ ⋯ | items.accessInfo.embeddable &lt;lgl&gt; | items.accessInfo.publicDomain &lt;lgl&gt; | items.accessInfo.textToSpeechPermission &lt;chr&gt; | items.accessInfo.webReaderLink &lt;chr&gt; | items.accessInfo.accessViewStatus &lt;chr&gt; | items.accessInfo.quoteSharingAllowed &lt;lgl&gt; | items.accessInfo.epub.isAvailable &lt;lgl&gt; | items.accessInfo.pdf.isAvailable &lt;lgl&gt; | items.accessInfo.pdf.acsTokenLink &lt;chr&gt; | items.searchInfo.textSnippet &lt;chr&gt; |\n",
       "|---|---|---|---|---|---|---|---|---|---|---|---|---|---|---|---|---|---|---|---|---|---|\n",
       "| 1 | books#volumes | 443 | books#volume | 2ZggjwEACAAJ | SL/fqJ1dIHQ | https://www.googleapis.com/books/v1/volumes/2ZggjwEACAAJ | The Hitchhiker's Guide to Python  | Best Practices for Development                | Kenneth Reitz  , Tanya Schlusser | 2016-07-25 | ⋯ | FALSE | FALSE | ALLOWED | http://play.google.com/books/reader?id=2ZggjwEACAAJ&amp;hl=&amp;printsec=frontcover&amp;source=gbs_api | NONE   | FALSE | FALSE | FALSE | NA | Ready to complete your trek from journeyman to true Pythonista? This practical book provides an insider&amp;#39;s guide to the Python community&amp;#39;s best practices and favorite tools.                                                                    |\n",
       "| 2 | books#volumes | 443 | books#volume | 1mZtP9H6OMQC | 9Xwidh/MUg4 | https://www.googleapis.com/books/v1/volumes/1mZtP9H6OMQC | Think Python                      | NA                                            | Allen Downey | 2012-08-13 | ⋯ |  TRUE | FALSE | ALLOWED | http://play.google.com/books/reader?id=1mZtP9H6OMQC&amp;hl=&amp;printsec=frontcover&amp;source=gbs_api | SAMPLE | FALSE | FALSE | FALSE | NA | &amp;quot;How to think like a computer scientist&amp;quot;--Cover.                                                                                                                                                                                              |\n",
       "| 3 | books#volumes | 443 | books#volume | ENIVBdZIJ6cC | 54DFGUmBbfQ | https://www.googleapis.com/books/v1/volumes/ENIVBdZIJ6cC | Head First Python                 | NA                                            | Paul Barry | 2010-11-22 | ⋯ |  TRUE | FALSE | ALLOWED | http://play.google.com/books/reader?id=ENIVBdZIJ6cC&amp;hl=&amp;printsec=frontcover&amp;source=gbs_api | SAMPLE | FALSE | FALSE |  TRUE | NA | A guide to the programming language describes how to build Python-enabled Web servers and applications, write mobile apps on the Android platform, develop sophisticated games, build GUI-based programs, and write Python scripts to automate ...      |\n",
       "| 4 | books#volumes | 443 | books#volume | yijjwAEACAAJ | PBNxIPu/Dk8 | https://www.googleapis.com/books/v1/volumes/yijjwAEACAAJ | Python Data Science Handbook      | Essential Tools for Working with Data         | Jacob T. Vanderplas, Jake VanderPlas     | 2016       | ⋯ | FALSE | FALSE | ALLOWED | http://play.google.com/books/reader?id=yijjwAEACAAJ&amp;hl=&amp;printsec=frontcover&amp;source=gbs_api | NONE   | FALSE | FALSE | FALSE | NA | With this handbook, you&amp;#39;ll learn how to use: IPython and Jupyter: provide computational environments for data scientists using Python NumPy: includes the ndarray for efficient storage and manipulation of dense data arrays in Python Pandas: ... |\n",
       "| 5 | books#volumes | 443 | books#volume | 9MS9BQAAQBAJ | 83CRBc7BfXw | https://www.googleapis.com/books/v1/volumes/9MS9BQAAQBAJ | Black Hat Python                  | Python Programming for Hackers and Pentesters | Justin Seitz | 2014-12-14 | ⋯ |  TRUE | FALSE | ALLOWED | http://play.google.com/books/reader?id=9MS9BQAAQBAJ&amp;hl=&amp;printsec=frontcover&amp;source=gbs_api | SAMPLE | FALSE |  TRUE |  TRUE | NA | In Black Hat Python, the latest from Justin Seitz (author of the best-selling Gray Hat Python), you’ll explore the darker side of Python’s capabilities—writing network sniffers, manipulating packets, infecting virtual machines, ...                 |\n",
       "| 6 | books#volumes | 443 | books#volume | BP_WAgAAQBAJ | gOkbxCI0oFI | https://www.googleapis.com/books/v1/volumes/BP_WAgAAQBAJ | Learning Python with Raspberry Pi | NA                                            | Alex Bradbury, Russel Winder, Ben Everard   | 2014-03-10 | ⋯ |  TRUE | FALSE | ALLOWED | http://play.google.com/books/reader?id=BP_WAgAAQBAJ&amp;hl=&amp;printsec=frontcover&amp;source=gbs_api | SAMPLE | FALSE | FALSE | FALSE | NA | This approachable book serves as an ideal resource for anyone wanting to use Raspberry Pi to learn to program and helps you get started with the Python programming language.                                                                           |\n",
       "\n"
      ],
      "text/plain": [
       "  kind          totalItems items.kind   items.id     items.etag \n",
       "1 books#volumes 443        books#volume 2ZggjwEACAAJ SL/fqJ1dIHQ\n",
       "2 books#volumes 443        books#volume 1mZtP9H6OMQC 9Xwidh/MUg4\n",
       "3 books#volumes 443        books#volume ENIVBdZIJ6cC 54DFGUmBbfQ\n",
       "4 books#volumes 443        books#volume yijjwAEACAAJ PBNxIPu/Dk8\n",
       "5 books#volumes 443        books#volume 9MS9BQAAQBAJ 83CRBc7BfXw\n",
       "6 books#volumes 443        books#volume BP_WAgAAQBAJ gOkbxCI0oFI\n",
       "  items.selfLink                                          \n",
       "1 https://www.googleapis.com/books/v1/volumes/2ZggjwEACAAJ\n",
       "2 https://www.googleapis.com/books/v1/volumes/1mZtP9H6OMQC\n",
       "3 https://www.googleapis.com/books/v1/volumes/ENIVBdZIJ6cC\n",
       "4 https://www.googleapis.com/books/v1/volumes/yijjwAEACAAJ\n",
       "5 https://www.googleapis.com/books/v1/volumes/9MS9BQAAQBAJ\n",
       "6 https://www.googleapis.com/books/v1/volumes/BP_WAgAAQBAJ\n",
       "  items.volumeInfo.title           \n",
       "1 The Hitchhiker's Guide to Python \n",
       "2 Think Python                     \n",
       "3 Head First Python                \n",
       "4 Python Data Science Handbook     \n",
       "5 Black Hat Python                 \n",
       "6 Learning Python with Raspberry Pi\n",
       "  items.volumeInfo.subtitle                    \n",
       "1 Best Practices for Development               \n",
       "2 NA                                           \n",
       "3 NA                                           \n",
       "4 Essential Tools for Working with Data        \n",
       "5 Python Programming for Hackers and Pentesters\n",
       "6 NA                                           \n",
       "  items.volumeInfo.authors                    items.volumeInfo.publishedDate ⋯\n",
       "1 Kenneth Reitz  , Tanya Schlusser            2016-07-25                     ⋯\n",
       "2 Allen Downey                                2012-08-13                     ⋯\n",
       "3 Paul Barry                                  2010-11-22                     ⋯\n",
       "4 Jacob T. Vanderplas, Jake VanderPlas        2016                           ⋯\n",
       "5 Justin Seitz                                2014-12-14                     ⋯\n",
       "6 Alex Bradbury, Russel Winder, Ben Everard   2014-03-10                     ⋯\n",
       "  items.accessInfo.embeddable items.accessInfo.publicDomain\n",
       "1 FALSE                       FALSE                        \n",
       "2  TRUE                       FALSE                        \n",
       "3  TRUE                       FALSE                        \n",
       "4 FALSE                       FALSE                        \n",
       "5  TRUE                       FALSE                        \n",
       "6  TRUE                       FALSE                        \n",
       "  items.accessInfo.textToSpeechPermission\n",
       "1 ALLOWED                                \n",
       "2 ALLOWED                                \n",
       "3 ALLOWED                                \n",
       "4 ALLOWED                                \n",
       "5 ALLOWED                                \n",
       "6 ALLOWED                                \n",
       "  items.accessInfo.webReaderLink                                                            \n",
       "1 http://play.google.com/books/reader?id=2ZggjwEACAAJ&hl=&printsec=frontcover&source=gbs_api\n",
       "2 http://play.google.com/books/reader?id=1mZtP9H6OMQC&hl=&printsec=frontcover&source=gbs_api\n",
       "3 http://play.google.com/books/reader?id=ENIVBdZIJ6cC&hl=&printsec=frontcover&source=gbs_api\n",
       "4 http://play.google.com/books/reader?id=yijjwAEACAAJ&hl=&printsec=frontcover&source=gbs_api\n",
       "5 http://play.google.com/books/reader?id=9MS9BQAAQBAJ&hl=&printsec=frontcover&source=gbs_api\n",
       "6 http://play.google.com/books/reader?id=BP_WAgAAQBAJ&hl=&printsec=frontcover&source=gbs_api\n",
       "  items.accessInfo.accessViewStatus items.accessInfo.quoteSharingAllowed\n",
       "1 NONE                              FALSE                               \n",
       "2 SAMPLE                            FALSE                               \n",
       "3 SAMPLE                            FALSE                               \n",
       "4 NONE                              FALSE                               \n",
       "5 SAMPLE                            FALSE                               \n",
       "6 SAMPLE                            FALSE                               \n",
       "  items.accessInfo.epub.isAvailable items.accessInfo.pdf.isAvailable\n",
       "1 FALSE                             FALSE                           \n",
       "2 FALSE                             FALSE                           \n",
       "3 FALSE                              TRUE                           \n",
       "4 FALSE                             FALSE                           \n",
       "5  TRUE                              TRUE                           \n",
       "6 FALSE                             FALSE                           \n",
       "  items.accessInfo.pdf.acsTokenLink\n",
       "1 NA                               \n",
       "2 NA                               \n",
       "3 NA                               \n",
       "4 NA                               \n",
       "5 NA                               \n",
       "6 NA                               \n",
       "  items.searchInfo.textSnippet                                                                                                                                                                                                                           \n",
       "1 Ready to complete your trek from journeyman to true Pythonista? This practical book provides an insider&#39;s guide to the Python community&#39;s best practices and favorite tools.                                                                   \n",
       "2 &quot;How to think like a computer scientist&quot;--Cover.                                                                                                                                                                                             \n",
       "3 A guide to the programming language describes how to build Python-enabled Web servers and applications, write mobile apps on the Android platform, develop sophisticated games, build GUI-based programs, and write Python scripts to automate ...     \n",
       "4 With this handbook, you&#39;ll learn how to use: IPython and Jupyter: provide computational environments for data scientists using Python NumPy: includes the ndarray for efficient storage and manipulation of dense data arrays in Python Pandas: ...\n",
       "5 In Black Hat Python, the latest from Justin Seitz (author of the best-selling Gray Hat Python), you’ll explore the darker side of Python’s capabilities—writing network sniffers, manipulating packets, infecting virtual machines, ...                \n",
       "6 This approachable book serves as an ideal resource for anyone wanting to use Raspberry Pi to learn to program and helps you get started with the Python programming language.                                                                          "
      ]
     },
     "metadata": {},
     "output_type": "display_data"
    }
   ],
   "source": [
    "r_text = content(r, \"text\")\n",
    "data_json = fromJSON(r_text, flatten=T)\n",
    "d = as.data.frame(data_json)\n",
    "head(d)"
   ]
  },
  {
   "cell_type": "code",
   "execution_count": 6,
   "metadata": {
    "tags": [
     "output:table",
     "snippet:googleapi2table"
    ]
   },
   "outputs": [
    {
     "data": {
      "text/html": [
       "<table>\n",
       "<caption>A data.frame: 6 × 5</caption>\n",
       "<thead>\n",
       "\t<tr><th></th><th scope=col>kind</th><th scope=col>totalItems</th><th scope=col>items.kind</th><th scope=col>items.id</th><th scope=col>items.etag</th></tr>\n",
       "\t<tr><th></th><th scope=col>&lt;chr&gt;</th><th scope=col>&lt;int&gt;</th><th scope=col>&lt;chr&gt;</th><th scope=col>&lt;chr&gt;</th><th scope=col>&lt;chr&gt;</th></tr>\n",
       "</thead>\n",
       "<tbody>\n",
       "\t<tr><th scope=row>1</th><td>books#volumes</td><td>443</td><td>books#volume</td><td>2ZggjwEACAAJ</td><td>SL/fqJ1dIHQ</td></tr>\n",
       "\t<tr><th scope=row>2</th><td>books#volumes</td><td>443</td><td>books#volume</td><td>1mZtP9H6OMQC</td><td>9Xwidh/MUg4</td></tr>\n",
       "\t<tr><th scope=row>3</th><td>books#volumes</td><td>443</td><td>books#volume</td><td>ENIVBdZIJ6cC</td><td>54DFGUmBbfQ</td></tr>\n",
       "\t<tr><th scope=row>4</th><td>books#volumes</td><td>443</td><td>books#volume</td><td>yijjwAEACAAJ</td><td>PBNxIPu/Dk8</td></tr>\n",
       "\t<tr><th scope=row>5</th><td>books#volumes</td><td>443</td><td>books#volume</td><td>9MS9BQAAQBAJ</td><td>83CRBc7BfXw</td></tr>\n",
       "\t<tr><th scope=row>6</th><td>books#volumes</td><td>443</td><td>books#volume</td><td>BP_WAgAAQBAJ</td><td>gOkbxCI0oFI</td></tr>\n",
       "</tbody>\n",
       "</table>\n"
      ],
      "text/latex": [
       "A data.frame: 6 × 5\n",
       "\\begin{tabular}{r|lllll}\n",
       "  & kind & totalItems & items.kind & items.id & items.etag\\\\\n",
       "  & <chr> & <int> & <chr> & <chr> & <chr>\\\\\n",
       "\\hline\n",
       "\t1 & books\\#volumes & 443 & books\\#volume & 2ZggjwEACAAJ & SL/fqJ1dIHQ\\\\\n",
       "\t2 & books\\#volumes & 443 & books\\#volume & 1mZtP9H6OMQC & 9Xwidh/MUg4\\\\\n",
       "\t3 & books\\#volumes & 443 & books\\#volume & ENIVBdZIJ6cC & 54DFGUmBbfQ\\\\\n",
       "\t4 & books\\#volumes & 443 & books\\#volume & yijjwAEACAAJ & PBNxIPu/Dk8\\\\\n",
       "\t5 & books\\#volumes & 443 & books\\#volume & 9MS9BQAAQBAJ & 83CRBc7BfXw\\\\\n",
       "\t6 & books\\#volumes & 443 & books\\#volume & BP\\_WAgAAQBAJ & gOkbxCI0oFI\\\\\n",
       "\\end{tabular}\n"
      ],
      "text/markdown": [
       "\n",
       "A data.frame: 6 × 5\n",
       "\n",
       "| <!--/--> | kind &lt;chr&gt; | totalItems &lt;int&gt; | items.kind &lt;chr&gt; | items.id &lt;chr&gt; | items.etag &lt;chr&gt; |\n",
       "|---|---|---|---|---|---|\n",
       "| 1 | books#volumes | 443 | books#volume | 2ZggjwEACAAJ | SL/fqJ1dIHQ |\n",
       "| 2 | books#volumes | 443 | books#volume | 1mZtP9H6OMQC | 9Xwidh/MUg4 |\n",
       "| 3 | books#volumes | 443 | books#volume | ENIVBdZIJ6cC | 54DFGUmBbfQ |\n",
       "| 4 | books#volumes | 443 | books#volume | yijjwAEACAAJ | PBNxIPu/Dk8 |\n",
       "| 5 | books#volumes | 443 | books#volume | 9MS9BQAAQBAJ | 83CRBc7BfXw |\n",
       "| 6 | books#volumes | 443 | books#volume | BP_WAgAAQBAJ | gOkbxCI0oFI |\n",
       "\n"
      ],
      "text/plain": [
       "  kind          totalItems items.kind   items.id     items.etag \n",
       "1 books#volumes 443        books#volume 2ZggjwEACAAJ SL/fqJ1dIHQ\n",
       "2 books#volumes 443        books#volume 1mZtP9H6OMQC 9Xwidh/MUg4\n",
       "3 books#volumes 443        books#volume ENIVBdZIJ6cC 54DFGUmBbfQ\n",
       "4 books#volumes 443        books#volume yijjwAEACAAJ PBNxIPu/Dk8\n",
       "5 books#volumes 443        books#volume 9MS9BQAAQBAJ 83CRBc7BfXw\n",
       "6 books#volumes 443        books#volume BP_WAgAAQBAJ gOkbxCI0oFI"
      ]
     },
     "metadata": {},
     "output_type": "display_data"
    }
   ],
   "source": [
    "# smaller table to use as output for in book\n",
    "d  %>% select(kind:items.etag)  %>% head()"
   ]
  },
  {
   "cell_type": "code",
   "execution_count": 7,
   "metadata": {
    "tags": [
     "snippet:googleapi3"
    ]
   },
   "outputs": [],
   "source": [
    "i = 0\n",
    "j = 1\n",
    "url = str_c(\"https://www.googleapis.com/books/\",\n",
    "            \"v1/volumes?q=python&maxResults=40\",\n",
    "            \"&startIndex={i}\")\n",
    "alldata = list()\n",
    "while (TRUE) {\n",
    "    r = GET(glue(url))\n",
    "    r_text = content(r, \"text\")\n",
    "    data_json = fromJSON(r_text, flatten=T)\n",
    "    if (length(data_json$items)==0) {break}\n",
    "    alldata[[j]] = as.data.frame(data_json)\n",
    "    i = i + 40\n",
    "    j = j + 1} \n",
    "d = rbindlist(alldata, fill=TRUE)"
   ]
  },
  {
   "cell_type": "code",
   "execution_count": 8,
   "metadata": {
    "tags": [
     "snippet:googleapi3table",
     "output:table"
    ]
   },
   "outputs": [
    {
     "data": {
      "text/html": [
       "<table>\n",
       "<caption>A data.table: 6 × 5</caption>\n",
       "<thead>\n",
       "\t<tr><th scope=col>kind</th><th scope=col>totalItems</th><th scope=col>items.kind</th><th scope=col>items.id</th><th scope=col>items.etag</th></tr>\n",
       "\t<tr><th scope=col>&lt;chr&gt;</th><th scope=col>&lt;int&gt;</th><th scope=col>&lt;chr&gt;</th><th scope=col>&lt;chr&gt;</th><th scope=col>&lt;chr&gt;</th></tr>\n",
       "</thead>\n",
       "<tbody>\n",
       "\t<tr><td>books#volumes</td><td>433</td><td>books#volume</td><td>2ZggjwEACAAJ</td><td>w8RpK1LsfT4</td></tr>\n",
       "\t<tr><td>books#volumes</td><td>433</td><td>books#volume</td><td>1mZtP9H6OMQC</td><td>T7fABU4eveM</td></tr>\n",
       "\t<tr><td>books#volumes</td><td>433</td><td>books#volume</td><td>ENIVBdZIJ6cC</td><td>aCgPlDS7evE</td></tr>\n",
       "\t<tr><td>books#volumes</td><td>433</td><td>books#volume</td><td>yijjwAEACAAJ</td><td>vtQw9sGLFuA</td></tr>\n",
       "\t<tr><td>books#volumes</td><td>433</td><td>books#volume</td><td>9MS9BQAAQBAJ</td><td>Wb3CmjuAY/I</td></tr>\n",
       "\t<tr><td>books#volumes</td><td>433</td><td>books#volume</td><td>pjqbAgAAQBAJ</td><td>Muu0EHCF6k8</td></tr>\n",
       "</tbody>\n",
       "</table>\n"
      ],
      "text/latex": [
       "A data.table: 6 × 5\n",
       "\\begin{tabular}{lllll}\n",
       " kind & totalItems & items.kind & items.id & items.etag\\\\\n",
       " <chr> & <int> & <chr> & <chr> & <chr>\\\\\n",
       "\\hline\n",
       "\t books\\#volumes & 433 & books\\#volume & 2ZggjwEACAAJ & w8RpK1LsfT4\\\\\n",
       "\t books\\#volumes & 433 & books\\#volume & 1mZtP9H6OMQC & T7fABU4eveM\\\\\n",
       "\t books\\#volumes & 433 & books\\#volume & ENIVBdZIJ6cC & aCgPlDS7evE\\\\\n",
       "\t books\\#volumes & 433 & books\\#volume & yijjwAEACAAJ & vtQw9sGLFuA\\\\\n",
       "\t books\\#volumes & 433 & books\\#volume & 9MS9BQAAQBAJ & Wb3CmjuAY/I\\\\\n",
       "\t books\\#volumes & 433 & books\\#volume & pjqbAgAAQBAJ & Muu0EHCF6k8\\\\\n",
       "\\end{tabular}\n"
      ],
      "text/markdown": [
       "\n",
       "A data.table: 6 × 5\n",
       "\n",
       "| kind &lt;chr&gt; | totalItems &lt;int&gt; | items.kind &lt;chr&gt; | items.id &lt;chr&gt; | items.etag &lt;chr&gt; |\n",
       "|---|---|---|---|---|\n",
       "| books#volumes | 433 | books#volume | 2ZggjwEACAAJ | w8RpK1LsfT4 |\n",
       "| books#volumes | 433 | books#volume | 1mZtP9H6OMQC | T7fABU4eveM |\n",
       "| books#volumes | 433 | books#volume | ENIVBdZIJ6cC | aCgPlDS7evE |\n",
       "| books#volumes | 433 | books#volume | yijjwAEACAAJ | vtQw9sGLFuA |\n",
       "| books#volumes | 433 | books#volume | 9MS9BQAAQBAJ | Wb3CmjuAY/I |\n",
       "| books#volumes | 433 | books#volume | pjqbAgAAQBAJ | Muu0EHCF6k8 |\n",
       "\n"
      ],
      "text/plain": [
       "  kind          totalItems items.kind   items.id     items.etag \n",
       "1 books#volumes 433        books#volume 2ZggjwEACAAJ w8RpK1LsfT4\n",
       "2 books#volumes 433        books#volume 1mZtP9H6OMQC T7fABU4eveM\n",
       "3 books#volumes 433        books#volume ENIVBdZIJ6cC aCgPlDS7evE\n",
       "4 books#volumes 433        books#volume yijjwAEACAAJ vtQw9sGLFuA\n",
       "5 books#volumes 433        books#volume 9MS9BQAAQBAJ Wb3CmjuAY/I\n",
       "6 books#volumes 433        books#volume pjqbAgAAQBAJ Muu0EHCF6k8"
      ]
     },
     "metadata": {},
     "output_type": "display_data"
    }
   ],
   "source": [
    "# smaller table to use as output for in book\n",
    "d  %>% select(kind:items.etag)  %>% head()"
   ]
  },
  {
   "cell_type": "code",
   "execution_count": null,
   "metadata": {},
   "outputs": [],
   "source": []
  }
 ],
 "metadata": {
  "celltoolbar": "Tags",
  "kernelspec": {
   "display_name": "R",
   "language": "R",
   "name": "ir"
  },
  "language_info": {
   "codemirror_mode": "r",
   "file_extension": ".r",
   "mimetype": "text/x-r-source",
   "name": "R",
   "pygments_lexer": "r",
   "version": "4.1.0"
  }
 },
 "nbformat": 4,
 "nbformat_minor": 4
}
