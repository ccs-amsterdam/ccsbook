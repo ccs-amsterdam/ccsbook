{
 "cells": [
  {
   "cell_type": "code",
   "execution_count": 2,
   "metadata": {},
   "outputs": [
    {
     "name": "stderr",
     "output_type": "stream",
     "text": [
      "Loading required package: xml2\n",
      "── \u001b[1mAttaching packages\u001b[22m ──────────────────────────────────────────────────────────────────────────────────────────────────────────────────────────────────────── tidyverse 1.3.0 ──\n",
      "\u001b[32m✔\u001b[39m \u001b[34mggplot2\u001b[39m 3.2.1     \u001b[32m✔\u001b[39m \u001b[34mpurrr  \u001b[39m 0.3.3\n",
      "\u001b[32m✔\u001b[39m \u001b[34mtibble \u001b[39m 2.1.3     \u001b[32m✔\u001b[39m \u001b[34mdplyr  \u001b[39m 0.8.3\n",
      "\u001b[32m✔\u001b[39m \u001b[34mtidyr  \u001b[39m 1.0.0     \u001b[32m✔\u001b[39m \u001b[34mstringr\u001b[39m 1.4.0\n",
      "\u001b[32m✔\u001b[39m \u001b[34mreadr  \u001b[39m 1.3.1     \u001b[32m✔\u001b[39m \u001b[34mforcats\u001b[39m 0.4.0\n",
      "── \u001b[1mConflicts\u001b[22m ─────────────────────────────────────────────────────────────────────────────────────────────────────────────────────────────────────────── tidyverse_conflicts() ──\n",
      "\u001b[31m✖\u001b[39m \u001b[34mdplyr\u001b[39m::\u001b[32mcollapse()\u001b[39m       masks \u001b[34mglue\u001b[39m::collapse()\n",
      "\u001b[31m✖\u001b[39m \u001b[34mdplyr\u001b[39m::\u001b[32mfilter()\u001b[39m         masks \u001b[34mstats\u001b[39m::filter()\n",
      "\u001b[31m✖\u001b[39m \u001b[34mreadr\u001b[39m::\u001b[32mguess_encoding()\u001b[39m masks \u001b[34mrvest\u001b[39m::guess_encoding()\n",
      "\u001b[31m✖\u001b[39m \u001b[34mdplyr\u001b[39m::\u001b[32mlag()\u001b[39m            masks \u001b[34mstats\u001b[39m::lag()\n",
      "\u001b[31m✖\u001b[39m \u001b[34mpurrr\u001b[39m::\u001b[32mpluck()\u001b[39m          masks \u001b[34mrvest\u001b[39m::pluck()\n"
     ]
    }
   ],
   "source": [
    "library(rvest)\n",
    "library(httr)\n",
    "library(glue)\n",
    "library(tidyverse)\n",
    "library(xml2)"
   ]
  },
  {
   "cell_type": "code",
   "execution_count": 3,
   "metadata": {
    "tags": [
     "snippet:htmlparse1"
    ]
   },
   "outputs": [
    {
     "data": {
      "text/html": [
       "<style>\n",
       ".list-inline {list-style: none; margin:0; padding: 0}\n",
       ".list-inline>li {display: inline-block}\n",
       ".list-inline>li:not(:last-child)::after {content: \"\\00b7\"; padding: 0 .5ex}\n",
       "</style>\n",
       "<ol class=list-inline><li>' Pizzeria Roma '</li><li>' Trattoria Napoli '</li><li>' Curry King '</li></ol>\n"
      ],
      "text/latex": [
       "\\begin{enumerate*}\n",
       "\\item ' Pizzeria Roma '\n",
       "\\item ' Trattoria Napoli '\n",
       "\\item ' Curry King '\n",
       "\\end{enumerate*}\n"
      ],
      "text/markdown": [
       "1. ' Pizzeria Roma '\n",
       "2. ' Trattoria Napoli '\n",
       "3. ' Curry King '\n",
       "\n",
       "\n"
      ],
      "text/plain": [
       "[1] \" Pizzeria Roma \"    \" Trattoria Napoli \" \" Curry King \"      "
      ]
     },
     "metadata": {},
     "output_type": "display_data"
    },
    {
     "data": {
      "text/html": [
       "<style>\n",
       ".list-inline {list-style: none; margin:0; padding: 0}\n",
       ".list-inline>li {display: inline-block}\n",
       ".list-inline>li:not(:last-child)::after {content: \"\\00b7\"; padding: 0 .5ex}\n",
       "</style>\n",
       "<ol class=list-inline><li>' Pizzeria Roma '</li><li>' Trattoria Napoli '</li><li>' Curry King '</li></ol>\n"
      ],
      "text/latex": [
       "\\begin{enumerate*}\n",
       "\\item ' Pizzeria Roma '\n",
       "\\item ' Trattoria Napoli '\n",
       "\\item ' Curry King '\n",
       "\\end{enumerate*}\n"
      ],
      "text/markdown": [
       "1. ' Pizzeria Roma '\n",
       "2. ' Trattoria Napoli '\n",
       "3. ' Curry King '\n",
       "\n",
       "\n"
      ],
      "text/plain": [
       "[1] \" Pizzeria Roma \"    \" Trattoria Napoli \" \" Curry King \"      "
      ]
     },
     "metadata": {},
     "output_type": "display_data"
    }
   ],
   "source": [
    "url = \"https://cssbook.net/d/eat/index.html\"\n",
    "page = read_html(url)\n",
    "\n",
    "# get the restaurant names via XPATH\n",
    "page %>% html_nodes(xpath=\"//h3\") %>% html_text() \n",
    "\n",
    "# get the restaurant names via CSS Selector\n",
    "page %>% html_nodes(\"h3\") %>% html_text() "
   ]
  },
  {
   "cell_type": "code",
   "execution_count": 21,
   "metadata": {
    "tags": [
     "snippet:htmlparse2"
    ]
   },
   "outputs": [
    {
     "data": {
      "text/html": [
       "'Appending `/text()` to the XPATH gives youexactly the text that is in the element itself, including line-breaks that happen to be in the source code:'"
      ],
      "text/latex": [
       "'Appending `/text()` to the XPATH gives youexactly the text that is in the element itself, including line-breaks that happen to be in the source code:'"
      ],
      "text/markdown": [
       "'Appending `/text()` to the XPATH gives youexactly the text that is in the element itself, including line-breaks that happen to be in the source code:'"
      ],
      "text/plain": [
       "Appending `/text()` to the XPATH gives youexactly the text that is in the element itself, including line-breaks that happen to be in the source code:"
      ]
     },
     "metadata": {},
     "output_type": "display_data"
    },
    {
     "data": {
      "text/plain": [
       "{xml_nodeset (12)}\n",
       " [1]  \n",
       " [2] \\n      \n",
       " [3] \\n      \n",
       " [4] \\n    \n",
       " [5]  \n",
       " [6] \\n      \n",
       " [7] \\n      \n",
       " [8] \\n    \n",
       " [9]  \n",
       "[10] \\n      \n",
       "[11] \\n      \n",
       "[12] \\n    "
      ]
     },
     "metadata": {},
     "output_type": "display_data"
    },
    {
     "data": {
      "text/html": [
       "'Using the `html_text` function instead returns the text of the element *and the text of its children*:'"
      ],
      "text/latex": [
       "'Using the `html\\_text` function instead returns the text of the element *and the text of its children*:'"
      ],
      "text/markdown": [
       "'Using the `html_text` function instead returns the text of the element *and the text of its children*:'"
      ],
      "text/plain": [
       "Using the `html_text` function instead returns the text of the element *and the text of its children*:"
      ]
     },
     "metadata": {},
     "output_type": "display_data"
    },
    {
     "data": {
      "text/html": [
       "<style>\n",
       ".list-inline {list-style: none; margin:0; padding: 0}\n",
       ".list-inline>li {display: inline-block}\n",
       ".list-inline>li:not(:last-child)::after {content: \"\\00b7\"; padding: 0 .5ex}\n",
       "</style>\n",
       "<ol class=list-inline><li><span style=white-space:pre-wrap>'  Pizzeria Roma \\n       Here you can get ... ... \\n       Read the full review here\\n    '</span></li><li><span style=white-space:pre-wrap>'  Trattoria Napoli \\n       Another restaurant ... ... \\n       Read the full review here\\n    '</span></li><li><span style=white-space:pre-wrap>'  Curry King \\n       Some description. \\n       Read the full review here\\n    '</span></li></ol>\n"
      ],
      "text/latex": [
       "\\begin{enumerate*}\n",
       "\\item '  Pizzeria Roma \\textbackslash{}n       Here you can get ... ... \\textbackslash{}n       Read the full review here\\textbackslash{}n    '\n",
       "\\item '  Trattoria Napoli \\textbackslash{}n       Another restaurant ... ... \\textbackslash{}n       Read the full review here\\textbackslash{}n    '\n",
       "\\item '  Curry King \\textbackslash{}n       Some description. \\textbackslash{}n       Read the full review here\\textbackslash{}n    '\n",
       "\\end{enumerate*}\n"
      ],
      "text/markdown": [
       "1. <span style=white-space:pre-wrap>'  Pizzeria Roma \\n       Here you can get ... ... \\n       Read the full review here\\n    '</span>\n",
       "2. <span style=white-space:pre-wrap>'  Trattoria Napoli \\n       Another restaurant ... ... \\n       Read the full review here\\n    '</span>\n",
       "3. <span style=white-space:pre-wrap>'  Curry King \\n       Some description. \\n       Read the full review here\\n    '</span>\n",
       "\n",
       "\n"
      ],
      "text/plain": [
       "[1] \"  Pizzeria Roma \\n       Here you can get ... ... \\n       Read the full review here\\n    \"     \n",
       "[2] \"  Trattoria Napoli \\n       Another restaurant ... ... \\n       Read the full review here\\n    \"\n",
       "[3] \"  Curry King \\n       Some description. \\n       Read the full review here\\n    \"               "
      ]
     },
     "metadata": {},
     "output_type": "display_data"
    },
    {
     "data": {
      "text/html": [
       "'The same but using CSS Selectors:'"
      ],
      "text/latex": [
       "'The same but using CSS Selectors:'"
      ],
      "text/markdown": [
       "'The same but using CSS Selectors:'"
      ],
      "text/plain": [
       "The same but using CSS Selectors:"
      ]
     },
     "metadata": {},
     "output_type": "display_data"
    },
    {
     "data": {
      "text/html": [
       "<style>\n",
       ".list-inline {list-style: none; margin:0; padding: 0}\n",
       ".list-inline>li {display: inline-block}\n",
       ".list-inline>li:not(:last-child)::after {content: \"\\00b7\"; padding: 0 .5ex}\n",
       "</style>\n",
       "<ol class=list-inline><li><span style=white-space:pre-wrap>'  Pizzeria Roma \\n       Here you can get ... ... \\n       Read the full review here\\n    '</span></li><li><span style=white-space:pre-wrap>'  Trattoria Napoli \\n       Another restaurant ... ... \\n       Read the full review here\\n    '</span></li><li><span style=white-space:pre-wrap>'  Curry King \\n       Some description. \\n       Read the full review here\\n    '</span></li></ol>\n"
      ],
      "text/latex": [
       "\\begin{enumerate*}\n",
       "\\item '  Pizzeria Roma \\textbackslash{}n       Here you can get ... ... \\textbackslash{}n       Read the full review here\\textbackslash{}n    '\n",
       "\\item '  Trattoria Napoli \\textbackslash{}n       Another restaurant ... ... \\textbackslash{}n       Read the full review here\\textbackslash{}n    '\n",
       "\\item '  Curry King \\textbackslash{}n       Some description. \\textbackslash{}n       Read the full review here\\textbackslash{}n    '\n",
       "\\end{enumerate*}\n"
      ],
      "text/markdown": [
       "1. <span style=white-space:pre-wrap>'  Pizzeria Roma \\n       Here you can get ... ... \\n       Read the full review here\\n    '</span>\n",
       "2. <span style=white-space:pre-wrap>'  Trattoria Napoli \\n       Another restaurant ... ... \\n       Read the full review here\\n    '</span>\n",
       "3. <span style=white-space:pre-wrap>'  Curry King \\n       Some description. \\n       Read the full review here\\n    '</span>\n",
       "\n",
       "\n"
      ],
      "text/plain": [
       "[1] \"  Pizzeria Roma \\n       Here you can get ... ... \\n       Read the full review here\\n    \"     \n",
       "[2] \"  Trattoria Napoli \\n       Another restaurant ... ... \\n       Read the full review here\\n    \"\n",
       "[3] \"  Curry King \\n       Some description. \\n       Read the full review here\\n    \"               "
      ]
     },
     "metadata": {},
     "output_type": "display_data"
    }
   ],
   "source": [
    "url = \"https://cssbook.net/d/eat/index.html\"\n",
    "page = read_html(url)\n",
    "\n",
    "glue(\"Appending `/text()` to the XPATH gives you\\\\\n",
    "exactly the text that is in the element itself, \\\\\n",
    "including line-breaks that happen to be in the \\\\\n",
    "source code:\" )\n",
    "page %>% html_nodes(xpath=\n",
    "    \"//div[@class='restaurant']/text()\") \n",
    "\n",
    "glue(\"Using the `html_text` function instead \\\\\n",
    "returns the text of the element *and the text \\\\\n",
    "of its children*:\")\n",
    "page %>% html_nodes(xpath=\n",
    "    \"//div[@class='restaurant']\") %>% html_text()\n",
    "\n",
    "glue(\"The same but using CSS Selectors:\")\n",
    "page %>% html_nodes(\".restaurant\") %>% html_text()"
   ]
  },
  {
   "cell_type": "code",
   "execution_count": 24,
   "metadata": {
    "tags": [
     "snippet:htmlparse3"
    ]
   },
   "outputs": [
    {
     "data": {
      "text/html": [
       "<style>\n",
       ".list-inline {list-style: none; margin:0; padding: 0}\n",
       ".list-inline>li {display: inline-block}\n",
       ".list-inline>li:not(:last-child)::after {content: \"\\00b7\"; padding: 0 .5ex}\n",
       "</style>\n",
       "<ol class=list-inline><li>'here'</li><li>'here'</li><li>'here'</li></ol>\n"
      ],
      "text/latex": [
       "\\begin{enumerate*}\n",
       "\\item 'here'\n",
       "\\item 'here'\n",
       "\\item 'here'\n",
       "\\end{enumerate*}\n"
      ],
      "text/markdown": [
       "1. 'here'\n",
       "2. 'here'\n",
       "3. 'here'\n",
       "\n",
       "\n"
      ],
      "text/plain": [
       "[1] \"here\" \"here\" \"here\""
      ]
     },
     "metadata": {},
     "output_type": "display_data"
    },
    {
     "data": {
      "text/html": [
       "<style>\n",
       ".list-inline {list-style: none; margin:0; padding: 0}\n",
       ".list-inline>li {display: inline-block}\n",
       ".list-inline>li:not(:last-child)::after {content: \"\\00b7\"; padding: 0 .5ex}\n",
       "</style>\n",
       "<ol class=list-inline><li>'review0001.html'</li><li>'review0002.html'</li><li>'review0003.html'</li></ol>\n"
      ],
      "text/latex": [
       "\\begin{enumerate*}\n",
       "\\item 'review0001.html'\n",
       "\\item 'review0002.html'\n",
       "\\item 'review0003.html'\n",
       "\\end{enumerate*}\n"
      ],
      "text/markdown": [
       "1. 'review0001.html'\n",
       "2. 'review0002.html'\n",
       "3. 'review0003.html'\n",
       "\n",
       "\n"
      ],
      "text/plain": [
       "[1] \"review0001.html\" \"review0002.html\" \"review0003.html\""
      ]
     },
     "metadata": {},
     "output_type": "display_data"
    }
   ],
   "source": [
    "page %>% \n",
    "  html_nodes(xpath=\"//a\") %>% \n",
    "  html_text() \n",
    "page %>% \n",
    "  html_nodes(xpath=\"//a\") %>% \n",
    "  html_attr(\"href\")\n"
   ]
  },
  {
   "cell_type": "code",
   "execution_count": 25,
   "metadata": {
    "tags": [
     "snippet:htmlparse1useragent"
    ]
   },
   "outputs": [
    {
     "data": {
      "text/html": [
       "<style>\n",
       ".list-inline {list-style: none; margin:0; padding: 0}\n",
       ".list-inline>li {display: inline-block}\n",
       ".list-inline>li:not(:last-child)::after {content: \"\\00b7\"; padding: 0 .5ex}\n",
       "</style>\n",
       "<ol class=list-inline><li>' Pizzeria Roma '</li><li>' Trattoria Napoli '</li><li>' Curry King '</li></ol>\n"
      ],
      "text/latex": [
       "\\begin{enumerate*}\n",
       "\\item ' Pizzeria Roma '\n",
       "\\item ' Trattoria Napoli '\n",
       "\\item ' Curry King '\n",
       "\\end{enumerate*}\n"
      ],
      "text/markdown": [
       "1. ' Pizzeria Roma '\n",
       "2. ' Trattoria Napoli '\n",
       "3. ' Curry King '\n",
       "\n",
       "\n"
      ],
      "text/plain": [
       "[1] \" Pizzeria Roma \"    \" Trattoria Napoli \" \" Curry King \"      "
      ]
     },
     "metadata": {},
     "output_type": "display_data"
    }
   ],
   "source": [
    "r = GET(\"https://cssbook.net/d/eat/index.html\",\n",
    "    user_agent=str_c(\"Mozilla/5.0 (Windows NT \",\n",
    "    \"10.0; Win64; x64; rv:60.0) Gecko/20100101 \",\n",
    "    \"Firefox/60.0\"))\n",
    "page = read_html(r)\n",
    "page %>% html_nodes(xpath=\"//h3\") %>% html_text() \n"
   ]
  },
  {
   "cell_type": "code",
   "execution_count": 26,
   "metadata": {
    "tags": [
     "snippet:htmltofile"
    ]
   },
   "outputs": [],
   "source": [
    "fileConn<-file(\"test.html\")\n",
    "writeLines(content(r, as = \"text\"), fileConn)\n",
    "close(fileConn)"
   ]
  },
  {
   "cell_type": "code",
   "execution_count": 27,
   "metadata": {
    "tags": [
     "snippet:createurls"
    ]
   },
   "outputs": [
    {
     "name": "stdout",
     "output_type": "stream",
     "text": [
      "https://reviews.com/?page=1\n",
      "https://reviews.com/?page=2\n",
      "https://reviews.com/?page=3\n",
      "https://reviews.com/?page=4\n",
      "https://reviews.com/?page=5\n",
      "https://reviews.com/?page=6\n",
      "https://reviews.com/?page=7\n",
      "https://reviews.com/?page=8\n",
      "https://reviews.com/?page=9\n",
      "https://reviews.com/?page=10\n"
     ]
    }
   ],
   "source": [
    "baseurl=\"https://reviews.com/?page=\"\n",
    "tenpages=glue(\"{baseurl}{1:10}\")\n",
    "print(tenpages)"
   ]
  },
  {
   "cell_type": "code",
   "execution_count": 3,
   "metadata": {
    "tags": [
     "snippet:cookiewall"
    ]
   },
   "outputs": [
    {
     "data": {
      "text/html": [
       "'There are 318 comments.'"
      ],
      "text/latex": [
       "'There are 318 comments.'"
      ],
      "text/markdown": [
       "'There are 318 comments.'"
      ],
      "text/plain": [
       "There are 318 comments."
      ]
     },
     "metadata": {},
     "output_type": "display_data"
    }
   ],
   "source": [
    "URL = \"https://www.geenstijl.nl/5160019/page/\"\n",
    "\n",
    "# circumvent cookie wall by setting a specific\n",
    "# cookie: the key-value pair (cpc: 10)\n",
    "r = GET(URL)\n",
    "cookies = setNames(cookies(r)$value, \n",
    "                   cookies(r)$name)\n",
    "cookies = c(cookies, cpc=10)\n",
    "r = GET(URL, set_cookies(cookies))\n",
    "# end circumvention\n",
    "\n",
    "allcomments = r %>% \n",
    "  read_html() %>%\n",
    "  html_nodes(\".cmt-content\") %>% \n",
    "  html_text()\n",
    "\n",
    "glue(\"There are {length(allcomments)} comments.\")\n"
   ]
  },
  {
   "cell_type": "code",
   "execution_count": 4,
   "metadata": {
    "tags": [
     "snippet:cookiewall2"
    ]
   },
   "outputs": [
    {
     "data": {
      "text/html": [
       "'There are 318 comments.'"
      ],
      "text/latex": [
       "'There are 318 comments.'"
      ],
      "text/markdown": [
       "'There are 318 comments.'"
      ],
      "text/plain": [
       "There are 318 comments."
      ]
     },
     "metadata": {},
     "output_type": "display_data"
    }
   ],
   "source": [
    "r = GET(URL, set_cookies(cpc=10))\n",
    "allcomments = r %>% \n",
    "  read_html() %>%\n",
    "  html_nodes(\".cmt-content\") %>% \n",
    "  html_text()\n",
    "glue(\"There are {length(allcomments)} comments.\")"
   ]
  }
 ],
 "metadata": {
  "celltoolbar": "Tags",
  "kernelspec": {
   "display_name": "R",
   "language": "R",
   "name": "ir"
  },
  "language_info": {
   "codemirror_mode": "r",
   "file_extension": ".r",
   "mimetype": "text/x-r-source",
   "name": "R",
   "pygments_lexer": "r",
   "version": "3.5.3"
  }
 },
 "nbformat": 4,
 "nbformat_minor": 4
}
