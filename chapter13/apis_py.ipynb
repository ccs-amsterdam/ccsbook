{
 "cells": [
  {
   "cell_type": "code",
   "execution_count": 1,
   "metadata": {
    "tags": [
     "snippet:googleapi1"
    ]
   },
   "outputs": [
    {
     "name": "stdout",
     "output_type": "stream",
     "text": [
      "dict_keys(['kind', 'totalItems', 'items'])\n",
      "{'accessInfo': {'accessViewStatus': 'SAMPLE',\n",
      "                'country': 'NL',\n",
      "                'embeddable': True,\n",
      "                'epub': {'isAvailable': False},\n",
      "                'pdf': {'isAvailable': False},\n",
      "                'publicDomain': False,\n",
      "                'quoteSharingAllowed': False,\n",
      "                'textToSpeechPermission': 'ALLOWED',\n",
      "                'viewability': 'PARTIAL',\n",
      "                'webReaderLink': 'http://play.google.com/books/reader?id=h56ansk4SyQC&hl=&printsec=frontcover&source=gbs_api'},\n",
      " 'etag': 'eaypCXf0zmk',\n",
      " 'id': 'h56ansk4SyQC',\n",
      " 'kind': 'books#volume',\n",
      " 'saleInfo': {'country': 'NL', 'isEbook': False, 'saleability': 'NOT_FOR_SALE'},\n",
      " 'selfLink': 'https://www.googleapis.com/books/v1/volumes/h56ansk4SyQC',\n",
      " 'volumeInfo': {'allowAnonLogging': False,\n",
      "                'authors': ['Joseph Eddy Fontenrose'],\n",
      "                'canonicalVolumeLink': 'https://books.google.com/books/about/Python.html?hl=&id=h56ansk4SyQC',\n",
      "                'categories': ['Social Science'],\n",
      "                'contentVersion': '1.1.0.0.preview.1',\n",
      "                'imageLinks': {'smallThumbnail': 'http://books.google.com/books/content?id=h56ansk4SyQC&printsec=frontcover&img=1&zoom=5&edge=curl&source=gbs_api',\n",
      "                               'thumbnail': 'http://books.google.com/books/content?id=h56ansk4SyQC&printsec=frontcover&img=1&zoom=1&edge=curl&source=gbs_api'},\n",
      "                'industryIdentifiers': [{'identifier': '081960285X',\n",
      "                                         'type': 'ISBN_10'},\n",
      "                                        {'identifier': '9780819602855',\n",
      "                                         'type': 'ISBN_13'}],\n",
      "                'infoLink': 'http://books.google.nl/books?id=h56ansk4SyQC&dq=python&hl=&source=gbs_api',\n",
      "                'language': 'en',\n",
      "                'maturityRating': 'NOT_MATURE',\n",
      "                'pageCount': 616,\n",
      "                'previewLink': 'http://books.google.nl/books?id=h56ansk4SyQC&printsec=frontcover&dq=python&hl=&cd=1&source=gbs_api',\n",
      "                'printType': 'BOOK',\n",
      "                'publishedDate': '1959',\n",
      "                'publisher': 'Biblo & Tannen Publishers',\n",
      "                'readingModes': {'image': True, 'text': False},\n",
      "                'subtitle': 'A Study of Delphic Myth and Its Origins',\n",
      "                'title': 'Python'}}\n"
     ]
    }
   ],
   "source": [
    "import requests\n",
    "from pprint import pprint\n",
    "r = requests.get(\"https://www.googleapis.com/books/v1/volumes?q=python\")\n",
    "data = r.json()\n",
    "print(data.keys())  # 'items' seems most promising\n",
    "pprint(data['items'][0]) # let's print the first item"
   ]
  },
  {
   "cell_type": "code",
   "execution_count": 2,
   "metadata": {
    "scrolled": true,
    "tags": [
     "snippet:googleapi2"
    ]
   },
   "outputs": [],
   "source": [
    "from pandas.io.json import json_normalize\n",
    "d = json_normalize(data['items'])"
   ]
  },
  {
   "cell_type": "code",
   "execution_count": 3,
   "metadata": {
    "tags": [
     "snippet:googleapi3"
    ]
   },
   "outputs": [
    {
     "name": "stdout",
     "output_type": "stream",
     "text": [
      "Retrieved 272, it seems like that's it\n"
     ]
    }
   ],
   "source": [
    "import requests\n",
    "from pandas.io.json import json_normalize\n",
    "\n",
    "allitems = []\n",
    "i = 0\n",
    "while True:\n",
    "    r = requests.get(f\"https://www.googleapis.com/books/v1/volumes?q=python&maxResults=40&startIndex={i}\")\n",
    "    data = r.json()\n",
    "    try:\n",
    "        allitems.extend(data['items'])\n",
    "    except:\n",
    "        print(f\"Retrieved {len(allitems)}, it seems like that's it\")\n",
    "        break\n",
    "    i+=40\n",
    "d = json_normalize(allitems)"
   ]
  },
  {
   "cell_type": "code",
   "execution_count": null,
   "metadata": {
    "tags": [
     "dontrun",
     "snippet:gettweets"
    ]
   },
   "outputs": [],
   "source": [
    "# first, go to https://developer.twitter.com/ and create a so-called 'app'\n",
    "\n",
    "api_key='COPY THIS FROM TWITTER'\n",
    "api_secret = 'COPY THIS FROM TWITTER'\n",
    "\n",
    "access_token = 'COPY THIS FROM TWITTER'\n",
    "access_token_secret = 'COPY THIS FROM TWITTER'\n",
    "\n",
    "auth = tweepy.OAuthHandler(api_key, api_secret)\n",
    "auth.set_access_token(access_token, access_token_secret)\n",
    "\n",
    "api = tweepy.API(auth)\n",
    "\n",
    "results = pd.DataFrame([x._json for x in api.search('#covid')])\n",
    "results.head()"
   ]
  },
  {
   "cell_type": "code",
   "execution_count": null,
   "metadata": {
    "tags": [
     "snippet:geocode"
    ]
   },
   "outputs": [],
   "source": [
    "import geopandas as gpd # note: you need to also install geopy\n",
    "gpd.tools.geocode(['Amsterdam','New York'])"
   ]
  },
  {
   "cell_type": "code",
   "execution_count": null,
   "metadata": {
    "tags": [
     "snippet:getgeo",
     "dontrun"
    ]
   },
   "outputs": [],
   "source": [
    "import tweepy\n",
    "import pandas as pd\n",
    "import geopandas as gpd # note: you need to also install geopy\n",
    "\n",
    "\n",
    "# first, go to https://developer.twitter.com/ and create a so-called 'app'\n",
    "\n",
    "api_key='COPY THIS FROM TWITTER'\n",
    "api_secret = 'COPY THIS FROM TWITTER'\n",
    "access_token = 'COPY THIS FROM TWITTER'\n",
    "access_token_secret = 'COPY THIS FROM TWITTER'\n",
    "\n",
    "auth = tweepy.OAuthHandler(api_key, api_secret)\n",
    "auth.set_access_token(access_token, access_token_secret)\n",
    "\n",
    "replyusers = set(tweets.reply_to_screen_name) - set(tweets.screen_name)\n",
    "replyusers_small = list(replyusers)[:20]\n",
    "\n",
    "api = tweepy.API(auth)\n",
    "result = api.lookup_users(screen_names=replyusers_small)\n",
    "\n",
    "users = []\n",
    "for user in result:\n",
    "    if user._json['location'] ==\"\":\n",
    "        coordinates = None\n",
    "    else:\n",
    "        coordinates = gpd.tools.geocode(user._json['location'])\n",
    "    users.append({'screen_name': user._json['screen_name'], 'location':user._json['location'], 'coordinates': coordinates})\n",
    "\n",
    "pd.DataFrame(users).head()"
   ]
  }
 ],
 "metadata": {
  "celltoolbar": "Tags",
  "kernelspec": {
   "display_name": "Python 3",
   "language": "python",
   "name": "python3"
  },
  "language_info": {
   "codemirror_mode": {
    "name": "ipython",
    "version": 3
   },
   "file_extension": ".py",
   "mimetype": "text/x-python",
   "name": "python",
   "nbconvert_exporter": "python",
   "pygments_lexer": "ipython3",
   "version": "3.8.5"
  }
 },
 "nbformat": 4,
 "nbformat_minor": 2
}
