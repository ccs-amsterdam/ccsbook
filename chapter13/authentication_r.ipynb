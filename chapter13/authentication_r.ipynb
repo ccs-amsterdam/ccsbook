{
 "cells": [
  {
   "cell_type": "code",
   "execution_count": null,
   "metadata": {},
   "outputs": [],
   "source": []
  },
  {
   "cell_type": "code",
   "execution_count": 24,
   "metadata": {
    "tags": [
     "snippet:textrazor"
    ]
   },
   "outputs": [
    {
     "name": "stderr",
     "output_type": "stream",
     "text": [
      "No encoding supplied: defaulting to UTF-8.\n",
      "\n"
     ]
    },
    {
     "name": "stdout",
     "output_type": "stream",
     "text": [
      "[1] \"{\\\"ok\\\":true,\\\"response\\\":{\\\"planDailyRequestsIncluded\\\":15000,\\\"requestsUsedToday\\\":11303,\\\"plan\\\":\\\"TR_FRIEND\\\",\\\"concurrentRequestLimit\\\":2,\\\"concurrentRequestsUsed\\\":2}}\\n\"\n"
     ]
    }
   ],
   "source": [
    "library('httr')\n",
    "r = GET(\"https://api.textrazor.com/account/\", add_headers('x-textrazor-key' = \"MYSECRETKEY\"))\n",
    "print(content(r, \"text\"))"
   ]
  }
 ],
 "metadata": {
  "celltoolbar": "Tags",
  "kernelspec": {
   "display_name": "R",
   "language": "R",
   "name": "ir"
  },
  "language_info": {
   "codemirror_mode": "r",
   "file_extension": ".r",
   "mimetype": "text/x-r-source",
   "name": "R",
   "pygments_lexer": "r",
   "version": "3.6.3"
  }
 },
 "nbformat": 4,
 "nbformat_minor": 2
}
