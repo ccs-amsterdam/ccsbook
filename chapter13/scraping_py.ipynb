{
 "cells": [
  {
   "cell_type": "code",
   "execution_count": 8,
   "metadata": {
    "tags": [
     "snippet:htmlparse1"
    ]
   },
   "outputs": [
    {
     "name": "stdout",
     "output_type": "stream",
     "text": [
      "['Pizzeria Roma', 'Trattoria Napoli', 'Curry King']\n",
      "['Pizzeria Roma', 'Trattoria Napoli', 'Curry King']\n"
     ]
    }
   ],
   "source": [
    "from lxml.html import parse\n",
    "tree = parse('http://cssbook.net/d/restaurants/index.html')\n",
    "\n",
    "# get the restaurant names via XPATH \n",
    "print([e.text_content().strip() for e in tree.xpath('//h3')])\n",
    "\n",
    "# get the restaurant names via CSS Selector\n",
    "print([e.text_content().strip() for e in tree.getroot().cssselect('h3')])"
   ]
  },
  {
   "cell_type": "code",
   "execution_count": 9,
   "metadata": {
    "tags": [
     "snippet:htmlparse2"
    ]
   },
   "outputs": [
    {
     "name": "stdout",
     "output_type": "stream",
     "text": [
      "Appending \"/text()\" to the XPATH gives you exactly the text that is in the element itself, including line-breaks that happen to be in the source code:\n",
      "[' ', '\\n      ', '\\n      ', '\\n    ', ' ', '\\n      ', '\\n      ', '\\n    ', ' ', '\\n      ', '\\n      ', '\\n    ']\n",
      "\n",
      "Using the \"text\" property of the elements in the list of elements that are matched by the XPATH expression gives you the text of the elements themselves without the line breaks:\n",
      "[' ', ' ', ' ']\n",
      "\n",
      "Using the \"text_content()\" method instead returns the text of the element *and the text of its children*:\n",
      "['  Pizzeria Roma \\n       Here you can get ... ... \\n       Read the full review here\\n    ', '  Trattoria Napoli \\n       Another restaurant ... ... \\n       Read the full review here\\n    ', '  Curry King \\n       Some description. \\n       Read the full review here\\n    ']\n",
      "\n",
      "The same but using CSS Selectors (note the .getroot() method, because the selectors can only be applied to HTML elements, not to DOM trees):\n",
      "['  Pizzeria Roma \\n       Here you can get ... ... \\n       Read the full review here\\n    ', '  Trattoria Napoli \\n       Another restaurant ... ... \\n       Read the full review here\\n    ', '  Curry King \\n       Some description. \\n       Read the full review here\\n    ']\n"
     ]
    }
   ],
   "source": [
    "# three ways of extracting text\n",
    "print('Appending \"/text()\" to the XPATH gives you exactly the text that is in the element itself, including line-breaks that happen to be in the source code:' )\n",
    "print(tree.xpath('//div[@class=\"restaurant\"]/text()'))\n",
    "\n",
    "print('\\nUsing the \"text\" property of the elements in the list of elements that are matched by the XPATH expression gives you the text of the elements themselves without the line breaks:')\n",
    "print([e.text for e in tree.xpath('//div[@class=\"restaurant\"]')])\n",
    "\n",
    "print('\\nUsing the \"text_content()\" method instead returns the text of the element *and the text of its children*:')\n",
    "print([e.text_content() for e in tree.xpath('//div[@class=\"restaurant\"]')])\n",
    "\n",
    "print('\\nThe same but using CSS Selectors (note the .getroot() method, because the selectors can only be applied to HTML elements, not to DOM trees):')\n",
    "print([e.text_content() for e in tree.getroot().cssselect('.restaurant')])"
   ]
  },
  {
   "cell_type": "code",
   "execution_count": 14,
   "metadata": {
    "tags": [
     "snippet:htmlparse3"
    ]
   },
   "outputs": [
    {
     "name": "stdout",
     "output_type": "stream",
     "text": [
      "['here', 'here', 'here']\n",
      "['review0001.html', 'review0002.html', 'review0003.html']\n"
     ]
    }
   ],
   "source": [
    "linkelements = tree.xpath('//a')\n",
    "linktexts = [e.text for e in linkelements]\n",
    "links = [e.attrib['href'] for e in linkelements]\n",
    "\n",
    "print(linktexts)\n",
    "print(links)"
   ]
  },
  {
   "cell_type": "code",
   "execution_count": 78,
   "metadata": {
    "tags": [
     "snippet:htmlparse1useragent"
    ]
   },
   "outputs": [
    {
     "name": "stdout",
     "output_type": "stream",
     "text": [
      "['Pizzeria Roma', 'Trattoria Napoli', 'Curry King']\n"
     ]
    }
   ],
   "source": [
    "import requests\n",
    "from lxml.html import fromstring\n",
    "headers = {'User-Agent': 'Mozilla/5.0 (Windows NT 10.0; Win64; x64; rv:60.0) Gecko/20100101 Firefox/60.0'}\n",
    "\n",
    "htmlsource = requests.get('http://cssbook.net/d/restaurants/index.html', headers = headers).text\n",
    "tree = fromstring(htmlsource)\n",
    "print([e.text_content().strip() for e in tree.xpath('//h3')])"
   ]
  },
  {
   "cell_type": "code",
   "execution_count": 150,
   "metadata": {
    "tags": [
     "snippet:createurls"
    ]
   },
   "outputs": [
    {
     "name": "stdout",
     "output_type": "stream",
     "text": [
      "['http://myreviewsite.com/amsterdam/hotels.html?page=1', 'http://myreviewsite.com/amsterdam/hotels.html?page=2', 'http://myreviewsite.com/amsterdam/hotels.html?page=3', 'http://myreviewsite.com/amsterdam/hotels.html?page=4', 'http://myreviewsite.com/amsterdam/hotels.html?page=5', 'http://myreviewsite.com/amsterdam/hotels.html?page=6', 'http://myreviewsite.com/amsterdam/hotels.html?page=7', 'http://myreviewsite.com/amsterdam/hotels.html?page=8', 'http://myreviewsite.com/amsterdam/hotels.html?page=9', 'http://myreviewsite.com/amsterdam/hotels.html?page=10']\n"
     ]
    }
   ],
   "source": [
    "baseurl = 'http://myreviewsite.com/amsterdam/hotels.html?page='\n",
    "tenpages = [f'{baseurl}{i+1}' for i in range(10)]\n",
    "print(tenpages)"
   ]
  },
  {
   "cell_type": "code",
   "execution_count": 32,
   "metadata": {
    "tags": [
     "snippet:crawling"
    ]
   },
   "outputs": [
    {
     "name": "stdout",
     "output_type": "stream",
     "text": [
      "Retrieving all restaurants and their links...\n",
      "[('Pizzeria Roma', 'review0001.html'), ('Trattoria Napoli', 'review0002.html'), ('Curry King', 'review0003.html')]\n",
      "Processing reviews for Pizzeria Roma...\n",
      "Downloading and parsing review page http://cssbook.net/d/restaurants/review0001.html...\n",
      "No more pages found.\n",
      "Processing reviews for Trattoria Napoli...\n",
      "Downloading and parsing review page http://cssbook.net/d/restaurants/review0002.html...\n",
      "No more pages found.\n",
      "Processing reviews for Curry King...\n",
      "Downloading and parsing review page http://cssbook.net/d/restaurants/review0003.html...\n",
      "Found page with older reviews! I'll process that one next\n",
      "Downloading and parsing review page http://cssbook.net/d/restaurants/review0003-1.html...\n",
      "Found page with older reviews! I'll process that one next\n",
      "Downloading and parsing review page http://cssbook.net/d/restaurants/review0003-2.html...\n",
      "No more pages found.\n",
      "         username                      reviewtext  rating        restaurant\n",
      "0     gourmet2536  The best thing to do is orderi  7.0/10     Pizzeria Roma\n",
      "1        foodie12      The worst food I ever had!  1.0/10     Pizzeria Roma\n",
      "2    mrsdiningout  If nothing else is open, you c  6.5/10  Trattoria Napoli\n",
      "3        foodie12           Best Italian in town!  8.6/10  Trattoria Napoli\n",
      "4           smith                        Love it!  9.0/10        Curry King\n",
      "5        foodie12                         Superb!  9.2/10        Curry King\n",
      "6      dontlikeit   As expected, I didn't like it  4.0/10        Curry King\n",
      "7        otherguy          Try the yoghurt curry!  7.7/10        Curry King\n",
      "8           tasty  We went here for dinner once a  7.0/10        Curry King\n",
      "9            anna  I have mixed feeling about thi  6.2/10        Curry King\n",
      "10           hans                 Not much to say  5.0/10        Curry King\n",
      "11        bee1983                I am a huge fan!   10/10        Curry King\n",
      "12         rhebjf  The service is good, the food   6.5/10        Curry King\n",
      "13  foodcritic555          Once and never again!.  1.0/10        Curry King\n"
     ]
    }
   ],
   "source": [
    "import json\n",
    "import pandas as pd  # not really needed: we only use pandas to show you the scraped data\n",
    "from lxml.html import parse\n",
    "\n",
    "BASEURL = 'http://cssbook.net/d/restaurants/'\n",
    "\n",
    "def get_restaurants(url):\n",
    "    '''takes the URL of an overview page as input and returns a list of (restaurantname, link) tuples'''\n",
    "    tree = parse(url)\n",
    "    restaurants_names = [e.text.strip() for e in tree.xpath('//div[@class=\"restaurant\"]/h3')]\n",
    "    restaurants_links = [e.attrib['href'] for e in tree.xpath('//div[@class=\"restaurant\"]//a')]\n",
    "    return list(zip(restaurants_names, restaurants_links))\n",
    "   \n",
    "def get_reviews(url):\n",
    "    '''takes the URL of a page with reviews as input and yields reviews on it '''\n",
    "    while True:\n",
    "        print(f\"Downloading and parsing review page {url}...\")\n",
    "        tree = parse(url)\n",
    "        usernames = [e.text.strip() for e in tree.xpath('//div[@class=\"review\"]/h3')]\n",
    "        reviewtexts = [e.text.strip() for e in tree.xpath('//div[@class=\"review\"]/p')]\n",
    "        ratings = [e.text.strip() for e in tree.xpath('//div[@class=\"review\"]/div[@class=\"rating\"]')]\n",
    "        for u, rew, rat in zip(usernames, reviewtexts, ratings):\n",
    "            review = {}\n",
    "            review[\"username\"] = u.replace(\"wrote:\",\"\").strip()\n",
    "            review[\"reviewtext\"] = rew\n",
    "            review[\"rating\"] = rat\n",
    "            yield review\n",
    "        if len(tree.xpath('//span[@class=\"backbutton\"]')) > 0:\n",
    "            print(\"Found page with older reviews! I'll process that one next\")\n",
    "            url = BASEURL+tree.xpath('//span[@class=\"backbutton\"]/a')[0].attrib[\"href\"]\n",
    "        else:\n",
    "            print(\"No more pages found.\")\n",
    "            break\n",
    "        \n",
    "print(\"Retrieving all restaurants and their links...\")\n",
    "restaurantlinks = get_restaurants(BASEURL+'index.html')\n",
    "print(restaurantlinks)\n",
    "\n",
    "with open(\"reviews.json\", mode = 'w') as f:\n",
    "    for restaurant, link in restaurantlinks:\n",
    "        print(f\"Processing reviews for {restaurant}...\")\n",
    "        for r in get_reviews(BASEURL+link):\n",
    "            r['restaurant'] = restaurant\n",
    "            f.write(json.dumps(r))\n",
    "            f.write(\"\\n\")\n",
    "            \n",
    "# you do not need to use pandas -- just added for illustration purposes here\n",
    "# Note that we stored one JSON object per line instead of per file\n",
    "df = pd.read_json(\"reviews.json\", lines=True)\n",
    "df['reviewtext'] = df['reviewtext'].map(lambda x: x[:30]) # shorten for printing\n",
    "print(df)"
   ]
  },
  {
   "cell_type": "code",
   "execution_count": 24,
   "metadata": {},
   "outputs": [
    {
     "name": "stdout",
     "output_type": "stream",
     "text": [
      "         username                      rewiewtext  rating  restaurant\n",
      "0     gourmet2536  The best thing to do is orderi  7.0/10  Pizzeria R\n",
      "1        foodie12      The worst food I ever had!  1.0/10  Pizzeria R\n",
      "2    mrsdiningout  If nothing else is open, you c  6.5/10  Trattoria \n",
      "3        foodie12           Best Italian in town!  8.6/10  Trattoria \n",
      "4           smith                        Love it!  9.0/10  Curry King\n",
      "5        foodie12                         Superb!  9.2/10  Curry King\n",
      "6      dontlikeit   As expected, I didn't like it  4.0/10  Curry King\n",
      "7        otherguy          Try the yoghurt curry!  7.7/10  Curry King\n",
      "8           tasty  We went here for dinner once a  7.0/10  Curry King\n",
      "9            anna  I have mixed feeling about thi  6.2/10  Curry King\n",
      "10           hans                 Not much to say  5.0/10  Curry King\n",
      "11        bee1983                I am a huge fan!   10/10  Curry King\n",
      "12         rhebjf  The service is good, the food   6.5/10  Curry King\n",
      "13  foodcritic555          Once and never again!.  1.0/10  Curry King\n"
     ]
    }
   ],
   "source": [
    "df['rewiewtext'] = df['rewiewtext'].map(lambda x: x[:30])\n",
    "print(df)"
   ]
  },
  {
   "cell_type": "code",
   "execution_count": 30,
   "metadata": {},
   "outputs": [],
   "source": [
    "df.__repr__?"
   ]
  },
  {
   "cell_type": "code",
   "execution_count": 116,
   "metadata": {},
   "outputs": [
    {
     "data": {
      "text/plain": [
       "[<Element a at 0x7f924b85b458>,\n",
       " <Element a at 0x7f924b85b188>,\n",
       " <Element a at 0x7f924b85b4f8>]"
      ]
     },
     "execution_count": 116,
     "metadata": {},
     "output_type": "execute_result"
    }
   ],
   "source": [
    "x.xpath('//a')"
   ]
  }
 ],
 "metadata": {
  "celltoolbar": "Tags",
  "kernelspec": {
   "display_name": "Python 3",
   "language": "python",
   "name": "python3"
  },
  "language_info": {
   "codemirror_mode": {
    "name": "ipython",
    "version": 3
   },
   "file_extension": ".py",
   "mimetype": "text/x-python",
   "name": "python",
   "nbconvert_exporter": "python",
   "pygments_lexer": "ipython3",
   "version": "3.6.9"
  }
 },
 "nbformat": 4,
 "nbformat_minor": 2
}
