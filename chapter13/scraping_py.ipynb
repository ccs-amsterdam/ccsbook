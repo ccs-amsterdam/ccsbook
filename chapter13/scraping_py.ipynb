{
 "cells": [
  {
   "cell_type": "code",
   "execution_count": 70,
   "metadata": {
    "tags": [
     "snippet:htmlparse1"
    ]
   },
   "outputs": [
    {
     "name": "stdout",
     "output_type": "stream",
     "text": [
      "['Pizzeria Roma', 'Trattoria Napoli', 'Curry King']\n",
      "['Pizzeria Roma', 'Trattoria Napoli', 'Curry King']\n"
     ]
    }
   ],
   "source": [
    "from lxml.html import parse\n",
    "tree = lxml.html.parse('http://cssbook.net/d/restaurants/index.html')\n",
    "\n",
    "# get the restaurant names via XPATH \n",
    "print([e.text_content().strip() for e in tree.xpath('//h3')])\n",
    "\n",
    "# get the restaurant names via CSS Selector\n",
    "print([e.text_content().strip() for e in tree.getroot().cssselect('h3')])"
   ]
  },
  {
   "cell_type": "code",
   "execution_count": 69,
   "metadata": {
    "tags": [
     "snippet:htmlparse2"
    ]
   },
   "outputs": [
    {
     "name": "stdout",
     "output_type": "stream",
     "text": [
      "Appending \"/text()\" to the XPATH gives you exactly the text that is in the element itself, including line-breaks that happen to be in the source code:\n",
      "[' ', '\\n      ', '\\n      ', '\\n    ', ' ', '\\n      ', '\\n      ', '\\n    ', ' ', '\\n      ', '\\n      ', '\\n    ']\n",
      "\n",
      "Using the \"text\" property of the elements in the list of elements that are matched by the XPATH expression gives you the text of the elements themselves without the line breaks:\n",
      "[' ', ' ', ' ']\n",
      "\n",
      "Using the \"text_content()\" method instead returns the text of the element *and the text of its children*:\n",
      "['  Pizzeria Roma \\n       Here you can get ... ... \\n       Read the full review here\\n    ', '  Trattoria Napoli \\n       Another restaurant ... ... \\n       Read the full review here\\n    ', '  Curry King \\n       Some description. \\n       Read the full review here\\n    ']\n",
      "\n",
      "The same but using CSS Selectors (note the .getroot() method, because the selectors can only be applied to HTML elements, not to DOM trees):\n",
      "['  Pizzeria Roma \\n       Here you can get ... ... \\n       Read the full review here\\n    ', '  Trattoria Napoli \\n       Another restaurant ... ... \\n       Read the full review here\\n    ', '  Curry King \\n       Some description. \\n       Read the full review here\\n    ']\n"
     ]
    }
   ],
   "source": [
    "# three ways of extracting text\n",
    "print('Appending \"/text()\" to the XPATH gives you exactly the text that is in the element itself, including line-breaks that happen to be in the source code:' )\n",
    "print(tree.xpath('//div[@class=\"restaurant\"]/text()'))\n",
    "\n",
    "print('\\nUsing the \"text\" property of the elements in the list of elements that are matched by the XPATH expression gives you the text of the elements themselves without the line breaks:')\n",
    "print([e.text for e in tree.xpath('//div[@class=\"restaurant\"]')])\n",
    "\n",
    "print('\\nUsing the \"text_content()\" method instead returns the text of the element *and the text of its children*:')\n",
    "print([e.text_content() for e in tree.xpath('//div[@class=\"restaurant\"]')])\n",
    "\n",
    "print('\\nThe same but using CSS Selectors (note the .getroot() method, because the selectors can only be applied to HTML elements, not to DOM trees):')\n",
    "print([e.text_content() for e in tree.getroot().cssselect('.restaurant')])"
   ]
  },
  {
   "cell_type": "code",
   "execution_count": 78,
   "metadata": {
    "tags": [
     "snippet:htmlparse1useragent"
    ]
   },
   "outputs": [
    {
     "name": "stdout",
     "output_type": "stream",
     "text": [
      "['Pizzeria Roma', 'Trattoria Napoli', 'Curry King']\n"
     ]
    }
   ],
   "source": [
    "import requests\n",
    "from lxml.html import fromstring\n",
    "headers = {'User-Agent': 'Mozilla/5.0 (Windows NT 10.0; Win64; x64; rv:60.0) Gecko/20100101 Firefox/60.0'}\n",
    "\n",
    "htmlsource = requests.get('http://cssbook.net/d/restaurants/index.html', headers = headers).text\n",
    "tree = fromstring(htmlsource)\n",
    "print([e.text_content().strip() for e in tree.xpath('//h3')])"
   ]
  },
  {
   "cell_type": "code",
   "execution_count": 150,
   "metadata": {
    "tags": [
     "snippet:createurls"
    ]
   },
   "outputs": [
    {
     "name": "stdout",
     "output_type": "stream",
     "text": [
      "['http://myreviewsite.com/amsterdam/hotels.html?page=1', 'http://myreviewsite.com/amsterdam/hotels.html?page=2', 'http://myreviewsite.com/amsterdam/hotels.html?page=3', 'http://myreviewsite.com/amsterdam/hotels.html?page=4', 'http://myreviewsite.com/amsterdam/hotels.html?page=5', 'http://myreviewsite.com/amsterdam/hotels.html?page=6', 'http://myreviewsite.com/amsterdam/hotels.html?page=7', 'http://myreviewsite.com/amsterdam/hotels.html?page=8', 'http://myreviewsite.com/amsterdam/hotels.html?page=9', 'http://myreviewsite.com/amsterdam/hotels.html?page=10']\n"
     ]
    }
   ],
   "source": [
    "baseurl = 'http://myreviewsite.com/amsterdam/hotels.html?page='\n",
    "tenpages = [f'{baseurl}{i+1}' for i in range(10)]\n",
    "print(tenpages)"
   ]
  },
  {
   "cell_type": "code",
   "execution_count": 151,
   "metadata": {
    "tags": [
     "snippet:crawling"
    ]
   },
   "outputs": [
    {
     "name": "stdout",
     "output_type": "stream",
     "text": [
      "Retrieving all restaurants and their links...\n",
      "[('Pizzeria Roma', 'review0001.html'), ('Trattoria Napoli', 'review0002.html'), ('Curry King', 'review0003.html')]\n",
      "Processing reviews for Pizzeria Roma...\n",
      "Downloading and parsing review page http://cssbook.net/d/restaurants/review0001.html...\n",
      "Processing reviews for Trattoria Napoli...\n",
      "Downloading and parsing review page http://cssbook.net/d/restaurants/review0002.html...\n",
      "Processing reviews for Curry King...\n",
      "Downloading and parsing review page http://cssbook.net/d/restaurants/review0003.html...\n",
      "Found page with older reviews! I'll recursively call myself to parse that one as well!\n",
      "Downloading and parsing review page http://cssbook.net/d/restaurants/review0003-1.html...\n",
      "Found page with older reviews! I'll recursively call myself to parse that one as well!\n",
      "Downloading and parsing review page http://cssbook.net/d/restaurants/review0003-2.html...\n"
     ]
    },
    {
     "data": {
      "text/html": [
       "<div>\n",
       "<style scoped>\n",
       "    .dataframe tbody tr th:only-of-type {\n",
       "        vertical-align: middle;\n",
       "    }\n",
       "\n",
       "    .dataframe tbody tr th {\n",
       "        vertical-align: top;\n",
       "    }\n",
       "\n",
       "    .dataframe thead th {\n",
       "        text-align: right;\n",
       "    }\n",
       "</style>\n",
       "<table border=\"1\" class=\"dataframe\">\n",
       "  <thead>\n",
       "    <tr style=\"text-align: right;\">\n",
       "      <th></th>\n",
       "      <th>username</th>\n",
       "      <th>rewiewtext</th>\n",
       "      <th>rating</th>\n",
       "      <th>restaurant</th>\n",
       "    </tr>\n",
       "  </thead>\n",
       "  <tbody>\n",
       "    <tr>\n",
       "      <th>0</th>\n",
       "      <td>gourmet2536</td>\n",
       "      <td>The best thing to do is ordering a full menu, ...</td>\n",
       "      <td>7.0/10</td>\n",
       "      <td>Pizzeria Roma</td>\n",
       "    </tr>\n",
       "    <tr>\n",
       "      <th>1</th>\n",
       "      <td>foodie12</td>\n",
       "      <td>The worst food I ever had!</td>\n",
       "      <td>1.0/10</td>\n",
       "      <td>Pizzeria Roma</td>\n",
       "    </tr>\n",
       "    <tr>\n",
       "      <th>2</th>\n",
       "      <td>mrsdiningout</td>\n",
       "      <td>If nothing else is open, you can do it.</td>\n",
       "      <td>6.5/10</td>\n",
       "      <td>Trattoria Napoli</td>\n",
       "    </tr>\n",
       "    <tr>\n",
       "      <th>3</th>\n",
       "      <td>foodie12</td>\n",
       "      <td>Best Italian in town!</td>\n",
       "      <td>8.6/10</td>\n",
       "      <td>Trattoria Napoli</td>\n",
       "    </tr>\n",
       "    <tr>\n",
       "      <th>4</th>\n",
       "      <td>smith</td>\n",
       "      <td>Love it!</td>\n",
       "      <td>9.0/10</td>\n",
       "      <td>Curry King</td>\n",
       "    </tr>\n",
       "    <tr>\n",
       "      <th>5</th>\n",
       "      <td>foodie12</td>\n",
       "      <td>Superb!</td>\n",
       "      <td>9.2/10</td>\n",
       "      <td>Curry King</td>\n",
       "    </tr>\n",
       "    <tr>\n",
       "      <th>6</th>\n",
       "      <td>doesntlikeindianfood</td>\n",
       "      <td>As expected, I didn't like it</td>\n",
       "      <td>4.0/10</td>\n",
       "      <td>Curry King</td>\n",
       "    </tr>\n",
       "    <tr>\n",
       "      <th>7</th>\n",
       "      <td>someotherguy</td>\n",
       "      <td>Try the yoghurt curry!</td>\n",
       "      <td>7.7/10</td>\n",
       "      <td>Curry King</td>\n",
       "    </tr>\n",
       "    <tr>\n",
       "      <th>8</th>\n",
       "      <td>tasty</td>\n",
       "      <td>We went here for dinner once and</td>\n",
       "      <td>7.0/10</td>\n",
       "      <td>Curry King</td>\n",
       "    </tr>\n",
       "    <tr>\n",
       "      <th>9</th>\n",
       "      <td>anna</td>\n",
       "      <td>I have mixed feeling about this one.</td>\n",
       "      <td>6.2/10</td>\n",
       "      <td>Curry King</td>\n",
       "    </tr>\n",
       "    <tr>\n",
       "      <th>10</th>\n",
       "      <td>hans</td>\n",
       "      <td>Not much to say</td>\n",
       "      <td>5.0/10</td>\n",
       "      <td>Curry King</td>\n",
       "    </tr>\n",
       "    <tr>\n",
       "      <th>11</th>\n",
       "      <td>bee1983</td>\n",
       "      <td>I am a huge fan!</td>\n",
       "      <td>10/10</td>\n",
       "      <td>Curry King</td>\n",
       "    </tr>\n",
       "    <tr>\n",
       "      <th>12</th>\n",
       "      <td>rhebjf</td>\n",
       "      <td>The service is good, the food not so much</td>\n",
       "      <td>6.5/10</td>\n",
       "      <td>Curry King</td>\n",
       "    </tr>\n",
       "    <tr>\n",
       "      <th>13</th>\n",
       "      <td>foodcritic555</td>\n",
       "      <td>Once and never again!.</td>\n",
       "      <td>1.0/10</td>\n",
       "      <td>Curry King</td>\n",
       "    </tr>\n",
       "  </tbody>\n",
       "</table>\n",
       "</div>"
      ],
      "text/plain": [
       "                username                                         rewiewtext  rating        restaurant\n",
       "0            gourmet2536  The best thing to do is ordering a full menu, ...  7.0/10     Pizzeria Roma\n",
       "1               foodie12                         The worst food I ever had!  1.0/10     Pizzeria Roma\n",
       "2           mrsdiningout            If nothing else is open, you can do it.  6.5/10  Trattoria Napoli\n",
       "3               foodie12                              Best Italian in town!  8.6/10  Trattoria Napoli\n",
       "4                  smith                                           Love it!  9.0/10        Curry King\n",
       "5               foodie12                                            Superb!  9.2/10        Curry King\n",
       "6   doesntlikeindianfood                      As expected, I didn't like it  4.0/10        Curry King\n",
       "7           someotherguy                             Try the yoghurt curry!  7.7/10        Curry King\n",
       "8                  tasty                   We went here for dinner once and  7.0/10        Curry King\n",
       "9                   anna               I have mixed feeling about this one.  6.2/10        Curry King\n",
       "10                  hans                                    Not much to say  5.0/10        Curry King\n",
       "11               bee1983                                   I am a huge fan!   10/10        Curry King\n",
       "12                rhebjf          The service is good, the food not so much  6.5/10        Curry King\n",
       "13         foodcritic555                             Once and never again!.  1.0/10        Curry King"
      ]
     },
     "execution_count": 151,
     "metadata": {},
     "output_type": "execute_result"
    }
   ],
   "source": [
    "import json\n",
    "import pandas as pd  # not really needed: we only use pandas to show you the scraped data\n",
    "from lxml.html import parse\n",
    "\n",
    "BASEURL = 'http://cssbook.net/d/restaurants/'\n",
    "\n",
    "def get_restaurants(url):\n",
    "    '''takes the URL of an overview page as input and returns a list of (restaurantname, link) tuples'''\n",
    "    tree = parse(url)\n",
    "    restaurants_names = [e.text.strip() for e in tree.xpath('//div[@class=\"restaurant\"]/h3')]\n",
    "    restaurants_links = [e.attrib['href'] for e in tree.xpath('//div[@class=\"restaurant\"]//a')]\n",
    "    return list(zip(restaurants_names, restaurants_links))\n",
    "   \n",
    "def get_reviews(url):\n",
    "    '''takes the URL of a page with reviews as input and yields reviews on it '''\n",
    "    print(f\"Downloading and parsing review page {url}...\")\n",
    "    tree = parse(url)\n",
    "    usernames = [e.text.strip() for e in tree.xpath('//div[@class=\"review\"]/h3')]\n",
    "    reviewtexts = [e.text.strip() for e in tree.xpath('//div[@class=\"review\"]/p')]\n",
    "    ratings = [e.text.strip() for e in tree.xpath('//div[@class=\"review\"]/div[@class=\"rating\"]')]\n",
    "    for u, rew, rat in zip(usernames, reviewtexts, ratings):\n",
    "        review = {}\n",
    "        review[\"username\"] = u.replace(\"wrote:\",\"\").strip()\n",
    "        review[\"rewiewtext\"] = rew\n",
    "        review[\"rating\"] = rat\n",
    "        yield review\n",
    "    if len(tree.xpath('//span[@class=\"backbutton\"]')) > 0:\n",
    "        print(\"Found page with older reviews! I'll recursively call myself to parse that one as well!\")\n",
    "        nexturl = tree.xpath('//span[@class=\"backbutton\"]/a')[0].attrib[\"href\"]\n",
    "        for nextreview in get_reviews(BASEURL+nexturl):\n",
    "            yield nextreview\n",
    "        \n",
    "print(\"Retrieving all restaurants and their links...\")\n",
    "restaurantlinks = get_restaurants(BASEURL+'index.html')\n",
    "print(restaurantlinks)\n",
    "\n",
    "with open(\"reviews.json\", mode = 'w') as f:\n",
    "    for restaurant, link in restaurantlinks:\n",
    "        print(f\"Processing reviews for {restaurant}...\")\n",
    "        for r in get_reviews(BASEURL+link):\n",
    "            r['restaurant'] = restaurant\n",
    "            f.write(json.dumps(r))\n",
    "            f.write(\"\\n\")\n",
    "            \n",
    "# you do not need to use pandas -- just added for illustration purposes here\n",
    "# Note that we stored one JSON object per line instead of per file\n",
    "df = pd.read_json(\"reviews.json\", lines=True)\n",
    "df"
   ]
  },
  {
   "cell_type": "code",
   "execution_count": 144,
   "metadata": {},
   "outputs": [
    {
     "name": "stdout",
     "output_type": "stream",
     "text": [
      "{\"username\": \"smith\", \"rewiewtext\": \"Love it!\", \"rating\": \"9.0/10\", \"restaurant\": \"Curry King\"}\r\n",
      "{\"username\": \"foodie12\", \"rewiewtext\": \"Superb!\", \"rating\": \"9.2/10\", \"restaurant\": \"Curry King\"}\r\n",
      "{\"username\": \"doesntlikeindianfood\", \"rewiewtext\": \"As expected, I didn't like it\", \"rating\": \"4.0/10\", \"restaurant\": \"Curry King\"}\r\n",
      "{\"username\": \"someotherguy\", \"rewiewtext\": \"Try the yoghurt curry!\", \"rating\": \"7.7/10\", \"restaurant\": \"Curry King\"}\r\n",
      "{\"username\": \"tasty\", \"rewiewtext\": \"We went here for dinner once and\", \"rating\": \"7.0/10\", \"restaurant\": \"Curry King\"}\r\n",
      "{\"username\": \"anna\", \"rewiewtext\": \"I have mixed feeling about this one.\", \"rating\": \"6.2/10\", \"restaurant\": \"Curry King\"}\r\n",
      "{\"username\": \"hans\", \"rewiewtext\": \"Not much to say\", \"rating\": \"5.0/10\", \"restaurant\": \"Curry King\"}\r\n",
      "{\"username\": \"bee1983\", \"rewiewtext\": \"I am a huge fan!\", \"rating\": \"10/10\", \"restaurant\": \"Curry King\"}\r\n",
      "{\"username\": \"rhebjf\", \"rewiewtext\": \"The service is good, the food not so much\", \"rating\": \"6.5/10\", \"restaurant\": \"Curry King\"}\r\n",
      "{\"username\": \"foodcritic555\", \"rewiewtext\": \"Once and never again!.\", \"rating\": \"1.0/10\", \"restaurant\": \"Curry King\"}\r\n"
     ]
    }
   ],
   "source": [
    "%cat reviews.json"
   ]
  },
  {
   "cell_type": "code",
   "execution_count": 125,
   "metadata": {},
   "outputs": [
    {
     "data": {
      "text/plain": [
       "'review0001.html'"
      ]
     },
     "execution_count": 125,
     "metadata": {},
     "output_type": "execute_result"
    }
   ],
   "source": [
    "x.attrib['href']"
   ]
  },
  {
   "cell_type": "code",
   "execution_count": 116,
   "metadata": {},
   "outputs": [
    {
     "data": {
      "text/plain": [
       "[<Element a at 0x7f924b85b458>,\n",
       " <Element a at 0x7f924b85b188>,\n",
       " <Element a at 0x7f924b85b4f8>]"
      ]
     },
     "execution_count": 116,
     "metadata": {},
     "output_type": "execute_result"
    }
   ],
   "source": [
    "x.xpath('//a')"
   ]
  }
 ],
 "metadata": {
  "celltoolbar": "Tags",
  "kernelspec": {
   "display_name": "Python 3",
   "language": "python",
   "name": "python3"
  },
  "language_info": {
   "codemirror_mode": {
    "name": "ipython",
    "version": 3
   },
   "file_extension": ".py",
   "mimetype": "text/x-python",
   "name": "python",
   "nbconvert_exporter": "python",
   "pygments_lexer": "ipython3",
   "version": "3.6.9"
  }
 },
 "nbformat": 4,
 "nbformat_minor": 2
}
