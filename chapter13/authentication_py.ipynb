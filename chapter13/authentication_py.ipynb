{
 "cells": [
  {
   "cell_type": "code",
   "execution_count": 1,
   "metadata": {},
   "outputs": [],
   "source": []
  },
  {
   "cell_type": "code",
   "execution_count": null,
   "metadata": {},
   "outputs": [],
   "source": []
  },
  {
   "cell_type": "code",
   "execution_count": null,
   "metadata": {},
   "outputs": [],
   "source": []
  },
  {
   "cell_type": "code",
   "execution_count": null,
   "metadata": {},
   "outputs": [],
   "source": []
  },
  {
   "cell_type": "code",
   "execution_count": 19,
   "metadata": {},
   "outputs": [],
   "source": [
    "requests.get?"
   ]
  },
  {
   "cell_type": "code",
   "execution_count": 21,
   "metadata": {
    "tags": [
     "snippet:textrazor"
    ]
   },
   "outputs": [
    {
     "data": {
      "text/plain": [
       "{'ok': True,\n",
       " 'response': {'planDailyRequestsIncluded': 15000,\n",
       "  'requestsUsedToday': 10734,\n",
       "  'plan': 'TR_FRIEND',\n",
       "  'concurrentRequestLimit': 2,\n",
       "  'concurrentRequestsUsed': 1}}"
      ]
     },
     "execution_count": 21,
     "metadata": {},
     "output_type": "execute_result"
    }
   ],
   "source": [
    "import requests\n",
    "\n",
    "requests.get(\"https://api.textrazor.com/account/\", \n",
    "             headers = {'x-textrazor-key': \"MYSECRETKEY\"}).json()"
   ]
  },
  {
   "cell_type": "code",
   "execution_count": 17,
   "metadata": {
    "tags": [
     "snippet:oauth"
    ]
   },
   "outputs": [
    {
     "name": "stdout",
     "output_type": "stream",
     "text": [
      "Please go here and authorize https://github.com/login/oauth/authorize?response_type=code&client_id=7c6512b09d5d959e7e98&state=PhnJsMAriYzTgkRF1oe1ATnTgs6VkI\n",
      "Paste the full redirect URL here:https://ccsbook.net/?code=509d0fd7fc9aa429b1a9&state=PhnJsMAriYzTgkRF1oe1ATnTgs6VkI\n",
      "b'{\"login\":\"damian0604\",\"id\":5979167,\"node_id\":\"MDQ6VXNlcjU5NzkxNjc=\",\"avatar_url\":\"https://avatars0.githubusercontent.com/u/5979167?v=4\",\"gravatar_id\":\"\",\"url\":\"https://api.github.com/users/damian0604\",\"html_url\":\"https://github.com/damian0604\",\"followers_url\":\"https://api.github.com/users/damian0604/followers\",\"following_url\":\"https://api.github.com/users/damian0604/following{/other_user}\",\"gists_url\":\"https://api.github.com/users/damian0604/gists{/gist_id}\",\"starred_url\":\"https://api.github.com/users/damian0604/starred{/owner}{/repo}\",\"subscriptions_url\":\"https://api.github.com/users/damian0604/subscriptions\",\"organizations_url\":\"https://api.github.com/users/damian0604/orgs\",\"repos_url\":\"https://api.github.com/users/damian0604/repos\",\"events_url\":\"https://api.github.com/users/damian0604/events{/privacy}\",\"received_events_url\":\"https://api.github.com/users/damian0604/received_events\",\"type\":\"User\",\"site_admin\":false,\"name\":null,\"company\":null,\"blog\":\"\",\"location\":null,\"email\":null,\"hireable\":null,\"bio\":null,\"twitter_username\":null,\"public_repos\":10,\"public_gists\":0,\"followers\":42,\"following\":13,\"created_at\":\"2013-11-19T10:59:43Z\",\"updated_at\":\"2020-07-08T11:41:29Z\"}'\n"
     ]
    }
   ],
   "source": [
    "from requests_oauthlib import OAuth2Session\n",
    "\n",
    "client_id = 'XXXX'\n",
    "client_secret = 'XXX'\n",
    "\n",
    "authorization_base_url = 'https://github.com/login/oauth/authorize'\n",
    "token_url = 'https://github.com/login/oauth/access_token'\n",
    "\n",
    "github = OAuth2Session(client_id)\n",
    "\n",
    "authorization_url, state = github.authorization_url(authorization_base_url)\n",
    "print (f'Please go here and authorize {authorization_url}')\n",
    "\n",
    "# Get the authorization verifier code from the callback url\n",
    "redirect_response = input('Paste the full redirect URL here:')\n",
    "\n",
    "# Fetch the access token\n",
    "github.fetch_token(token_url, client_secret=client_secret,\n",
    "                   authorization_response=redirect_response)\n",
    "\n",
    "r = github.get('https://api.github.com/user')\n",
    "print(r.content)"
   ]
  }
 ],
 "metadata": {
  "celltoolbar": "Tags",
  "kernelspec": {
   "display_name": "Python 3",
   "language": "python",
   "name": "python3"
  },
  "language_info": {
   "codemirror_mode": {
    "name": "ipython",
    "version": 3
   },
   "file_extension": ".py",
   "mimetype": "text/x-python",
   "name": "python",
   "nbconvert_exporter": "python",
   "pygments_lexer": "ipython3",
   "version": "3.8.5"
  }
 },
 "nbformat": 4,
 "nbformat_minor": 2
}
