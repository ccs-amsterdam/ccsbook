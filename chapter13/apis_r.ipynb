{
 "cells": [
  {
   "cell_type": "code",
   "execution_count": 1,
   "metadata": {},
   "outputs": [],
   "source": [
    "# check also https://www.programmableweb.com/news/how-to-access-any-restful-api-using-r-language/how-to/2017/07/21?page=2"
   ]
  },
  {
   "cell_type": "code",
   "execution_count": 2,
   "metadata": {
    "tags": [
     "snippet:googleapi1"
    ]
   },
   "outputs": [
    {
     "name": "stderr",
     "output_type": "stream",
     "text": [
      "Loading required package: httr\n",
      "\n",
      "Loading required package: jsonlite\n",
      "\n"
     ]
    },
    {
     "name": "stdout",
     "output_type": "stream",
     "text": [
      "Response [https://www.googleapis.com/books/v1/volumes?q=python]\n",
      "  Date: 2020-03-28 21:38\n",
      "  Status: 200\n",
      "  Content-Type: application/json; charset=UTF-8\n",
      "  Size: 34.2 kB\n",
      "{\n",
      " \"kind\": \"books#volumes\",\n",
      " \"totalItems\": 462,\n",
      " \"items\": [\n",
      "  {\n",
      "   \"kind\": \"books#volume\",\n",
      "   \"id\": \"h56ansk4SyQC\",\n",
      "   \"etag\": \"eaypCXf0zmk\",\n",
      "   \"selfLink\": \"https://www.googleapis.com/books/v1/volumes/h56ansk4SyQC\",\n",
      "   \"volumeInfo\": {\n",
      "...\n"
     ]
    }
   ],
   "source": [
    "require('httr')\n",
    "require('jsonlite')\n",
    "r = GET(\"https://www.googleapis.com/books/v1/volumes?q=python\")\n",
    "print(r)"
   ]
  },
  {
   "cell_type": "code",
   "execution_count": 3,
   "metadata": {
    "scrolled": true,
    "tags": [
     "snippet:googleapi2"
    ]
   },
   "outputs": [],
   "source": [
    "r_text <- content(r, \"text\")\n",
    "data_json <- jsonlite::fromJSON(r_text, flatten = TRUE)\n",
    "d = as.data.frame(data_json)"
   ]
  },
  {
   "cell_type": "code",
   "execution_count": 4,
   "metadata": {
    "tags": [
     "snippet:googleapi3"
    ]
   },
   "outputs": [
    {
     "name": "stderr",
     "output_type": "stream",
     "text": [
      "Loading required package: glue\n",
      "\n"
     ]
    }
   ],
   "source": [
    "require('httr')\n",
    "require('jsonlite')\n",
    "require(glue)\n",
    "library(data.table)\n",
    "\n",
    "i = 0\n",
    "j = 1\n",
    "\n",
    "alldata = list()\n",
    "while (TRUE) {\n",
    "    r = GET(glue(\"https://www.googleapis.com/books/v1/volumes?q=python&maxResults=40&startIndex={i}\"))\n",
    "    r_text <- content(r, \"text\")\n",
    "    data_json <- jsonlite::fromJSON(r_text, flatten = TRUE)\n",
    "    if (length(data_json$items)==0) {break}\n",
    "    alldata[[j]] = as.data.frame(data_json)\n",
    "    i = i + 40\n",
    "    j = j + 1} \n",
    "\n",
    "d = rbindlist(alldata, fill=TRUE)"
   ]
  }
 ],
 "metadata": {
  "celltoolbar": "Tags",
  "kernelspec": {
   "display_name": "R",
   "language": "R",
   "name": "ir"
  },
  "language_info": {
   "codemirror_mode": "r",
   "file_extension": ".r",
   "mimetype": "text/x-r-source",
   "name": "R",
   "pygments_lexer": "r",
   "version": "3.6.3"
  }
 },
 "nbformat": 4,
 "nbformat_minor": 2
}
