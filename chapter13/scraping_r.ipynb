{
 "cells": [
  {
   "cell_type": "code",
   "execution_count": 3,
   "metadata": {
    "tags": [
     "snippet:htmlparse1"
    ]
   },
   "outputs": [
    {
     "name": "stderr",
     "output_type": "stream",
     "text": [
      "Loading required package: xml2\n",
      "\n",
      "Warning message:\n",
      "“'html' is deprecated.\n",
      "Use 'xml2::read_html' instead.\n",
      "See help(\"Deprecated\")”\n"
     ]
    },
    {
     "data": {
      "text/html": [
       "<ol class=list-inline>\n",
       "\t<li>' Pizzeria Roma '</li>\n",
       "\t<li>' Trattoria Napoli '</li>\n",
       "\t<li>' Curry King '</li>\n",
       "</ol>\n"
      ],
      "text/latex": [
       "\\begin{enumerate*}\n",
       "\\item ' Pizzeria Roma '\n",
       "\\item ' Trattoria Napoli '\n",
       "\\item ' Curry King '\n",
       "\\end{enumerate*}\n"
      ],
      "text/markdown": [
       "1. ' Pizzeria Roma '\n",
       "2. ' Trattoria Napoli '\n",
       "3. ' Curry King '\n",
       "\n",
       "\n"
      ],
      "text/plain": [
       "[1] \" Pizzeria Roma \"    \" Trattoria Napoli \" \" Curry King \"      "
      ]
     },
     "metadata": {},
     "output_type": "display_data"
    },
    {
     "data": {
      "text/html": [
       "<ol class=list-inline>\n",
       "\t<li>' Pizzeria Roma '</li>\n",
       "\t<li>' Trattoria Napoli '</li>\n",
       "\t<li>' Curry King '</li>\n",
       "</ol>\n"
      ],
      "text/latex": [
       "\\begin{enumerate*}\n",
       "\\item ' Pizzeria Roma '\n",
       "\\item ' Trattoria Napoli '\n",
       "\\item ' Curry King '\n",
       "\\end{enumerate*}\n"
      ],
      "text/markdown": [
       "1. ' Pizzeria Roma '\n",
       "2. ' Trattoria Napoli '\n",
       "3. ' Curry King '\n",
       "\n",
       "\n"
      ],
      "text/plain": [
       "[1] \" Pizzeria Roma \"    \" Trattoria Napoli \" \" Curry King \"      "
      ]
     },
     "metadata": {},
     "output_type": "display_data"
    }
   ],
   "source": [
    "library(rvest)\n",
    "page = html('http://cssbook.net/d/restaurants/index.html')\n",
    "\n",
    "# get the restaurant names via XPATH\n",
    "page %>% html_nodes(xpath=\"//h3\") %>% html_text() \n",
    "\n",
    "# get the restaurant names via CSS Selector\n",
    "page %>% html_nodes(\"h3\") %>% html_text() "
   ]
  },
  {
   "cell_type": "code",
   "execution_count": 17,
   "metadata": {
    "tags": [
     "snippet:htmlparse2"
    ]
   },
   "outputs": [
    {
     "name": "stderr",
     "output_type": "stream",
     "text": [
      "Warning message:\n",
      "“'html' is deprecated.\n",
      "Use 'xml2::read_html' instead.\n",
      "See help(\"Deprecated\")”\n"
     ]
    },
    {
     "data": {
      "text/html": [
       "'Appending \"/text()\" to the XPATH gives you exactly the text that is in the element itself, including line-breaks that happen to be in the source code:'"
      ],
      "text/latex": [
       "'Appending \"/text()\" to the XPATH gives you exactly the text that is in the element itself, including line-breaks that happen to be in the source code:'"
      ],
      "text/markdown": [
       "'Appending \"/text()\" to the XPATH gives you exactly the text that is in the element itself, including line-breaks that happen to be in the source code:'"
      ],
      "text/plain": [
       "Appending \"/text()\" to the XPATH gives you exactly the text that is in the element itself, including line-breaks that happen to be in the source code:"
      ]
     },
     "metadata": {},
     "output_type": "display_data"
    },
    {
     "data": {
      "text/plain": [
       "{xml_nodeset (12)}\n",
       " [1]  \n",
       " [2] \\n      \n",
       " [3] \\n      \n",
       " [4] \\n    \n",
       " [5]  \n",
       " [6] \\n      \n",
       " [7] \\n      \n",
       " [8] \\n    \n",
       " [9]  \n",
       "[10] \\n      \n",
       "[11] \\n      \n",
       "[12] \\n    "
      ]
     },
     "metadata": {},
     "output_type": "display_data"
    },
    {
     "data": {
      "text/html": [
       "'Using the \"html_text\" function instead returns the text of the element *and the text of its children*:'"
      ],
      "text/latex": [
       "'Using the \"html\\_text\" function instead returns the text of the element *and the text of its children*:'"
      ],
      "text/markdown": [
       "'Using the \"html_text\" function instead returns the text of the element *and the text of its children*:'"
      ],
      "text/plain": [
       "Using the \"html_text\" function instead returns the text of the element *and the text of its children*:"
      ]
     },
     "metadata": {},
     "output_type": "display_data"
    },
    {
     "data": {
      "text/html": [
       "<ol class=list-inline>\n",
       "\t<li><span style=white-space:pre-wrap>'  Pizzeria Roma \\n       Here you can get ... ... \\n       Read the full review here\\n    '</span></li>\n",
       "\t<li><span style=white-space:pre-wrap>'  Trattoria Napoli \\n       Another restaurant ... ... \\n       Read the full review here\\n    '</span></li>\n",
       "\t<li><span style=white-space:pre-wrap>'  Curry King \\n       Some description. \\n       Read the full review here\\n    '</span></li>\n",
       "</ol>\n"
      ],
      "text/latex": [
       "\\begin{enumerate*}\n",
       "\\item '  Pizzeria Roma \\textbackslash{}n       Here you can get ... ... \\textbackslash{}n       Read the full review here\\textbackslash{}n    '\n",
       "\\item '  Trattoria Napoli \\textbackslash{}n       Another restaurant ... ... \\textbackslash{}n       Read the full review here\\textbackslash{}n    '\n",
       "\\item '  Curry King \\textbackslash{}n       Some description. \\textbackslash{}n       Read the full review here\\textbackslash{}n    '\n",
       "\\end{enumerate*}\n"
      ],
      "text/markdown": [
       "1. <span style=white-space:pre-wrap>'  Pizzeria Roma \\n       Here you can get ... ... \\n       Read the full review here\\n    '</span>\n",
       "2. <span style=white-space:pre-wrap>'  Trattoria Napoli \\n       Another restaurant ... ... \\n       Read the full review here\\n    '</span>\n",
       "3. <span style=white-space:pre-wrap>'  Curry King \\n       Some description. \\n       Read the full review here\\n    '</span>\n",
       "\n",
       "\n"
      ],
      "text/plain": [
       "[1] \"  Pizzeria Roma \\n       Here you can get ... ... \\n       Read the full review here\\n    \"     \n",
       "[2] \"  Trattoria Napoli \\n       Another restaurant ... ... \\n       Read the full review here\\n    \"\n",
       "[3] \"  Curry King \\n       Some description. \\n       Read the full review here\\n    \"               "
      ]
     },
     "metadata": {},
     "output_type": "display_data"
    },
    {
     "data": {
      "text/html": [
       "'The same but using CSS Selectors:'"
      ],
      "text/latex": [
       "'The same but using CSS Selectors:'"
      ],
      "text/markdown": [
       "'The same but using CSS Selectors:'"
      ],
      "text/plain": [
       "The same but using CSS Selectors:"
      ]
     },
     "metadata": {},
     "output_type": "display_data"
    },
    {
     "data": {
      "text/html": [
       "<ol class=list-inline>\n",
       "\t<li><span style=white-space:pre-wrap>'  Pizzeria Roma \\n       Here you can get ... ... \\n       Read the full review here\\n    '</span></li>\n",
       "\t<li><span style=white-space:pre-wrap>'  Trattoria Napoli \\n       Another restaurant ... ... \\n       Read the full review here\\n    '</span></li>\n",
       "\t<li><span style=white-space:pre-wrap>'  Curry King \\n       Some description. \\n       Read the full review here\\n    '</span></li>\n",
       "</ol>\n"
      ],
      "text/latex": [
       "\\begin{enumerate*}\n",
       "\\item '  Pizzeria Roma \\textbackslash{}n       Here you can get ... ... \\textbackslash{}n       Read the full review here\\textbackslash{}n    '\n",
       "\\item '  Trattoria Napoli \\textbackslash{}n       Another restaurant ... ... \\textbackslash{}n       Read the full review here\\textbackslash{}n    '\n",
       "\\item '  Curry King \\textbackslash{}n       Some description. \\textbackslash{}n       Read the full review here\\textbackslash{}n    '\n",
       "\\end{enumerate*}\n"
      ],
      "text/markdown": [
       "1. <span style=white-space:pre-wrap>'  Pizzeria Roma \\n       Here you can get ... ... \\n       Read the full review here\\n    '</span>\n",
       "2. <span style=white-space:pre-wrap>'  Trattoria Napoli \\n       Another restaurant ... ... \\n       Read the full review here\\n    '</span>\n",
       "3. <span style=white-space:pre-wrap>'  Curry King \\n       Some description. \\n       Read the full review here\\n    '</span>\n",
       "\n",
       "\n"
      ],
      "text/plain": [
       "[1] \"  Pizzeria Roma \\n       Here you can get ... ... \\n       Read the full review here\\n    \"     \n",
       "[2] \"  Trattoria Napoli \\n       Another restaurant ... ... \\n       Read the full review here\\n    \"\n",
       "[3] \"  Curry King \\n       Some description. \\n       Read the full review here\\n    \"               "
      ]
     },
     "metadata": {},
     "output_type": "display_data"
    }
   ],
   "source": [
    "library(rvest)\n",
    "library(glue)\n",
    "page = html('http://cssbook.net/d/restaurants/index.html')\n",
    "\n",
    "glue('Appending \"/text()\" to the XPATH gives you exactly the text that is in the element itself, including line-breaks that happen to be in the source code:' )\n",
    "page %>% html_nodes(xpath = '//div[@class=\"restaurant\"]/text()') \n",
    "\n",
    "glue('\\nUsing the \"html_text\" function instead returns the text of the element *and the text of its children*:')\n",
    "page %>% html_nodes(xpath = '//div[@class=\"restaurant\"]') %>% html_text() \n",
    "\n",
    "glue('\\nThe same but using CSS Selectors:')\n",
    "page %>% html_nodes('.restaurant') %>% html_text() \n"
   ]
  },
  {
   "cell_type": "code",
   "execution_count": 20,
   "metadata": {
    "tags": [
     "snippet:htmlparse3"
    ]
   },
   "outputs": [
    {
     "data": {
      "text/html": [
       "<ol class=list-inline>\n",
       "\t<li>'here'</li>\n",
       "\t<li>'here'</li>\n",
       "\t<li>'here'</li>\n",
       "</ol>\n"
      ],
      "text/latex": [
       "\\begin{enumerate*}\n",
       "\\item 'here'\n",
       "\\item 'here'\n",
       "\\item 'here'\n",
       "\\end{enumerate*}\n"
      ],
      "text/markdown": [
       "1. 'here'\n",
       "2. 'here'\n",
       "3. 'here'\n",
       "\n",
       "\n"
      ],
      "text/plain": [
       "[1] \"here\" \"here\" \"here\""
      ]
     },
     "metadata": {},
     "output_type": "display_data"
    },
    {
     "data": {
      "text/html": [
       "<ol class=list-inline>\n",
       "\t<li>'review0001.html'</li>\n",
       "\t<li>'review0002.html'</li>\n",
       "\t<li>'review0003.html'</li>\n",
       "</ol>\n"
      ],
      "text/latex": [
       "\\begin{enumerate*}\n",
       "\\item 'review0001.html'\n",
       "\\item 'review0002.html'\n",
       "\\item 'review0003.html'\n",
       "\\end{enumerate*}\n"
      ],
      "text/markdown": [
       "1. 'review0001.html'\n",
       "2. 'review0002.html'\n",
       "3. 'review0003.html'\n",
       "\n",
       "\n"
      ],
      "text/plain": [
       "[1] \"review0001.html\" \"review0002.html\" \"review0003.html\""
      ]
     },
     "metadata": {},
     "output_type": "display_data"
    }
   ],
   "source": [
    "page %>% html_nodes(xpath=\"//a\") %>% html_text() \n",
    "page %>% html_nodes(xpath=\"//a\") %>% html_attr(\"href\")\n"
   ]
  },
  {
   "cell_type": "code",
   "execution_count": 12,
   "metadata": {},
   "outputs": [],
   "source": [
    "?html_attrs"
   ]
  },
  {
   "cell_type": "code",
   "execution_count": 58,
   "metadata": {
    "tags": [
     "snippet:htmlparse1useragent"
    ]
   },
   "outputs": [
    {
     "name": "stderr",
     "output_type": "stream",
     "text": [
      "Warning message:\n",
      "“'html' is deprecated.\n",
      "Use 'xml2::read_html' instead.\n",
      "See help(\"Deprecated\")”\n"
     ]
    },
    {
     "data": {
      "text/html": [
       "<ol class=list-inline>\n",
       "\t<li>' Pizzeria Roma '</li>\n",
       "\t<li>' Trattoria Napoli '</li>\n",
       "\t<li>' Curry King '</li>\n",
       "</ol>\n"
      ],
      "text/latex": [
       "\\begin{enumerate*}\n",
       "\\item ' Pizzeria Roma '\n",
       "\\item ' Trattoria Napoli '\n",
       "\\item ' Curry King '\n",
       "\\end{enumerate*}\n"
      ],
      "text/markdown": [
       "1. ' Pizzeria Roma '\n",
       "2. ' Trattoria Napoli '\n",
       "3. ' Curry King '\n",
       "\n",
       "\n"
      ],
      "text/plain": [
       "[1] \" Pizzeria Roma \"    \" Trattoria Napoli \" \" Curry King \"      "
      ]
     },
     "metadata": {},
     "output_type": "display_data"
    }
   ],
   "source": [
    "library(rvest)\n",
    "library(httr)\n",
    "r <- GET(\"http://cssbook.net/d/restaurants/index.html\", user_agent = 'Mozilla/5.0 (Windows NT 10.0; Win64; x64; rv:60.0) Gecko/20100101 Firefox/60.0')\n",
    "page = html(r)\n",
    "page %>% html_nodes(xpath=\"//h3\") %>% html_text() \n"
   ]
  },
  {
   "cell_type": "code",
   "execution_count": 66,
   "metadata": {
    "tags": [
     "snippet:createurls"
    ]
   },
   "outputs": [
    {
     "name": "stdout",
     "output_type": "stream",
     "text": [
      " [1] \"http://myreviewsite.com/amsterdam/hotels.html?page=1\" \n",
      " [2] \"http://myreviewsite.com/amsterdam/hotels.html?page=2\" \n",
      " [3] \"http://myreviewsite.com/amsterdam/hotels.html?page=3\" \n",
      " [4] \"http://myreviewsite.com/amsterdam/hotels.html?page=4\" \n",
      " [5] \"http://myreviewsite.com/amsterdam/hotels.html?page=5\" \n",
      " [6] \"http://myreviewsite.com/amsterdam/hotels.html?page=6\" \n",
      " [7] \"http://myreviewsite.com/amsterdam/hotels.html?page=7\" \n",
      " [8] \"http://myreviewsite.com/amsterdam/hotels.html?page=8\" \n",
      " [9] \"http://myreviewsite.com/amsterdam/hotels.html?page=9\" \n",
      "[10] \"http://myreviewsite.com/amsterdam/hotels.html?page=10\"\n"
     ]
    }
   ],
   "source": [
    "library(glue)\n",
    "baseurl = 'http://myreviewsite.com/amsterdam/hotels.html?page='\n",
    "tenpages = c()\n",
    "for(i in 1:10){\n",
    "    tenpages[i] = glue(\"{baseurl}{i}\")\n",
    "}\n",
    "print(tenpages)"
   ]
  }
 ],
 "metadata": {
  "celltoolbar": "Tags",
  "kernelspec": {
   "display_name": "R",
   "language": "R",
   "name": "ir"
  },
  "language_info": {
   "codemirror_mode": "r",
   "file_extension": ".r",
   "mimetype": "text/x-r-source",
   "name": "R",
   "pygments_lexer": "r",
   "version": "3.6.3"
  }
 },
 "nbformat": 4,
 "nbformat_minor": 2
}
