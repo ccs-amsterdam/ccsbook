{
 "cells": [
  {
   "cell_type": "code",
   "execution_count": 57,
   "metadata": {
    "tags": [
     "snippet:htmlparse1"
    ]
   },
   "outputs": [
    {
     "name": "stderr",
     "output_type": "stream",
     "text": [
      "Warning message:\n",
      "“'html' is deprecated.\n",
      "Use 'xml2::read_html' instead.\n",
      "See help(\"Deprecated\")”\n"
     ]
    },
    {
     "data": {
      "text/html": [
       "<ol class=list-inline>\n",
       "\t<li>' Pizzeria Roma '</li>\n",
       "\t<li>' Trattoria Napoli '</li>\n",
       "\t<li>' Curry King '</li>\n",
       "</ol>\n"
      ],
      "text/latex": [
       "\\begin{enumerate*}\n",
       "\\item ' Pizzeria Roma '\n",
       "\\item ' Trattoria Napoli '\n",
       "\\item ' Curry King '\n",
       "\\end{enumerate*}\n"
      ],
      "text/markdown": [
       "1. ' Pizzeria Roma '\n",
       "2. ' Trattoria Napoli '\n",
       "3. ' Curry King '\n",
       "\n",
       "\n"
      ],
      "text/plain": [
       "[1] \" Pizzeria Roma \"    \" Trattoria Napoli \" \" Curry King \"      "
      ]
     },
     "metadata": {},
     "output_type": "display_data"
    },
    {
     "data": {
      "text/html": [
       "<ol class=list-inline>\n",
       "\t<li>' Pizzeria Roma '</li>\n",
       "\t<li>' Trattoria Napoli '</li>\n",
       "\t<li>' Curry King '</li>\n",
       "</ol>\n"
      ],
      "text/latex": [
       "\\begin{enumerate*}\n",
       "\\item ' Pizzeria Roma '\n",
       "\\item ' Trattoria Napoli '\n",
       "\\item ' Curry King '\n",
       "\\end{enumerate*}\n"
      ],
      "text/markdown": [
       "1. ' Pizzeria Roma '\n",
       "2. ' Trattoria Napoli '\n",
       "3. ' Curry King '\n",
       "\n",
       "\n"
      ],
      "text/plain": [
       "[1] \" Pizzeria Roma \"    \" Trattoria Napoli \" \" Curry King \"      "
      ]
     },
     "metadata": {},
     "output_type": "display_data"
    }
   ],
   "source": [
    "library(rvest)\n",
    "page = html('http://cssbook.net/d/restaurants/index.html')\n",
    "\n",
    "# get the restaurant names via XPATH\n",
    "page %>% html_nodes(xpath=\"//h3\") %>% html_text() \n",
    "\n",
    "# get the restaurant names via CSS Selector\n",
    "page %>% html_nodes(\"h3\") %>% html_text() "
   ]
  },
  {
   "cell_type": "code",
   "execution_count": 17,
   "metadata": {
    "tags": [
     "snippet:htmlparse2"
    ]
   },
   "outputs": [
    {
     "name": "stderr",
     "output_type": "stream",
     "text": [
      "Warning message:\n",
      "“'html' is deprecated.\n",
      "Use 'xml2::read_html' instead.\n",
      "See help(\"Deprecated\")”\n"
     ]
    },
    {
     "data": {
      "text/html": [
       "'Appending \"/text()\" to the XPATH gives you exactly the text that is in the element itself, including line-breaks that happen to be in the source code:'"
      ],
      "text/latex": [
       "'Appending \"/text()\" to the XPATH gives you exactly the text that is in the element itself, including line-breaks that happen to be in the source code:'"
      ],
      "text/markdown": [
       "'Appending \"/text()\" to the XPATH gives you exactly the text that is in the element itself, including line-breaks that happen to be in the source code:'"
      ],
      "text/plain": [
       "Appending \"/text()\" to the XPATH gives you exactly the text that is in the element itself, including line-breaks that happen to be in the source code:"
      ]
     },
     "metadata": {},
     "output_type": "display_data"
    },
    {
     "data": {
      "text/plain": [
       "{xml_nodeset (12)}\n",
       " [1]  \n",
       " [2] \\n      \n",
       " [3] \\n      \n",
       " [4] \\n    \n",
       " [5]  \n",
       " [6] \\n      \n",
       " [7] \\n      \n",
       " [8] \\n    \n",
       " [9]  \n",
       "[10] \\n      \n",
       "[11] \\n      \n",
       "[12] \\n    "
      ]
     },
     "metadata": {},
     "output_type": "display_data"
    },
    {
     "data": {
      "text/html": [
       "'Using the \"html_text\" function instead returns the text of the element *and the text of its children*:'"
      ],
      "text/latex": [
       "'Using the \"html\\_text\" function instead returns the text of the element *and the text of its children*:'"
      ],
      "text/markdown": [
       "'Using the \"html_text\" function instead returns the text of the element *and the text of its children*:'"
      ],
      "text/plain": [
       "Using the \"html_text\" function instead returns the text of the element *and the text of its children*:"
      ]
     },
     "metadata": {},
     "output_type": "display_data"
    },
    {
     "data": {
      "text/html": [
       "<ol class=list-inline>\n",
       "\t<li><span style=white-space:pre-wrap>'  Pizzeria Roma \\n       Here you can get ... ... \\n       Read the full review here\\n    '</span></li>\n",
       "\t<li><span style=white-space:pre-wrap>'  Trattoria Napoli \\n       Another restaurant ... ... \\n       Read the full review here\\n    '</span></li>\n",
       "\t<li><span style=white-space:pre-wrap>'  Curry King \\n       Some description. \\n       Read the full review here\\n    '</span></li>\n",
       "</ol>\n"
      ],
      "text/latex": [
       "\\begin{enumerate*}\n",
       "\\item '  Pizzeria Roma \\textbackslash{}n       Here you can get ... ... \\textbackslash{}n       Read the full review here\\textbackslash{}n    '\n",
       "\\item '  Trattoria Napoli \\textbackslash{}n       Another restaurant ... ... \\textbackslash{}n       Read the full review here\\textbackslash{}n    '\n",
       "\\item '  Curry King \\textbackslash{}n       Some description. \\textbackslash{}n       Read the full review here\\textbackslash{}n    '\n",
       "\\end{enumerate*}\n"
      ],
      "text/markdown": [
       "1. <span style=white-space:pre-wrap>'  Pizzeria Roma \\n       Here you can get ... ... \\n       Read the full review here\\n    '</span>\n",
       "2. <span style=white-space:pre-wrap>'  Trattoria Napoli \\n       Another restaurant ... ... \\n       Read the full review here\\n    '</span>\n",
       "3. <span style=white-space:pre-wrap>'  Curry King \\n       Some description. \\n       Read the full review here\\n    '</span>\n",
       "\n",
       "\n"
      ],
      "text/plain": [
       "[1] \"  Pizzeria Roma \\n       Here you can get ... ... \\n       Read the full review here\\n    \"     \n",
       "[2] \"  Trattoria Napoli \\n       Another restaurant ... ... \\n       Read the full review here\\n    \"\n",
       "[3] \"  Curry King \\n       Some description. \\n       Read the full review here\\n    \"               "
      ]
     },
     "metadata": {},
     "output_type": "display_data"
    },
    {
     "data": {
      "text/html": [
       "'The same but using CSS Selectors:'"
      ],
      "text/latex": [
       "'The same but using CSS Selectors:'"
      ],
      "text/markdown": [
       "'The same but using CSS Selectors:'"
      ],
      "text/plain": [
       "The same but using CSS Selectors:"
      ]
     },
     "metadata": {},
     "output_type": "display_data"
    },
    {
     "data": {
      "text/html": [
       "<ol class=list-inline>\n",
       "\t<li><span style=white-space:pre-wrap>'  Pizzeria Roma \\n       Here you can get ... ... \\n       Read the full review here\\n    '</span></li>\n",
       "\t<li><span style=white-space:pre-wrap>'  Trattoria Napoli \\n       Another restaurant ... ... \\n       Read the full review here\\n    '</span></li>\n",
       "\t<li><span style=white-space:pre-wrap>'  Curry King \\n       Some description. \\n       Read the full review here\\n    '</span></li>\n",
       "</ol>\n"
      ],
      "text/latex": [
       "\\begin{enumerate*}\n",
       "\\item '  Pizzeria Roma \\textbackslash{}n       Here you can get ... ... \\textbackslash{}n       Read the full review here\\textbackslash{}n    '\n",
       "\\item '  Trattoria Napoli \\textbackslash{}n       Another restaurant ... ... \\textbackslash{}n       Read the full review here\\textbackslash{}n    '\n",
       "\\item '  Curry King \\textbackslash{}n       Some description. \\textbackslash{}n       Read the full review here\\textbackslash{}n    '\n",
       "\\end{enumerate*}\n"
      ],
      "text/markdown": [
       "1. <span style=white-space:pre-wrap>'  Pizzeria Roma \\n       Here you can get ... ... \\n       Read the full review here\\n    '</span>\n",
       "2. <span style=white-space:pre-wrap>'  Trattoria Napoli \\n       Another restaurant ... ... \\n       Read the full review here\\n    '</span>\n",
       "3. <span style=white-space:pre-wrap>'  Curry King \\n       Some description. \\n       Read the full review here\\n    '</span>\n",
       "\n",
       "\n"
      ],
      "text/plain": [
       "[1] \"  Pizzeria Roma \\n       Here you can get ... ... \\n       Read the full review here\\n    \"     \n",
       "[2] \"  Trattoria Napoli \\n       Another restaurant ... ... \\n       Read the full review here\\n    \"\n",
       "[3] \"  Curry King \\n       Some description. \\n       Read the full review here\\n    \"               "
      ]
     },
     "metadata": {},
     "output_type": "display_data"
    }
   ],
   "source": [
    "library(rvest)\n",
    "library(glue)\n",
    "page = html('http://cssbook.net/d/restaurants/index.html')\n",
    "\n",
    "glue('Appending \"/text()\" to the XPATH gives you exactly the text that is in the element itself, including line-breaks that happen to be in the source code:' )\n",
    "page %>% html_nodes(xpath = '//div[@class=\"restaurant\"]/text()') \n",
    "\n",
    "glue('\\nUsing the \"html_text\" function instead returns the text of the element *and the text of its children*:')\n",
    "page %>% html_nodes(xpath = '//div[@class=\"restaurant\"]') %>% html_text() \n",
    "\n",
    "glue('\\nThe same but using CSS Selectors:')\n",
    "page %>% html_nodes('.restaurant') %>% html_text() \n"
   ]
  },
  {
   "cell_type": "code",
   "execution_count": 58,
   "metadata": {
    "tags": [
     "snippet:htmlparse1useragent"
    ]
   },
   "outputs": [
    {
     "name": "stderr",
     "output_type": "stream",
     "text": [
      "Warning message:\n",
      "“'html' is deprecated.\n",
      "Use 'xml2::read_html' instead.\n",
      "See help(\"Deprecated\")”\n"
     ]
    },
    {
     "data": {
      "text/html": [
       "<ol class=list-inline>\n",
       "\t<li>' Pizzeria Roma '</li>\n",
       "\t<li>' Trattoria Napoli '</li>\n",
       "\t<li>' Curry King '</li>\n",
       "</ol>\n"
      ],
      "text/latex": [
       "\\begin{enumerate*}\n",
       "\\item ' Pizzeria Roma '\n",
       "\\item ' Trattoria Napoli '\n",
       "\\item ' Curry King '\n",
       "\\end{enumerate*}\n"
      ],
      "text/markdown": [
       "1. ' Pizzeria Roma '\n",
       "2. ' Trattoria Napoli '\n",
       "3. ' Curry King '\n",
       "\n",
       "\n"
      ],
      "text/plain": [
       "[1] \" Pizzeria Roma \"    \" Trattoria Napoli \" \" Curry King \"      "
      ]
     },
     "metadata": {},
     "output_type": "display_data"
    }
   ],
   "source": [
    "library(rvest)\n",
    "library(httr)\n",
    "r <- GET(\"http://cssbook.net/d/restaurants/index.html\", user_agent = 'Mozilla/5.0 (Windows NT 10.0; Win64; x64; rv:60.0) Gecko/20100101 Firefox/60.0')\n",
    "page = html(r)\n",
    "page %>% html_nodes(xpath=\"//h3\") %>% html_text() \n"
   ]
  }
 ],
 "metadata": {
  "celltoolbar": "Tags",
  "kernelspec": {
   "display_name": "R",
   "language": "R",
   "name": "ir"
  },
  "language_info": {
   "codemirror_mode": "r",
   "file_extension": ".r",
   "mimetype": "text/x-r-source",
   "name": "R",
   "pygments_lexer": "r",
   "version": "3.6.3"
  }
 },
 "nbformat": 4,
 "nbformat_minor": 2
}
