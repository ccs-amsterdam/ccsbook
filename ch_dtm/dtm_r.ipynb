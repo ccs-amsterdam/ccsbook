{
 "cells": [
  {
   "cell_type": "code",
   "execution_count": 16,
   "metadata": {},
   "outputs": [
    {
     "name": "stderr",
     "output_type": "stream",
     "text": [
      "── \u001b[1mAttaching packages\u001b[22m ────────────────────────────────── tidyverse 1.3.0 ──\n",
      "\n",
      "\u001b[32m✔\u001b[39m \u001b[34mggplot2\u001b[39m 3.3.0     \u001b[32m✔\u001b[39m \u001b[34mpurrr  \u001b[39m 0.3.3\n",
      "\u001b[32m✔\u001b[39m \u001b[34mtibble \u001b[39m 3.0.0     \u001b[32m✔\u001b[39m \u001b[34mdplyr  \u001b[39m 0.8.5\n",
      "\u001b[32m✔\u001b[39m \u001b[34mtidyr  \u001b[39m 1.0.2     \u001b[32m✔\u001b[39m \u001b[34mstringr\u001b[39m 1.4.0\n",
      "\u001b[32m✔\u001b[39m \u001b[34mreadr  \u001b[39m 1.3.1     \u001b[32m✔\u001b[39m \u001b[34mforcats\u001b[39m 0.4.0\n",
      "\n",
      "── \u001b[1mConflicts\u001b[22m ───────────────────────────────────── tidyverse_conflicts() ──\n",
      "\u001b[31m✖\u001b[39m \u001b[34mdplyr\u001b[39m::\u001b[32mcollapse()\u001b[39m masks \u001b[34mglue\u001b[39m::collapse()\n",
      "\u001b[31m✖\u001b[39m \u001b[34mdplyr\u001b[39m::\u001b[32mfilter()\u001b[39m   masks \u001b[34mstats\u001b[39m::filter()\n",
      "\u001b[31m✖\u001b[39m \u001b[34mdplyr\u001b[39m::\u001b[32mlag()\u001b[39m      masks \u001b[34mstats\u001b[39m::lag()\n",
      "\n",
      "Package version: 2.0.1\n",
      "\n",
      "Parallel computing: 2 of 8 threads used.\n",
      "\n",
      "See https://quanteda.io for tutorials and examples.\n",
      "\n",
      "\n",
      "Attaching package: ‘quanteda’\n",
      "\n",
      "\n",
      "The following object is masked from ‘jupyter:irkernel’:\n",
      "\n",
      "    View\n",
      "\n",
      "\n",
      "The following object is masked from ‘package:utils’:\n",
      "\n",
      "    View\n",
      "\n",
      "\n"
     ]
    }
   ],
   "source": [
    "options(width=75)\n",
    "library(glue)\n",
    "library(tidyverse)\n",
    "library(quanteda)"
   ]
  },
  {
   "cell_type": "code",
   "execution_count": 2,
   "metadata": {
    "tags": [
     "snippet:dtm",
     "output:table"
    ]
   },
   "outputs": [
    {
     "name": "stderr",
     "output_type": "stream",
     "text": [
      "Package version: 1.5.2\n",
      "\n",
      "Parallel computing: 2 of 8 threads used.\n",
      "\n",
      "See https://quanteda.io for tutorials and examples.\n",
      "\n",
      "\n",
      "Attaching package: ‘quanteda’\n",
      "\n",
      "\n",
      "The following object is masked from ‘jupyter:irkernel’:\n",
      "\n",
      "    View\n",
      "\n",
      "\n",
      "The following object is masked from ‘package:utils’:\n",
      "\n",
      "    View\n",
      "\n",
      "\n"
     ]
    },
    {
     "data": {
      "text/html": [
       "<table>\n",
       "<caption>A matrix: 2 × 11 of type dbl</caption>\n",
       "<thead>\n",
       "\t<tr><th></th><th scope=col>the</th><th scope=col>caged</th><th scope=col>bird</th><th scope=col>sings</th><th scope=col>with</th><th scope=col>a</th><th scope=col>fearful</th><th scope=col>trill</th><th scope=col>for</th><th scope=col>of</th><th scope=col>freedom</th></tr>\n",
       "</thead>\n",
       "<tbody>\n",
       "\t<tr><th scope=row>text1</th><td>1</td><td>1</td><td>1</td><td>1</td><td>1</td><td>1</td><td>1</td><td>1</td><td>0</td><td>0</td><td>0</td></tr>\n",
       "\t<tr><th scope=row>text2</th><td>1</td><td>1</td><td>1</td><td>1</td><td>0</td><td>0</td><td>0</td><td>0</td><td>1</td><td>1</td><td>1</td></tr>\n",
       "</tbody>\n",
       "</table>\n"
      ],
      "text/latex": [
       "A matrix: 2 × 11 of type dbl\n",
       "\\begin{tabular}{r|lllllllllll}\n",
       "  & the & caged & bird & sings & with & a & fearful & trill & for & of & freedom\\\\\n",
       "\\hline\n",
       "\ttext1 & 1 & 1 & 1 & 1 & 1 & 1 & 1 & 1 & 0 & 0 & 0\\\\\n",
       "\ttext2 & 1 & 1 & 1 & 1 & 0 & 0 & 0 & 0 & 1 & 1 & 1\\\\\n",
       "\\end{tabular}\n"
      ],
      "text/markdown": [
       "\n",
       "A matrix: 2 × 11 of type dbl\n",
       "\n",
       "| <!--/--> | the | caged | bird | sings | with | a | fearful | trill | for | of | freedom |\n",
       "|---|---|---|---|---|---|---|---|---|---|---|---|\n",
       "| text1 | 1 | 1 | 1 | 1 | 1 | 1 | 1 | 1 | 0 | 0 | 0 |\n",
       "| text2 | 1 | 1 | 1 | 1 | 0 | 0 | 0 | 0 | 1 | 1 | 1 |\n",
       "\n"
      ],
      "text/plain": [
       "       features\n",
       "docs    the caged bird sings with a fearful trill for of freedom\n",
       "  text1 1   1     1    1     1    1 1       1     0   0  0      \n",
       "  text2 1   1     1    1     0    0 0       0     1   1  1      "
      ]
     },
     "metadata": {},
     "output_type": "display_data"
    }
   ],
   "source": [
    "library(quanteda)\n",
    "texts = c(\"The caged bird sings with a fearful trill\", \n",
    "          \"for the caged bird sings of freedom\")\n",
    "d = dfm(texts)\n",
    "# Inspect by converting to a (dense) matrix\n",
    "convert(d, \"matrix\") "
   ]
  },
  {
   "cell_type": "code",
   "execution_count": 4,
   "metadata": {
    "tags": [
     "snippet:tokenize"
    ]
   },
   "outputs": [
    {
     "data": {
      "text/plain": [
       "Tokens consisting of 1 document.\n",
       "text1 :\n",
       "[1] \"I\"          \"haven't\"    \"seen\"       \"John's\"     \"derring-do\"\n"
      ]
     },
     "metadata": {},
     "output_type": "display_data"
    }
   ],
   "source": [
    "text = \"I haven't seen John's derring-do\"\n",
    "tokens(text)"
   ]
  },
  {
   "cell_type": "code",
   "execution_count": 5,
   "metadata": {
    "tags": [
     "haiku"
    ]
   },
   "outputs": [
    {
     "data": {
      "text/plain": [
       "Tokens consisting of 1 document.\n",
       "text1 :\n",
       "[1] \"古池\"     \"蛙\"       \"飛び込む\" \"水\"       \"の\"       \"音\"      \n"
      ]
     },
     "metadata": {},
     "output_type": "display_data"
    }
   ],
   "source": [
    "haiku = \"\\u53e4\\u6c60\\u86d9\\u98db\\u3073\\u8fbc\\u3080\\u6c34\\u306e\\u97f3\"\n",
    "tokens(haiku)"
   ]
  },
  {
   "cell_type": "code",
   "execution_count": 77,
   "metadata": {
    "tags": [
     "snippet:sotu"
    ]
   },
   "outputs": [
    {
     "name": "stderr",
     "output_type": "stream",
     "text": [
      "Parsed with column specification:\n",
      "cols(\n",
      "  FirstName = \u001b[31mcol_character()\u001b[39m,\n",
      "  President = \u001b[31mcol_character()\u001b[39m,\n",
      "  Date = \u001b[34mcol_date(format = \"\")\u001b[39m,\n",
      "  delivery = \u001b[31mcol_character()\u001b[39m,\n",
      "  type = \u001b[31mcol_character()\u001b[39m,\n",
      "  party = \u001b[31mcol_character()\u001b[39m,\n",
      "  text = \u001b[31mcol_character()\u001b[39m\n",
      ")\n",
      "\n"
     ]
    },
    {
     "data": {
      "text/plain": [
       "Document-feature matrix of: 85 documents, 17,999 features (91.0% sparse)."
      ]
     },
     "metadata": {},
     "output_type": "display_data"
    }
   ],
   "source": [
    "library(tidyverse)\n",
    "sotu = read_csv(\"http://cssbook.net/d/sotu.csv\") %>% \n",
    "       mutate(doc_id = paste(lubridate::year(Date), President))\n",
    "d = corpus(sotu) %>% dfm()\n",
    "d"
   ]
  },
  {
   "cell_type": "code",
   "execution_count": 69,
   "metadata": {
    "tags": [
     "snippet:freq"
    ]
   },
   "outputs": [
    {
     "data": {
      "text/html": [
       "<table>\n",
       "<caption>A frequency: 5 × 5</caption>\n",
       "<thead>\n",
       "\t<tr><th></th><th scope=col>feature</th><th scope=col>frequency</th><th scope=col>rank</th><th scope=col>docfreq</th><th scope=col>group</th></tr>\n",
       "\t<tr><th></th><th scope=col>&lt;chr&gt;</th><th scope=col>&lt;dbl&gt;</th><th scope=col>&lt;int&gt;</th><th scope=col>&lt;dbl&gt;</th><th scope=col>&lt;chr&gt;</th></tr>\n",
       "</thead>\n",
       "<tbody>\n",
       "\t<tr><th scope=row>1</th><td>the        </td><td>35020</td><td>    1</td><td>85</td><td>all</td></tr>\n",
       "\t<tr><th scope=row>10</th><td>our        </td><td> 9336</td><td>   10</td><td>85</td><td>all</td></tr>\n",
       "\t<tr><th scope=row>100</th><td>first      </td><td>  752</td><td>  100</td><td>83</td><td>all</td></tr>\n",
       "\t<tr><th scope=row>1000</th><td>investments</td><td>   76</td><td>  988</td><td>34</td><td>all</td></tr>\n",
       "\t<tr><th scope=row>15000</th><td>defrauded  </td><td>    1</td><td>10972</td><td> 1</td><td>all</td></tr>\n",
       "</tbody>\n",
       "</table>\n"
      ],
      "text/latex": [
       "A frequency: 5 × 5\n",
       "\\begin{tabular}{r|lllll}\n",
       "  & feature & frequency & rank & docfreq & group\\\\\n",
       "  & <chr> & <dbl> & <int> & <dbl> & <chr>\\\\\n",
       "\\hline\n",
       "\t1 & the         & 35020 &     1 & 85 & all\\\\\n",
       "\t10 & our         &  9336 &    10 & 85 & all\\\\\n",
       "\t100 & first       &   752 &   100 & 83 & all\\\\\n",
       "\t1000 & investments &    76 &   988 & 34 & all\\\\\n",
       "\t15000 & defrauded   &     1 & 10972 &  1 & all\\\\\n",
       "\\end{tabular}\n"
      ],
      "text/markdown": [
       "\n",
       "A frequency: 5 × 5\n",
       "\n",
       "| <!--/--> | feature &lt;chr&gt; | frequency &lt;dbl&gt; | rank &lt;int&gt; | docfreq &lt;dbl&gt; | group &lt;chr&gt; |\n",
       "|---|---|---|---|---|---|\n",
       "| 1 | the         | 35020 |     1 | 85 | all |\n",
       "| 10 | our         |  9336 |    10 | 85 | all |\n",
       "| 100 | first       |   752 |   100 | 83 | all |\n",
       "| 1000 | investments |    76 |   988 | 34 | all |\n",
       "| 15000 | defrauded   |     1 | 10972 |  1 | all |\n",
       "\n"
      ],
      "text/plain": [
       "      feature     frequency rank  docfreq group\n",
       "1     the         35020         1 85      all  \n",
       "10    our          9336        10 85      all  \n",
       "100   first         752       100 83      all  \n",
       "1000  investments    76       988 34      all  \n",
       "15000 defrauded       1     10972  1      all  "
      ]
     },
     "metadata": {},
     "output_type": "display_data"
    }
   ],
   "source": [
    "textstat_frequency(d)[c(1, 10, 100, 1000, 15000)]"
   ]
  },
  {
   "cell_type": "code",
   "execution_count": 76,
   "metadata": {
    "scrolled": true,
    "tags": [
     "snippet:freq2"
    ]
   },
   "outputs": [
    {
     "data": {
      "text/html": [
       "<table>\n",
       "<caption>A matrix: 4 × 5 of type dbl</caption>\n",
       "<thead>\n",
       "\t<tr><th></th><th scope=col>the</th><th scope=col>our</th><th scope=col>first</th><th scope=col>investments</th><th scope=col>defrauded</th></tr>\n",
       "</thead>\n",
       "<tbody>\n",
       "\t<tr><th scope=row>1946 Truman</th><td>2142</td><td>186</td><td>21</td><td>2</td><td>0</td></tr>\n",
       "\t<tr><th scope=row>1965 Johnson</th><td> 283</td><td> 81</td><td>14</td><td>0</td><td>0</td></tr>\n",
       "\t<tr><th scope=row>1984 Reagan</th><td> 209</td><td> 92</td><td> 8</td><td>0</td><td>0</td></tr>\n",
       "\t<tr><th scope=row>2009 Obama</th><td> 269</td><td>116</td><td> 8</td><td>1</td><td>0</td></tr>\n",
       "</tbody>\n",
       "</table>\n"
      ],
      "text/latex": [
       "A matrix: 4 × 5 of type dbl\n",
       "\\begin{tabular}{r|lllll}\n",
       "  & the & our & first & investments & defrauded\\\\\n",
       "\\hline\n",
       "\t1946 Truman & 2142 & 186 & 21 & 2 & 0\\\\\n",
       "\t1965 Johnson &  283 &  81 & 14 & 0 & 0\\\\\n",
       "\t1984 Reagan &  209 &  92 &  8 & 0 & 0\\\\\n",
       "\t2009 Obama &  269 & 116 &  8 & 1 & 0\\\\\n",
       "\\end{tabular}\n"
      ],
      "text/markdown": [
       "\n",
       "A matrix: 4 × 5 of type dbl\n",
       "\n",
       "| <!--/--> | the | our | first | investments | defrauded |\n",
       "|---|---|---|---|---|---|\n",
       "| 1946 Truman | 2142 | 186 | 21 | 2 | 0 |\n",
       "| 1965 Johnson |  283 |  81 | 14 | 0 | 0 |\n",
       "| 1984 Reagan |  209 |  92 |  8 | 0 | 0 |\n",
       "| 2009 Obama |  269 | 116 |  8 | 1 | 0 |\n",
       "\n"
      ],
      "text/plain": [
       "              features\n",
       "docs           the  our first investments defrauded\n",
       "  1946 Truman  2142 186 21    2           0        \n",
       "  1965 Johnson  283  81 14    0           0        \n",
       "  1984 Reagan   209  92  8    0           0        \n",
       "  2009 Obama    269 116  8    1           0        "
      ]
     },
     "metadata": {},
     "output_type": "display_data"
    }
   ],
   "source": [
    "as.matrix(d[c(3, 25, 50, 75), c(\"the\", \"our\", \"first\", \"investments\", \"defrauded\")])"
   ]
  },
  {
   "cell_type": "code",
   "execution_count": 11,
   "metadata": {
    "tags": [
     "snippet:wordcloud",
     "output:png"
    ]
   },
   "outputs": [
    {
     "data": {
      "image/png": "[encoded data removed]",
      "text/plain": [
       "plot without title"
      ]
     },
     "metadata": {
      "image/png": {
       "height": 420,
       "width": 420
      },
      "text/plain": {
       "height": 420,
       "width": 420
      }
     },
     "output_type": "display_data"
    }
   ],
   "source": [
    "textplot_wordcloud(d, max_words=200)"
   ]
  },
  {
   "cell_type": "code",
   "execution_count": 15,
   "metadata": {
    "tags": [
     "snippet:trumptweets",
     "output:table"
    ]
   },
   "outputs": [
    {
     "data": {
      "text/html": [
       "<table>\n",
       "<caption>A tibble: 6 × 2</caption>\n",
       "<thead>\n",
       "\t<tr><th scope=col>status_id</th><th scope=col>text</th></tr>\n",
       "\t<tr><th scope=col>&lt;chr&gt;</th><th scope=col>&lt;chr&gt;</th></tr>\n",
       "</thead>\n",
       "<tbody>\n",
       "\t<tr><td>x1864367186       </td><td>Read a great interview with Donald Trump that appeared in The New York Times Magazine: http://tinyurl.com/qsx4o6                            </td></tr>\n",
       "\t<tr><td>x9273573134835712 </td><td>Congratulations to Evan Lysacek for being nominated SI sportsman of the year. He's a great guy, and he has my vote!  #EvanForSI             </td></tr>\n",
       "\t<tr><td>x29014512646      </td><td>I was on The View this morning. We talked about The Apprentice. Tonight's episode is a great one--tough, exciting and surprising. 10 pm/NBC </td></tr>\n",
       "\t<tr><td>x7483813542232064 </td><td>Tomorrow night's episode of The Apprentice delivers excitement at QVC along with appearances by Isaac Mizrahi and Cathie Black. 10 pm on NBC</td></tr>\n",
       "\t<tr><td>x5775731054       </td><td>Donald Trump Partners with TV1 on New Reality Series Entitled, Omarosa's Ultimate Merger: http://tinyurl.com/yk5m3lc                        </td></tr>\n",
       "\t<tr><td>x14785576859340800</td><td>I'll be appearing on Larry King Live for his final show, Thursday night at 9 p.m., CNN. Larry's been on TV for 25 years...                  </td></tr>\n",
       "</tbody>\n",
       "</table>\n"
      ],
      "text/latex": [
       "A tibble: 6 × 2\n",
       "\\begin{tabular}{ll}\n",
       " status\\_id & text\\\\\n",
       " <chr> & <chr>\\\\\n",
       "\\hline\n",
       "\t x1864367186        & Read a great interview with Donald Trump that appeared in The New York Times Magazine: http://tinyurl.com/qsx4o6                            \\\\\n",
       "\t x9273573134835712  & Congratulations to Evan Lysacek for being nominated SI sportsman of the year. He's a great guy, and he has my vote!  \\#EvanForSI             \\\\\n",
       "\t x29014512646       & I was on The View this morning. We talked about The Apprentice. Tonight's episode is a great one--tough, exciting and surprising. 10 pm/NBC \\\\\n",
       "\t x7483813542232064  & Tomorrow night's episode of The Apprentice delivers excitement at QVC along with appearances by Isaac Mizrahi and Cathie Black. 10 pm on NBC\\\\\n",
       "\t x5775731054        & Donald Trump Partners with TV1 on New Reality Series Entitled, Omarosa's Ultimate Merger: http://tinyurl.com/yk5m3lc                        \\\\\n",
       "\t x14785576859340800 & I'll be appearing on Larry King Live for his final show, Thursday night at 9 p.m., CNN. Larry's been on TV for 25 years...                  \\\\\n",
       "\\end{tabular}\n"
      ],
      "text/markdown": [
       "\n",
       "A tibble: 6 × 2\n",
       "\n",
       "| status_id &lt;chr&gt; | text &lt;chr&gt; |\n",
       "|---|---|\n",
       "| x1864367186        | Read a great interview with Donald Trump that appeared in The New York Times Magazine: http://tinyurl.com/qsx4o6                             |\n",
       "| x9273573134835712  | Congratulations to Evan Lysacek for being nominated SI sportsman of the year. He's a great guy, and he has my vote!  #EvanForSI              |\n",
       "| x29014512646       | I was on The View this morning. We talked about The Apprentice. Tonight's episode is a great one--tough, exciting and surprising. 10 pm/NBC  |\n",
       "| x7483813542232064  | Tomorrow night's episode of The Apprentice delivers excitement at QVC along with appearances by Isaac Mizrahi and Cathie Black. 10 pm on NBC |\n",
       "| x5775731054        | Donald Trump Partners with TV1 on New Reality Series Entitled, Omarosa's Ultimate Merger: http://tinyurl.com/yk5m3lc                         |\n",
       "| x14785576859340800 | I'll be appearing on Larry King Live for his final show, Thursday night at 9 p.m., CNN. Larry's been on TV for 25 years...                   |\n",
       "\n"
      ],
      "text/plain": [
       "  status_id         \n",
       "1 x1864367186       \n",
       "2 x9273573134835712 \n",
       "3 x29014512646      \n",
       "4 x7483813542232064 \n",
       "5 x5775731054       \n",
       "6 x14785576859340800\n",
       "  text                                                                                                                                        \n",
       "1 Read a great interview with Donald Trump that appeared in The New York Times Magazine: http://tinyurl.com/qsx4o6                            \n",
       "2 Congratulations to Evan Lysacek for being nominated SI sportsman of the year. He's a great guy, and he has my vote!  #EvanForSI             \n",
       "3 I was on The View this morning. We talked about The Apprentice. Tonight's episode is a great one--tough, exciting and surprising. 10 pm/NBC \n",
       "4 Tomorrow night's episode of The Apprentice delivers excitement at QVC along with appearances by Isaac Mizrahi and Cathie Black. 10 pm on NBC\n",
       "5 Donald Trump Partners with TV1 on New Reality Series Entitled, Omarosa's Ultimate Merger: http://tinyurl.com/yk5m3lc                        \n",
       "6 I'll be appearing on Larry King Live for his final show, Thursday night at 9 p.m., CNN. Larry's been on TV for 25 years...                  "
      ]
     },
     "metadata": {},
     "output_type": "display_data"
    }
   ],
   "source": [
    "url = \"http://cssbook.net/d/trumptweets.csv\"\n",
    "tweets = read_csv(url, col_types=cols_only(text='c', status_id='c')) \n",
    "head(tweets)"
   ]
  },
  {
   "cell_type": "code",
   "execution_count": 86,
   "metadata": {
    "scrolled": true,
    "tags": [
     "snippet:stopwords"
    ]
   },
   "outputs": [
    {
     "data": {
      "image/png": "[encoded data removed]",
      "text/plain": [
       "plot without title"
      ]
     },
     "metadata": {
      "image/png": {
       "height": 420,
       "width": 420
      },
      "text/plain": {
       "height": 420,
       "width": 420
      }
     },
     "output_type": "display_data"
    }
   ],
   "source": [
    "d = corpus(tweets) %>% dfm(remove=mystopwords)\n",
    "textplot_wordcloud(d, max_words=100)\n",
    "\n"
   ]
  },
  {
   "cell_type": "code",
   "execution_count": 82,
   "metadata": {
    "tags": [
     "snippet:stopwords2"
    ]
   },
   "outputs": [
    {
     "data": {
      "text/html": [
       "'Now 177 stopwords: go, one, i, me, my...'"
      ],
      "text/latex": [
       "'Now 177 stopwords: go, one, i, me, my...'"
      ],
      "text/markdown": [
       "'Now 177 stopwords: go, one, i, me, my...'"
      ],
      "text/plain": [
       "Now 177 stopwords: go, one, i, me, my..."
      ]
     },
     "metadata": {},
     "output_type": "display_data"
    }
   ],
   "source": [
    "mystopwords = stopwords('english', source=\"snowball\")\n",
    "mystopwords = c( \"go\", \"one\", mystopwords)\n",
    "glue(\"Now {length(mystopwords)} stopwords: {paste(mystopwords[1:5], collapse=', ')}...\")\n",
    "\n"
   ]
  },
  {
   "cell_type": "code",
   "execution_count": 94,
   "metadata": {
    "tags": [
     "snippet:trimming"
    ]
   },
   "outputs": [
    {
     "data": {
      "text/html": [
       "'# of unique words before trimming: 44496; after trimming: 316'"
      ],
      "text/latex": [
       "'\\# of unique words before trimming: 44496; after trimming: 316'"
      ],
      "text/markdown": [
       "'# of unique words before trimming: 44496; after trimming: 316'"
      ],
      "text/plain": [
       "# of unique words before trimming: 44496; after trimming: 316"
      ]
     },
     "metadata": {},
     "output_type": "display_data"
    }
   ],
   "source": [
    "d_trim = dfm_trim(d, min_docfreq = 0.005, max_docfreq = 0.75, docfreq_type = \"prop\")\n",
    "glue(\"# of unique words before trimming: {ncol(d)}; after trimming: {ncol(d_trim)}\")\n"
   ]
  },
  {
   "cell_type": "code",
   "execution_count": 103,
   "metadata": {
    "tags": [
     "snippet:tfidf"
    ]
   },
   "outputs": [
    {
     "data": {
      "text/html": [
       "<table>\n",
       "<caption>A matrix: 4 × 5 of type dbl</caption>\n",
       "<thead>\n",
       "\t<tr><th></th><th scope=col>the</th><th scope=col>our</th><th scope=col>first</th><th scope=col>investments</th><th scope=col>defrauded</th></tr>\n",
       "</thead>\n",
       "<tbody>\n",
       "\t<tr><th scope=row>1946 Truman</th><td>0.02076537</td><td>0.001803155</td><td>0.0002070995</td><td>3.504238e-05</td><td>0</td></tr>\n",
       "\t<tr><th scope=row>1965 Johnson</th><td>0.01732238</td><td>0.004957997</td><td>0.0008717439</td><td>0.000000e+00</td><td>0</td></tr>\n",
       "\t<tr><th scope=row>1984 Reagan</th><td>0.01131977</td><td>0.004982864</td><td>0.0004407790</td><td>0.000000e+00</td><td>0</td></tr>\n",
       "\t<tr><th scope=row>2009 Obama</th><td>0.01208793</td><td>0.005212641</td><td>0.0003657038</td><td>8.121631e-05</td><td>0</td></tr>\n",
       "</tbody>\n",
       "</table>\n"
      ],
      "text/latex": [
       "A matrix: 4 × 5 of type dbl\n",
       "\\begin{tabular}{r|lllll}\n",
       "  & the & our & first & investments & defrauded\\\\\n",
       "\\hline\n",
       "\t1946 Truman & 0.02076537 & 0.001803155 & 0.0002070995 & 3.504238e-05 & 0\\\\\n",
       "\t1965 Johnson & 0.01732238 & 0.004957997 & 0.0008717439 & 0.000000e+00 & 0\\\\\n",
       "\t1984 Reagan & 0.01131977 & 0.004982864 & 0.0004407790 & 0.000000e+00 & 0\\\\\n",
       "\t2009 Obama & 0.01208793 & 0.005212641 & 0.0003657038 & 8.121631e-05 & 0\\\\\n",
       "\\end{tabular}\n"
      ],
      "text/markdown": [
       "\n",
       "A matrix: 4 × 5 of type dbl\n",
       "\n",
       "| <!--/--> | the | our | first | investments | defrauded |\n",
       "|---|---|---|---|---|---|\n",
       "| 1946 Truman | 0.02076537 | 0.001803155 | 0.0002070995 | 3.504238e-05 | 0 |\n",
       "| 1965 Johnson | 0.01732238 | 0.004957997 | 0.0008717439 | 0.000000e+00 | 0 |\n",
       "| 1984 Reagan | 0.01131977 | 0.004982864 | 0.0004407790 | 0.000000e+00 | 0 |\n",
       "| 2009 Obama | 0.01208793 | 0.005212641 | 0.0003657038 | 8.121631e-05 | 0 |\n",
       "\n"
      ],
      "text/plain": [
       "              features\n",
       "docs           the        our         first        investments  defrauded\n",
       "  1946 Truman  0.02076537 0.001803155 0.0002070995 3.504238e-05 0        \n",
       "  1965 Johnson 0.01732238 0.004957997 0.0008717439 0.000000e+00 0        \n",
       "  1984 Reagan  0.01131977 0.004982864 0.0004407790 0.000000e+00 0        \n",
       "  2009 Obama   0.01208793 0.005212641 0.0003657038 8.121631e-05 0        "
      ]
     },
     "metadata": {},
     "output_type": "display_data"
    },
    {
     "data": {
      "text/html": [
       "<style>\n",
       ".dl-inline {width: auto; margin:0; padding: 0}\n",
       ".dl-inline>dt, .dl-inline>dd {float: none; width: auto; display: inline-block}\n",
       ".dl-inline>dt::after {content: \":\\0020\"; padding-right: .5ex}\n",
       ".dl-inline>dt:not(:first-of-type) {padding-left: .5ex}\n",
       "</style><dl class=dl-inline><dt>1945 Roosevelt</dt><dd>0.474585502406252</dd><dt>1945 Roosevelt.1</dt><dd>0.442674053918202</dd><dt>1946 Truman</dt><dd>0.465376035487898</dd><dt>1947 Truman</dt><dd>0.437278636880558</dd><dt>1948 Truman</dt><dd>0.412055461358091</dd><dt>1949 Truman</dt><dd>0.42193071395746</dd><dt>1950 Truman</dt><dd>0.405152516539333</dd><dt>1951 Truman</dt><dd>0.406676892065869</dd><dt>1952 Truman</dt><dd>0.413289074179317</dd><dt>1953 Truman</dt><dd>0.444991383766939</dd><dt>1953 Eisenhower</dt><dd>0.454436039491852</dd><dt>1954 Eisenhower</dt><dd>0.441687070593819</dd><dt>1955 Eisenhower</dt><dd>0.442137807270069</dd><dt>1956 Eisenhower</dt><dd>0.442153219208221</dd><dt>1956 Eisenhower.1</dt><dd>0.398591857614584</dd><dt>1957 Eisenhower</dt><dd>0.445431508842999</dd><dt>1958 Eisenhower</dt><dd>0.446313204040538</dd><dt>1959 Eisenhower</dt><dd>0.44349429872813</dd><dt>1960 Eisenhower</dt><dd>0.464048219857653</dd><dt>1961 Eisenhower</dt><dd>0.47998401540139</dd><dt>1961 Kennedy</dt><dd>0.460403805467861</dd><dt>1962 Kennedy</dt><dd>0.457910500316352</dd><dt>1963 Kennedy</dt><dd>0.454235981927437</dd><dt>1964 Johnson</dt><dd>0.428078369680759</dd><dt>1965 Johnson</dt><dd>0.420169941307456</dd><dt>1966 Johnson</dt><dd>0.425238667546086</dd><dt>1967 Johnson</dt><dd>0.422178348986201</dd><dt>1968 Johnson</dt><dd>0.422944237901497</dd><dt>1969 Johnson</dt><dd>0.412650431227808</dd><dt>1970 Nixon</dt><dd>0.412096552315802</dd><dt>1971 Nixon</dt><dd>0.403762794148451</dd><dt>1972 Nixon</dt><dd>0.403140657316501</dd><dt>1972 Nixon.1</dt><dd>0.435119487410433</dd><dt>1973 Nixon</dt><dd>0.408510009875303</dd><dt>1974 Nixon</dt><dd>0.394778223438936</dd><dt>1974 Nixon.1</dt><dd>0.447796349559388</dd><dt>1975 Ford</dt><dd>0.439551792521071</dd><dt>1976 Ford</dt><dd>0.429074786490924</dd><dt>1977 Ford</dt><dd>0.434194195394996</dd><dt>1978 Carter</dt><dd>0.414856345295056</dd><dt>1978 Carter.1</dt><dd>0.457383532196519</dd><dt>1979 Carter</dt><dd>0.420696555710112</dd><dt>1979 Carter.1</dt><dd>0.4570501571125</dd><dt>1980 Carter</dt><dd>0.421637444662891</dd><dt>1980 Carter.1</dt><dd>0.463271892531159</dd><dt>1981 Carter</dt><dd>0.479356868414451</dd><dt>1981 Reagan</dt><dd>0.447172273064075</dd><dt>1982 Reagan</dt><dd>0.446346871192657</dd><dt>1983 Reagan</dt><dd>0.435620094594375</dd><dt>1984 Reagan</dt><dd>0.450409691906265</dd><dt>1985 Reagan</dt><dd>0.449091269909197</dd><dt>1986 Reagan</dt><dd>0.465615045974366</dd><dt>1987 Reagan</dt><dd>0.463107906000804</dd><dt>1988 Reagan</dt><dd>0.45559967909677</dd><dt>1989 Bush</dt><dd>0.429818777113195</dd><dt>1990 Bush</dt><dd>0.430640665632861</dd><dt>1991 Bush</dt><dd>0.435063862356436</dd><dt>1992 Bush</dt><dd>0.437120043820747</dd><dt>1993 Clinton</dt><dd>0.405301625033971</dd><dt>1994 Clinton</dt><dd>0.427394183259673</dd><dt>1995 Clinton</dt><dd>0.426013794110403</dd><dt>1996 Clinton</dt><dd>0.418613173833879</dd><dt>1997 Clinton</dt><dd>0.433033978063802</dd><dt>1998 Clinton</dt><dd>0.441081119356647</dd><dt>1999 Clinton</dt><dd>0.436023483901462</dd><dt>2000 Clinton</dt><dd>0.439991479691691</dd><dt>2001 Bush</dt><dd>0.423338476463897</dd><dt>2002 Bush</dt><dd>0.45714187981088</dd><dt>2003 Bush</dt><dd>0.469362852408247</dd><dt>2004 Bush</dt><dd>0.449299537926596</dd><dt>2005 Bush</dt><dd>0.440352545885967</dd><dt>2006 Bush</dt><dd>0.449788026075397</dd><dt>2007 Bush</dt><dd>0.463944784583295</dd><dt>2008 Bush</dt><dd>0.451554663624611</dd><dt>2009 Obama</dt><dd>0.430557409326064</dd><dt>2010 Obama</dt><dd>0.431715091807587</dd><dt>2011 Obama</dt><dd>0.445698764146493</dd><dt>2012 Obama</dt><dd>0.448363400354754</dd><dt>2013 Obama</dt><dd>0.44632090868771</dd><dt>2014 Obama</dt><dd>0.457286214511555</dd><dt>2015 Obama</dt><dd>0.455010832712071</dd><dt>2016 Obama</dt><dd>0.45386484594049</dd><dt>2017 Trump</dt><dd>0.463685383913011</dd><dt>2018 Trump</dt><dd>0.484471631329933</dd><dt>2019 Trump</dt><dd>0.49614361194559</dd></dl>\n"
      ],
      "text/latex": [
       "\\begin{description*}\n",
       "\\item[1945 Roosevelt] 0.474585502406252\n",
       "\\item[1945 Roosevelt.1] 0.442674053918202\n",
       "\\item[1946 Truman] 0.465376035487898\n",
       "\\item[1947 Truman] 0.437278636880558\n",
       "\\item[1948 Truman] 0.412055461358091\n",
       "\\item[1949 Truman] 0.42193071395746\n",
       "\\item[1950 Truman] 0.405152516539333\n",
       "\\item[1951 Truman] 0.406676892065869\n",
       "\\item[1952 Truman] 0.413289074179317\n",
       "\\item[1953 Truman] 0.444991383766939\n",
       "\\item[1953 Eisenhower] 0.454436039491852\n",
       "\\item[1954 Eisenhower] 0.441687070593819\n",
       "\\item[1955 Eisenhower] 0.442137807270069\n",
       "\\item[1956 Eisenhower] 0.442153219208221\n",
       "\\item[1956 Eisenhower.1] 0.398591857614584\n",
       "\\item[1957 Eisenhower] 0.445431508842999\n",
       "\\item[1958 Eisenhower] 0.446313204040538\n",
       "\\item[1959 Eisenhower] 0.44349429872813\n",
       "\\item[1960 Eisenhower] 0.464048219857653\n",
       "\\item[1961 Eisenhower] 0.47998401540139\n",
       "\\item[1961 Kennedy] 0.460403805467861\n",
       "\\item[1962 Kennedy] 0.457910500316352\n",
       "\\item[1963 Kennedy] 0.454235981927437\n",
       "\\item[1964 Johnson] 0.428078369680759\n",
       "\\item[1965 Johnson] 0.420169941307456\n",
       "\\item[1966 Johnson] 0.425238667546086\n",
       "\\item[1967 Johnson] 0.422178348986201\n",
       "\\item[1968 Johnson] 0.422944237901497\n",
       "\\item[1969 Johnson] 0.412650431227808\n",
       "\\item[1970 Nixon] 0.412096552315802\n",
       "\\item[1971 Nixon] 0.403762794148451\n",
       "\\item[1972 Nixon] 0.403140657316501\n",
       "\\item[1972 Nixon.1] 0.435119487410433\n",
       "\\item[1973 Nixon] 0.408510009875303\n",
       "\\item[1974 Nixon] 0.394778223438936\n",
       "\\item[1974 Nixon.1] 0.447796349559388\n",
       "\\item[1975 Ford] 0.439551792521071\n",
       "\\item[1976 Ford] 0.429074786490924\n",
       "\\item[1977 Ford] 0.434194195394996\n",
       "\\item[1978 Carter] 0.414856345295056\n",
       "\\item[1978 Carter.1] 0.457383532196519\n",
       "\\item[1979 Carter] 0.420696555710112\n",
       "\\item[1979 Carter.1] 0.4570501571125\n",
       "\\item[1980 Carter] 0.421637444662891\n",
       "\\item[1980 Carter.1] 0.463271892531159\n",
       "\\item[1981 Carter] 0.479356868414451\n",
       "\\item[1981 Reagan] 0.447172273064075\n",
       "\\item[1982 Reagan] 0.446346871192657\n",
       "\\item[1983 Reagan] 0.435620094594375\n",
       "\\item[1984 Reagan] 0.450409691906265\n",
       "\\item[1985 Reagan] 0.449091269909197\n",
       "\\item[1986 Reagan] 0.465615045974366\n",
       "\\item[1987 Reagan] 0.463107906000804\n",
       "\\item[1988 Reagan] 0.45559967909677\n",
       "\\item[1989 Bush] 0.429818777113195\n",
       "\\item[1990 Bush] 0.430640665632861\n",
       "\\item[1991 Bush] 0.435063862356436\n",
       "\\item[1992 Bush] 0.437120043820747\n",
       "\\item[1993 Clinton] 0.405301625033971\n",
       "\\item[1994 Clinton] 0.427394183259673\n",
       "\\item[1995 Clinton] 0.426013794110403\n",
       "\\item[1996 Clinton] 0.418613173833879\n",
       "\\item[1997 Clinton] 0.433033978063802\n",
       "\\item[1998 Clinton] 0.441081119356647\n",
       "\\item[1999 Clinton] 0.436023483901462\n",
       "\\item[2000 Clinton] 0.439991479691691\n",
       "\\item[2001 Bush] 0.423338476463897\n",
       "\\item[2002 Bush] 0.45714187981088\n",
       "\\item[2003 Bush] 0.469362852408247\n",
       "\\item[2004 Bush] 0.449299537926596\n",
       "\\item[2005 Bush] 0.440352545885967\n",
       "\\item[2006 Bush] 0.449788026075397\n",
       "\\item[2007 Bush] 0.463944784583295\n",
       "\\item[2008 Bush] 0.451554663624611\n",
       "\\item[2009 Obama] 0.430557409326064\n",
       "\\item[2010 Obama] 0.431715091807587\n",
       "\\item[2011 Obama] 0.445698764146493\n",
       "\\item[2012 Obama] 0.448363400354754\n",
       "\\item[2013 Obama] 0.44632090868771\n",
       "\\item[2014 Obama] 0.457286214511555\n",
       "\\item[2015 Obama] 0.455010832712071\n",
       "\\item[2016 Obama] 0.45386484594049\n",
       "\\item[2017 Trump] 0.463685383913011\n",
       "\\item[2018 Trump] 0.484471631329933\n",
       "\\item[2019 Trump] 0.49614361194559\n",
       "\\end{description*}\n"
      ],
      "text/markdown": [
       "1945 Roosevelt\n",
       ":   0.4745855024062521945 Roosevelt.1\n",
       ":   0.4426740539182021946 Truman\n",
       ":   0.4653760354878981947 Truman\n",
       ":   0.4372786368805581948 Truman\n",
       ":   0.4120554613580911949 Truman\n",
       ":   0.421930713957461950 Truman\n",
       ":   0.4051525165393331951 Truman\n",
       ":   0.4066768920658691952 Truman\n",
       ":   0.4132890741793171953 Truman\n",
       ":   0.4449913837669391953 Eisenhower\n",
       ":   0.4544360394918521954 Eisenhower\n",
       ":   0.4416870705938191955 Eisenhower\n",
       ":   0.4421378072700691956 Eisenhower\n",
       ":   0.4421532192082211956 Eisenhower.1\n",
       ":   0.3985918576145841957 Eisenhower\n",
       ":   0.4454315088429991958 Eisenhower\n",
       ":   0.4463132040405381959 Eisenhower\n",
       ":   0.443494298728131960 Eisenhower\n",
       ":   0.4640482198576531961 Eisenhower\n",
       ":   0.479984015401391961 Kennedy\n",
       ":   0.4604038054678611962 Kennedy\n",
       ":   0.4579105003163521963 Kennedy\n",
       ":   0.4542359819274371964 Johnson\n",
       ":   0.4280783696807591965 Johnson\n",
       ":   0.4201699413074561966 Johnson\n",
       ":   0.4252386675460861967 Johnson\n",
       ":   0.4221783489862011968 Johnson\n",
       ":   0.4229442379014971969 Johnson\n",
       ":   0.4126504312278081970 Nixon\n",
       ":   0.4120965523158021971 Nixon\n",
       ":   0.4037627941484511972 Nixon\n",
       ":   0.4031406573165011972 Nixon.1\n",
       ":   0.4351194874104331973 Nixon\n",
       ":   0.4085100098753031974 Nixon\n",
       ":   0.3947782234389361974 Nixon.1\n",
       ":   0.4477963495593881975 Ford\n",
       ":   0.4395517925210711976 Ford\n",
       ":   0.4290747864909241977 Ford\n",
       ":   0.4341941953949961978 Carter\n",
       ":   0.4148563452950561978 Carter.1\n",
       ":   0.4573835321965191979 Carter\n",
       ":   0.4206965557101121979 Carter.1\n",
       ":   0.45705015711251980 Carter\n",
       ":   0.4216374446628911980 Carter.1\n",
       ":   0.4632718925311591981 Carter\n",
       ":   0.4793568684144511981 Reagan\n",
       ":   0.4471722730640751982 Reagan\n",
       ":   0.4463468711926571983 Reagan\n",
       ":   0.4356200945943751984 Reagan\n",
       ":   0.4504096919062651985 Reagan\n",
       ":   0.4490912699091971986 Reagan\n",
       ":   0.4656150459743661987 Reagan\n",
       ":   0.4631079060008041988 Reagan\n",
       ":   0.455599679096771989 Bush\n",
       ":   0.4298187771131951990 Bush\n",
       ":   0.4306406656328611991 Bush\n",
       ":   0.4350638623564361992 Bush\n",
       ":   0.4371200438207471993 Clinton\n",
       ":   0.4053016250339711994 Clinton\n",
       ":   0.4273941832596731995 Clinton\n",
       ":   0.4260137941104031996 Clinton\n",
       ":   0.4186131738338791997 Clinton\n",
       ":   0.4330339780638021998 Clinton\n",
       ":   0.4410811193566471999 Clinton\n",
       ":   0.4360234839014622000 Clinton\n",
       ":   0.4399914796916912001 Bush\n",
       ":   0.4233384764638972002 Bush\n",
       ":   0.457141879810882003 Bush\n",
       ":   0.4693628524082472004 Bush\n",
       ":   0.4492995379265962005 Bush\n",
       ":   0.4403525458859672006 Bush\n",
       ":   0.4497880260753972007 Bush\n",
       ":   0.4639447845832952008 Bush\n",
       ":   0.4515546636246112009 Obama\n",
       ":   0.4305574093260642010 Obama\n",
       ":   0.4317150918075872011 Obama\n",
       ":   0.4456987641464932012 Obama\n",
       ":   0.4483634003547542013 Obama\n",
       ":   0.446320908687712014 Obama\n",
       ":   0.4572862145115552015 Obama\n",
       ":   0.4550108327120712016 Obama\n",
       ":   0.453864845940492017 Trump\n",
       ":   0.4636853839130112018 Trump\n",
       ":   0.4844716313299332019 Trump\n",
       ":   0.49614361194559\n",
       "\n"
      ],
      "text/plain": [
       "   1945 Roosevelt  1945 Roosevelt.1       1946 Truman       1947 Truman \n",
       "        0.4745855         0.4426741         0.4653760         0.4372786 \n",
       "      1948 Truman       1949 Truman       1950 Truman       1951 Truman \n",
       "        0.4120555         0.4219307         0.4051525         0.4066769 \n",
       "      1952 Truman       1953 Truman   1953 Eisenhower   1954 Eisenhower \n",
       "        0.4132891         0.4449914         0.4544360         0.4416871 \n",
       "  1955 Eisenhower   1956 Eisenhower 1956 Eisenhower.1   1957 Eisenhower \n",
       "        0.4421378         0.4421532         0.3985919         0.4454315 \n",
       "  1958 Eisenhower   1959 Eisenhower   1960 Eisenhower   1961 Eisenhower \n",
       "        0.4463132         0.4434943         0.4640482         0.4799840 \n",
       "     1961 Kennedy      1962 Kennedy      1963 Kennedy      1964 Johnson \n",
       "        0.4604038         0.4579105         0.4542360         0.4280784 \n",
       "     1965 Johnson      1966 Johnson      1967 Johnson      1968 Johnson \n",
       "        0.4201699         0.4252387         0.4221783         0.4229442 \n",
       "     1969 Johnson        1970 Nixon        1971 Nixon        1972 Nixon \n",
       "        0.4126504         0.4120966         0.4037628         0.4031407 \n",
       "     1972 Nixon.1        1973 Nixon        1974 Nixon      1974 Nixon.1 \n",
       "        0.4351195         0.4085100         0.3947782         0.4477963 \n",
       "        1975 Ford         1976 Ford         1977 Ford       1978 Carter \n",
       "        0.4395518         0.4290748         0.4341942         0.4148563 \n",
       "    1978 Carter.1       1979 Carter     1979 Carter.1       1980 Carter \n",
       "        0.4573835         0.4206966         0.4570502         0.4216374 \n",
       "    1980 Carter.1       1981 Carter       1981 Reagan       1982 Reagan \n",
       "        0.4632719         0.4793569         0.4471723         0.4463469 \n",
       "      1983 Reagan       1984 Reagan       1985 Reagan       1986 Reagan \n",
       "        0.4356201         0.4504097         0.4490913         0.4656150 \n",
       "      1987 Reagan       1988 Reagan         1989 Bush         1990 Bush \n",
       "        0.4631079         0.4555997         0.4298188         0.4306407 \n",
       "        1991 Bush         1992 Bush      1993 Clinton      1994 Clinton \n",
       "        0.4350639         0.4371200         0.4053016         0.4273942 \n",
       "     1995 Clinton      1996 Clinton      1997 Clinton      1998 Clinton \n",
       "        0.4260138         0.4186132         0.4330340         0.4410811 \n",
       "     1999 Clinton      2000 Clinton         2001 Bush         2002 Bush \n",
       "        0.4360235         0.4399915         0.4233385         0.4571419 \n",
       "        2003 Bush         2004 Bush         2005 Bush         2006 Bush \n",
       "        0.4693629         0.4492995         0.4403525         0.4497880 \n",
       "        2007 Bush         2008 Bush        2009 Obama        2010 Obama \n",
       "        0.4639448         0.4515547         0.4305574         0.4317151 \n",
       "       2011 Obama        2012 Obama        2013 Obama        2014 Obama \n",
       "        0.4456988         0.4483634         0.4463209         0.4572862 \n",
       "       2015 Obama        2016 Obama        2017 Trump        2018 Trump \n",
       "        0.4550108         0.4538648         0.4636854         0.4844716 \n",
       "       2019 Trump \n",
       "        0.4961436 "
      ]
     },
     "metadata": {},
     "output_type": "display_data"
    }
   ],
   "source": [
    "d_tf = corpus(sotu) %>% dfm() %>% dfm_tfidf(scheme_tf=\"prop\", smoothing=1)\n",
    "as.matrix(d_tf [c(3, 25, 50, 75), c(\"the\", \"our\", \"first\", \"investments\", \"defrauded\")])\n",
    "slam::row_sums(d_tf)\n",
    "\n"
   ]
  },
  {
   "cell_type": "code",
   "execution_count": 8,
   "metadata": {},
   "outputs": [],
   "source": [
    "url = \"http://cssbook.net/d/glove.6B.zip\" # mirror of http://nlp.stanford.edu/data/glove.6B.zip\n",
    "#if (!file.exists(\"\"))\n",
    "    unzip(\"glove.6B.zip\")\n",
    "if (!file.exists(\"glove.6B.zip\")) download.file(url, \"glove.6B.zip\")\n"
   ]
  },
  {
   "cell_type": "code",
   "execution_count": 168,
   "metadata": {
    "tags": [
     "snippet:embeddings1",
     "output:table"
    ]
   },
   "outputs": [
    {
     "name": "stderr",
     "output_type": "stream",
     "text": [
      "Parsed with column specification:\n",
      "cols(\n",
      "  .default = col_double(),\n",
      "  word = \u001b[31mcol_character()\u001b[39m\n",
      ")\n",
      "\n",
      "See spec(...) for full column specifications.\n",
      "\n"
     ]
    },
    {
     "data": {
      "text/html": [
       "<table>\n",
       "<caption>A matrix: 5 × 5 of type dbl</caption>\n",
       "<thead>\n",
       "\t<tr><th></th><th scope=col>d1</th><th scope=col>d2</th><th scope=col>d3</th><th scope=col>d4</th><th scope=col>d5</th></tr>\n",
       "</thead>\n",
       "<tbody>\n",
       "\t<tr><th scope=row>20003</th><td>-5.4593</td><td>0.89405</td><td>-0.29734</td><td> 2.28540</td><td> 0.0223550</td></tr>\n",
       "\t<tr><th scope=row>ncaa</th><td>-2.4049</td><td>0.84421</td><td>-0.35441</td><td> 0.99066</td><td>-0.9162500</td></tr>\n",
       "\t<tr><th scope=row>footballer</th><td>-2.3669</td><td>0.33942</td><td>-1.31750</td><td>-0.45337</td><td>-0.3124400</td></tr>\n",
       "\t<tr><th scope=row>basketball</th><td>-2.3654</td><td>1.33040</td><td>-0.52207</td><td> 0.96469</td><td>-0.0084912</td></tr>\n",
       "\t<tr><th scope=row>volleyball</th><td>-2.2447</td><td>0.97823</td><td>-1.39610</td><td> 1.67180</td><td>-0.6615300</td></tr>\n",
       "</tbody>\n",
       "</table>\n"
      ],
      "text/latex": [
       "A matrix: 5 × 5 of type dbl\n",
       "\\begin{tabular}{r|lllll}\n",
       "  & d1 & d2 & d3 & d4 & d5\\\\\n",
       "\\hline\n",
       "\t20003 & -5.4593 & 0.89405 & -0.29734 &  2.28540 &  0.0223550\\\\\n",
       "\tncaa & -2.4049 & 0.84421 & -0.35441 &  0.99066 & -0.9162500\\\\\n",
       "\tfootballer & -2.3669 & 0.33942 & -1.31750 & -0.45337 & -0.3124400\\\\\n",
       "\tbasketball & -2.3654 & 1.33040 & -0.52207 &  0.96469 & -0.0084912\\\\\n",
       "\tvolleyball & -2.2447 & 0.97823 & -1.39610 &  1.67180 & -0.6615300\\\\\n",
       "\\end{tabular}\n"
      ],
      "text/markdown": [
       "\n",
       "A matrix: 5 × 5 of type dbl\n",
       "\n",
       "| <!--/--> | d1 | d2 | d3 | d4 | d5 |\n",
       "|---|---|---|---|---|---|\n",
       "| 20003 | -5.4593 | 0.89405 | -0.29734 |  2.28540 |  0.0223550 |\n",
       "| ncaa | -2.4049 | 0.84421 | -0.35441 |  0.99066 | -0.9162500 |\n",
       "| footballer | -2.3669 | 0.33942 | -1.31750 | -0.45337 | -0.3124400 |\n",
       "| basketball | -2.3654 | 1.33040 | -0.52207 |  0.96469 | -0.0084912 |\n",
       "| volleyball | -2.2447 | 0.97823 | -1.39610 |  1.67180 | -0.6615300 |\n",
       "\n"
      ],
      "text/plain": [
       "           d1      d2      d3       d4       d5        \n",
       "20003      -5.4593 0.89405 -0.29734  2.28540  0.0223550\n",
       "ncaa       -2.4049 0.84421 -0.35441  0.99066 -0.9162500\n",
       "footballer -2.3669 0.33942 -1.31750 -0.45337 -0.3124400\n",
       "basketball -2.3654 1.33040 -0.52207  0.96469 -0.0084912\n",
       "volleyball -2.2447 0.97823 -1.39610  1.67180 -0.6615300"
      ]
     },
     "metadata": {},
     "output_type": "display_data"
    }
   ],
   "source": [
    "#wv_tibble = read_delim(\"glove.6B.50d.txt.zip\", delim=\" \", quote=\"\", col_names = c(\"word\", paste0(\"d\", 1:50)))\n",
    "wv_tibble = read_delim(\"glove.6B.50d.10k.w2v.txt\", skip=1, delim=\" \", quote=\"\", col_names = c(\"word\", paste0(\"d\", 1:50)))\n",
    "wv = as.matrix(wv_tibble[-1])\n",
    "rownames(wv) = wv_tibble$word\n",
    "#wv = wv / sqrt(rowSums(wv^2))\n",
    "wv[order(wv[,1])[1:5], 1:5]\n"
   ]
  },
  {
   "cell_type": "code",
   "execution_count": 169,
   "metadata": {
    "tags": [
     "snippet:embeddings2",
     "output:table"
    ]
   },
   "outputs": [
    {
     "data": {
      "text/html": [
       "<table>\n",
       "<caption>A tibble: 5 × 2</caption>\n",
       "<thead>\n",
       "\t<tr><th scope=col>word</th><th scope=col>similarity</th></tr>\n",
       "\t<tr><th scope=col>&lt;chr&gt;</th><th scope=col>&lt;dbl&gt;</th></tr>\n",
       "</thead>\n",
       "<tbody>\n",
       "\t<tr><td>fraud     </td><td>1.0000000</td></tr>\n",
       "\t<tr><td>charges   </td><td>0.8591152</td></tr>\n",
       "\t<tr><td>bribery   </td><td>0.8559850</td></tr>\n",
       "\t<tr><td>alleged   </td><td>0.8415063</td></tr>\n",
       "\t<tr><td>corruption</td><td>0.8299386</td></tr>\n",
       "</tbody>\n",
       "</table>\n"
      ],
      "text/latex": [
       "A tibble: 5 × 2\n",
       "\\begin{tabular}{ll}\n",
       " word & similarity\\\\\n",
       " <chr> & <dbl>\\\\\n",
       "\\hline\n",
       "\t fraud      & 1.0000000\\\\\n",
       "\t charges    & 0.8591152\\\\\n",
       "\t bribery    & 0.8559850\\\\\n",
       "\t alleged    & 0.8415063\\\\\n",
       "\t corruption & 0.8299386\\\\\n",
       "\\end{tabular}\n"
      ],
      "text/markdown": [
       "\n",
       "A tibble: 5 × 2\n",
       "\n",
       "| word &lt;chr&gt; | similarity &lt;dbl&gt; |\n",
       "|---|---|\n",
       "| fraud      | 1.0000000 |\n",
       "| charges    | 0.8591152 |\n",
       "| bribery    | 0.8559850 |\n",
       "| alleged    | 0.8415063 |\n",
       "| corruption | 0.8299386 |\n",
       "\n"
      ],
      "text/plain": [
       "  word       similarity\n",
       "1 fraud      1.0000000 \n",
       "2 charges    0.8591152 \n",
       "3 bribery    0.8559850 \n",
       "4 alleged    0.8415063 \n",
       "5 corruption 0.8299386 "
      ]
     },
     "metadata": {},
     "output_type": "display_data"
    }
   ],
   "source": [
    "wvector = function(wv, word) wv[rownames(wv) == word,,drop=F]\n",
    "\n",
    "normalize = function(x) x / sqrt(rowSums(x^2))\n",
    "\n",
    "wv_similar = function(wv, target, n=5) {\n",
    "  if (class(target) == \"character\") target = wvector(wv, target)\n",
    "  similarities = normalize(wv) %*% t(normalize(target))\n",
    "  similarities %>% as_tibble(rownames = \"word\") %>% \n",
    "    rename(similarity=2) %>% \n",
    "    #mutate(similarity = sqrt( pmax(similarity,0) / ncol(wv))) %>% \n",
    "    arrange(-similarity) %>% \n",
    "    head(n=n)  \n",
    "}\n",
    "wv_similar(wv, \"fraud\")"
   ]
  },
  {
   "cell_type": "code",
   "execution_count": 178,
   "metadata": {
    "tags": [
     "snippet:embeddings3"
    ]
   },
   "outputs": [
    {
     "name": "stdout",
     "output_type": "stream",
     "text": [
      "Man is to king as woman is to: queen\n",
      "Man is to boy as woman is to: girl\n",
      "Man is to father as woman is to: mother\n",
      "Man is to pete as woman is to: barbara\n",
      "Man is to football as woman is to: soccer\n"
     ]
    }
   ],
   "source": [
    "wv_analogy = function(wv, a, b, c) {\n",
    "  result = (wvector(wv, b) + wvector(wv, c) - wvector(wv, a)) / 3\n",
    "  matches = wv_similar(wv, result) %>% filter(!word %in% c(a,b,c))\n",
    "  matches$word[1]\n",
    "}\n",
    "\n",
    "for (x in c(\"king\", \"boy\", \"father\", \"pete\", \"football\")) {\n",
    "    y = wv_analogy(wv, 'man', x, 'woman')\n",
    "    print(glue(\"Man is to {x} as woman is to: {y}\"))\n",
    "}"
   ]
  },
  {
   "cell_type": "code",
   "execution_count": 183,
   "metadata": {},
   "outputs": [
    {
     "ename": "ERROR",
     "evalue": "Error in wvector(wv, x): argument \"x\" is missing, with no default\n",
     "output_type": "error",
     "traceback": [
      "Error in wvector(wv, x): argument \"x\" is missing, with no default\nTraceback:\n",
      "1. gender(\"queen\")",
      "2. normalize(wvector(wv, x))   # at line 2 of file <text>",
      "3. wvector(wv, x)   # at line 3 of file <text>"
     ]
    }
   ],
   "source": [
    "gender <- function(wv, x) {\n",
    "    x = normalize(wvector(wv, x))\n",
    "    m_sim = x %*% t(normalize(wvector(wv, \"male\")))\n",
    "    f_sim = x %*% t(normalize(wvector(wv, \"female\")))\n",
    "    if (m_sim > f_sim) \"male\" else \"female\"\n",
    "}\n",
    "#for (x in c(\"king\", \"mary\", \"president\", \"nurse\", \"football\", \"soccer\")) \n",
    "#    glue(\"{x} is {gender(x)}\")\n",
    "gender(\"queen\")\n",
    "\n",
    "    x = normalize(wvector(wv, \"qeen\"))"
   ]
  }
 ],
 "metadata": {
  "celltoolbar": "Tags",
  "kernelspec": {
   "display_name": "R",
   "language": "R",
   "name": "ir"
  },
  "language_info": {
   "codemirror_mode": "r",
   "file_extension": ".r",
   "mimetype": "text/x-r-source",
   "name": "R",
   "pygments_lexer": "r",
   "version": "3.6.2"
  }
 },
 "nbformat": 4,
 "nbformat_minor": 4
}
