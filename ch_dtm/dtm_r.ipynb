{
 "cells": [
  {
   "cell_type": "code",
   "execution_count": 5,
   "metadata": {
    "tags": [
     "snippet:dtm"
    ]
   },
   "outputs": [
    {
     "data": {
      "text/plain": [
       "Document-feature matrix of: 2 documents, 11 features (31.8% sparse).\n",
       "2 x 11 sparse Matrix of class \"dfm\"\n",
       "       features\n",
       "docs    the caged bird sings with a fearful trill for of freedom\n",
       "  text1   1     1    1     1    1 1       1     1   0  0       0\n",
       "  text2   1     1    1     1    0 0       0     0   1  1       1"
      ]
     },
     "metadata": {},
     "output_type": "display_data"
    }
   ],
   "source": [
    "library(quanteda)\n",
    "texts = c(\"The caged bird sings with a fearful trill\", \n",
    "          \"for the caged bird sings of freedom\")\n",
    "dfm(texts)"
   ]
  }
 ],
 "metadata": {
  "celltoolbar": "Tags",
  "kernelspec": {
   "display_name": "R",
   "language": "R",
   "name": "ir"
  },
  "language_info": {
   "codemirror_mode": "r",
   "file_extension": ".r",
   "mimetype": "text/x-r-source",
   "name": "R",
   "pygments_lexer": "r",
   "version": "3.6.2"
  }
 },
 "nbformat": 4,
 "nbformat_minor": 4
}
