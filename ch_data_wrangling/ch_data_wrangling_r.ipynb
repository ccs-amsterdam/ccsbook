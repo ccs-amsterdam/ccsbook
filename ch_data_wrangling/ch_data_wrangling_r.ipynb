{
 "cells": [
  {
   "cell_type": "code",
   "execution_count": 1,
   "metadata": {
    "tags": [
     "snippet:data-filter"
    ]
   },
   "outputs": [
    {
     "name": "stderr",
     "output_type": "stream",
     "text": [
      "Registered S3 methods overwritten by 'ggplot2':\n",
      "  method         from \n",
      "  [.quosures     rlang\n",
      "  c.quosures     rlang\n",
      "  print.quosures rlang\n",
      "── \u001b[1mAttaching packages\u001b[22m ─────────────────────────────────────── tidyverse 1.2.1 ──\n",
      "\u001b[32m✔\u001b[39m \u001b[34mggplot2\u001b[39m 3.1.1     \u001b[32m✔\u001b[39m \u001b[34mpurrr  \u001b[39m 0.3.2\n",
      "\u001b[32m✔\u001b[39m \u001b[34mtibble \u001b[39m 2.1.3     \u001b[32m✔\u001b[39m \u001b[34mdplyr  \u001b[39m 0.8.3\n",
      "\u001b[32m✔\u001b[39m \u001b[34mtidyr  \u001b[39m 0.8.3     \u001b[32m✔\u001b[39m \u001b[34mstringr\u001b[39m 1.4.0\n",
      "\u001b[32m✔\u001b[39m \u001b[34mreadr  \u001b[39m 1.3.1     \u001b[32m✔\u001b[39m \u001b[34mforcats\u001b[39m 0.4.0\n",
      "── \u001b[1mConflicts\u001b[22m ────────────────────────────────────────── tidyverse_conflicts() ──\n",
      "\u001b[31m✖\u001b[39m \u001b[34mdplyr\u001b[39m::\u001b[32mfilter()\u001b[39m masks \u001b[34mstats\u001b[39m::filter()\n",
      "\u001b[31m✖\u001b[39m \u001b[34mdplyr\u001b[39m::\u001b[32mlag()\u001b[39m    masks \u001b[34mstats\u001b[39m::lag()\n",
      "Parsed with column specification:\n",
      "cols(\n",
      "  Question = \u001b[31mcol_character()\u001b[39m,\n",
      "  Start = \u001b[31mcol_character()\u001b[39m,\n",
      "  End = \u001b[31mcol_character()\u001b[39m,\n",
      "  Pollster = \u001b[31mcol_character()\u001b[39m,\n",
      "  Population = \u001b[31mcol_character()\u001b[39m,\n",
      "  Support = \u001b[32mcol_double()\u001b[39m,\n",
      "  `Republican Support` = \u001b[32mcol_double()\u001b[39m,\n",
      "  `Democratic Support` = \u001b[32mcol_double()\u001b[39m,\n",
      "  URL = \u001b[31mcol_character()\u001b[39m\n",
      ")\n"
     ]
    },
    {
     "data": {
      "text/html": [
       "<table>\n",
       "<caption>A spec_tbl_df: 6 × 8</caption>\n",
       "<thead>\n",
       "\t<tr><th scope=col>Question</th><th scope=col>Start</th><th scope=col>End</th><th scope=col>Pollster</th><th scope=col>Population</th><th scope=col>Support</th><th scope=col>rep</th><th scope=col>dem</th></tr>\n",
       "\t<tr><th scope=col>&lt;chr&gt;</th><th scope=col>&lt;chr&gt;</th><th scope=col>&lt;chr&gt;</th><th scope=col>&lt;chr&gt;</th><th scope=col>&lt;chr&gt;</th><th scope=col>&lt;dbl&gt;</th><th scope=col>&lt;dbl&gt;</th><th scope=col>&lt;dbl&gt;</th></tr>\n",
       "</thead>\n",
       "<tbody>\n",
       "\t<tr><td>arm-teachers</td><td>2/23/18</td><td>2/25/18</td><td>YouGov/Huffpost</td><td>Registered Voters</td><td>41</td><td>69</td><td>20</td></tr>\n",
       "\t<tr><td>arm-teachers</td><td>2/20/18</td><td>2/23/18</td><td>CBS News       </td><td>Adults           </td><td>44</td><td>68</td><td>20</td></tr>\n",
       "\t<tr><td>arm-teachers</td><td>2/27/18</td><td>2/28/18</td><td>Rasmussen      </td><td>Adults           </td><td>43</td><td>71</td><td>24</td></tr>\n",
       "\t<tr><td>arm-teachers</td><td>2/27/18</td><td>2/28/18</td><td>NPR/Ipsos      </td><td>Adults           </td><td>41</td><td>68</td><td>18</td></tr>\n",
       "\t<tr><td>arm-teachers</td><td>3/3/18 </td><td>3/5/18 </td><td>Quinnipiac     </td><td>Registered Voters</td><td>40</td><td>77</td><td>10</td></tr>\n",
       "\t<tr><td>arm-teachers</td><td>2/26/18</td><td>2/28/18</td><td>SurveyMonkey   </td><td>Registered Voters</td><td>43</td><td>80</td><td>11</td></tr>\n",
       "</tbody>\n",
       "</table>\n"
      ],
      "text/latex": [
       "A spec_tbl_df: 6 × 8\n",
       "\\begin{tabular}{r|llllllll}\n",
       " Question & Start & End & Pollster & Population & Support & rep & dem\\\\\n",
       " <chr> & <chr> & <chr> & <chr> & <chr> & <dbl> & <dbl> & <dbl>\\\\\n",
       "\\hline\n",
       "\t arm-teachers & 2/23/18 & 2/25/18 & YouGov/Huffpost & Registered Voters & 41 & 69 & 20\\\\\n",
       "\t arm-teachers & 2/20/18 & 2/23/18 & CBS News        & Adults            & 44 & 68 & 20\\\\\n",
       "\t arm-teachers & 2/27/18 & 2/28/18 & Rasmussen       & Adults            & 43 & 71 & 24\\\\\n",
       "\t arm-teachers & 2/27/18 & 2/28/18 & NPR/Ipsos       & Adults            & 41 & 68 & 18\\\\\n",
       "\t arm-teachers & 3/3/18  & 3/5/18  & Quinnipiac      & Registered Voters & 40 & 77 & 10\\\\\n",
       "\t arm-teachers & 2/26/18 & 2/28/18 & SurveyMonkey    & Registered Voters & 43 & 80 & 11\\\\\n",
       "\\end{tabular}\n"
      ],
      "text/markdown": [
       "\n",
       "A spec_tbl_df: 6 × 8\n",
       "\n",
       "| Question &lt;chr&gt; | Start &lt;chr&gt; | End &lt;chr&gt; | Pollster &lt;chr&gt; | Population &lt;chr&gt; | Support &lt;dbl&gt; | rep &lt;dbl&gt; | dem &lt;dbl&gt; |\n",
       "|---|---|---|---|---|---|---|---|\n",
       "| arm-teachers | 2/23/18 | 2/25/18 | YouGov/Huffpost | Registered Voters | 41 | 69 | 20 |\n",
       "| arm-teachers | 2/20/18 | 2/23/18 | CBS News        | Adults            | 44 | 68 | 20 |\n",
       "| arm-teachers | 2/27/18 | 2/28/18 | Rasmussen       | Adults            | 43 | 71 | 24 |\n",
       "| arm-teachers | 2/27/18 | 2/28/18 | NPR/Ipsos       | Adults            | 41 | 68 | 18 |\n",
       "| arm-teachers | 3/3/18  | 3/5/18  | Quinnipiac      | Registered Voters | 40 | 77 | 10 |\n",
       "| arm-teachers | 2/26/18 | 2/28/18 | SurveyMonkey    | Registered Voters | 43 | 80 | 11 |\n",
       "\n"
      ],
      "text/plain": [
       "  Question     Start   End     Pollster        Population        Support rep\n",
       "1 arm-teachers 2/23/18 2/25/18 YouGov/Huffpost Registered Voters 41      69 \n",
       "2 arm-teachers 2/20/18 2/23/18 CBS News        Adults            44      68 \n",
       "3 arm-teachers 2/27/18 2/28/18 Rasmussen       Adults            43      71 \n",
       "4 arm-teachers 2/27/18 2/28/18 NPR/Ipsos       Adults            41      68 \n",
       "5 arm-teachers 3/3/18  3/5/18  Quinnipiac      Registered Voters 40      77 \n",
       "6 arm-teachers 2/26/18 2/28/18 SurveyMonkey    Registered Voters 43      80 \n",
       "  dem\n",
       "1 20 \n",
       "2 20 \n",
       "3 24 \n",
       "4 18 \n",
       "5 10 \n",
       "6 11 "
      ]
     },
     "metadata": {},
     "output_type": "display_data"
    }
   ],
   "source": [
    "library(tidyverse)\n",
    "url=\"http://cssbook.net/d/guns-polls.csv\"\n",
    "d = read_csv(url)\n",
    "d = rename(d, rep=`Republican Support`, dem=`Democratic Support`)\n",
    "d = select(d, -URL)\n",
    "d2 = filter(d, Question == 'arm-teachers')\n",
    "d2"
   ]
  }
 ],
 "metadata": {
  "celltoolbar": "Tags",
  "kernelspec": {
   "display_name": "R",
   "language": "R",
   "name": "ir"
  },
  "language_info": {
   "codemirror_mode": "r",
   "file_extension": ".r",
   "mimetype": "text/x-r-source",
   "name": "R",
   "pygments_lexer": "r",
   "version": "3.6.0"
  }
 },
 "nbformat": 4,
 "nbformat_minor": 2
}
