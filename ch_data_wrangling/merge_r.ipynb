{
 "cells": [
  {
   "cell_type": "code",
   "execution_count": 2,
   "metadata": {},
   "outputs": [
    {
     "name": "stderr",
     "output_type": "stream",
     "text": [
      "Registered S3 methods overwritten by 'ggplot2':\n",
      "  method         from \n",
      "  [.quosures     rlang\n",
      "  c.quosures     rlang\n",
      "  print.quosures rlang\n",
      "── \u001b[1mAttaching packages\u001b[22m ─────────────────────────────────────── tidyverse 1.2.1 ──\n",
      "\u001b[32m✔\u001b[39m \u001b[34mggplot2\u001b[39m 3.1.1     \u001b[32m✔\u001b[39m \u001b[34mpurrr  \u001b[39m 0.3.3\n",
      "\u001b[32m✔\u001b[39m \u001b[34mtibble \u001b[39m 2.1.3     \u001b[32m✔\u001b[39m \u001b[34mdplyr  \u001b[39m 0.8.3\n",
      "\u001b[32m✔\u001b[39m \u001b[34mtidyr  \u001b[39m 0.8.3     \u001b[32m✔\u001b[39m \u001b[34mstringr\u001b[39m 1.4.0\n",
      "\u001b[32m✔\u001b[39m \u001b[34mreadr  \u001b[39m 1.3.1     \u001b[32m✔\u001b[39m \u001b[34mforcats\u001b[39m 0.4.0\n",
      "── \u001b[1mConflicts\u001b[22m ────────────────────────────────────────── tidyverse_conflicts() ──\n",
      "\u001b[31m✖\u001b[39m \u001b[34mdplyr\u001b[39m::\u001b[32mfilter()\u001b[39m masks \u001b[34mstats\u001b[39m::filter()\n",
      "\u001b[31m✖\u001b[39m \u001b[34mdplyr\u001b[39m::\u001b[32mlag()\u001b[39m    masks \u001b[34mstats\u001b[39m::lag()\n"
     ]
    }
   ],
   "source": [
    "library(tidyverse)"
   ]
  },
  {
   "cell_type": "code",
   "execution_count": 12,
   "metadata": {
    "tags": [
     "snippet:piketty",
     "output:html"
    ]
   },
   "outputs": [
    {
     "name": "stderr",
     "output_type": "stream",
     "text": [
      "Parsed with column specification:\n",
      "cols(\n",
      "  Year = \u001b[32mcol_double()\u001b[39m,\n",
      "  U.S. = \u001b[32mcol_double()\u001b[39m,\n",
      "  Japan = \u001b[32mcol_double()\u001b[39m,\n",
      "  Germany = \u001b[32mcol_double()\u001b[39m,\n",
      "  France = \u001b[32mcol_double()\u001b[39m,\n",
      "  U.K. = \u001b[32mcol_double()\u001b[39m,\n",
      "  Italy = \u001b[32mcol_double()\u001b[39m,\n",
      "  Canada = \u001b[32mcol_double()\u001b[39m,\n",
      "  Australia = \u001b[32mcol_double()\u001b[39m,\n",
      "  Spain = \u001b[32mcol_double()\u001b[39m\n",
      ")\n",
      "Parsed with column specification:\n",
      "cols(\n",
      "  Year = \u001b[32mcol_double()\u001b[39m,\n",
      "  U.S. = \u001b[32mcol_double()\u001b[39m,\n",
      "  Japan = \u001b[32mcol_double()\u001b[39m,\n",
      "  Germany = \u001b[32mcol_double()\u001b[39m,\n",
      "  France = \u001b[32mcol_double()\u001b[39m,\n",
      "  U.K. = \u001b[32mcol_double()\u001b[39m,\n",
      "  Italy = \u001b[32mcol_double()\u001b[39m,\n",
      "  Canada = \u001b[32mcol_double()\u001b[39m,\n",
      "  Australia = \u001b[32mcol_double()\u001b[39m,\n",
      "  Spain = \u001b[32mcol_double()\u001b[39m\n",
      ")\n"
     ]
    },
    {
     "data": {
      "text/html": [
       "<table>\n",
       "<caption>A tibble: 6 × 10</caption>\n",
       "<thead>\n",
       "\t<tr><th scope=col>Year</th><th scope=col>U.S.</th><th scope=col>Japan</th><th scope=col>Germany</th><th scope=col>France</th><th scope=col>U.K.</th><th scope=col>Italy</th><th scope=col>Canada</th><th scope=col>Australia</th><th scope=col>Spain</th></tr>\n",
       "\t<tr><th scope=col>&lt;dbl&gt;</th><th scope=col>&lt;dbl&gt;</th><th scope=col>&lt;dbl&gt;</th><th scope=col>&lt;dbl&gt;</th><th scope=col>&lt;dbl&gt;</th><th scope=col>&lt;dbl&gt;</th><th scope=col>&lt;dbl&gt;</th><th scope=col>&lt;dbl&gt;</th><th scope=col>&lt;dbl&gt;</th><th scope=col>&lt;dbl&gt;</th></tr>\n",
       "</thead>\n",
       "<tbody>\n",
       "\t<tr><td>2005</td><td>4.70</td><td>5.74</td><td>3.84</td><td>5.00</td><td>4.99</td><td>6.24</td><td>3.73</td><td>5.22</td><td>7.24</td></tr>\n",
       "\t<tr><td>2006</td><td>4.88</td><td>5.83</td><td>3.78</td><td>5.34</td><td>5.19</td><td>6.37</td><td>3.88</td><td>5.32</td><td>7.69</td></tr>\n",
       "\t<tr><td>2007</td><td>4.94</td><td>5.79</td><td>3.79</td><td>5.53</td><td>5.23</td><td>6.42</td><td>4.02</td><td>5.55</td><td>7.92</td></tr>\n",
       "\t<tr><td>2008</td><td>4.36</td><td>5.87</td><td>3.90</td><td>5.53</td><td>4.91</td><td>6.61</td><td>3.83</td><td>5.44</td><td>7.86</td></tr>\n",
       "\t<tr><td>2009</td><td>4.06</td><td>6.19</td><td>4.15</td><td>5.63</td><td>5.04</td><td>6.91</td><td>4.13</td><td>5.04</td><td>7.89</td></tr>\n",
       "\t<tr><td>2010</td><td>4.10</td><td>6.01</td><td>4.12</td><td>5.75</td><td>5.22</td><td>6.76</td><td>4.16</td><td>5.18</td><td>7.55</td></tr>\n",
       "</tbody>\n",
       "</table>\n"
      ],
      "text/latex": [
       "A tibble: 6 × 10\n",
       "\\begin{tabular}{r|llllllllll}\n",
       " Year & U.S. & Japan & Germany & France & U.K. & Italy & Canada & Australia & Spain\\\\\n",
       " <dbl> & <dbl> & <dbl> & <dbl> & <dbl> & <dbl> & <dbl> & <dbl> & <dbl> & <dbl>\\\\\n",
       "\\hline\n",
       "\t 2005 & 4.70 & 5.74 & 3.84 & 5.00 & 4.99 & 6.24 & 3.73 & 5.22 & 7.24\\\\\n",
       "\t 2006 & 4.88 & 5.83 & 3.78 & 5.34 & 5.19 & 6.37 & 3.88 & 5.32 & 7.69\\\\\n",
       "\t 2007 & 4.94 & 5.79 & 3.79 & 5.53 & 5.23 & 6.42 & 4.02 & 5.55 & 7.92\\\\\n",
       "\t 2008 & 4.36 & 5.87 & 3.90 & 5.53 & 4.91 & 6.61 & 3.83 & 5.44 & 7.86\\\\\n",
       "\t 2009 & 4.06 & 6.19 & 4.15 & 5.63 & 5.04 & 6.91 & 4.13 & 5.04 & 7.89\\\\\n",
       "\t 2010 & 4.10 & 6.01 & 4.12 & 5.75 & 5.22 & 6.76 & 4.16 & 5.18 & 7.55\\\\\n",
       "\\end{tabular}\n"
      ],
      "text/markdown": [
       "\n",
       "A tibble: 6 × 10\n",
       "\n",
       "| Year &lt;dbl&gt; | U.S. &lt;dbl&gt; | Japan &lt;dbl&gt; | Germany &lt;dbl&gt; | France &lt;dbl&gt; | U.K. &lt;dbl&gt; | Italy &lt;dbl&gt; | Canada &lt;dbl&gt; | Australia &lt;dbl&gt; | Spain &lt;dbl&gt; |\n",
       "|---|---|---|---|---|---|---|---|---|---|\n",
       "| 2005 | 4.70 | 5.74 | 3.84 | 5.00 | 4.99 | 6.24 | 3.73 | 5.22 | 7.24 |\n",
       "| 2006 | 4.88 | 5.83 | 3.78 | 5.34 | 5.19 | 6.37 | 3.88 | 5.32 | 7.69 |\n",
       "| 2007 | 4.94 | 5.79 | 3.79 | 5.53 | 5.23 | 6.42 | 4.02 | 5.55 | 7.92 |\n",
       "| 2008 | 4.36 | 5.87 | 3.90 | 5.53 | 4.91 | 6.61 | 3.83 | 5.44 | 7.86 |\n",
       "| 2009 | 4.06 | 6.19 | 4.15 | 5.63 | 5.04 | 6.91 | 4.13 | 5.04 | 7.89 |\n",
       "| 2010 | 4.10 | 6.01 | 4.12 | 5.75 | 5.22 | 6.76 | 4.16 | 5.18 | 7.55 |\n",
       "\n"
      ],
      "text/plain": [
       "  Year U.S. Japan Germany France U.K. Italy Canada Australia Spain\n",
       "1 2005 4.70 5.74  3.84    5.00   4.99 6.24  3.73   5.22      7.24 \n",
       "2 2006 4.88 5.83  3.78    5.34   5.19 6.37  3.88   5.32      7.69 \n",
       "3 2007 4.94 5.79  3.79    5.53   5.23 6.42  4.02   5.55      7.92 \n",
       "4 2008 4.36 5.87  3.90    5.53   4.91 6.61  3.83   5.44      7.86 \n",
       "5 2009 4.06 6.19  4.15    5.63   5.04 6.91  4.13   5.04      7.89 \n",
       "6 2010 4.10 6.01  4.12    5.75   5.22 6.76  4.16   5.18      7.55 "
      ]
     },
     "metadata": {},
     "output_type": "display_data"
    }
   ],
   "source": [
    "private = read_csv(\"http://cssbook.net/d/private_capital.csv\")\n",
    "public = read_csv(\"http://cssbook.net/d/public_capital.csv\")\n",
    "tail(private)"
   ]
  },
  {
   "cell_type": "code",
   "execution_count": 18,
   "metadata": {
    "tags": [
     "snippet:capital"
    ]
   },
   "outputs": [
    {
     "name": "stderr",
     "output_type": "stream",
     "text": [
      "Joining, by = \"Year\""
     ]
    },
    {
     "data": {
      "text/plain": [
       "\n",
       "\tPearson's product-moment correlation\n",
       "\n",
       "data:  capital_fr$fr_private and capital_fr$fr_public\n",
       "t = -2.1204, df = 39, p-value = 0.04039\n",
       "alternative hypothesis: true correlation is not equal to 0\n",
       "95 percent confidence interval:\n",
       " -0.57252488 -0.01537337\n",
       "sample estimates:\n",
       "       cor \n",
       "-0.3215032 \n"
      ]
     },
     "metadata": {},
     "output_type": "display_data"
    }
   ],
   "source": [
    "private_fr = private %>% select(Year, fr_private=France)\n",
    "public_fr = public %>% select(Year, fr_public=France)\n",
    "capital_fr = full_join(private_fr, public_fr, by=\"Year\")\n",
    "# Can also omit the by, as it is the only shared column\n",
    "capital_fr = full_join(private_fr, public_fr)\n",
    "# Are private and public capital correlated (output not shown?)\n",
    "cor.test(capital_fr$fr_private, capital_fr$fr_public)\n",
    "\n",
    "# Data for Figure 3.6 (Piketty, 2014, p 128)\n",
    "#head(capital_fr)\n",
    "# TODO: Allow selecting which output as tag"
   ]
  }
 ],
 "metadata": {
  "celltoolbar": "Tags",
  "kernelspec": {
   "display_name": "R",
   "language": "R",
   "name": "ir"
  },
  "language_info": {
   "codemirror_mode": "r",
   "file_extension": ".r",
   "mimetype": "text/x-r-source",
   "name": "R",
   "pygments_lexer": "r",
   "version": "3.6.0"
  }
 },
 "nbformat": 4,
 "nbformat_minor": 2
}
