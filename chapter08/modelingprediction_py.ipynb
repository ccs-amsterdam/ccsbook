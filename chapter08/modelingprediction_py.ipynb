{
 "cells": [
  {
   "cell_type": "code",
   "execution_count": 5,
   "metadata": {
    "tags": [
     "snippet:chapter08install",
     "dontrun"
    ]
   },
   "outputs": [
    {
     "name": "stdout",
     "output_type": "stream",
     "text": [
      "Requirement already satisfied: pandas in /home/damian/onderwijs_github/ccsbook/env/lib/python3.8/site-packages (1.1.4)\n",
      "Requirement already satisfied: statsmodels in /home/damian/onderwijs_github/ccsbook/env/lib/python3.8/site-packages (0.12.2)\n",
      "Requirement already satisfied: sklearn in /home/damian/onderwijs_github/ccsbook/env/lib/python3.8/site-packages (0.0)\n",
      "Requirement already satisfied: pytz>=2017.2 in /home/damian/onderwijs_github/ccsbook/env/lib/python3.8/site-packages (from pandas) (2020.4)\n",
      "Requirement already satisfied: numpy>=1.15.4 in /home/damian/onderwijs_github/ccsbook/env/lib/python3.8/site-packages (from pandas) (1.19.4)\n",
      "Requirement already satisfied: python-dateutil>=2.7.3 in /home/damian/onderwijs_github/ccsbook/env/lib/python3.8/site-packages (from pandas) (2.8.1)\n",
      "Requirement already satisfied: six>=1.5 in /home/damian/onderwijs_github/ccsbook/env/lib/python3.8/site-packages (from python-dateutil>=2.7.3->pandas) (1.15.0)\n",
      "Requirement already satisfied: scipy>=1.1 in /home/damian/onderwijs_github/ccsbook/env/lib/python3.8/site-packages (from statsmodels) (1.5.4)\n",
      "Requirement already satisfied: patsy>=0.5 in /home/damian/onderwijs_github/ccsbook/env/lib/python3.8/site-packages (from statsmodels) (0.5.1)\n",
      "Requirement already satisfied: scikit-learn in /home/damian/onderwijs_github/ccsbook/env/lib/python3.8/site-packages (from sklearn) (0.23.2)\n",
      "Requirement already satisfied: threadpoolctl>=2.0.0 in /home/damian/onderwijs_github/ccsbook/env/lib/python3.8/site-packages (from scikit-learn->sklearn) (2.1.0)\n",
      "Requirement already satisfied: joblib>=0.11 in /home/damian/onderwijs_github/ccsbook/env/lib/python3.8/site-packages (from scikit-learn->sklearn) (0.17.0)\n"
     ]
    }
   ],
   "source": [
    "!pip3 install pandas statsmodels sklearn"
   ]
  },
  {
   "cell_type": "code",
   "execution_count": 15,
   "metadata": {
    "tags": [
     "snippet:chapter08library"
    ]
   },
   "outputs": [],
   "source": [
    "# Data handling, math, and plotting\n",
    "import pandas as pd\n",
    "import numpy as np\n",
    "import matplotlib.pyplot as plt\n",
    "\n",
    "# Classical statistical modeling\n",
    "import statsmodels.formula.api as smf\n",
    "\n",
    "# ML: Preprocessing\n",
    "from sklearn import preprocessing\n",
    "\n",
    "# ML: Train/test splits, cross validation, \n",
    "# gridsearch\n",
    "from sklearn.model_selection import (\n",
    "    train_test_split, cross_val_score, \n",
    "    GridSearchCV)\n",
    "\n",
    "# ML: Different models\n",
    "from sklearn.naive_bayes import GaussianNB\n",
    "from sklearn.linear_model import (\n",
    "    LogisticRegression)\n",
    "from sklearn.svm import SVC\n",
    "from sklearn.ensemble import (\n",
    "    RandomForestClassifier)\n",
    "\n",
    "# ML: Model evaluation\n",
    "from sklearn.metrics import (confusion_matrix, \n",
    "    classification_report, roc_curve, auc, \n",
    "    cohen_kappa_score, make_scorer, f1_score)"
   ]
  },
  {
   "cell_type": "code",
   "execution_count": 11,
   "metadata": {
    "tags": [
     "snippet:ols"
    ]
   },
   "outputs": [
    {
     "data": {
      "text/plain": [
       "Intercept   -0.089560\n",
       "age          0.067620\n",
       "gender       0.176665\n",
       "dtype: float64"
      ]
     },
     "execution_count": 11,
     "metadata": {},
     "output_type": "execute_result"
    }
   ],
   "source": [
    "df=pd.read_csv(\"https://cssbook.net/d/media.csv\")\n",
    "mod = smf.ols(formula=\"newspaper ~ age + gender\", \n",
    "              data=df).fit()\n",
    "# mod.summary() would give a lot more info, \n",
    "# but we only care about the coefficients:\n",
    "mod.params"
   ]
  },
  {
   "cell_type": "code",
   "execution_count": 12,
   "metadata": {
    "tags": [
     "snippet:olspredict"
    ]
   },
   "outputs": [
    {
     "data": {
      "text/plain": [
       "0    1.439508\n",
       "1    2.615248\n",
       "dtype: float64"
      ]
     },
     "execution_count": 12,
     "metadata": {},
     "output_type": "execute_result"
    }
   ],
   "source": [
    "newdata = pd.DataFrame([{\"gender\":1, \"age\":20}, \n",
    "                        {\"gender\": 0, \"age\":40} ])\n",
    "mod.predict(newdata)"
   ]
  },
  {
   "cell_type": "code",
   "execution_count": 17,
   "metadata": {
    "tags": [
     "snippet:preparedata"
    ]
   },
   "outputs": [
    {
     "name": "stdout",
     "output_type": "stream",
     "text": [
      "How many people used online news at all?\n",
      "user        1262\n",
      "non-user     803\n",
      "Name: uses-internet, dtype: int64\n",
      "We have 1652 training and 413 test cases.\n"
     ]
    }
   ],
   "source": [
    "df=pd.read_csv(\"https://cssbook.net/d/media.csv\")\n",
    "\n",
    "df[\"uses-internet\"] = (df[\"internet\"]>0).replace(\n",
    "    {True:\"user\", False:\"non-user\"})\n",
    "df.dropna(inplace=True)\n",
    "print(\"How many people used online news at all?\")\n",
    "print(df[\"uses-internet\"].value_counts())\n",
    "\n",
    "X_train, X_test, y_train, y_test = \\\n",
    "train_test_split(df[[\"age\",\"education\",\"gender\"]],\n",
    "        df[\"uses-internet\"], test_size=0.2,\n",
    "        random_state=42)\n",
    "\n",
    "print(f\"We have {len(X_train)} training and \"\\\n",
    "      f\"{len(X_test)} test cases.\")"
   ]
  },
  {
   "cell_type": "code",
   "execution_count": 18,
   "metadata": {
    "tags": [
     "snippet:nb"
    ]
   },
   "outputs": [],
   "source": [
    "myclassifier = GaussianNB()\n",
    "myclassifier.fit(X_train, y_train)\n",
    "\n",
    "y_pred = myclassifier.predict(X_test)"
   ]
  },
  {
   "cell_type": "code",
   "execution_count": 19,
   "metadata": {
    "tags": [
     "snippet:classificationreport"
    ]
   },
   "outputs": [
    {
     "name": "stdout",
     "output_type": "stream",
     "text": [
      "Confusion matrix:\n",
      "[[ 55 106]\n",
      " [ 40 212]]\n",
      "              precision    recall  f1-score   support\n",
      "\n",
      "    non-user       0.58      0.34      0.43       161\n",
      "        user       0.67      0.84      0.74       252\n",
      "\n",
      "    accuracy                           0.65       413\n",
      "   macro avg       0.62      0.59      0.59       413\n",
      "weighted avg       0.63      0.65      0.62       413\n",
      "\n"
     ]
    }
   ],
   "source": [
    "print(\"Confusion matrix:\")\n",
    "print(confusion_matrix(y_test, y_pred))\n",
    "print(classification_report(y_test, y_pred))\n"
   ]
  },
  {
   "cell_type": "code",
   "execution_count": 20,
   "metadata": {
    "tags": [
     "snippet:logreg"
    ]
   },
   "outputs": [],
   "source": [
    "myclassifier = LogisticRegression(solver=\"lbfgs\")\n",
    "myclassifier.fit(X_train, y_train)\n",
    "\n",
    "y_pred = myclassifier.predict(X_test)"
   ]
  },
  {
   "cell_type": "code",
   "execution_count": 21,
   "metadata": {
    "tags": [
     "snippet:svm"
    ]
   },
   "outputs": [],
   "source": [
    "# !!! We normalize our features to have M=0 and \n",
    "# SD=1. This is necessary as our features are not \n",
    "# measured on the same scale, which SVM requires.\n",
    "# Alternatively, rescale to [0:1] or [-1:1]\n",
    "\n",
    "scaler=preprocessing.StandardScaler().fit(X_train)\n",
    "\n",
    "X_train_scaled = scaler.transform(X_train)\n",
    "X_test_scaled = scaler.transform(X_test)\n",
    "\n",
    "myclassifier = SVC(gamma=\"scale\")\n",
    "myclassifier.fit(X_train_scaled, y_train)\n",
    "\n",
    "y_pred = myclassifier.predict(X_test_scaled)"
   ]
  },
  {
   "cell_type": "code",
   "execution_count": 22,
   "metadata": {
    "tags": [
     "snippet:randomforest"
    ]
   },
   "outputs": [],
   "source": [
    "myclassifier = RandomForestClassifier(\n",
    "    n_estimators=100)\n",
    "myclassifier.fit(X_train, y_train)\n",
    "\n",
    "y_pred = myclassifier.predict(X_test)"
   ]
  },
  {
   "cell_type": "code",
   "execution_count": 23,
   "metadata": {
    "tags": [
     "snippet:cutoffpoint"
    ]
   },
   "outputs": [
    {
     "name": "stdout",
     "output_type": "stream",
     "text": [
      "With default cutoff point (.5):\n",
      "              precision    recall  f1-score   support\n",
      "\n",
      "    non-user       0.58      0.37      0.45       161\n",
      "        user       0.67      0.83      0.74       252\n",
      "\n",
      "    accuracy                           0.65       413\n",
      "   macro avg       0.63      0.60      0.60       413\n",
      "weighted avg       0.64      0.65      0.63       413\n",
      "\n",
      "[[ 59 102]\n",
      " [ 42 210]]\n"
     ]
    }
   ],
   "source": [
    "myclassifier = LogisticRegression(solver=\"lbfgs\")\n",
    "myclassifier.fit(X_train, y_train)\n",
    "\n",
    "print(\"With default cutoff point (.5):\")\n",
    "y_pred = myclassifier.predict(X_test)\n",
    "print(classification_report(y_test, y_pred))\n",
    "print(confusion_matrix(y_test, y_pred))"
   ]
  },
  {
   "cell_type": "code",
   "execution_count": 24,
   "metadata": {},
   "outputs": [],
   "source": [
    "# get all predicted probabilities\n",
    "predprobs = myclassifier.predict_log_proba(X_test)\n",
    "fpr,tpr, thresholds = roc_curve(y_test,\n",
    "    predprobs[:,1], pos_label=\"user\")\n",
    "\n",
    "# APPROACH 1\n",
    "# You can uncomment the following lines to print a table,\n",
    "# determine a False Positive/True Positive combination\n",
    "# you like, and take that cutoff from the third column\n",
    "# and the threshold (which is its logarithm) from the\n",
    "# forth column\n",
    "\n",
    "#print(\"False Positive Rate\\tTrue Positive Rate\\tCutoff\\t\"\\\n",
    "# \"Threshold\")\n",
    "#for f, t, th in zip(fpr,tpr, thresholds):\n",
    "#    print(\"{}\\t{}\\t{}\".format(f,t,np.exp(th)),th)\n",
    "\n",
    "# APPROACH 2\n",
    "# Or, choose the cutoff point where the difference between \n",
    "# False Positive Rate and True Positive Rate is maximal"
   ]
  },
  {
   "cell_type": "code",
   "execution_count": 27,
   "metadata": {
    "tags": [
     "snippet:cutoffpointb"
    ]
   },
   "outputs": [
    {
     "name": "stdout",
     "output_type": "stream",
     "text": [
      "With the optimal probability threshold is-0.3880564601306907, which is equivalent toa cutoff of 0.6783740410958241,we get:\n",
      "              precision    recall  f1-score   support\n",
      "\n",
      "    non-user       0.50      0.80      0.61       161\n",
      "        user       0.79      0.49      0.61       252\n",
      "\n",
      "    accuracy                           0.61       413\n",
      "   macro avg       0.64      0.64      0.61       413\n",
      "weighted avg       0.68      0.61      0.61       413\n",
      "\n",
      "[[128  33]\n",
      " [128 124]]\n"
     ]
    }
   ],
   "source": [
    "# get all predicted probabilities and ROC curve\n",
    "predprobs = myclassifier.predict_log_proba(X_test)\n",
    "fpr,tpr, thresholds = roc_curve(y_test,\n",
    "                predprobs[:,1], pos_label=\"user\")\n",
    "\n",
    "# determine the cutoff point\n",
    "opt_threshold = thresholds[np.argmax(tpr-fpr)]\n",
    "\n",
    "print(\"With the optimal probability threshold is\"\\\n",
    "      f\"{opt_threshold}, which is equivalent to\"\\\n",
    "      f\"a cutoff of {np.exp(optimal_threshold)},\"\\\n",
    "      \"we get:\")\n",
    "y_pred_alt = np.where(predprobs[:,1] > \n",
    "            optimal_threshold, \"user\", \"non-user\")\n",
    "print(classification_report(y_test, y_pred_alt))\n",
    "print(confusion_matrix(y_test, y_pred_alt))"
   ]
  },
  {
   "cell_type": "code",
   "execution_count": 28,
   "metadata": {
    "tags": [
     "snippet:roccurve",
     "output:png"
    ]
   },
   "outputs": [
    {
     "data": {
      "image/png": "[encoded data removed]",
      "text/plain": [
       "<Figure size 360x360 with 1 Axes>"
      ]
     },
     "metadata": {
      "needs_background": "light"
     },
     "output_type": "display_data"
    }
   ],
   "source": [
    "plt.figure(figsize=(5,5))\n",
    "plt.title(\"Receiver Operating Characteristic\")\n",
    "plt.plot(fpr,tpr,\"b\",\n",
    "         label=f\"AUC = {auc(fpr,tpr):0.2f}\")\n",
    "plt.legend(loc=\"lower right\")\n",
    "plt.plot([0,1],[0,1],\"r--\")\n",
    "plt.xlim([0,1])\n",
    "plt.ylim([0,1])\n",
    "plt.ylabel(\"True Positive Rate\")\n",
    "plt.show()"
   ]
  },
  {
   "cell_type": "code",
   "execution_count": 31,
   "metadata": {
    "tags": [
     "snippet:crossval"
    ]
   },
   "outputs": [
    {
     "name": "stdout",
     "output_type": "stream",
     "text": [
      "[0.64652568 0.64048338 0.62727273 0.64242424 0.63636364]\n",
      "M=0.64, SD=0.007\n"
     ]
    }
   ],
   "source": [
    "myclassifier = LogisticRegression(solver=\"lbfgs\")\n",
    "acc = cross_val_score(estimator=myclassifier,\n",
    "   X=X_train, y=y_train, scoring=\"accuracy\", cv=5)\n",
    "print(acc)\n",
    "print(f\"M={acc.mean():.2f}, SD={acc.std():.3f}\")"
   ]
  },
  {
   "cell_type": "code",
   "execution_count": 32,
   "metadata": {},
   "outputs": [
    {
     "name": "stdout",
     "output_type": "stream",
     "text": [
      "[0.1948816  0.19576536 0.15065913 0.1788275  0.16490932]\n",
      "M=0.18, SD=0.017\n"
     ]
    }
   ],
   "source": [
    "f1s = cross_val_score(estimator=myclassifier,\n",
    "    X=X_train, y=y_train, \n",
    "    scoring=make_scorer(cohen_kappa_score), cv=5)\n",
    "print(f1s)\n",
    "print(f\"M={f1s.mean():.2f}, SD={f1s.std():.3f}\")\n"
   ]
  },
  {
   "cell_type": "code",
   "execution_count": 35,
   "metadata": {
    "tags": [
     "snippet:gridsearch"
    ]
   },
   "outputs": [
    {
     "name": "stdout",
     "output_type": "stream",
     "text": [
      "Hyperparameters {'bootstrap': True, 'criterion': 'gini', 'n_estimators': 50}give the best performance:\n",
      "              precision    recall  f1-score   support\n",
      "\n",
      "    non-user       0.44      0.39      0.41       161\n",
      "        user       0.63      0.68      0.66       252\n",
      "\n",
      "    accuracy                           0.57       413\n",
      "   macro avg       0.54      0.53      0.53       413\n",
      "weighted avg       0.56      0.57      0.56       413\n",
      "\n"
     ]
    }
   ],
   "source": [
    "myclassifier = RandomForestClassifier()\n",
    "f1scorer = make_scorer(f1_score,pos_label=\"user\")\n",
    "\n",
    "grid = {\n",
    "    \"n_estimators\" : [10, 50, 100, 200], \n",
    "    \"criterion\": [\"gini\", \"entropy\"],\n",
    "    \"bootstrap\": [True, False],\n",
    "    }\n",
    "search = GridSearchCV(estimator=myclassifier,\n",
    "                     param_grid=grid,\n",
    "                     scoring=f1scorer,\n",
    "                     cv=5)\n",
    "search.fit(X_train, y_train)\n",
    "print(f\"Hyperparameters {search.best_params_} \"\n",
    "    \"give the best performance:\")\n",
    "print(classification_report(y_test, \n",
    "    search.predict(X_test)))"
   ]
  },
  {
   "cell_type": "code",
   "execution_count": 37,
   "metadata": {
    "tags": [
     "snippet:gridsearch2"
    ]
   },
   "outputs": [
    {
     "name": "stdout",
     "output_type": "stream",
     "text": [
      "Fitting 5 folds for each of 12 candidates, totalling 60 fits\n"
     ]
    },
    {
     "name": "stderr",
     "output_type": "stream",
     "text": [
      "[Parallel(n_jobs=-1)]: Using backend LokyBackend with 4 concurrent workers.\n",
      "[Parallel(n_jobs=-1)]: Done   5 tasks      | elapsed:    1.6s\n",
      "[Parallel(n_jobs=-1)]: Done  10 tasks      | elapsed:    2.5s\n",
      "[Parallel(n_jobs=-1)]: Done  17 tasks      | elapsed:    3.3s\n",
      "[Parallel(n_jobs=-1)]: Done  24 tasks      | elapsed:    4.3s\n",
      "[Parallel(n_jobs=-1)]: Done  33 tasks      | elapsed:   25.0s\n",
      "[Parallel(n_jobs=-1)]: Done  42 tasks      | elapsed:  2.5min\n",
      "[Parallel(n_jobs=-1)]: Done  53 tasks      | elapsed:  4.6min\n",
      "[Parallel(n_jobs=-1)]: Done  60 out of  60 | elapsed:  9.0min remaining:    0.0s\n",
      "[Parallel(n_jobs=-1)]: Done  60 out of  60 | elapsed:  9.0min finished\n"
     ]
    },
    {
     "name": "stdout",
     "output_type": "stream",
     "text": [
      "Hyperparameters {'C': 100, 'degree': 3, 'kernel': 'poly'}give the best performance:\n",
      "              precision    recall  f1-score   support\n",
      "\n",
      "    non-user       0.58      0.04      0.08       161\n",
      "        user       0.62      0.98      0.76       252\n",
      "\n",
      "    accuracy                           0.62       413\n",
      "   macro avg       0.60      0.51      0.42       413\n",
      "weighted avg       0.60      0.62      0.49       413\n",
      "\n"
     ]
    }
   ],
   "source": [
    "myclassifier = SVC(gamma=\"scale\")\n",
    "\n",
    "grid = {\n",
    "    \"C\" : [100, 1e4], \n",
    "    \"kernel\": [\"linear\",\"rbf\", \"poly\"],\n",
    "    \"degree\": [3,4]\n",
    "}\n",
    "\n",
    "search = GridSearchCV(estimator=myclassifier,\n",
    "                      param_grid=grid,\n",
    "                      scoring=f1scorer,\n",
    "                      cv=5,\n",
    "                      n_jobs=-1,  # use all cpus\n",
    "                      verbose=10)\n",
    "search.fit(X_train_scaled, y_train)\n",
    "print(f\"Hyperparameters {search.best_params_} \"\n",
    "    \"give the best performance:\")\n",
    "print(classification_report(y_test, \n",
    "    search.predict(X_test_scaled)))"
   ]
  },
  {
   "cell_type": "code",
   "execution_count": null,
   "metadata": {},
   "outputs": [],
   "source": []
  }
 ],
 "metadata": {
  "celltoolbar": "Tags",
  "kernelspec": {
   "display_name": "Python 3",
   "language": "python",
   "name": "python3"
  },
  "language_info": {
   "codemirror_mode": {
    "name": "ipython",
    "version": 3
   },
   "file_extension": ".py",
   "mimetype": "text/x-python",
   "name": "python",
   "nbconvert_exporter": "python",
   "pygments_lexer": "ipython3",
   "version": "3.8.10"
  }
 },
 "nbformat": 4,
 "nbformat_minor": 4
}
