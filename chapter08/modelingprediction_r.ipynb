{
 "cells": [
  {
   "cell_type": "code",
   "execution_count": 1,
   "metadata": {
    "tags": [
     "snippet:chapter08install",
     "dontrun"
    ]
   },
   "outputs": [],
   "source": [
    "install.packages(\"randomForest\",\"rsample\",\"glue\",\n",
    "                 \"caret\",\"naivebayes\",\"LiblineaR\",\n",
    "                 \"randomForest\", \"pROC\",\"e1071\")"
   ]
  },
  {
   "cell_type": "code",
   "execution_count": 2,
   "metadata": {
    "tags": [
     "snippet:chapter08library"
    ]
   },
   "outputs": [
    {
     "name": "stderr",
     "output_type": "stream",
     "text": [
      "── \u001b[1mAttaching packages\u001b[22m ──────────────────────────────────────────────────────────────── tidyverse 1.3.0 ──\n",
      "\n",
      "\u001b[32m✔\u001b[39m \u001b[34mggplot2\u001b[39m 3.3.3     \u001b[32m✔\u001b[39m \u001b[34mpurrr  \u001b[39m 0.3.4\n",
      "\u001b[32m✔\u001b[39m \u001b[34mtibble \u001b[39m 3.1.1     \u001b[32m✔\u001b[39m \u001b[34mdplyr  \u001b[39m 1.0.5\n",
      "\u001b[32m✔\u001b[39m \u001b[34mtidyr  \u001b[39m 1.1.3     \u001b[32m✔\u001b[39m \u001b[34mstringr\u001b[39m 1.4.0\n",
      "\u001b[32m✔\u001b[39m \u001b[34mreadr  \u001b[39m 1.4.0     \u001b[32m✔\u001b[39m \u001b[34mforcats\u001b[39m 0.5.1\n",
      "\n",
      "── \u001b[1mConflicts\u001b[22m ─────────────────────────────────────────────────────────────────── tidyverse_conflicts() ──\n",
      "\u001b[31m✖\u001b[39m \u001b[34mdplyr\u001b[39m::\u001b[32mfilter()\u001b[39m masks \u001b[34mstats\u001b[39m::filter()\n",
      "\u001b[31m✖\u001b[39m \u001b[34mdplyr\u001b[39m::\u001b[32mlag()\u001b[39m    masks \u001b[34mstats\u001b[39m::lag()\n",
      "\n",
      "\n",
      "Attaching package: ‘glue’\n",
      "\n",
      "\n",
      "The following object is masked from ‘package:dplyr’:\n",
      "\n",
      "    collapse\n",
      "\n",
      "\n",
      "Loading required package: lattice\n",
      "\n",
      "\n",
      "Attaching package: ‘caret’\n",
      "\n",
      "\n",
      "The following object is masked from ‘package:purrr’:\n",
      "\n",
      "    lift\n",
      "\n",
      "\n",
      "naivebayes 0.9.7 loaded\n",
      "\n",
      "randomForest 4.6-14\n",
      "\n",
      "Type rfNews() to see new features/changes/bug fixes.\n",
      "\n",
      "\n",
      "Attaching package: ‘randomForest’\n",
      "\n",
      "\n",
      "The following object is masked from ‘package:dplyr’:\n",
      "\n",
      "    combine\n",
      "\n",
      "\n",
      "The following object is masked from ‘package:ggplot2’:\n",
      "\n",
      "    margin\n",
      "\n",
      "\n",
      "Type 'citation(\"pROC\")' for a citation.\n",
      "\n",
      "\n",
      "Attaching package: ‘pROC’\n",
      "\n",
      "\n",
      "The following objects are masked from ‘package:stats’:\n",
      "\n",
      "    cov, smooth, var\n",
      "\n",
      "\n"
     ]
    }
   ],
   "source": [
    "library(tidyverse)\n",
    "library(rsample)\n",
    "library(glue)\n",
    "library(caret)\n",
    "library(naivebayes)\n",
    "library(LiblineaR)\n",
    "library(randomForest)\n",
    "library(pROC)\n"
   ]
  },
  {
   "cell_type": "code",
   "execution_count": 3,
   "metadata": {
    "scrolled": true,
    "tags": [
     "snippet:ols"
    ]
   },
   "outputs": [
    {
     "data": {
      "text/plain": [
       "\n",
       "Call:\n",
       "lm(formula = \"newspaper ~ age + gender\", data = df)\n",
       "\n",
       "Coefficients:\n",
       "(Intercept)          age       gender  \n",
       "   -0.08956      0.06762      0.17666  \n"
      ]
     },
     "metadata": {},
     "output_type": "display_data"
    }
   ],
   "source": [
    "df = read.csv(\"https://cssbook.net/d/media.csv\")\n",
    "mod = lm(formula = \"newspaper ~ age + gender\",\n",
    "         data = df)\n",
    "# summary(mod) would give a lot more info, \n",
    "# but we only care about the coefficients:\n",
    "mod"
   ]
  },
  {
   "cell_type": "code",
   "execution_count": 4,
   "metadata": {
    "tags": [
     "snippet:olspredict"
    ]
   },
   "outputs": [
    {
     "data": {
      "text/html": [
       "<style>\n",
       ".dl-inline {width: auto; margin:0; padding: 0}\n",
       ".dl-inline>dt, .dl-inline>dd {float: none; width: auto; display: inline-block}\n",
       ".dl-inline>dt::after {content: \":\\0020\"; padding-right: .5ex}\n",
       ".dl-inline>dt:not(:first-of-type) {padding-left: .5ex}\n",
       "</style><dl class=dl-inline><dt>1</dt><dd>1.43950835860337</dd><dt>2</dt><dd>2.61524764821034</dd></dl>\n"
      ],
      "text/latex": [
       "\\begin{description*}\n",
       "\\item[1] 1.43950835860337\n",
       "\\item[2] 2.61524764821034\n",
       "\\end{description*}\n"
      ],
      "text/markdown": [
       "1\n",
       ":   1.439508358603372\n",
       ":   2.61524764821034\n",
       "\n"
      ],
      "text/plain": [
       "       1        2 \n",
       "1.439508 2.615248 "
      ]
     },
     "metadata": {},
     "output_type": "display_data"
    }
   ],
   "source": [
    "gender = c(1,0)\n",
    "age = c(20,40)\n",
    "newdata = data.frame(age, gender)\n",
    "predict(mod, newdata)"
   ]
  },
  {
   "cell_type": "code",
   "execution_count": 5,
   "metadata": {
    "scrolled": true,
    "tags": [
     "snippet:preparedata"
    ]
   },
   "outputs": [
    {
     "name": "stdout",
     "output_type": "stream",
     "text": [
      "[1] \"How many people used online news at all?\"\n",
      "\n",
      "non-user     user \n",
      "     803     1262 \n"
     ]
    },
    {
     "data": {
      "text/html": [
       "'We have 1652 training and 413 test cases.'"
      ],
      "text/latex": [
       "'We have 1652 training and 413 test cases.'"
      ],
      "text/markdown": [
       "'We have 1652 training and 413 test cases.'"
      ],
      "text/plain": [
       "We have 1652 training and 413 test cases."
      ]
     },
     "metadata": {},
     "output_type": "display_data"
    }
   ],
   "source": [
    "df = read.csv(\"https://cssbook.net/d/media.csv\")\n",
    "df = na.omit(df %>% mutate(\n",
    "    usesinternet=recode(internet, \n",
    "            .default=\"user\", `0`=\"non-user\")))\n",
    "\n",
    "set.seed(42)\n",
    "df$usesinternet = as.factor(df$usesinternet)\n",
    "print(\"How many people used online news at all?\")\n",
    "print(table(df$usesinternet))\n",
    "\n",
    "\n",
    "split = initial_split(df, prop = .8)\n",
    "traindata = training(split)\n",
    "testdata  = testing(split)\n",
    "\n",
    "X_train = select(traindata, \n",
    "                 c(\"age\", \"gender\", \"education\"))\n",
    "y_train = traindata$usesinternet\n",
    "X_test = select(testdata, \n",
    "                c(\"age\", \"gender\", \"education\"))\n",
    "y_test = testdata$usesinternet\n",
    "\n",
    "glue(\"We have {nrow(X_train)} training and \",\n",
    "     \"{nrow(X_test)} test cases.\")"
   ]
  },
  {
   "cell_type": "code",
   "execution_count": 6,
   "metadata": {
    "tags": [
     "snippet:nb"
    ]
   },
   "outputs": [],
   "source": [
    "myclassifier = train(x = X_train, y = y_train, \n",
    "                     method = \"naive_bayes\")\n",
    "y_pred = predict(myclassifier, newdata = X_test)"
   ]
  },
  {
   "cell_type": "code",
   "execution_count": 7,
   "metadata": {
    "tags": [
     "snippet:classificationreport"
    ]
   },
   "outputs": [
    {
     "name": "stdout",
     "output_type": "stream",
     "text": [
      "Confusion Matrix and Statistics\n",
      "\n",
      "          Reference\n",
      "Prediction non-user user\n",
      "  non-user       62   53\n",
      "  user           99  199\n",
      "                                          \n",
      "               Accuracy : 0.632           \n",
      "                 95% CI : (0.5834, 0.6786)\n",
      "    No Information Rate : 0.6102          \n",
      "    P-Value [Acc > NIR] : 0.1958408       \n",
      "                                          \n",
      "                  Kappa : 0.1843          \n",
      "                                          \n",
      " Mcnemar's Test P-Value : 0.0002623       \n",
      "                                          \n",
      "            Sensitivity : 0.3851          \n",
      "            Specificity : 0.7897          \n",
      "         Pos Pred Value : 0.5391          \n",
      "         Neg Pred Value : 0.6678          \n",
      "             Prevalence : 0.3898          \n",
      "         Detection Rate : 0.1501          \n",
      "   Detection Prevalence : 0.2785          \n",
      "      Balanced Accuracy : 0.5874          \n",
      "                                          \n",
      "       'Positive' Class : non-user        \n",
      "                                          \n",
      "[1] \"Confusion matrix:\"\n",
      "          y_pred\n",
      "           non-user user\n",
      "  non-user       62   99\n",
      "  user           53  199\n",
      "[1] \"Precision for predicting True internet\"\n",
      "[1] \"users and non-internet-users:\"\n",
      " non-user      user \n",
      "0.5391304 0.6677852 \n",
      "[1] \"Recall for predicting True internet\"\n",
      "[1] \"users and non-internet-users:\"\n",
      " non-user      user \n",
      "0.3850932 0.7896825 \n"
     ]
    }
   ],
   "source": [
    "print(confusionMatrix(y_pred, y_test))\n",
    "\n",
    "print(\"Confusion matrix:\")\n",
    "confmat = table(testdata$usesinternet, y_pred)\n",
    "print(confmat)\n",
    "\n",
    "print(\"Precision for predicting True internet\")\n",
    "print(\"users and non-internet-users:\")\n",
    "precision = diag(confmat) / colSums(confmat)\n",
    "print(precision)\n",
    "\n",
    "\n",
    "print(\"Recall for predicting True internet\")\n",
    "print(\"users and non-internet-users:\")\n",
    "recall = (diag(confmat) / rowSums(confmat))\n",
    "print(recall)"
   ]
  },
  {
   "cell_type": "code",
   "execution_count": 8,
   "metadata": {
    "tags": [
     "snippet:logreg"
    ]
   },
   "outputs": [],
   "source": [
    "myclassifier = train(x = X_train, y = y_train,\n",
    "    method = \"glm\",family = \"binomial\")\n",
    "y_pred = predict(myclassifier, newdata = X_test)"
   ]
  },
  {
   "cell_type": "code",
   "execution_count": 9,
   "metadata": {
    "tags": [
     "snippet:svm"
    ]
   },
   "outputs": [],
   "source": [
    "# !!! We normalize our features to have M=0 and \n",
    "# SD=1. This is necessary as our features are not \n",
    "# measured on the same scale, which SVM requires.\n",
    "# Alternatively, rescale to [0:1] or [-1:1]\n",
    "\n",
    "myclassifier = train(x = X_train, y = y_train, \n",
    "    preProcess = c(\"center\", \"scale\"), \n",
    "                     method = \"svmLinear3\")\n",
    "y_pred = predict(myclassifier, newdata = X_test)"
   ]
  },
  {
   "cell_type": "code",
   "execution_count": 10,
   "metadata": {
    "tags": [
     "snippet:randomforest"
    ]
   },
   "outputs": [
    {
     "name": "stdout",
     "output_type": "stream",
     "text": [
      "note: only 2 unique complexity parameters in default grid. Truncating the grid to 2 .\n",
      "\n"
     ]
    }
   ],
   "source": [
    "myclassifier = train(x = X_train, y = y_train, \n",
    "                     method = \"rf\")\n",
    "y_pred = predict(myclassifier, newdata = X_test)"
   ]
  },
  {
   "cell_type": "code",
   "execution_count": 11,
   "metadata": {
    "tags": [
     "snippet:cutoffpoint"
    ]
   },
   "outputs": [
    {
     "name": "stdout",
     "output_type": "stream",
     "text": [
      "[1] \"Confusion matrix, default threshold (0.5)\"\n",
      "          pred_default\n",
      "y_test     non-user user\n",
      "  non-user       59  102\n",
      "  user           51  201\n",
      "[1] \"Recall for predicting True internet\\nusers and non-internet-users:\"\n",
      " non-user      user \n",
      "0.3664596 0.7976190 \n",
      "[1] \"Precision for predicting True internet\\nusers and non-internet-users:\"\n",
      " non-user      user \n",
      "0.5363636 0.6633663 \n"
     ]
    }
   ],
   "source": [
    "m = glm(usesinternet ~ age + gender + education, \n",
    "        data=traindata, family=\"binomial\")\n",
    "y_pred = predict(m, newdata = testdata,\n",
    "                 type = \"response\")\n",
    "pred_default = as.factor(ifelse(y_pred>0.5, \n",
    "                            \"user\", \"non-user\"))\n",
    "\n",
    "print(\"Confusion matrix, default threshold (0.5)\")\n",
    "confmat = table(y_test, pred_default)\n",
    "print(confmat)\n",
    "print(\"Recall for predicting True internet\n",
    "users and non-internet-users:\")\n",
    "print(diag(confmat) / rowSums(confmat))\n",
    "print(\"Precision for predicting True internet\n",
    "users and non-internet-users:\")\n",
    "print(diag(confmat) / colSums(confmat))"
   ]
  },
  {
   "cell_type": "code",
   "execution_count": 12,
   "metadata": {
    "tags": [
     "snippet:cutoffpointb"
    ]
   },
   "outputs": [
    {
     "name": "stderr",
     "output_type": "stream",
     "text": [
      "Setting levels: control = non-user, case = user\n",
      "\n",
      "Setting direction: controls < cases\n",
      "\n"
     ]
    },
    {
     "name": "stdout",
     "output_type": "stream",
     "text": [
      "Confusion matrix with optimalthreshold (0.619297246226928):\n",
      "          pred_opt\n",
      "y_test     non-user user\n",
      "  non-user      113   48\n",
      "  user          103  149\n",
      "[1] \"Recall for predicting True internet\"\n",
      "[1] \"users and non-internet-users:\"\n",
      " non-user      user \n",
      "0.7018634 0.5912698 \n",
      "[1] \"Precision for predicting True internet\"\n",
      "[1] \"users and non-internet-users:\"\n",
      " non-user      user \n",
      "0.5231481 0.7563452 \n"
     ]
    }
   ],
   "source": [
    "roc_ = roc(testdata$usesinternet ~ y_pred)\n",
    "opt = roc_$thresholds[which.max(\n",
    "    roc_$sensitivities + roc_$specificities)]\n",
    "\n",
    "print(glue(\"Confusion matrix with optimal\",\n",
    "           \"threshold ({opt}):\"))\n",
    "pred_opt = ifelse(y_pred>opt, \"user\", \"non-user\")\n",
    "confmat = table(y_test, pred_opt)\n",
    "print(confmat)\n",
    "print(\"Recall for predicting True internet\")\n",
    "print(\"users and non-internet-users:\")\n",
    "print(diag(confmat) / rowSums(confmat))\n",
    "print(\"Precision for predicting True internet\")\n",
    "print(\"users and non-internet-users:\")\n",
    "print(diag(confmat) / colSums(confmat))"
   ]
  },
  {
   "cell_type": "code",
   "execution_count": null,
   "metadata": {},
   "outputs": [],
   "source": []
  },
  {
   "cell_type": "code",
   "execution_count": 13,
   "metadata": {
    "tags": [
     "snippet:roccurve",
     "output:png"
    ]
   },
   "outputs": [
    {
     "name": "stderr",
     "output_type": "stream",
     "text": [
      "Setting levels: control = non-user, case = user\n",
      "\n",
      "Setting direction: controls < cases\n",
      "\n"
     ]
    },
    {
     "data": {
      "image/png": "[encoded data removed]",
      "text/plain": [
       "plot without title"
      ]
     },
     "metadata": {
      "image/png": {
       "height": 420,
       "width": 420
      }
     },
     "output_type": "display_data"
    }
   ],
   "source": [
    "roc_ = roc(testdata$usesinternet ~ y_pred, plot=T,\n",
    "    print.auc=T, print.thres=\"best\",\n",
    "    print.thres.pattern=\"Best threshold: %1.2f\")"
   ]
  },
  {
   "cell_type": "code",
   "execution_count": 14,
   "metadata": {
    "tags": [
     "snippet:crossval"
    ]
   },
   "outputs": [
    {
     "name": "stdout",
     "output_type": "stream",
     "text": [
      "   Accuracy     Kappa parameter Resample\n",
      "1 0.6646526 0.2564808      none    Fold1\n",
      "2 0.6616314 0.2441998      none    Fold2\n",
      "3 0.6606061 0.2057079      none    Fold3\n",
      "4 0.6575758 0.2099241      none    Fold4\n",
      "5 0.6333333 0.1670491      none    Fold5\n",
      "  parameter  Accuracy     Kappa AccuracySD    KappaSD\n",
      "1      none 0.6555598 0.2166724 0.01267959 0.03525159\n"
     ]
    }
   ],
   "source": [
    "myclassifier = train(x = X_train, y = y_train,\n",
    "    method = \"glm\", family=\"binomial\",\n",
    "    metric=\"Accuracy\", trControl = trainControl(\n",
    "     method = \"cv\", number = 5, \n",
    "     returnResamp =\"all\", savePredictions=TRUE),)\n",
    "print(myclassifier$resample)\n",
    "print(myclassifier$results)"
   ]
  },
  {
   "cell_type": "code",
   "execution_count": 15,
   "metadata": {
    "tags": [
     "snippet:gridsearch3"
    ]
   },
   "outputs": [
    {
     "data": {
      "text/plain": [
       "L2 Regularized Support Vector Machine (dual) with Linear Kernel \n",
       "\n",
       "1652 samples\n",
       "   3 predictor\n",
       "   2 classes: 'non-user', 'user' \n",
       "\n",
       "Pre-processing: centered (3), scaled (3) \n",
       "Resampling: Cross-Validated (5 fold) \n",
       "Summary of sample sizes: 1322, 1322, 1321, 1321, 1322 \n",
       "Resampling results across tuning parameters:\n",
       "\n",
       "  Loss  cost  Accuracy   Kappa    \n",
       "  L1     100  0.6458555  0.1994112\n",
       "  L1    1000  0.5587091  0.1483755\n",
       "  L2     100  0.6525185  0.2102270\n",
       "  L2    1000  0.6525185  0.2102270\n",
       "\n",
       "Accuracy was used to select the optimal model using the largest value.\n",
       "The final values used for the model were cost = 100 and Loss = L2."
      ]
     },
     "metadata": {},
     "output_type": "display_data"
    }
   ],
   "source": [
    "# Create the grid of parameters\n",
    "grid = expand.grid(Loss=c(\"L1\",\"L2\"),\n",
    "                   cost=c(100,1000))\n",
    "\n",
    "# Train the model using our previously defined \n",
    "# parameters\n",
    "gridsearch = train(x = X_train, y = y_train,\n",
    "    preProcess = c(\"center\", \"scale\"), \n",
    "    method = \"svmLinear3\", \n",
    "    trControl = trainControl(method = \"cv\", \n",
    "            number = 5),\n",
    "    tuneGrid = grid)\n",
    "gridsearch"
   ]
  },
  {
   "cell_type": "code",
   "execution_count": null,
   "metadata": {},
   "outputs": [],
   "source": []
  }
 ],
 "metadata": {
  "celltoolbar": "Tags",
  "kernelspec": {
   "display_name": "R",
   "language": "R",
   "name": "ir"
  },
  "language_info": {
   "codemirror_mode": "r",
   "file_extension": ".r",
   "mimetype": "text/x-r-source",
   "name": "R",
   "pygments_lexer": "r",
   "version": "4.1.0"
  }
 },
 "nbformat": 4,
 "nbformat_minor": 4
}
