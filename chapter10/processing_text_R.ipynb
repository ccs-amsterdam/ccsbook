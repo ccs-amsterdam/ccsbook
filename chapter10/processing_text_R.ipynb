{
 "cells": [
  {
   "cell_type": "markdown",
   "metadata": {},
   "source": [
    "# Chapter 10. Proccesing text\n",
    "## Notebook for R"
   ]
  },
  {
   "cell_type": "markdown",
   "metadata": {},
   "source": [
    "### 10.1 Reading and cleaning text"
   ]
  },
  {
   "cell_type": "code",
   "execution_count": 1,
   "metadata": {
    "tags": [
     "snippet:chapter10install",
     "dontrun"
    ]
   },
   "outputs": [
    {
     "name": "stderr",
     "output_type": "stream",
     "text": [
      "Installing packages into ‘/home/damian/R/x86_64-pc-linux-gnu-library/3.6’\n",
      "(as ‘lib’ is unspecified)\n",
      "\n"
     ]
    }
   ],
   "source": [
    "install.packages(c(\"glue\", \"tidyverse\"))"
   ]
  },
  {
   "cell_type": "code",
   "execution_count": 2,
   "metadata": {
    "tags": [
     "snippet:chapter10library"
    ]
   },
   "outputs": [
    {
     "name": "stderr",
     "output_type": "stream",
     "text": [
      "── \u001b[1mAttaching packages\u001b[22m ─────────────────────────────────────── tidyverse 1.3.0 ──\n",
      "\n",
      "\u001b[32m✔\u001b[39m \u001b[34mggplot2\u001b[39m 3.2.1     \u001b[32m✔\u001b[39m \u001b[34mpurrr  \u001b[39m 0.3.3\n",
      "\u001b[32m✔\u001b[39m \u001b[34mtibble \u001b[39m 2.1.3     \u001b[32m✔\u001b[39m \u001b[34mdplyr  \u001b[39m 0.8.4\n",
      "\u001b[32m✔\u001b[39m \u001b[34mtidyr  \u001b[39m 1.0.2     \u001b[32m✔\u001b[39m \u001b[34mstringr\u001b[39m 1.4.0\n",
      "\u001b[32m✔\u001b[39m \u001b[34mreadr  \u001b[39m 1.3.1     \u001b[32m✔\u001b[39m \u001b[34mforcats\u001b[39m 0.4.0\n",
      "\n",
      "── \u001b[1mConflicts\u001b[22m ────────────────────────────────────────── tidyverse_conflicts() ──\n",
      "\u001b[31m✖\u001b[39m \u001b[34mdplyr\u001b[39m::\u001b[32mcollapse()\u001b[39m masks \u001b[34mglue\u001b[39m::collapse()\n",
      "\u001b[31m✖\u001b[39m \u001b[34mdplyr\u001b[39m::\u001b[32mfilter()\u001b[39m   masks \u001b[34mstats\u001b[39m::filter()\n",
      "\u001b[31m✖\u001b[39m \u001b[34mdplyr\u001b[39m::\u001b[32mlag()\u001b[39m      masks \u001b[34mstats\u001b[39m::lag()\n",
      "\n"
     ]
    }
   ],
   "source": [
    "library(glue)\n",
    "library(tidyverse)"
   ]
  },
  {
   "cell_type": "code",
   "execution_count": 3,
   "metadata": {
    "tags": [
     "snippet:string"
    ]
   },
   "outputs": [
    {
     "data": {
      "text/html": [
       "'text is a character of length 1'"
      ],
      "text/latex": [
       "'text is a character of length 1'"
      ],
      "text/markdown": [
       "'text is a character of length 1'"
      ],
      "text/plain": [
       "text is a character of length 1"
      ]
     },
     "metadata": {},
     "output_type": "display_data"
    },
    {
     "data": {
      "text/html": [
       "'text[1]: This is text.'"
      ],
      "text/latex": [
       "'text{[}1{]}: This is text.'"
      ],
      "text/markdown": [
       "'text[1]: This is text.'"
      ],
      "text/plain": [
       "text[1]: This is text."
      ]
     },
     "metadata": {},
     "output_type": "display_data"
    },
    {
     "data": {
      "text/html": [
       "'str_length(text): 13'"
      ],
      "text/latex": [
       "'str\\_length(text): 13'"
      ],
      "text/markdown": [
       "'str_length(text): 13'"
      ],
      "text/plain": [
       "str_length(text): 13"
      ]
     },
     "metadata": {},
     "output_type": "display_data"
    },
    {
     "data": {
      "text/html": [
       "'str_sub(text, 6,7): is'"
      ],
      "text/latex": [
       "'str\\_sub(text, 6,7): is'"
      ],
      "text/markdown": [
       "'str_sub(text, 6,7): is'"
      ],
      "text/plain": [
       "str_sub(text, 6,7): is"
      ]
     },
     "metadata": {},
     "output_type": "display_data"
    }
   ],
   "source": [
    "text = \"This is text.\"\n",
    "glue(\"text is a {class(text)} of length {length(text)}\")\n",
    "glue(\"text[1]: {text[1]}\")\n",
    "glue(\"str_length(text): {str_length(text)}\")\n",
    "glue(\"str_sub(text, 6,7): {str_sub(text, 6,7)}\")\n"
   ]
  },
  {
   "cell_type": "code",
   "execution_count": 4,
   "metadata": {
    "tags": [
     "snippet:manystrings"
    ]
   },
   "outputs": [
    {
     "data": {
      "text/html": [
       "'words is a character of length 3'"
      ],
      "text/latex": [
       "'words is a character of length 3'"
      ],
      "text/markdown": [
       "'words is a character of length 3'"
      ],
      "text/plain": [
       "words is a character of length 3"
      ]
     },
     "metadata": {},
     "output_type": "display_data"
    },
    {
     "data": {
      "text/html": [
       "'words[1]: These'"
      ],
      "text/latex": [
       "'words{[}1{]}: These'"
      ],
      "text/markdown": [
       "'words[1]: These'"
      ],
      "text/plain": [
       "words[1]: These"
      ]
     },
     "metadata": {},
     "output_type": "display_data"
    },
    {
     "data": {
      "text/html": [
       "'words[2:3]: are words'"
      ],
      "text/latex": [
       "'words{[}2:3{]}: are words'"
      ],
      "text/markdown": [
       "'words[2:3]: are words'"
      ],
      "text/plain": [
       "words[2:3]: are words"
      ]
     },
     "metadata": {},
     "output_type": "display_data"
    }
   ],
   "source": [
    "words = c(\"These\", \"are\", \"words\")\n",
    "glue(\"words is a {class(words)} of length {length(words)}\")\n",
    "glue(\"words[1]: {words[1]}\")\n",
    "glue(\"words[2:3]: {paste(words[2:3], collapse=' ')}\")"
   ]
  },
  {
   "cell_type": "code",
   "execution_count": 5,
   "metadata": {
    "tags": [
     "snippet:clean"
    ]
   },
   "outputs": [
    {
     "data": {
      "text/html": [
       "'communication (from latin communicare, meaning to share)'"
      ],
      "text/latex": [
       "'communication (from latin communicare, meaning to share)'"
      ],
      "text/markdown": [
       "'communication (from latin communicare, meaning to share)'"
      ],
      "text/plain": [
       "communication (from latin communicare, meaning to share)"
      ]
     },
     "metadata": {},
     "output_type": "display_data"
    }
   ],
   "source": [
    "text = \"    <b>Communication</b>    (from Latin communicare, meaning to share)  \"\n",
    "cleaned = text %>% \n",
    "  # remove HTML tags:\n",
    "  str_replace_all(\"<b>\", \" \")  %>% \n",
    "  str_replace_all(\"</b>\", \" \")  %>% \n",
    "  # normalize white space \n",
    "  str_squish() %>%\n",
    "  # lower case\n",
    "  tolower()  %>% \n",
    "  # trim spaces at start and end\n",
    "  trimws()\n",
    "\n",
    "glue(cleaned)"
   ]
  },
  {
   "cell_type": "code",
   "execution_count": 6,
   "metadata": {
    "tags": [
     "snippet:cleanpandas",
     "output:table"
    ]
   },
   "outputs": [
    {
     "name": "stderr",
     "output_type": "stream",
     "text": [
      "Parsed with column specification:\n",
      "cols(\n",
      "  id = \u001b[32mcol_double()\u001b[39m,\n",
      "  text = \u001b[31mcol_character()\u001b[39m\n",
      ")\n",
      "\n"
     ]
    },
    {
     "data": {
      "text/html": [
       "<table>\n",
       "<caption>A spec_tbl_df: 4 × 6</caption>\n",
       "<thead>\n",
       "\t<tr><th scope=col>id</th><th scope=col>text</th><th scope=col>has_tag</th><th scope=col>n_at</th><th scope=col>url</th><th scope=col>plain2</th></tr>\n",
       "\t<tr><th scope=col>&lt;dbl&gt;</th><th scope=col>&lt;chr&gt;</th><th scope=col>&lt;lgl&gt;</th><th scope=col>&lt;int&gt;</th><th scope=col>&lt;chr&gt;</th><th scope=col>&lt;chr&gt;</th></tr>\n",
       "</thead>\n",
       "<tbody>\n",
       "\t<tr><td>1</td><td>RT: @john_doe https://example.com/news very interesting!</td><td>FALSE</td><td>1</td><td>https://example.com/news </td><td>RT very interesting </td></tr>\n",
       "\t<tr><td>2</td><td>tweet with just text                                    </td><td>FALSE</td><td>0</td><td>NA                       </td><td>tweet with just text</td></tr>\n",
       "\t<tr><td>3</td><td>http://example.com/pandas #breaking #mustread           </td><td> TRUE</td><td>0</td><td>http://example.com/pandas</td><td>                    </td></tr>\n",
       "\t<tr><td>4</td><td>@me and @myself #selfietime                             </td><td> TRUE</td><td>2</td><td>NA                       </td><td> and                </td></tr>\n",
       "</tbody>\n",
       "</table>\n"
      ],
      "text/latex": [
       "A spec\\_tbl\\_df: 4 × 6\n",
       "\\begin{tabular}{llllll}\n",
       " id & text & has\\_tag & n\\_at & url & plain2\\\\\n",
       " <dbl> & <chr> & <lgl> & <int> & <chr> & <chr>\\\\\n",
       "\\hline\n",
       "\t 1 & RT: @john\\_doe https://example.com/news very interesting! & FALSE & 1 & https://example.com/news  & RT very interesting \\\\\n",
       "\t 2 & tweet with just text                                     & FALSE & 0 & NA                        & tweet with just text\\\\\n",
       "\t 3 & http://example.com/pandas \\#breaking \\#mustread            &  TRUE & 0 & http://example.com/pandas &                     \\\\\n",
       "\t 4 & @me and @myself \\#selfietime                              &  TRUE & 2 & NA                        &  and                \\\\\n",
       "\\end{tabular}\n"
      ],
      "text/markdown": [
       "\n",
       "A spec_tbl_df: 4 × 6\n",
       "\n",
       "| id &lt;dbl&gt; | text &lt;chr&gt; | has_tag &lt;lgl&gt; | n_at &lt;int&gt; | url &lt;chr&gt; | plain2 &lt;chr&gt; |\n",
       "|---|---|---|---|---|---|\n",
       "| 1 | RT: @john_doe https://example.com/news very interesting! | FALSE | 1 | https://example.com/news  | RT very interesting  |\n",
       "| 2 | tweet with just text                                     | FALSE | 0 | NA                        | tweet with just text |\n",
       "| 3 | http://example.com/pandas #breaking #mustread            |  TRUE | 0 | http://example.com/pandas | <!----> |\n",
       "| 4 | @me and @myself #selfietime                              |  TRUE | 2 | NA                        |  and                 |\n",
       "\n"
      ],
      "text/plain": [
       "  id text                                                     has_tag n_at\n",
       "1 1  RT: @john_doe https://example.com/news very interesting! FALSE   1   \n",
       "2 2  tweet with just text                                     FALSE   0   \n",
       "3 3  http://example.com/pandas #breaking #mustread             TRUE   0   \n",
       "4 4  @me and @myself #selfietime                               TRUE   2   \n",
       "  url                       plain2              \n",
       "1 https://example.com/news  RT very interesting \n",
       "2 NA                        tweet with just text\n",
       "3 http://example.com/pandas                     \n",
       "4 NA                         and                "
      ]
     },
     "metadata": {},
     "output_type": "display_data"
    }
   ],
   "source": [
    "library(tidyverse)\n",
    "tweets = read_csv(\"http://cssbook.net/d/example_tweets.csv\")\n",
    "tweets = tweets %>% mutate(\n",
    "    # identify tweets with hashtags\n",
    "    has_tag=str_detect(text, \"#\\\\w+\"),\n",
    "    # How many at-mentions are there?\n",
    "    n_at = str_count(text, \"(^|\\\\s)@\\\\w+\"),\n",
    "    # Extract first url\n",
    "    url = str_extract(text, \"(https?://\\\\S+)\"),\n",
    "    # Extract only plain text\n",
    "    plain2 = str_replace_all(text, \"(^|\\\\s)(@|#|https?://)\\\\S+\", \" \") %>% \n",
    "             str_replace_all(\"\\\\W+\", \" \")\n",
    "    )\n",
    "\n",
    "tweets"
   ]
  },
  {
   "cell_type": "code",
   "execution_count": 7,
   "metadata": {
    "tags": [
     "snippet:split"
    ]
   },
   "outputs": [
    {
     "name": "stdout",
     "output_type": "stream",
     "text": [
      "[1] \"apples\"  \"pears\"   \"oranges\"\n",
      "[1] \"apples & pears & oranges\"\n"
     ]
    }
   ],
   "source": [
    "text = \"apples, pears, oranges\"\n",
    "items = strsplit(text, \", \", fixed=T)[[1]]\n",
    "items = str_split(text, \"\\\\p{PUNCTUATION}\\\\s*\")[[1]]\n",
    "items = str_extract_all(text, \"\\\\p{LETTER}+\")[[1]]\n",
    "print(items)\n",
    "joined = str_c(items, collapse=\" & \")\n",
    "print(joined)"
   ]
  },
  {
   "cell_type": "code",
   "execution_count": 8,
   "metadata": {
    "tags": [
     "snippet:splitlong1",
     "output:table"
    ]
   },
   "outputs": [
    {
     "name": "stderr",
     "output_type": "stream",
     "text": [
      "Joining, by = \"id\"\n"
     ]
    },
    {
     "data": {
      "text/html": [
       "<table>\n",
       "<caption>A tibble: 3 × 7</caption>\n",
       "<thead>\n",
       "\t<tr><th scope=col>id</th><th scope=col>tag</th><th scope=col>text</th><th scope=col>has_tag</th><th scope=col>n_at</th><th scope=col>url</th><th scope=col>plain2</th></tr>\n",
       "\t<tr><th scope=col>&lt;dbl&gt;</th><th scope=col>&lt;chr&gt;</th><th scope=col>&lt;chr&gt;</th><th scope=col>&lt;lgl&gt;</th><th scope=col>&lt;int&gt;</th><th scope=col>&lt;chr&gt;</th><th scope=col>&lt;chr&gt;</th></tr>\n",
       "</thead>\n",
       "<tbody>\n",
       "\t<tr><td>3</td><td>#breaking  </td><td>http://example.com/pandas #breaking #mustread</td><td>TRUE</td><td>0</td><td>http://example.com/pandas</td><td>     </td></tr>\n",
       "\t<tr><td>3</td><td>#mustread  </td><td>http://example.com/pandas #breaking #mustread</td><td>TRUE</td><td>0</td><td>http://example.com/pandas</td><td>     </td></tr>\n",
       "\t<tr><td>4</td><td>#selfietime</td><td>@me and @myself #selfietime                  </td><td>TRUE</td><td>2</td><td>NA                       </td><td> and </td></tr>\n",
       "</tbody>\n",
       "</table>\n"
      ],
      "text/latex": [
       "A tibble: 3 × 7\n",
       "\\begin{tabular}{lllllll}\n",
       " id & tag & text & has\\_tag & n\\_at & url & plain2\\\\\n",
       " <dbl> & <chr> & <chr> & <lgl> & <int> & <chr> & <chr>\\\\\n",
       "\\hline\n",
       "\t 3 & \\#breaking   & http://example.com/pandas \\#breaking \\#mustread & TRUE & 0 & http://example.com/pandas &      \\\\\n",
       "\t 3 & \\#mustread   & http://example.com/pandas \\#breaking \\#mustread & TRUE & 0 & http://example.com/pandas &      \\\\\n",
       "\t 4 & \\#selfietime & @me and @myself \\#selfietime                   & TRUE & 2 & NA                        &  and \\\\\n",
       "\\end{tabular}\n"
      ],
      "text/markdown": [
       "\n",
       "A tibble: 3 × 7\n",
       "\n",
       "| id &lt;dbl&gt; | tag &lt;chr&gt; | text &lt;chr&gt; | has_tag &lt;lgl&gt; | n_at &lt;int&gt; | url &lt;chr&gt; | plain2 &lt;chr&gt; |\n",
       "|---|---|---|---|---|---|---|\n",
       "| 3 | #breaking   | http://example.com/pandas #breaking #mustread | TRUE | 0 | http://example.com/pandas | <!----> |\n",
       "| 3 | #mustread   | http://example.com/pandas #breaking #mustread | TRUE | 0 | http://example.com/pandas | <!----> |\n",
       "| 4 | #selfietime | @me and @myself #selfietime                   | TRUE | 2 | NA                        |  and  |\n",
       "\n"
      ],
      "text/plain": [
       "  id tag         text                                          has_tag n_at\n",
       "1 3  #breaking   http://example.com/pandas #breaking #mustread TRUE    0   \n",
       "2 3  #mustread   http://example.com/pandas #breaking #mustread TRUE    0   \n",
       "3 4  #selfietime @me and @myself #selfietime                   TRUE    2   \n",
       "  url                       plain2\n",
       "1 http://example.com/pandas       \n",
       "2 http://example.com/pandas       \n",
       "3 NA                         and  "
      ]
     },
     "metadata": {},
     "output_type": "display_data"
    }
   ],
   "source": [
    "tags = tweets %>% mutate(tag=str_extract_all(tweets$text, \"(#\\\\w+)\")) %>% select(id, tag)\n",
    "tags_long = tags  %>% unnest(tag)\n",
    "left_join(tags_long, tweets)"
   ]
  },
  {
   "cell_type": "code",
   "execution_count": 9,
   "metadata": {
    "tags": [
     "snippet:splitlong2",
     "output:table"
    ]
   },
   "outputs": [
    {
     "data": {
      "text/html": [
       "<table>\n",
       "<caption>A tibble: 6 × 2</caption>\n",
       "<thead>\n",
       "\t<tr><th scope=col>id</th><th scope=col>word</th></tr>\n",
       "\t<tr><th scope=col>&lt;dbl&gt;</th><th scope=col>&lt;chr&gt;</th></tr>\n",
       "</thead>\n",
       "<tbody>\n",
       "\t<tr><td>1</td><td>RT      </td></tr>\n",
       "\t<tr><td>1</td><td>john_doe</td></tr>\n",
       "\t<tr><td>1</td><td>https   </td></tr>\n",
       "\t<tr><td>1</td><td>example </td></tr>\n",
       "\t<tr><td>1</td><td>com     </td></tr>\n",
       "\t<tr><td>1</td><td>news    </td></tr>\n",
       "</tbody>\n",
       "</table>\n"
      ],
      "text/latex": [
       "A tibble: 6 × 2\n",
       "\\begin{tabular}{ll}\n",
       " id & word\\\\\n",
       " <dbl> & <chr>\\\\\n",
       "\\hline\n",
       "\t 1 & RT      \\\\\n",
       "\t 1 & john\\_doe\\\\\n",
       "\t 1 & https   \\\\\n",
       "\t 1 & example \\\\\n",
       "\t 1 & com     \\\\\n",
       "\t 1 & news    \\\\\n",
       "\\end{tabular}\n"
      ],
      "text/markdown": [
       "\n",
       "A tibble: 6 × 2\n",
       "\n",
       "| id &lt;dbl&gt; | word &lt;chr&gt; |\n",
       "|---|---|\n",
       "| 1 | RT       |\n",
       "| 1 | john_doe |\n",
       "| 1 | https    |\n",
       "| 1 | example  |\n",
       "| 1 | com      |\n",
       "| 1 | news     |\n",
       "\n"
      ],
      "text/plain": [
       "  id word    \n",
       "1 1  RT      \n",
       "2 1  john_doe\n",
       "3 1  https   \n",
       "4 1  example \n",
       "5 1  com     \n",
       "6 1  news    "
      ]
     },
     "metadata": {},
     "output_type": "display_data"
    }
   ],
   "source": [
    "words = tweets %>% mutate(word=str_split(tweets$text, \"\\\\W+\")) %>% select(id, word)\n",
    "words_long = words %>% unnest(word)\n",
    "head(words_long)"
   ]
  },
  {
   "cell_type": "code",
   "execution_count": 10,
   "metadata": {
    "tags": [
     "snippet:splitlong3",
     "output:table"
    ]
   },
   "outputs": [
    {
     "data": {
      "text/html": [
       "<table>\n",
       "<caption>A tibble: 4 × 2</caption>\n",
       "<thead>\n",
       "\t<tr><th scope=col>id</th><th scope=col>joined</th></tr>\n",
       "\t<tr><th scope=col>&lt;dbl&gt;</th><th scope=col>&lt;chr&gt;</th></tr>\n",
       "</thead>\n",
       "<tbody>\n",
       "\t<tr><td>1</td><td>RT_john_doe_https_example_com_news_very_interesting_</td></tr>\n",
       "\t<tr><td>2</td><td>tweet_with_just_text                                </td></tr>\n",
       "\t<tr><td>3</td><td>http_example_com_pandas_breaking_mustread           </td></tr>\n",
       "\t<tr><td>4</td><td>_me_and_myself_selfietime                           </td></tr>\n",
       "</tbody>\n",
       "</table>\n"
      ],
      "text/latex": [
       "A tibble: 4 × 2\n",
       "\\begin{tabular}{ll}\n",
       " id & joined\\\\\n",
       " <dbl> & <chr>\\\\\n",
       "\\hline\n",
       "\t 1 & RT\\_john\\_doe\\_https\\_example\\_com\\_news\\_very\\_interesting\\_\\\\\n",
       "\t 2 & tweet\\_with\\_just\\_text                                \\\\\n",
       "\t 3 & http\\_example\\_com\\_pandas\\_breaking\\_mustread           \\\\\n",
       "\t 4 & \\_me\\_and\\_myself\\_selfietime                           \\\\\n",
       "\\end{tabular}\n"
      ],
      "text/markdown": [
       "\n",
       "A tibble: 4 × 2\n",
       "\n",
       "| id &lt;dbl&gt; | joined &lt;chr&gt; |\n",
       "|---|---|\n",
       "| 1 | RT_john_doe_https_example_com_news_very_interesting_ |\n",
       "| 2 | tweet_with_just_text                                 |\n",
       "| 3 | http_example_com_pandas_breaking_mustread            |\n",
       "| 4 | _me_and_myself_selfietime                            |\n",
       "\n"
      ],
      "text/plain": [
       "  id joined                                              \n",
       "1 1  RT_john_doe_https_example_com_news_very_interesting_\n",
       "2 2  tweet_with_just_text                                \n",
       "3 3  http_example_com_pandas_breaking_mustread           \n",
       "4 4  _me_and_myself_selfietime                           "
      ]
     },
     "metadata": {},
     "output_type": "display_data"
    }
   ],
   "source": [
    "words_long %>% group_by(id) %>% summarize(joined=str_c(word, collapse=\"_\"))"
   ]
  }
 ],
 "metadata": {
  "celltoolbar": "Tags",
  "kernelspec": {
   "display_name": "R",
   "language": "R",
   "name": "ir"
  },
  "language_info": {
   "codemirror_mode": "r",
   "file_extension": ".r",
   "mimetype": "text/x-r-source",
   "name": "R",
   "pygments_lexer": "r",
   "version": "3.6.3"
  }
 },
 "nbformat": 4,
 "nbformat_minor": 2
}
