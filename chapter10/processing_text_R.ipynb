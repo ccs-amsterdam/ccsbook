{
 "cells": [
  {
   "cell_type": "markdown",
   "metadata": {},
   "source": [
    "# Chapter 10. Proccesing text\n",
    "## Notebook for R"
   ]
  },
  {
   "cell_type": "markdown",
   "metadata": {},
   "source": [
    "### 10.1 Reading and cleaning text"
   ]
  },
  {
   "cell_type": "code",
   "execution_count": 3,
   "metadata": {
    "tags": [
     "snippet:clean"
    ]
   },
   "outputs": [
    {
     "name": "stdout",
     "output_type": "stream",
     "text": [
      "[1] \"<p><b>Communication</b> (from Latin <i>communicare</i>, meaning to share)\"\n",
      "[1] \"communication from latin communicare meaning to share\"\n"
     ]
    }
   ],
   "source": [
    "library(magrittr)\n",
    "my_wiki_text = \"<p><b>Communication</b> (from Latin <i>communicare</i>, meaning to share)\"\n",
    "print(my_wiki_text)\n",
    "\n",
    "my_wiki_text %<>% gsub(\"<p>\", \" \", .) %>% gsub(\"<b>\", \" \", .) %>% gsub(\"</b>\", \" \", .) %>% gsub(\"<i>\", \" \", .) %>% gsub(\"</i>\", \" \", .) \n",
    "my_wiki_text_2 = gsub('[[:punct:]]','',my_wiki_text) #Remove punctuation\n",
    "my_wiki_text_2 = tolower(my_wiki_text_2) #Convert to lower case\n",
    "my_wiki_text_2 = trimws(gsub(\"\\\\s+\", \" \", my_wiki_text_2)) #Remove double spaces \n",
    "print(my_wiki_text_2)"
   ]
  },
  {
   "cell_type": "code",
   "execution_count": 7,
   "metadata": {
    "tags": [
     "snippet:clean_extra"
    ]
   },
   "outputs": [
    {
     "name": "stdout",
     "output_type": "stream",
     "text": [
      "[1] \"Communication  (from Latin  communicare , meaning to share)\"\n"
     ]
    }
   ],
   "source": [
    "library(stringi)\n",
    "my_wiki_text_3 = stri_replace_all(my_wiki_text, \"\", regex = \"<.+?>\")\n",
    "my_wiki_text_3 = stri_trim(my_wiki_text_3)\n",
    "print(my_wiki_text_3)"
   ]
  },
  {
   "cell_type": "code",
   "execution_count": 39,
   "metadata": {},
   "outputs": [
    {
     "ename": "ERROR",
     "evalue": "Error in parse(text = x, srcfile = src): <text>:7:3: unexpected string constant\n18: my_wiki_text = gsub(\"</i>\", \"\", my_wiki_text) \n19: '\n      ^\n",
     "output_type": "error",
     "traceback": [
      "Error in parse(text = x, srcfile = src): <text>:7:3: unexpected string constant\n18: my_wiki_text = gsub(\"</i>\", \"\", my_wiki_text) \n19: '\n      ^\nTraceback:\n"
     ]
    }
   ],
   "source": [
    "library(magrittr)\n",
    "my_wiki_text = \"<p><b>Communication</b> (from Latin <i>communicare</i>, meaning \\\"to share\\\")\"\n",
    "print(my_wiki_text)\n",
    "\n",
    "#my_wiki_text = gsub(\"<p> |<b>\", \"\", my_wiki_text) #remove HTML tags\n",
    "\n",
    "'''\n",
    "my_wiki_text %<>%\n",
    "  gsub(\"<p>\", \"\", .) %>%\n",
    "  gsub(\"<b>\", \"\", .) \n",
    "\n",
    "\n",
    "\n",
    "\n",
    "my_wiki_text = gsub(\"<b>\", \"\", my_wiki_text) \n",
    "my_wiki_text = gsub(\"</b>\", \"\", my_wiki_text) \n",
    "my_wiki_text = gsub(\"<i>\", \"\", my_wiki_text) \n",
    "my_wiki_text = gsub(\"</i>\", \"\", my_wiki_text) \n",
    "'''\n",
    "#gsub(\", |: |\\\\. |!\",\"\",A)\n",
    "\n",
    "print(my_wiki_text)"
   ]
  },
  {
   "cell_type": "code",
   "execution_count": null,
   "metadata": {},
   "outputs": [],
   "source": [
    "my_wiki_text = my_wiki_text.replace('<p>',' ').replace('<b>',' ').replace('</b>',' ').replace('<i>',' ').replace('</i>',' ') #remove HTML tags\n",
    "my_wiki_text = \"\".join([l for l in my_wiki_text if l not in string.punctuation]) #Remove punctuation\n",
    "my_wiki_text = my_wiki_text.lower()  #Convert to lower case\n",
    "my_wiki_text = \" \".join(my_wiki_text.split()) #Remove double spaces "
   ]
  },
  {
   "cell_type": "code",
   "execution_count": null,
   "metadata": {},
   "outputs": [],
   "source": [
    "Pattern\n",
    "test  <- \"junk junk<a href=\\\"/wiki/abstraction_(mathematics)\\\" title=\\\"abstraction (mathematics)\\\"> junk junk\"\n",
    "gsub(pattern = \"<.*>\", replacement = \"\", x = test)\n",
    "[1] \"junk junk junk junk\"\n",
    "\n",
    "\n",
    "gsub(pattern=\"[:punct:]\", x=test, replacement=\" \")"
   ]
  }
 ],
 "metadata": {
  "celltoolbar": "Tags",
  "kernelspec": {
   "display_name": "R",
   "language": "R",
   "name": "ir"
  },
  "language_info": {
   "codemirror_mode": "r",
   "file_extension": ".r",
   "mimetype": "text/x-r-source",
   "name": "R",
   "pygments_lexer": "r",
   "version": "3.6.1"
  }
 },
 "nbformat": 4,
 "nbformat_minor": 2
}
