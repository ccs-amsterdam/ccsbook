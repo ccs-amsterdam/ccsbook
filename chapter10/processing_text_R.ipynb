{
 "cells": [
  {
   "cell_type": "markdown",
   "metadata": {},
   "source": [
    "# Chapter 10. Proccesing text\n",
    "## Notebook for R"
   ]
  },
  {
   "cell_type": "markdown",
   "metadata": {},
   "source": [
    "### 10.1 Reading and cleaning text"
   ]
  },
  {
   "cell_type": "code",
   "execution_count": 129,
   "metadata": {
    "tags": [
     "snippet:clean"
    ]
   },
   "outputs": [
    {
     "data": {
      "text/html": [
       "'&lt;p&gt;&lt;b&gt;Communication&lt;/b&gt; (from Latin &lt;i&gt;communicare&lt;/i&gt;, meaning to share)'"
      ],
      "text/latex": [
       "'<p><b>Communication</b> (from Latin <i>communicare</i>, meaning to share)'"
      ],
      "text/markdown": [
       "'&lt;p&gt;&lt;b&gt;Communication&lt;/b&gt; (from Latin &lt;i&gt;communicare&lt;/i&gt;, meaning to share)'"
      ],
      "text/plain": [
       "<p><b>Communication</b> (from Latin <i>communicare</i>, meaning to share)"
      ]
     },
     "metadata": {},
     "output_type": "display_data"
    },
    {
     "data": {
      "text/html": [
       "'communication from latin communicare meaning to share'"
      ],
      "text/latex": [
       "'communication from latin communicare meaning to share'"
      ],
      "text/markdown": [
       "'communication from latin communicare meaning to share'"
      ],
      "text/plain": [
       "communication from latin communicare meaning to share"
      ]
     },
     "metadata": {},
     "output_type": "display_data"
    }
   ],
   "source": [
    "library(glue)\n",
    "library(magrittr)\n",
    "my_wiki_text = \"<p><b>Communication</b> (from Latin <i>communicare</i>, meaning to share)\"\n",
    "glue(my_wiki_text)\n",
    "\n",
    "my_wiki_text %<>% gsub(\"<p>\", \" \", .) %>% gsub(\"<b>\", \" \", .) %>% gsub(\"</b>\", \" \", .) %>% gsub(\"<i>\", \" \", .) %>% gsub(\"</i>\", \" \", .) \n",
    "my_wiki_text_2 = gsub('[[:punct:]]','',my_wiki_text) #Remove punctuation\n",
    "my_wiki_text_2 = tolower(my_wiki_text_2) #Convert to lower case\n",
    "my_wiki_text_2 = trimws(gsub(\"\\\\s+\", \" \", my_wiki_text_2)) #Remove double spaces \n",
    "glue(my_wiki_text_2)"
   ]
  },
  {
   "cell_type": "code",
   "execution_count": 119,
   "metadata": {
    "tags": [
     "snippet:cleanextra"
    ]
   },
   "outputs": [
    {
     "data": {
      "text/html": [
       "<span style=white-space:pre-wrap>'Communication  (from Latin  communicare , meaning to share)'</span>"
      ],
      "text/latex": [
       "'Communication  (from Latin  communicare , meaning to share)'"
      ],
      "text/markdown": [
       "<span style=white-space:pre-wrap>'Communication  (from Latin  communicare , meaning to share)'</span>"
      ],
      "text/plain": [
       "Communication  (from Latin  communicare , meaning to share)"
      ]
     },
     "metadata": {},
     "output_type": "display_data"
    }
   ],
   "source": [
    "library(stringi)\n",
    "my_wiki_text_3 = stri_replace_all(my_wiki_text, \"\", regex = \"<.+?>\")\n",
    "my_wiki_text_3 = stri_trim(my_wiki_text_3)\n",
    "glue(my_wiki_text_3)"
   ]
  },
  {
   "cell_type": "code",
   "execution_count": 21,
   "metadata": {
    "tags": [
     "snippet:regex"
    ]
   },
   "outputs": [
    {
     "data": {
      "text/html": [
       "<span style=white-space:pre-wrap>'  Communication  (from Latin  communicare , meaning to share)'</span>"
      ],
      "text/latex": [
       "'  Communication  (from Latin  communicare , meaning to share)'"
      ],
      "text/markdown": [
       "<span style=white-space:pre-wrap>'  Communication  (from Latin  communicare , meaning to share)'</span>"
      ],
      "text/plain": [
       "  Communication  (from Latin  communicare , meaning to share)"
      ]
     },
     "metadata": {},
     "output_type": "display_data"
    }
   ],
   "source": [
    "my_wiki_text_4 = gsub(pattern = \"<.*?>\", replacement = \"\", x = my_wiki_text)\n",
    "glue(my_wiki_text_4)"
   ]
  },
  {
   "cell_type": "code",
   "execution_count": 126,
   "metadata": {
    "tags": [
     "snippet:regex2"
    ]
   },
   "outputs": [
    {
     "data": {
      "text/html": [
       "'&lt;@born_in_america: My second favorite color is green, I must acknowlege my friends for that!&gt;, &lt;@born_in_britain: My second favourite colour is red, I must aknowledge my friends for that!&gt;'"
      ],
      "text/latex": [
       "'<@born\\_in\\_america: My second favorite color is green, I must acknowlege my friends for that!>, <@born\\_in\\_britain: My second favourite colour is red, I must aknowledge my friends for that!>'"
      ],
      "text/markdown": [
       "'&lt;@born_in_america: My second favorite color is green, I must acknowlege my friends for that!&gt;, &lt;@born_in_britain: My second favourite colour is red, I must aknowledge my friends for that!&gt;'"
      ],
      "text/plain": [
       "<@born_in_america: My second favorite color is green, I must acknowlege my friends for that!>, <@born_in_britain: My second favourite colour is red, I must aknowledge my friends for that!>"
      ]
     },
     "metadata": {},
     "output_type": "display_data"
    },
    {
     "data": {
      "text/html": [
       "'&lt;@born_in_america: My second favorite color is green, I must acknowledge my friends for that!&gt;, &lt;@born_in_britain: My second favorite color is red, I must acknowledge my friends for that!&gt;'"
      ],
      "text/latex": [
       "'<@born\\_in\\_america: My second favorite color is green, I must acknowledge my friends for that!>, <@born\\_in\\_britain: My second favorite color is red, I must acknowledge my friends for that!>'"
      ],
      "text/markdown": [
       "'&lt;@born_in_america: My second favorite color is green, I must acknowledge my friends for that!&gt;, &lt;@born_in_britain: My second favorite color is red, I must acknowledge my friends for that!&gt;'"
      ],
      "text/plain": [
       "<@born_in_america: My second favorite color is green, I must acknowledge my friends for that!>, <@born_in_britain: My second favorite color is red, I must acknowledge my friends for that!>"
      ]
     },
     "metadata": {},
     "output_type": "display_data"
    }
   ],
   "source": [
    "tweets = \"<@born_in_america: My second favorite color is green, I must acknowlege my friends for that!>, <@born_in_britain: My second favourite colour is red, I must aknowledge my friends for that!>\"\n",
    "tweets_unified = gsub(pattern = \"acknowlege|aknowledge\" , replacement = \"acknowledge\", x = tweets)\n",
    "tweets_unified = gsub(pattern = \"col.+?r\", replacement = \"color\", x = tweets_unified)\n",
    "tweets_unified = gsub(pattern = \"fav.+?rite\" , replacement = \"favorite\", x = tweets_unified)\n",
    "glue(tweets)\n",
    "glue(tweets_unified)"
   ]
  },
  {
   "cell_type": "code",
   "execution_count": 128,
   "metadata": {
    "tags": [
     "snippet:regex3"
    ]
   },
   "outputs": [
    {
     "name": "stdout",
     "output_type": "stream",
     "text": [
      "[1] \"@born_in_america\" \"@born_in_britain\"\n"
     ]
    }
   ],
   "source": [
    "users = unlist(strsplit(tweets, \" \"))\n",
    "users = gsub(\"[^[:alnum:]@_]\", \"\", users[grep(\"(^|[^@\\\\w])@(\\\\w{1,15})\\\\b\", users)])\n",
    "print(users)"
   ]
  },
  {
   "cell_type": "code",
   "execution_count": 118,
   "metadata": {},
   "outputs": [
    {
     "data": {
      "text/html": [
       "<ol class=list-inline>\n",
       "\t<li>'&lt;@born_in_america:'</li>\n",
       "\t<li>'My'</li>\n",
       "\t<li>'second'</li>\n",
       "\t<li>'favorite'</li>\n",
       "\t<li>'color'</li>\n",
       "\t<li>'is'</li>\n",
       "\t<li>'green,'</li>\n",
       "\t<li>'I'</li>\n",
       "\t<li>'must'</li>\n",
       "\t<li>'acknowlege'</li>\n",
       "\t<li>'my'</li>\n",
       "\t<li>'friends'</li>\n",
       "\t<li>'for'</li>\n",
       "\t<li>'that!&gt;,'</li>\n",
       "\t<li>'&lt;@born_in_britain:'</li>\n",
       "\t<li>'My'</li>\n",
       "\t<li>'second'</li>\n",
       "\t<li>'favourite'</li>\n",
       "\t<li>'colour'</li>\n",
       "\t<li>'is'</li>\n",
       "\t<li>'red,'</li>\n",
       "\t<li>'I'</li>\n",
       "\t<li>'must'</li>\n",
       "\t<li>'aknowledge'</li>\n",
       "\t<li>'my'</li>\n",
       "\t<li>'friends'</li>\n",
       "\t<li>'for'</li>\n",
       "\t<li>'that!&gt;'</li>\n",
       "</ol>\n"
      ],
      "text/latex": [
       "\\begin{enumerate*}\n",
       "\\item '<@born\\_in\\_america:'\n",
       "\\item 'My'\n",
       "\\item 'second'\n",
       "\\item 'favorite'\n",
       "\\item 'color'\n",
       "\\item 'is'\n",
       "\\item 'green,'\n",
       "\\item 'I'\n",
       "\\item 'must'\n",
       "\\item 'acknowlege'\n",
       "\\item 'my'\n",
       "\\item 'friends'\n",
       "\\item 'for'\n",
       "\\item 'that!>,'\n",
       "\\item '<@born\\_in\\_britain:'\n",
       "\\item 'My'\n",
       "\\item 'second'\n",
       "\\item 'favourite'\n",
       "\\item 'colour'\n",
       "\\item 'is'\n",
       "\\item 'red,'\n",
       "\\item 'I'\n",
       "\\item 'must'\n",
       "\\item 'aknowledge'\n",
       "\\item 'my'\n",
       "\\item 'friends'\n",
       "\\item 'for'\n",
       "\\item 'that!>'\n",
       "\\end{enumerate*}\n"
      ],
      "text/markdown": [
       "1. '&lt;@born_in_america:'\n",
       "2. 'My'\n",
       "3. 'second'\n",
       "4. 'favorite'\n",
       "5. 'color'\n",
       "6. 'is'\n",
       "7. 'green,'\n",
       "8. 'I'\n",
       "9. 'must'\n",
       "10. 'acknowlege'\n",
       "11. 'my'\n",
       "12. 'friends'\n",
       "13. 'for'\n",
       "14. 'that!&gt;,'\n",
       "15. '&lt;@born_in_britain:'\n",
       "16. 'My'\n",
       "17. 'second'\n",
       "18. 'favourite'\n",
       "19. 'colour'\n",
       "20. 'is'\n",
       "21. 'red,'\n",
       "22. 'I'\n",
       "23. 'must'\n",
       "24. 'aknowledge'\n",
       "25. 'my'\n",
       "26. 'friends'\n",
       "27. 'for'\n",
       "28. 'that!&gt;'\n",
       "\n",
       "\n"
      ],
      "text/plain": [
       " [1] \"<@born_in_america:\" \"My\"                 \"second\"            \n",
       " [4] \"favorite\"           \"color\"              \"is\"                \n",
       " [7] \"green,\"             \"I\"                  \"must\"              \n",
       "[10] \"acknowlege\"         \"my\"                 \"friends\"           \n",
       "[13] \"for\"                \"that!>,\"            \"<@born_in_britain:\"\n",
       "[16] \"My\"                 \"second\"             \"favourite\"         \n",
       "[19] \"colour\"             \"is\"                 \"red,\"              \n",
       "[22] \"I\"                  \"must\"               \"aknowledge\"        \n",
       "[25] \"my\"                 \"friends\"            \"for\"               \n",
       "[28] \"that!>\"            "
      ]
     },
     "metadata": {},
     "output_type": "display_data"
    }
   ],
   "source": [
    "users = unlist(strsplit(tweets, \" \"))\n",
    "users"
   ]
  },
  {
   "cell_type": "code",
   "execution_count": null,
   "metadata": {},
   "outputs": [],
   "source": []
  }
 ],
 "metadata": {
  "celltoolbar": "Tags",
  "kernelspec": {
   "display_name": "R",
   "language": "R",
   "name": "ir"
  },
  "language_info": {
   "codemirror_mode": "r",
   "file_extension": ".r",
   "mimetype": "text/x-r-source",
   "name": "R",
   "pygments_lexer": "r",
   "version": "3.6.1"
  }
 },
 "nbformat": 4,
 "nbformat_minor": 2
}
