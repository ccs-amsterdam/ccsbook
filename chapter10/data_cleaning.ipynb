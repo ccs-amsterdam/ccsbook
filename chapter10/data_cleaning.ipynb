{
 "cells": [
  {
   "cell_type": "code",
   "execution_count": 2,
   "metadata": {},
   "outputs": [],
   "source": [
    "# State of the Union data \n",
    "# Recode from the Corpus data in quanteda.corpora\n",
    "library(tidyverse)\n",
    "library(quanteda)\n",
    "library(quanteda.corpora)\n",
    "d = docvars(data_corpus_sotu) %>% as_tibble() \n",
    "  %>% mutate(text=texts(data_corpus_sotu))\n",
    "d %>% filter(Date > \"1945-01-01\") %>% \n",
    "  write_csv(\"/tmp/sotu.csv\")"
   ]
  },
  {
   "cell_type": "code",
   "execution_count": 3,
   "metadata": {},
   "outputs": [
    {
     "data": {
      "text/plain": [
       "\n",
       "FALSE  TRUE \n",
       "  155    85 "
      ]
     },
     "metadata": {},
     "output_type": "display_data"
    }
   ],
   "source": [
    "table(d$Date > \"1945-01-01\")"
   ]
  }
 ],
 "metadata": {
  "kernelspec": {
   "display_name": "R",
   "language": "R",
   "name": "ir"
  },
  "language_info": {
   "codemirror_mode": "r",
   "file_extension": ".r",
   "mimetype": "text/x-r-source",
   "name": "R",
   "pygments_lexer": "r",
   "version": "4.0.5"
  }
 },
 "nbformat": 4,
 "nbformat_minor": 4
}
