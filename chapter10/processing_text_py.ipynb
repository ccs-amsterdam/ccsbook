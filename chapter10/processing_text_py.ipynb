{
 "cells": [
  {
   "cell_type": "markdown",
   "metadata": {},
   "source": [
    "# Chapter 10. Proccesing text\n",
    "## Notebook for Python"
   ]
  },
  {
   "cell_type": "code",
   "execution_count": 1,
   "metadata": {
    "tags": [
     "snippet:chapter10install",
     "dontrun"
    ]
   },
   "outputs": [
    {
     "name": "stdout",
     "output_type": "stream",
     "text": [
      "Requirement already satisfied: regex in /usr/lib/python3/dist-packages (2019.8.19)\r\n",
      "Requirement already satisfied: pandas in /usr/local/lib/python3.8/dist-packages (1.1.4)\r\n",
      "Requirement already satisfied: numpy>=1.15.4 in /usr/lib/python3/dist-packages (from pandas) (1.17.4)\r\n",
      "Requirement already satisfied: python-dateutil>=2.7.3 in /usr/lib/python3/dist-packages (from pandas) (2.7.3)\r\n",
      "Requirement already satisfied: pytz>=2017.2 in /usr/lib/python3/dist-packages (from pandas) (2019.3)\r\n"
     ]
    }
   ],
   "source": [
    "import sys\n",
    "!{sys.executable} -m pip install regex pandas"
   ]
  },
  {
   "cell_type": "code",
   "execution_count": 2,
   "metadata": {
    "tags": [
     "snippet:chapter10library"
    ]
   },
   "outputs": [],
   "source": [
    "import regex\n",
    "import pandas as pd\n"
   ]
  },
  {
   "cell_type": "markdown",
   "metadata": {},
   "source": [
    "### 10.1 Reading and cleaning text"
   ]
  },
  {
   "cell_type": "code",
   "execution_count": 3,
   "metadata": {
    "tags": [
     "snippet:string"
    ]
   },
   "outputs": [
    {
     "name": "stdout",
     "output_type": "stream",
     "text": [
      "text is a <class 'str'> of length 13\n",
      "text[0]: 'T'\n",
      "text[5:7]: 'is'\n",
      "text[-1]: '.'\n",
      "text[-4:]: 'text.'\n"
     ]
    }
   ],
   "source": [
    "text = \"This is text.\"\n",
    "print(f\"text is a {type(text)} of length {len(text)}\")\n",
    "print(f\"text[0]: '{text[0]}'\")\n",
    "print(f\"text[5:7]: '{text[5:7]}'\")\n",
    "print(f\"text[-1]: '{text[-1]}'\")\n",
    "print(f\"text[-4:]: '{text[-5:]}'\")"
   ]
  },
  {
   "cell_type": "code",
   "execution_count": 4,
   "metadata": {
    "tags": [
     "snippet:manystrings"
    ]
   },
   "outputs": [
    {
     "name": "stdout",
     "output_type": "stream",
     "text": [
      "words is a <class 'list'> of length 3\n",
      "words[0]: 'These'\n",
      "words[1:3]: '['are', 'words']'\n"
     ]
    }
   ],
   "source": [
    "words = [\"These\", \"are\", \"words\"]\n",
    "print(f\"words is a {type(words)} of length {len(words)}\")\n",
    "print(f\"words[0]: '{words[0]}'\")\n",
    "print(f\"words[1:3]: '{words[1:3]}'\")"
   ]
  },
  {
   "cell_type": "code",
   "execution_count": 5,
   "metadata": {
    "tags": [
     "snippet:clean"
    ]
   },
   "outputs": [
    {
     "name": "stdout",
     "output_type": "stream",
     "text": [
      "communication (from latin communicare, meaning to share)\n"
     ]
    }
   ],
   "source": [
    "text = \"   <b>Communication</b>    (from Latin communicare, meaning to share) \"\n",
    "\n",
    "\n",
    "# remove tags:\n",
    "cleaned = text.replace(\"<b>\",\"\").replace(\"</b>\",\"\")\n",
    "# normalize white space\n",
    "cleaned = \" \".join(cleaned.split())\n",
    "# lower case\n",
    "cleaned = cleaned.lower()\n",
    "# trim spaces from start and end\n",
    "cleaned = cleaned.strip()\n",
    "\n",
    "print(cleaned)"
   ]
  },
  {
   "cell_type": "code",
   "execution_count": 6,
   "metadata": {
    "tags": [
     "snippet:cleanpandas",
     "output:table"
    ]
   },
   "outputs": [
    {
     "data": {
      "text/html": [
       "<div>\n",
       "<style scoped>\n",
       "    .dataframe tbody tr th:only-of-type {\n",
       "        vertical-align: middle;\n",
       "    }\n",
       "\n",
       "    .dataframe tbody tr th {\n",
       "        vertical-align: top;\n",
       "    }\n",
       "\n",
       "    .dataframe thead th {\n",
       "        text-align: right;\n",
       "    }\n",
       "</style>\n",
       "<table border=\"1\" class=\"dataframe\">\n",
       "  <thead>\n",
       "    <tr style=\"text-align: right;\">\n",
       "      <th></th>\n",
       "      <th>text</th>\n",
       "      <th>has_tag</th>\n",
       "      <th>n_at</th>\n",
       "      <th>url</th>\n",
       "      <th>plain2</th>\n",
       "    </tr>\n",
       "    <tr>\n",
       "      <th>id</th>\n",
       "      <th></th>\n",
       "      <th></th>\n",
       "      <th></th>\n",
       "      <th></th>\n",
       "      <th></th>\n",
       "    </tr>\n",
       "  </thead>\n",
       "  <tbody>\n",
       "    <tr>\n",
       "      <th>1</th>\n",
       "      <td>RT: @john_doe https://example.com/news very in...</td>\n",
       "      <td>False</td>\n",
       "      <td>1</td>\n",
       "      <td>https://example.com/news</td>\n",
       "      <td>RT:   very interesting!</td>\n",
       "    </tr>\n",
       "    <tr>\n",
       "      <th>2</th>\n",
       "      <td>tweet with just text</td>\n",
       "      <td>False</td>\n",
       "      <td>0</td>\n",
       "      <td>NaN</td>\n",
       "      <td>tweet with just text</td>\n",
       "    </tr>\n",
       "    <tr>\n",
       "      <th>3</th>\n",
       "      <td>http://example.com/pandas #breaking #mustread</td>\n",
       "      <td>True</td>\n",
       "      <td>0</td>\n",
       "      <td>http://example.com/pandas</td>\n",
       "      <td></td>\n",
       "    </tr>\n",
       "    <tr>\n",
       "      <th>4</th>\n",
       "      <td>@me and @myself #selfietime</td>\n",
       "      <td>True</td>\n",
       "      <td>2</td>\n",
       "      <td>NaN</td>\n",
       "      <td>and</td>\n",
       "    </tr>\n",
       "  </tbody>\n",
       "</table>\n",
       "</div>"
      ],
      "text/plain": [
       "                                                 text  has_tag  n_at  \\\n",
       "id                                                                     \n",
       "1   RT: @john_doe https://example.com/news very in...    False     1   \n",
       "2                                tweet with just text    False     0   \n",
       "3      http://example.com/pandas #breaking #mustread      True     0   \n",
       "4                         @me and @myself #selfietime     True     2   \n",
       "\n",
       "                          url                   plain2  \n",
       "id                                                      \n",
       "1    https://example.com/news  RT:   very interesting!  \n",
       "2                         NaN     tweet with just text  \n",
       "3   http://example.com/pandas                           \n",
       "4                         NaN                    and    "
      ]
     },
     "execution_count": 6,
     "metadata": {},
     "output_type": "execute_result"
    }
   ],
   "source": [
    "import pandas as pd\n",
    "tweets = pd.read_csv(\"http://cssbook.net/d/example_tweets.csv\", index_col=\"id\")\n",
    "# identify tweets with hashtags\n",
    "tweets['has_tag'] = tweets.text.str.contains(r\"#\\w+\")\n",
    "# How many at-mentions are there?\n",
    "tweets['n_at'] = tweets.text.str.count(r\"(^|\\s)@\\w+\")\n",
    "# Extract first url\n",
    "tweets['url'] = tweets.text.str.extract(r\"(https?://\\S+)\")\n",
    "# Extract only plain text\n",
    "tweets['plain2'] = (tweets.text.str.replace(r\"(^|\\s)(@|#|https?://)\\S+\", \" \")\n",
    "                    .replace(r\"\\W+\", \" \"))\n",
    "\n",
    "tweets"
   ]
  },
  {
   "cell_type": "code",
   "execution_count": 7,
   "metadata": {
    "tags": [
     "snippet:split"
    ]
   },
   "outputs": [
    {
     "name": "stdout",
     "output_type": "stream",
     "text": [
      "Split text into items: ['apples', 'pears', 'oranges']\n",
      "apples & pears & oranges\n"
     ]
    }
   ],
   "source": [
    "text = \"apples, pears, oranges\"\n",
    "# Three ways to achieve the same thing:\n",
    "items = text.split(\", \")\n",
    "items = regex.split(r\"\\p{PUNCTUATION}\\s*\", text)\n",
    "items = regex.findall(r\"\\p{LETTER}+\", text)\n",
    "print(f\"Split text into items: {items}\")\n",
    "joined = \" & \".join(items)\n",
    "print(joined)\n"
   ]
  },
  {
   "cell_type": "code",
   "execution_count": 8,
   "metadata": {
    "scrolled": true,
    "tags": [
     "snippet:splitlong1",
     "output:table"
    ]
   },
   "outputs": [
    {
     "data": {
      "text/html": [
       "<div>\n",
       "<style scoped>\n",
       "    .dataframe tbody tr th:only-of-type {\n",
       "        vertical-align: middle;\n",
       "    }\n",
       "\n",
       "    .dataframe tbody tr th {\n",
       "        vertical-align: top;\n",
       "    }\n",
       "\n",
       "    .dataframe thead th {\n",
       "        text-align: right;\n",
       "    }\n",
       "</style>\n",
       "<table border=\"1\" class=\"dataframe\">\n",
       "  <thead>\n",
       "    <tr style=\"text-align: right;\">\n",
       "      <th></th>\n",
       "      <th>0</th>\n",
       "      <th>text</th>\n",
       "      <th>has_tag</th>\n",
       "      <th>n_at</th>\n",
       "      <th>url</th>\n",
       "      <th>plain2</th>\n",
       "    </tr>\n",
       "    <tr>\n",
       "      <th>id</th>\n",
       "      <th></th>\n",
       "      <th></th>\n",
       "      <th></th>\n",
       "      <th></th>\n",
       "      <th></th>\n",
       "      <th></th>\n",
       "    </tr>\n",
       "  </thead>\n",
       "  <tbody>\n",
       "    <tr>\n",
       "      <th>3</th>\n",
       "      <td>#breaking</td>\n",
       "      <td>http://example.com/pandas #breaking #mustread</td>\n",
       "      <td>True</td>\n",
       "      <td>0</td>\n",
       "      <td>http://example.com/pandas</td>\n",
       "      <td></td>\n",
       "    </tr>\n",
       "    <tr>\n",
       "      <th>3</th>\n",
       "      <td>#mustread</td>\n",
       "      <td>http://example.com/pandas #breaking #mustread</td>\n",
       "      <td>True</td>\n",
       "      <td>0</td>\n",
       "      <td>http://example.com/pandas</td>\n",
       "      <td></td>\n",
       "    </tr>\n",
       "    <tr>\n",
       "      <th>4</th>\n",
       "      <td>#selfietime</td>\n",
       "      <td>@me and @myself #selfietime</td>\n",
       "      <td>True</td>\n",
       "      <td>2</td>\n",
       "      <td>NaN</td>\n",
       "      <td>and</td>\n",
       "    </tr>\n",
       "  </tbody>\n",
       "</table>\n",
       "</div>"
      ],
      "text/plain": [
       "              0                                            text  has_tag  \\\n",
       "id                                                                         \n",
       "3     #breaking  http://example.com/pandas #breaking #mustread      True   \n",
       "3     #mustread  http://example.com/pandas #breaking #mustread      True   \n",
       "4   #selfietime                     @me and @myself #selfietime     True   \n",
       "\n",
       "    n_at                        url   plain2  \n",
       "id                                            \n",
       "3      0  http://example.com/pandas           \n",
       "3      0  http://example.com/pandas           \n",
       "4      2                        NaN    and    "
      ]
     },
     "execution_count": 8,
     "metadata": {},
     "output_type": "execute_result"
    }
   ],
   "source": [
    "tags = tweets.text.str.extractall(\"(#\\\\w+)\")\n",
    "tags.merge(tweets, left_on=\"id\", right_on=\"id\")"
   ]
  },
  {
   "cell_type": "code",
   "execution_count": 9,
   "metadata": {
    "tags": [
     "snippet:splitlong2"
    ]
   },
   "outputs": [],
   "source": [
    "words = tweets.text.str.split(\"\\\\W+\")\n",
    "words_long = words.explode()"
   ]
  },
  {
   "cell_type": "code",
   "execution_count": 10,
   "metadata": {
    "tags": [
     "snippet:splitlong3"
    ]
   },
   "outputs": [
    {
     "data": {
      "text/plain": [
       "id\n",
       "1    RT_john_doe_https_example_com_news_very_intere...\n",
       "2                                 tweet_with_just_text\n",
       "3           http_example_com_pandas_breaking_mustread_\n",
       "4                            _me_and_myself_selfietime\n",
       "Name: text, dtype: object"
      ]
     },
     "execution_count": 10,
     "metadata": {},
     "output_type": "execute_result"
    }
   ],
   "source": [
    "words_long.groupby('id').agg(\"_\".join)"
   ]
  }
 ],
 "metadata": {
  "celltoolbar": "Tags",
  "kernelspec": {
   "display_name": "Python 3",
   "language": "python",
   "name": "python3"
  },
  "language_info": {
   "codemirror_mode": {
    "name": "ipython",
    "version": 3
   },
   "file_extension": ".py",
   "mimetype": "text/x-python",
   "name": "python",
   "nbconvert_exporter": "python",
   "pygments_lexer": "ipython3",
   "version": "3.8.5"
  }
 },
 "nbformat": 4,
 "nbformat_minor": 2
}
