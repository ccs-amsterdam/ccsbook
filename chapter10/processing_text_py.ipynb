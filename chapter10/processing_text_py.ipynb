{
 "cells": [
  {
   "cell_type": "markdown",
   "metadata": {},
   "source": [
    "# Chapter 10. Proccesing text\n",
    "## Notebook for Python"
   ]
  },
  {
   "cell_type": "markdown",
   "metadata": {},
   "source": [
    "### 10.1 Reading and cleaning text"
   ]
  },
  {
   "cell_type": "code",
   "execution_count": 23,
   "metadata": {
    "tags": [
     "snippet:clean"
    ]
   },
   "outputs": [
    {
     "name": "stdout",
     "output_type": "stream",
     "text": [
      "<p><b>Communication</b> (from Latin <i>communicare</i>, meaning \"to share\")\n",
      "communication from latin communicare meaning to share\n"
     ]
    }
   ],
   "source": [
    "import string\n",
    "\n",
    "my_wiki_text = \"<p><b>Communication</b> (from Latin <i>communicare</i>, meaning \\\"to share\\\")\"\n",
    "print(my_wiki_text)\n",
    "my_wiki_text = my_wiki_text.replace('<p>',' ').replace('<b>',' ').replace('</b>',' ').replace('<i>',' ').replace('</i>',' ') #remove HTML tags\n",
    "my_wiki_text = \"\".join([l for l in my_wiki_text if l not in string.punctuation]) #Remove punctuation\n",
    "my_wiki_text = my_wiki_text.lower()  #Convert to lower case\n",
    "my_wiki_text = \" \".join(my_wiki_text.split()) #Remove double spaces \n",
    "print(my_wiki_text)"
   ]
  },
  {
   "cell_type": "code",
   "execution_count": null,
   "metadata": {},
   "outputs": [],
   "source": [
    "Regular expression:  #remove HTML tags"
   ]
  }
 ],
 "metadata": {
  "celltoolbar": "Tags",
  "kernelspec": {
   "display_name": "Python 3",
   "language": "python",
   "name": "python3"
  },
  "language_info": {
   "codemirror_mode": {
    "name": "ipython",
    "version": 3
   },
   "file_extension": ".py",
   "mimetype": "text/x-python",
   "name": "python",
   "nbconvert_exporter": "python",
   "pygments_lexer": "ipython3",
   "version": "3.7.4"
  }
 },
 "nbformat": 4,
 "nbformat_minor": 2
}
