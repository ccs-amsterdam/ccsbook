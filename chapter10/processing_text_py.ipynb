{
 "cells": [
  {
   "cell_type": "markdown",
   "metadata": {},
   "source": [
    "# Chapter 10. Proccesing text\n",
    "## Notebook for Python"
   ]
  },
  {
   "cell_type": "markdown",
   "metadata": {},
   "source": [
    "### 10.1 Reading and cleaning text"
   ]
  },
  {
   "cell_type": "code",
   "execution_count": 16,
   "metadata": {
    "tags": [
     "snippet:clean"
    ]
   },
   "outputs": [
    {
     "name": "stdout",
     "output_type": "stream",
     "text": [
      "<p><b>Communication</b> (from Latin <i>communicare</i>, meaning to share)\n",
      "communication from latin communicare meaning to share\n"
     ]
    }
   ],
   "source": [
    "import string\n",
    "\n",
    "my_wiki_text = \"<p><b>Communication</b> (from Latin <i>communicare</i>, meaning to share)\"\n",
    "print(my_wiki_text)\n",
    "my_wiki_text_2 = my_wiki_text.replace('<p>',' ').replace('<b>',' ').replace('</b>',' ').replace('<i>',' ').replace('</i>',' ') #remove HTML tags\n",
    "my_wiki_text_2 = \"\".join([l for l in my_wiki_text_2 if l not in string.punctuation]) #Remove punctuation\n",
    "my_wiki_text_2 = my_wiki_text_2.lower()  #Convert to lower case\n",
    "my_wiki_text_2 = \" \".join(my_wiki_text_2.split()) #Remove double spaces \n",
    "print(my_wiki_text_2)"
   ]
  },
  {
   "cell_type": "code",
   "execution_count": 17,
   "metadata": {
    "tags": [
     "snippet:cleanextra"
    ]
   },
   "outputs": [
    {
     "data": {
      "text/plain": [
       "'Communication (from Latin communicare, meaning to share)'"
      ]
     },
     "execution_count": 17,
     "metadata": {},
     "output_type": "execute_result"
    }
   ],
   "source": [
    "from bs4 import BeautifulSoup \n",
    "my_wiki_text_3 = BeautifulSoup(my_wiki_text, 'html.parser')\n",
    "my_wiki_text_3.get_text()"
   ]
  },
  {
   "cell_type": "code",
   "execution_count": 18,
   "metadata": {
    "tags": [
     "snippet:regex"
    ]
   },
   "outputs": [
    {
     "name": "stdout",
     "output_type": "stream",
     "text": [
      "Communication (from Latin communicare, meaning to share)\n"
     ]
    }
   ],
   "source": [
    "import re\n",
    "my_wiki_text_4 = re.sub('<.*?>', \"\", my_wiki_text)\n",
    "print(my_wiki_text_4)"
   ]
  },
  {
   "cell_type": "code",
   "execution_count": 19,
   "metadata": {
    "tags": [
     "snippet:regex2"
    ]
   },
   "outputs": [
    {
     "name": "stdout",
     "output_type": "stream",
     "text": [
      "<@born_in_america: My second favorite color is green, I must acknowlege my friends for that!>, <@born_in_britain: My second favourite colour is red, I must aknowledge my friends for that!>\n",
      "<@born_in_america: My second favorite color is green, I must acknowledge my friends for that!>, <@born_in_britain: My second favorite color is red, I must acknowledge my friends for that!>\n"
     ]
    }
   ],
   "source": [
    "tweets = \"<@born_in_america: My second favorite color is green, I must acknowlege my friends for that!>, <@born_in_britain: My second favourite colour is red, I must aknowledge my friends for that!>\"\n",
    "print(tweets)\n",
    "tweets_unified = re.sub(\"acknowlege|aknowledge\" , \"acknowledge\", tweets)\n",
    "tweets_unified = re.sub(\"col.+?r\", \"color\", tweets_unified)\n",
    "tweets_unified = re.sub(\"fav.+?rite\" , \"favorite\", tweets_unified)\n",
    "print(tweets_unified)"
   ]
  },
  {
   "cell_type": "code",
   "execution_count": 20,
   "metadata": {
    "tags": [
     "snippet:regex3"
    ]
   },
   "outputs": [
    {
     "name": "stdout",
     "output_type": "stream",
     "text": [
      "['@born_in_america', '@born_in_britain']\n"
     ]
    }
   ],
   "source": [
    "users = re.compile(r'\\B@[\\w_]+').findall(tweets)\n",
    "print(users)"
   ]
  },
  {
   "cell_type": "code",
   "execution_count": 21,
   "metadata": {
    "tags": [
     "snippet:tokens"
    ]
   },
   "outputs": [
    {
     "name": "stdout",
     "output_type": "stream",
     "text": [
      "['<', '@', 'born_in_america', ':', 'My', 'second', 'favorite', 'color', 'is', 'green', ',', 'I', 'must', 'acknowlege', 'my', 'friends', 'for', 'that', '!', '>', ',', '<', '@', 'born_in_britain', ':', 'My', 'second', 'favourite', 'colour', 'is', 'red', ',', 'I', 'must', 'aknowledge', 'my', 'friends', 'for', 'that', '!', '>']\n",
      "41\n",
      "['<', '@', 'born_in_america', ':', 'My', 'second', 'favorite', 'color', 'green', ',', 'I', 'must', 'acknowlege', 'friends', '!', '>', ',', '<', '@', 'born_in_britain', ':', 'My', 'second', 'favourite', 'colour', 'red', ',', 'I', 'must', 'aknowledge', 'friends', '!', '>']\n"
     ]
    },
    {
     "data": {
      "text/plain": [
       "33"
      ]
     },
     "execution_count": 21,
     "metadata": {},
     "output_type": "execute_result"
    }
   ],
   "source": [
    "import nltk \n",
    "from nltk.tokenize import sent_tokenize, word_tokenize\n",
    "from nltk.corpus import stopwords\n",
    "#tweets = \"\".join([l for l in tweets if l not in string.punctuation])\n",
    "tokens = word_tokenize(tweets, language='english')\n",
    "print(tokens)\n",
    "#print(type(word_list_en))\n",
    "print(len(tokens))\n",
    "\n",
    "stop_words_en = set(stopwords.words(\"english\"))\n",
    "filtered_tokens = [w for w in tokens if not w in stop_words_en]\n",
    "print(filtered_tokens)\n",
    "len(filtered_tokens)"
   ]
  },
  {
   "cell_type": "code",
   "execution_count": 94,
   "metadata": {
    "tags": [
     "snippet:stem"
    ]
   },
   "outputs": [
    {
     "name": "stdout",
     "output_type": "stream",
     "text": [
      "build\n",
      "build\n",
      "awesom\n"
     ]
    }
   ],
   "source": [
    "from nltk.stem import SnowballStemmer\n",
    "ss_en = SnowballStemmer('english')\n",
    "print(ss_en.stem('buildings'))\n",
    "print(ss_en.stem('builds'))\n",
    "print(ss_en.stem('awesome'))"
   ]
  },
  {
   "cell_type": "code",
   "execution_count": 139,
   "metadata": {
    "tags": [
     "snippet:nlp"
    ]
   },
   "outputs": [
    {
     "name": "stdout",
     "output_type": "stream",
     "text": [
      "Number of tokens:  39\n"
     ]
    }
   ],
   "source": [
    "import spacy\n",
    "#!python -m spacy download en_core_web_sm\n",
    "import en_core_web_sm\n",
    "nlp = en_core_web_sm.load()\n",
    "doc = nlp(tweets)\n",
    "print(\"Number of tokens: \", len(doc))"
   ]
  },
  {
   "cell_type": "code",
   "execution_count": 143,
   "metadata": {
    "tags": [
     "snippet:poslemma"
    ]
   },
   "outputs": [
    {
     "name": "stdout",
     "output_type": "stream",
     "text": [
      "is AUX VBZ be\n",
      "friends NOUN NNS friend\n"
     ]
    }
   ],
   "source": [
    "print(doc[7].text, doc[7].pos_, doc[7].tag_, doc[7].lemma_)\n",
    "print(doc[14].text, doc[14].pos_, doc[14].tag_, doc[14].lemma_)\n",
    "\n",
    "#For the whole text:\n",
    "#for token in doc:\n",
    "    #print(token.text, token.lemma_, token.pos_, token.tag_)'''"
   ]
  },
  {
   "cell_type": "code",
   "execution_count": 149,
   "metadata": {
    "tags": [
     "snippet:nounchunks"
    ]
   },
   "outputs": [
    {
     "name": "stdout",
     "output_type": "stream",
     "text": [
      "Number of noun chunks:  7\n",
      "Nuoun chunk 4:  my friends\n"
     ]
    }
   ],
   "source": [
    "noun_chunks = list(doc.noun_chunks)\n",
    "print(\"Number of noun chunks: \", len(noun_chunks))\n",
    "print(\"Noun chunk 4: \", noun_chunks[3].text) \n",
    "\n",
    "#For the whole text:\n",
    "#for chunk in doc.noun_chunks:\n",
    "    #print(chunk.text, chunk.root.dep_)"
   ]
  },
  {
   "cell_type": "code",
   "execution_count": 191,
   "metadata": {
    "tags": [
     "snippet:tree"
    ]
   },
   "outputs": [
    {
     "name": "stdout",
     "output_type": "stream",
     "text": [
      "              ROOT                      \n",
      "               |                         \n",
      "               S                        \n",
      "        _______|________________         \n",
      "       |                        VP      \n",
      "       |                     ___|____    \n",
      "       NP                   |       ADJP\n",
      "  _____|_______________     |        |   \n",
      "PRP$   JJ      JJ      NN  VBZ       JJ \n",
      " |     |       |       |    |        |   \n",
      " My  second favorite color  is     green\n",
      "\n"
     ]
    }
   ],
   "source": [
    "import nltk\n",
    "from nltk.parse.corenlp import CoreNLPParser\n",
    "parser = CoreNLPParser(url='http://localhost:9000')\n",
    "parse , = parser.raw_parse('My second favorite color is green') \n",
    "parse.pretty_print()            "
   ]
  },
  {
   "cell_type": "code",
   "execution_count": 202,
   "metadata": {
    "tags": [
     "snippet:dependency"
    ]
   },
   "outputs": [
    {
     "name": "stdout",
     "output_type": "stream",
     "text": [
      "My poss\n",
      "second amod\n",
      "favorite amod\n",
      "color nsubj\n",
      "is ROOT\n",
      "green acomp\n"
     ]
    }
   ],
   "source": [
    "docp = nlp (\"My second favorite color is green\")\n",
    "for token in docp:\n",
    "    print(token.text, token.dep_)"
   ]
  },
  {
   "cell_type": "code",
   "execution_count": 198,
   "metadata": {
    "tags": [
     "snippet:visdependency",
     "output:html"
    ]
   },
   "outputs": [
    {
     "data": {
      "text/html": [
       "<svg xmlns=\"http://www.w3.org/2000/svg\" xmlns:xlink=\"http://www.w3.org/1999/xlink\" xml:lang=\"en\" id=\"18098d4c9770495ba5e06e140c7af2e5-0\" class=\"displacy\" width=\"590\" height=\"272.0\" direction=\"ltr\" style=\"max-width: none; height: 272.0px; color: #000000; background: #ffffff; font-family: Arial; direction: ltr\">\n",
       "<text class=\"displacy-token\" fill=\"currentColor\" text-anchor=\"middle\" y=\"182.0\">\n",
       "    <tspan class=\"displacy-word\" fill=\"currentColor\" x=\"50\">My</tspan>\n",
       "    <tspan class=\"displacy-tag\" dy=\"2em\" fill=\"currentColor\" x=\"50\">DET</tspan>\n",
       "</text>\n",
       "\n",
       "<text class=\"displacy-token\" fill=\"currentColor\" text-anchor=\"middle\" y=\"182.0\">\n",
       "    <tspan class=\"displacy-word\" fill=\"currentColor\" x=\"140\">second</tspan>\n",
       "    <tspan class=\"displacy-tag\" dy=\"2em\" fill=\"currentColor\" x=\"140\">ADJ</tspan>\n",
       "</text>\n",
       "\n",
       "<text class=\"displacy-token\" fill=\"currentColor\" text-anchor=\"middle\" y=\"182.0\">\n",
       "    <tspan class=\"displacy-word\" fill=\"currentColor\" x=\"230\">favorite</tspan>\n",
       "    <tspan class=\"displacy-tag\" dy=\"2em\" fill=\"currentColor\" x=\"230\">ADJ</tspan>\n",
       "</text>\n",
       "\n",
       "<text class=\"displacy-token\" fill=\"currentColor\" text-anchor=\"middle\" y=\"182.0\">\n",
       "    <tspan class=\"displacy-word\" fill=\"currentColor\" x=\"320\">color</tspan>\n",
       "    <tspan class=\"displacy-tag\" dy=\"2em\" fill=\"currentColor\" x=\"320\">NOUN</tspan>\n",
       "</text>\n",
       "\n",
       "<text class=\"displacy-token\" fill=\"currentColor\" text-anchor=\"middle\" y=\"182.0\">\n",
       "    <tspan class=\"displacy-word\" fill=\"currentColor\" x=\"410\">is</tspan>\n",
       "    <tspan class=\"displacy-tag\" dy=\"2em\" fill=\"currentColor\" x=\"410\">AUX</tspan>\n",
       "</text>\n",
       "\n",
       "<text class=\"displacy-token\" fill=\"currentColor\" text-anchor=\"middle\" y=\"182.0\">\n",
       "    <tspan class=\"displacy-word\" fill=\"currentColor\" x=\"500\">green</tspan>\n",
       "    <tspan class=\"displacy-tag\" dy=\"2em\" fill=\"currentColor\" x=\"500\">ADJ</tspan>\n",
       "</text>\n",
       "\n",
       "<g class=\"displacy-arrow\">\n",
       "    <path class=\"displacy-arc\" id=\"arrow-18098d4c9770495ba5e06e140c7af2e5-0-0\" stroke-width=\"2px\" d=\"M70,137.0 C70,2.0 320.0,2.0 320.0,137.0\" fill=\"none\" stroke=\"currentColor\"/>\n",
       "    <text dy=\"1.25em\" style=\"font-size: 0.8em; letter-spacing: 1px\">\n",
       "        <textPath xlink:href=\"#arrow-18098d4c9770495ba5e06e140c7af2e5-0-0\" class=\"displacy-label\" startOffset=\"50%\" side=\"left\" fill=\"currentColor\" text-anchor=\"middle\">poss</textPath>\n",
       "    </text>\n",
       "    <path class=\"displacy-arrowhead\" d=\"M70,139.0 L62,127.0 78,127.0\" fill=\"currentColor\"/>\n",
       "</g>\n",
       "\n",
       "<g class=\"displacy-arrow\">\n",
       "    <path class=\"displacy-arc\" id=\"arrow-18098d4c9770495ba5e06e140c7af2e5-0-1\" stroke-width=\"2px\" d=\"M160,137.0 C160,47.0 315.0,47.0 315.0,137.0\" fill=\"none\" stroke=\"currentColor\"/>\n",
       "    <text dy=\"1.25em\" style=\"font-size: 0.8em; letter-spacing: 1px\">\n",
       "        <textPath xlink:href=\"#arrow-18098d4c9770495ba5e06e140c7af2e5-0-1\" class=\"displacy-label\" startOffset=\"50%\" side=\"left\" fill=\"currentColor\" text-anchor=\"middle\">amod</textPath>\n",
       "    </text>\n",
       "    <path class=\"displacy-arrowhead\" d=\"M160,139.0 L152,127.0 168,127.0\" fill=\"currentColor\"/>\n",
       "</g>\n",
       "\n",
       "<g class=\"displacy-arrow\">\n",
       "    <path class=\"displacy-arc\" id=\"arrow-18098d4c9770495ba5e06e140c7af2e5-0-2\" stroke-width=\"2px\" d=\"M250,137.0 C250,92.0 310.0,92.0 310.0,137.0\" fill=\"none\" stroke=\"currentColor\"/>\n",
       "    <text dy=\"1.25em\" style=\"font-size: 0.8em; letter-spacing: 1px\">\n",
       "        <textPath xlink:href=\"#arrow-18098d4c9770495ba5e06e140c7af2e5-0-2\" class=\"displacy-label\" startOffset=\"50%\" side=\"left\" fill=\"currentColor\" text-anchor=\"middle\">amod</textPath>\n",
       "    </text>\n",
       "    <path class=\"displacy-arrowhead\" d=\"M250,139.0 L242,127.0 258,127.0\" fill=\"currentColor\"/>\n",
       "</g>\n",
       "\n",
       "<g class=\"displacy-arrow\">\n",
       "    <path class=\"displacy-arc\" id=\"arrow-18098d4c9770495ba5e06e140c7af2e5-0-3\" stroke-width=\"2px\" d=\"M340,137.0 C340,92.0 400.0,92.0 400.0,137.0\" fill=\"none\" stroke=\"currentColor\"/>\n",
       "    <text dy=\"1.25em\" style=\"font-size: 0.8em; letter-spacing: 1px\">\n",
       "        <textPath xlink:href=\"#arrow-18098d4c9770495ba5e06e140c7af2e5-0-3\" class=\"displacy-label\" startOffset=\"50%\" side=\"left\" fill=\"currentColor\" text-anchor=\"middle\">nsubj</textPath>\n",
       "    </text>\n",
       "    <path class=\"displacy-arrowhead\" d=\"M340,139.0 L332,127.0 348,127.0\" fill=\"currentColor\"/>\n",
       "</g>\n",
       "\n",
       "<g class=\"displacy-arrow\">\n",
       "    <path class=\"displacy-arc\" id=\"arrow-18098d4c9770495ba5e06e140c7af2e5-0-4\" stroke-width=\"2px\" d=\"M430,137.0 C430,92.0 490.0,92.0 490.0,137.0\" fill=\"none\" stroke=\"currentColor\"/>\n",
       "    <text dy=\"1.25em\" style=\"font-size: 0.8em; letter-spacing: 1px\">\n",
       "        <textPath xlink:href=\"#arrow-18098d4c9770495ba5e06e140c7af2e5-0-4\" class=\"displacy-label\" startOffset=\"50%\" side=\"left\" fill=\"currentColor\" text-anchor=\"middle\">acomp</textPath>\n",
       "    </text>\n",
       "    <path class=\"displacy-arrowhead\" d=\"M490.0,139.0 L498.0,127.0 482.0,127.0\" fill=\"currentColor\"/>\n",
       "</g>\n",
       "</svg>"
      ],
      "text/plain": [
       "<IPython.core.display.HTML object>"
      ]
     },
     "metadata": {},
     "output_type": "display_data"
    }
   ],
   "source": [
    "displacy.render(docp, style='dep', jupyter=True, options={'distance': 90})"
   ]
  },
  {
   "cell_type": "code",
   "execution_count": 214,
   "metadata": {
    "tags": [
     "snippet:ner"
    ]
   },
   "outputs": [
    {
     "data": {
      "text/plain": [
       "[(Madrid, 'GPE', 384),\n",
       " (Olympic Games, 'ORG', 383),\n",
       " (2032, 'DATE', 391),\n",
       " (Pedro Sanchez, 'PERSON', 380)]"
      ]
     },
     "execution_count": 214,
     "metadata": {},
     "output_type": "execute_result"
    }
   ],
   "source": [
    "headline= nlp(\"Madrid will host Olympic Games in 2032, Pedro Sanchez announced\")\n",
    "entities=[(i, i.label_, i.label) for i in headline.ents]\n",
    "entities"
   ]
  },
  {
   "cell_type": "code",
   "execution_count": 215,
   "metadata": {
    "tags": [
     "snippet:visner",
     "output:html"
    ]
   },
   "outputs": [
    {
     "data": {
      "text/html": [
       "<div class=\"entities\" style=\"line-height: 2.5; direction: ltr\">\n",
       "<mark class=\"entity\" style=\"background: #feca74; padding: 0.45em 0.6em; margin: 0 0.25em; line-height: 1; border-radius: 0.35em;\">\n",
       "    Madrid\n",
       "    <span style=\"font-size: 0.8em; font-weight: bold; line-height: 1; border-radius: 0.35em; text-transform: uppercase; vertical-align: middle; margin-left: 0.5rem\">GPE</span>\n",
       "</mark>\n",
       " will host \n",
       "<mark class=\"entity\" style=\"background: #7aecec; padding: 0.45em 0.6em; margin: 0 0.25em; line-height: 1; border-radius: 0.35em;\">\n",
       "    Olympic Games\n",
       "    <span style=\"font-size: 0.8em; font-weight: bold; line-height: 1; border-radius: 0.35em; text-transform: uppercase; vertical-align: middle; margin-left: 0.5rem\">ORG</span>\n",
       "</mark>\n",
       " in \n",
       "<mark class=\"entity\" style=\"background: #bfe1d9; padding: 0.45em 0.6em; margin: 0 0.25em; line-height: 1; border-radius: 0.35em;\">\n",
       "    2032\n",
       "    <span style=\"font-size: 0.8em; font-weight: bold; line-height: 1; border-radius: 0.35em; text-transform: uppercase; vertical-align: middle; margin-left: 0.5rem\">DATE</span>\n",
       "</mark>\n",
       ", \n",
       "<mark class=\"entity\" style=\"background: #aa9cfc; padding: 0.45em 0.6em; margin: 0 0.25em; line-height: 1; border-radius: 0.35em;\">\n",
       "    Pedro Sanchez\n",
       "    <span style=\"font-size: 0.8em; font-weight: bold; line-height: 1; border-radius: 0.35em; text-transform: uppercase; vertical-align: middle; margin-left: 0.5rem\">PERSON</span>\n",
       "</mark>\n",
       " announced</div>"
      ],
      "text/plain": [
       "<IPython.core.display.HTML object>"
      ]
     },
     "metadata": {},
     "output_type": "display_data"
    }
   ],
   "source": [
    "displacy.render(headline, style = \"ent\",jupyter = True)"
   ]
  }
 ],
 "metadata": {
  "celltoolbar": "Tags",
  "kernelspec": {
   "display_name": "Python 3",
   "language": "python",
   "name": "python3"
  },
  "language_info": {
   "codemirror_mode": {
    "name": "ipython",
    "version": 3
   },
   "file_extension": ".py",
   "mimetype": "text/x-python",
   "name": "python",
   "nbconvert_exporter": "python",
   "pygments_lexer": "ipython3",
   "version": "3.7.4"
  }
 },
 "nbformat": 4,
 "nbformat_minor": 2
}
