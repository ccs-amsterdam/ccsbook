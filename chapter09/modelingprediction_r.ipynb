{
 "cells": [
  {
   "cell_type": "code",
   "execution_count": 1,
   "metadata": {
    "tags": [
     "snippet:ols"
    ]
   },
   "outputs": [
    {
     "data": {
      "text/plain": [
       "\n",
       "Call:\n",
       "lm(formula = \"newspaper ~ age + gender\", data = df)\n",
       "\n",
       "Coefficients:\n",
       "(Intercept)          age       gender  \n",
       "   -0.08956      0.06762      0.17666  \n"
      ]
     },
     "metadata": {},
     "output_type": "display_data"
    }
   ],
   "source": [
    "df = read.csv('http://cssbook.net/d/mediause.csv')\n",
    "model = lm(formula = 'newspaper ~ age + gender', data = df)\n",
    "# summary(model) would give a lot more info, but we only care about the coefficients:\n",
    "model"
   ]
  },
  {
   "cell_type": "code",
   "execution_count": 2,
   "metadata": {
    "tags": [
     "snippet:olspredict"
    ]
   },
   "outputs": [
    {
     "data": {
      "text/html": [
       "<dl class=dl-horizontal>\n",
       "\t<dt>1</dt>\n",
       "\t\t<dd>1.43950835860337</dd>\n",
       "\t<dt>2</dt>\n",
       "\t\t<dd>2.61524764821034</dd>\n",
       "</dl>\n"
      ],
      "text/latex": [
       "\\begin{description*}\n",
       "\\item[1] 1.43950835860337\n",
       "\\item[2] 2.61524764821034\n",
       "\\end{description*}\n"
      ],
      "text/markdown": [
       "1\n",
       ":   1.439508358603372\n",
       ":   2.61524764821034\n",
       "\n"
      ],
      "text/plain": [
       "       1        2 \n",
       "1.439508 2.615248 "
      ]
     },
     "metadata": {},
     "output_type": "display_data"
    }
   ],
   "source": [
    "gender = c(1,0)\n",
    "age = c(20,40)\n",
    "newdata = data.frame(age, gender)\n",
    "predict(model, newdata)"
   ]
  },
  {
   "cell_type": "code",
   "execution_count": 3,
   "metadata": {
    "tags": [
     "snippet:preparedata"
    ]
   },
   "outputs": [
    {
     "name": "stderr",
     "output_type": "stream",
     "text": [
      "── \u001b[1mAttaching packages\u001b[22m ─────────────────────────────────────── tidyverse 1.3.0 ──\n",
      "\n",
      "\u001b[32m✔\u001b[39m \u001b[34mggplot2\u001b[39m 3.2.1     \u001b[32m✔\u001b[39m \u001b[34mpurrr  \u001b[39m 0.3.3\n",
      "\u001b[32m✔\u001b[39m \u001b[34mtibble \u001b[39m 2.1.3     \u001b[32m✔\u001b[39m \u001b[34mdplyr  \u001b[39m 0.8.4\n",
      "\u001b[32m✔\u001b[39m \u001b[34mtidyr  \u001b[39m 1.0.2     \u001b[32m✔\u001b[39m \u001b[34mstringr\u001b[39m 1.4.0\n",
      "\u001b[32m✔\u001b[39m \u001b[34mreadr  \u001b[39m 1.3.1     \u001b[32m✔\u001b[39m \u001b[34mforcats\u001b[39m 0.4.0\n",
      "\n",
      "── \u001b[1mConflicts\u001b[22m ────────────────────────────────────────── tidyverse_conflicts() ──\n",
      "\u001b[31m✖\u001b[39m \u001b[34mdplyr\u001b[39m::\u001b[32mfilter()\u001b[39m masks \u001b[34mstats\u001b[39m::filter()\n",
      "\u001b[31m✖\u001b[39m \u001b[34mdplyr\u001b[39m::\u001b[32mlag()\u001b[39m    masks \u001b[34mstats\u001b[39m::lag()\n",
      "\n",
      "\n",
      "Attaching package: ‘glue’\n",
      "\n",
      "\n",
      "The following object is masked from ‘package:dplyr’:\n",
      "\n",
      "    collapse\n",
      "\n",
      "\n"
     ]
    },
    {
     "name": "stdout",
     "output_type": "stream",
     "text": [
      "[1] \"How many people used online news at all?\"\n",
      "\n",
      "non-user     user \n",
      "     803     1262 \n",
      "We have 1653 training and 412 test cases.\n"
     ]
    }
   ],
   "source": [
    "library(tidyverse)\n",
    "library(rsample)\n",
    "library(glue)\n",
    "\n",
    "df = read.csv('http://cssbook.net/d/mediause.csv')\n",
    "df = na.omit(df %>% mutate(usesinternet=recode(internet, .default='user', `0`='non-user')))\n",
    "\n",
    "set.seed(42)\n",
    "df$usesinternet = as.factor(df$usesinternet)\n",
    "print(\"How many people used online news at all?\")\n",
    "print(table(df$usesinternet))\n",
    "\n",
    "\n",
    "split = initial_split(df, prop = .8)\n",
    "traindata = training(split)\n",
    "testdata  = testing(split)\n",
    "\n",
    "X_train = select(traindata, c('age', 'gender', 'education'))\n",
    "y_train = traindata$usesinternet\n",
    "X_test = select(testdata, c('age', 'gender', 'education'))\n",
    "y_test = testdata$usesinternet\n",
    "\n",
    "print(glue(\"We have {nrow(X_train)} training and {nrow(X_test)} test cases.\"))"
   ]
  },
  {
   "cell_type": "code",
   "execution_count": 4,
   "metadata": {
    "tags": [
     "snippet:nb"
    ]
   },
   "outputs": [
    {
     "name": "stderr",
     "output_type": "stream",
     "text": [
      "Loading required package: lattice\n",
      "\n",
      "\n",
      "Attaching package: ‘caret’\n",
      "\n",
      "\n",
      "The following object is masked from ‘package:purrr’:\n",
      "\n",
      "    lift\n",
      "\n",
      "\n",
      "naivebayes 0.9.6 loaded\n",
      "\n"
     ]
    }
   ],
   "source": [
    "library(caret)\n",
    "library(naivebayes)\n",
    "\n",
    "myclassifier = train(x = X_train, y = y_train, method = \"naive_bayes\")\n",
    "y_pred = predict(myclassifier, newdata = X_test)"
   ]
  },
  {
   "cell_type": "code",
   "execution_count": 5,
   "metadata": {},
   "outputs": [
    {
     "name": "stderr",
     "output_type": "stream",
     "text": [
      "Installing package into ‘/home/damian/R/x86_64-pc-linux-gnu-library/3.6’\n",
      "(as ‘lib’ is unspecified)\n",
      "\n"
     ]
    }
   ],
   "source": [
    "install.packages('randomForest')"
   ]
  },
  {
   "cell_type": "code",
   "execution_count": 6,
   "metadata": {
    "tags": [
     "snippet:classificationreport"
    ]
   },
   "outputs": [
    {
     "name": "stdout",
     "output_type": "stream",
     "text": [
      "Confusion Matrix and Statistics\n",
      "\n",
      "          Reference\n",
      "Prediction non-user user\n",
      "  non-user       57   26\n",
      "  user          113  216\n",
      "                                          \n",
      "               Accuracy : 0.6626          \n",
      "                 95% CI : (0.6147, 0.7082)\n",
      "    No Information Rate : 0.5874          \n",
      "    P-Value [Acc > NIR] : 0.001026        \n",
      "                                          \n",
      "                  Kappa : 0.2466          \n",
      "                                          \n",
      " Mcnemar's Test P-Value : 2.999e-13       \n",
      "                                          \n",
      "            Sensitivity : 0.3353          \n",
      "            Specificity : 0.8926          \n",
      "         Pos Pred Value : 0.6867          \n",
      "         Neg Pred Value : 0.6565          \n",
      "             Prevalence : 0.4126          \n",
      "         Detection Rate : 0.1383          \n",
      "   Detection Prevalence : 0.2015          \n",
      "      Balanced Accuracy : 0.6139          \n",
      "                                          \n",
      "       'Positive' Class : non-user        \n",
      "                                          \n",
      "[1] \"Confusion matrix:\"\n",
      "          y_pred\n",
      "           non-user user\n",
      "  non-user       57  113\n",
      "  user           26  216\n",
      "[1] \"Precision for predicting True internet users and non-internet-users, respecitively:\"\n",
      " non-user      user \n",
      "0.3352941 0.8925620 \n",
      "[1] \"Recall for predicting True internet users and non-internet-users, respecitively:\"\n",
      "non-user     user \n",
      "0.686747 0.656535 \n"
     ]
    }
   ],
   "source": [
    "print(confusionMatrix(y_pred, y_test))\n",
    "\n",
    "print(\"Confusion matrix:\")\n",
    "confmat = table(testdata$usesinternet, y_pred)\n",
    "print(confmat)\n",
    "\n",
    "print('Precision for predicting True internet users and non-internet-users, respecitively:')\n",
    "precision = diag(confmat) / rowSums(confmat)\n",
    "print(precision)\n",
    "\n",
    "\n",
    "print('Recall for predicting True internet users and non-internet-users, respecitively:')\n",
    "recall = (diag(confmat) / colSums(confmat))\n",
    "print(recall)"
   ]
  },
  {
   "cell_type": "code",
   "execution_count": 7,
   "metadata": {
    "tags": [
     "snippet:logreg"
    ]
   },
   "outputs": [],
   "source": [
    "library(tidyverse)\n",
    "library(caret)\n",
    "\n",
    "myclassifier = train(x = X_train, y = y_train, method = 'glm',family = \"binomial\")\n",
    "y_pred = predict(myclassifier, newdata = X_test)\n"
   ]
  },
  {
   "cell_type": "code",
   "execution_count": 8,
   "metadata": {
    "tags": [
     "snippet:svm"
    ]
   },
   "outputs": [],
   "source": [
    "library(tidyverse)\n",
    "library(caret)\n",
    "library(LiblineaR)\n",
    "\n",
    "# !!! We normalize our features to have M = 0 and SD = 1, which we do with the preProcess argument\n",
    "# This is necessary as our features are not measured on the same scale, which SVM requires\n",
    "# It may also be OK to rescale to a range of [0:1] or [-1:1]\n",
    "\n",
    "myclassifier = train(x = X_train, y = y_train,  preProcess = c(\"center\", \"scale\"), method = \"svmLinear3\")\n",
    "y_pred = predict(myclassifier, newdata = X_test)"
   ]
  },
  {
   "cell_type": "code",
   "execution_count": 9,
   "metadata": {
    "tags": [
     "snippet:randomforest"
    ]
   },
   "outputs": [
    {
     "name": "stderr",
     "output_type": "stream",
     "text": [
      "randomForest 4.6-14\n",
      "\n",
      "Type rfNews() to see new features/changes/bug fixes.\n",
      "\n",
      "\n",
      "Attaching package: ‘randomForest’\n",
      "\n",
      "\n",
      "The following object is masked from ‘package:dplyr’:\n",
      "\n",
      "    combine\n",
      "\n",
      "\n",
      "The following object is masked from ‘package:ggplot2’:\n",
      "\n",
      "    margin\n",
      "\n",
      "\n"
     ]
    },
    {
     "name": "stdout",
     "output_type": "stream",
     "text": [
      "note: only 2 unique complexity parameters in default grid. Truncating the grid to 2 .\n",
      "\n"
     ]
    }
   ],
   "source": [
    "library(tidyverse)\n",
    "library(caret)\n",
    "library(randomForest)\n",
    "\n",
    "myclassifier = train(x = X_train, y = y_train, method = \"rf\")\n",
    "y_pred = predict(myclassifier, newdata = X_test)\n"
   ]
  },
  {
   "cell_type": "code",
   "execution_count": 10,
   "metadata": {
    "tags": [
     "snippet:crossval"
    ]
   },
   "outputs": [
    {
     "name": "stdout",
     "output_type": "stream",
     "text": [
      "   Accuracy     Kappa parameter Resample\n",
      "1 0.6646526 0.2376911      none    Fold1\n",
      "2 0.6042296 0.0767380      none    Fold2\n",
      "3 0.6283988 0.1552794      none    Fold3\n",
      "4 0.6636364 0.2225901      none    Fold4\n",
      "5 0.6484848 0.1889143      none    Fold5\n",
      "  parameter  Accuracy     Kappa AccuracySD    KappaSD\n",
      "1      none 0.6418804 0.1762426 0.02566539 0.06408044\n"
     ]
    }
   ],
   "source": [
    "library(tidyverse)\n",
    "library(caret)\n",
    "\n",
    "myclassifier = train(x = X_train, y = y_train, method = 'glm', family='binomial', metric='Accuracy',\n",
    "                     trControl = trainControl(method = \"cv\", number = 5, returnResamp ='all', savePredictions = TRUE),)\n",
    "print(myclassifier$resample)\n",
    "print(myclassifier$results)"
   ]
  },
  {
   "cell_type": "code",
   "execution_count": 13,
   "metadata": {
    "tags": [
     "snippet:gridsearch"
    ]
   },
   "outputs": [
    {
     "ename": "ERROR",
     "evalue": "Error: The tuning parameter grid should have columns mtry\n",
     "output_type": "error",
     "traceback": [
      "Error: The tuning parameter grid should have columns mtry\nTraceback:\n",
      "1. train(x = X_train, y = y_train, method = \"rf\", metric = \"Accuracy\", \n .     trControl = train_control, tuneGrid = tunegrid)",
      "2. train.default(x = X_train, y = y_train, method = \"rf\", metric = \"Accuracy\", \n .     trControl = train_control, tuneGrid = tunegrid)",
      "3. stop(paste(\"The tuning parameter grid should have columns\", paste(tuneNames, \n .     collapse = \", \", sep = \"\")), call. = FALSE)"
     ]
    }
   ],
   "source": [
    "#tunegrid <- expand.grid(.mtry=c(1,10), number = c(10,50,100)) \n",
    "\n",
    "#tunegrid <- expand.grid(.mtry = (1:15)) \n",
    "tunegrid <- expand.grid(.mtry=c(2), .number = c(10, 50, 100)) \n",
    "\n",
    "\n",
    "train_control = trainControl(method = \"cv\", number = 5)\n",
    "\n",
    "rf_gridsearch =   train(x = X_train, y = y_train, method = \"rf\",\n",
    "                       metric = 'Accuracy',  trControl = train_control, \n",
    "                       tuneGrid = tunegrid)\n",
    "print(rf_gridsearch)\n",
    "\n"
   ]
  },
  {
   "cell_type": "code",
   "execution_count": 14,
   "metadata": {},
   "outputs": [
    {
     "data": {
      "text/html": [
       "<table>\n",
       "<caption>A data.frame: 3 × 2</caption>\n",
       "<thead>\n",
       "\t<tr><th scope=col>.mtry</th><th scope=col>.number</th></tr>\n",
       "\t<tr><th scope=col>&lt;dbl&gt;</th><th scope=col>&lt;dbl&gt;</th></tr>\n",
       "</thead>\n",
       "<tbody>\n",
       "\t<tr><td>2</td><td> 10</td></tr>\n",
       "\t<tr><td>2</td><td> 50</td></tr>\n",
       "\t<tr><td>2</td><td>100</td></tr>\n",
       "</tbody>\n",
       "</table>\n"
      ],
      "text/latex": [
       "A data.frame: 3 × 2\n",
       "\\begin{tabular}{ll}\n",
       " .mtry & .number\\\\\n",
       " <dbl> & <dbl>\\\\\n",
       "\\hline\n",
       "\t 2 &  10\\\\\n",
       "\t 2 &  50\\\\\n",
       "\t 2 & 100\\\\\n",
       "\\end{tabular}\n"
      ],
      "text/markdown": [
       "\n",
       "A data.frame: 3 × 2\n",
       "\n",
       "| .mtry &lt;dbl&gt; | .number &lt;dbl&gt; |\n",
       "|---|---|\n",
       "| 2 |  10 |\n",
       "| 2 |  50 |\n",
       "| 2 | 100 |\n",
       "\n"
      ],
      "text/plain": [
       "  .mtry .number\n",
       "1 2      10    \n",
       "2 2      50    \n",
       "3 2     100    "
      ]
     },
     "metadata": {},
     "output_type": "display_data"
    }
   ],
   "source": [
    "tunegrid <- expand.grid(.mtry=c(2), .number = c(10, 50, 100)) \n",
    "tunegrid"
   ]
  },
  {
   "cell_type": "code",
   "execution_count": 15,
   "metadata": {
    "tags": [
     "snippet:gridsearch3"
    ]
   },
   "outputs": [
    {
     "data": {
      "text/plain": [
       "L2 Regularized Support Vector Machine (dual) with Linear Kernel \n",
       "\n",
       "1653 samples\n",
       "   3 predictor\n",
       "   2 classes: 'non-user', 'user' \n",
       "\n",
       "Pre-processing: centered (3), scaled (3) \n",
       "Resampling: Cross-Validated (5 fold) \n",
       "Summary of sample sizes: 1322, 1323, 1323, 1322, 1322 \n",
       "Resampling results across tuning parameters:\n",
       "\n",
       "  Loss  cost  Accuracy   Kappa     \n",
       "  L1     100  0.6249162  0.06702208\n",
       "  L1    1000  0.5952888  0.09515472\n",
       "  L2     100  0.6443028  0.18235676\n",
       "  L2    1000  0.6443028  0.18235676\n",
       "\n",
       "Accuracy was used to select the optimal model using the largest value.\n",
       "The final values used for the model were cost = 100 and Loss = L2."
      ]
     },
     "metadata": {},
     "output_type": "display_data"
    }
   ],
   "source": [
    "# Create the grid of parameters\n",
    "grid <- expand.grid(Loss=c('L1','L2'),\n",
    "                   cost=c(100,1000))\n",
    "\n",
    "# Train the model using our previously defined parameters\n",
    "gridsearch = train(x = X_train, y = y_train,  preProcess = c(\"center\", \"scale\"), \n",
    "                 method = \"svmLinear3\",\n",
    "                 trControl = trainControl(method = \"cv\", number = 5),\n",
    "                 tuneGrid = grid)\n",
    "gridsearch"
   ]
  },
  {
   "cell_type": "code",
   "execution_count": null,
   "metadata": {},
   "outputs": [],
   "source": []
  }
 ],
 "metadata": {
  "celltoolbar": "Tags",
  "kernelspec": {
   "display_name": "R",
   "language": "R",
   "name": "ir"
  },
  "language_info": {
   "codemirror_mode": "r",
   "file_extension": ".r",
   "mimetype": "text/x-r-source",
   "name": "R",
   "pygments_lexer": "r",
   "version": "3.6.3"
  }
 },
 "nbformat": 4,
 "nbformat_minor": 2
}
