{
 "cells": [
  {
   "cell_type": "code",
   "execution_count": 1,
   "metadata": {
    "tags": [
     "snippet:ols"
    ]
   },
   "outputs": [
    {
     "data": {
      "text/plain": [
       "\n",
       "Call:\n",
       "lm(formula = \"newspaper ~ age + gender\", data = df)\n",
       "\n",
       "Coefficients:\n",
       "(Intercept)          age       gender  \n",
       "   -0.08956      0.06762      0.17666  \n"
      ]
     },
     "metadata": {},
     "output_type": "display_data"
    }
   ],
   "source": [
    "df = read.csv('../datasets/mediause.csv')\n",
    "model = lm(formula = 'newspaper ~ age + gender', data = df)\n",
    "model"
   ]
  },
  {
   "cell_type": "code",
   "execution_count": 2,
   "metadata": {
    "tags": [
     "snippet:olspredict"
    ]
   },
   "outputs": [
    {
     "data": {
      "text/html": [
       "<dl class=dl-horizontal>\n",
       "\t<dt>1</dt>\n",
       "\t\t<dd>1.43950835860337</dd>\n",
       "\t<dt>2</dt>\n",
       "\t\t<dd>2.61524764821034</dd>\n",
       "</dl>\n"
      ],
      "text/latex": [
       "\\begin{description*}\n",
       "\\item[1] 1.43950835860337\n",
       "\\item[2] 2.61524764821034\n",
       "\\end{description*}\n"
      ],
      "text/markdown": [
       "1\n",
       ":   1.439508358603372\n",
       ":   2.61524764821034\n",
       "\n"
      ],
      "text/plain": [
       "       1        2 \n",
       "1.439508 2.615248 "
      ]
     },
     "metadata": {},
     "output_type": "display_data"
    }
   ],
   "source": [
    "gender = c(1,0)\n",
    "age = c(20,40)\n",
    "newdata = data.frame(age, gender)\n",
    "predict(model, newdata)"
   ]
  },
  {
   "cell_type": "code",
   "execution_count": 41,
   "metadata": {
    "tags": [
     "snippet:nb"
    ]
   },
   "outputs": [
    {
     "name": "stdout",
     "output_type": "stream",
     "text": [
      "[1] \"How many people used online news at all?\"\n",
      "\n",
      "FALSE  TRUE \n",
      "  803  1262 \n",
      "[1] \"Let's see how well we can predict this...\"\n",
      "Confusion Matrix and Statistics\n",
      "\n",
      "          Reference\n",
      "Prediction FALSE TRUE\n",
      "     FALSE    39   50\n",
      "     TRUE     98  225\n",
      "                                          \n",
      "               Accuracy : 0.6408          \n",
      "                 95% CI : (0.5924, 0.6872)\n",
      "    No Information Rate : 0.6675          \n",
      "    P-Value [Acc > NIR] : 0.8849694       \n",
      "                                          \n",
      "                  Kappa : 0.1128          \n",
      "                                          \n",
      " Mcnemar's Test P-Value : 0.0001118       \n",
      "                                          \n",
      "            Sensitivity : 0.28467         \n",
      "            Specificity : 0.81818         \n",
      "         Pos Pred Value : 0.43820         \n",
      "         Neg Pred Value : 0.69659         \n",
      "             Prevalence : 0.33252         \n",
      "         Detection Rate : 0.09466         \n",
      "   Detection Prevalence : 0.21602         \n",
      "      Balanced Accuracy : 0.55143         \n",
      "                                          \n",
      "       'Positive' Class : FALSE           \n",
      "                                          \n",
      "[1] \"Confusion matrix:\"\n",
      "       predictions\n",
      "        FALSE TRUE\n",
      "  FALSE    39   98\n",
      "  TRUE     50  225\n",
      "[1] \"Precision for predicting True internet users and non-internet-users, respecitively:\"\n",
      "    FALSE      TRUE \n",
      "0.2846715 0.8181818 \n",
      "[1] \"Recall for predicting True internet users and non-internet-users, respecitively:\"\n",
      "    FALSE      TRUE \n",
      "0.4382022 0.6965944 \n"
     ]
    }
   ],
   "source": [
    "library(tidyverse)\n",
    "library(caret)\n",
    "library(rsample)\n",
    "library(naivebayes)\n",
    "set.seed(42)\n",
    "df = na.omit(df %>% mutate(usesinternet=recode(internet, .default=TRUE, `0`=FALSE)))\n",
    "df$usesinternet = as.factor(df$usesinternet)\n",
    "print(\"How many people used online news at all?\")\n",
    "print(table(df$usesinternet))\n",
    "print(\"Let's see how well we can predict this...\")\n",
    "\n",
    "split = initial_split(df, prop = .8)\n",
    "traindata = training(split)\n",
    "testdata  = testing(split)\n",
    "\n",
    "X_train = select(traindata, c('age', 'gender', 'education'))\n",
    "y_train = traindata$usesinternet\n",
    "X_test = select(testdata, c('age', 'gender', 'education'))\n",
    "y_test = testdata$usesinternet\n",
    "\n",
    "myclassifier = train(x = X_train, y = y_train, method = \"naive_bayes\")\n",
    "predictions = predict(myclassifier, newdata = X_test)\n",
    "print(confusionMatrix(predictions, y_test))\n",
    "\n",
    "print(\"Confusion matrix:\")\n",
    "confmat = table(testdata$usesinternet, predictions)\n",
    "print(confmat)\n",
    "\n",
    "print('Precision for predicting True internet users and non-internet-users, respecitively:')\n",
    "precision = diag(confmat) / rowSums(confmat)\n",
    "print(precision)\n",
    "\n",
    "\n",
    "print('Recall for predicting True internet users and non-internet-users, respecitively:')\n",
    "recall = (diag(confmat) / colSums(confmat))\n",
    "print(recall)"
   ]
  },
  {
   "cell_type": "code",
   "execution_count": 42,
   "metadata": {
    "tags": [
     "snippet:logreg"
    ]
   },
   "outputs": [
    {
     "name": "stdout",
     "output_type": "stream",
     "text": [
      "[1] \"How many people used online news at all?\"\n",
      "\n",
      "FALSE  TRUE \n",
      "  803  1262 \n",
      "[1] \"Let's see how well we can predict this...\"\n",
      "Confusion Matrix and Statistics\n",
      "\n",
      "          Reference\n",
      "Prediction FALSE TRUE\n",
      "     FALSE    39   50\n",
      "     TRUE     98  225\n",
      "                                          \n",
      "               Accuracy : 0.6408          \n",
      "                 95% CI : (0.5924, 0.6872)\n",
      "    No Information Rate : 0.6675          \n",
      "    P-Value [Acc > NIR] : 0.8849694       \n",
      "                                          \n",
      "                  Kappa : 0.1128          \n",
      "                                          \n",
      " Mcnemar's Test P-Value : 0.0001118       \n",
      "                                          \n",
      "            Sensitivity : 0.28467         \n",
      "            Specificity : 0.81818         \n",
      "         Pos Pred Value : 0.43820         \n",
      "         Neg Pred Value : 0.69659         \n",
      "             Prevalence : 0.33252         \n",
      "         Detection Rate : 0.09466         \n",
      "   Detection Prevalence : 0.21602         \n",
      "      Balanced Accuracy : 0.55143         \n",
      "                                          \n",
      "       'Positive' Class : FALSE           \n",
      "                                          \n",
      "[1] \"Confusion matrix:\"\n",
      "       predictions\n",
      "        FALSE TRUE\n",
      "  FALSE    39   98\n",
      "  TRUE     50  225\n",
      "[1] \"Precision for predicting True internet users and non-internet-users, respecitively:\"\n",
      "    FALSE      TRUE \n",
      "0.2846715 0.8181818 \n",
      "[1] \"Recall for predicting True internet users and non-internet-users, respecitively:\"\n",
      "    FALSE      TRUE \n",
      "0.4382022 0.6965944 \n"
     ]
    }
   ],
   "source": [
    "library(tidyverse)\n",
    "library(caret)\n",
    "library(rsample)\n",
    "library(LogicReg)\n",
    "set.seed(42)\n",
    "df = na.omit(df %>% mutate(usesinternet=recode(internet, .default=TRUE, `0`=FALSE)))\n",
    "df$usesinternet = as.factor(df$usesinternet)\n",
    "print(\"How many people used online news at all?\")\n",
    "print(table(df$usesinternet))\n",
    "print(\"Let's see how well we can predict this...\")\n",
    "\n",
    "split = initial_split(df, prop = .8)\n",
    "traindata = training(split)\n",
    "testdata  = testing(split)\n",
    "\n",
    "X_train = select(traindata, c('age', 'gender', 'education'))\n",
    "y_train = traindata$usesinternet\n",
    "X_test = select(testdata, c('age', 'gender', 'education'))\n",
    "y_test = testdata$usesinternet\n",
    "\n",
    "myclassifier = train(x = X_train, y = y_train, method = \"naive_bayes\")\n",
    "predictions = predict(myclassifier, newdata = X_test)\n",
    "print(confusionMatrix(predictions, y_test))\n",
    "\n",
    "print(\"Confusion matrix:\")\n",
    "confmat = table(testdata$usesinternet, predictions)\n",
    "print(confmat)\n",
    "\n",
    "print('Precision for predicting True internet users and non-internet-users, respecitively:')\n",
    "precision = diag(confmat) / rowSums(confmat)\n",
    "print(precision)\n",
    "\n",
    "\n",
    "print('Recall for predicting True internet users and non-internet-users, respecitively:')\n",
    "recall = (diag(confmat) / colSums(confmat))\n",
    "print(recall)"
   ]
  },
  {
   "cell_type": "code",
   "execution_count": 52,
   "metadata": {
    "tags": [
     "snippet:svm"
    ]
   },
   "outputs": [
    {
     "name": "stdout",
     "output_type": "stream",
     "text": [
      "[1] \"How many people used online news at all?\"\n",
      "\n",
      "FALSE  TRUE \n",
      "  803  1262 \n",
      "[1] \"Let's see how well we can predict this...\"\n",
      "Confusion Matrix and Statistics\n",
      "\n",
      "          Reference\n",
      "Prediction FALSE TRUE\n",
      "     FALSE    38   56\n",
      "     TRUE     99  219\n",
      "                                         \n",
      "               Accuracy : 0.6238         \n",
      "                 95% CI : (0.575, 0.6707)\n",
      "    No Information Rate : 0.6675         \n",
      "    P-Value [Acc > NIR] : 0.9725792      \n",
      "                                         \n",
      "                  Kappa : 0.08           \n",
      "                                         \n",
      " Mcnemar's Test P-Value : 0.0007421      \n",
      "                                         \n",
      "            Sensitivity : 0.27737        \n",
      "            Specificity : 0.79636        \n",
      "         Pos Pred Value : 0.40426        \n",
      "         Neg Pred Value : 0.68868        \n",
      "             Prevalence : 0.33252        \n",
      "         Detection Rate : 0.09223        \n",
      "   Detection Prevalence : 0.22816        \n",
      "      Balanced Accuracy : 0.53687        \n",
      "                                         \n",
      "       'Positive' Class : FALSE          \n",
      "                                         \n",
      "[1] \"Confusion matrix:\"\n",
      "       predictions\n",
      "        FALSE TRUE\n",
      "  FALSE    38   99\n",
      "  TRUE     56  219\n",
      "[1] \"Precision for predicting True internet users and non-internet-users, respecitively:\"\n",
      "    FALSE      TRUE \n",
      "0.2773723 0.7963636 \n",
      "[1] \"Recall for predicting True internet users and non-internet-users, respecitively:\"\n",
      "    FALSE      TRUE \n",
      "0.4042553 0.6886792 \n"
     ]
    }
   ],
   "source": [
    "library(tidyverse)\n",
    "library(caret)\n",
    "library(rsample)\n",
    "library(LiblineaR)\n",
    "set.seed(42)\n",
    "df = na.omit(df %>% mutate(usesinternet=recode(internet, .default=TRUE, `0`=FALSE)))\n",
    "df$usesinternet = as.factor(df$usesinternet)\n",
    "print(\"How many people used online news at all?\")\n",
    "print(table(df$usesinternet))\n",
    "print(\"Let's see how well we can predict this...\")\n",
    "\n",
    "split = initial_split(df, prop = .8)\n",
    "traindata = training(split)\n",
    "testdata  = testing(split)\n",
    "\n",
    "X_train = select(traindata, c('age', 'gender', 'education'))\n",
    "y_train = traindata$usesinternet\n",
    "X_test = select(testdata, c('age', 'gender', 'education'))\n",
    "y_test = testdata$usesinternet\n",
    "\n",
    "myclassifier = train(x = X_train, y = y_train, method = \"svmLinear3\")\n",
    "predictions = predict(myclassifier, newdata = X_test)\n",
    "print(confusionMatrix(predictions, y_test))\n",
    "\n",
    "print(\"Confusion matrix:\")\n",
    "confmat = table(testdata$usesinternet, predictions)\n",
    "print(confmat)\n",
    "\n",
    "print('Precision for predicting True internet users and non-internet-users, respecitively:')\n",
    "precision = diag(confmat) / rowSums(confmat)\n",
    "print(precision)\n",
    "\n",
    "\n",
    "print('Recall for predicting True internet users and non-internet-users, respecitively:')\n",
    "recall = (diag(confmat) / colSums(confmat))\n",
    "print(recall)"
   ]
  },
  {
   "cell_type": "code",
   "execution_count": 51,
   "metadata": {
    "tags": [
     "snippet:randomforest"
    ]
   },
   "outputs": [
    {
     "name": "stderr",
     "output_type": "stream",
     "text": [
      "randomForest 4.6-14\n",
      "Type rfNews() to see new features/changes/bug fixes.\n",
      "\n",
      "Attaching package: ‘randomForest’\n",
      "\n",
      "The following object is masked from ‘package:dplyr’:\n",
      "\n",
      "    combine\n",
      "\n",
      "The following object is masked from ‘package:ggplot2’:\n",
      "\n",
      "    margin\n",
      "\n"
     ]
    },
    {
     "name": "stdout",
     "output_type": "stream",
     "text": [
      "[1] \"How many people used online news at all?\"\n",
      "\n",
      "FALSE  TRUE \n",
      "  803  1262 \n",
      "[1] \"Let's see how well we can predict this...\"\n",
      "note: only 2 unique complexity parameters in default grid. Truncating the grid to 2 .\n",
      "\n",
      "Confusion Matrix and Statistics\n",
      "\n",
      "          Reference\n",
      "Prediction FALSE TRUE\n",
      "     FALSE    52   81\n",
      "     TRUE     85  194\n",
      "                                         \n",
      "               Accuracy : 0.5971         \n",
      "                 95% CI : (0.548, 0.6448)\n",
      "    No Information Rate : 0.6675         \n",
      "    P-Value [Acc > NIR] : 0.9988         \n",
      "                                         \n",
      "                  Kappa : 0.0856         \n",
      "                                         \n",
      " Mcnemar's Test P-Value : 0.8159         \n",
      "                                         \n",
      "            Sensitivity : 0.3796         \n",
      "            Specificity : 0.7055         \n",
      "         Pos Pred Value : 0.3910         \n",
      "         Neg Pred Value : 0.6953         \n",
      "             Prevalence : 0.3325         \n",
      "         Detection Rate : 0.1262         \n",
      "   Detection Prevalence : 0.3228         \n",
      "      Balanced Accuracy : 0.5425         \n",
      "                                         \n",
      "       'Positive' Class : FALSE          \n",
      "                                         \n",
      "[1] \"Confusion matrix:\"\n",
      "       predictions\n",
      "        FALSE TRUE\n",
      "  FALSE    52   85\n",
      "  TRUE     81  194\n",
      "[1] \"Precision for predicting True internet users and non-internet-users, respecitively:\"\n",
      "    FALSE      TRUE \n",
      "0.3795620 0.7054545 \n",
      "[1] \"Recall for predicting True internet users and non-internet-users, respecitively:\"\n",
      "    FALSE      TRUE \n",
      "0.3909774 0.6953405 \n"
     ]
    }
   ],
   "source": [
    "library(tidyverse)\n",
    "library(caret)\n",
    "library(rsample)\n",
    "library(randomForest)\n",
    "set.seed(42)\n",
    "df = na.omit(df %>% mutate(usesinternet=recode(internet, .default=TRUE, `0`=FALSE)))\n",
    "df$usesinternet = as.factor(df$usesinternet)\n",
    "print(\"How many people used online news at all?\")\n",
    "print(table(df$usesinternet))\n",
    "print(\"Let's see how well we can predict this...\")\n",
    "\n",
    "split = initial_split(df, prop = .8)\n",
    "traindata = training(split)\n",
    "testdata  = testing(split)\n",
    "\n",
    "X_train = select(traindata, c('age', 'gender', 'education'))\n",
    "y_train = traindata$usesinternet\n",
    "X_test = select(testdata, c('age', 'gender', 'education'))\n",
    "y_test = testdata$usesinternet\n",
    "\n",
    "myclassifier = train(x = X_train, y = y_train, method = \"rf\")\n",
    "predictions = predict(myclassifier, newdata = X_test)\n",
    "print(confusionMatrix(predictions, y_test))\n",
    "\n",
    "print(\"Confusion matrix:\")\n",
    "confmat = table(testdata$usesinternet, predictions)\n",
    "print(confmat)\n",
    "\n",
    "print('Precision for predicting True internet users and non-internet-users, respecitively:')\n",
    "precision = diag(confmat) / rowSums(confmat)\n",
    "print(precision)\n",
    "\n",
    "\n",
    "print('Recall for predicting True internet users and non-internet-users, respecitively:')\n",
    "recall = (diag(confmat) / colSums(confmat))\n",
    "print(recall)"
   ]
  }
 ],
 "metadata": {
  "celltoolbar": "Tags",
  "kernelspec": {
   "display_name": "R",
   "language": "R",
   "name": "ir"
  },
  "language_info": {
   "codemirror_mode": "r",
   "file_extension": ".r",
   "mimetype": "text/x-r-source",
   "name": "R",
   "pygments_lexer": "r",
   "version": "3.4.4"
  }
 },
 "nbformat": 4,
 "nbformat_minor": 2
}
