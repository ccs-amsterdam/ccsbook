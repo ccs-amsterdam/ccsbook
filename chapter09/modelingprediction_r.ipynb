{
 "cells": [
  {
   "cell_type": "code",
   "execution_count": 7,
   "metadata": {
    "tags": [
     "snippet:ols"
    ]
   },
   "outputs": [
    {
     "data": {
      "text/plain": [
       "\n",
       "Call:\n",
       "lm(formula = \"newspaper ~ age + gender\", data = df)\n",
       "\n",
       "Coefficients:\n",
       "(Intercept)          age       gender  \n",
       "   -0.08956      0.06762      0.17666  \n"
      ]
     },
     "metadata": {},
     "output_type": "display_data"
    }
   ],
   "source": [
    "df = read.csv('../datasets/mediause.csv')\n",
    "model = lm(formula = 'newspaper ~ age + gender', data = df)\n",
    "model"
   ]
  },
  {
   "cell_type": "code",
   "execution_count": 9,
   "metadata": {
    "tags": [
     "snippet:olspredict"
    ]
   },
   "outputs": [
    {
     "data": {
      "text/html": [
       "<dl class=dl-horizontal>\n",
       "\t<dt>1</dt>\n",
       "\t\t<dd>1.43950835860337</dd>\n",
       "\t<dt>2</dt>\n",
       "\t\t<dd>2.61524764821034</dd>\n",
       "</dl>\n"
      ],
      "text/latex": [
       "\\begin{description*}\n",
       "\\item[1] 1.43950835860337\n",
       "\\item[2] 2.61524764821034\n",
       "\\end{description*}\n"
      ],
      "text/markdown": [
       "1\n",
       ":   1.439508358603372\n",
       ":   2.61524764821034\n",
       "\n"
      ],
      "text/plain": [
       "       1        2 \n",
       "1.439508 2.615248 "
      ]
     },
     "metadata": {},
     "output_type": "display_data"
    }
   ],
   "source": [
    "gender = c(1,0)\n",
    "age = c(20,40)\n",
    "newdata = data.frame(age, gender)\n",
    "predict(model, newdata)"
   ]
  },
  {
   "cell_type": "code",
   "execution_count": 8,
   "metadata": {},
   "outputs": [
    {
     "data": {
      "text/html": [
       "<dl class=dl-horizontal>\n",
       "\t<dt>1</dt>\n",
       "\t\t<dd>1.43950835860337</dd>\n",
       "\t<dt>2</dt>\n",
       "\t\t<dd>2.61524764821034</dd>\n",
       "</dl>\n"
      ],
      "text/latex": [
       "\\begin{description*}\n",
       "\\item[1] 1.43950835860337\n",
       "\\item[2] 2.61524764821034\n",
       "\\end{description*}\n"
      ],
      "text/markdown": [
       "1\n",
       ":   1.439508358603372\n",
       ":   2.61524764821034\n",
       "\n"
      ],
      "text/plain": [
       "       1        2 \n",
       "1.439508 2.615248 "
      ]
     },
     "metadata": {},
     "output_type": "display_data"
    }
   ],
   "source": []
  }
 ],
 "metadata": {
  "celltoolbar": "Tags",
  "kernelspec": {
   "display_name": "R",
   "language": "R",
   "name": "ir"
  },
  "language_info": {
   "codemirror_mode": "r",
   "file_extension": ".r",
   "mimetype": "text/x-r-source",
   "name": "R",
   "pygments_lexer": "r",
   "version": "3.4.4"
  }
 },
 "nbformat": 4,
 "nbformat_minor": 2
}
