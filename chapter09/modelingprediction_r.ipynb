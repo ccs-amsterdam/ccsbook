{
 "cells": [
  {
   "cell_type": "code",
   "execution_count": 1,
   "metadata": {
    "tags": [
     "snippet:ols"
    ]
   },
   "outputs": [
    {
     "data": {
      "text/plain": [
       "\n",
       "Call:\n",
       "lm(formula = \"newspaper ~ age + gender\", data = df)\n",
       "\n",
       "Coefficients:\n",
       "(Intercept)          age       gender  \n",
       "   -0.08956      0.06762      0.17666  \n"
      ]
     },
     "metadata": {},
     "output_type": "display_data"
    }
   ],
   "source": [
    "df = read.csv('../datasets/mediause.csv')\n",
    "model = lm(formula = 'newspaper ~ age + gender', data = df)\n",
    "model"
   ]
  },
  {
   "cell_type": "code",
   "execution_count": 2,
   "metadata": {
    "tags": [
     "snippet:olspredict"
    ]
   },
   "outputs": [
    {
     "data": {
      "text/html": [
       "<dl class=dl-horizontal>\n",
       "\t<dt>1</dt>\n",
       "\t\t<dd>1.43950835860337</dd>\n",
       "\t<dt>2</dt>\n",
       "\t\t<dd>2.61524764821034</dd>\n",
       "</dl>\n"
      ],
      "text/latex": [
       "\\begin{description*}\n",
       "\\item[1] 1.43950835860337\n",
       "\\item[2] 2.61524764821034\n",
       "\\end{description*}\n"
      ],
      "text/markdown": [
       "1\n",
       ":   1.439508358603372\n",
       ":   2.61524764821034\n",
       "\n"
      ],
      "text/plain": [
       "       1        2 \n",
       "1.439508 2.615248 "
      ]
     },
     "metadata": {},
     "output_type": "display_data"
    }
   ],
   "source": [
    "gender = c(1,0)\n",
    "age = c(20,40)\n",
    "newdata = data.frame(age, gender)\n",
    "predict(model, newdata)"
   ]
  },
  {
   "cell_type": "code",
   "execution_count": null,
   "metadata": {},
   "outputs": [],
   "source": []
  },
  {
   "cell_type": "code",
   "execution_count": 66,
   "metadata": {
    "tags": [
     "snippet:nb"
    ]
   },
   "outputs": [
    {
     "name": "stdout",
     "output_type": "stream",
     "text": [
      "[1] \"How many people used online news at all?\"\n",
      "\n",
      "FALSE  TRUE \n",
      "  803  1262 \n",
      "[1] \"Let's see how well we can predict this...\"\n",
      "[1] \"Contingency Table for Test Data\"\n",
      "       testPred\n",
      "        FALSE TRUE\n",
      "  FALSE    40   97\n",
      "  TRUE     57  218\n",
      "[1] \"Precision for predicting True internet users and non-internet-users, respecitively:\"\n",
      "    FALSE      TRUE \n",
      "0.2919708 0.7927273 \n",
      "[1] \"Recall for predicting True internet users and non-internet-users, respecitively:\"\n",
      "    FALSE      TRUE \n",
      "0.4123711 0.6920635 \n"
     ]
    }
   ],
   "source": [
    "library(tidyverse)\n",
    "library(caret)\n",
    "library(rsample)\n",
    "library(e1071)\n",
    "set.seed(42)\n",
    "df = na.omit(df %>% mutate(usesinternet=recode(internet, .default=TRUE, `0`=FALSE)))\n",
    "print(\"How many people used online news at all?\")\n",
    "print(table(df$usesinternet))\n",
    "print(\"Let's see how well we can predict this...\")\n",
    "\n",
    "split = initial_split(df, prop = .8)\n",
    "train = training(split)\n",
    "test  = testing(split)\n",
    "\n",
    "myclassifier=naiveBayes(usesinternet~age+gender+education, data=train)\n",
    "\n",
    "testPred = predict(myclassifier, newdata=test, type=\"class\")\n",
    "print(\"Contingency Table for Test Data\")\n",
    "conttab = table(test$usesinternet, testPred)\n",
    "print(conttab)\n",
    "\n",
    "print('Precision for predicting True internet users and non-internet-users, respecitively:')\n",
    "precision = diag(conttab) / rowSums(conttab)\n",
    "print(precision)\n",
    "\n",
    "\n",
    "print('Recall for predicting True internet users and non-internet-users, respecitively:')\n",
    "recall = (diag(conttab) / colSums(conttab))\n",
    "print(recall)"
   ]
  },
  {
   "cell_type": "code",
   "execution_count": 67,
   "metadata": {
    "tags": [
     "snippet:logreg"
    ]
   },
   "outputs": [
    {
     "name": "stdout",
     "output_type": "stream",
     "text": [
      "[1] \"To be added\"\n"
     ]
    }
   ],
   "source": [
    "print(\"To be added\")"
   ]
  },
  {
   "cell_type": "code",
   "execution_count": 68,
   "metadata": {
    "tags": [
     "snippet:svm"
    ]
   },
   "outputs": [
    {
     "name": "stdout",
     "output_type": "stream",
     "text": [
      "[1] \"To be added\"\n"
     ]
    }
   ],
   "source": [
    "print(\"To be added\")"
   ]
  },
  {
   "cell_type": "code",
   "execution_count": 69,
   "metadata": {
    "tags": [
     "snippet:randomforest"
    ]
   },
   "outputs": [
    {
     "name": "stdout",
     "output_type": "stream",
     "text": [
      "[1] \"To be added\"\n"
     ]
    }
   ],
   "source": [
    "print(\"To be added\")"
   ]
  }
 ],
 "metadata": {
  "celltoolbar": "Tags",
  "kernelspec": {
   "display_name": "R",
   "language": "R",
   "name": "ir"
  },
  "language_info": {
   "codemirror_mode": "r",
   "file_extension": ".r",
   "mimetype": "text/x-r-source",
   "name": "R",
   "pygments_lexer": "r",
   "version": "3.4.4"
  }
 },
 "nbformat": 4,
 "nbformat_minor": 2
}
