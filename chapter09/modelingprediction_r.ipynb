{
 "cells": [
  {
   "cell_type": "code",
   "execution_count": 1,
   "metadata": {
    "tags": [
     "snippet:chapter09install",
     "dontrun"
    ]
   },
   "outputs": [],
   "source": [
    "install.packages('randomForest','rsample','glue','caret','naivebayes','LiblineaR','randomForest', 'pROC')"
   ]
  },
  {
   "cell_type": "code",
   "execution_count": 2,
   "metadata": {
    "tags": [
     "snippet:chapter09library"
    ]
   },
   "outputs": [
    {
     "name": "stderr",
     "output_type": "stream",
     "text": [
      "── \u001b[1mAttaching packages\u001b[22m ─────────────────────────────────────────────────────────────────────────────────────────────────────────────────────────────────────────────────────────────────────────── tidyverse 1.3.0 ──\n",
      "\n",
      "\u001b[32m✔\u001b[39m \u001b[34mggplot2\u001b[39m 3.3.2     \u001b[32m✔\u001b[39m \u001b[34mpurrr  \u001b[39m 0.3.4\n",
      "\u001b[32m✔\u001b[39m \u001b[34mtibble \u001b[39m 3.0.4     \u001b[32m✔\u001b[39m \u001b[34mdplyr  \u001b[39m 1.0.2\n",
      "\u001b[32m✔\u001b[39m \u001b[34mtidyr  \u001b[39m 1.1.2     \u001b[32m✔\u001b[39m \u001b[34mstringr\u001b[39m 1.4.0\n",
      "\u001b[32m✔\u001b[39m \u001b[34mreadr  \u001b[39m 1.4.0     \u001b[32m✔\u001b[39m \u001b[34mforcats\u001b[39m 0.5.0\n",
      "\n",
      "── \u001b[1mConflicts\u001b[22m ────────────────────────────────────────────────────────────────────────────────────────────────────────────────────────────────────────────────────────────────────────────── tidyverse_conflicts() ──\n",
      "\u001b[31m✖\u001b[39m \u001b[34mdplyr\u001b[39m::\u001b[32mfilter()\u001b[39m masks \u001b[34mstats\u001b[39m::filter()\n",
      "\u001b[31m✖\u001b[39m \u001b[34mdplyr\u001b[39m::\u001b[32mlag()\u001b[39m    masks \u001b[34mstats\u001b[39m::lag()\n",
      "\n",
      "\n",
      "Attaching package: ‘glue’\n",
      "\n",
      "\n",
      "The following object is masked from ‘package:dplyr’:\n",
      "\n",
      "    collapse\n",
      "\n",
      "\n",
      "Loading required package: lattice\n",
      "\n",
      "\n",
      "Attaching package: ‘caret’\n",
      "\n",
      "\n",
      "The following object is masked from ‘package:purrr’:\n",
      "\n",
      "    lift\n",
      "\n",
      "\n",
      "naivebayes 0.9.7 loaded\n",
      "\n",
      "randomForest 4.6-14\n",
      "\n",
      "Type rfNews() to see new features/changes/bug fixes.\n",
      "\n",
      "\n",
      "Attaching package: ‘randomForest’\n",
      "\n",
      "\n",
      "The following object is masked from ‘package:dplyr’:\n",
      "\n",
      "    combine\n",
      "\n",
      "\n",
      "The following object is masked from ‘package:ggplot2’:\n",
      "\n",
      "    margin\n",
      "\n",
      "\n",
      "Type 'citation(\"pROC\")' for a citation.\n",
      "\n",
      "\n",
      "Attaching package: ‘pROC’\n",
      "\n",
      "\n",
      "The following objects are masked from ‘package:stats’:\n",
      "\n",
      "    cov, smooth, var\n",
      "\n",
      "\n"
     ]
    }
   ],
   "source": [
    "library(tidyverse)\n",
    "library(rsample)\n",
    "library(glue)\n",
    "library(caret)\n",
    "library(naivebayes)\n",
    "library(LiblineaR)\n",
    "library(randomForest)\n",
    "library(pROC)\n"
   ]
  },
  {
   "cell_type": "code",
   "execution_count": 3,
   "metadata": {
    "scrolled": true,
    "tags": [
     "snippet:ols"
    ]
   },
   "outputs": [
    {
     "data": {
      "text/plain": [
       "\n",
       "Call:\n",
       "lm(formula = \"newspaper ~ age + gender\", data = df)\n",
       "\n",
       "Coefficients:\n",
       "(Intercept)          age       gender  \n",
       "   -0.08956      0.06762      0.17666  \n"
      ]
     },
     "metadata": {},
     "output_type": "display_data"
    }
   ],
   "source": [
    "df = read.csv('http://cssbook.net/d/mediause.csv')\n",
    "model = lm(formula = 'newspaper ~ age + gender', data = df)\n",
    "# summary(model) would give a lot more info, but we only care about the coefficients:\n",
    "model"
   ]
  },
  {
   "cell_type": "code",
   "execution_count": 4,
   "metadata": {
    "tags": [
     "snippet:olspredict"
    ]
   },
   "outputs": [
    {
     "data": {
      "text/html": [
       "<style>\n",
       ".dl-inline {width: auto; margin:0; padding: 0}\n",
       ".dl-inline>dt, .dl-inline>dd {float: none; width: auto; display: inline-block}\n",
       ".dl-inline>dt::after {content: \":\\0020\"; padding-right: .5ex}\n",
       ".dl-inline>dt:not(:first-of-type) {padding-left: .5ex}\n",
       "</style><dl class=dl-inline><dt>1</dt><dd>1.43950835860337</dd><dt>2</dt><dd>2.61524764821034</dd></dl>\n"
      ],
      "text/latex": [
       "\\begin{description*}\n",
       "\\item[1] 1.43950835860337\n",
       "\\item[2] 2.61524764821034\n",
       "\\end{description*}\n"
      ],
      "text/markdown": [
       "1\n",
       ":   1.439508358603372\n",
       ":   2.61524764821034\n",
       "\n"
      ],
      "text/plain": [
       "       1        2 \n",
       "1.439508 2.615248 "
      ]
     },
     "metadata": {},
     "output_type": "display_data"
    }
   ],
   "source": [
    "gender = c(1,0)\n",
    "age = c(20,40)\n",
    "newdata = data.frame(age, gender)\n",
    "predict(model, newdata)"
   ]
  },
  {
   "cell_type": "code",
   "execution_count": 5,
   "metadata": {
    "scrolled": true,
    "tags": [
     "snippet:preparedata"
    ]
   },
   "outputs": [
    {
     "name": "stdout",
     "output_type": "stream",
     "text": [
      "[1] \"How many people used online news at all?\"\n",
      "\n",
      "non-user     user \n",
      "     803     1262 \n"
     ]
    },
    {
     "data": {
      "text/html": [
       "'We have 1653 training and 412 test cases.'"
      ],
      "text/latex": [
       "'We have 1653 training and 412 test cases.'"
      ],
      "text/markdown": [
       "'We have 1653 training and 412 test cases.'"
      ],
      "text/plain": [
       "We have 1653 training and 412 test cases."
      ]
     },
     "metadata": {},
     "output_type": "display_data"
    }
   ],
   "source": [
    "df = read.csv('http://cssbook.net/d/mediause.csv')\n",
    "df = na.omit(df %>% mutate(usesinternet=recode(internet, .default='user', `0`='non-user')))\n",
    "\n",
    "set.seed(42)\n",
    "df$usesinternet = as.factor(df$usesinternet)\n",
    "print(\"How many people used online news at all?\")\n",
    "print(table(df$usesinternet))\n",
    "\n",
    "\n",
    "split = initial_split(df, prop = .8)\n",
    "traindata = training(split)\n",
    "testdata  = testing(split)\n",
    "\n",
    "X_train = select(traindata, c('age', 'gender', 'education'))\n",
    "y_train = traindata$usesinternet\n",
    "X_test = select(testdata, c('age', 'gender', 'education'))\n",
    "y_test = testdata$usesinternet\n",
    "\n",
    "glue(\"We have {nrow(X_train)} training and {nrow(X_test)} test cases.\")"
   ]
  },
  {
   "cell_type": "code",
   "execution_count": 6,
   "metadata": {
    "tags": [
     "snippet:nb"
    ]
   },
   "outputs": [],
   "source": [
    "myclassifier = train(x = X_train, y = y_train, method = \"naive_bayes\")\n",
    "y_pred = predict(myclassifier, newdata = X_test)"
   ]
  },
  {
   "cell_type": "code",
   "execution_count": 7,
   "metadata": {
    "tags": [
     "snippet:classificationreport"
    ]
   },
   "outputs": [
    {
     "name": "stdout",
     "output_type": "stream",
     "text": [
      "Confusion Matrix and Statistics\n",
      "\n",
      "          Reference\n",
      "Prediction non-user user\n",
      "  non-user       57   26\n",
      "  user          113  216\n",
      "                                          \n",
      "               Accuracy : 0.6626          \n",
      "                 95% CI : (0.6147, 0.7082)\n",
      "    No Information Rate : 0.5874          \n",
      "    P-Value [Acc > NIR] : 0.001026        \n",
      "                                          \n",
      "                  Kappa : 0.2466          \n",
      "                                          \n",
      " Mcnemar's Test P-Value : 2.999e-13       \n",
      "                                          \n",
      "            Sensitivity : 0.3353          \n",
      "            Specificity : 0.8926          \n",
      "         Pos Pred Value : 0.6867          \n",
      "         Neg Pred Value : 0.6565          \n",
      "             Prevalence : 0.4126          \n",
      "         Detection Rate : 0.1383          \n",
      "   Detection Prevalence : 0.2015          \n",
      "      Balanced Accuracy : 0.6139          \n",
      "                                          \n",
      "       'Positive' Class : non-user        \n",
      "                                          \n",
      "[1] \"Confusion matrix:\"\n",
      "          y_pred\n",
      "           non-user user\n",
      "  non-user       57  113\n",
      "  user           26  216\n",
      "[1] \"Precision for predicting True internet users and non-internet-users, respecitively:\"\n",
      "non-user     user \n",
      "0.686747 0.656535 \n",
      "[1] \"Recall for predicting True internet users and non-internet-users, respecitively:\"\n",
      " non-user      user \n",
      "0.3352941 0.8925620 \n"
     ]
    }
   ],
   "source": [
    "print(confusionMatrix(y_pred, y_test))\n",
    "\n",
    "print(\"Confusion matrix:\")\n",
    "confmat = table(testdata$usesinternet, y_pred)\n",
    "print(confmat)\n",
    "\n",
    "print('Precision for predicting True internet users and non-internet-users, respecitively:')\n",
    "precision = diag(confmat) / colSums(confmat)\n",
    "print(precision)\n",
    "\n",
    "\n",
    "print('Recall for predicting True internet users and non-internet-users, respecitively:')\n",
    "recall = (diag(confmat) / rowSums(confmat))\n",
    "print(recall)"
   ]
  },
  {
   "cell_type": "code",
   "execution_count": 8,
   "metadata": {
    "tags": [
     "snippet:logreg"
    ]
   },
   "outputs": [],
   "source": [
    "myclassifier = train(x = X_train, y = y_train, method = 'glm',family = \"binomial\")\n",
    "y_pred = predict(myclassifier, newdata = X_test)\n"
   ]
  },
  {
   "cell_type": "code",
   "execution_count": 9,
   "metadata": {
    "tags": [
     "snippet:svm"
    ]
   },
   "outputs": [],
   "source": [
    "\n",
    "# !!! We normalize our features to have M = 0 and SD = 1, which we do with the preProcess argument\n",
    "# This is necessary as our features are not measured on the same scale, which SVM requires\n",
    "# It may also be OK to rescale to a range of [0:1] or [-1:1]\n",
    "\n",
    "myclassifier = train(x = X_train, y = y_train,  preProcess = c(\"center\", \"scale\"), method = \"svmLinear3\")\n",
    "y_pred = predict(myclassifier, newdata = X_test)"
   ]
  },
  {
   "cell_type": "code",
   "execution_count": 10,
   "metadata": {
    "tags": [
     "snippet:randomforest"
    ]
   },
   "outputs": [
    {
     "name": "stdout",
     "output_type": "stream",
     "text": [
      "note: only 2 unique complexity parameters in default grid. Truncating the grid to 2 .\n",
      "\n"
     ]
    }
   ],
   "source": [
    "myclassifier = train(x = X_train, y = y_train, method = \"rf\")\n",
    "y_pred = predict(myclassifier, newdata = X_test)\n"
   ]
  },
  {
   "cell_type": "code",
   "execution_count": 11,
   "metadata": {
    "tags": [
     "snippet:cutoffpoint"
    ]
   },
   "outputs": [
    {
     "name": "stdout",
     "output_type": "stream",
     "text": [
      "[1] \"Confusion matrix with default threshold (0.5):\"\n",
      "          pred_default\n",
      "y_test     non-user user\n",
      "  non-user       52  118\n",
      "  user           32  210\n",
      "[1] \"Recall for predicting True internet users and non-internet-users:\"\n",
      " non-user      user \n",
      "0.3058824 0.8677686 \n",
      "[1] \"Precision for predicting True internet users and non-internet-users:\"\n",
      " non-user      user \n",
      "0.6190476 0.6402439 \n"
     ]
    }
   ],
   "source": [
    "m = glm(usesinternet ~ age + gender + education, data=traindata, family=\"binomial\")\n",
    "y_pred = predict(m, newdata = testdata, type = \"response\")\n",
    "pred_default = as.factor(ifelse(y_pred>0.5, \"user\", \"non-user\"))\n",
    "\n",
    "print(\"Confusion matrix with default threshold (0.5):\")\n",
    "confmat = table(y_test, pred_default)\n",
    "print(confmat)\n",
    "print('Recall for predicting True internet users and non-internet-users:')\n",
    "print(diag(confmat) / rowSums(confmat))\n",
    "print('Precision for predicting True internet users and non-internet-users:')\n",
    "print(diag(confmat) / colSums(confmat))"
   ]
  },
  {
   "cell_type": "code",
   "execution_count": 12,
   "metadata": {
    "tags": [
     "snippet:cutoffpointb"
    ]
   },
   "outputs": [
    {
     "name": "stderr",
     "output_type": "stream",
     "text": [
      "Setting levels: control = non-user, case = user\n",
      "\n",
      "Setting direction: controls < cases\n",
      "\n"
     ]
    },
    {
     "name": "stdout",
     "output_type": "stream",
     "text": [
      "Confusion matrix with optimal threshold (0.629312922296396):\n",
      "          pred_optimal\n",
      "y_test     non-user user\n",
      "  non-user      109   61\n",
      "  user           89  153\n",
      "[1] \"Recall for predicting True internet users and non-internet-users:\"\n",
      " non-user      user \n",
      "0.6411765 0.6322314 \n",
      "[1] \"Precision for predicting True internet users and non-internet-users:\"\n",
      " non-user      user \n",
      "0.5505051 0.7149533 \n"
     ]
    }
   ],
   "source": [
    "roc = roc(testdata$usesinternet ~ y_pred)\n",
    "optimal = roc$thresholds[which.max(roc$sensitivities + roc$specificities)]\n",
    "\n",
    "print(glue(\"Confusion matrix with optimal threshold ({optimal}):\"))\n",
    "pred_optimal = ifelse(y_pred>optimal, \"user\", \"non-user\")\n",
    "confmat = table(y_test, pred_optimal)\n",
    "print(confmat)\n",
    "print('Recall for predicting True internet users and non-internet-users:')\n",
    "print(diag(confmat) / rowSums(confmat))\n",
    "print('Precision for predicting True internet users and non-internet-users:')\n",
    "print(diag(confmat) / colSums(confmat))"
   ]
  },
  {
   "cell_type": "code",
   "execution_count": 13,
   "metadata": {
    "tags": [
     "snippet:roccurve",
     "output:png"
    ]
   },
   "outputs": [
    {
     "name": "stderr",
     "output_type": "stream",
     "text": [
      "Setting levels: control = non-user, case = user\n",
      "\n",
      "Setting direction: controls < cases\n",
      "\n"
     ]
    },
    {
     "data": {
      "image/png": "[encoded data removed]",
      "text/plain": [
       "plot without title"
      ]
     },
     "metadata": {
      "image/png": {
       "height": 420,
       "width": 420
      }
     },
     "output_type": "display_data"
    }
   ],
   "source": [
    "roc = roc(testdata$usesinternet ~ y_pred, plot=T, print.auc=T, \n",
    "          print.thres=\"best\", print.thres.pattern=\"Best threshold: %1.2f\")"
   ]
  },
  {
   "cell_type": "code",
   "execution_count": 14,
   "metadata": {
    "tags": [
     "snippet:crossval"
    ]
   },
   "outputs": [
    {
     "name": "stdout",
     "output_type": "stream",
     "text": [
      "   Accuracy     Kappa parameter Resample\n",
      "1 0.6646526 0.2376911      none    Fold1\n",
      "2 0.6042296 0.0767380      none    Fold2\n",
      "3 0.6283988 0.1552794      none    Fold3\n",
      "4 0.6636364 0.2225901      none    Fold4\n",
      "5 0.6484848 0.1889143      none    Fold5\n",
      "  parameter  Accuracy     Kappa AccuracySD    KappaSD\n",
      "1      none 0.6418804 0.1762426 0.02566539 0.06408044\n"
     ]
    }
   ],
   "source": [
    "myclassifier = train(x = X_train, y = y_train, method = 'glm', family='binomial', metric='Accuracy',\n",
    "                     trControl = trainControl(method = \"cv\", number = 5, returnResamp ='all', savePredictions = TRUE),)\n",
    "print(myclassifier$resample)\n",
    "print(myclassifier$results)"
   ]
  },
  {
   "cell_type": "code",
   "execution_count": 15,
   "metadata": {
    "tags": [
     "snippet:gridsearch"
    ]
   },
   "outputs": [
    {
     "ename": "ERROR",
     "evalue": "Error: The tuning parameter grid should have columns mtry\n",
     "output_type": "error",
     "traceback": [
      "Error: The tuning parameter grid should have columns mtry\nTraceback:\n",
      "1. train(x = X_train, y = y_train, method = \"rf\", metric = \"Accuracy\", \n .     trControl = train_control, tuneGrid = tunegrid)",
      "2. train.default(x = X_train, y = y_train, method = \"rf\", metric = \"Accuracy\", \n .     trControl = train_control, tuneGrid = tunegrid)",
      "3. stop(paste(\"The tuning parameter grid should have columns\", paste(tuneNames, \n .     collapse = \", \", sep = \"\")), call. = FALSE)"
     ]
    }
   ],
   "source": [
    "#tunegrid <- expand.grid(.mtry=c(1,10), number = c(10,50,100)) \n",
    "\n",
    "#tunegrid <- expand.grid(.mtry = (1:15)) \n",
    "tunegrid <- expand.grid(.mtry=c(2), .number = c(10, 50, 100)) \n",
    "\n",
    "\n",
    "train_control = trainControl(method = \"cv\", number = 5)\n",
    "\n",
    "rf_gridsearch =   train(x = X_train, y = y_train, method = \"rf\",\n",
    "                       metric = 'Accuracy',  trControl = train_control, \n",
    "                       tuneGrid = tunegrid)\n",
    "print(rf_gridsearch)\n",
    "\n"
   ]
  },
  {
   "cell_type": "code",
   "execution_count": null,
   "metadata": {},
   "outputs": [],
   "source": [
    "tunegrid <- expand.grid(.mtry=c(2), .number = c(10, 50, 100)) \n",
    "tunegrid"
   ]
  },
  {
   "cell_type": "code",
   "execution_count": null,
   "metadata": {
    "tags": [
     "snippet:gridsearch3"
    ]
   },
   "outputs": [],
   "source": [
    "# Create the grid of parameters\n",
    "grid <- expand.grid(Loss=c('L1','L2'),\n",
    "                   cost=c(100,1000))\n",
    "\n",
    "# Train the model using our previously defined parameters\n",
    "gridsearch = train(x = X_train, y = y_train,  preProcess = c(\"center\", \"scale\"), \n",
    "                 method = \"svmLinear3\",\n",
    "                 trControl = trainControl(method = \"cv\", number = 5),\n",
    "                 tuneGrid = grid)\n",
    "gridsearch"
   ]
  },
  {
   "cell_type": "code",
   "execution_count": null,
   "metadata": {},
   "outputs": [],
   "source": []
  }
 ],
 "metadata": {
  "celltoolbar": "Tags",
  "kernelspec": {
   "display_name": "R",
   "language": "R",
   "name": "ir"
  },
  "language_info": {
   "codemirror_mode": "r",
   "file_extension": ".r",
   "mimetype": "text/x-r-source",
   "name": "R",
   "pygments_lexer": "r",
   "version": "4.0.3"
  }
 },
 "nbformat": 4,
 "nbformat_minor": 2
}
