{
 "cells": [
  {
   "cell_type": "code",
   "execution_count": 1,
   "metadata": {
    "tags": [
     "snippet:ols"
    ]
   },
   "outputs": [
    {
     "name": "stdout",
     "output_type": "stream",
     "text": [
      "                            OLS Regression Results                            \n",
      "==============================================================================\n",
      "Dep. Variable:              newspaper   R-squared:                       0.190\n",
      "Model:                            OLS   Adj. R-squared:                  0.190\n",
      "Method:                 Least Squares   F-statistic:                     244.4\n",
      "Date:                Sun, 05 Jan 2020   Prob (F-statistic):           4.76e-96\n",
      "Time:                        15:33:34   Log-Likelihood:                -4914.2\n",
      "No. Observations:                2081   AIC:                             9834.\n",
      "Df Residuals:                    2078   BIC:                             9851.\n",
      "Df Model:                           2                                         \n",
      "Covariance Type:            nonrobust                                         \n",
      "==============================================================================\n",
      "                 coef    std err          t      P>|t|      [0.025      0.975]\n",
      "------------------------------------------------------------------------------\n",
      "Intercept     -0.0896      0.159     -0.564      0.573      -0.401       0.222\n",
      "age            0.0676      0.003     21.872      0.000       0.062       0.074\n",
      "gender         0.1767      0.113      1.563      0.118      -0.045       0.398\n",
      "==============================================================================\n",
      "Omnibus:                      671.643   Durbin-Watson:                   1.951\n",
      "Prob(Omnibus):                  0.000   Jarque-Bera (JB):              101.096\n",
      "Skew:                          -0.082   Prob(JB):                     1.11e-22\n",
      "Kurtosis:                       1.933   Cond. No.                         145.\n",
      "==============================================================================\n",
      "\n",
      "Warnings:\n",
      "[1] Standard Errors assume that the covariance matrix of the errors is correctly specified.\n"
     ]
    }
   ],
   "source": [
    "import pandas as pd\n",
    "import statsmodels.formula.api as smf\n",
    "df = pd.read_csv('../datasets/mediause.csv')\n",
    "model = smf.ols(formula = 'newspaper ~ age + gender', data = df).fit()\n",
    "print(model.summary())"
   ]
  },
  {
   "cell_type": "code",
   "execution_count": 2,
   "metadata": {
    "tags": [
     "snippet:olspredict"
    ]
   },
   "outputs": [
    {
     "data": {
      "text/plain": [
       "0    1.439508\n",
       "1    2.615248\n",
       "dtype: float64"
      ]
     },
     "execution_count": 2,
     "metadata": {},
     "output_type": "execute_result"
    }
   ],
   "source": [
    "newdata = pd.DataFrame([{'gender':1, 'age':20}, {'gender': 0, 'age':40} ])\n",
    "model.predict(newdata)"
   ]
  },
  {
   "cell_type": "code",
   "execution_count": 3,
   "metadata": {
    "tags": [
     "snippet:nb"
    ]
   },
   "outputs": [
    {
     "name": "stdout",
     "output_type": "stream",
     "text": [
      "How many people used online news at all?\n",
      "True     1262\n",
      "False     803\n",
      "Name: uses-internet, dtype: int64\n",
      "\n",
      "Let's see how well we can predict this...\n",
      "\n",
      "How often do we get it right?\n",
      "Confusion matrix:\n",
      "[[ 55 106]\n",
      " [ 40 212]]\n",
      "              precision    recall  f1-score   support\n",
      "\n",
      "       False       0.58      0.34      0.43       161\n",
      "        True       0.67      0.84      0.74       252\n",
      "\n",
      "   micro avg       0.65      0.65      0.65       413\n",
      "   macro avg       0.62      0.59      0.59       413\n",
      "weighted avg       0.63      0.65      0.62       413\n",
      "\n"
     ]
    }
   ],
   "source": [
    "from sklearn.naive_bayes import GaussianNB\n",
    "from sklearn.model_selection import train_test_split\n",
    "from sklearn.metrics import confusion_matrix, classification_report\n",
    "\n",
    "df['uses-internet'] = df['internet']>0\n",
    "df.dropna(inplace=True)\n",
    "print(\"How many people used online news at all?\")\n",
    "print(df['uses-internet'].value_counts())\n",
    "\n",
    "\n",
    "print(\"\\nLet's see how well we can predict this...\")\n",
    "\n",
    "X_train, X_test, y_train, y_test = train_test_split(df[['age', 'education', 'gender']], df['uses-internet'], test_size=0.2, random_state=42)\n",
    "\n",
    "\n",
    "myclassifier = GaussianNB()\n",
    "myclassifier.fit(X_train, y_train)\n",
    "\n",
    "y_pred = myclassifier.predict(X_test)\n",
    "\n",
    "print('\\nHow often do we get it right?\\nConfusion matrix:')\n",
    "print(confusion_matrix(y_test, y_pred))\n",
    "print(classification_report(y_test, y_pred))\n"
   ]
  },
  {
   "cell_type": "code",
   "execution_count": 4,
   "metadata": {
    "tags": [
     "snippet:logreg"
    ]
   },
   "outputs": [
    {
     "name": "stdout",
     "output_type": "stream",
     "text": [
      "\n",
      "How often do we get it right?\n",
      "Confusion matrix:\n",
      "[[ 59 102]\n",
      " [ 42 210]]\n",
      "              precision    recall  f1-score   support\n",
      "\n",
      "       False       0.58      0.37      0.45       161\n",
      "        True       0.67      0.83      0.74       252\n",
      "\n",
      "   micro avg       0.65      0.65      0.65       413\n",
      "   macro avg       0.63      0.60      0.60       413\n",
      "weighted avg       0.64      0.65      0.63       413\n",
      "\n"
     ]
    }
   ],
   "source": [
    "from sklearn.linear_model import LogisticRegression\n",
    "myclassifier = LogisticRegression(solver='lbfgs')\n",
    "myclassifier.fit(X_train, y_train)\n",
    "\n",
    "y_pred = myclassifier.predict(X_test)\n",
    "\n",
    "print('\\nHow often do we get it right?\\nConfusion matrix:')\n",
    "print(confusion_matrix(y_test, y_pred))\n",
    "print(classification_report(y_test, y_pred))\n"
   ]
  },
  {
   "cell_type": "code",
   "execution_count": 5,
   "metadata": {
    "tags": [
     "snippet:svm"
    ]
   },
   "outputs": [
    {
     "name": "stdout",
     "output_type": "stream",
     "text": [
      "\n",
      "How often do we get it right?\n",
      "Confusion matrix:\n",
      "[[ 22 139]\n",
      " [ 22 230]]\n",
      "              precision    recall  f1-score   support\n",
      "\n",
      "       False       0.50      0.14      0.21       161\n",
      "        True       0.62      0.91      0.74       252\n",
      "\n",
      "   micro avg       0.61      0.61      0.61       413\n",
      "   macro avg       0.56      0.52      0.48       413\n",
      "weighted avg       0.58      0.61      0.54       413\n",
      "\n"
     ]
    }
   ],
   "source": [
    "from sklearn.svm import SVC\n",
    "myclassifier = SVC(gamma='scale')\n",
    "myclassifier.fit(X_train, y_train)\n",
    "\n",
    "y_pred = myclassifier.predict(X_test)\n",
    "\n",
    "print('\\nHow often do we get it right?\\nConfusion matrix:')\n",
    "print(confusion_matrix(y_test, y_pred))\n",
    "print(classification_report(y_test, y_pred))\n"
   ]
  },
  {
   "cell_type": "code",
   "execution_count": 6,
   "metadata": {
    "tags": [
     "snippet:randomforest"
    ]
   },
   "outputs": [
    {
     "name": "stdout",
     "output_type": "stream",
     "text": [
      "\n",
      "How often do we get it right?\n",
      "Confusion matrix:\n",
      "[[ 64  97]\n",
      " [ 77 175]]\n",
      "              precision    recall  f1-score   support\n",
      "\n",
      "       False       0.45      0.40      0.42       161\n",
      "        True       0.64      0.69      0.67       252\n",
      "\n",
      "   micro avg       0.58      0.58      0.58       413\n",
      "   macro avg       0.55      0.55      0.55       413\n",
      "weighted avg       0.57      0.58      0.57       413\n",
      "\n"
     ]
    }
   ],
   "source": [
    "from sklearn.ensemble import RandomForestClassifier\n",
    "myclassifier = RandomForestClassifier(n_estimators=100)\n",
    "myclassifier.fit(X_train, y_train)\n",
    "\n",
    "y_pred = myclassifier.predict(X_test)\n",
    "\n",
    "print('\\nHow often do we get it right?\\nConfusion matrix:')\n",
    "print(confusion_matrix(y_test, y_pred))\n",
    "print(classification_report(y_test, y_pred))\n"
   ]
  }
 ],
 "metadata": {
  "celltoolbar": "Tags",
  "kernelspec": {
   "display_name": "Python 3",
   "language": "python",
   "name": "python3"
  },
  "language_info": {
   "codemirror_mode": {
    "name": "ipython",
    "version": 3
   },
   "file_extension": ".py",
   "mimetype": "text/x-python",
   "name": "python",
   "nbconvert_exporter": "python",
   "pygments_lexer": "ipython3",
   "version": "3.6.9"
  }
 },
 "nbformat": 4,
 "nbformat_minor": 2
}
