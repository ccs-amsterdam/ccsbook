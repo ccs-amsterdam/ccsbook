{
 "cells": [
  {
   "cell_type": "code",
   "execution_count": 1,
   "metadata": {
    "tags": [
     "snippet:chapter03install",
     "dontrun"
    ]
   },
   "outputs": [
    {
     "name": "stdout",
     "output_type": "stream",
     "text": [
      "Requirement already satisfied: numpy in /usr/lib/python3/dist-packages (1.17.4)\r\n",
      "Requirement already satisfied: pandas in /usr/local/lib/python3.8/dist-packages (1.1.4)\r\n",
      "Requirement already satisfied: python-dateutil>=2.7.3 in /usr/lib/python3/dist-packages (from pandas) (2.7.3)\r\n",
      "Requirement already satisfied: pytz>=2017.2 in /usr/lib/python3/dist-packages (from pandas) (2019.3)\r\n"
     ]
    }
   ],
   "source": [
    "!pip3 install numpy pandas"
   ]
  },
  {
   "cell_type": "code",
   "execution_count": 2,
   "metadata": {
    "tags": [
     "snippet:chapter03libraries"
    ]
   },
   "outputs": [],
   "source": [
    "import numpy as np\n",
    "import pandas as pd"
   ]
  },
  {
   "cell_type": "code",
   "execution_count": 3,
   "metadata": {
    "tags": [
     "snippet:helloworld"
    ]
   },
   "outputs": [
    {
     "name": "stdout",
     "output_type": "stream",
     "text": [
      "Hello world!\n"
     ]
    }
   ],
   "source": [
    "print('Hello world!')"
   ]
  },
  {
   "cell_type": "code",
   "execution_count": 4,
   "metadata": {
    "tags": [
     "snippet:var1"
    ]
   },
   "outputs": [
    {
     "name": "stdout",
     "output_type": "stream",
     "text": [
      "<class 'int'>\n"
     ]
    }
   ],
   "source": [
    "a = 100\n",
    "print(type(a))"
   ]
  },
  {
   "cell_type": "code",
   "execution_count": 5,
   "metadata": {
    "tags": [
     "snippet:var2"
    ]
   },
   "outputs": [
    {
     "name": "stdout",
     "output_type": "stream",
     "text": [
      "200 50 250\n"
     ]
    }
   ],
   "source": [
    "a = 100\n",
    "a = a*2    # equivalent to (shorter) a*=2\n",
    "b = 50\n",
    "c = a + b\n",
    "print(a, b, c)"
   ]
  },
  {
   "cell_type": "code",
   "execution_count": 6,
   "metadata": {
    "tags": [
     "snippet:var3"
    ]
   },
   "outputs": [
    {
     "name": "stdout",
     "output_type": "stream",
     "text": [
      "<class 'int'>\n",
      "<class 'float'>\n",
      "<class 'int'>\n",
      "20\n",
      "<class 'bool'>\n",
      "1\n",
      "0\n"
     ]
    }
   ],
   "source": [
    "d = 20\n",
    "print(type(d))\n",
    "# forcing python to treat 20 as a float\n",
    "d2 = 20.0\n",
    "print(type(d2))\n",
    "\n",
    "e = int(20.7)\n",
    "print(type(e))\n",
    "print(e)\n",
    "\n",
    "f = True\n",
    "print(type(f))\n",
    "print(int(f))\n",
    "print(int(False))"
   ]
  },
  {
   "cell_type": "code",
   "execution_count": 7,
   "metadata": {
    "tags": [
     "snippet:var4"
    ]
   },
   "outputs": [
    {
     "name": "stdout",
     "output_type": "stream",
     "text": [
      "Type of text1: <class 'str'>\n",
      "Are text2 and text3 equal? True\n"
     ]
    }
   ],
   "source": [
    "text1 = \"This is a text\"\n",
    "print(f\"Type of text1: {type(text1)}\")\n",
    "text2 = \"Using 'single' and \\\"double\\\" quotes\"\n",
    "text3 = 'Using \\'single\\' and \"double\" quotes'\n",
    "print(f\"Are text2 and text3 equal? {text2 == text3}\")"
   ]
  },
  {
   "cell_type": "code",
   "execution_count": 8,
   "metadata": {
    "tags": [
     "snippet:var4b"
    ]
   },
   "outputs": [
    {
     "name": "stdout",
     "output_type": "stream",
     "text": [
      "<class 'bytes'>\n",
      "b'This is a text'\n"
     ]
    }
   ],
   "source": [
    "somebytes= text1.encode(\"utf-8\")\n",
    "print(type(somebytes))\n",
    "print(somebytes)"
   ]
  },
  {
   "cell_type": "code",
   "execution_count": 9,
   "metadata": {
    "tags": [
     "snippet:1darray1"
    ]
   },
   "outputs": [
    {
     "name": "stdout",
     "output_type": "stream",
     "text": [
      "<class 'list'>\n",
      "<class 'list'>\n"
     ]
    }
   ],
   "source": [
    "scores = [8, 8, 7, 6, 9, 4, 9, 2, 8, 5]\n",
    "print(type(scores))\n",
    "countries = ['Netherlands', 'Germany', 'Spain']\n",
    "print(type(countries))\n"
   ]
  },
  {
   "cell_type": "code",
   "execution_count": 10,
   "metadata": {
    "tags": [
     "snippet:1darray2"
    ]
   },
   "outputs": [
    {
     "name": "stdout",
     "output_type": "stream",
     "text": [
      "9\n",
      "['8', '5']\n",
      "['8', '8', '7', '6']\n",
      "<class 'list'>\n",
      "[8, 7, 6]\n"
     ]
    }
   ],
   "source": [
    "scores = [\"8\", \"8\", \"7\", \"6\", \"9\", \"4\", \"9\", \"2\", \"8\", \"5\"]\n",
    "\n",
    "print(scores[4])\n",
    "print([scores[0], scores[9]])\n",
    "print(scores[0:4])\n",
    "\n",
    "# taking the first 4 elements from scores and convert them back into numbers\n",
    "# the technique used here is a \"list comprehension\", which we explain in the section on loops and conditions\n",
    "scores_new = [int(e) for e in scores[1:4]]\n",
    "print(type(scores_new))\n",
    "print(scores_new)"
   ]
  },
  {
   "cell_type": "code",
   "execution_count": 11,
   "metadata": {
    "tags": [
     "snippet:1darray3"
    ]
   },
   "outputs": [],
   "source": [
    "# appending a new value to a list\n",
    "scores.append(7)\n",
    "\n",
    "# Of course, we could also store it in a different object instead of overwriting the original list\n",
    "scores4 = scores + [7]\n",
    "\n",
    "# removing an entr\n",
    "del scores[-10]\n",
    "\n",
    "# creating a list containing the values 1,2,3,...20 (or -5, -4, ... 5)\n",
    "list(range(1,21)) \n",
    "list(range(-5,6))    \n",
    "\n",
    "# more advanced: 0, 0.2, 0.4, ... 1.0 \n",
    "# because range only handles integers, we create the integers 0, 2, 4 .. 10 (we start at 0, stop before we reach 11, and take steps of 2) and then divide each value by 10.\n",
    "# the technique used here is a \"list comprehension\", which we explain in the section on loops and conditions\n",
    "my_sequence = [e/10 for e in range(0,11,2)]"
   ]
  },
  {
   "cell_type": "code",
   "execution_count": 12,
   "metadata": {
    "tags": [
     "snippet:1darray4"
    ]
   },
   "outputs": [
    {
     "name": "stdout",
     "output_type": "stream",
     "text": [
      "<class 'list'>\n",
      "4.0\n"
     ]
    }
   ],
   "source": [
    "my_list = [33, 'Twitter', np.sqrt, [1,2,3,4]]\n",
    "print(type(my_list))\n",
    "\n",
    "# this resolves to sqrt(16):\n",
    "print(my_list[2](16))"
   ]
  },
  {
   "cell_type": "code",
   "execution_count": 13,
   "metadata": {
    "tags": [
     "snippet:mutable"
    ]
   },
   "outputs": [
    {
     "name": "stdout",
     "output_type": "stream",
     "text": [
      "[99, 2, 3]\n"
     ]
    }
   ],
   "source": [
    "x = [1,2,3]\n",
    "y = x\n",
    "y[0] = 99\n",
    "print(x)"
   ]
  },
  {
   "cell_type": "code",
   "execution_count": 14,
   "metadata": {
    "tags": [
     "snippet:tuple"
    ]
   },
   "outputs": [
    {
     "name": "stdout",
     "output_type": "stream",
     "text": [
      "<class 'tuple'>\n"
     ]
    }
   ],
   "source": [
    "my_tuple = (1, 2, 3)\n",
    "# Note that you can also omit the parentheses:\n",
    "my_tuple = 1, 2, 3  \n",
    "print(type(my_tuple))"
   ]
  },
  {
   "cell_type": "code",
   "execution_count": 15,
   "metadata": {
    "tags": [
     "snippet:sets"
    ]
   },
   "outputs": [
    {
     "name": "stdout",
     "output_type": "stream",
     "text": [
      "Set a: {3, 4, 5}; b: {1, 2, 3}\n",
      "intersect:  a & b = {3}\n",
      "union:      a | b = {1, 2, 3, 4, 5}\n",
      "difference: a - b = {4, 5}\n"
     ]
    }
   ],
   "source": [
    "a = {3, 4, 5}\n",
    "my_list = [3, 2, 3, 2, 1]\n",
    "b = set(my_list)\n",
    "print(f\"Set a: {a}; b: {b}\")\n",
    "print(f\"intersect:  a & b = {a & b}\")\n",
    "print(f\"union:      a | b = {a | b}\")\n",
    "print(f\"difference: a - b = {a - b}\")\n"
   ]
  },
  {
   "cell_type": "code",
   "execution_count": 16,
   "metadata": {
    "tags": [
     "snippet:1darray5"
    ]
   },
   "outputs": [
    {
     "name": "stdout",
     "output_type": "stream",
     "text": [
      "6 6\n",
      "neutral\n",
      "('positive', 'neutral')\n"
     ]
    },
    {
     "ename": "AttributeError",
     "evalue": "'tuple' object has no attribute 'append'",
     "output_type": "error",
     "traceback": [
      "\u001b[0;31m---------------------------------------------------------------------------\u001b[0m",
      "\u001b[0;31mAttributeError\u001b[0m                            Traceback (most recent call last)",
      "\u001b[0;32m<ipython-input-16-bb9f1c606137>\u001b[0m in \u001b[0;36m<module>\u001b[0;34m\u001b[0m\n\u001b[1;32m     12\u001b[0m \u001b[0;34m\u001b[0m\u001b[0m\n\u001b[1;32m     13\u001b[0m \u001b[0;31m# both of the following will cause an error, because tuples are immutable\u001b[0m\u001b[0;34m\u001b[0m\u001b[0;34m\u001b[0m\u001b[0;34m\u001b[0m\u001b[0m\n\u001b[0;32m---> 14\u001b[0;31m \u001b[0mmy_tuple\u001b[0m\u001b[0;34m.\u001b[0m\u001b[0mappend\u001b[0m\u001b[0;34m(\u001b[0m\u001b[0;36m4\u001b[0m\u001b[0;34m)\u001b[0m\u001b[0;34m\u001b[0m\u001b[0;34m\u001b[0m\u001b[0m\n\u001b[0m\u001b[1;32m     15\u001b[0m \u001b[0mmy_tuple\u001b[0m\u001b[0;34m[\u001b[0m\u001b[0;36m4\u001b[0m\u001b[0;34m]\u001b[0m \u001b[0;34m=\u001b[0m \u001b[0;34m'informative'\u001b[0m\u001b[0;34m\u001b[0m\u001b[0;34m\u001b[0m\u001b[0m\n",
      "\u001b[0;31mAttributeError\u001b[0m: 'tuple' object has no attribute 'append'"
     ]
    }
   ],
   "source": [
    "my_list = [1, 0, -1, 'positive', 'neutral', 'negative']\n",
    "my_tuple = (1, 0, -1, 'positive', 'neutral', 'negative')\n",
    "print(len(my_list), len(my_tuple))\n",
    "\n",
    "# indexing\n",
    "print(my_list[4])\n",
    "print(my_tuple[3:5])\n",
    "\n",
    "#let's add another element, and also change 'neutral' to 'informative'\n",
    "my_list.append('something')\n",
    "my_list[4] = 'informative'\n",
    "\n",
    "# both of the following will cause an error, because tuples are immutable\n",
    "my_tuple.append(4)\n",
    "my_tuple[4] = 'informative'"
   ]
  },
  {
   "cell_type": "code",
   "execution_count": 17,
   "metadata": {
    "tags": [
     "snippet:1darray6"
    ]
   },
   "outputs": [
    {
     "name": "stdout",
     "output_type": "stream",
     "text": [
      "<class 'set'> <class 'set'> <class 'frozenset'>\n"
     ]
    }
   ],
   "source": [
    "colours = set(['blue', 'yellow', 'red'])\n",
    "# or simply:\n",
    "colours2 = {'blue', 'yellow', 'red'}\n",
    "\n",
    "colours3 = frozenset(['blue', 'yellow', 'red'])\n",
    "\n",
    "print(type(colours), type(colours2), type(colours3))"
   ]
  },
  {
   "cell_type": "code",
   "execution_count": 18,
   "metadata": {
    "tags": [
     "snippet:1darray7"
    ]
   },
   "outputs": [
    {
     "name": "stdout",
     "output_type": "stream",
     "text": [
      "[8, 8, 7, 6, 9, 4, 9, 2, 8, 5, 'b']\n",
      "['8' '8' '7' '6' '9' '4' '9' '2' '8' '5' 'b']\n"
     ]
    }
   ],
   "source": [
    "import numpy as np\n",
    "scores_as_list = [8, 8, 7, 6, 9, 4, 9, 2, 8, 5,  'b']\n",
    "print(scores_as_list)\n",
    "scores_as_array = np.array(scores_as_list)\n",
    "print(scores_as_array)"
   ]
  },
  {
   "cell_type": "code",
   "execution_count": 19,
   "metadata": {
    "tags": [
     "snippet:dict"
    ]
   },
   "outputs": [
    {
     "name": "stdout",
     "output_type": "stream",
     "text": [
      "<class 'dict'>\n",
      "Sentiment for positive: 1\n",
      "Grade for A: 4\n",
      "{'A': 4, 'B': 3, 'C': 2, 'D': 1}\n"
     ]
    }
   ],
   "source": [
    "sentiments = {\"positive\" : 1, \"neutral\" : 0, \"negative\" : -1}\n",
    "print(type(sentiments))\n",
    "print(f\"Sentiment for positive: {sentiments['positive']}\")\n",
    "\n",
    "grades =  {}\n",
    "grades['A'] = 4\n",
    "grades['B'] = 3\n",
    "grades['C'] = 2\n",
    "grades['D'] = 1\n",
    "\n",
    "print(f\"Grade for A: {grades['A']}\")\n",
    "print(grades)"
   ]
  },
  {
   "cell_type": "code",
   "execution_count": 20,
   "metadata": {
    "tags": [
     "snippet:2darray"
    ]
   },
   "outputs": [
    {
     "name": "stdout",
     "output_type": "stream",
     "text": [
      "[[1, 2, 3], [4, 5, 6], [7, 8, 9]]\n",
      "[[1 2 3]\n",
      " [4 5 6]\n",
      " [7 8 9]]\n"
     ]
    }
   ],
   "source": [
    "matrix = [[1, 2, 3], [4, 5, 6], [7,8,9]]\n",
    "print(matrix)\n",
    "\n",
    "array2d = np.array(matrix)\n",
    "print(array2d)"
   ]
  },
  {
   "cell_type": "code",
   "execution_count": 21,
   "metadata": {
    "tags": [
     "snippet:dataframe1"
    ]
   },
   "outputs": [
    {
     "name": "stdout",
     "output_type": "stream",
     "text": [
      "   age    countries  living_abroad\n",
      "0   38  Netherlands          False\n",
      "1   36      Germany           True\n",
      "2   39        Spain           True\n"
     ]
    }
   ],
   "source": [
    "authors = pd.DataFrame({'age': [38, 36, 39], 'countries': ['Netherlands', 'Germany', 'Spain'], 'living_abroad': [False, True, True]})\n",
    "print(authors)"
   ]
  },
  {
   "cell_type": "code",
   "execution_count": 22,
   "metadata": {
    "tags": [
     "snippet:functions"
    ]
   },
   "outputs": [
    {
     "name": "stdout",
     "output_type": "stream",
     "text": [
      "6.0\n",
      "2.4\n",
      "6.0\n",
      "4\n"
     ]
    }
   ],
   "source": [
    "#This script in Python creates two simple functions to estimate the 60% of any given number                               \n",
    "\n",
    "#The first function computes the 60% always                                                                               \n",
    "def por_60(x):\n",
    "  return x*0.6\n",
    "print (por_60(10))\n",
    "print (por_60(4))\n",
    "\n",
    "#The second function computes the 60% ONLY IF the argument is above 5,                                                    \n",
    "# and the other cases the function returns the very same argument\n",
    "def por_60_cond(x):\n",
    "  if x>5:\n",
    "    return x*0.6\n",
    "  else:\n",
    "    return x\n",
    "print (por_60_cond(10))\n",
    "print (por_60_cond(4))"
   ]
  },
  {
   "cell_type": "code",
   "execution_count": 23,
   "metadata": {
    "tags": [
     "snippet:functions2"
    ]
   },
   "outputs": [
    {
     "name": "stdout",
     "output_type": "stream",
     "text": [
      "3\n",
      "4\n",
      "5\n",
      "4.2\n"
     ]
    }
   ],
   "source": [
    "#Create the list with the scores and then apply a simple loop\n",
    "scores = [3,4,5,7]\n",
    "for x in scores:\n",
    "  print(por_60_cond(x))"
   ]
  },
  {
   "cell_type": "code",
   "execution_count": 24,
   "metadata": {
    "tags": [
     "snippet:generators"
    ]
   },
   "outputs": [
    {
     "name": "stdout",
     "output_type": "stream",
     "text": [
      "As a list:\n",
      "1225\n",
      "4\n",
      "215296\n",
      "16\n",
      "<class 'list'>\n",
      "The list has 4 entries\n",
      "\n",
      "As a generator:\n",
      "1225\n",
      "4\n",
      "215296\n",
      "16\n",
      "<class 'generator'>\n"
     ]
    },
    {
     "ename": "TypeError",
     "evalue": "object of type 'generator' has no len()",
     "output_type": "error",
     "traceback": [
      "\u001b[0;31m---------------------------------------------------------------------------\u001b[0m",
      "\u001b[0;31mTypeError\u001b[0m                                 Traceback (most recent call last)",
      "\u001b[0;32m<ipython-input-24-0a617923b2d1>\u001b[0m in \u001b[0;36m<module>\u001b[0;34m\u001b[0m\n\u001b[1;32m     26\u001b[0m \u001b[0mprint\u001b[0m\u001b[0;34m(\u001b[0m\u001b[0mtype\u001b[0m\u001b[0;34m(\u001b[0m\u001b[0mmysquares\u001b[0m\u001b[0;34m)\u001b[0m\u001b[0;34m)\u001b[0m\u001b[0;34m\u001b[0m\u001b[0;34m\u001b[0m\u001b[0m\n\u001b[1;32m     27\u001b[0m \u001b[0;31m# Asking for the length of a generator throws an error:\u001b[0m\u001b[0;34m\u001b[0m\u001b[0;34m\u001b[0m\u001b[0;34m\u001b[0m\u001b[0m\n\u001b[0;32m---> 28\u001b[0;31m \u001b[0mprint\u001b[0m\u001b[0;34m(\u001b[0m\u001b[0;34mf\"The generator has {len(mysquares)} entries\"\u001b[0m\u001b[0;34m)\u001b[0m\u001b[0;34m\u001b[0m\u001b[0;34m\u001b[0m\u001b[0m\n\u001b[0m",
      "\u001b[0;31mTypeError\u001b[0m: object of type 'generator' has no len()"
     ]
    }
   ],
   "source": [
    "mylist = [35,2,464,4]\n",
    "\n",
    "def square1(somelist):\n",
    "    listofsquares = []\n",
    "    for i in somelist:\n",
    "        listofsquares.append(i**2)\n",
    "    return(listofsquares)\n",
    "\n",
    "def square2(somelist):\n",
    "    for i in somelist:\n",
    "        yield i**2\n",
    "\n",
    "print(\"As a list:\")\n",
    "mysquares = square1(mylist)\n",
    "for mysquare in mysquares:\n",
    "    print(mysquare)\n",
    "print(type(mysquares))\n",
    "print(f\"The list has {len(mysquares)} entries\")\n",
    "\n",
    "    \n",
    "print(\"\\nAs a generator:\")\n",
    "\n",
    "mysquares = square2(mylist)\n",
    "for mysquare in mysquares:\n",
    "    print(mysquare)\n",
    "print(type(mysquares))\n",
    "# Asking for the length of a generator throws an error:\n",
    "print(f\"The generator has {len(mysquares)} entries\")  "
   ]
  },
  {
   "cell_type": "code",
   "execution_count": 25,
   "metadata": {
    "tags": [
     "snippet:forloop"
    ]
   },
   "outputs": [
    {
     "name": "stdout",
     "output_type": "stream",
     "text": [
      "manual results:\n",
      "40\n",
      "44\n",
      "33\n",
      "for-loop results:\n",
      "40\n",
      "44\n",
      "33\n"
     ]
    }
   ],
   "source": [
    "#This script creates in Python a list of headlines and shows two ways to count the number of characters of each string\n",
    "headlines = ('US condemns South new terrorist  attacks', 'New elections forces UK to go back to the UE', 'Venezuelan president is dismissed')\n",
    "#The first way is manual:\n",
    "print('manual results:')\n",
    "print(len(headlines[0]))\n",
    "print(len(headlines[1]))\n",
    "print(len(headlines[2]))\n",
    "#and the second is using a for-loop\n",
    "print('for-loop results:')\n",
    "for x in headlines:\n",
    "    print(len(x))"
   ]
  },
  {
   "cell_type": "code",
   "execution_count": 26,
   "metadata": {
    "tags": [
     "snippet:listcomprehensions"
    ]
   },
   "outputs": [
    {
     "name": "stdout",
     "output_type": "stream",
     "text": [
      "[40, 44, 33]\n",
      "[40, 44, 33]\n"
     ]
    }
   ],
   "source": [
    "len_headlines= [len(x) for x in headlines]\n",
    "print(len_headlines)\n",
    "\n",
    "# The code above is a really useful shorthand and considered very 'pythonic'.\n",
    "# It is equivalent to the more verbose code below:\n",
    "len_headlines = []\n",
    "for x in headlines:\n",
    "    len_headlines.append(len(x))\n",
    "print(len_headlines)"
   ]
  },
  {
   "cell_type": "code",
   "execution_count": 27,
   "metadata": {
    "tags": [
     "snippet:if1"
    ]
   },
   "outputs": [
    {
     "name": "stdout",
     "output_type": "stream",
     "text": [
      "Venezuelan president is dismissed\n"
     ]
    }
   ],
   "source": [
    "#Print the headline if it is < 40 characters\n",
    "for x in headlines:                                                                                                       \n",
    "  if len(x)<40:                                                                                                           \n",
    "    print(x)"
   ]
  },
  {
   "cell_type": "code",
   "execution_count": 28,
   "metadata": {
    "tags": [
     "snippet:if2"
    ]
   },
   "outputs": [
    {
     "name": "stdout",
     "output_type": "stream",
     "text": [
      "NaN\n",
      "What a coincidence!\n",
      "Venezuelan president is dismissed\n"
     ]
    }
   ],
   "source": [
    "#Print the headline if it is < 40 characters and print 'NaN' in the other cases\n",
    "for x in headlines:\n",
    "  if len(x)<40:\n",
    "    print(x)\n",
    "  elif len(x) == 44:\n",
    "    print(\"What a coincidence!\")\n",
    "  else :\n",
    "    print ('NaN')\n"
   ]
  },
  {
   "cell_type": "code",
   "execution_count": null,
   "metadata": {},
   "outputs": [],
   "source": []
  }
 ],
 "metadata": {
  "celltoolbar": "Tags",
  "kernelspec": {
   "display_name": "Python 3",
   "language": "python",
   "name": "python3"
  },
  "language_info": {
   "codemirror_mode": {
    "name": "ipython",
    "version": 3
   },
   "file_extension": ".py",
   "mimetype": "text/x-python",
   "name": "python",
   "nbconvert_exporter": "python",
   "pygments_lexer": "ipython3",
   "version": "3.8.5"
  }
 },
 "nbformat": 4,
 "nbformat_minor": 2
}
