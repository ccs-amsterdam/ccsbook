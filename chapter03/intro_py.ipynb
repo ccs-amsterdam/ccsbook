{
 "cells": [
  {
   "cell_type": "code",
   "execution_count": 1,
   "metadata": {
    "tags": [
     "snippet:chapter03install",
     "dontrun"
    ]
   },
   "outputs": [
    {
     "name": "stdout",
     "output_type": "stream",
     "text": [
      "Requirement already satisfied: numpy in /home/wva/.local/lib/python3.8/site-packages (1.19.4)\n",
      "Requirement already satisfied: pandas in /home/wva/.local/lib/python3.8/site-packages (1.1.4)\n",
      "Requirement already satisfied: pytz>=2017.2 in /usr/lib/python3/dist-packages (from pandas) (2019.3)\n",
      "Requirement already satisfied: python-dateutil>=2.7.3 in /usr/lib/python3/dist-packages (from pandas) (2.7.3)\n"
     ]
    }
   ],
   "source": [
    "!pip3 install numpy pandas"
   ]
  },
  {
   "cell_type": "code",
   "execution_count": 2,
   "metadata": {
    "tags": [
     "snippet:chapter03libraries"
    ]
   },
   "outputs": [],
   "source": [
    "import numpy as np\n",
    "import pandas as pd"
   ]
  },
  {
   "cell_type": "code",
   "execution_count": 3,
   "metadata": {
    "tags": [
     "snippet:var1"
    ]
   },
   "outputs": [
    {
     "name": "stdout",
     "output_type": "stream",
     "text": [
      "<class 'int'>\n"
     ]
    }
   ],
   "source": [
    "a = 100\n",
    "print(type(a))"
   ]
  },
  {
   "cell_type": "code",
   "execution_count": 4,
   "metadata": {
    "tags": [
     "snippet:var2"
    ]
   },
   "outputs": [
    {
     "name": "stdout",
     "output_type": "stream",
     "text": [
      "200 50 250\n"
     ]
    }
   ],
   "source": [
    "a = 100\n",
    "a = a*2    # equivalent to (shorter) a*=2\n",
    "b = 50\n",
    "c = a + b\n",
    "print(a, b, c)"
   ]
  },
  {
   "cell_type": "code",
   "execution_count": 5,
   "metadata": {
    "tags": [
     "snippet:var3"
    ]
   },
   "outputs": [
    {
     "name": "stdout",
     "output_type": "stream",
     "text": [
      "<class 'int'>\n",
      "<class 'float'>\n",
      "<class 'int'>\n",
      "20\n",
      "<class 'bool'>\n",
      "1\n",
      "0\n"
     ]
    }
   ],
   "source": [
    "d = 20\n",
    "print(type(d))\n",
    "# forcing python to treat 20 as a float\n",
    "d2 = 20.0\n",
    "print(type(d2))\n",
    "\n",
    "e = int(20.7)\n",
    "print(type(e))\n",
    "print(e)\n",
    "\n",
    "f = True\n",
    "print(type(f))\n",
    "print(int(f))\n",
    "print(int(False))"
   ]
  },
  {
   "cell_type": "code",
   "execution_count": 6,
   "metadata": {
    "tags": [
     "snippet:var4"
    ]
   },
   "outputs": [
    {
     "name": "stdout",
     "output_type": "stream",
     "text": [
      "Type of text1: <class 'str'>\n",
      "Are text2 and text3 equal?False\n"
     ]
    }
   ],
   "source": [
    "text1 = \"This is a text\"\n",
    "print(f\"Type of text1: {type(text1)}\")\n",
    "text2 = \"Using 'single' and \\\"double\\\" quotes\"\n",
    "text3 = 'Using \\\"single\\\" and \"double\" quotes'\n",
    "print(f\"Are text2 and text3 equal?{text2==text3}\")"
   ]
  },
  {
   "cell_type": "code",
   "execution_count": 7,
   "metadata": {
    "tags": [
     "snippet:var4b"
    ]
   },
   "outputs": [
    {
     "name": "stdout",
     "output_type": "stream",
     "text": [
      "<class 'bytes'>\n",
      "b'This is a text'\n"
     ]
    }
   ],
   "source": [
    "somebytes= text1.encode(\"utf-8\")\n",
    "print(type(somebytes))\n",
    "print(somebytes)"
   ]
  },
  {
   "cell_type": "code",
   "execution_count": 8,
   "metadata": {
    "tags": [
     "snippet:1darray1"
    ]
   },
   "outputs": [
    {
     "name": "stdout",
     "output_type": "stream",
     "text": [
      "<class 'list'>\n",
      "<class 'list'>\n"
     ]
    }
   ],
   "source": [
    "scores = [8, 8, 7, 6, 9, 4, 9, 2, 8, 5]\n",
    "print(type(scores))\n",
    "countries = [\"Netherlands\", \"Germany\", \"Spain\"]\n",
    "print(type(countries))\n"
   ]
  },
  {
   "cell_type": "code",
   "execution_count": 9,
   "metadata": {
    "tags": [
     "snippet:1darray2"
    ]
   },
   "outputs": [
    {
     "name": "stdout",
     "output_type": "stream",
     "text": [
      "9\n",
      "['8', '5']\n",
      "['8', '8', '7', '6']\n",
      "<class 'list'>\n",
      "[8, 7, 6]\n"
     ]
    }
   ],
   "source": [
    "scores = [\"8\",\"8\",\"7\",\"6\",\"9\",\"4\",\"9\",\"2\",\"8\",\"5\"]\n",
    "\n",
    "print(scores[4])\n",
    "print([scores[0], scores[9]])\n",
    "print(scores[0:4])\n",
    "\n",
    "# Convert the first 4 scores into numbers\n",
    "# Note the use of a list comprehension [.. for ..]\n",
    "# This will be explained in the section on loops\n",
    "scores_new = [int(e) for e in scores[1:4]]\n",
    "print(type(scores_new))\n",
    "print(scores_new)"
   ]
  },
  {
   "cell_type": "code",
   "execution_count": 10,
   "metadata": {
    "tags": [
     "snippet:1darray3"
    ]
   },
   "outputs": [],
   "source": [
    "# Appending a new value to a list:\n",
    "scores.append(7)\n",
    "\n",
    "# Create a new list instead of overwriting:\n",
    "scores4 = scores + [7]\n",
    "\n",
    "# Removing an entry:\n",
    "del scores[-10]\n",
    "\n",
    "# Creating a list containing various ranges\n",
    "list(range(1,21)) \n",
    "list(range(-5,6))    \n",
    "\n",
    "# A range of fractions: 0, 0.2, 0.4, ... 1.0 \n",
    "# Because range only handles integers, we first\n",
    "#   make a range of 0, 2, etc, and divide by 10\n",
    "my_sequence = [e/10 for e in range(0,11,2)]"
   ]
  },
  {
   "cell_type": "code",
   "execution_count": 11,
   "metadata": {
    "tags": [
     "snippet:1darray4"
    ]
   },
   "outputs": [
    {
     "name": "stdout",
     "output_type": "stream",
     "text": [
      "<class 'list'>\n",
      "4.0\n"
     ]
    }
   ],
   "source": [
    "my_list = [33, \"Twitter\", np.sqrt, [1,2,3,4]]\n",
    "print(type(my_list))\n",
    "\n",
    "# this resolves to sqrt(16):\n",
    "print(my_list[2](16))"
   ]
  },
  {
   "cell_type": "code",
   "execution_count": 12,
   "metadata": {
    "tags": [
     "snippet:mutable"
    ]
   },
   "outputs": [
    {
     "name": "stdout",
     "output_type": "stream",
     "text": [
      "[99, 2, 3]\n"
     ]
    }
   ],
   "source": [
    "x = [1,2,3]\n",
    "y = x\n",
    "y[0] = 99\n",
    "print(x)"
   ]
  },
  {
   "cell_type": "code",
   "execution_count": 13,
   "metadata": {
    "tags": [
     "snippet:sets"
    ]
   },
   "outputs": [
    {
     "name": "stdout",
     "output_type": "stream",
     "text": [
      "Set a: {3, 4, 5}; b: {1, 2, 3}\n",
      "intersect:  a & b = {3}\n",
      "union:      a | b = {1, 2, 3, 4, 5}\n",
      "difference: a - b = {4, 5}\n"
     ]
    }
   ],
   "source": [
    "a = {3, 4, 5}\n",
    "my_list = [3, 2, 3, 2, 1]\n",
    "b = set(my_list)\n",
    "print(f\"Set a: {a}; b: {b}\")\n",
    "print(f\"intersect:  a & b = {a & b}\")\n",
    "print(f\"union:      a | b = {a | b}\")\n",
    "print(f\"difference: a - b = {a - b}\")\n"
   ]
  },
  {
   "cell_type": "code",
   "execution_count": 14,
   "metadata": {
    "tags": [
     "snippet:dict"
    ]
   },
   "outputs": [
    {
     "name": "stdout",
     "output_type": "stream",
     "text": [
      "<class 'dict'>\n",
      "Sentiment for positive: 1\n",
      "Grade for A: 4\n",
      "{'A': 4, 'B': 3, 'C': 2, 'D': 1}\n"
     ]
    }
   ],
   "source": [
    "sentiments = {\"positive\":1, \"neutral\" : 0, \n",
    "              \"negative\" : -1}\n",
    "print(type(sentiments))\n",
    "print(\"Sentiment for positive:\", \n",
    "      sentiments[\"positive\"])\n",
    "\n",
    "grades =  {}\n",
    "grades[\"A\"] = 4\n",
    "grades[\"B\"] = 3\n",
    "grades[\"C\"] = 2\n",
    "grades[\"D\"] = 1\n",
    "\n",
    "print(f\"Grade for A: {grades['A']}\")\n",
    "print(grades)"
   ]
  },
  {
   "cell_type": "code",
   "execution_count": 15,
   "metadata": {
    "tags": [
     "snippet:2darray"
    ]
   },
   "outputs": [
    {
     "name": "stdout",
     "output_type": "stream",
     "text": [
      "[[1, 2, 3], [4, 5, 6], [7, 8, 9]]\n",
      "[[1 2 3]\n",
      " [4 5 6]\n",
      " [7 8 9]]\n"
     ]
    }
   ],
   "source": [
    "matrix = [[1, 2, 3], [4, 5, 6], [7,8,9]]\n",
    "print(matrix)\n",
    "\n",
    "array2d = np.array(matrix)\n",
    "print(array2d)"
   ]
  },
  {
   "cell_type": "code",
   "execution_count": 16,
   "metadata": {
    "tags": [
     "snippet:dataframe1"
    ]
   },
   "outputs": [
    {
     "name": "stdout",
     "output_type": "stream",
     "text": [
      "   age    countries  living_abroad\n",
      "0   38  Netherlands          False\n",
      "1   36      Germany           True\n",
      "2   39        Spain           True\n"
     ]
    }
   ],
   "source": [
    "authors = pd.DataFrame({\"age\": [38, 36, 39], \n",
    "  \"countries\": [\"Netherlands\",\"Germany\",\"Spain\"], \n",
    "  \"living_abroad\": [False, True, True]})\n",
    "print(authors)"
   ]
  },
  {
   "cell_type": "code",
   "execution_count": 1,
   "metadata": {},
   "outputs": [],
   "source": [
    "sequence=statement1=statement2=statement3=range(1)"
   ]
  },
  {
   "cell_type": "code",
   "execution_count": 2,
   "metadata": {
    "tags": [
     "snippet:forsyntax",
     "dontrun"
    ]
   },
   "outputs": [],
   "source": [
    "for val in sequence:\n",
    "    statement1\n",
    "    statement2\n",
    "    statement3 "
   ]
  },
  {
   "cell_type": "code",
   "execution_count": 17,
   "metadata": {
    "tags": [
     "snippet:forloop"
    ]
   },
   "outputs": [
    {
     "name": "stdout",
     "output_type": "stream",
     "text": [
      "manual results:\n",
      "29\n",
      "44\n",
      "33\n",
      "for-loop results:\n",
      "29\n",
      "44\n",
      "33\n"
     ]
    }
   ],
   "source": [
    "headlines = [\"US condemns terrorist attacks\", \n",
    "  \"New elections forces UK to go back to the UE\",\n",
    "  \"Venezuelan president is dismissed\"]\n",
    "# Manually counting each element\n",
    "print(\"manual results:\")\n",
    "print(len(headlines[0]))\n",
    "print(len(headlines[1]))\n",
    "print(len(headlines[2]))\n",
    "#and the second is using a for-loop\n",
    "print(\"for-loop results:\")\n",
    "for x in headlines:\n",
    "    print(len(x))"
   ]
  },
  {
   "cell_type": "code",
   "execution_count": 18,
   "metadata": {
    "tags": [
     "snippet:listcomprehensions"
    ]
   },
   "outputs": [
    {
     "name": "stdout",
     "output_type": "stream",
     "text": [
      "[29, 44, 33]\n",
      "[29, 44, 33]\n"
     ]
    }
   ],
   "source": [
    "len_headlines= [len(x) for x in headlines]\n",
    "print(len_headlines)\n",
    "\n",
    "# Note: the \"list comprehension\" above is\n",
    "#   equivalent to the more verbose code below:\n",
    "len_headlines = []\n",
    "for x in headlines:\n",
    "    len_headlines.append(len(x))\n",
    "print(len_headlines)"
   ]
  },
  {
   "cell_type": "code",
   "execution_count": 3,
   "metadata": {},
   "outputs": [],
   "source": [
    "condition=other_condition=True"
   ]
  },
  {
   "cell_type": "code",
   "execution_count": 5,
   "metadata": {
    "tags": [
     "snippet:ifsyntax",
     "dontrun"
    ]
   },
   "outputs": [],
   "source": [
    "if condition:\n",
    "    statement1\n",
    "elif other_condition:\n",
    "    statement2\n",
    "else:\n",
    "    statement3"
   ]
  },
  {
   "cell_type": "code",
   "execution_count": 19,
   "metadata": {
    "tags": [
     "snippet:if1"
    ]
   },
   "outputs": [
    {
     "name": "stdout",
     "output_type": "stream",
     "text": [
      "US condemns terrorist attacks\n",
      "Venezuelan president is dismissed\n"
     ]
    }
   ],
   "source": [
    "for x in headlines:\n",
    "  if len(x)<40:\n",
    "    print(x)"
   ]
  },
  {
   "cell_type": "code",
   "execution_count": 20,
   "metadata": {
    "tags": [
     "snippet:if2"
    ]
   },
   "outputs": [
    {
     "name": "stdout",
     "output_type": "stream",
     "text": [
      "US condemns terrorist attacks\n",
      "What a coincidence!\n",
      "Too low\n"
     ]
    }
   ],
   "source": [
    "for x in headlines:\n",
    "  if len(x)<30:\n",
    "    print(x)\n",
    "  elif len(x) == 44:\n",
    "    print(\"What a coincidence!\")\n",
    "  else :\n",
    "    print (\"Too low\")\n"
   ]
  },
  {
   "cell_type": "code",
   "execution_count": 6,
   "metadata": {},
   "outputs": [],
   "source": [
    "statements=arg1=arg2=return_value=1"
   ]
  },
  {
   "cell_type": "code",
   "execution_count": 7,
   "metadata": {
    "tags": [
     "snippet:functionsyntax",
     "dontrun"
    ]
   },
   "outputs": [],
   "source": [
    "def f(par1, par2=0):\n",
    "    statements\n",
    "    return return_value   \n",
    "\n",
    "result = f(arg1, arg2)\n",
    "result = f(par1=arg1, par2=arg2)\n",
    "result = f(arg1, par2=arg2)\n",
    "result = f(arg1)"
   ]
  },
  {
   "cell_type": "code",
   "execution_count": 21,
   "metadata": {
    "tags": [
     "snippet:functions"
    ]
   },
   "outputs": [
    {
     "name": "stdout",
     "output_type": "stream",
     "text": [
      "6.0\n",
      "2.4\n",
      "6.0\n",
      "4\n"
     ]
    }
   ],
   "source": [
    "#The first function just computes 60% of the value\n",
    "def perc_60(x):\n",
    "  return x*0.6\n",
    "print(perc_60(10))\n",
    "print(perc_60(4))\n",
    "\n",
    "# The second function only computes 60% it the\n",
    "#  value is bigger than 5\n",
    "def perc_60_cond(x):\n",
    "  if x>5:\n",
    "    return x*0.6\n",
    "  else:\n",
    "    return x\n",
    "print(perc_60_cond(10))\n",
    "print(perc_60_cond(4))"
   ]
  },
  {
   "cell_type": "code",
   "execution_count": 22,
   "metadata": {
    "tags": [
     "snippet:functions2"
    ]
   },
   "outputs": [
    {
     "name": "stdout",
     "output_type": "stream",
     "text": [
      "3\n",
      "4\n",
      "5\n",
      "4.2\n"
     ]
    }
   ],
   "source": [
    "# Apply the function in a for-loop\n",
    "scores = [3,4,5,7]\n",
    "for x in scores:\n",
    "  print(perc_60_cond(x))"
   ]
  },
  {
   "cell_type": "code",
   "execution_count": 23,
   "metadata": {
    "tags": [
     "snippet:generators"
    ]
   },
   "outputs": [
    {
     "name": "stdout",
     "output_type": "stream",
     "text": [
      "As a list:\n",
      "1225\n",
      "4\n",
      "215296\n",
      "16\n",
      "<class 'list'>\n",
      "The list has 4 entries\n",
      "\n",
      "As a generator:\n",
      "1225\n",
      "4\n",
      "215296\n",
      "16\n",
      "<class 'generator'>\n"
     ]
    },
    {
     "ename": "TypeError",
     "evalue": "object of type 'generator' has no len()",
     "output_type": "error",
     "traceback": [
      "\u001b[0;31m---------------------------------------------------------------------------\u001b[0m",
      "\u001b[0;31mTypeError\u001b[0m                                 Traceback (most recent call last)",
      "\u001b[0;32m<ipython-input-23-20ea21b54243>\u001b[0m in \u001b[0;36m<module>\u001b[0;34m\u001b[0m\n\u001b[1;32m     26\u001b[0m \u001b[0mprint\u001b[0m\u001b[0;34m(\u001b[0m\u001b[0mtype\u001b[0m\u001b[0;34m(\u001b[0m\u001b[0mmysquares\u001b[0m\u001b[0;34m)\u001b[0m\u001b[0;34m)\u001b[0m\u001b[0;34m\u001b[0m\u001b[0;34m\u001b[0m\u001b[0m\n\u001b[1;32m     27\u001b[0m \u001b[0;31m# This throws an error (generators have no length)\u001b[0m\u001b[0;34m\u001b[0m\u001b[0;34m\u001b[0m\u001b[0;34m\u001b[0m\u001b[0m\n\u001b[0;32m---> 28\u001b[0;31m \u001b[0mprint\u001b[0m\u001b[0;34m(\u001b[0m\u001b[0;34mf\"mysquares has {len(mysquares)} entries\"\u001b[0m\u001b[0;34m)\u001b[0m\u001b[0;34m\u001b[0m\u001b[0;34m\u001b[0m\u001b[0m\n\u001b[0m",
      "\u001b[0;31mTypeError\u001b[0m: object of type 'generator' has no len()"
     ]
    }
   ],
   "source": [
    "mylist = [35,2,464,4]\n",
    "\n",
    "def square1(somelist):\n",
    "    listofsquares = []\n",
    "    for i in somelist:\n",
    "        listofsquares.append(i**2)\n",
    "    return(listofsquares)\n",
    "\n",
    "def square2(somelist):\n",
    "    for i in somelist:\n",
    "        yield i**2\n",
    "\n",
    "print(\"As a list:\")\n",
    "mysquares = square1(mylist)\n",
    "for mysquare in mysquares:\n",
    "    print(mysquare)\n",
    "print(type(mysquares))\n",
    "print(f\"The list has {len(mysquares)} entries\")\n",
    "\n",
    "    \n",
    "print(\"\\nAs a generator:\")\n",
    "\n",
    "mysquares = square2(mylist)\n",
    "for mysquare in mysquares:\n",
    "    print(mysquare)\n",
    "print(type(mysquares))\n",
    "# This throws an error (generators have no length)\n",
    "print(f\"mysquares has {len(mysquares)} entries\")  "
   ]
  }
 ],
 "metadata": {
  "celltoolbar": "Tags",
  "kernelspec": {
   "display_name": "Python 3",
   "language": "python",
   "name": "python3"
  },
  "language_info": {
   "codemirror_mode": {
    "name": "ipython",
    "version": 3
   },
   "file_extension": ".py",
   "mimetype": "text/x-python",
   "name": "python",
   "nbconvert_exporter": "python",
   "pygments_lexer": "ipython3",
   "version": "3.8.10"
  }
 },
 "nbformat": 4,
 "nbformat_minor": 4
}
