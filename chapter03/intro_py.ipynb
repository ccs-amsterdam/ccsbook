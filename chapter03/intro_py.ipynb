{
 "cells": [
  {
   "cell_type": "code",
   "execution_count": 1,
   "metadata": {
    "tags": [
     "snippet:helloworld"
    ]
   },
   "outputs": [
    {
     "name": "stdout",
     "output_type": "stream",
     "text": [
      "Hello world!\n"
     ]
    }
   ],
   "source": [
    "print('Hello world!')"
   ]
  },
  {
   "cell_type": "code",
   "execution_count": 2,
   "metadata": {
    "tags": [
     "snippet:importtweepy"
    ]
   },
   "outputs": [
    {
     "ename": "ModuleNotFoundError",
     "evalue": "No module named 'tweepy'",
     "output_type": "error",
     "traceback": [
      "\u001b[0;31m---------------------------------------------------------------------------\u001b[0m",
      "\u001b[0;31mModuleNotFoundError\u001b[0m                       Traceback (most recent call last)",
      "\u001b[0;32m<ipython-input-2-f5e4f2180e08>\u001b[0m in \u001b[0;36m<module>\u001b[0;34m\u001b[0m\n\u001b[0;32m----> 1\u001b[0;31m \u001b[0;32mimport\u001b[0m \u001b[0mtweepy\u001b[0m\u001b[0;34m\u001b[0m\u001b[0;34m\u001b[0m\u001b[0m\n\u001b[0m",
      "\u001b[0;31mModuleNotFoundError\u001b[0m: No module named 'tweepy'"
     ]
    }
   ],
   "source": [
    "import tweepy"
   ]
  },
  {
   "cell_type": "code",
   "execution_count": 9,
   "metadata": {
    "tags": [
     "snippet:var1"
    ]
   },
   "outputs": [
    {
     "name": "stdout",
     "output_type": "stream",
     "text": [
      "<class 'int'>\n"
     ]
    }
   ],
   "source": [
    "a = 100\n",
    "print(type(a))"
   ]
  },
  {
   "cell_type": "code",
   "execution_count": 10,
   "metadata": {
    "tags": [
     "snippet:var2"
    ]
   },
   "outputs": [
    {
     "name": "stdout",
     "output_type": "stream",
     "text": [
      "200\n"
     ]
    }
   ],
   "source": [
    "a = a*2\n",
    "b = 50\n",
    "c = a + b\n",
    "print(a)"
   ]
  },
  {
   "cell_type": "code",
   "execution_count": 21,
   "metadata": {
    "tags": [
     "snippet:var3"
    ]
   },
   "outputs": [
    {
     "name": "stdout",
     "output_type": "stream",
     "text": [
      "<class 'int'>\n",
      "<class 'float'>\n",
      "<class 'int'>\n",
      "20\n",
      "<class 'bool'>\n",
      "1\n",
      "0\n"
     ]
    }
   ],
   "source": [
    "d = 20\n",
    "print(type(d))\n",
    "# forcing python to ctreat 20 as a float\n",
    "d2 = 20.0\n",
    "print(type(d2))\n",
    "\n",
    "e = int(20.7)\n",
    "print(type(e))\n",
    "print(e)\n",
    "\n",
    "f = True\n",
    "print(type(f))\n",
    "print(int(f))\n",
    "print(int(False))"
   ]
  },
  {
   "cell_type": "code",
   "execution_count": 28,
   "metadata": {
    "tags": [
     "snippet:var4"
    ]
   },
   "outputs": [
    {
     "name": "stdout",
     "output_type": "stream",
     "text": [
      "<class 'str'>\n",
      "<class 'bytes'>\n",
      "'Hi!' said he.\n",
      "\"Hi!\" said he.\n"
     ]
    }
   ],
   "source": [
    "sometext = \"I like Python!\"\n",
    "print(type(sometext))\n",
    "somebytes = b\"I like Python!\"\n",
    "print(type(somebytes))\n",
    "\n",
    "print(\"'Hi!' said he.\")\n",
    "print('\"Hi!\" said he.')"
   ]
  },
  {
   "cell_type": "code",
   "execution_count": 39,
   "metadata": {
    "tags": [
     "snippet:1darray5"
    ]
   },
   "outputs": [
    {
     "name": "stdout",
     "output_type": "stream",
     "text": [
      "6 6\n",
      "neutral\n",
      "('positive', 'neutral')\n"
     ]
    },
    {
     "ename": "AttributeError",
     "evalue": "'tuple' object has no attribute 'append'",
     "output_type": "error",
     "traceback": [
      "\u001b[0;31m---------------------------------------------------------------------------\u001b[0m",
      "\u001b[0;31mAttributeError\u001b[0m                            Traceback (most recent call last)",
      "\u001b[0;32m<ipython-input-39-55348b93fe1b>\u001b[0m in \u001b[0;36m<module>\u001b[0;34m\u001b[0m\n\u001b[1;32m     14\u001b[0m \u001b[0;34m\u001b[0m\u001b[0m\n\u001b[1;32m     15\u001b[0m \u001b[0;31m# both of the following will cause an error, because tuples are immutable\u001b[0m\u001b[0;34m\u001b[0m\u001b[0;34m\u001b[0m\u001b[0;34m\u001b[0m\u001b[0m\n\u001b[0;32m---> 16\u001b[0;31m \u001b[0mmy_tuple\u001b[0m\u001b[0;34m.\u001b[0m\u001b[0mappend\u001b[0m\u001b[0;34m(\u001b[0m\u001b[0;36m4\u001b[0m\u001b[0;34m)\u001b[0m\u001b[0;34m\u001b[0m\u001b[0;34m\u001b[0m\u001b[0m\n\u001b[0m\u001b[1;32m     17\u001b[0m \u001b[0mmy_tuple\u001b[0m\u001b[0;34m[\u001b[0m\u001b[0;36m4\u001b[0m\u001b[0;34m]\u001b[0m \u001b[0;34m=\u001b[0m \u001b[0;34m'informative'\u001b[0m\u001b[0;34m\u001b[0m\u001b[0;34m\u001b[0m\u001b[0m\n",
      "\u001b[0;31mAttributeError\u001b[0m: 'tuple' object has no attribute 'append'"
     ]
    }
   ],
   "source": [
    "my_list = [1, 0, -1, 'positive', 'neutral', 'negative']\n",
    "my_tuple = (1, 0, -1, 'positive', 'neutral', 'negative')\n",
    "print(len(my_list), len(my_tuple))\n",
    "\n",
    "# indexing\n",
    "print(my_list[4])\n",
    "print(my_tuple[3:5])\n",
    "\n",
    "#let's add another element, and also change 'neutral' to 'informative\n",
    "my_list.append('something')\n",
    "my_list[4] = 'informative'\n",
    "\n",
    "# both of the following will cause an error, because tuples are immutable\n",
    "my_tuple.append(4)\n",
    "my_tuple[4] = 'informative'"
   ]
  },
  {
   "cell_type": "code",
   "execution_count": 42,
   "metadata": {
    "tags": [
     "snippet:1darray6"
    ]
   },
   "outputs": [
    {
     "name": "stdout",
     "output_type": "stream",
     "text": [
      "<class 'set'> <class 'set'> <class 'frozenset'>\n"
     ]
    }
   ],
   "source": [
    "colours = set(['blue', 'yellow', 'red'])\n",
    "# or simply:\n",
    "colours2 = {'blue', 'yellow', 'red'}\n",
    "\n",
    "colours3 = frozenset(['blue', 'yellow', 'red'])\n",
    "\n",
    "print(type(colours), type(colours2), type(colours3))"
   ]
  },
  {
   "cell_type": "code",
   "execution_count": 44,
   "metadata": {
    "tags": [
     "snippet:1darray7"
    ]
   },
   "outputs": [
    {
     "name": "stdout",
     "output_type": "stream",
     "text": [
      "[8, 8, 7, 6, 9, 4, 9, 2, 8, 5, 'b']\n",
      "['8' '8' '7' '6' '9' '4' '9' '2' '8' '5' 'b']\n"
     ]
    }
   ],
   "source": [
    "import numpy as np\n",
    "scores_as_list = [8, 8, 7, 6, 9, 4, 9, 2, 8, 5,  'b']\n",
    "print(scores_as_list)\n",
    "scores_as_array = np.array(scores_as_list)\n",
    "print(scores_as_array)"
   ]
  },
  {
   "cell_type": "code",
   "execution_count": 34,
   "metadata": {
    "tags": [
     "snippet:mutable"
    ]
   },
   "outputs": [
    {
     "name": "stdout",
     "output_type": "stream",
     "text": [
      "[1, 2, 3, 4, 5]\n",
      "[1, 2, 3, 4]\n",
      "hi\n"
     ]
    }
   ],
   "source": [
    "l1 = [1,2,3,4]\n",
    "l2 = l1   # in R, this would create a copy, but here, we just create a reference!\n",
    "l2.append(5)\n",
    "# l1 is changed as well!!!\n",
    "print(l1)\n",
    "\n",
    "# if you want to create a copy of a *mutable* object, use .copy() instead:\n",
    "l1 = [1,2,3,4]\n",
    "l2 = l1.copy()\n",
    "l2.append(5)\n",
    "print(l1)\n",
    "\n",
    "\n",
    "# strings, instead, are *immutable*, which means that a copy is created anyway:\n",
    "s1 = \"hi\"\n",
    "s2 = s1 + \"you\"\n",
    "# s1 is still unchanged\n",
    "print(s1)"
   ]
  },
  {
   "cell_type": "code",
   "execution_count": 46,
   "metadata": {
    "tags": [
     "snippet:dict"
    ]
   },
   "outputs": [
    {
     "name": "stdout",
     "output_type": "stream",
     "text": [
      "<class 'dict'>\n",
      "{'A': 4, 'B': 3, 'C': 2, 'D': 1}\n",
      "1\n",
      "4\n"
     ]
    }
   ],
   "source": [
    "sentiments = {\"positive\" : 1, \"neutral\" : 0, \"negative\" : -1}\n",
    "print(type(sentiments))\n",
    "\n",
    "grades =  {}\n",
    "grades['A'] = 4\n",
    "grades['B'] = 3\n",
    "grades['C'] = 2\n",
    "grades['D'] = 1\n",
    "print(grades)\n",
    "print(sentiments['positive'])\n",
    "print(grades['A'])"
   ]
  }
 ],
 "metadata": {
  "celltoolbar": "Tags",
  "kernelspec": {
   "display_name": "Python 3",
   "language": "python",
   "name": "python3"
  },
  "language_info": {
   "codemirror_mode": {
    "name": "ipython",
    "version": 3
   },
   "file_extension": ".py",
   "mimetype": "text/x-python",
   "name": "python",
   "nbconvert_exporter": "python",
   "pygments_lexer": "ipython3",
   "version": "3.6.9"
  }
 },
 "nbformat": 4,
 "nbformat_minor": 2
}
