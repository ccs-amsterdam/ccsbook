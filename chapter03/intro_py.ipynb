{
 "cells": [
  {
   "cell_type": "code",
   "execution_count": 1,
   "metadata": {
    "tags": [
     "snippet:helloworld"
    ]
   },
   "outputs": [
    {
     "name": "stdout",
     "output_type": "stream",
     "text": [
      "Hello world!\n"
     ]
    }
   ],
   "source": [
    "print('Hello world!')"
   ]
  },
  {
   "cell_type": "code",
   "execution_count": 2,
   "metadata": {
    "tags": [
     "snippet:importtweepy"
    ]
   },
   "outputs": [
    {
     "ename": "ModuleNotFoundError",
     "evalue": "No module named 'tweepy'",
     "output_type": "error",
     "traceback": [
      "\u001b[0;31m---------------------------------------------------------------------------\u001b[0m",
      "\u001b[0;31mModuleNotFoundError\u001b[0m                       Traceback (most recent call last)",
      "\u001b[0;32m<ipython-input-2-f5e4f2180e08>\u001b[0m in \u001b[0;36m<module>\u001b[0;34m\u001b[0m\n\u001b[0;32m----> 1\u001b[0;31m \u001b[0;32mimport\u001b[0m \u001b[0mtweepy\u001b[0m\u001b[0;34m\u001b[0m\u001b[0;34m\u001b[0m\u001b[0m\n\u001b[0m",
      "\u001b[0;31mModuleNotFoundError\u001b[0m: No module named 'tweepy'"
     ]
    }
   ],
   "source": [
    "import tweepy"
   ]
  },
  {
   "cell_type": "code",
   "execution_count": 9,
   "metadata": {
    "tags": [
     "snippet:var1"
    ]
   },
   "outputs": [
    {
     "name": "stdout",
     "output_type": "stream",
     "text": [
      "<class 'int'>\n"
     ]
    }
   ],
   "source": [
    "a = 100\n",
    "print(type(a))"
   ]
  },
  {
   "cell_type": "code",
   "execution_count": 3,
   "metadata": {
    "tags": [
     "snippet:var2"
    ]
   },
   "outputs": [
    {
     "name": "stdout",
     "output_type": "stream",
     "text": [
      "200 50 250\n"
     ]
    }
   ],
   "source": [
    "a = 100\n",
    "a = a*2    # equivalent to (shorter) a*=2\n",
    "b = 50\n",
    "c = a + b\n",
    "print(a, b, c)"
   ]
  },
  {
   "cell_type": "code",
   "execution_count": 21,
   "metadata": {
    "tags": [
     "snippet:var3"
    ]
   },
   "outputs": [
    {
     "name": "stdout",
     "output_type": "stream",
     "text": [
      "<class 'int'>\n",
      "<class 'float'>\n",
      "<class 'int'>\n",
      "20\n",
      "<class 'bool'>\n",
      "1\n",
      "0\n"
     ]
    }
   ],
   "source": [
    "d = 20\n",
    "print(type(d))\n",
    "# forcing python to ctreat 20 as a float\n",
    "d2 = 20.0\n",
    "print(type(d2))\n",
    "\n",
    "e = int(20.7)\n",
    "print(type(e))\n",
    "print(e)\n",
    "\n",
    "f = True\n",
    "print(type(f))\n",
    "print(int(f))\n",
    "print(int(False))"
   ]
  },
  {
   "cell_type": "code",
   "execution_count": 28,
   "metadata": {
    "tags": [
     "snippet:var4"
    ]
   },
   "outputs": [
    {
     "name": "stdout",
     "output_type": "stream",
     "text": [
      "<class 'str'>\n",
      "<class 'bytes'>\n",
      "'Hi!' said he.\n",
      "\"Hi!\" said he.\n"
     ]
    }
   ],
   "source": [
    "sometext = \"I like Python!\"\n",
    "print(type(sometext))\n",
    "somebytes = b\"I like Python!\"\n",
    "print(type(somebytes))\n",
    "\n",
    "print(\"'Hi!' said he.\")\n",
    "print('\"Hi!\" said he.')"
   ]
  },
  {
   "cell_type": "code",
   "execution_count": 39,
   "metadata": {
    "tags": [
     "snippet:1darray5"
    ]
   },
   "outputs": [
    {
     "name": "stdout",
     "output_type": "stream",
     "text": [
      "6 6\n",
      "neutral\n",
      "('positive', 'neutral')\n"
     ]
    },
    {
     "ename": "AttributeError",
     "evalue": "'tuple' object has no attribute 'append'",
     "output_type": "error",
     "traceback": [
      "\u001b[0;31m---------------------------------------------------------------------------\u001b[0m",
      "\u001b[0;31mAttributeError\u001b[0m                            Traceback (most recent call last)",
      "\u001b[0;32m<ipython-input-39-55348b93fe1b>\u001b[0m in \u001b[0;36m<module>\u001b[0;34m\u001b[0m\n\u001b[1;32m     14\u001b[0m \u001b[0;34m\u001b[0m\u001b[0m\n\u001b[1;32m     15\u001b[0m \u001b[0;31m# both of the following will cause an error, because tuples are immutable\u001b[0m\u001b[0;34m\u001b[0m\u001b[0;34m\u001b[0m\u001b[0;34m\u001b[0m\u001b[0m\n\u001b[0;32m---> 16\u001b[0;31m \u001b[0mmy_tuple\u001b[0m\u001b[0;34m.\u001b[0m\u001b[0mappend\u001b[0m\u001b[0;34m(\u001b[0m\u001b[0;36m4\u001b[0m\u001b[0;34m)\u001b[0m\u001b[0;34m\u001b[0m\u001b[0;34m\u001b[0m\u001b[0m\n\u001b[0m\u001b[1;32m     17\u001b[0m \u001b[0mmy_tuple\u001b[0m\u001b[0;34m[\u001b[0m\u001b[0;36m4\u001b[0m\u001b[0;34m]\u001b[0m \u001b[0;34m=\u001b[0m \u001b[0;34m'informative'\u001b[0m\u001b[0;34m\u001b[0m\u001b[0;34m\u001b[0m\u001b[0m\n",
      "\u001b[0;31mAttributeError\u001b[0m: 'tuple' object has no attribute 'append'"
     ]
    }
   ],
   "source": [
    "my_list = [1, 0, -1, 'positive', 'neutral', 'negative']\n",
    "my_tuple = (1, 0, -1, 'positive', 'neutral', 'negative')\n",
    "print(len(my_list), len(my_tuple))\n",
    "\n",
    "# indexing\n",
    "print(my_list[4])\n",
    "print(my_tuple[3:5])\n",
    "\n",
    "#let's add another element, and also change 'neutral' to 'informative\n",
    "my_list.append('something')\n",
    "my_list[4] = 'informative'\n",
    "\n",
    "# both of the following will cause an error, because tuples are immutable\n",
    "my_tuple.append(4)\n",
    "my_tuple[4] = 'informative'"
   ]
  },
  {
   "cell_type": "code",
   "execution_count": 42,
   "metadata": {
    "tags": [
     "snippet:1darray6"
    ]
   },
   "outputs": [
    {
     "name": "stdout",
     "output_type": "stream",
     "text": [
      "<class 'set'> <class 'set'> <class 'frozenset'>\n"
     ]
    }
   ],
   "source": [
    "colours = set(['blue', 'yellow', 'red'])\n",
    "# or simply:\n",
    "colours2 = {'blue', 'yellow', 'red'}\n",
    "\n",
    "colours3 = frozenset(['blue', 'yellow', 'red'])\n",
    "\n",
    "print(type(colours), type(colours2), type(colours3))"
   ]
  },
  {
   "cell_type": "code",
   "execution_count": 44,
   "metadata": {
    "tags": [
     "snippet:1darray7"
    ]
   },
   "outputs": [
    {
     "name": "stdout",
     "output_type": "stream",
     "text": [
      "[8, 8, 7, 6, 9, 4, 9, 2, 8, 5, 'b']\n",
      "['8' '8' '7' '6' '9' '4' '9' '2' '8' '5' 'b']\n"
     ]
    }
   ],
   "source": [
    "import numpy as np\n",
    "scores_as_list = [8, 8, 7, 6, 9, 4, 9, 2, 8, 5,  'b']\n",
    "print(scores_as_list)\n",
    "scores_as_array = np.array(scores_as_list)\n",
    "print(scores_as_array)"
   ]
  },
  {
   "cell_type": "code",
   "execution_count": 34,
   "metadata": {
    "tags": [
     "snippet:mutable"
    ]
   },
   "outputs": [
    {
     "name": "stdout",
     "output_type": "stream",
     "text": [
      "[1, 2, 3, 4, 5]\n",
      "[1, 2, 3, 4]\n",
      "hi\n"
     ]
    }
   ],
   "source": [
    "l1 = [1,2,3,4]\n",
    "l2 = l1   # in R, this would create a copy, but here, we just create a reference!\n",
    "l2.append(5)\n",
    "# l1 is changed as well!!!\n",
    "print(l1)\n",
    "\n",
    "# if you want to create a copy of a *mutable* object, use .copy() instead:\n",
    "l1 = [1,2,3,4]\n",
    "l2 = l1.copy()\n",
    "l2.append(5)\n",
    "print(l1)\n",
    "\n",
    "\n",
    "# strings, instead, are *immutable*, which means that a copy is created anyway:\n",
    "s1 = \"hi\"\n",
    "s2 = s1 + \"you\"\n",
    "# s1 is still unchanged\n",
    "print(s1)"
   ]
  },
  {
   "cell_type": "code",
   "execution_count": 46,
   "metadata": {
    "tags": [
     "snippet:dict"
    ]
   },
   "outputs": [
    {
     "name": "stdout",
     "output_type": "stream",
     "text": [
      "<class 'dict'>\n",
      "{'A': 4, 'B': 3, 'C': 2, 'D': 1}\n",
      "1\n",
      "4\n"
     ]
    }
   ],
   "source": [
    "sentiments = {\"positive\" : 1, \"neutral\" : 0, \"negative\" : -1}\n",
    "print(type(sentiments))\n",
    "\n",
    "grades =  {}\n",
    "grades['A'] = 4\n",
    "grades['B'] = 3\n",
    "grades['C'] = 2\n",
    "grades['D'] = 1\n",
    "print(grades)\n",
    "print(sentiments['positive'])\n",
    "print(grades['A'])"
   ]
  },
  {
   "cell_type": "code",
   "execution_count": 77,
   "metadata": {
    "tags": [
     "snippet:2darray"
    ]
   },
   "outputs": [
    {
     "name": "stdout",
     "output_type": "stream",
     "text": [
      "[[1, 2, 3], [4, 5, 6], [7, 8, 9]]\n",
      "[[1 2 3]\n",
      " [4 5 6]\n",
      " [7 8 9]]\n",
      "(3, 3, 3)\n",
      "[[['green' 'green' 'green']\n",
      "  ['yellow' 'yellow' 'yellow']\n",
      "  ['red' 'red' 'red']]\n",
      "\n",
      " [['green' 'green' 'green']\n",
      "  ['yellow' 'yellow' 'yellow']\n",
      "  ['red' 'red' 'red']]\n",
      "\n",
      " [['green' 'green' 'green']\n",
      "  ['yellow' 'yellow' 'yellow']\n",
      "  ['red' 'red' 'red']]]\n"
     ]
    }
   ],
   "source": [
    "import numpy as np\n",
    "\n",
    "matrix = [[1, 2, 3], [4, 5, 6], [7,8,9]]\n",
    "print(matrix)\n",
    "\n",
    "array2d = np.array(matrix)\n",
    "print(array2d)\n",
    "\n",
    "array3d = np.array(([['green', 'green', 'green'], ['yellow', 'yellow', 'yellow'], ['red', 'red', 'red']], \n",
    "          [['green', 'green', 'green'], ['yellow', 'yellow', 'yellow'], ['red', 'red', 'red']],\n",
    "          [['green', 'green', 'green'], ['yellow', 'yellow', 'yellow'], ['red', 'red', 'red']]))\n",
    "print(array3d.shape)\n",
    "print(array3d)"
   ]
  },
  {
   "cell_type": "code",
   "execution_count": 82,
   "metadata": {
    "tags": [
     "snippet:dataframe1"
    ]
   },
   "outputs": [
    {
     "name": "stdout",
     "output_type": "stream",
     "text": [
      "   age    countries  living_abroad\n",
      "0   38  Netherlands          False\n",
      "1   36      Germany           True\n",
      "2   39        Spain           True\n"
     ]
    }
   ],
   "source": [
    "import pandas as pd\n",
    "authors = pd.DataFrame({'age': [38, 36, 39], 'countries': ['Netherlands', 'Germany', 'Spain'], 'living_abroad': [False, True, True]})\n",
    "print(authors)"
   ]
  },
  {
   "cell_type": "code",
   "execution_count": 89,
   "metadata": {
    "tags": [
     "snippet:functions"
    ]
   },
   "outputs": [
    {
     "name": "stdout",
     "output_type": "stream",
     "text": [
      "6.0\n",
      "2.4\n",
      "6.0\n",
      "4\n"
     ]
    }
   ],
   "source": [
    "#This script in Python creates two simple functions to estimate the 60% of any given number                               \n",
    "\n",
    "#The first function computes the 60% always                                                                               \n",
    "def por_60(x):\n",
    "  return x*0.6\n",
    "print (por_60(10))\n",
    "print (por_60(4))\n",
    "\n",
    "#The second function computes the 60% ONLY IF the argument is above 5,                                                    \n",
    "# and the other cases the function returns the very same argument\n",
    "def por_60_cond(x):\n",
    "  if x>5:\n",
    "    return x*0.6\n",
    "  else:\n",
    "    return x\n",
    "print (por_60_cond(10))\n",
    "print (por_60_cond(4))"
   ]
  },
  {
   "cell_type": "code",
   "execution_count": 88,
   "metadata": {
    "tags": [
     "snippet:functions2"
    ]
   },
   "outputs": [
    {
     "name": "stdout",
     "output_type": "stream",
     "text": [
      "3\n",
      "4\n",
      "5\n",
      "3.5999999999999996\n",
      "4.2\n"
     ]
    }
   ],
   "source": [
    "#Create the list with the scores and then apply a simple loop\n",
    "scores = [3,4,5,6,7]\n",
    "for x in scores:\n",
    "  print(por_60_cond(x))"
   ]
  },
  {
   "cell_type": "code",
   "execution_count": 91,
   "metadata": {
    "tags": [
     "snippet:forloop"
    ]
   },
   "outputs": [
    {
     "name": "stdout",
     "output_type": "stream",
     "text": [
      "manual results:\n",
      "40\n",
      "44\n",
      "33\n",
      "for-loop results:\n",
      "40\n",
      "44\n",
      "33\n"
     ]
    }
   ],
   "source": [
    "#This script creates in Python a list of headlines and shows two ways to count the number of characters of each string\n",
    "#We create a list of headlines (strings):\n",
    "headlines = ('US condemns South new terrorist  attacks', 'New elections forces UK to go back to the UE', 'Venezuelan president is dismissed')\n",
    "#The first way is manual:\n",
    "print('manual results:')\n",
    "print(len(headlines[0]))\n",
    "print(len(headlines[1]))\n",
    "print(len(headlines[2]))\n",
    "#and the second is using a for-loop\n",
    "print('for-loop results:')\n",
    "for x in headlines:\n",
    "    print(len(x))"
   ]
  },
  {
   "cell_type": "code",
   "execution_count": 94,
   "metadata": {
    "tags": [
     "snippet:listcomprehensions"
    ]
   },
   "outputs": [
    {
     "name": "stdout",
     "output_type": "stream",
     "text": [
      "[40, 44, 33]\n",
      "[40, 44, 33]\n"
     ]
    }
   ],
   "source": [
    "len_headlines= [len(x) for x in headlines]\n",
    "print(len_headlines)\n",
    "\n",
    "# The code above is a really useful shorthand and considered very 'pythonic'.\n",
    "# It is equivalent to the more verbose code below:\n",
    "len_headlines = []\n",
    "for x in headlines:\n",
    "    len_headlines.append(len(x))\n",
    "print(len_headlines)"
   ]
  },
  {
   "cell_type": "code",
   "execution_count": 97,
   "metadata": {
    "tags": [
     "snippet:if1"
    ]
   },
   "outputs": [
    {
     "name": "stdout",
     "output_type": "stream",
     "text": [
      "Venezuelan president is dismissed\n"
     ]
    }
   ],
   "source": [
    "#Print the headline if it is < 40 characters\n",
    "for x in headlines:                                                                                                       \n",
    "  if len(x)<40:                                                                                                           \n",
    "    print(x)"
   ]
  },
  {
   "cell_type": "code",
   "execution_count": 99,
   "metadata": {
    "tags": [
     "snippet:if2"
    ]
   },
   "outputs": [
    {
     "name": "stdout",
     "output_type": "stream",
     "text": [
      "NaN\n",
      "What a coincidence!\n",
      "Venezuelan president is dismissed\n"
     ]
    }
   ],
   "source": [
    "#Print the headline if it is < 40 characters and print 'NaN' in the other cases\n",
    "for x in headlines:\n",
    "  if len(x)<40:\n",
    "    print(x)\n",
    "  elif len(x) == 44:\n",
    "    print(\"What a coincidence!\")\n",
    "  else :\n",
    "    print ('NaN')\n"
   ]
  }
 ],
 "metadata": {
  "celltoolbar": "Tags",
  "kernelspec": {
   "display_name": "Python 3",
   "language": "python",
   "name": "python3"
  },
  "language_info": {
   "codemirror_mode": {
    "name": "ipython",
    "version": 3
   },
   "file_extension": ".py",
   "mimetype": "text/x-python",
   "name": "python",
   "nbconvert_exporter": "python",
   "pygments_lexer": "ipython3",
   "version": "3.6.9"
  }
 },
 "nbformat": 4,
 "nbformat_minor": 2
}
