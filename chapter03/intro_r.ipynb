{
 "cells": [
  {
   "cell_type": "code",
   "execution_count": 1,
   "metadata": {
    "tags": [
     "snippet:installpackages"
    ]
   },
   "outputs": [
    {
     "name": "stderr",
     "output_type": "stream",
     "text": [
      "Installing package into ‘/usr/local/lib/R/site-library’\n",
      "(as ‘lib’ is unspecified)\n",
      "\n",
      "also installing the dependencies ‘ps’, ‘processx’, ‘clipr’, ‘BH’, ‘purrr’, ‘zip’, ‘DBI’, ‘plyr’, ‘farver’, ‘labeling’, ‘munsell’, ‘lifecycle’, ‘callr’, ‘coda’, ‘forcats’, ‘hms’, ‘readr’, ‘tidyselect’, ‘SparseM’, ‘MatrixModels’, ‘sp’, ‘curl’, ‘openxlsx’, ‘numDeriv’, ‘mitools’, ‘lazyeval’, ‘reshape2’, ‘scales’, ‘viridisLite’, ‘withr’, ‘png’, ‘jpeg’, ‘RColorBrewer’, ‘checkmate’, ‘rstudioapi’, ‘stringi’, ‘rematch’, ‘pkgconfig’, ‘prettyunits’, ‘R6’, ‘httpuv’, ‘xtable’, ‘sourcetools’, ‘later’, ‘promises’, ‘fastmap’, ‘miniUI’, ‘webshot’, ‘arm’, ‘sandwich’, ‘haven’, ‘readstata13’, ‘carData’, ‘pbkrtest’, ‘quantreg’, ‘maptools’, ‘rio’, ‘survey’, ‘estimability’, ‘minqa’, ‘nloptr’, ‘RcppEigen’, ‘Formula’, ‘ggplot2’, ‘latticeExtra’, ‘acepack’, ‘gtable’, ‘gridExtra’, ‘data.table’, ‘htmlTable’, ‘viridis’, ‘highr’, ‘stringr’, ‘yaml’, ‘xfun’, ‘zoo’, ‘mime’, ‘mvtnorm’, ‘TH.data’, ‘cellranger’, ‘tibble’, ‘progress’, ‘htmlwidgets’, ‘shiny’, ‘magrittr’, ‘crosstalk’, ‘manipulateWidget’, ‘tinytex’, ‘matrixcalc’, ‘mi’, ‘RcmdrMisc’, ‘car’, ‘effects’, ‘tcltk2’, ‘abind’, ‘relimp’, ‘lme4’, ‘aplpack’, ‘colorspace’, ‘e1071’, ‘Hmisc’, ‘knitr’, ‘leaps’, ‘lmtest’, ‘markdown’, ‘multcomp’, ‘nortest’, ‘readxl’, ‘rgl’, ‘rmarkdown’, ‘sem’\n",
      "\n",
      "\n",
      "Warning message in install.packages(\"Rcmdr\", dependencies = TRUE):\n",
      "“installation of package ‘rgl’ had non-zero exit status”\n"
     ]
    }
   ],
   "source": [
    "install.packages(\"Rcmdr\", dependencies=TRUE)"
   ]
  },
  {
   "cell_type": "code",
   "execution_count": 5,
   "metadata": {
    "tags": [
     "snippet:var1"
    ]
   },
   "outputs": [
    {
     "name": "stdout",
     "output_type": "stream",
     "text": [
      "[1] \"numeric\"\n"
     ]
    }
   ],
   "source": [
    "a = 100\n",
    "print(class(a))"
   ]
  },
  {
   "cell_type": "code",
   "execution_count": 2,
   "metadata": {
    "tags": [
     "snippet:var2"
    ]
   },
   "outputs": [
    {
     "name": "stdout",
     "output_type": "stream",
     "text": [
      "[1] 200\n",
      "[1] 50\n",
      "[1] 250\n"
     ]
    }
   ],
   "source": [
    "a = 100\n",
    "a = a*2\n",
    "b = 50\n",
    "c = a + b\n",
    "print(a)\n",
    "print(b)\n",
    "print(c)"
   ]
  },
  {
   "cell_type": "code",
   "execution_count": 29,
   "metadata": {
    "tags": [
     "snippet:var3"
    ]
   },
   "outputs": [
    {
     "name": "stdout",
     "output_type": "stream",
     "text": [
      "[1] \"numeric\"\n",
      "[1] \"integer\"\n",
      "[1] \"integer\"\n",
      "[1] 20\n",
      "[1] \"logical\"\n",
      "[1] 1\n",
      "[1] 0\n"
     ]
    }
   ],
   "source": [
    "d = 20\n",
    "print(class(d))\n",
    "# forcing R to treat 20 as an int\n",
    "d2 = 20L\n",
    "print(class(d2))\n",
    "\n",
    "e = as.integer(20.7)\n",
    "print(class(e))\n",
    "print(e)\n",
    "\n",
    "f = TRUE\n",
    "print(class(f))\n",
    "print(as.integer(f))\n",
    "print(as.integer(FALSE))"
   ]
  },
  {
   "cell_type": "code",
   "execution_count": 34,
   "metadata": {
    "tags": [
     "snippet:var4"
    ]
   },
   "outputs": [
    {
     "name": "stdout",
     "output_type": "stream",
     "text": [
      "[1] \"character\"\n",
      "[1] \"raw\"\n",
      "[1] \"'Hi!' said he.\"\n",
      "[1] \"\\\"Hi!\\\" said he.\"\n"
     ]
    }
   ],
   "source": [
    "sometext = \"I am happy learning R!\"\n",
    "print(class(sometext))\n",
    "somebytes= charToRaw(sometext)\n",
    "print(class(somebytes))\n",
    "\n",
    "print(\"'Hi!' said he.\")\n",
    "print('\"Hi!\" said he.')"
   ]
  },
  {
   "cell_type": "code",
   "execution_count": 3,
   "metadata": {
    "tags": [
     "snippet:1darray1"
    ]
   },
   "outputs": [
    {
     "name": "stdout",
     "output_type": "stream",
     "text": [
      "[1] \"numeric\"\n",
      "[1] \"character\"\n"
     ]
    }
   ],
   "source": [
    "scores = c(8, 8, 7, 6, 9, 4, 9, 2, 8, 5)\n",
    "print(class(scores))\n",
    "countries = c('Netherlands', 'Germany', 'Spain')\n",
    "print(class(countries))\n"
   ]
  },
  {
   "cell_type": "code",
   "execution_count": 16,
   "metadata": {
    "tags": [
     "snippet:1darray1b"
    ]
   },
   "outputs": [
    {
     "name": "stdout",
     "output_type": "stream",
     "text": [
      "[1] \"character\"\n",
      " [1] \"8\" \"8\" \"7\" \"6\" \"9\" \"4\" \"9\" \"2\" \"8\" \"5\" \"b\"\n",
      " [1] \"8\" \"8\" \"7\" \"6\" \"9\" \"4\" \"9\" \"2\" \"8\" \"7\" \"7\" \"7\" \"7\" \"7\"\n"
     ]
    }
   ],
   "source": [
    "scores2 = c(8, 8, 7, 6, 9, 4, 9, 2, 8, 5,  'b')\n",
    "print(class(scores2))\n",
    "print(scores2)\n",
    "print(scores)"
   ]
  },
  {
   "cell_type": "code",
   "execution_count": 11,
   "metadata": {
    "tags": [
     "snippet:1darray2"
    ]
   },
   "outputs": [
    {
     "data": {
      "text/html": [
       "'9'"
      ],
      "text/latex": [
       "'9'"
      ],
      "text/markdown": [
       "'9'"
      ],
      "text/plain": [
       "[1] \"9\""
      ]
     },
     "metadata": {},
     "output_type": "display_data"
    },
    {
     "data": {
      "text/html": [
       "<ol class=list-inline>\n",
       "\t<li>'8'</li>\n",
       "\t<li>'5'</li>\n",
       "</ol>\n"
      ],
      "text/latex": [
       "\\begin{enumerate*}\n",
       "\\item '8'\n",
       "\\item '5'\n",
       "\\end{enumerate*}\n"
      ],
      "text/markdown": [
       "1. '8'\n",
       "2. '5'\n",
       "\n",
       "\n"
      ],
      "text/plain": [
       "[1] \"8\" \"5\""
      ]
     },
     "metadata": {},
     "output_type": "display_data"
    },
    {
     "data": {
      "text/html": [
       "<ol class=list-inline>\n",
       "\t<li>'8'</li>\n",
       "\t<li>'8'</li>\n",
       "\t<li>'7'</li>\n",
       "\t<li>'6'</li>\n",
       "</ol>\n"
      ],
      "text/latex": [
       "\\begin{enumerate*}\n",
       "\\item '8'\n",
       "\\item '8'\n",
       "\\item '7'\n",
       "\\item '6'\n",
       "\\end{enumerate*}\n"
      ],
      "text/markdown": [
       "1. '8'\n",
       "2. '8'\n",
       "3. '7'\n",
       "4. '6'\n",
       "\n",
       "\n"
      ],
      "text/plain": [
       "[1] \"8\" \"8\" \"7\" \"6\""
      ]
     },
     "metadata": {},
     "output_type": "display_data"
    },
    {
     "data": {
      "text/html": [
       "'numeric'"
      ],
      "text/latex": [
       "'numeric'"
      ],
      "text/markdown": [
       "'numeric'"
      ],
      "text/plain": [
       "[1] \"numeric\""
      ]
     },
     "metadata": {},
     "output_type": "display_data"
    },
    {
     "data": {
      "text/html": [
       "<ol class=list-inline>\n",
       "\t<li>8</li>\n",
       "\t<li>8</li>\n",
       "\t<li>7</li>\n",
       "\t<li>6</li>\n",
       "</ol>\n"
      ],
      "text/latex": [
       "\\begin{enumerate*}\n",
       "\\item 8\n",
       "\\item 8\n",
       "\\item 7\n",
       "\\item 6\n",
       "\\end{enumerate*}\n"
      ],
      "text/markdown": [
       "1. 8\n",
       "2. 8\n",
       "3. 7\n",
       "4. 6\n",
       "\n",
       "\n"
      ],
      "text/plain": [
       "[1] 8 8 7 6"
      ]
     },
     "metadata": {},
     "output_type": "display_data"
    }
   ],
   "source": [
    "scores = c(\"8\", \"8\", \"7\", \"6\", \"9\", \"4\", \"9\", \"2\", \"8\", \"5\")\n",
    "\n",
    "scores[5]\n",
    "scores[c(1, 10)]\n",
    "scores[1:4]\n",
    "\n",
    "# taking the first 4 elements from scores2 and convert them back into numbers\n",
    "scores_new = as.numeric(scores[1:4])\n",
    "class(scores_new)\n",
    "scores_new"
   ]
  },
  {
   "cell_type": "code",
   "execution_count": 14,
   "metadata": {
    "tags": [
     "snippet:1darray3"
    ]
   },
   "outputs": [],
   "source": [
    "# appending a new value to a vector\n",
    "scores = c(scores, 7)\n",
    "# alternative approach\n",
    "scores = append(scores, 7)\n",
    "\n",
    "# Of course, we could also store it in a different object instead of overwriting the original vector\n",
    "scores4 = c(scores, 7)\n",
    "# or\n",
    "scores4 = append(scores, 7)\n",
    "\n",
    "# removing an entry from a vector\n",
    "scores = scores[-10]\n",
    "\n",
    "# creating a vector containing the values 1,2,3,...20 (or -5, -4, ... 5)\n",
    "range1 <- 1:20\n",
    "range2 <- -5:5\n",
    "\n",
    "# more advanced: 0, 0.2, 0.4, ... 1.0 \n",
    "my_sequence = seq(0,1, by=0.2)"
   ]
  },
  {
   "cell_type": "code",
   "execution_count": 60,
   "metadata": {
    "tags": [
     "snippet:1darray4"
    ]
   },
   "outputs": [
    {
     "data": {
      "text/html": [
       "'list'"
      ],
      "text/latex": [
       "'list'"
      ],
      "text/markdown": [
       "'list'"
      ],
      "text/plain": [
       "[1] \"list\""
      ]
     },
     "metadata": {},
     "output_type": "display_data"
    },
    {
     "data": {
      "text/html": [
       "4"
      ],
      "text/latex": [
       "4"
      ],
      "text/markdown": [
       "4"
      ],
      "text/plain": [
       "[1] 4"
      ]
     },
     "metadata": {},
     "output_type": "display_data"
    }
   ],
   "source": [
    "my_list = list(33, 'Twitter', sqrt, c(1,2,3,4))\n",
    "class(my_list)\n",
    "\n",
    "# this resolves to sqrt(16):\n",
    "my_list[[3]](16)"
   ]
  },
  {
   "cell_type": "code",
   "execution_count": 62,
   "metadata": {
    "tags": [
     "snippet:1darray6"
    ]
   },
   "outputs": [],
   "source": [
    "scores <- c(8, 8, 7, 6, 9, 4, 9, 2, 8, 5)                                                                                 \n",
    "factor_scores <- factor(scores)                                                                                           \n",
    "factor_scores_2 <- factor(scores, levels = c(1,2,3,4,5,6,7,8,9,10), labels = c(\"fail\", \"fail\", \"fail\", \"fail\", \"fail\",\n",
    "\"pass\", \"pass\", \"pass\", \"pass\", \"pass\"))"
   ]
  },
  {
   "cell_type": "code",
   "execution_count": 4,
   "metadata": {
    "tags": [
     "snippet:2darray"
    ]
   },
   "outputs": [
    {
     "name": "stdout",
     "output_type": "stream",
     "text": [
      "[1] 2 3\n",
      "     [,1] [,2] [,3]\n",
      "[1,]    0    0    1\n",
      "[2,]    1    0    1\n",
      "     [,1] [,2] [,3]\n",
      "[1,]    0    1    0\n",
      "[2,]    0    1    1\n",
      "     [,1] [,2] [,3]\n",
      "[1,]    0    1    1\n",
      "[2,]    1    1    2\n",
      "[1] 3 3 3\n",
      ", , 1\n",
      "\n",
      "     [,1]     [,2]     [,3]    \n",
      "[1,] \"green\"  \"green\"  \"green\" \n",
      "[2,] \"yellow\" \"yellow\" \"yellow\"\n",
      "[3,] \"red\"    \"red\"    \"red\"   \n",
      "\n",
      ", , 2\n",
      "\n",
      "     [,1]     [,2]     [,3]    \n",
      "[1,] \"green\"  \"green\"  \"green\" \n",
      "[2,] \"yellow\" \"yellow\" \"yellow\"\n",
      "[3,] \"red\"    \"red\"    \"red\"   \n",
      "\n",
      ", , 3\n",
      "\n",
      "     [,1]     [,2]     [,3]    \n",
      "[1,] \"green\"  \"green\"  \"green\" \n",
      "[2,] \"yellow\" \"yellow\" \"yellow\"\n",
      "[3,] \"red\"    \"red\"    \"red\"   \n",
      "\n"
     ]
    }
   ],
   "source": [
    "my_matrix <- matrix( c(0,0,1,1,0,1), nrow = 2, ncol = 3, byrow = TRUE)\n",
    "print(dim(my_matrix))\n",
    "print(my_matrix)\n",
    "\n",
    "my_matrix2 <- matrix( c(0,0,1,1,0,1), nrow = 2, ncol = 3, byrow = FALSE)\n",
    "print(my_matrix2)\n",
    "\n",
    "my_matrix3 = my_matrix + my_matrix2\n",
    "print(my_matrix3)\n",
    "\n",
    "array3d <- array(c('green', 'yellow', 'red'),dim = c(3,3,3))\n",
    "print(dim(array3d))\n",
    "print(array3d)\n"
   ]
  },
  {
   "cell_type": "code",
   "execution_count": 72,
   "metadata": {
    "tags": [
     "snippet:dataframe1"
    ]
   },
   "outputs": [
    {
     "name": "stdout",
     "output_type": "stream",
     "text": [
      "  age   countries living_abroad\n",
      "1  38 Netherlands         FALSE\n",
      "2  36     Germany          TRUE\n",
      "3  39       Spain          TRUE\n"
     ]
    }
   ],
   "source": [
    "authors = data.frame(age = c(38, 36, 39), countries = c('Netherlands', 'Germany', 'Spain'), living_abroad= c(FALSE, TRUE, TRUE))\n",
    "print(authors)"
   ]
  },
  {
   "cell_type": "code",
   "execution_count": 76,
   "metadata": {
    "tags": [
     "snippet:functions"
    ]
   },
   "outputs": [
    {
     "name": "stdout",
     "output_type": "stream",
     "text": [
      "[1] 6\n",
      "[1] 2.4\n",
      "[1] 6\n",
      "[1] 4\n"
     ]
    }
   ],
   "source": [
    "#This scripts in R creates two simple functions to estimate the 60% of any given number                                   \n",
    "\n",
    "#The first function computes the 60% always                                                                               \n",
    "por_60 <- function(x) {\n",
    "  return(x*0.6)\n",
    "}\n",
    "print (por_60(10))\n",
    "print (por_60(4))\n",
    "\n",
    "#The second function computes the 60% ONLY IF the argument is above 5,                                                    \n",
    "# and the other cases the function returns the very same argument\n",
    "\n",
    "por_60_cond <- function(x) {\n",
    "  if (x>5) {\n",
    "    return(x*0.6)\n",
    "  } else {\n",
    "    return(x)\n",
    "  }\n",
    "}\n",
    "print (por_60_cond(10))\n",
    "print (por_60_cond(4))"
   ]
  },
  {
   "cell_type": "code",
   "execution_count": 75,
   "metadata": {
    "tags": [
     "snippet:functions2"
    ]
   },
   "outputs": [
    {
     "name": "stdout",
     "output_type": "stream",
     "text": [
      "[1] 3\n",
      "[1] 4\n",
      "[1] 5\n",
      "[1] 3.6\n",
      "[1] 4.2\n"
     ]
    }
   ],
   "source": [
    "#Create the list with the scores and then apply a simple loop\n",
    "scores <- list(3,4,5,6,7)\n",
    "for (x in scores)\n",
    "{\n",
    "  print(por_60_cond(x))\n",
    "}"
   ]
  },
  {
   "cell_type": "code",
   "execution_count": 77,
   "metadata": {
    "tags": [
     "snippet:forloop"
    ]
   },
   "outputs": [
    {
     "name": "stdout",
     "output_type": "stream",
     "text": [
      "[1] \"manual results:  \"\n",
      "[1] 40\n",
      "[1] 44\n",
      "[1] 33\n",
      "[1] \"for-loop results:\"\n",
      "[1] 40\n",
      "[1] 44\n",
      "[1] 33\n"
     ]
    }
   ],
   "source": [
    "#This script creates in R a list of headlines and shows two ways to count the number of characters of each string\n",
    "#The first way is manual\n",
    "headlines <- list ('US condemns South new terrorist  attacks', 'New elections forces UK to go back to the UE',\n",
    "'Venezuelan president is dismissed')\n",
    "print('manual results:  ')\n",
    "print(nchar(headlines[1]))\n",
    "print(nchar(headlines[2]))\n",
    "print(nchar(headlines[3]))\n",
    "#and the second is using a for-loop\n",
    "print('for-loop results:')\n",
    "for (x in headlines){\n",
    "  print(nchar(x))\n",
    "}"
   ]
  },
  {
   "cell_type": "code",
   "execution_count": 78,
   "metadata": {
    "tags": [
     "snippet:if1"
    ]
   },
   "outputs": [
    {
     "name": "stdout",
     "output_type": "stream",
     "text": [
      "[1] \"Venezuelan president is dismissed\"\n"
     ]
    }
   ],
   "source": [
    "#Print the headline if it is < 40 characters\n",
    "for (x in headlines){\n",
    "  if (nchar(x)<40) {\n",
    "    print(x)}\n",
    "  }\n"
   ]
  },
  {
   "cell_type": "code",
   "execution_count": 81,
   "metadata": {
    "tags": [
     "snippet:if2"
    ]
   },
   "outputs": [
    {
     "name": "stdout",
     "output_type": "stream",
     "text": [
      "[1] \"NaN\"\n",
      "[1] \"What a coincidence!\"\n",
      "[1] \"Venezuelan president is dismissed\"\n"
     ]
    }
   ],
   "source": [
    "#Print the headline if it is < 40 characters\n",
    "for (x in headlines){\n",
    "  if (nchar(x)<40) {\n",
    "    print(x)}\n",
    "  else if (nchar(x)==44) {print(\"What a coincidence!\")}\n",
    "else {print(\"NaN\")}\n",
    "  }\n"
   ]
  }
 ],
 "metadata": {
  "celltoolbar": "Tags",
  "kernelspec": {
   "display_name": "R",
   "language": "R",
   "name": "ir"
  },
  "language_info": {
   "codemirror_mode": "r",
   "file_extension": ".r",
   "mimetype": "text/x-r-source",
   "name": "R",
   "pygments_lexer": "r",
   "version": "3.6.3"
  }
 },
 "nbformat": 4,
 "nbformat_minor": 2
}
