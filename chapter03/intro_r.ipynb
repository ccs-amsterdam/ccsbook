{
 "cells": [
  {
   "cell_type": "code",
   "execution_count": 1,
   "metadata": {
    "tags": [
     "snippet:installpackages"
    ]
   },
   "outputs": [
    {
     "name": "stderr",
     "output_type": "stream",
     "text": [
      "Installing package into ‘/usr/local/lib/R/site-library’\n",
      "(as ‘lib’ is unspecified)\n",
      "\n",
      "also installing the dependencies ‘ps’, ‘processx’, ‘clipr’, ‘BH’, ‘purrr’, ‘zip’, ‘DBI’, ‘plyr’, ‘farver’, ‘labeling’, ‘munsell’, ‘lifecycle’, ‘callr’, ‘coda’, ‘forcats’, ‘hms’, ‘readr’, ‘tidyselect’, ‘SparseM’, ‘MatrixModels’, ‘sp’, ‘curl’, ‘openxlsx’, ‘numDeriv’, ‘mitools’, ‘lazyeval’, ‘reshape2’, ‘scales’, ‘viridisLite’, ‘withr’, ‘png’, ‘jpeg’, ‘RColorBrewer’, ‘checkmate’, ‘rstudioapi’, ‘stringi’, ‘rematch’, ‘pkgconfig’, ‘prettyunits’, ‘R6’, ‘httpuv’, ‘xtable’, ‘sourcetools’, ‘later’, ‘promises’, ‘fastmap’, ‘miniUI’, ‘webshot’, ‘arm’, ‘sandwich’, ‘haven’, ‘readstata13’, ‘carData’, ‘pbkrtest’, ‘quantreg’, ‘maptools’, ‘rio’, ‘survey’, ‘estimability’, ‘minqa’, ‘nloptr’, ‘RcppEigen’, ‘Formula’, ‘ggplot2’, ‘latticeExtra’, ‘acepack’, ‘gtable’, ‘gridExtra’, ‘data.table’, ‘htmlTable’, ‘viridis’, ‘highr’, ‘stringr’, ‘yaml’, ‘xfun’, ‘zoo’, ‘mime’, ‘mvtnorm’, ‘TH.data’, ‘cellranger’, ‘tibble’, ‘progress’, ‘htmlwidgets’, ‘shiny’, ‘magrittr’, ‘crosstalk’, ‘manipulateWidget’, ‘tinytex’, ‘matrixcalc’, ‘mi’, ‘RcmdrMisc’, ‘car’, ‘effects’, ‘tcltk2’, ‘abind’, ‘relimp’, ‘lme4’, ‘aplpack’, ‘colorspace’, ‘e1071’, ‘Hmisc’, ‘knitr’, ‘leaps’, ‘lmtest’, ‘markdown’, ‘multcomp’, ‘nortest’, ‘readxl’, ‘rgl’, ‘rmarkdown’, ‘sem’\n",
      "\n",
      "\n",
      "Warning message in install.packages(\"Rcmdr\", dependencies = TRUE):\n",
      "“installation of package ‘rgl’ had non-zero exit status”\n"
     ]
    }
   ],
   "source": [
    "install.packages(\"Rcmdr\", dependencies=TRUE)"
   ]
  },
  {
   "cell_type": "code",
   "execution_count": 5,
   "metadata": {
    "tags": [
     "snippet:var1"
    ]
   },
   "outputs": [
    {
     "name": "stdout",
     "output_type": "stream",
     "text": [
      "[1] \"numeric\"\n"
     ]
    }
   ],
   "source": [
    "a = 100\n",
    "print(class(a))"
   ]
  },
  {
   "cell_type": "code",
   "execution_count": 6,
   "metadata": {
    "tags": [
     "snippet:var2"
    ]
   },
   "outputs": [
    {
     "name": "stdout",
     "output_type": "stream",
     "text": [
      "[1] 200\n"
     ]
    }
   ],
   "source": [
    "a = a*2\n",
    "b = 50\n",
    "c = a + b\n",
    "print(a)"
   ]
  },
  {
   "cell_type": "code",
   "execution_count": 10,
   "metadata": {
    "tags": [
     "snippet:var3"
    ]
   },
   "outputs": [
    {
     "name": "stdout",
     "output_type": "stream",
     "text": [
      "[1] \"integer\"\n",
      "[1] \"numeric\"\n"
     ]
    }
   ],
   "source": [
    "d = 20L\n",
    "print(class(d))\n",
    "e = 100+50\n",
    "print(class(e))\n"
   ]
  }
 ],
 "metadata": {
  "celltoolbar": "Tags",
  "kernelspec": {
   "display_name": "R",
   "language": "R",
   "name": "ir"
  },
  "language_info": {
   "codemirror_mode": "r",
   "file_extension": ".r",
   "mimetype": "text/x-r-source",
   "name": "R",
   "pygments_lexer": "r",
   "version": "3.6.2"
  }
 },
 "nbformat": 4,
 "nbformat_minor": 2
}
