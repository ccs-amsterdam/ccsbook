{
 "cells": [
  {
   "cell_type": "code",
   "execution_count": 1,
   "metadata": {
    "tags": [
     "snippet:installpackages"
    ]
   },
   "outputs": [
    {
     "name": "stderr",
     "output_type": "stream",
     "text": [
      "Installing package into ‘/usr/local/lib/R/site-library’\n",
      "(as ‘lib’ is unspecified)\n",
      "\n",
      "also installing the dependencies ‘ps’, ‘processx’, ‘clipr’, ‘BH’, ‘purrr’, ‘zip’, ‘DBI’, ‘plyr’, ‘farver’, ‘labeling’, ‘munsell’, ‘lifecycle’, ‘callr’, ‘coda’, ‘forcats’, ‘hms’, ‘readr’, ‘tidyselect’, ‘SparseM’, ‘MatrixModels’, ‘sp’, ‘curl’, ‘openxlsx’, ‘numDeriv’, ‘mitools’, ‘lazyeval’, ‘reshape2’, ‘scales’, ‘viridisLite’, ‘withr’, ‘png’, ‘jpeg’, ‘RColorBrewer’, ‘checkmate’, ‘rstudioapi’, ‘stringi’, ‘rematch’, ‘pkgconfig’, ‘prettyunits’, ‘R6’, ‘httpuv’, ‘xtable’, ‘sourcetools’, ‘later’, ‘promises’, ‘fastmap’, ‘miniUI’, ‘webshot’, ‘arm’, ‘sandwich’, ‘haven’, ‘readstata13’, ‘carData’, ‘pbkrtest’, ‘quantreg’, ‘maptools’, ‘rio’, ‘survey’, ‘estimability’, ‘minqa’, ‘nloptr’, ‘RcppEigen’, ‘Formula’, ‘ggplot2’, ‘latticeExtra’, ‘acepack’, ‘gtable’, ‘gridExtra’, ‘data.table’, ‘htmlTable’, ‘viridis’, ‘highr’, ‘stringr’, ‘yaml’, ‘xfun’, ‘zoo’, ‘mime’, ‘mvtnorm’, ‘TH.data’, ‘cellranger’, ‘tibble’, ‘progress’, ‘htmlwidgets’, ‘shiny’, ‘magrittr’, ‘crosstalk’, ‘manipulateWidget’, ‘tinytex’, ‘matrixcalc’, ‘mi’, ‘RcmdrMisc’, ‘car’, ‘effects’, ‘tcltk2’, ‘abind’, ‘relimp’, ‘lme4’, ‘aplpack’, ‘colorspace’, ‘e1071’, ‘Hmisc’, ‘knitr’, ‘leaps’, ‘lmtest’, ‘markdown’, ‘multcomp’, ‘nortest’, ‘readxl’, ‘rgl’, ‘rmarkdown’, ‘sem’\n",
      "\n",
      "\n",
      "Warning message in install.packages(\"Rcmdr\", dependencies = TRUE):\n",
      "“installation of package ‘rgl’ had non-zero exit status”\n"
     ]
    }
   ],
   "source": [
    "install.packages(\"Rcmdr\", dependencies=TRUE)"
   ]
  },
  {
   "cell_type": "code",
   "execution_count": 5,
   "metadata": {
    "tags": [
     "snippet:var1"
    ]
   },
   "outputs": [
    {
     "name": "stdout",
     "output_type": "stream",
     "text": [
      "[1] \"numeric\"\n"
     ]
    }
   ],
   "source": [
    "a = 100\n",
    "print(class(a))"
   ]
  },
  {
   "cell_type": "code",
   "execution_count": 6,
   "metadata": {
    "tags": [
     "snippet:var2"
    ]
   },
   "outputs": [
    {
     "name": "stdout",
     "output_type": "stream",
     "text": [
      "[1] 200\n"
     ]
    }
   ],
   "source": [
    "a = a*2\n",
    "b = 50\n",
    "c = a + b\n",
    "print(a)"
   ]
  },
  {
   "cell_type": "code",
   "execution_count": 29,
   "metadata": {
    "tags": [
     "snippet:var3"
    ]
   },
   "outputs": [
    {
     "name": "stdout",
     "output_type": "stream",
     "text": [
      "[1] \"numeric\"\n",
      "[1] \"integer\"\n",
      "[1] \"integer\"\n",
      "[1] 20\n",
      "[1] \"logical\"\n",
      "[1] 1\n",
      "[1] 0\n"
     ]
    }
   ],
   "source": [
    "d = 20\n",
    "print(class(d))\n",
    "# forcing R to treat 20 as an int\n",
    "d2 = 20L\n",
    "print(class(d2))\n",
    "\n",
    "e = as.integer(20.7)\n",
    "print(class(e))\n",
    "print(e)\n",
    "\n",
    "f = TRUE\n",
    "print(class(f))\n",
    "print(as.integer(f))\n",
    "print(as.integer(FALSE))"
   ]
  },
  {
   "cell_type": "code",
   "execution_count": 34,
   "metadata": {
    "tags": [
     "snippet:var4"
    ]
   },
   "outputs": [
    {
     "name": "stdout",
     "output_type": "stream",
     "text": [
      "[1] \"character\"\n",
      "[1] \"raw\"\n",
      "[1] \"'Hi!' said he.\"\n",
      "[1] \"\\\"Hi!\\\" said he.\"\n"
     ]
    }
   ],
   "source": [
    "sometext = \"I am happy learning R!\"\n",
    "print(class(sometext))\n",
    "somebytes= charToRaw(sometext)\n",
    "print(class(somebytes))\n",
    "\n",
    "print(\"'Hi!' said he.\")\n",
    "print('\"Hi!\" said he.')"
   ]
  },
  {
   "cell_type": "code",
   "execution_count": 61,
   "metadata": {
    "tags": [
     "snippet:1darray1"
    ]
   },
   "outputs": [
    {
     "name": "stdout",
     "output_type": "stream",
     "text": [
      "[1] \"numeric\"\n",
      "[1] \"character\"\n",
      "[1] \"character\"\n",
      " [1] \"8\" \"8\" \"7\" \"6\" \"9\" \"4\" \"9\" \"2\" \"8\" \"5\" \"b\"\n",
      " [1] 8 8 7 6 9 4 9 2 8 5\n"
     ]
    }
   ],
   "source": [
    "scores = c(8, 8, 7, 6, 9, 4, 9, 2, 8, 5)\n",
    "print(class(scores))\n",
    "countries = c('Netherlands', 'Germany', 'Spain')\n",
    "print(class(countries))\n",
    "\n",
    "scores2 = c(8, 8, 7, 6, 9, 4, 9, 2, 8, 5,  'b')\n",
    "print(class(scores2))\n",
    "print(scores2)\n",
    "print(scores)"
   ]
  },
  {
   "cell_type": "code",
   "execution_count": 54,
   "metadata": {
    "tags": [
     "snippet:1darray2"
    ]
   },
   "outputs": [
    {
     "data": {
      "text/html": [
       "'b'"
      ],
      "text/latex": [
       "'b'"
      ],
      "text/markdown": [
       "'b'"
      ],
      "text/plain": [
       "[1] \"b\""
      ]
     },
     "metadata": {},
     "output_type": "display_data"
    },
    {
     "data": {
      "text/html": [
       "<ol class=list-inline>\n",
       "\t<li>'8'</li>\n",
       "\t<li>'5'</li>\n",
       "</ol>\n"
      ],
      "text/latex": [
       "\\begin{enumerate*}\n",
       "\\item '8'\n",
       "\\item '5'\n",
       "\\end{enumerate*}\n"
      ],
      "text/markdown": [
       "1. '8'\n",
       "2. '5'\n",
       "\n",
       "\n"
      ],
      "text/plain": [
       "[1] \"8\" \"5\""
      ]
     },
     "metadata": {},
     "output_type": "display_data"
    },
    {
     "data": {
      "text/html": [
       "<ol class=list-inline>\n",
       "\t<li>'8'</li>\n",
       "\t<li>'8'</li>\n",
       "\t<li>'7'</li>\n",
       "\t<li>'6'</li>\n",
       "\t<li>'9'</li>\n",
       "\t<li>'4'</li>\n",
       "\t<li>'9'</li>\n",
       "\t<li>'2'</li>\n",
       "\t<li>'8'</li>\n",
       "\t<li>'5'</li>\n",
       "</ol>\n"
      ],
      "text/latex": [
       "\\begin{enumerate*}\n",
       "\\item '8'\n",
       "\\item '8'\n",
       "\\item '7'\n",
       "\\item '6'\n",
       "\\item '9'\n",
       "\\item '4'\n",
       "\\item '9'\n",
       "\\item '2'\n",
       "\\item '8'\n",
       "\\item '5'\n",
       "\\end{enumerate*}\n"
      ],
      "text/markdown": [
       "1. '8'\n",
       "2. '8'\n",
       "3. '7'\n",
       "4. '6'\n",
       "5. '9'\n",
       "6. '4'\n",
       "7. '9'\n",
       "8. '2'\n",
       "9. '8'\n",
       "10. '5'\n",
       "\n",
       "\n"
      ],
      "text/plain": [
       " [1] \"8\" \"8\" \"7\" \"6\" \"9\" \"4\" \"9\" \"2\" \"8\" \"5\""
      ]
     },
     "metadata": {},
     "output_type": "display_data"
    },
    {
     "data": {
      "text/html": [
       "'numeric'"
      ],
      "text/latex": [
       "'numeric'"
      ],
      "text/markdown": [
       "'numeric'"
      ],
      "text/plain": [
       "[1] \"numeric\""
      ]
     },
     "metadata": {},
     "output_type": "display_data"
    },
    {
     "data": {
      "text/html": [
       "<ol class=list-inline>\n",
       "\t<li>8</li>\n",
       "\t<li>8</li>\n",
       "\t<li>7</li>\n",
       "\t<li>6</li>\n",
       "\t<li>9</li>\n",
       "\t<li>4</li>\n",
       "\t<li>9</li>\n",
       "\t<li>2</li>\n",
       "\t<li>8</li>\n",
       "\t<li>5</li>\n",
       "</ol>\n"
      ],
      "text/latex": [
       "\\begin{enumerate*}\n",
       "\\item 8\n",
       "\\item 8\n",
       "\\item 7\n",
       "\\item 6\n",
       "\\item 9\n",
       "\\item 4\n",
       "\\item 9\n",
       "\\item 2\n",
       "\\item 8\n",
       "\\item 5\n",
       "\\end{enumerate*}\n"
      ],
      "text/markdown": [
       "1. 8\n",
       "2. 8\n",
       "3. 7\n",
       "4. 6\n",
       "5. 9\n",
       "6. 4\n",
       "7. 9\n",
       "8. 2\n",
       "9. 8\n",
       "10. 5\n",
       "\n",
       "\n"
      ],
      "text/plain": [
       " [1] 8 8 7 6 9 4 9 2 8 5"
      ]
     },
     "metadata": {},
     "output_type": "display_data"
    }
   ],
   "source": [
    "scores2[11]\n",
    "scores2[c(1, 10)]\n",
    "scores2[1:10]\n",
    "\n",
    "# taking the first 10 elements from scores2 and convert them back into numbers\n",
    "scores3 = as.numeric(scores[1:10])\n",
    "class(scores3)\n",
    "scores3"
   ]
  },
  {
   "cell_type": "code",
   "execution_count": 57,
   "metadata": {
    "tags": [
     "snippet:1darray3"
    ]
   },
   "outputs": [
    {
     "data": {
      "text/html": [
       "6"
      ],
      "text/latex": [
       "6"
      ],
      "text/markdown": [
       "6"
      ],
      "text/plain": [
       "[1] 6"
      ]
     },
     "metadata": {},
     "output_type": "display_data"
    }
   ],
   "source": [
    "# appending a new value to a vector\n",
    "scores3 = c(scores3, 7)\n",
    "# alternative approach\n",
    "scores3 = append(scores3, 7)\n",
    "\n",
    "# Of course, we could also store it in a different object instead of overwriting the original vector\n",
    "scores4 = c(scores3, 7)\n",
    "# or\n",
    "scores4 = append(scores3, 7)\n",
    "\n",
    "# removing an entry from a vector\n",
    "scores3 = scores3[-11]\n",
    "\n",
    "# creating a vector containing the values 1,2,3,...20 (or -5, -4, ... 5)\n",
    "range1 <- 1:20\n",
    "range2 <- -5:5\n",
    "\n",
    "# more advanced: 0, 0.2, 0.4, ... 1.0 \n",
    "my_sequence = seq(0,1, by=0.2)\n",
    "length(my_sequence)"
   ]
  },
  {
   "cell_type": "code",
   "execution_count": 60,
   "metadata": {
    "tags": [
     "snippet:1darray4"
    ]
   },
   "outputs": [
    {
     "data": {
      "text/html": [
       "'list'"
      ],
      "text/latex": [
       "'list'"
      ],
      "text/markdown": [
       "'list'"
      ],
      "text/plain": [
       "[1] \"list\""
      ]
     },
     "metadata": {},
     "output_type": "display_data"
    },
    {
     "data": {
      "text/html": [
       "4"
      ],
      "text/latex": [
       "4"
      ],
      "text/markdown": [
       "4"
      ],
      "text/plain": [
       "[1] 4"
      ]
     },
     "metadata": {},
     "output_type": "display_data"
    }
   ],
   "source": [
    "my_list <- list(33, 'Twitter', sqrt, c(1,2,3,4))\n",
    "class(my_list)\n",
    "\n",
    "# You can check this is a list of four elements and you can use any of these elements (even the function to get the square root of 16!) using the indexing:\n",
    "my_list[[3]](16)"
   ]
  },
  {
   "cell_type": "code",
   "execution_count": 62,
   "metadata": {
    "tags": [
     "snippet:1darray6"
    ]
   },
   "outputs": [],
   "source": [
    "scores <- c(8, 8, 7, 6, 9, 4, 9, 2, 8, 5)                                                                                 \n",
    "factor_scores <- factor(scores)                                                                                           \n",
    "factor_scores_2 <- factor(scores, levels = c(1,2,3,4,5,6,7,8,9,10), labels = c(\"fail\", \"fail\", \"fail\", \"fail\", \"fail\",\n",
    "\"pass\", \"pass\", \"pass\", \"pass\", \"pass\"))"
   ]
  },
  {
   "cell_type": "code",
   "execution_count": 70,
   "metadata": {
    "tags": [
     "snippet:2darray"
    ]
   },
   "outputs": [
    {
     "name": "stdout",
     "output_type": "stream",
     "text": [
      "[1] 2 3\n",
      "     [,1] [,2] [,3]\n",
      "[1,]    0    0    1\n",
      "[2,]    1    0    1\n",
      "     [,1] [,2] [,3]\n",
      "[1,]    0    1    0\n",
      "[2,]    0    1    1\n",
      "     [,1] [,2] [,3]\n",
      "[1,]    0    1    1\n",
      "[2,]    1    1    2\n"
     ]
    },
    {
     "data": {
      "text/html": [
       "<ol class=list-inline>\n",
       "\t<li>3</li>\n",
       "\t<li>3</li>\n",
       "\t<li>3</li>\n",
       "</ol>\n"
      ],
      "text/latex": [
       "\\begin{enumerate*}\n",
       "\\item 3\n",
       "\\item 3\n",
       "\\item 3\n",
       "\\end{enumerate*}\n"
      ],
      "text/markdown": [
       "1. 3\n",
       "2. 3\n",
       "3. 3\n",
       "\n",
       "\n"
      ],
      "text/plain": [
       "[1] 3 3 3"
      ]
     },
     "metadata": {},
     "output_type": "display_data"
    },
    {
     "name": "stdout",
     "output_type": "stream",
     "text": [
      ", , 1\n",
      "\n",
      "     [,1]     [,2]     [,3]    \n",
      "[1,] \"green\"  \"green\"  \"green\" \n",
      "[2,] \"yellow\" \"yellow\" \"yellow\"\n",
      "[3,] \"red\"    \"red\"    \"red\"   \n",
      "\n",
      ", , 2\n",
      "\n",
      "     [,1]     [,2]     [,3]    \n",
      "[1,] \"green\"  \"green\"  \"green\" \n",
      "[2,] \"yellow\" \"yellow\" \"yellow\"\n",
      "[3,] \"red\"    \"red\"    \"red\"   \n",
      "\n",
      ", , 3\n",
      "\n",
      "     [,1]     [,2]     [,3]    \n",
      "[1,] \"green\"  \"green\"  \"green\" \n",
      "[2,] \"yellow\" \"yellow\" \"yellow\"\n",
      "[3,] \"red\"    \"red\"    \"red\"   \n",
      "\n"
     ]
    }
   ],
   "source": [
    "my_matrix <- matrix( c(0,0,1,1,0,1), nrow = 2, ncol = 3, byrow = TRUE)\n",
    "print(dim(my_matrix))\n",
    "print(my_matrix)\n",
    "\n",
    "my_matrix2 <- matrix( c(0,0,1,1,0,1), nrow = 2, ncol = 3, byrow = FALSE)\n",
    "print(my_matrix2)\n",
    "\n",
    "my_matrix3 = my_matrix + my_matrix2\n",
    "print(my_matrix3)\n",
    "\n",
    "array3d <- array(c('green', 'yellow', 'red'),dim = c(3,3,3))\n",
    "dim(array3d)\n",
    "print(array3d)\n"
   ]
  },
  {
   "cell_type": "code",
   "execution_count": 72,
   "metadata": {
    "tags": [
     "snippet:dataframe1"
    ]
   },
   "outputs": [
    {
     "name": "stdout",
     "output_type": "stream",
     "text": [
      "  age   countries living_abroad\n",
      "1  38 Netherlands         FALSE\n",
      "2  36     Germany          TRUE\n",
      "3  39       Spain          TRUE\n"
     ]
    }
   ],
   "source": [
    "authors = data.frame(age = c(38, 36, 39), countries = c('Netherlands', 'Germany', 'Spain'), living_abroad= c(FALSE, TRUE, TRUE))\n",
    "print(authors)"
   ]
  }
 ],
 "metadata": {
  "celltoolbar": "Tags",
  "kernelspec": {
   "display_name": "R",
   "language": "R",
   "name": "ir"
  },
  "language_info": {
   "codemirror_mode": "r",
   "file_extension": ".r",
   "mimetype": "text/x-r-source",
   "name": "R",
   "pygments_lexer": "r",
   "version": "3.6.2"
  }
 },
 "nbformat": 4,
 "nbformat_minor": 2
}
