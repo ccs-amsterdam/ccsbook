{
 "cells": [
  {
   "cell_type": "code",
   "execution_count": 1,
   "metadata": {
    "tags": [
     "snippet:ch01install",
     "dontrun"
    ]
   },
   "outputs": [
    {
     "name": "stdout",
     "output_type": "stream",
     "text": [
      "Requirement already satisfied: pandas in /home/wva/ccsbook/env/lib/python3.8/site-packages (1.1.4)\r\n",
      "Requirement already satisfied: python-dateutil>=2.7.3 in /home/wva/ccsbook/env/lib/python3.8/site-packages (from pandas) (2.8.1)\r\n",
      "Requirement already satisfied: pytz>=2017.2 in /home/wva/ccsbook/env/lib/python3.8/site-packages (from pandas) (2020.4)\r\n",
      "Requirement already satisfied: numpy>=1.15.4 in /home/wva/ccsbook/env/lib/python3.8/site-packages (from pandas) (1.19.4)\r\n",
      "Requirement already satisfied: six>=1.5 in /home/wva/ccsbook/env/lib/python3.8/site-packages (from python-dateutil>=2.7.3->pandas) (1.15.0)\r\n"
     ]
    }
   ],
   "source": [
    "!pip install pandas"
   ]
  }
 ],
 "metadata": {
  "celltoolbar": "Tags",
  "kernelspec": {
   "display_name": "Python 3",
   "language": "python",
   "name": "python3"
  },
  "language_info": {
   "codemirror_mode": {
    "name": "ipython",
    "version": 3
   },
   "file_extension": ".py",
   "mimetype": "text/x-python",
   "name": "python",
   "nbconvert_exporter": "python",
   "pygments_lexer": "ipython3",
   "version": "3.8.5"
  }
 },
 "nbformat": 4,
 "nbformat_minor": 4
}
