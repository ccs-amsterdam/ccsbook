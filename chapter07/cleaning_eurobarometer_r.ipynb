{
 "cells": [
  {
   "cell_type": "markdown",
   "metadata": {},
   "source": [
    "## Chapter 7. Exploratory data analysis\n",
    "#### Notebook for R. Aditional notebook to clean data and create the file eurobarometer.csv \n",
    "\n",
    "Van Atteveldt, W., Trilling, D. & Arcila, C. (2022). <a href=\"https://cssbook.net\" target=\"_blank\">Computational Analysis of Communication</a>. Wiley.\n",
    "\n",
    "<table align=\"left\">\n",
    "  <td>\n",
    "    <a href=\"https://colab.research.google.com/github/ccs-amsterdam/ccsbook/blob/master/chapter07/cleaning_eurobarometer_r.ipynb\" target=\"_parent\"><img src=\"https://colab.research.google.com/assets/colab-badge.svg\" alt=\"Open In Colab\"/></a>\n",
    "  </td>\n",
    "  <td>\n",
    "</table>"
   ]
  },
  {
   "cell_type": "code",
   "execution_count": 1,
   "metadata": {},
   "outputs": [
    {
     "name": "stderr",
     "output_type": "stream",
     "text": [
      "── \u001b[1mAttaching packages\u001b[22m ─────────────────────────────────────── tidyverse 1.3.1 ──\n",
      "\n",
      "\u001b[32m✔\u001b[39m \u001b[34mggplot2\u001b[39m 3.3.5     \u001b[32m✔\u001b[39m \u001b[34mpurrr  \u001b[39m 0.3.4\n",
      "\u001b[32m✔\u001b[39m \u001b[34mtibble \u001b[39m 3.1.3     \u001b[32m✔\u001b[39m \u001b[34mdplyr  \u001b[39m 1.0.7\n",
      "\u001b[32m✔\u001b[39m \u001b[34mtidyr  \u001b[39m 1.1.3     \u001b[32m✔\u001b[39m \u001b[34mstringr\u001b[39m 1.4.0\n",
      "\u001b[32m✔\u001b[39m \u001b[34mreadr  \u001b[39m 2.1.2     \u001b[32m✔\u001b[39m \u001b[34mforcats\u001b[39m 0.5.1\n",
      "\n",
      "Warning message:\n",
      "“package ‘readr’ was built under R version 4.0.5”\n",
      "── \u001b[1mConflicts\u001b[22m ────────────────────────────────────────── tidyverse_conflicts() ──\n",
      "\u001b[31m✖\u001b[39m \u001b[34mdplyr\u001b[39m::\u001b[32mfilter()\u001b[39m masks \u001b[34mstats\u001b[39m::filter()\n",
      "\u001b[31m✖\u001b[39m \u001b[34mdplyr\u001b[39m::\u001b[32mlag()\u001b[39m    masks \u001b[34mstats\u001b[39m::lag()\n",
      "\n",
      "\u001b[36mℹ\u001b[39m Using \u001b[34m\u001b[34m\"','\"\u001b[34m\u001b[39m as decimal and \u001b[34m\u001b[34m\"'.'\"\u001b[34m\u001b[39m as grouping mark. Use \u001b[30m\u001b[47m\u001b[30m\u001b[47m`read_delim()`\u001b[47m\u001b[30m\u001b[49m\u001b[39m for more control.\n",
      "\n",
      "\u001b[1m\u001b[1mRows: \u001b[1m\u001b[22m\u001b[34m\u001b[34m33193\u001b[34m\u001b[39m \u001b[1m\u001b[1mColumns: \u001b[1m\u001b[22m\u001b[34m\u001b[34m705\u001b[34m\u001b[39m\n",
      "\n",
      "\u001b[36m──\u001b[39m \u001b[1m\u001b[1mColumn specification\u001b[1m\u001b[22m \u001b[36m────────────────────────────────────────────────────────\u001b[39m\n",
      "\u001b[1mDelimiter:\u001b[22m \";\"\n",
      "\u001b[31mchr\u001b[39m (668): studyno1, studyno2, doi, version, edition, survey, tnscntry, coun...\n",
      "\u001b[32mdbl\u001b[39m  (37): caseid, uniqid, serialid, w1, w3, w4, w5, w6, w7, w8, w9, w10, w1...\n",
      "\n",
      "\n",
      "\u001b[36mℹ\u001b[39m Use \u001b[30m\u001b[47m\u001b[30m\u001b[47m`spec()`\u001b[47m\u001b[30m\u001b[49m\u001b[39m to retrieve the full column specification for this data.\n",
      "\u001b[36mℹ\u001b[39m Specify the column types or set \u001b[30m\u001b[47m\u001b[30m\u001b[47m`show_col_types = FALSE`\u001b[47m\u001b[30m\u001b[49m\u001b[39m to quiet this message.\n",
      "\n"
     ]
    },
    {
     "name": "stdout",
     "output_type": "stream",
     "text": [
      "[1] \"Shape of my original data:\"\n"
     ]
    },
    {
     "data": {
      "text/html": [
       "<style>\n",
       ".list-inline {list-style: none; margin:0; padding: 0}\n",
       ".list-inline>li {display: inline-block}\n",
       ".list-inline>li:not(:last-child)::after {content: \"\\00b7\"; padding: 0 .5ex}\n",
       "</style>\n",
       "<ol class=list-inline><li>33193</li><li>705</li></ol>\n"
      ],
      "text/latex": [
       "\\begin{enumerate*}\n",
       "\\item 33193\n",
       "\\item 705\n",
       "\\end{enumerate*}\n"
      ],
      "text/markdown": [
       "1. 33193\n",
       "2. 705\n",
       "\n",
       "\n"
      ],
      "text/plain": [
       "[1] 33193   705"
      ]
     },
     "metadata": {},
     "output_type": "display_data"
    },
    {
     "name": "stdout",
     "output_type": "stream",
     "text": [
      "[1] \"Shape of my filtered data:\"\n",
      "[1] 33193    13\n",
      "[1] \"Variables:\"\n",
      " [1] \"survey\"                \"uniqid\"                \"date\"                 \n",
      " [4] \"country\"               \"marital_status\"        \"educational\"          \n",
      " [7] \"gender\"                \"age\"                   \"occupation\"           \n",
      "[10] \"type_community\"        \"household_composition\" \"support_refugees\"     \n",
      "[13] \"support_migrants\"     \n"
     ]
    }
   ],
   "source": [
    "library(tidyverse)\n",
    "url=\"https://media.githubusercontent.com/media/ccs-amsterdam/ccsbook/master/docs/d/ZA6928_v1-0-0.csv\"\n",
    "d= read_csv2(url, col_names = TRUE)\n",
    "print(\"Shape of my original data:\")\n",
    "dim(d)\n",
    "\n",
    "#Select and rename columns\n",
    "d2 = d %>%  select (survey, uniqid, p1, tnscntry, d7, d8, d10, d11, d15a, d25, d40a, qd9_4, qd9_1)\n",
    "d2 = d2 %>% rename (date = p1, country = tnscntry, marital_status = d7, educational = 'd8', gender = d10, age = d11, occupation = d15a, type_community = d25, household_composition = 'd40a', support_refugees = 'qd9_4', support_migrants = 'qd9_1')\n",
    "\n",
    "print(\"Shape of my filtered data:\")\n",
    "print(dim(d2))\n",
    "\n",
    "print(\"Variables:\")\n",
    "print(names(d2))"
   ]
  },
  {
   "cell_type": "code",
   "execution_count": 2,
   "metadata": {},
   "outputs": [
    {
     "name": "stderr",
     "output_type": "stream",
     "text": [
      "Warning message in eval(expr, envir, enclos):\n",
      "“NAs introducidos por coerción”\n",
      "Warning message in eval(expr, envir, enclos):\n",
      "“NAs introducidos por coerción”\n"
     ]
    }
   ],
   "source": [
    "#Replace some categories by missing values\n",
    "d2$support_refugees = na_if(d2$support_refugees, \"DK\")\n",
    "d2$support_refugees = na_if(d2$support_refugees, 'Inap. (not 1 in eu28)')\n",
    "\n",
    "#Replace age values to correct strings and convert to numeric\n",
    "d2$age =  recode(d2$age, \"15 years\" = \"15\")\n",
    "d2$age =  recode(d2$age, \"98 years\" = \"98\")\n",
    "d2$age =  recode(d2$age, \"99 years (and older)\" = \"99\")\n",
    "d2$age =  as.numeric(d2$age)\n",
    "\n",
    "#We transform date, support_refugees and support_migrants into new numerical variables\n",
    "\n",
    "#Days in order\n",
    "d2$date_n = d2$date\n",
    "d2$date_n =  recode(d2$date_n, \"Sunday, 5th November 2017\" = '1')\n",
    "d2$date_n =  recode(d2$date_n, \"Monday, 6th November 2017\" = '2')\n",
    "d2$date_n =  recode(d2$date_n, \"Tuesday, 7th November 2017\" = '3')\n",
    "d2$date_n =  recode(d2$date_n, \"Wednesday, 8th November 2017\" = '4')\n",
    "d2$date_n =  recode(d2$date_n, \"Thursday, 9th November 2017\" = '5')\n",
    "d2$date_n =  recode(d2$date_n, \"Friday, 10th November 2017\" = '6')\n",
    "d2$date_n =  recode(d2$date_n, \"Saturday, 11th November 2017\" = '7')\n",
    "d2$date_n =  recode(d2$date_n, \"Sunday, 12th November 2017\" = '8')\n",
    "d2$date_n =  recode(d2$date_n, \"Monday, 13th November 2017\" = '9')\n",
    "d2$date_n =  recode(d2$date_n, \"Tuesday, 14th November 2017\" = '10')\n",
    "d2$date_n =  as.numeric(d2$date_n)\n",
    "\n",
    "#Level of support to refugees from 1 to 4\n",
    "d2$support_refugees_n = d2$support_refugees\n",
    "d2$support_refugees_n =  recode(d2$support_refugees_n, \"Totally disagree\" = \"1\")\n",
    "d2$support_refugees_n =  recode(d2$support_refugees_n, \"Tend to disagree\" = \"2\")\n",
    "d2$support_refugees_n =  recode(d2$support_refugees_n, \"Tend to agree\" = \"3\")\n",
    "d2$support_refugees_n =  recode(d2$support_refugees_n, \"Totally agree\" = \"4\")\n",
    "d2$support_refugees_n =  as.numeric(d2$support_refugees_n)\n",
    "\n",
    "#Level of support to migrants from 1 to 4\n",
    "d2$support_migrants_n = d2$support_migrants\n",
    "d2$support_migrants_n =  recode(d2$support_migrants_n, \"Totally disagree\" = \"1\")\n",
    "d2$support_migrants_n =  recode(d2$support_migrants_n, \"Tend to disagree\" = \"2\")\n",
    "d2$support_migrants_n =  recode(d2$support_migrants_n, \"Tend to agree\" = \"3\")\n",
    "d2$support_migrants_n =  recode(d2$support_migrants_n, \"Totally agree\" = \"4\")\n",
    "d2$support_migrants_n =  as.numeric(d2$support_migrants_n)\n",
    "\n",
    "#Recode country names to standard names of the library maps\n",
    "d2$country =  recode(d2$country, \"ÖSTERREICH\" = \"Austria\")\n",
    "d2$country =  recode(d2$country, \"ITALIA\" = \"Italy\")\n",
    "d2$country =  recode(d2$country, \"BELGIQUE\" = \"Belgium\")\n",
    "d2$country =  recode(d2$country, \"PORTUGAL\" = \"Portugal\")\n",
    "d2$country =  recode(d2$country, \"ESPANA\" = \"Spain\")\n",
    "d2$country =  recode(d2$country, \"FRANCE\" = \"France\")\n",
    "d2$country =  recode(d2$country, \"ÖSTERREICH\" = \"Austria\")\n",
    "d2$country =  recode(d2$country, \"DANMARK\" = \"Denmark\")\n",
    "d2$country =  recode(d2$country, \"HRVATSKA\" = \"Croatia\")\n",
    "d2$country =  recode(d2$country, \"DEUTSCHLAND WEST\" = \"Germany\")\n",
    "d2$country =  recode(d2$country, \"DEUTSCHLAND OST\" = \"Germany\")\n",
    "d2$country =  recode(d2$country, \"GREAT BRITAIN\" = \"UK\")\n",
    "d2$country =  recode(d2$country, \"NORTHERN IRELAND\" = \"UK\")\n",
    "d2$country =  recode(d2$country, \"NEDERLAND\" = \"Netherlands\")\n",
    "d2$country =  recode(d2$country, \"POLSKA\" = \"Poland\")\n",
    "d2$country =  recode(d2$country, \"SLOVENIJA\" = \"Slovenia\")\n",
    "d2$country =  recode(d2$country, \"CESKA REPUBLIKA\" = \"Czech republic\")\n",
    "d2$country =  recode(d2$country, \"SLOVENSKA REPUBLIC\" = \"Slovakia\")\n",
    "d2$country =  recode(d2$country, \"MAGYARORSZAG\" = \"Hungary\")\n",
    "d2$country =  recode(d2$country, \"ELLADA\" = \"Greece\")\n",
    "d2$country =  recode(d2$country, \"SUOMI\" = \"Finland\")\n",
    "d2$country =  recode(d2$country, \"IRELAND\" = \"Ireland\")\n",
    "d2$country =  recode(d2$country, \"LUXEMBOURG\" = \"Luxemburg\")\n",
    "d2$country =  recode(d2$country, \"SVERIGE\" = \"Sweden\")\n",
    "d2$country =  recode(d2$country, \"BALGARIJA\" = \"Bulgaria\")\n",
    "d2$country =  recode(d2$country, \"LATVIA\" = \"Latvia\")\n",
    "d2$country =  recode(d2$country, \"EESTI\" = \"Estonia\")\n",
    "d2$country =  recode(d2$country, \"LIETUVA\" = \"Lithuania\")\n",
    "d2$country =  recode(d2$country, \"MALTA\" = \"Malta\")\n",
    "d2$country =  recode(d2$country, \"ROMANIA\" = \"Romania\")\n",
    "d2$country =  recode(d2$country, \"KYPROS\" = \"Cyprus\")\n",
    "\n",
    "#transform educational into continuous\n",
    "d2$educational_n = d2$educational\n",
    "d2$educational_n = na_if(d2$educational_n, \"DK\")\n",
    "d2$educational_n = na_if(d2$educational_n, \"Still studying\")\n",
    "d2$educational_n = na_if(d2$educational_n, \"No full-time education\")\n",
    "d2$educational_n = na_if(d2$educational_n, \"Refusal\")\n",
    "d2$educational_n =  recode(d2$educational_n, \"2 years\" = \"2\")\n",
    "d2$educational_n =  recode(d2$educational_n, \"75 years\" = \"75\")\n",
    "d2$educational_n =  as.numeric(d2$educational_n)"
   ]
  },
  {
   "cell_type": "code",
   "execution_count": 15,
   "metadata": {},
   "outputs": [],
   "source": [
    "#Save to csv in a file\n",
    "#write.csv(d2,\"eurobarom_nov_2017.csv\", row.names = FALSE)"
   ]
  }
 ],
 "metadata": {
  "kernelspec": {
   "display_name": "R",
   "language": "R",
   "name": "ir"
  },
  "language_info": {
   "codemirror_mode": "r",
   "file_extension": ".r",
   "mimetype": "text/x-r-source",
   "name": "R",
   "pygments_lexer": "r",
   "version": "4.0.3"
  }
 },
 "nbformat": 4,
 "nbformat_minor": 2
}
